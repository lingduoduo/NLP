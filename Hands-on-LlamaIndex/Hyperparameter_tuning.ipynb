{
  "nbformat": 4,
  "nbformat_minor": 0,
  "metadata": {
    "colab": {
      "provenance": [],
      "gpuType": "T4"
    },
    "kernelspec": {
      "name": "python3",
      "display_name": "Python 3"
    },
    "language_info": {
      "name": "python"
    },
    "accelerator": "GPU",
    "widgets": {
      "application/vnd.jupyter.widget-state+json": {
        "9993ba9a3bb24c40960e5c4731a8c9ab": {
          "model_module": "@jupyter-widgets/controls",
          "model_name": "HBoxModel",
          "model_module_version": "1.5.0",
          "state": {
            "_dom_classes": [],
            "_model_module": "@jupyter-widgets/controls",
            "_model_module_version": "1.5.0",
            "_model_name": "HBoxModel",
            "_view_count": null,
            "_view_module": "@jupyter-widgets/controls",
            "_view_module_version": "1.5.0",
            "_view_name": "HBoxView",
            "box_style": "",
            "children": [
              "IPY_MODEL_13cf9e8fd73744e18d509a693cf8e553",
              "IPY_MODEL_4c289aa7530a43fcbd5bb0ebc53e19af",
              "IPY_MODEL_7a0a081c6b544e0687c7807353b3ee0d"
            ],
            "layout": "IPY_MODEL_3fc9f95ca4814b52a010aa40c12ba3b5"
          }
        },
        "13cf9e8fd73744e18d509a693cf8e553": {
          "model_module": "@jupyter-widgets/controls",
          "model_name": "HTMLModel",
          "model_module_version": "1.5.0",
          "state": {
            "_dom_classes": [],
            "_model_module": "@jupyter-widgets/controls",
            "_model_module_version": "1.5.0",
            "_model_name": "HTMLModel",
            "_view_count": null,
            "_view_module": "@jupyter-widgets/controls",
            "_view_module_version": "1.5.0",
            "_view_name": "HTMLView",
            "description": "",
            "description_tooltip": null,
            "layout": "IPY_MODEL_58b2cc92444c43f58fd1d025264a09f5",
            "placeholder": "​",
            "style": "IPY_MODEL_4b6dd84400d549e29a1fcade28241d79",
            "value": "Param combinations.: 100%"
          }
        },
        "4c289aa7530a43fcbd5bb0ebc53e19af": {
          "model_module": "@jupyter-widgets/controls",
          "model_name": "FloatProgressModel",
          "model_module_version": "1.5.0",
          "state": {
            "_dom_classes": [],
            "_model_module": "@jupyter-widgets/controls",
            "_model_module_version": "1.5.0",
            "_model_name": "FloatProgressModel",
            "_view_count": null,
            "_view_module": "@jupyter-widgets/controls",
            "_view_module_version": "1.5.0",
            "_view_name": "ProgressView",
            "bar_style": "success",
            "description": "",
            "description_tooltip": null,
            "layout": "IPY_MODEL_c4de151fb81948538d85cca5ae41de72",
            "max": 4,
            "min": 0,
            "orientation": "horizontal",
            "style": "IPY_MODEL_2df84e5375784b10ad1e90c68ee1ae37",
            "value": 4
          }
        },
        "7a0a081c6b544e0687c7807353b3ee0d": {
          "model_module": "@jupyter-widgets/controls",
          "model_name": "HTMLModel",
          "model_module_version": "1.5.0",
          "state": {
            "_dom_classes": [],
            "_model_module": "@jupyter-widgets/controls",
            "_model_module_version": "1.5.0",
            "_model_name": "HTMLModel",
            "_view_count": null,
            "_view_module": "@jupyter-widgets/controls",
            "_view_module_version": "1.5.0",
            "_view_name": "HTMLView",
            "description": "",
            "description_tooltip": null,
            "layout": "IPY_MODEL_e50ab53c44ce4837a96b8f2073497f28",
            "placeholder": "​",
            "style": "IPY_MODEL_8df3bc25476847468f8a5fbe9abfd08e",
            "value": " 4/4 [00:44&lt;00:00, 10.93s/it]"
          }
        },
        "3fc9f95ca4814b52a010aa40c12ba3b5": {
          "model_module": "@jupyter-widgets/base",
          "model_name": "LayoutModel",
          "model_module_version": "1.2.0",
          "state": {
            "_model_module": "@jupyter-widgets/base",
            "_model_module_version": "1.2.0",
            "_model_name": "LayoutModel",
            "_view_count": null,
            "_view_module": "@jupyter-widgets/base",
            "_view_module_version": "1.2.0",
            "_view_name": "LayoutView",
            "align_content": null,
            "align_items": null,
            "align_self": null,
            "border": null,
            "bottom": null,
            "display": null,
            "flex": null,
            "flex_flow": null,
            "grid_area": null,
            "grid_auto_columns": null,
            "grid_auto_flow": null,
            "grid_auto_rows": null,
            "grid_column": null,
            "grid_gap": null,
            "grid_row": null,
            "grid_template_areas": null,
            "grid_template_columns": null,
            "grid_template_rows": null,
            "height": null,
            "justify_content": null,
            "justify_items": null,
            "left": null,
            "margin": null,
            "max_height": null,
            "max_width": null,
            "min_height": null,
            "min_width": null,
            "object_fit": null,
            "object_position": null,
            "order": null,
            "overflow": null,
            "overflow_x": null,
            "overflow_y": null,
            "padding": null,
            "right": null,
            "top": null,
            "visibility": null,
            "width": null
          }
        },
        "58b2cc92444c43f58fd1d025264a09f5": {
          "model_module": "@jupyter-widgets/base",
          "model_name": "LayoutModel",
          "model_module_version": "1.2.0",
          "state": {
            "_model_module": "@jupyter-widgets/base",
            "_model_module_version": "1.2.0",
            "_model_name": "LayoutModel",
            "_view_count": null,
            "_view_module": "@jupyter-widgets/base",
            "_view_module_version": "1.2.0",
            "_view_name": "LayoutView",
            "align_content": null,
            "align_items": null,
            "align_self": null,
            "border": null,
            "bottom": null,
            "display": null,
            "flex": null,
            "flex_flow": null,
            "grid_area": null,
            "grid_auto_columns": null,
            "grid_auto_flow": null,
            "grid_auto_rows": null,
            "grid_column": null,
            "grid_gap": null,
            "grid_row": null,
            "grid_template_areas": null,
            "grid_template_columns": null,
            "grid_template_rows": null,
            "height": null,
            "justify_content": null,
            "justify_items": null,
            "left": null,
            "margin": null,
            "max_height": null,
            "max_width": null,
            "min_height": null,
            "min_width": null,
            "object_fit": null,
            "object_position": null,
            "order": null,
            "overflow": null,
            "overflow_x": null,
            "overflow_y": null,
            "padding": null,
            "right": null,
            "top": null,
            "visibility": null,
            "width": null
          }
        },
        "4b6dd84400d549e29a1fcade28241d79": {
          "model_module": "@jupyter-widgets/controls",
          "model_name": "DescriptionStyleModel",
          "model_module_version": "1.5.0",
          "state": {
            "_model_module": "@jupyter-widgets/controls",
            "_model_module_version": "1.5.0",
            "_model_name": "DescriptionStyleModel",
            "_view_count": null,
            "_view_module": "@jupyter-widgets/base",
            "_view_module_version": "1.2.0",
            "_view_name": "StyleView",
            "description_width": ""
          }
        },
        "c4de151fb81948538d85cca5ae41de72": {
          "model_module": "@jupyter-widgets/base",
          "model_name": "LayoutModel",
          "model_module_version": "1.2.0",
          "state": {
            "_model_module": "@jupyter-widgets/base",
            "_model_module_version": "1.2.0",
            "_model_name": "LayoutModel",
            "_view_count": null,
            "_view_module": "@jupyter-widgets/base",
            "_view_module_version": "1.2.0",
            "_view_name": "LayoutView",
            "align_content": null,
            "align_items": null,
            "align_self": null,
            "border": null,
            "bottom": null,
            "display": null,
            "flex": null,
            "flex_flow": null,
            "grid_area": null,
            "grid_auto_columns": null,
            "grid_auto_flow": null,
            "grid_auto_rows": null,
            "grid_column": null,
            "grid_gap": null,
            "grid_row": null,
            "grid_template_areas": null,
            "grid_template_columns": null,
            "grid_template_rows": null,
            "height": null,
            "justify_content": null,
            "justify_items": null,
            "left": null,
            "margin": null,
            "max_height": null,
            "max_width": null,
            "min_height": null,
            "min_width": null,
            "object_fit": null,
            "object_position": null,
            "order": null,
            "overflow": null,
            "overflow_x": null,
            "overflow_y": null,
            "padding": null,
            "right": null,
            "top": null,
            "visibility": null,
            "width": null
          }
        },
        "2df84e5375784b10ad1e90c68ee1ae37": {
          "model_module": "@jupyter-widgets/controls",
          "model_name": "ProgressStyleModel",
          "model_module_version": "1.5.0",
          "state": {
            "_model_module": "@jupyter-widgets/controls",
            "_model_module_version": "1.5.0",
            "_model_name": "ProgressStyleModel",
            "_view_count": null,
            "_view_module": "@jupyter-widgets/base",
            "_view_module_version": "1.2.0",
            "_view_name": "StyleView",
            "bar_color": null,
            "description_width": ""
          }
        },
        "e50ab53c44ce4837a96b8f2073497f28": {
          "model_module": "@jupyter-widgets/base",
          "model_name": "LayoutModel",
          "model_module_version": "1.2.0",
          "state": {
            "_model_module": "@jupyter-widgets/base",
            "_model_module_version": "1.2.0",
            "_model_name": "LayoutModel",
            "_view_count": null,
            "_view_module": "@jupyter-widgets/base",
            "_view_module_version": "1.2.0",
            "_view_name": "LayoutView",
            "align_content": null,
            "align_items": null,
            "align_self": null,
            "border": null,
            "bottom": null,
            "display": null,
            "flex": null,
            "flex_flow": null,
            "grid_area": null,
            "grid_auto_columns": null,
            "grid_auto_flow": null,
            "grid_auto_rows": null,
            "grid_column": null,
            "grid_gap": null,
            "grid_row": null,
            "grid_template_areas": null,
            "grid_template_columns": null,
            "grid_template_rows": null,
            "height": null,
            "justify_content": null,
            "justify_items": null,
            "left": null,
            "margin": null,
            "max_height": null,
            "max_width": null,
            "min_height": null,
            "min_width": null,
            "object_fit": null,
            "object_position": null,
            "order": null,
            "overflow": null,
            "overflow_x": null,
            "overflow_y": null,
            "padding": null,
            "right": null,
            "top": null,
            "visibility": null,
            "width": null
          }
        },
        "8df3bc25476847468f8a5fbe9abfd08e": {
          "model_module": "@jupyter-widgets/controls",
          "model_name": "DescriptionStyleModel",
          "model_module_version": "1.5.0",
          "state": {
            "_model_module": "@jupyter-widgets/controls",
            "_model_module_version": "1.5.0",
            "_model_name": "DescriptionStyleModel",
            "_view_count": null,
            "_view_module": "@jupyter-widgets/base",
            "_view_module_version": "1.2.0",
            "_view_name": "StyleView",
            "description_width": ""
          }
        }
      }
    }
  },
  "cells": [
    {
      "cell_type": "markdown",
      "source": [
        "# Hyperparameter Tuning for a Single Doc RAG"
      ],
      "metadata": {
        "id": "YTyvoKy7zbUT"
      }
    },
    {
      "cell_type": "code",
      "source": [
        "!pip install llama_index==0.9.3 pypdf"
      ],
      "metadata": {
        "colab": {
          "base_uri": "https://localhost:8080/"
        },
        "id": "gZhtMcUkhCRn",
        "outputId": "9eea1662-ec8f-4759-f42c-c8d406b129f7"
      },
      "execution_count": 1,
      "outputs": [
        {
          "output_type": "stream",
          "name": "stdout",
          "text": [
            "Collecting llama_index==0.9.3\n",
            "  Downloading llama_index-0.9.3-py3-none-any.whl (886 kB)\n",
            "\u001b[2K     \u001b[90m━━━━━━━━━━━━━━━━━━━━━━━━━━━━━━━━━━━━━━━━\u001b[0m \u001b[32m886.7/886.7 kB\u001b[0m \u001b[31m6.7 MB/s\u001b[0m eta \u001b[36m0:00:00\u001b[0m\n",
            "\u001b[?25hCollecting pypdf\n",
            "  Downloading pypdf-4.2.0-py3-none-any.whl (290 kB)\n",
            "\u001b[2K     \u001b[90m━━━━━━━━━━━━━━━━━━━━━━━━━━━━━━━━━━━━━━━━\u001b[0m \u001b[32m290.4/290.4 kB\u001b[0m \u001b[31m14.7 MB/s\u001b[0m eta \u001b[36m0:00:00\u001b[0m\n",
            "\u001b[?25hRequirement already satisfied: SQLAlchemy[asyncio]>=1.4.49 in /usr/local/lib/python3.10/dist-packages (from llama_index==0.9.3) (2.0.31)\n",
            "Requirement already satisfied: aiohttp<4.0.0,>=3.8.6 in /usr/local/lib/python3.10/dist-packages (from llama_index==0.9.3) (3.9.5)\n",
            "Collecting aiostream<0.6.0,>=0.5.2 (from llama_index==0.9.3)\n",
            "  Downloading aiostream-0.5.2-py3-none-any.whl (39 kB)\n",
            "Requirement already satisfied: beautifulsoup4<5.0.0,>=4.12.2 in /usr/local/lib/python3.10/dist-packages (from llama_index==0.9.3) (4.12.3)\n",
            "Collecting dataclasses-json<0.6.0,>=0.5.7 (from llama_index==0.9.3)\n",
            "  Downloading dataclasses_json-0.5.14-py3-none-any.whl (26 kB)\n",
            "Collecting deprecated>=1.2.9.3 (from llama_index==0.9.3)\n",
            "  Downloading Deprecated-1.2.14-py2.py3-none-any.whl (9.6 kB)\n",
            "Requirement already satisfied: fsspec>=2023.5.0 in /usr/local/lib/python3.10/dist-packages (from llama_index==0.9.3) (2023.6.0)\n",
            "Collecting httpx (from llama_index==0.9.3)\n",
            "  Downloading httpx-0.27.0-py3-none-any.whl (75 kB)\n",
            "\u001b[2K     \u001b[90m━━━━━━━━━━━━━━━━━━━━━━━━━━━━━━━━━━━━━━━━\u001b[0m \u001b[32m75.6/75.6 kB\u001b[0m \u001b[31m5.3 MB/s\u001b[0m eta \u001b[36m0:00:00\u001b[0m\n",
            "\u001b[?25hRequirement already satisfied: nest-asyncio<2.0.0,>=1.5.8 in /usr/local/lib/python3.10/dist-packages (from llama_index==0.9.3) (1.6.0)\n",
            "Requirement already satisfied: nltk<4.0.0,>=3.8.1 in /usr/local/lib/python3.10/dist-packages (from llama_index==0.9.3) (3.8.1)\n",
            "Requirement already satisfied: numpy in /usr/local/lib/python3.10/dist-packages (from llama_index==0.9.3) (1.25.2)\n",
            "Collecting openai>=1.1.0 (from llama_index==0.9.3)\n",
            "  Downloading openai-1.35.13-py3-none-any.whl (328 kB)\n",
            "\u001b[2K     \u001b[90m━━━━━━━━━━━━━━━━━━━━━━━━━━━━━━━━━━━━━━━━\u001b[0m \u001b[32m328.5/328.5 kB\u001b[0m \u001b[31m17.7 MB/s\u001b[0m eta \u001b[36m0:00:00\u001b[0m\n",
            "\u001b[?25hRequirement already satisfied: pandas[jinja2] in /usr/local/lib/python3.10/dist-packages (from llama_index==0.9.3) (2.0.3)\n",
            "Requirement already satisfied: tenacity<9.0.0,>=8.2.0 in /usr/local/lib/python3.10/dist-packages (from llama_index==0.9.3) (8.4.2)\n",
            "Collecting tiktoken>=0.3.3 (from llama_index==0.9.3)\n",
            "  Downloading tiktoken-0.7.0-cp310-cp310-manylinux_2_17_x86_64.manylinux2014_x86_64.whl (1.1 MB)\n",
            "\u001b[2K     \u001b[90m━━━━━━━━━━━━━━━━━━━━━━━━━━━━━━━━━━━━━━━━\u001b[0m \u001b[32m1.1/1.1 MB\u001b[0m \u001b[31m10.5 MB/s\u001b[0m eta \u001b[36m0:00:00\u001b[0m\n",
            "\u001b[?25hRequirement already satisfied: typing-extensions>=4.5.0 in /usr/local/lib/python3.10/dist-packages (from llama_index==0.9.3) (4.12.2)\n",
            "Collecting typing-inspect>=0.8.0 (from llama_index==0.9.3)\n",
            "  Downloading typing_inspect-0.9.0-py3-none-any.whl (8.8 kB)\n",
            "Collecting urllib3<2 (from llama_index==0.9.3)\n",
            "  Downloading urllib3-1.26.19-py2.py3-none-any.whl (143 kB)\n",
            "\u001b[2K     \u001b[90m━━━━━━━━━━━━━━━━━━━━━━━━━━━━━━━━━━━━━━━━\u001b[0m \u001b[32m143.9/143.9 kB\u001b[0m \u001b[31m12.9 MB/s\u001b[0m eta \u001b[36m0:00:00\u001b[0m\n",
            "\u001b[?25hRequirement already satisfied: aiosignal>=1.1.2 in /usr/local/lib/python3.10/dist-packages (from aiohttp<4.0.0,>=3.8.6->llama_index==0.9.3) (1.3.1)\n",
            "Requirement already satisfied: attrs>=17.3.0 in /usr/local/lib/python3.10/dist-packages (from aiohttp<4.0.0,>=3.8.6->llama_index==0.9.3) (23.2.0)\n",
            "Requirement already satisfied: frozenlist>=1.1.1 in /usr/local/lib/python3.10/dist-packages (from aiohttp<4.0.0,>=3.8.6->llama_index==0.9.3) (1.4.1)\n",
            "Requirement already satisfied: multidict<7.0,>=4.5 in /usr/local/lib/python3.10/dist-packages (from aiohttp<4.0.0,>=3.8.6->llama_index==0.9.3) (6.0.5)\n",
            "Requirement already satisfied: yarl<2.0,>=1.0 in /usr/local/lib/python3.10/dist-packages (from aiohttp<4.0.0,>=3.8.6->llama_index==0.9.3) (1.9.4)\n",
            "Requirement already satisfied: async-timeout<5.0,>=4.0 in /usr/local/lib/python3.10/dist-packages (from aiohttp<4.0.0,>=3.8.6->llama_index==0.9.3) (4.0.3)\n",
            "Requirement already satisfied: soupsieve>1.2 in /usr/local/lib/python3.10/dist-packages (from beautifulsoup4<5.0.0,>=4.12.2->llama_index==0.9.3) (2.5)\n",
            "Collecting marshmallow<4.0.0,>=3.18.0 (from dataclasses-json<0.6.0,>=0.5.7->llama_index==0.9.3)\n",
            "  Downloading marshmallow-3.21.3-py3-none-any.whl (49 kB)\n",
            "\u001b[2K     \u001b[90m━━━━━━━━━━━━━━━━━━━━━━━━━━━━━━━━━━━━━━━━\u001b[0m \u001b[32m49.2/49.2 kB\u001b[0m \u001b[31m1.6 MB/s\u001b[0m eta \u001b[36m0:00:00\u001b[0m\n",
            "\u001b[?25hRequirement already satisfied: wrapt<2,>=1.10 in /usr/local/lib/python3.10/dist-packages (from deprecated>=1.2.9.3->llama_index==0.9.3) (1.14.1)\n",
            "Requirement already satisfied: click in /usr/local/lib/python3.10/dist-packages (from nltk<4.0.0,>=3.8.1->llama_index==0.9.3) (8.1.7)\n",
            "Requirement already satisfied: joblib in /usr/local/lib/python3.10/dist-packages (from nltk<4.0.0,>=3.8.1->llama_index==0.9.3) (1.4.2)\n",
            "Requirement already satisfied: regex>=2021.8.3 in /usr/local/lib/python3.10/dist-packages (from nltk<4.0.0,>=3.8.1->llama_index==0.9.3) (2024.5.15)\n",
            "Requirement already satisfied: tqdm in /usr/local/lib/python3.10/dist-packages (from nltk<4.0.0,>=3.8.1->llama_index==0.9.3) (4.66.4)\n",
            "Requirement already satisfied: anyio<5,>=3.5.0 in /usr/local/lib/python3.10/dist-packages (from openai>=1.1.0->llama_index==0.9.3) (3.7.1)\n",
            "Requirement already satisfied: distro<2,>=1.7.0 in /usr/lib/python3/dist-packages (from openai>=1.1.0->llama_index==0.9.3) (1.7.0)\n",
            "Requirement already satisfied: pydantic<3,>=1.9.0 in /usr/local/lib/python3.10/dist-packages (from openai>=1.1.0->llama_index==0.9.3) (2.8.0)\n",
            "Requirement already satisfied: sniffio in /usr/local/lib/python3.10/dist-packages (from openai>=1.1.0->llama_index==0.9.3) (1.3.1)\n",
            "Requirement already satisfied: certifi in /usr/local/lib/python3.10/dist-packages (from httpx->llama_index==0.9.3) (2024.6.2)\n",
            "Collecting httpcore==1.* (from httpx->llama_index==0.9.3)\n",
            "  Downloading httpcore-1.0.5-py3-none-any.whl (77 kB)\n",
            "\u001b[2K     \u001b[90m━━━━━━━━━━━━━━━━━━━━━━━━━━━━━━━━━━━━━━━━\u001b[0m \u001b[32m77.9/77.9 kB\u001b[0m \u001b[31m5.3 MB/s\u001b[0m eta \u001b[36m0:00:00\u001b[0m\n",
            "\u001b[?25hRequirement already satisfied: idna in /usr/local/lib/python3.10/dist-packages (from httpx->llama_index==0.9.3) (3.7)\n",
            "Collecting h11<0.15,>=0.13 (from httpcore==1.*->httpx->llama_index==0.9.3)\n",
            "  Downloading h11-0.14.0-py3-none-any.whl (58 kB)\n",
            "\u001b[2K     \u001b[90m━━━━━━━━━━━━━━━━━━━━━━━━━━━━━━━━━━━━━━━━\u001b[0m \u001b[32m58.3/58.3 kB\u001b[0m \u001b[31m6.2 MB/s\u001b[0m eta \u001b[36m0:00:00\u001b[0m\n",
            "\u001b[?25hRequirement already satisfied: greenlet!=0.4.17 in /usr/local/lib/python3.10/dist-packages (from SQLAlchemy[asyncio]>=1.4.49->llama_index==0.9.3) (3.0.3)\n",
            "Requirement already satisfied: requests>=2.26.0 in /usr/local/lib/python3.10/dist-packages (from tiktoken>=0.3.3->llama_index==0.9.3) (2.31.0)\n",
            "Collecting mypy-extensions>=0.3.0 (from typing-inspect>=0.8.0->llama_index==0.9.3)\n",
            "  Downloading mypy_extensions-1.0.0-py3-none-any.whl (4.7 kB)\n",
            "\u001b[33mWARNING: pandas 2.0.3 does not provide the extra 'jinja2'\u001b[0m\u001b[33m\n",
            "\u001b[0mRequirement already satisfied: python-dateutil>=2.8.2 in /usr/local/lib/python3.10/dist-packages (from pandas[jinja2]->llama_index==0.9.3) (2.8.2)\n",
            "Requirement already satisfied: pytz>=2020.1 in /usr/local/lib/python3.10/dist-packages (from pandas[jinja2]->llama_index==0.9.3) (2023.4)\n",
            "Requirement already satisfied: tzdata>=2022.1 in /usr/local/lib/python3.10/dist-packages (from pandas[jinja2]->llama_index==0.9.3) (2024.1)\n",
            "Requirement already satisfied: exceptiongroup in /usr/local/lib/python3.10/dist-packages (from anyio<5,>=3.5.0->openai>=1.1.0->llama_index==0.9.3) (1.2.1)\n",
            "Requirement already satisfied: packaging>=17.0 in /usr/local/lib/python3.10/dist-packages (from marshmallow<4.0.0,>=3.18.0->dataclasses-json<0.6.0,>=0.5.7->llama_index==0.9.3) (24.1)\n",
            "Requirement already satisfied: annotated-types>=0.4.0 in /usr/local/lib/python3.10/dist-packages (from pydantic<3,>=1.9.0->openai>=1.1.0->llama_index==0.9.3) (0.7.0)\n",
            "Requirement already satisfied: pydantic-core==2.20.0 in /usr/local/lib/python3.10/dist-packages (from pydantic<3,>=1.9.0->openai>=1.1.0->llama_index==0.9.3) (2.20.0)\n",
            "Requirement already satisfied: six>=1.5 in /usr/local/lib/python3.10/dist-packages (from python-dateutil>=2.8.2->pandas[jinja2]->llama_index==0.9.3) (1.16.0)\n",
            "Requirement already satisfied: charset-normalizer<4,>=2 in /usr/local/lib/python3.10/dist-packages (from requests>=2.26.0->tiktoken>=0.3.3->llama_index==0.9.3) (3.3.2)\n",
            "Installing collected packages: urllib3, pypdf, mypy-extensions, marshmallow, h11, deprecated, aiostream, typing-inspect, httpcore, tiktoken, httpx, dataclasses-json, openai, llama_index\n",
            "  Attempting uninstall: urllib3\n",
            "    Found existing installation: urllib3 2.0.7\n",
            "    Uninstalling urllib3-2.0.7:\n",
            "      Successfully uninstalled urllib3-2.0.7\n",
            "Successfully installed aiostream-0.5.2 dataclasses-json-0.5.14 deprecated-1.2.14 h11-0.14.0 httpcore-1.0.5 httpx-0.27.0 llama_index-0.9.3 marshmallow-3.21.3 mypy-extensions-1.0.0 openai-1.35.13 pypdf-4.2.0 tiktoken-0.7.0 typing-inspect-0.9.0 urllib3-1.26.19\n"
          ]
        }
      ]
    },
    {
      "cell_type": "markdown",
      "source": [
        "## Load document"
      ],
      "metadata": {
        "id": "PlYCrikd0WNr"
      }
    },
    {
      "cell_type": "code",
      "source": [
        "import os, openai, logging, sys\n",
        "import nest_asyncio\n",
        "\n",
        "nest_asyncio.apply()\n",
        "\n",
        "OPENAI_API_KEY = \"sk-proj-P0mDHUpLLV9nEr8uDco7T3BlbkFJNs6w0tiJKmd76aLVqMZk\"\n",
        "os.environ['OPENAI_API_KEY'] = OPENAI_API_KEY\n",
        "\n",
        "logging.basicConfig(stream=sys.stdout, level=logging.DEBUG)"
      ],
      "metadata": {
        "id": "9WMxhw2Yjpjs"
      },
      "execution_count": 2,
      "outputs": []
    },
    {
      "cell_type": "code",
      "source": [
        "!ls sample_data/data"
      ],
      "metadata": {
        "colab": {
          "base_uri": "https://localhost:8080/"
        },
        "id": "o9jGOBXv4Qv9",
        "outputId": "62da1c2e-6760-4534-bb30-ffde6bbca14e"
      },
      "execution_count": 9,
      "outputs": [
        {
          "output_type": "stream",
          "name": "stdout",
          "text": [
            "DevOps_Self-Service_Pipeline_Architecture.pdf\n",
            "DevOps_Self-Service_Pipeline_Security_Guardrails.pdf\n",
            "DevOps_Self-Service_Terraform_Project_Structure.pdf\n"
          ]
        }
      ]
    },
    {
      "cell_type": "code",
      "source": [
        "from llama_index import ServiceContext, SimpleDirectoryReader\n",
        "from llama_index.llms import OpenAI\n",
        "from llama_index.text_splitter import SentenceSplitter\n",
        "\n",
        "documents = SimpleDirectoryReader(\"sample_data/data\").load_data()\n",
        "print(f\"loaded documents with {len(documents)} documents\")\n",
        "\n",
        "# Use the new flattened interface for node parsing\n",
        "node_parser = SentenceSplitter(chunk_size=256)\n",
        "nodes = node_parser(documents)\n",
        "print(f\"loaded {len(nodes)} nodes\")"
      ],
      "metadata": {
        "id": "An74pufeQSQV",
        "colab": {
          "base_uri": "https://localhost:8080/"
        },
        "outputId": "821427d3-4787-4516-f552-4278f616cceb"
      },
      "execution_count": 10,
      "outputs": [
        {
          "output_type": "stream",
          "name": "stdout",
          "text": [
            "loaded documents with 49 documents\n"
          ]
        },
        {
          "output_type": "stream",
          "name": "stderr",
          "text": [
            "[nltk_data] Downloading package punkt to /tmp/llama_index...\n",
            "[nltk_data]   Unzipping tokenizers/punkt.zip.\n"
          ]
        },
        {
          "output_type": "stream",
          "name": "stdout",
          "text": [
            "loaded 105 nodes\n"
          ]
        }
      ]
    },
    {
      "cell_type": "markdown",
      "source": [
        "## Generate evaluation question/answer pairs"
      ],
      "metadata": {
        "id": "jDjhvdEv0WPI"
      }
    },
    {
      "cell_type": "code",
      "source": [
        "from llama_index.evaluation import (\n",
        "    DatasetGenerator,\n",
        "    QueryResponseDataset,\n",
        ")\n",
        "\n",
        "eval_service_context = ServiceContext.from_defaults(llm=OpenAI(model=\"gpt-4-1106-preview\"))\n",
        "\n",
        "# load eval question/answer dataset from JSON file if exists\n",
        "if os.path.exists(\"sample_data/data/eval_qr_dataset.json\"):\n",
        "    eval_dataset = QueryResponseDataset.from_json(\"data/eval_qr_dataset.json\")\n",
        "else:\n",
        "    # construct dataset_generator\n",
        "    dataset_generator = DatasetGenerator(\n",
        "        nodes[:8],\n",
        "        service_context=eval_service_context,\n",
        "        show_progress=True,\n",
        "        num_questions_per_chunk=2,\n",
        "    )\n",
        "\n",
        "    # generate queries and responses\n",
        "    eval_dataset = dataset_generator.generate_dataset_from_nodes()\n",
        "\n",
        "    # save the dataset into a file\n",
        "    eval_dataset.save_json(\"sample_data/data/eval_qr_dataset.json\")"
      ],
      "metadata": {
        "id": "I9z8NK763eFh",
        "colab": {
          "base_uri": "https://localhost:8080/"
        },
        "outputId": "5572bf2b-329c-4ddc-ed39-8470fef9afb6"
      },
      "execution_count": 11,
      "outputs": [
        {
          "output_type": "stream",
          "name": "stderr",
          "text": [
            "100%|██████████| 8/8 [00:05<00:00,  1.36it/s]\n",
            "100%|██████████| 2/2 [00:10<00:00,  5.47s/it]\n",
            "100%|██████████| 2/2 [00:11<00:00,  5.99s/it]\n",
            "100%|██████████| 2/2 [00:32<00:00, 16.49s/it]\n",
            "100%|██████████| 2/2 [00:19<00:00,  9.90s/it]\n",
            "100%|██████████| 2/2 [00:20<00:00, 10.33s/it]\n",
            "100%|██████████| 2/2 [00:29<00:00, 14.84s/it]\n",
            "100%|██████████| 2/2 [00:26<00:00, 13.29s/it]\n",
            "100%|██████████| 2/2 [00:15<00:00,  7.94s/it]\n"
          ]
        }
      ]
    },
    {
      "cell_type": "code",
      "source": [
        "import json\n",
        "\n",
        "# Load dataset from JSON file\n",
        "with open(\"sample_data/data/eval_qr_dataset.json\", \"r\") as file:\n",
        "    eval_dataset_content = json.load(file)\n",
        "\n",
        "# Print the content in JSON format\n",
        "json_str = json.dumps(eval_dataset_content, indent=2)  # indent for pretty printing\n",
        "print(json_str)"
      ],
      "metadata": {
        "colab": {
          "base_uri": "https://localhost:8080/"
        },
        "id": "EzAwclEyQxRy",
        "outputId": "89e51074-9415-4064-fc2e-bf2602b5de47"
      },
      "execution_count": 13,
      "outputs": [
        {
          "output_type": "stream",
          "name": "stdout",
          "text": [
            "{\n",
            "  \"queries\": {\n",
            "    \"9452c4ad-171b-46a2-ab62-f92e1b4237ea\": \"Explain the concept of \\\"DevOps self-service\\\" as described in the document \\\"DevOps_Self-Service_Pipeline_Architecture.pdf\\\" and discuss how it aims to transform the mindset of developers in terms of access, control, and ownership of pipelines.\",\n",
            "    \"60ebac09-8a94-4679-8277-8c653236a99d\": \"Based on the document \\\"DevOps_Self-Service_Pipeline_Architecture.pdf,\\\" what is the significance of the 3\\u20132\\u20131 Rule in the context of self-service pipeline architecture, and how does it contribute to the productivity of developers?\",\n",
            "    \"b3e68469-9926-4e86-aeb4-2246687f0765\": \"Explain the 3-2-1 rule coined by the author in the context of the self-service pipeline architecture as described in the \\\"DevOps_Self-Service_Pipeline_Architecture.pdf\\\" document. Include in your answer the significance of each number in the rule.\",\n",
            "    \"a8c12bcb-15b0-47f7-ba07-713b4cf936a3\": \"According to the information provided in the \\\"DevOps_Self-Service_Pipeline_Architecture.pdf\\\" document, why is the generic pipeline design discussed by the author more suitable for microservices architecture rather than serverless workloads?\",\n",
            "    \"15f1b06d-f191-4f71-89cf-cf373719250e\": \"Explain the rationale behind the decision to distribute Terraform code into application repositories under the DevOps self-service model, as mentioned in the document \\\"DevOps Self-Service Pipeline Architecture.\\\" Additionally, discuss the role of centralized Terraform reusable modules in this new structure.\",\n",
            "    \"8a474aa4-84cd-4a62-b140-339493e9548f\": \"In the context of the \\\"DevOps Self-Service Pipeline Architecture\\\" document, describe the significance of the `.github/workflows` directory and its relation to GitHub Actions workflow code within a project's repository.\",\n",
            "    \"022a06b4-97fe-4652-9c90-99aee257d83d\": \"Explain the rationale behind partially relinquishing Terraform code to developers in the context of DevOps self-service, as described in the document \\\"DevOps Self-Service Pipeline Architecture.\\\"\",\n",
            "    \"6388e1c5-3dbb-430d-b233-8d1f253daa39\": \"Describe the role of GitHub Actions workflow code in the setup of a DevOps self-service pipeline, and specify where these workflow files are typically stored within an application repository.\",\n",
            "    \"0ebeb671-54d6-4d88-9dbf-605fa45ec3d2\": \"Explain the role of Terraform reusable modules in the DevOps Self-Service Pipeline Architecture and discuss why they are kept in a centralized repository. Reference the story titled \\\"DevOps Self-Service Centric Terraform Project Structure\\\" for additional insights.\",\n",
            "    \"e3e78a11-d8de-4a6b-ad9c-981ca64ca523\": \"Describe the differences between the infrastructure pipeline and the application pipelines in the context of a GitHub Actions workflow. Include examples of what each pipeline is responsible for deploying or managing.\",\n",
            "    \"a035daa5-2c03-42a4-ba13-d29f02785074\": \"Explain the role of Terraform reusable modules in the context of a DevOps Self-Service Pipeline Architecture as mentioned in the document \\\"DevOps_Self-Service_Pipeline_Architecture.pdf\\\".\",\n",
            "    \"b30c2dcc-e977-4c98-bc2c-c127496029a7\": \"Describe the necessary steps to configure a GitHub Actions workflow for an application pipeline, based on the information provided in the document. Include details on where the workflow YAML files should be placed within the project structure.\",\n",
            "    \"34f77020-be56-4dcf-a0b9-d1931f29bf7d\": \"Explain how Terraform can be utilized to automate the integration of infrastructure pipelines with application pipelines in a DevOps environment, particularly focusing on the role of GitHub secrets creation automation as described in the \\\"DevOps Self-Service Pipeline Architecture\\\" document.\",\n",
            "    \"7a48bfd8-70b1-463b-9ad5-9729aecf5d00\": \"Based on the high-level design of DevOps pipelines mentioned in the document, discuss the anticipated benefits of using Terraform's reusable modules and GitHub Actions workflow orchestration in the context of pipeline integration.\",\n",
            "    \"437dc86e-1fca-44b8-bc0a-d12f29a4298b\": \"Explain the role of Terraform in automating GitHub secrets creation as part of the DevOps Self-Service Pipeline Architecture. Refer to the integration process described on page 4 of the \\\"DevOps_Self-Service_Pipeline_Architecture.pdf\\\" document.\",\n",
            "    \"619593d5-8bb7-4241-94e1-76b4ce9ae34b\": \"Based on the high-level design overview provided in the document \\\"DevOps_Self-Service_Pipeline_Architecture.pdf,\\\" describe the interaction between infrastructure pipelines and application pipelines, and how the automation of GitHub secrets contributes to the CI/CD process.\"\n",
            "  },\n",
            "  \"responses\": {\n",
            "    \"9452c4ad-171b-46a2-ab62-f92e1b4237ea\": \"The concept of \\\"DevOps self-service,\\\" as described in the document \\\"DevOps_Self-Service_Pipeline_Architecture.pdf,\\\" refers to an approach within the field of DevOps that emphasizes empowering developers by granting them more access, control, and ownership over the pipelines they use. This approach is also known as democratizing DevOps or Platform Engineering, but for consistency, the document refers to it as \\\"DevOps self-service.\\\"\\n\\nThe aim of DevOps self-service is to boost productivity by changing the traditional mindset where developers depend on other teams or specialized personnel to manage the deployment pipelines. Instead, it encourages a culture where developers are equipped with the tools and permissions necessary to manage their own pipelines. This includes the ability to initiate, configure, and manage the processes that take their code from development to production without the need for intermediaries.\\n\\nBy adopting a self-service model, developers can make changes and deploy their work more quickly and efficiently, leading to faster iteration cycles and a more agile development process. This transformation in mindset is crucial for organizations that want to streamline their operations and foster a more collaborative and autonomous environment. It also aligns with the broader goals of DevOps, which focus on breaking down silos, improving collaboration between development and operations teams, and accelerating the delivery of software.\",\n",
            "    \"60ebac09-8a94-4679-8277-8c653236a99d\": \"Based on the context information provided, the document \\\"DevOps_Self-Service_Pipeline_Architecture.pdf\\\" seems to discuss the concept of a self-service pipeline in the context of DevOps and mentions something called the \\\"3\\u20132\\u20131 Rule.\\\" However, the specific details about the significance of the 3\\u20132\\u20131 Rule and how it contributes to the productivity of developers are not included in the provided context.\\n\\nTo answer the query accurately, one would need to have access to the content of the document where the 3\\u20132\\u20131 Rule is explained. Since the context information does not elaborate on the rule itself, I can only speculate that the 3\\u20132\\u20131 Rule might be a principle or guideline designed to streamline the pipeline architecture in a way that enhances developer productivity, possibly by reducing complexity, increasing automation, or improving the efficiency of development processes.\\n\\nWithout the actual content or additional information, it is not possible to provide a detailed explanation of the 3\\u20132\\u20131 Rule's significance or its contribution to developer productivity within the self-service pipeline architecture.\",\n",
            "    \"b3e68469-9926-4e86-aeb4-2246687f0765\": \"Based on the provided context information from the \\\"DevOps_Self-Service_Pipeline_Architecture.pdf\\\" document, the 3-2-1 rule coined by the author refers to a high-level conceptual framework for organizing a self-service pipeline architecture. Here's the significance of each number in the rule:\\n\\n1. **Three Types of Source Code**: This part of the rule indicates that there are three distinct types of source code that are managed within the same GitHub repository for a microservice. While the specific types of source code are not detailed in the provided context, they could refer to application code, configuration code, and infrastructure code, which are common classifications in DevOps practices.\\n\\n2. **Two Types of Pipelines**: This suggests that the architecture utilizes two different kinds of pipelines. These could potentially be Continuous Integration (CI) pipelines and Continuous Deployment (CD) pipelines, which are standard in DevOps to automate the testing and deployment processes.\\n\\n3. **One Pipeline Integration Glue**: This final part implies that there is a single integration mechanism or tool that connects and orchestrates the two types of pipelines. This \\\"glue\\\" ensures that the pipelines work together seamlessly, providing a cohesive workflow for code integration, testing, and deployment.\\n\\nThe 3-2-1 rule is a simplification to help understand the components and their interactions within a self-service pipeline architecture, which is particularly tailored for microservices architecture as per the document. The rule emphasizes the importance of organizing code repositories, pipeline processes, and integration tools to create an efficient and automated workflow for software development and deployment.\",\n",
            "    \"a8c12bcb-15b0-47f7-ba07-713b4cf936a3\": \"According to the information provided in the \\\"DevOps_Self-Service_Pipeline_Architecture.pdf\\\" document, the generic pipeline design discussed by the author is more suitable for microservices architecture rather than serverless workloads because it is tailored specifically for microservices. The document mentions that while the diagram represents a generic self-service pipeline architecture, it is mainly applicable to microservices and not serverless workloads, implying that serverless pipeline architecture would require a different, likely simpler design. The author does not provide specific reasons why the design is more suitable for microservices within the provided context, but it can be inferred that the complexities and requirements of managing microservices fit well with the structure of the generic pipeline design being described.\",\n",
            "    \"15f1b06d-f191-4f71-89cf-cf373719250e\": \"The rationale behind distributing Terraform code into application repositories under the DevOps self-service model, as mentioned in the document \\\"DevOps Self-Service Pipeline Architecture,\\\" is likely based on the philosophy of empowering developers and streamlining the development and deployment process. Here are some reasons for this decision:\\n\\n1. **Developer Empowerment**: By allowing developers to manage the Terraform code within their application repositories, they gain more control over the infrastructure as code that is specific to their applications. This can lead to faster iteration and more autonomy, as developers can make necessary changes without being bottlenecked by a centralized DevOps team.\\n\\n2. **Increased Efficiency**: When developers have direct access to the Terraform code in their repositories, they can update the infrastructure alongside their application code. This reduces the coordination overhead and simplifies the process of making changes to both the application and its underlying infrastructure.\\n\\n3. **Better Alignment with Application Lifecycle**: Infrastructure changes can be aligned more closely with application changes, ensuring that the infrastructure evolves in tandem with the application. This can be particularly beneficial in a microservices architecture where each service may have its own set of infrastructure requirements.\\n\\n4. **Decentralization**: Moving away from a centralized Terraform repository can reduce the risk of bottlenecks and single points of failure. It allows multiple teams to work independently on their respective pieces of infrastructure, which can be crucial for larger organizations with many teams and services.\\n\\n5. **Improved Collaboration**: Developers can review infrastructure changes in the same way they review application code changes, using the same version control and collaboration tools. This can lead to better quality control and shared understanding of the infrastructure and application code.\\n\\nRegarding the role of centralized Terraform reusable modules in this new structure:\\n\\n1. **Consistency and Best Practices**: Centralized Terraform reusable modules ensure that there is a consistent approach to defining infrastructure across different application repositories. These modules can encapsulate best practices and common patterns, making it easier for developers to adhere to organizational standards.\\n\\n2. **Reduced Duplication**: By using reusable modules, developers can avoid duplicating code across multiple repositories. This not only saves time but also makes it easier to maintain and update infrastructure code, as changes to the modules can propagate to all applications that use them.\\n\\n3. **Easier Management**: Centralized modules can be versioned and managed separately from application code, allowing for independent lifecycle management. This means that updates to modules can be rolled out in a controlled manner without directly impacting application repositories.\\n\\n4. **Security and Compliance**: Centralized modules can be audited for security and compliance, ensuring that all infrastructure provisioned through these modules meets the necessary standards. This is particularly important in regulated industries or environments with strict security requirements.\\n\\nIn summary, the DevOps self-service model aims to balance the autonomy and speed of development teams with the need for consistency, best practices, and governance provided by centralized Terraform reusable modules. This hybrid approach leverages the strengths of both decentralization and centralization to create a more efficient and effective pipeline architecture.\",\n",
            "    \"8a474aa4-84cd-4a62-b140-339493e9548f\": \"In the context of the \\\"DevOps Self-Service Pipeline Architecture\\\" document, the `.github/workflows` directory holds significant importance as it is the designated location for storing GitHub Actions workflow code within a project's repository. GitHub Actions is a CI/CD (Continuous Integration/Continuous Deployment) platform that allows automation of build, test, and deployment processes.\\n\\nThe workflow code, typically written in YAML format and saved with a `.yml` or `.yaml` file extension, defines the instructions for GitHub Actions to follow when certain events occur in the repository, such as a push or a pull request. These workflows can include a variety of tasks, such as running tests, deploying applications, or automating other routine development and deployment processes.\\n\\nBy placing the workflow code in the `.github/workflows` directory at the root of the application repository, it ensures that GitHub Actions can easily detect and execute the workflows as configured. This setup is crucial for implementing DevOps practices within the project, as it enables automated, self-service pipelines that can be managed and version-controlled alongside the application's source code.\\n\\nThis approach aligns with the self-service model described in the document, where developers have more control over the CI/CD processes and infrastructure as code (such as Terraform configurations) that are part of their application's lifecycle. It promotes a collaborative and efficient workflow, where the actions necessary for building, testing, and deploying are transparent and can be modified by developers as part of their regular development activities.\",\n",
            "    \"022a06b4-97fe-4652-9c90-99aee257d83d\": \"The rationale behind partially relinquishing Terraform code to developers in the context of DevOps self-service, as described in the document \\\"DevOps Self-Service Pipeline Architecture,\\\" is to strike a balance between empowering developers and maintaining consistency and control over infrastructure provisioning.\\n\\nBy allowing developers to have access to Terraform code within their application repositories, they gain the ability to modify and extend the infrastructure as needed for their specific application requirements. This aligns with the DevOps philosophy of enabling development teams to be more autonomous and to have ownership over the entire lifecycle of their applications, including the infrastructure they run on.\\n\\nHowever, the document also mentions that Terraform reusable modules are kept in a centralized repository. This approach ensures that common infrastructure patterns and best practices are encapsulated within these modules. By doing so, it promotes reusability, reduces duplication of effort, and helps maintain consistency across different projects and teams. Centralized modules can be managed by a team with specific infrastructure expertise, ensuring that the modules adhere to organizational standards, security policies, and compliance requirements.\\n\\nIn summary, the partial relinquishment of Terraform code to developers allows for developer autonomy and quicker iteration, while the centralized management of reusable modules ensures consistency, standardization, and governance across the organization's infrastructure.\",\n",
            "    \"6388e1c5-3dbb-430d-b233-8d1f253daa39\": \"In the setup of a DevOps self-service pipeline, the role of GitHub Actions workflow code is to automate the continuous integration and continuous deployment (CI/CD) processes. GitHub Actions enable developers to create custom software development life cycle (SDLC) workflows directly in their GitHub repositories.\\n\\nThe workflow code is composed of YAML (.yml) files that define the steps and actions that should be taken when certain events occur in the repository, such as pushing new code, creating a pull request, or releasing a new version of the software. These workflows can perform a wide range of tasks, including but not limited to:\\n\\n- Building and testing the application code.\\n- Provisioning and managing infrastructure using Infrastructure as Code (IaC) tools like Terraform.\\n- Deploying the application to various environments (development, staging, production).\\n- Running security scans and code quality checks.\\n- Notifying team members about the workflow's progress or completion.\\n\\nIn the context of the DevOps self-service pipeline architecture described, GitHub Actions can be used to trigger an infrastructure pipeline that provisions cloud resources using Terraform, which is an IaC tool. This allows for the automated setup and management of the necessary infrastructure for the application in cloud environments such as AWS.\\n\\nThe GitHub Actions workflow files are typically stored in the `.github/workflows` directory at the root of the application repository. This directory contains all the workflow definitions that the repository uses, and GitHub Actions automatically recognizes and executes these workflows based on the defined triggers and events.\",\n",
            "    \"0ebeb671-54d6-4d88-9dbf-605fa45ec3d2\": \"In the DevOps Self-Service Pipeline Architecture, Terraform reusable modules play a crucial role in enabling efficient and consistent infrastructure provisioning. These modules are essentially pre-written code blocks that define a specific piece of infrastructure in a cloud environment. By using these modules, DevOps teams can quickly assemble and deploy complex infrastructure setups without having to write the code from scratch each time.\\n\\nThe reason Terraform reusable modules are kept in a centralized repository is to promote reusability and maintainability. When modules are centralized, they can be version-controlled, tested, and improved upon in a single location. This ensures that any updates or bug fixes to a module can be propagated across all projects that use it, leading to a more stable and consistent infrastructure deployment process.\\n\\nCentralization also facilitates collaboration among team members, as they can share and contribute to the module library. It simplifies the management of infrastructure code and helps in enforcing best practices and compliance across all projects within an organization.\\n\\nFor additional insights, the story titled \\\"DevOps Self-Service Centric Terraform Project Structure\\\" would likely delve deeper into how these modules fit into the overall project structure, how they can be organized for maximum efficiency, and the best practices for managing and utilizing these modules within the self-service pipeline architecture. It would also potentially cover the benefits of such an approach, including faster development cycles, reduced errors, and a more streamlined workflow for provisioning infrastructure.\",\n",
            "    \"e3e78a11-d8de-4a6b-ad9c-981ca64ca523\": \"Based on the provided context, the differences between the infrastructure pipeline and the application pipelines in the context of a GitHub Actions workflow are as follows:\\n\\nInfrastructure Pipeline:\\n- The infrastructure pipeline is focused on Infrastructure as Code (IaC) with Terraform. Terraform is chosen for its ability to work across different cloud providers (cloud-agnostic) and because it is open source.\\n- This pipeline is responsible for provisioning and managing cloud resources. For example, it can deploy services in AWS such as EC2 instances, S3 buckets, or RDS databases.\\n- The GitHub Actions workflow for the infrastructure pipeline would contain steps to initialize Terraform, plan the infrastructure changes, and apply those changes to the target environment.\\n- The workflow code for this pipeline would typically be triggered by changes to the Terraform configuration files in the repository.\\n\\nApplication Pipelines:\\n- Application pipelines are focused on the continuous integration and continuous deployment (CI/CD) of the application's source code.\\n- These pipelines handle building, testing, and deploying the application code written in programming languages such as Java, Node.js, Python, etc.\\n- The GitHub Actions workflow for an application pipeline would include steps to install dependencies, run tests, build the application, and deploy the built application to a server or a cloud service.\\n- The workflow code for application pipelines is triggered by events such as a push to a specific branch or the creation of a pull request.\\n\\nIn summary, the infrastructure pipeline is about setting up and managing the environment where the application runs, using Terraform to handle cloud resources. In contrast, the application pipelines are about taking the application's code through various stages (build, test, deploy) to deliver it to the end-users. Both pipelines are automated through GitHub Actions workflows, which define the sequence of tasks to be executed based on certain triggers.\",\n",
            "    \"a035daa5-2c03-42a4-ba13-d29f02785074\": \"In the context of a DevOps Self-Service Pipeline Architecture, as mentioned in the document \\\"DevOps_Self-Service_Pipeline_Architecture.pdf,\\\" Terraform reusable modules play a crucial role in streamlining and standardizing the infrastructure provisioning process. Here's how they contribute to the architecture:\\n\\n1. **Standardization**: Reusable modules allow teams to define a standard set of infrastructure components that can be used across multiple projects or environments. This ensures consistency in the infrastructure setup and reduces the likelihood of configuration drift.\\n\\n2. **Efficiency**: By using modules, developers can quickly instantiate complex infrastructure without having to write the code from scratch each time. This speeds up the development process and enables a faster time-to-market for applications.\\n\\n3. **Best Practices**: Modules can encapsulate best practices for infrastructure setup, such as security configurations, networking, and resource sizing. When developers use these modules, they automatically adhere to the organization's best practices.\\n\\n4. **Self-Service**: In a self-service pipeline architecture, developers can select the modules they need and configure them as required for their application without waiting for operations teams to provision resources. This reduces dependencies and bottlenecks in the development process.\\n\\n5. **Maintainability**: When updates or improvements are made to a module, all pipelines and projects utilizing that module can benefit from the changes. This centralized approach to updates simplifies maintenance and ensures that all applications are using the latest infrastructure code.\\n\\n6. **Scalability**: Terraform modules can be designed to support scalability, allowing infrastructure to grow with the application's needs. Developers can leverage these modules to easily scale up or down as demand changes.\\n\\n7. **Cloud-Agnostic**: Since Terraform is cloud-agnostic, modules can be designed to work across different cloud providers. This flexibility allows organizations to maintain a multi-cloud strategy and avoid vendor lock-in.\\n\\nIn summary, Terraform reusable modules are a key component of a DevOps Self-Service Pipeline Architecture, providing a scalable, efficient, and standardized way to manage infrastructure as code (IaC) across an organization's development lifecycle.\",\n",
            "    \"b30c2dcc-e977-4c98-bc2c-c127496029a7\": \"To configure a GitHub Actions workflow for an application pipeline based on the information provided in the document, you would need to follow these steps:\\n\\n1. **Create Workflow YAML File:**\\n   - Start by creating a YAML file that defines the workflow. This file contains the configuration for events, jobs, steps, actions, and environment variables required for the CI/CD process.\\n\\n2. **Define Workflow Triggers:**\\n   - At the beginning of the YAML file, define the events that will trigger the workflow. Common triggers for application pipelines include pushes to specific branches or tags, and pull request events.\\n\\n3. **Set Up Jobs and Steps:**\\n   - Define jobs that should be run as part of the workflow. Each job runs in a fresh instance of the virtual environment specified by the `runs-on` tag.\\n   - Within each job, define steps that execute commands, scripts, or actions. These can include steps to check out the repository code, set up programming language environments, build the application, run tests, scan for vulnerabilities, and deploy the application.\\n\\n4. **Use Actions:**\\n   - Incorporate pre-built GitHub Actions or create custom actions as needed. These actions can automate tasks like setting up dependencies, caching, and deployments.\\n\\n5. **Configure Environment and Secrets:**\\n   - Set up any necessary environment variables and secrets that the workflow requires. Secrets can be configured in the repository settings and used in the workflow file to handle sensitive data like API keys and credentials securely.\\n\\n6. **Place Workflow File Correctly:**\\n   - As per the document, the workflow YAML files must be placed in the `.github/workflows` directory at the root of the application's repository. This is the standard location where GitHub Actions expects to find workflow definitions.\\n\\n7. **Commit and Push Workflow File:**\\n   - Commit the workflow YAML file to the repository and push it to GitHub. This will enable GitHub Actions to recognize and execute the workflow according to the defined triggers.\\n\\n8. **Monitor and Debug:**\\n   - After pushing the workflow file, monitor the Actions tab in the GitHub repository to ensure that the workflow runs successfully. If there are any issues, use the logs provided by GitHub Actions to debug and make necessary adjustments.\\n\\nHere's an example of what the directory structure might look like with the workflow file in place:\\n\\n```\\n/\\n\\u251c\\u2500\\u2500 .github/\\n\\u2502   \\u2514\\u2500\\u2500 workflows/\\n\\u2502       \\u2514\\u2500\\u2500 application-pipeline.yml\\n\\u251c\\u2500\\u2500 src/\\n\\u2502   \\u2514\\u2500\\u2500 (application source code)\\n\\u2514\\u2500\\u2500 (other project files)\\n```\\n\\nAnd an example snippet of a workflow file (`application-pipeline.yml`) placed in the `.github/workflows` directory:\\n\\n```yaml\\nname: Application CI/CD Pipeline\\n\\non:\\n  push:\\n    branches: [ \\\"main\\\" ]\\n  pull_request:\\n    branches: [ \\\"main\\\" ]\\n\\njobs:\\n  build:\\n    runs-on: ubuntu-latest\\n    steps:\\n    - uses: actions/checkout@v2\\n    - name: Set up Node.js\\n      uses: actions/setup-node@v1\\n      with:\\n        node-version: '14'\\n    - name: Install dependencies\\n      run: npm install\\n    - name: Run tests\\n      run: npm test\\n    - name: Deploy to cloud provider\\n      run: ./deploy.sh\\n      env:\\n        CLOUD_SECRET: ${{ secrets.CLOUD_SECRET }}\\n```\\n\\nBy following these steps and using the provided example, you can configure a GitHub Actions workflow for an application pipeline that builds, tests, scans, and deploys your application as defined in the document.\",\n",
            "    \"34f77020-be56-4dcf-a0b9-d1931f29bf7d\": \"According to the information provided from the \\\"DevOps Self-Service Pipeline Architecture\\\" document, Terraform can be utilized to automate the integration of infrastructure pipelines with application pipelines in a DevOps environment by leveraging its ability to interact with the GitHub provider to automate the creation of GitHub secrets.\\n\\nHere's how the process works:\\n\\n1. **Infrastructure Provisioning**: When the infrastructure pipeline runs, it uses Terraform to provision the required infrastructure. This could include cloud resources like servers, databases, load balancers, etc.\\n\\n2. **Secrets Creation**: Upon successful provisioning of the infrastructure, Terraform then takes on the role of creating GitHub secrets. GitHub secrets are encrypted environment variables that store sensitive information, such as API keys, SSH keys, and other credentials that should not be stored in the code repository.\\n\\n3. **GitHub Provider**: Terraform uses the GitHub provider to interact with GitHub's API. This provider allows Terraform to manage GitHub resources such as repositories, membership, teams, and in this case, secrets.\\n\\n4. **Automation of Secrets Insertion**: As Terraform completes the infrastructure setup, it automatically calls the GitHub provider to create the necessary secrets. The diagram referenced in the document likely shows a visual representation of this process, with double-ended arrows indicating the bidirectional interaction between Terraform and GitHub.\\n\\n5. **Seamless Integration**: The Terraform outputs, which include the secrets, are inserted into GitHub automatically. This automation removes the need for manual intervention in the secrets creation process.\\n\\n6. **Triggering Application Pipelines**: With the secrets now in place, application pipelines can be automatically triggered to start the Continuous Integration/Continuous Deployment (CI/CD) process for the application. These pipelines use the secrets provided by Terraform to access the resources they need to build, test, and deploy the application.\\n\\n7. **End-to-End Integration**: This process ensures a state-of-the-art integration between infrastructure and application pipelines. It creates a seamless workflow where the provisioning of infrastructure and the setup of application environments are automated and interconnected.\\n\\nThe document suggests that future stories will provide more details on the project structures for Terraform, its reusable modules, and the GitHub Actions workflow orchestration, which are likely to be key components in this integrated pipeline architecture.\",\n",
            "    \"7a48bfd8-70b1-463b-9ad5-9729aecf5d00\": \"Based on the high-level design of DevOps pipelines mentioned in the document, the anticipated benefits of using Terraform's reusable modules and GitHub Actions workflow orchestration in the context of pipeline integration include:\\n\\n1. **Automation of Secrets Management**: By using Terraform to automate the creation of GitHub secrets, the process of tying infrastructure pipelines with application pipelines becomes more efficient. This automation ensures that the necessary secrets are available for the application pipelines without manual intervention, reducing the risk of errors and delays.\\n\\n2. **Seamless Integration**: The integration of infrastructure and application pipelines through automated secrets creation allows for a seamless workflow. When Terraform provisions infrastructure, it can automatically provide the necessary secrets to GitHub, which means that the application pipelines can immediately use these secrets for Continuous Integration/Continuous Deployment (CI/CD) processes.\\n\\n3. **Consistency and Standardization**: Terraform's reusable modules can help maintain consistency across different environments and projects. By using modules, teams can ensure that infrastructure is provisioned in a standardized way, which is crucial for maintaining reliability and predictability in automated systems.\\n\\n4. **Improved Collaboration**: GitHub Actions workflow orchestration allows for better collaboration among team members. It provides a platform for defining the CI/CD process in code, which can be version-controlled and reviewed by peers. This leads to better oversight and quality control of the pipeline processes.\\n\\n5. **Scalability**: Reusable Terraform modules and GitHub Actions workflows can be designed to be scalable. As the infrastructure needs grow or the application evolves, these modules and workflows can be adjusted or expanded upon without the need to start from scratch, thus supporting the growth of the system.\\n\\n6. **Efficiency in Development**: Developers can focus on writing code rather than worrying about infrastructure setup or secrets management. This can lead to faster development cycles as the underlying infrastructure and CI/CD processes are handled automatically.\\n\\n7. **Reduced Risk of Human Error**: Automating the creation of secrets and the orchestration of workflows reduces the risk of human error. Manual steps are prone to mistakes, and by minimizing these, the reliability of the deployment process is improved.\\n\\n8. **Enhanced Security**: By automating the handling of secrets, there is less chance of sensitive information being exposed. Terraform can securely manage the state of secrets, and GitHub Actions can use them without developers having to manually input them, which enhances the overall security posture.\\n\\n9. **Traceability and Accountability**: With the use of infrastructure as code (IaC) and workflow orchestration, every change is recorded and can be traced back to an individual. This level of traceability ensures accountability and can be crucial for compliance and auditing purposes.\\n\\n10. **Faster Time to Market**: By streamlining the integration of infrastructure and application pipelines, organizations can reduce the time it takes to go from development to production, thus achieving a faster time to market for their applications.\\n\\nIn summary, the use of Terraform's reusable modules and GitHub Actions workflow orchestration in the context of pipeline integration brings about a host of benefits that can lead to more efficient, secure, and reliable software delivery processes.\",\n",
            "    \"437dc86e-1fca-44b8-bc0a-d12f29a4298b\": \"In the DevOps Self-Service Pipeline Architecture, Terraform plays a crucial role in automating the creation of GitHub secrets, which serves as the \\\"glue\\\" to integrate infrastructure and application pipelines. According to the information provided from page 4 of the \\\"DevOps_Self-Service_Pipeline_Architecture.pdf\\\" document, the process works as follows:\\n\\n1. **Infrastructure Provisioning**: When the infrastructure is successfully provisioned using Terraform, it sets the stage for the next step, which is the automation of GitHub secrets.\\n\\n2. **Automation of GitHub Secrets**: Terraform can then be used to automate the creation of GitHub secrets. This is achieved by utilizing the GitHub provider within Terraform, which allows Terraform to interact with GitHub's API.\\n\\n3. **Integration with GitHub**: The Terraform outputs, which include the secrets, are automatically inserted into GitHub. This is indicated by the double-ended arrows for the infrastructure pipeline in the diagram referenced in the document. This automatic insertion of secrets into GitHub eliminates the need for manual secrets creation.\\n\\n4. **Enabling Application Pipelines**: With the secrets now in place within GitHub, application pipelines can automatically trigger Continuous Integration/Continuous Deployment (CI/CD) processes for the specified GitHub environment. The secrets that are associated with that particular GitHub environment are provided by Terraform through the infrastructure pipeline.\\n\\n5. **End-to-End Integration**: This process results in a state-of-the-art integration of infrastructure and application pipelines, creating a seamless end-to-end flow. The automation of secrets creation is a key component that ensures security credentials and other sensitive information are managed and applied without manual intervention, thus enhancing the overall efficiency and security of the pipeline.\\n\\nIn summary, Terraform's role in this architecture is to automate the provisioning of infrastructure and the creation of GitHub secrets, which are essential for the secure and automated operation of application pipelines within the DevOps Self-Service Pipeline Architecture.\",\n",
            "    \"619593d5-8bb7-4241-94e1-76b4ce9ae34b\": \"Based on the high-level design overview provided in the document \\\"DevOps_Self-Service_Pipeline_Architecture.pdf,\\\" the interaction between infrastructure pipelines and application pipelines is facilitated by the automation of GitHub secrets creation. Here's how the process works:\\n\\n1. **Infrastructure Pipelines**: These pipelines are responsible for provisioning the required infrastructure. They are likely to be defined using Infrastructure as Code (IaC) tools such as Terraform.\\n\\n2. **Application Pipelines**: These pipelines handle the continuous integration and continuous deployment (CI/CD) of the application code. They are triggered to build, test, and deploy applications to the provisioned infrastructure.\\n\\n3. **Integration via GitHub Secrets**: The document describes a mechanism where, upon successful infrastructure provisioning by the infrastructure pipeline, Terraform automates the creation of GitHub secrets. This is done by calling the GitHub provider.\\n\\n4. **Terraform Outputs**: The infrastructure pipeline uses Terraform to output secrets, which are then automatically inserted into GitHub. This is indicated by the double-ended arrows in the diagram, suggesting a two-way interaction where Terraform not only provisions infrastructure but also communicates necessary information back to GitHub.\\n\\n5. **Elimination of Manual Processes**: By automating the creation of GitHub secrets, the need for manual intervention in the secrets creation process is removed. This enhances security and reduces the potential for human error.\\n\\n6. **Enabling Application Pipelines**: With the secrets automatically inserted into GitHub, application pipelines can be automatically triggered to start the CI/CD process. These pipelines use the secrets to access the infrastructure and environment-specific configurations, ensuring that the application is deployed with the correct settings.\\n\\n7. **End-to-End Integration**: The described process achieves an end-to-end, state-of-the-art integration of infrastructure and application pipelines. This integration is crucial for a self-service DevOps pipeline architecture, where teams can autonomously deploy and manage applications with minimal manual overhead.\\n\\nIn summary, the automation of GitHub secrets creation serves as the \\\"glue\\\" that integrates infrastructure and application pipelines, streamlining the CI/CD process and enabling a more efficient, secure, and error-free deployment workflow.\"\n",
            "  }\n",
            "}\n"
          ]
        }
      ]
    },
    {
      "cell_type": "code",
      "source": [
        "eval_qs = eval_dataset.questions\n",
        "ref_response_strs = [r for (_, r) in eval_dataset.qr_pairs]"
      ],
      "metadata": {
        "id": "H_PYbjBX3-DT"
      },
      "execution_count": 14,
      "outputs": []
    },
    {
      "cell_type": "markdown",
      "source": [
        "## Build index, query engine, gather parameters"
      ],
      "metadata": {
        "id": "HWGMywfdMNuK"
      }
    },
    {
      "cell_type": "code",
      "source": [
        "from llama_index import (\n",
        "    VectorStoreIndex,\n",
        "    load_index_from_storage,\n",
        "    StorageContext,\n",
        "    ServiceContext,\n",
        ")\n",
        "from llama_index.param_tuner.base import ParamTuner, TunedResult, RunResult\n",
        "from llama_index.evaluation.eval_utils import get_responses\n",
        "from llama_index.evaluation import SemanticSimilarityEvaluator, BatchEvalRunner\n",
        "\n",
        "import os\n",
        "import numpy as np\n",
        "from pathlib import Path\n",
        "\n",
        "def _build_index(chunk_size, docs):\n",
        "    index_out_path = f\"./storage_{chunk_size}\"\n",
        "    if not os.path.exists(index_out_path):\n",
        "        Path(index_out_path).mkdir(parents=True, exist_ok=True)\n",
        "\n",
        "        # Using the new flattened interface for node parsing\n",
        "        node_parser = SentenceSplitter(chunk_size=chunk_size)\n",
        "        nodes = node_parser(docs)\n",
        "\n",
        "        # build index\n",
        "        index = VectorStoreIndex(nodes)\n",
        "\n",
        "        # save index to disk\n",
        "        index.storage_context.persist(index_out_path)\n",
        "    else:\n",
        "        # rebuild storage context\n",
        "        storage_context = StorageContext.from_defaults(\n",
        "            persist_dir=index_out_path\n",
        "        )\n",
        "        # load index\n",
        "        index = load_index_from_storage(\n",
        "            storage_context,\n",
        "        )\n",
        "    return index"
      ],
      "metadata": {
        "id": "PGPxKsv3zejY"
      },
      "execution_count": 15,
      "outputs": []
    },
    {
      "cell_type": "code",
      "source": [
        "# contains the parameters that need to be tuned\n",
        "param_dict = {\"chunk_size\": [256, 512], \"top_k\": [1, 2]}\n",
        "\n",
        "# contains parameters remaining fixed across all runs of the tuning process\n",
        "fixed_param_dict = {\n",
        "    \"docs\": documents,\n",
        "    \"eval_qs\": eval_qs,\n",
        "    \"ref_response_strs\": ref_response_strs,\n",
        "}"
      ],
      "metadata": {
        "id": "RDao69O8zUES"
      },
      "execution_count": 16,
      "outputs": []
    },
    {
      "cell_type": "markdown",
      "source": [
        "## Define EDD to measure the score for each parameter combination"
      ],
      "metadata": {
        "id": "PT9B38SvWRVd"
      }
    },
    {
      "cell_type": "code",
      "source": [
        "def _get_eval_batch_runner_semantic_similarity():\n",
        "    eval_service_context = ServiceContext.from_defaults(\n",
        "        llm=OpenAI(model=\"gpt-4\")\n",
        "    )\n",
        "    evaluator_s = SemanticSimilarityEvaluator(\n",
        "        service_context=eval_service_context\n",
        "    )\n",
        "    eval_batch_runner = BatchEvalRunner(\n",
        "        {\"semantic_similarity\": evaluator_s}, workers=2, show_progress=True\n",
        "    )\n",
        "\n",
        "    return eval_batch_runner\n",
        "\n",
        "\n",
        "def objective_function_semantic_similarity(params_dict):\n",
        "    chunk_size = params_dict[\"chunk_size\"]\n",
        "    docs = params_dict[\"docs\"]\n",
        "    top_k = params_dict[\"top_k\"]\n",
        "    eval_qs = params_dict[\"eval_qs\"]\n",
        "    ref_response_strs = params_dict[\"ref_response_strs\"]\n",
        "\n",
        "    # build index\n",
        "    index = _build_index(chunk_size, docs)\n",
        "\n",
        "    # query engine\n",
        "    query_engine = index.as_query_engine(similarity_top_k=top_k)\n",
        "\n",
        "    # get predicted responses\n",
        "    pred_response_objs = get_responses(\n",
        "        eval_qs, query_engine, show_progress=True\n",
        "    )\n",
        "\n",
        "    # run evaluator\n",
        "    eval_batch_runner = _get_eval_batch_runner_semantic_similarity()\n",
        "    eval_results = eval_batch_runner.evaluate_responses(\n",
        "        eval_qs, responses=pred_response_objs, reference=ref_response_strs\n",
        "    )\n",
        "\n",
        "    # get semantic similarity metric\n",
        "    mean_score = np.array(\n",
        "        [r.score for r in eval_results[\"semantic_similarity\"]]\n",
        "    ).mean()\n",
        "\n",
        "    return RunResult(score=mean_score, params=params_dict)"
      ],
      "metadata": {
        "id": "l9g1p2ZWzZJG"
      },
      "execution_count": 19,
      "outputs": []
    },
    {
      "cell_type": "markdown",
      "source": [
        "## Run Parameter Tuner"
      ],
      "metadata": {
        "id": "qKyvEZ7fy8wJ"
      }
    },
    {
      "cell_type": "code",
      "source": [
        "from llama_index.param_tuner import ParamTuner\n",
        "\n",
        "param_tuner = ParamTuner(\n",
        "    param_fn=objective_function_semantic_similarity,\n",
        "    param_dict=param_dict,\n",
        "    fixed_param_dict=fixed_param_dict,\n",
        "    show_progress=True,\n",
        ")\n",
        "\n",
        "results = param_tuner.tune()\n",
        "\n",
        "best_result = results.best_run_result\n",
        "best_top_k = results.best_run_result.params[\"top_k\"]\n",
        "best_chunk_size = results.best_run_result.params[\"chunk_size\"]\n",
        "\n",
        "print(\"\")\n",
        "print(f\"Semantic Similarity Score: {best_result.score}\")\n",
        "print(f\"Top-k: {best_top_k}\")\n",
        "print(f\"Chunk size: {best_chunk_size}\")"
      ],
      "metadata": {
        "colab": {
          "base_uri": "https://localhost:8080/",
          "height": 1000,
          "referenced_widgets": [
            "9993ba9a3bb24c40960e5c4731a8c9ab",
            "13cf9e8fd73744e18d509a693cf8e553",
            "4c289aa7530a43fcbd5bb0ebc53e19af",
            "7a0a081c6b544e0687c7807353b3ee0d",
            "3fc9f95ca4814b52a010aa40c12ba3b5",
            "58b2cc92444c43f58fd1d025264a09f5",
            "4b6dd84400d549e29a1fcade28241d79",
            "c4de151fb81948538d85cca5ae41de72",
            "2df84e5375784b10ad1e90c68ee1ae37",
            "e50ab53c44ce4837a96b8f2073497f28",
            "8df3bc25476847468f8a5fbe9abfd08e"
          ]
        },
        "id": "rYHoIJgQy7tO",
        "outputId": "16b75f7b-ff16-4c49-dd68-edaa759c1f4a"
      },
      "execution_count": 20,
      "outputs": [
        {
          "output_type": "display_data",
          "data": {
            "text/plain": [
              "Param combinations.:   0%|          | 0/4 [00:00<?, ?it/s]"
            ],
            "application/vnd.jupyter.widget-view+json": {
              "version_major": 2,
              "version_minor": 0,
              "model_id": "9993ba9a3bb24c40960e5c4731a8c9ab"
            }
          },
          "metadata": {}
        },
        {
          "output_type": "stream",
          "name": "stderr",
          "text": [
            "\n",
            "\n",
            "  0%|          | 0/16 [00:00<?, ?it/s]\u001b[A\u001b[A\n",
            "\n",
            "  6%|▋         | 1/16 [00:02<00:31,  2.12s/it]\u001b[A\u001b[A\n",
            "\n",
            " 25%|██▌       | 4/16 [00:02<00:05,  2.29it/s]\u001b[A\u001b[A\n",
            "\n",
            " 38%|███▊      | 6/16 [00:02<00:02,  3.57it/s]\u001b[A\u001b[A\n",
            "\n",
            " 62%|██████▎   | 10/16 [00:02<00:00,  7.19it/s]\u001b[A\u001b[A\n",
            "\n",
            " 81%|████████▏ | 13/16 [00:02<00:00,  9.20it/s]\u001b[A\u001b[A\n",
            "\n",
            "100%|██████████| 16/16 [00:04<00:00,  3.84it/s]\n",
            "\n",
            "\n",
            "  0%|          | 0/16 [00:00<?, ?it/s]\u001b[A\u001b[A\n",
            "\n",
            "  6%|▋         | 1/16 [00:00<00:09,  1.66it/s]\u001b[A\u001b[A\n",
            "\n",
            " 19%|█▉        | 3/16 [00:01<00:04,  2.78it/s]\u001b[A\u001b[A\n",
            "\n",
            " 25%|██▌       | 4/16 [00:01<00:03,  3.09it/s]\u001b[A\u001b[A\n",
            "\n",
            " 31%|███▏      | 5/16 [00:01<00:03,  2.82it/s]\u001b[A\u001b[A\n",
            "\n",
            " 38%|███▊      | 6/16 [00:01<00:02,  3.39it/s]\u001b[A\u001b[A\n",
            "\n",
            " 44%|████▍     | 7/16 [00:02<00:02,  3.03it/s]\u001b[A\u001b[A\n",
            "\n",
            " 50%|█████     | 8/16 [00:02<00:02,  3.79it/s]\u001b[A\u001b[A\n",
            "\n",
            " 56%|█████▋    | 9/16 [00:02<00:02,  3.12it/s]\u001b[A\u001b[A\n",
            "\n",
            " 62%|██████▎   | 10/16 [00:03<00:01,  3.72it/s]\u001b[A\u001b[A\n",
            "\n",
            " 69%|██████▉   | 11/16 [00:03<00:01,  3.24it/s]\u001b[A\u001b[A\n",
            "\n",
            " 75%|███████▌  | 12/16 [00:03<00:01,  3.62it/s]\u001b[A\u001b[A\n",
            "\n",
            " 81%|████████▏ | 13/16 [00:04<00:01,  2.96it/s]\u001b[A\u001b[A\n",
            "\n",
            " 88%|████████▊ | 14/16 [00:04<00:00,  3.44it/s]\u001b[A\u001b[A\n",
            "\n",
            " 94%|█████████▍| 15/16 [00:04<00:00,  2.83it/s]\u001b[A\u001b[A\n",
            "\n",
            "100%|██████████| 16/16 [00:04<00:00,  3.21it/s]\n",
            "\n",
            "\n",
            "  0%|          | 0/16 [00:00<?, ?it/s]\u001b[A\u001b[A\n",
            "\n",
            "  6%|▋         | 1/16 [00:01<00:26,  1.75s/it]\u001b[A\u001b[A\n",
            "\n",
            " 12%|█▎        | 2/16 [00:01<00:11,  1.21it/s]\u001b[A\u001b[A\n",
            "\n",
            " 19%|█▉        | 3/16 [00:02<00:07,  1.82it/s]\u001b[A\u001b[A\n",
            "\n",
            " 38%|███▊      | 6/16 [00:02<00:02,  4.21it/s]\u001b[A\u001b[A\n",
            "\n",
            " 56%|█████▋    | 9/16 [00:02<00:01,  6.95it/s]\u001b[A\u001b[A\n",
            "\n",
            "100%|██████████| 16/16 [00:03<00:00,  4.81it/s]\n",
            "\n",
            "\n",
            "  0%|          | 0/16 [00:00<?, ?it/s]\u001b[A\u001b[A\n",
            "\n",
            "  6%|▋         | 1/16 [00:00<00:09,  1.54it/s]\u001b[A\u001b[A\n",
            "\n",
            " 19%|█▉        | 3/16 [00:01<00:04,  2.63it/s]\u001b[A\u001b[A\n",
            "\n",
            " 31%|███▏      | 5/16 [00:01<00:03,  2.92it/s]\u001b[A\u001b[A\n",
            "\n",
            " 44%|████▍     | 7/16 [00:02<00:02,  3.13it/s]\u001b[A\u001b[A\n",
            "\n",
            " 56%|█████▋    | 9/16 [00:02<00:02,  3.24it/s]\u001b[A\u001b[A\n",
            "\n",
            " 69%|██████▉   | 11/16 [00:03<00:01,  3.26it/s]\u001b[A\u001b[A\n",
            "\n",
            " 81%|████████▏ | 13/16 [00:04<00:00,  3.37it/s]\u001b[A\u001b[A\n",
            "\n",
            " 88%|████████▊ | 14/16 [00:04<00:00,  3.26it/s]\u001b[A\u001b[A\n",
            "\n",
            " 94%|█████████▍| 15/16 [00:04<00:00,  3.24it/s]\u001b[A\u001b[A\n",
            "\n",
            "100%|██████████| 16/16 [00:05<00:00,  3.14it/s]\n",
            "\n",
            "\n",
            "  0%|          | 0/16 [00:00<?, ?it/s]\u001b[A\u001b[A\n",
            "\n",
            "  6%|▋         | 1/16 [00:01<00:25,  1.73s/it]\u001b[A\u001b[A\n",
            "\n",
            " 12%|█▎        | 2/16 [00:01<00:11,  1.22it/s]\u001b[A\u001b[A\n",
            "\n",
            " 31%|███▏      | 5/16 [00:02<00:03,  3.53it/s]\u001b[A\u001b[A\n",
            "\n",
            " 44%|████▍     | 7/16 [00:02<00:01,  5.14it/s]\u001b[A\u001b[A\n",
            "\n",
            " 62%|██████▎   | 10/16 [00:02<00:00,  8.17it/s]\u001b[A\u001b[A\n",
            "\n",
            " 75%|███████▌  | 12/16 [00:02<00:00,  6.35it/s]\u001b[A\u001b[A\n",
            "\n",
            " 88%|████████▊ | 14/16 [00:03<00:00,  5.96it/s]\u001b[A\u001b[A\n",
            "\n",
            " 94%|█████████▍| 15/16 [00:03<00:00,  6.26it/s]\u001b[A\u001b[A\n",
            "\n",
            "100%|██████████| 16/16 [00:03<00:00,  4.55it/s]\n",
            "\n",
            "\n",
            "  0%|          | 0/16 [00:00<?, ?it/s]\u001b[A\u001b[A\n",
            "\n",
            "  6%|▋         | 1/16 [00:00<00:08,  1.71it/s]\u001b[A\u001b[A\n",
            "\n",
            " 19%|█▉        | 3/16 [00:01<00:04,  2.69it/s]\u001b[A\u001b[A\n",
            "\n",
            " 25%|██▌       | 4/16 [00:01<00:03,  3.25it/s]\u001b[A\u001b[A\n",
            "\n",
            " 31%|███▏      | 5/16 [00:01<00:03,  2.86it/s]\u001b[A\u001b[A\n",
            "\n",
            " 38%|███▊      | 6/16 [00:01<00:02,  3.54it/s]\u001b[A\u001b[A\n",
            "\n",
            " 44%|████▍     | 7/16 [00:02<00:03,  2.67it/s]\u001b[A\u001b[A\n",
            "\n",
            " 50%|█████     | 8/16 [00:02<00:02,  2.87it/s]\u001b[A\u001b[A\n",
            "\n",
            " 56%|█████▋    | 9/16 [00:03<00:02,  2.86it/s]\u001b[A\u001b[A\n",
            "\n",
            " 62%|██████▎   | 10/16 [00:03<00:01,  3.19it/s]\u001b[A\u001b[A\n",
            "\n",
            " 69%|██████▉   | 11/16 [00:04<00:02,  2.38it/s]\u001b[A\u001b[A\n",
            "\n",
            " 81%|████████▏ | 13/16 [00:04<00:01,  2.79it/s]\u001b[A\u001b[A\n",
            "\n",
            "100%|██████████| 16/16 [00:05<00:00,  3.01it/s]\n",
            "\n",
            "\n",
            "  0%|          | 0/16 [00:00<?, ?it/s]\u001b[A\u001b[A\n",
            "\n",
            "  6%|▋         | 1/16 [00:01<00:27,  1.85s/it]\u001b[A\u001b[A\n",
            "\n",
            " 12%|█▎        | 2/16 [00:02<00:12,  1.14it/s]\u001b[A\u001b[A\n",
            "\n",
            " 19%|█▉        | 3/16 [00:02<00:07,  1.84it/s]\u001b[A\u001b[A\n",
            "\n",
            " 25%|██▌       | 4/16 [00:02<00:04,  2.62it/s]\u001b[A\u001b[A\n",
            "\n",
            " 31%|███▏      | 5/16 [00:02<00:03,  3.15it/s]\u001b[A\u001b[A\n",
            "\n",
            " 44%|████▍     | 7/16 [00:02<00:01,  5.38it/s]\u001b[A\u001b[A\n",
            "\n",
            " 56%|█████▋    | 9/16 [00:02<00:01,  6.48it/s]\u001b[A\u001b[A\n",
            "\n",
            " 75%|███████▌  | 12/16 [00:02<00:00, 10.12it/s]\u001b[A\u001b[A\n",
            "\n",
            " 88%|████████▊ | 14/16 [00:03<00:00,  6.95it/s]\u001b[A\u001b[A\n",
            "\n",
            "100%|██████████| 16/16 [00:03<00:00,  4.46it/s]\n",
            "\n",
            "\n",
            "  0%|          | 0/16 [00:00<?, ?it/s]\u001b[A\u001b[A\n",
            "\n",
            "  6%|▋         | 1/16 [00:00<00:09,  1.65it/s]\u001b[A\u001b[A\n",
            "\n",
            " 19%|█▉        | 3/16 [00:01<00:04,  2.64it/s]\u001b[A\u001b[A\n",
            "\n",
            " 25%|██▌       | 4/16 [00:01<00:03,  3.45it/s]\u001b[A\u001b[A\n",
            "\n",
            " 31%|███▏      | 5/16 [00:01<00:03,  2.78it/s]\u001b[A\u001b[A\n",
            "\n",
            " 38%|███▊      | 6/16 [00:02<00:03,  2.56it/s]\u001b[A\u001b[A\n",
            "\n",
            " 44%|████▍     | 7/16 [00:02<00:02,  3.27it/s]\u001b[A\u001b[A\n",
            "\n",
            " 50%|█████     | 8/16 [00:02<00:02,  2.75it/s]\u001b[A\u001b[A\n",
            "\n",
            " 56%|█████▋    | 9/16 [00:03<00:02,  3.39it/s]\u001b[A\u001b[A\n",
            "\n",
            " 62%|██████▎   | 10/16 [00:03<00:02,  2.76it/s]\u001b[A\u001b[A\n",
            "\n",
            " 75%|███████▌  | 12/16 [00:04<00:01,  2.88it/s]\u001b[A\u001b[A\n",
            "\n",
            " 81%|████████▏ | 13/16 [00:04<00:01,  2.91it/s]\u001b[A\u001b[A\n",
            "\n",
            " 88%|████████▊ | 14/16 [00:04<00:00,  3.17it/s]\u001b[A\u001b[A\n",
            "\n",
            " 94%|█████████▍| 15/16 [00:05<00:00,  2.87it/s]\u001b[A\u001b[A\n",
            "\n",
            "100%|██████████| 16/16 [00:05<00:00,  2.93it/s]"
          ]
        },
        {
          "output_type": "stream",
          "name": "stdout",
          "text": [
            "\n",
            "Semantic Similarity Score: 0.9601992491856246\n",
            "Top-k: 2\n",
            "Chunk size: 256\n"
          ]
        },
        {
          "output_type": "stream",
          "name": "stderr",
          "text": [
            "\n"
          ]
        }
      ]
    },
    {
      "cell_type": "code",
      "source": [
        "import matplotlib.pyplot as plt\n",
        "\n",
        "# use the following lists to store data\n",
        "scores = []\n",
        "top_k_chunk_combos = []\n",
        "\n",
        "for result in results.run_results:\n",
        "    p = result.params\n",
        "    score = result.score\n",
        "    top_k = p[\"top_k\"]\n",
        "    chunk_size = p[\"chunk_size\"]\n",
        "\n",
        "    # Combine top_k and chunk_size for x-axis label\n",
        "    top_k_chunk_combo = f\"{top_k}_{chunk_size}\"\n",
        "\n",
        "    # Append values to the lists\n",
        "    scores.append(score)\n",
        "    top_k_chunk_combos.append(top_k_chunk_combo)\n",
        "\n",
        "    print(f\"Score: {score}, Top_k: {top_k}, Chunk_size: {chunk_size}\")\n",
        "\n",
        "# Create a line chart\n",
        "plt.plot(top_k_chunk_combos, scores, marker='o', linestyle='-')\n",
        "plt.xlabel('Top_k and Chunk_size')\n",
        "plt.ylabel('Score')\n",
        "plt.title('Score vs Top_k and Chunk_size')\n",
        "plt.xticks(rotation=45, ha=\"right\")  # Rotate x-axis labels for better visibility\n",
        "plt.show()\n"
      ],
      "metadata": {
        "colab": {
          "base_uri": "https://localhost:8080/",
          "height": 567
        },
        "id": "vEg5Dz4R0P_f",
        "outputId": "242530c7-723d-4304-a4c8-e6211aa80cec"
      },
      "execution_count": 21,
      "outputs": [
        {
          "output_type": "stream",
          "name": "stdout",
          "text": [
            "Score: 0.9601992491856246, Top_k: 2, Chunk_size: 256\n",
            "Score: 0.9595517151982862, Top_k: 2, Chunk_size: 512\n",
            "Score: 0.9479836654918298, Top_k: 1, Chunk_size: 512\n",
            "Score: 0.9476009379886216, Top_k: 1, Chunk_size: 256\n"
          ]
        },
        {
          "output_type": "display_data",
          "data": {
            "text/plain": [
              "<Figure size 640x480 with 1 Axes>"
            ],
            "image/png": "[encoded data removed]"
          },
          "metadata": {}
        }
      ]
    },
    {
      "cell_type": "code",
      "source": [
        "import matplotlib.pyplot as plt\n",
        "import numpy as np\n",
        "\n",
        "# use the following lists to store data\n",
        "scores = []\n",
        "top_k_chunk_combos = []\n",
        "\n",
        "for result in results.run_results:\n",
        "    p = result.params\n",
        "    score = result.score\n",
        "    top_k = p[\"top_k\"]\n",
        "    chunk_size = p[\"chunk_size\"]\n",
        "\n",
        "    # Combine top_k and chunk_size for x-axis label\n",
        "    top_k_chunk_combo = f\"{top_k}_{chunk_size}\"\n",
        "\n",
        "    # Append values to the lists\n",
        "    scores.append(score)\n",
        "    top_k_chunk_combos.append(top_k_chunk_combo)\n",
        "\n",
        "    print(f\"Score: {score}, Top_k: {top_k}, Chunk_size: {chunk_size}\")\n",
        "\n",
        "# Create a bar chart with log scale for the y-axis\n",
        "plt.bar(top_k_chunk_combos, scores, align='center', alpha=0.7)\n",
        "plt.yscale('log')  # Set log scale for the y-axis\n",
        "plt.xlabel('Top_k and Chunk_size')\n",
        "plt.ylabel('Score (log scale)')\n",
        "plt.title('Score vs Top_k and Chunk_size')\n",
        "plt.xticks(rotation=45, ha=\"right\")  # Rotate x-axis labels for better visibility\n",
        "plt.show()\n"
      ],
      "metadata": {
        "colab": {
          "base_uri": "https://localhost:8080/",
          "height": 567
        },
        "id": "e4rDtVIB1pxa",
        "outputId": "c7d61f6f-c906-44ed-f2aa-84076088f565"
      },
      "execution_count": 22,
      "outputs": [
        {
          "output_type": "stream",
          "name": "stdout",
          "text": [
            "Score: 0.9601992491856246, Top_k: 2, Chunk_size: 256\n",
            "Score: 0.9595517151982862, Top_k: 2, Chunk_size: 512\n",
            "Score: 0.9479836654918298, Top_k: 1, Chunk_size: 512\n",
            "Score: 0.9476009379886216, Top_k: 1, Chunk_size: 256\n"
          ]
        },
        {
          "output_type": "display_data",
          "data": {
            "text/plain": [
              "<Figure size 640x480 with 1 Axes>"
            ],
            "image/png": "[encoded data removed]"
          },
          "metadata": {}
        }
      ]
    },
    {
      "cell_type": "code",
      "source": [],
      "metadata": {
        "id": "sduWS2qd7J7e"
      },
      "execution_count": null,
      "outputs": []
    }
  ]
}