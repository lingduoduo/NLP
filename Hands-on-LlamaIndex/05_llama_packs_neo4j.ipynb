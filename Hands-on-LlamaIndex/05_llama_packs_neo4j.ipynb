{
  "nbformat": 4,
  "nbformat_minor": 0,
  "metadata": {
    "colab": {
      "provenance": [],
      "machine_shape": "hm",
      "authorship_tag": "ABX9TyOf+g0DMk/IibgZ/B2wNiBG",
      "include_colab_link": true
    },
    "kernelspec": {
      "name": "python3",
      "display_name": "Python 3"
    },
    "language_info": {
      "name": "python"
    }
  },
  "cells": [
    {
      "cell_type": "markdown",
      "metadata": {
        "id": "view-in-github",
        "colab_type": "text"
      },
      "source": [
        "<a href=\"https://colab.research.google.com/github/wenqiglantz/hands-on-llamaindex/blob/main/05_llama_packs_neo4j.ipynb\" target=\"_parent\"><img src=\"https://colab.research.google.com/assets/colab-badge.svg\" alt=\"Open In Colab\"/></a>"
      ]
    },
    {
      "cell_type": "markdown",
      "source": [
        "# Llama Pack - Neo4j Query Engine\n",
        "\n",
        "This Llama Pack creates a Neo4j knowledge graph query engine, and executes its `query` function. This pack offers the option of creating multiple types of query engines for Neo4j knowledge graphs, namely:\n",
        "\n",
        "* Knowledge graph vector-based entity retrieval (default if no query engine type option is provided)\n",
        "* Knowledge graph keyword-based entity retrieval\n",
        "* Knowledge graph hybrid entity retrieval\n",
        "* Raw vector index retrieval\n",
        "* Custom combo query engine (vector similarity + KG entity retrieval)\n",
        "* KnowledgeGraphQueryEngine\n",
        "* KnowledgeGraphRAGRetriever\n",
        "\n",
        "For this notebook, we will load a Wikipedia page on paleo diet into Neo4j KG and perform queries."
      ],
      "metadata": {
        "id": "lTR76MnbHlMF"
      }
    },
    {
      "cell_type": "code",
      "source": [
        "%pip install -q llama-index-readers-wikipedia\n",
        "%pip install -q llama-index-llms-openai\n",
        "%pip install -q llama-index-packs-neo4j-query-engine"
      ],
      "metadata": {
        "id": "32tjbFfqozv3"
      },
      "execution_count": 1,
      "outputs": []
    },
    {
      "cell_type": "code",
      "source": [
        "!pip install -q neo4j llama-index wikipedia"
      ],
      "metadata": {
        "id": "gZhtMcUkhCRn",
        "colab": {
          "base_uri": "https://localhost:8080/"
        },
        "outputId": "f6aa3064-d6e0-47a5-f25b-2e289a4050dd"
      },
      "execution_count": 2,
      "outputs": [
        {
          "output_type": "stream",
          "name": "stdout",
          "text": [
            "  Preparing metadata (setup.py) ... \u001b[?25l\u001b[?25hdone\n",
            "  Building wheel for wikipedia (setup.py) ... \u001b[?25l\u001b[?25hdone\n"
          ]
        }
      ]
    },
    {
      "cell_type": "code",
      "source": [
        "import os, openai, logging, sys\n",
        "from google.colab import userdata\n",
        "\n",
        "# set OpenAI API key in environment variable\n",
        "os.environ[\"OPENAI_API_KEY\"] = userdata.get(\"OPENAI_API_KEY\")\n",
        "\n",
        "logging.basicConfig(stream=sys.stdout, level=logging.INFO)\n",
        "logging.getLogger().addHandler(logging.StreamHandler(stream=sys.stdout))"
      ],
      "metadata": {
        "id": "9WMxhw2Yjpjs"
      },
      "execution_count": 3,
      "outputs": []
    },
    {
      "cell_type": "markdown",
      "source": [
        "## Setup Data\n",
        "\n",
        "Load a Wikipedia page on paleo diet."
      ],
      "metadata": {
        "id": "y8B2WvxtNs0V"
      }
    },
    {
      "cell_type": "code",
      "source": [
        "from llama_index.core import download_loader\n",
        "from llama_index.readers.wikipedia import WikipediaReader\n",
        "\n",
        "WikipediaReader = download_loader(\"WikipediaReader\")\n",
        "documents = WikipediaReader().load_data(pages=['Paleolithic diet'], auto_suggest=False)\n",
        "print(f'Loaded {len(documents)} documents')"
      ],
      "metadata": {
        "colab": {
          "base_uri": "https://localhost:8080/"
        },
        "id": "2xC1ThySNsAY",
        "outputId": "a274b114-8179-4279-83a9-6ba3a35ccad4"
      },
      "execution_count": 4,
      "outputs": [
        {
          "output_type": "stream",
          "name": "stderr",
          "text": [
            "<ipython-input-4-085f40beb6c8>:4: DeprecationWarning: Call to deprecated function (or staticmethod) download_loader. (`download_loader()` is deprecated. Please install tool using pip install directly instead.)\n",
            "  WikipediaReader = download_loader(\"WikipediaReader\")\n"
          ]
        },
        {
          "output_type": "stream",
          "name": "stdout",
          "text": [
            "Loaded 1 documents\n"
          ]
        }
      ]
    },
    {
      "cell_type": "markdown",
      "source": [
        "## Download and Initialize Pack"
      ],
      "metadata": {
        "id": "icH9lDT7LAQH"
      }
    },
    {
      "cell_type": "code",
      "source": [
        "from llama_index.core.llama_pack import download_llama_pack\n",
        "\n",
        "# download and install dependencies\n",
        "Neo4jQueryEnginePack = download_llama_pack(\n",
        "  \"Neo4jQueryEnginePack\", \"./neo4j_pack\"\n",
        ")"
      ],
      "metadata": {
        "id": "-SOCDPS32GM7"
      },
      "execution_count": 5,
      "outputs": []
    },
    {
      "cell_type": "markdown",
      "source": [
        "Assume you have the credentials for Neo4j stored in `credentials.json` at the project root, you load the json and extract the credential details. `credentials.json` is in the following format (replace the \"#\" symbol with your actual password or url):\n",
        "```\n",
        "{\n",
        "    \"username\": \"neo4j\",\n",
        "    \"password\": \"##############\",\n",
        "    \"url\": \"neo4j+s://#######.databases.neo4j.io\",\n",
        "    \"database\": \"neo4j\"\n",
        "}\n",
        "```\n",
        "\n",
        "If you don't have a Neo4j db provisioned, you can provision a new free instance under Neo4j Aura through Neo4j website."
      ],
      "metadata": {
        "id": "l1oGbRIPN3RS"
      }
    },
    {
      "cell_type": "code",
      "source": [
        "import json\n",
        "\n",
        "# get Neo4j credentials (assume it's stored in credentials.json)\n",
        "with open('credentials.json') as f:\n",
        "  neo4j_connection_params = json.load(f)\n",
        "  username = neo4j_connection_params['username']\n",
        "  password = neo4j_connection_params['password']\n",
        "  url = neo4j_connection_params['url']\n",
        "  database = neo4j_connection_params['database']"
      ],
      "metadata": {
        "id": "KO0oa4GJ0_Gx"
      },
      "execution_count": 7,
      "outputs": []
    },
    {
      "cell_type": "markdown",
      "source": [
        "See below how `Neo4jQueryEnginePack` is constructed.  You can pass in the `query_engine_type` from `Neo4jQueryEngineType` to construct `Neo4jQueryEnginePack`. The code snippet below shows a KG keyword query engine.  If `query_engine_type` is not defined, it defaults to KG vector based entity retrieval.\n",
        "\n",
        "`Neo4jQueryEngineType` is an enum, which holds various query engine types, see below. You can pass in any of these query engine types to construct `Neo4jQueryEnginePack`.\n",
        "```\n",
        "class Neo4jQueryEngineType(str, Enum):\n",
        "    \"\"\"Neo4j query engine type\"\"\"\n",
        "\n",
        "    KG_KEYWORD = \"keyword\"\n",
        "    KG_HYBRID = \"hybrid\"\n",
        "    RAW_VECTOR = \"vector\"\n",
        "    RAW_VECTOR_KG_COMBO = \"vector_kg\"\n",
        "    KG_QE = \"KnowledgeGraphQueryEngine\"\n",
        "    KG_RAG_RETRIEVER = \"KnowledgeGraphRAGRetriever\"\n",
        "```"
      ],
      "metadata": {
        "id": "vTUiXf5xLRRO"
      }
    },
    {
      "cell_type": "code",
      "source": [
        "from llama_index.packs.neo4j_query_engine.base import Neo4jQueryEngineType\n",
        "\n",
        "# create the pack\n",
        "neo4j_pack = Neo4jQueryEnginePack(\n",
        "  username = username,\n",
        "  password = password,\n",
        "  url = url,\n",
        "  database = database,\n",
        "  docs = documents,\n",
        "  query_engine_type = Neo4jQueryEngineType.KG_KEYWORD\n",
        ")"
      ],
      "metadata": {
        "colab": {
          "base_uri": "https://localhost:8080/"
        },
        "id": "MldEbU3xz3Yk",
        "outputId": "c3fbbe83-6955-4862-9477-e3018a6f670e"
      },
      "execution_count": 8,
      "outputs": [
        {
          "output_type": "stream",
          "name": "stdout",
          "text": [
            "loaded nodes with 8 nodes\n"
          ]
        }
      ]
    },
    {
      "cell_type": "markdown",
      "source": [
        "## Run Pack"
      ],
      "metadata": {
        "id": "2ViEkJinLLiH"
      }
    },
    {
      "cell_type": "code",
      "source": [
        "from IPython.display import Markdown\n",
        "\n",
        "response = neo4j_pack.run(\"Tell me about the benefits of paleo diet.\")\n",
        "display(Markdown(f\"<b>{response}</b>\"))"
      ],
      "metadata": {
        "colab": {
          "base_uri": "https://localhost:8080/",
          "height": 150
        },
        "id": "mn2DIWuX1XBR",
        "outputId": "ac09de28-4a75-4cd4-8bdf-1d045ed0d33e"
      },
      "execution_count": 9,
      "outputs": [
        {
          "output_type": "display_data",
          "data": {
            "text/plain": [
              "<IPython.core.display.Markdown object>"
            ],
            "text/markdown": "<b>The paleo diet is a popular eating plan that focuses on consuming foods that were available to our ancestors during the Paleolithic era. Advocates of the paleo diet claim that it offers several benefits. One of the main benefits is weight loss, as the diet encourages the consumption of whole, unprocessed foods that are low in calories and high in nutrients. Additionally, the paleo diet promotes the intake of lean proteins, which can help increase satiety and reduce cravings. It also emphasizes the consumption of fruits and vegetables, which are rich in vitamins, minerals, and antioxidants. Some people also report improved digestion, increased energy levels, and better blood sugar control when following the paleo diet. However, it is important to note that individual results may vary, and it is always recommended to consult with a healthcare professional before making any significant changes to your diet.</b>"
          },
          "metadata": {}
        }
      ]
    },
    {
      "cell_type": "markdown",
      "source": [
        "Let's try out the KG hybrid query engine. See code below.  You can try any other query engines in a similar way by replacing the `query_engine_type` with another query engine type from `Neo4jQueryEngineType` enum."
      ],
      "metadata": {
        "id": "a8JoNXXwL9_M"
      }
    },
    {
      "cell_type": "code",
      "source": [
        "neo4j_pack = Neo4jQueryEnginePack(\n",
        "  username = username,\n",
        "  password = password,\n",
        "  url = url,\n",
        "  database = database,\n",
        "  docs = documents,\n",
        "  query_engine_type = Neo4jQueryEngineType.KG_HYBRID\n",
        ")\n",
        "\n",
        "response = neo4j_pack.run(\"Tell me about the benefits of paleo diet.\")\n",
        "display(Markdown(f\"<b>{response}</b>\"))"
      ],
      "metadata": {
        "colab": {
          "base_uri": "https://localhost:8080/",
          "height": 203
        },
        "id": "vEzStIYvJa9S",
        "outputId": "180dcd76-6142-4868-d29d-defb5739c805"
      },
      "execution_count": 10,
      "outputs": [
        {
          "output_type": "stream",
          "name": "stdout",
          "text": [
            "loaded nodes with 8 nodes\n"
          ]
        },
        {
          "output_type": "display_data",
          "data": {
            "text/plain": [
              "<IPython.core.display.Markdown object>"
            ],
            "text/markdown": "<b>The paleo diet is believed to have some potential benefits for improving health. Advocates of the diet claim that following it may lead to improvements in body composition and metabolism compared to the typical Western diet or other recommended diets. Some evidence suggests that the paleo diet may help with weight loss, possibly due to increased satiety from the foods typically consumed. However, it is important to note that any weight loss achieved from the paleo diet is likely due to overall decreased caloric intake rather than any special feature of the diet itself. Additionally, the paleo diet encourages the consumption of whole, unprocessed foods, which aligns with mainstream advice about diet and can result in reduced intake of processed foods, sugar, and salt. It also shares similarities with traditional ethnic diets, such as the Mediterranean diet, which have been found to be more healthful than the Western diet. However, it is worth mentioning that following the paleo diet can lead to nutritional deficiencies, such as inadequate intake of calcium and vitamin D, and may increase the risk of ingesting toxins from high fish consumption. It is always recommended to consult with a healthcare professional or registered dietitian before making any significant changes to your diet.</b>"
          },
          "metadata": {}
        }
      ]
    },
    {
      "cell_type": "markdown",
      "source": [
        "## Comparison of the Knowledge Graph Query Strategies\n",
        "\n",
        "The table below lists the details of the 7 query engines, and their pros and cons based on experiments with NebulaGraph and LlamaIndex, as outlined in the blog post [7 Query Strategies for Navigating Knowledge Graphs with LlamaIndex](https://betterprogramming.pub/7-query-strategies-for-navigating-knowledge-graphs-with-llamaindex-ed551863d416?sk=55c94ad72e75aa52ac6cc21d8145b37d)."
      ],
      "metadata": {
        "id": "XoK0BiKZDMaJ"
      }
    },
    {
      "cell_type": "markdown",
      "source": [
        "![Knowledge Graph query strategies comparison](https://miro.medium.com/v2/resize:fit:1400/format:webp/1*0UsLpj7v2GO67U-99YJBfg.png)"
      ],
      "metadata": {
        "id": "DVr0XiFBGMY-"
      }
    }
  ]
}