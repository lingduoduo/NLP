{
  "nbformat": 4,
  "nbformat_minor": 0,
  "metadata": {
    "colab": {
      "provenance": [],
      "include_colab_link": true
    },
    "kernelspec": {
      "name": "python3",
      "display_name": "Python 3"
    },
    "language_info": {
      "name": "python"
    }
  },
  "cells": [
    {
      "cell_type": "markdown",
      "metadata": {
        "id": "view-in-github",
        "colab_type": "text"
      },
      "source": [
        "<a href=\"https://colab.research.google.com/github/lingduoduo/NLP/blob/master/02_agents_openai.ipynb\" target=\"_parent\"><img src=\"https://colab.research.google.com/assets/colab-badge.svg\" alt=\"Open In Colab\"/></a>"
      ]
    },
    {
      "cell_type": "markdown",
      "source": [
        "# OpenAIAgent\n",
        "\n",
        "`OpenAIAgent` is an OpenAI (function calling) Agent. It uses the OpenAI function API to reason about whether to use a tool, and returning the response to the user. It supports both a flat list of tools as well as retrieval over the tools.\n",
        "\n",
        "LlamaIndex notebook: https://docs.llamaindex.ai/en/stable/examples/agent/openai_agent_with_query_engine.html."
      ],
      "metadata": {
        "id": "w6qrv-94BOkI"
      }
    },
    {
      "cell_type": "markdown",
      "source": [
        "## Step 1: Install and Setup"
      ],
      "metadata": {
        "id": "UoeYplhDnnYo"
      }
    },
    {
      "cell_type": "code",
      "execution_count": 1,
      "metadata": {
        "colab": {
          "base_uri": "https://localhost:8080/"
        },
        "id": "x-AxXhasiV5F",
        "outputId": "27421571-1a6e-4a18-ddfa-da0a93e1edeb"
      },
      "outputs": [
        {
          "output_type": "stream",
          "name": "stdout",
          "text": [
            "\u001b[2K     \u001b[90m━━━━━━━━━━━━━━━━━━━━━━━━━━━━━━━━━━━━━━━━\u001b[0m \u001b[32m295.7/295.7 kB\u001b[0m \u001b[31m4.2 MB/s\u001b[0m eta \u001b[36m0:00:00\u001b[0m\n",
            "\u001b[2K     \u001b[90m━━━━━━━━━━━━━━━━━━━━━━━━━━━━━━━━━━━━━━━━\u001b[0m \u001b[32m15.5/15.5 MB\u001b[0m \u001b[31m19.7 MB/s\u001b[0m eta \u001b[36m0:00:00\u001b[0m\n",
            "\u001b[2K     \u001b[90m━━━━━━━━━━━━━━━━━━━━━━━━━━━━━━━━━━━━━━━━\u001b[0m \u001b[32m2.0/2.0 MB\u001b[0m \u001b[31m28.0 MB/s\u001b[0m eta \u001b[36m0:00:00\u001b[0m\n",
            "\u001b[2K     \u001b[90m━━━━━━━━━━━━━━━━━━━━━━━━━━━━━━━━━━━━━━━━\u001b[0m \u001b[32m75.6/75.6 kB\u001b[0m \u001b[31m3.2 MB/s\u001b[0m eta \u001b[36m0:00:00\u001b[0m\n",
            "\u001b[2K     \u001b[90m━━━━━━━━━━━━━━━━━━━━━━━━━━━━━━━━━━━━━━━━\u001b[0m \u001b[32m328.5/328.5 kB\u001b[0m \u001b[31m14.8 MB/s\u001b[0m eta \u001b[36m0:00:00\u001b[0m\n",
            "\u001b[2K     \u001b[90m━━━━━━━━━━━━━━━━━━━━━━━━━━━━━━━━━━━━━━━━\u001b[0m \u001b[32m1.1/1.1 MB\u001b[0m \u001b[31m36.2 MB/s\u001b[0m eta \u001b[36m0:00:00\u001b[0m\n",
            "\u001b[2K     \u001b[90m━━━━━━━━━━━━━━━━━━━━━━━━━━━━━━━━━━━━━━━━\u001b[0m \u001b[32m146.8/146.8 kB\u001b[0m \u001b[31m9.8 MB/s\u001b[0m eta \u001b[36m0:00:00\u001b[0m\n",
            "\u001b[2K     \u001b[90m━━━━━━━━━━━━━━━━━━━━━━━━━━━━━━━━━━━━━━━━\u001b[0m \u001b[32m77.9/77.9 kB\u001b[0m \u001b[31m5.6 MB/s\u001b[0m eta \u001b[36m0:00:00\u001b[0m\n",
            "\u001b[2K     \u001b[90m━━━━━━━━━━━━━━━━━━━━━━━━━━━━━━━━━━━━━━━━\u001b[0m \u001b[32m58.3/58.3 kB\u001b[0m \u001b[31m5.9 MB/s\u001b[0m eta \u001b[36m0:00:00\u001b[0m\n",
            "\u001b[2K     \u001b[90m━━━━━━━━━━━━━━━━━━━━━━━━━━━━━━━━━━━━━━━━\u001b[0m \u001b[32m49.2/49.2 kB\u001b[0m \u001b[31m3.6 MB/s\u001b[0m eta \u001b[36m0:00:00\u001b[0m\n",
            "\u001b[?25h"
          ]
        }
      ],
      "source": [
        "!pip install -q llama_index pypdf"
      ]
    },
    {
      "cell_type": "code",
      "source": [
        "import logging, sys, os\n",
        "import nest_asyncio\n",
        "from google.colab import userdata\n",
        "\n",
        "# set OpenAI API key in environment variable\n",
        "os.environ[\"OPENAI_API_KEY\"] = \"sk-\"\n",
        "\n",
        "# serves to enable nested asynchronous event loops, recommended for colab notebook\n",
        "nest_asyncio.apply()\n",
        "\n",
        "logging.basicConfig(stream=sys.stdout, level=logging.INFO)\n",
        "logging.getLogger().addHandler(logging.StreamHandler(stream=sys.stdout))"
      ],
      "metadata": {
        "id": "CnfQH6r-izSm"
      },
      "execution_count": 2,
      "outputs": []
    },
    {
      "cell_type": "code",
      "source": [
        "!mkdir sample_data/reports\n",
        "!wget https://www.fiscal.treasury.gov/files/reports-statements/financial-report/2020/executive-summary-2020.pdf -O sample_data/reports/2020-executive-summary.pdf\n",
        "!wget https://www.fiscal.treasury.gov/files/reports-statements/financial-report/2021/executive-summary-2021.pdf -O sample_data/reports/2021-executive-summary.pdf\n",
        "!wget https://www.fiscal.treasury.gov/files/reports-statements/financial-report/2022/executive-summary-2022.pdf -O sample_data/reports/2022-executive-summary.pdf"
      ],
      "metadata": {
        "colab": {
          "base_uri": "https://localhost:8080/"
        },
        "id": "_FzMb8MqJt2D",
        "outputId": "3a5d9b2a-6599-40a1-fd18-6c93c5185f58"
      },
      "execution_count": 3,
      "outputs": [
        {
          "output_type": "stream",
          "name": "stdout",
          "text": [
            "--2024-07-14 23:44:14--  https://www.fiscal.treasury.gov/files/reports-statements/financial-report/2020/executive-summary-2020.pdf\n",
            "Resolving www.fiscal.treasury.gov (www.fiscal.treasury.gov)... 164.95.95.168, 2610:108:3100:100c::8:118\n",
            "Connecting to www.fiscal.treasury.gov (www.fiscal.treasury.gov)|164.95.95.168|:443... connected.\n",
            "HTTP request sent, awaiting response... 200 OK\n",
            "Length: 2323072 (2.2M) [application/pdf]\n",
            "Saving to: ‘sample_data/reports/2020-executive-summary.pdf’\n",
            "\n",
            "sample_data/reports 100%[===================>]   2.21M  1.87MB/s    in 1.2s    \n",
            "\n",
            "2024-07-14 23:44:16 (1.87 MB/s) - ‘sample_data/reports/2020-executive-summary.pdf’ saved [2323072/2323072]\n",
            "\n",
            "--2024-07-14 23:44:16--  https://www.fiscal.treasury.gov/files/reports-statements/financial-report/2021/executive-summary-2021.pdf\n",
            "Resolving www.fiscal.treasury.gov (www.fiscal.treasury.gov)... 164.95.95.168, 2610:108:3100:100c::8:118\n",
            "Connecting to www.fiscal.treasury.gov (www.fiscal.treasury.gov)|164.95.95.168|:443... connected.\n",
            "HTTP request sent, awaiting response... 200 OK\n",
            "Length: 1001902 (978K) [application/pdf]\n",
            "Saving to: ‘sample_data/reports/2021-executive-summary.pdf’\n",
            "\n",
            "sample_data/reports 100%[===================>] 978.42K  1.20MB/s    in 0.8s    \n",
            "\n",
            "2024-07-14 23:44:17 (1.20 MB/s) - ‘sample_data/reports/2021-executive-summary.pdf’ saved [1001902/1001902]\n",
            "\n",
            "--2024-07-14 23:44:17--  https://www.fiscal.treasury.gov/files/reports-statements/financial-report/2022/executive-summary-2022.pdf\n",
            "Resolving www.fiscal.treasury.gov (www.fiscal.treasury.gov)... 164.95.95.168, 2610:108:3100:100c::8:118\n",
            "Connecting to www.fiscal.treasury.gov (www.fiscal.treasury.gov)|164.95.95.168|:443... connected.\n",
            "HTTP request sent, awaiting response... 200 OK\n",
            "Length: 1042072 (1018K) [application/pdf]\n",
            "Saving to: ‘sample_data/reports/2022-executive-summary.pdf’\n",
            "\n",
            "sample_data/reports 100%[===================>]   1018K  1.23MB/s    in 0.8s    \n",
            "\n",
            "2024-07-14 23:44:18 (1.23 MB/s) - ‘sample_data/reports/2022-executive-summary.pdf’ saved [1042072/1042072]\n",
            "\n"
          ]
        }
      ]
    },
    {
      "cell_type": "markdown",
      "source": [
        "## Step 2: Load data, build indices, define OpenAIAgent"
      ],
      "metadata": {
        "id": "za3keMvgqOMY"
      }
    },
    {
      "cell_type": "code",
      "source": [
        "from llama_index.core import SimpleDirectoryReader, VectorStoreIndex\n",
        "from llama_index.core.tools import QueryEngineTool, ToolMetadata\n",
        "from llama_index.agent.openai import OpenAIAgent\n",
        "import os\n",
        "\n",
        "query_engine_tools = []\n",
        "\n",
        "for filename in os.listdir(\"sample_data/\"):\n",
        "    if filename.endswith(\".pdf\"):\n",
        "        file_path = os.path.join(\"reports\", filename)\n",
        "\n",
        "        with open(file_path, \"r\") as file:\n",
        "            documents = SimpleDirectoryReader(input_files=[file_path]).load_data()\n",
        "            print(f\"Loaded {len(documents)} documents from {filename}\")\n",
        "            print(filename[:-4])\n",
        "\n",
        "            index = VectorStoreIndex.from_documents(documents)\n",
        "            query_engine = index.as_query_engine(similarity_top_k=5)\n",
        "            query_engine_tool = QueryEngineTool.from_defaults(\n",
        "                query_engine=query_engine,\n",
        "                name=f\"{filename[:-4]}\",  # Construct name without extension\n",
        "                description=f\"Provides information about the U.S. government financial report {filename[:-4]}\",\n",
        "            )\n",
        "            query_engine_tools.append(query_engine_tool)\n",
        "\n",
        "agent = OpenAIAgent.from_tools(query_engine_tools, verbose=True)"
      ],
      "metadata": {
        "id": "AigYso6fjEow"
      },
      "execution_count": 5,
      "outputs": []
    },
    {
      "cell_type": "markdown",
      "source": [
        "## Step 3: Execute Queries"
      ],
      "metadata": {
        "id": "JPuLCTpLqmAC"
      }
    },
    {
      "cell_type": "code",
      "source": [
        "from IPython.display import Markdown\n",
        "\n",
        "response = agent.chat(\"Can you compare and contrast the government's bottom line net operating cost amount for all three years and tell me which year has the highest cost?\")\n",
        "display(Markdown(f\"<b>{response}</b>\"))"
      ],
      "metadata": {
        "colab": {
          "base_uri": "https://localhost:8080/",
          "height": 101
        },
        "id": "ah5o_RQXmrNk",
        "outputId": "76f7b0c2-409b-4644-ae50-6d2cb2d65ad5"
      },
      "execution_count": 6,
      "outputs": [
        {
          "output_type": "stream",
          "name": "stdout",
          "text": [
            "Added user message to memory: Can you compare and contrast the government's bottom line net operating cost amount for all three years and tell me which year has the highest cost?\n"
          ]
        },
        {
          "output_type": "display_data",
          "data": {
            "text/plain": [
              "<IPython.core.display.Markdown object>"
            ],
            "text/markdown": "<b>To compare and contrast the government's bottom line net operating cost amount for all three years, we would need the specific figures for each year. Without that information, we cannot determine which year has the highest cost.</b>"
          },
          "metadata": {}
        }
      ]
    },
    {
      "cell_type": "code",
      "source": [],
      "metadata": {
        "id": "h6Dd_yS_oww2"
      },
      "execution_count": null,
      "outputs": []
    }
  ]
}