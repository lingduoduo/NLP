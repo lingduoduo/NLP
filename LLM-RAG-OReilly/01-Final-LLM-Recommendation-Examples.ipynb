{
 "cells": [
  {
   "cell_type": "code",
   "execution_count": 9,
   "id": "00d3b5dd-6a2d-43be-af67-cf636cc9cdb4",
   "metadata": {},
   "outputs": [],
   "source": [
    "from datasets import load_dataset"
   ]
  },
  {
   "cell_type": "code",
   "execution_count": 10,
   "id": "385200d3-f308-4da0-92a4-785eb94ab03a",
   "metadata": {},
   "outputs": [
    {
     "name": "stderr",
     "output_type": "stream",
     "text": [
      "/Users/linghuang/miniconda3/envs/llama-index/lib/python3.10/site-packages/datasets/load.py:1461: FutureWarning: The repository for xsum contains custom code which must be executed to correctly load the dataset. You can inspect the repository content at https://hf.co/datasets/xsum\n",
      "You can avoid this message in future by passing the argument `trust_remote_code=True`.\n",
      "Passing `trust_remote_code=True` will be mandatory to load this dataset from the next major release of `datasets`.\n",
      "  warnings.warn(\n"
     ]
    }
   ],
   "source": [
    "xsum_dataset = load_dataset(\n",
    "    \"xsum\", version=\"1.2.0\"\n",
    ")"
   ]
  },
  {
   "cell_type": "code",
   "execution_count": 11,
   "id": "b4617eaf-28d5-4fb1-ab65-b797853d68a6",
   "metadata": {},
   "outputs": [],
   "source": [
    "# Taking a sample of 100 rows\n",
    "xsum_sample = xsum_dataset[\"train\"].select(range(1000)).to_pandas()\n",
    "# Combining 'document' and 'summary' columns\n",
    "xsum_sample[\"combined\"] = (\n",
    "    \"Document: \" + xsum_sample.document.str.strip() + \"; Summary: \" + xsum_sample.summary.str.strip()\n",
    ")        "
   ]
  },
  {
   "cell_type": "code",
   "execution_count": 12,
   "id": "884855aa-1036-4c2a-b357-8d6f450fbd20",
   "metadata": {},
   "outputs": [
    {
     "name": "stdout",
     "output_type": "stream",
     "text": [
      "\n",
      "Document: The firm told a judicial review it did not accept the discharge of final treated effluent had degraded the quality of Llyn Padarn at Llanberis.\n",
      "Anglers claim water quality threatens the future of the Arctic char fish.\n",
      "A High Court judge reserved judgement in the case at Caernarfon on Wednesday.\n",
      "The judicial review proceedings have been brought by the Seiont, Gwyrfai, and Llyfni Anglers Society, represented by a body called Fish Legal - an umbrella organisation for fishing groups.\n",
      "Lawyers claimed Natural Resources Wales (NRW) had not done enough to protect the Arctic char, primarily from raw sewage and treated effluent discharged by Welsh Water.\n",
      "The company said since 2010 it had invested £3.6m at the works, with another £4.6m agreed to be spent by summer 2016.\n",
      "It said the work completed meant the lake met water quality standards necessary to be awarded bathing water status by the Welsh government.\n",
      "\"It is not accepted that the discharge of final treated effluent has degraded the lake as alleged by the society, or caused damage to fish stocks,\" its statement  added.\n",
      "Summary: More than £4.5m is to be spent at a water treatment works near a Snowdonia lake to improve the quality of water returned to the environment, Welsh Water has said.\n",
      "\n",
      "Document: The plans include a new propylene production unit, with sites in Belgium among locations being considered.\n",
      "It also plans to increase the ethylene capacity of its crackers at Grangemouth in Scotland and Rafnes in Norway.\n",
      "Both rely on fracked shale gas being shipped across to Europe from the US.\n",
      "Ethylene and propylene are key building blocks in the manufacture of plastics.\n",
      "In a statement, Ineos said its investment would boost the amount of ethylene it can produce at each plant in Grangemouth and Rafnes by about 50%, to more than one million tonnes.\n",
      "About 150 new jobs are expected to be created at each location, once the expansion of processing units is completed in three to four years' time.\n",
      "Gerd Franken, from Ineos, said: \"These expansions and new-builds will increase our self-sufficiency in all key olefin products and give further support to our derivative businesses and polymer plants in Europe.\n",
      "\"All our assets will benefit from our capability to import competitive raw materials from the US and the rest of the world.\"\n",
      "Summary: Ineos has announced plans to build a new European petrochemical production plant and boost capacity at plants in Scotland and Norway at a cost of about two billion euros (£1.8bn).\n"
     ]
    }
   ],
   "source": [
    "# print the title, description, and label of each example\n",
    "for idx, row in xsum_sample.sample(2).iterrows():\n",
    "    print(\"\")\n",
    "    print(f\"Document: {row['document']}\")\n",
    "    print(f\"Summary: {row['summary']}\")"
   ]
  },
  {
   "cell_type": "markdown",
   "id": "4ffeacfe-f43c-40b7-a472-8850dbd89b17",
   "metadata": {},
   "source": [
    "### Generate Embedding"
   ]
  },
  {
   "cell_type": "code",
   "execution_count": 16,
   "id": "6bb4e643-6a8e-4756-96d0-cfcd510013df",
   "metadata": {},
   "outputs": [],
   "source": [
    "import os\n",
    "from dotenv import load_dotenv, find_dotenv\n",
    "import openai\n",
    "from openai.embeddings_utils import get_embedding\n",
    "\n",
    "_ = load_dotenv(find_dotenv())  \n",
    "openai.api_key = os.getenv('OPENAI_API_KEY')"
   ]
  },
  {
   "cell_type": "code",
   "execution_count": 17,
   "id": "bc425f0d-c4d9-44eb-bb36-ec5f06fcad4f",
   "metadata": {},
   "outputs": [],
   "source": [
    "embedding_model = \"text-embedding-3-small\"\n",
    "xsum_sample[\"embedding\"] = xsum_sample.combined.apply(lambda x: get_embedding(x, engine=embedding_model))"
   ]
  },
  {
   "cell_type": "code",
   "execution_count": 18,
   "id": "c9020989-eab0-406d-a384-4af846ae313e",
   "metadata": {},
   "outputs": [],
   "source": [
    "xsum_sample.rename(columns = {'embedding': 'vector'}, inplace = True)\n",
    "xsum_sample.rename(columns = {'combined': 'text'}, inplace = True)\n",
    "xsum_sample.to_pickle('xsum_sample.pkl')"
   ]
  },
  {
   "cell_type": "code",
   "execution_count": 18,
   "id": "c9e7e781-dfca-4b86-b20d-a860483edac0",
   "metadata": {},
   "outputs": [],
   "source": [
    "# xsum_sample.to_csv(\"data/xsum_sample_1k.csv\")"
   ]
  },
  {
   "cell_type": "markdown",
   "id": "70402c17-3e91-498a-9cc1-27d4226fe11f",
   "metadata": {},
   "source": [
    "### Readin Files with Embedding"
   ]
  },
  {
   "cell_type": "code",
   "execution_count": 32,
   "id": "85b7098c-20fe-432b-85f3-0968672871fc",
   "metadata": {},
   "outputs": [],
   "source": [
    "import pandas as pd\n",
    "xsum_sample = pd.read_pickle('xsum_sample.pkl')"
   ]
  },
  {
   "cell_type": "code",
   "execution_count": 33,
   "id": "0bd7416c-7f3a-4c66-a982-1fb9c72bf7d9",
   "metadata": {},
   "outputs": [
    {
     "data": {
      "text/html": [
       "<div>\n",
       "<style scoped>\n",
       "    .dataframe tbody tr th:only-of-type {\n",
       "        vertical-align: middle;\n",
       "    }\n",
       "\n",
       "    .dataframe tbody tr th {\n",
       "        vertical-align: top;\n",
       "    }\n",
       "\n",
       "    .dataframe thead th {\n",
       "        text-align: right;\n",
       "    }\n",
       "</style>\n",
       "<table border=\"1\" class=\"dataframe\">\n",
       "  <thead>\n",
       "    <tr style=\"text-align: right;\">\n",
       "      <th></th>\n",
       "      <th>document</th>\n",
       "      <th>summary</th>\n",
       "      <th>id</th>\n",
       "      <th>text</th>\n",
       "      <th>n_tokens</th>\n",
       "      <th>vector</th>\n",
       "    </tr>\n",
       "  </thead>\n",
       "  <tbody>\n",
       "    <tr>\n",
       "      <th>0</th>\n",
       "      <td>The full cost of damage in Newton Stewart, one...</td>\n",
       "      <td>Clean-up operations are continuing across the ...</td>\n",
       "      <td>35232142</td>\n",
       "      <td>Document: The full cost of damage in Newton St...</td>\n",
       "      <td>510</td>\n",
       "      <td>[-0.002085343236103654, 0.05560915172100067, 0...</td>\n",
       "    </tr>\n",
       "    <tr>\n",
       "      <th>1</th>\n",
       "      <td>A fire alarm went off at the Holiday Inn in Ho...</td>\n",
       "      <td>Two tourist buses have been destroyed by fire ...</td>\n",
       "      <td>40143035</td>\n",
       "      <td>Document: A fire alarm went off at the Holiday...</td>\n",
       "      <td>198</td>\n",
       "      <td>[-0.020631801337003708, -0.023478450253605843,...</td>\n",
       "    </tr>\n",
       "  </tbody>\n",
       "</table>\n",
       "</div>"
      ],
      "text/plain": [
       "                                            document  \\\n",
       "0  The full cost of damage in Newton Stewart, one...   \n",
       "1  A fire alarm went off at the Holiday Inn in Ho...   \n",
       "\n",
       "                                             summary        id  \\\n",
       "0  Clean-up operations are continuing across the ...  35232142   \n",
       "1  Two tourist buses have been destroyed by fire ...  40143035   \n",
       "\n",
       "                                                text  n_tokens  \\\n",
       "0  Document: The full cost of damage in Newton St...       510   \n",
       "1  Document: A fire alarm went off at the Holiday...       198   \n",
       "\n",
       "                                              vector  \n",
       "0  [-0.002085343236103654, 0.05560915172100067, 0...  \n",
       "1  [-0.020631801337003708, -0.023478450253605843,...  "
      ]
     },
     "execution_count": 33,
     "metadata": {},
     "output_type": "execute_result"
    }
   ],
   "source": [
    "xsum_sample.head(2)"
   ]
  },
  {
   "cell_type": "code",
   "execution_count": 20,
   "id": "b3d34674-cbb4-46d7-8ee4-3afe7bff0911",
   "metadata": {},
   "outputs": [],
   "source": [
    "import lancedb\n",
    "\n",
    "# connect to a database\n",
    "# uri = \"xsum-sample-lancedb\"\n",
    "uri = \"xsum-sample-lancedb_v2\"\n",
    "db = lancedb.connect(uri)\n",
    "table = db.create_table(\"xsum_sampled_1k\", xsum_sample)"
   ]
  },
  {
   "cell_type": "code",
   "execution_count": 21,
   "id": "c1d5e487-8661-4059-9171-9f6e1f459bca",
   "metadata": {},
   "outputs": [
    {
     "name": "stdout",
     "output_type": "stream",
     "text": [
      "['xsum_sampled_1k']\n"
     ]
    }
   ],
   "source": [
    "print(db.table_names())"
   ]
  },
  {
   "cell_type": "code",
   "execution_count": 22,
   "id": "e4ada2fe-72b1-493d-901a-1aa2a345e8d6",
   "metadata": {},
   "outputs": [],
   "source": [
    "from langchain.embeddings import OpenAIEmbeddings\n",
    "from langchain.vectorstores import LanceDB\n",
    "\n",
    "openai_api_key = os.getenv('OPENAI_API_KEY')\n",
    "embeddings = OpenAIEmbeddings(openai_api_key=openai_api_key )\n",
    "docsearch = LanceDB(connection = table, embedding = embeddings)"
   ]
  },
  {
   "cell_type": "code",
   "execution_count": 23,
   "id": "9737c1e4-d447-4a47-b6c2-abe10e4d9acf",
   "metadata": {
    "scrolled": true
   },
   "outputs": [
    {
     "data": {
      "text/plain": [
       "[Document(page_content='Document: Gary Fung announced the settlement with Music Canada via a blog published at the weekend.\\nIsohunt was shut down in 2013, when Mr Fung agreed to pay $110m to the Motion Picture Association of America (MPAA).\\nOne researcher said the cases could set a \"worrying\" precedent for those who run sites that may link to pirated content.\\nA court order associated with the decision details the fees as follows: 55m Canadian dollars in damages, C$10m in \"punitive, exemplary and aggravated damages\" and a further C$1m to cover legal costs.\\nThe total amounts to 50m US dollars.\\nThe case dates from a legal order sent in May 2008 by the Canadian Recording Industry Association (CRIA), now known as Music Canada.\\nPreviously, Mr Fung had promised users that he would not disclose their data - including email and IP addresses - during legal proceedings.\\n\"I\\'ve kept my word regarding users\\' privacy,\" he wrote.\\nIsohunt did not host pirated media, but rather provided users with a directory of sources from where illegal files could be downloaded.\\nThe same model is used by The Pirate Bay, which is currently blocked in the UK.\\nIt\\'s possible that cases like this could set a \"worrying\" precedent for social media websites, according to Ben Zevenbergen, a researcher at the Oxford Internet Institute.\\n\"Think of social media websites like Facebook where everyone shares their favourite songs with their friends - would these services need to employ full-time copyright police?\" he said.\\nHe added: \"Further, I truly wonder whether a penny of these fines ends up on artists\\' royalty checks, but I highly doubt it.\"; Summary: The owner of piracy site Isohunt has agreed to settle a music industry group lawsuit for $50m (£38m).', metadata={'document': 'Gary Fung announced the settlement with Music Canada via a blog published at the weekend.\\nIsohunt was shut down in 2013, when Mr Fung agreed to pay $110m to the Motion Picture Association of America (MPAA).\\nOne researcher said the cases could set a \"worrying\" precedent for those who run sites that may link to pirated content.\\nA court order associated with the decision details the fees as follows: 55m Canadian dollars in damages, C$10m in \"punitive, exemplary and aggravated damages\" and a further C$1m to cover legal costs.\\nThe total amounts to 50m US dollars.\\nThe case dates from a legal order sent in May 2008 by the Canadian Recording Industry Association (CRIA), now known as Music Canada.\\nPreviously, Mr Fung had promised users that he would not disclose their data - including email and IP addresses - during legal proceedings.\\n\"I\\'ve kept my word regarding users\\' privacy,\" he wrote.\\nIsohunt did not host pirated media, but rather provided users with a directory of sources from where illegal files could be downloaded.\\nThe same model is used by The Pirate Bay, which is currently blocked in the UK.\\nIt\\'s possible that cases like this could set a \"worrying\" precedent for social media websites, according to Ben Zevenbergen, a researcher at the Oxford Internet Institute.\\n\"Think of social media websites like Facebook where everyone shares their favourite songs with their friends - would these services need to employ full-time copyright police?\" he said.\\nHe added: \"Further, I truly wonder whether a penny of these fines ends up on artists\\' royalty checks, but I highly doubt it.\"', 'summary': 'The owner of piracy site Isohunt has agreed to settle a music industry group lawsuit for $50m (£38m).', 'id': '36883179', 'vector': array([-0.00993853, -0.02331363,  0.00791096, ..., -0.01699036,\n",
       "         0.00895568,  0.01861241], dtype=float32), '_distance': 1.8381853103637695})]"
      ]
     },
     "execution_count": 23,
     "metadata": {},
     "output_type": "execute_result"
    }
   ],
   "source": [
    "query = \"I am looking for Harry Potter information. What could you suggest to me?\"\n",
    "docs = docsearch.similarity_search(query, k=1)\n",
    "docs"
   ]
  },
  {
   "cell_type": "markdown",
   "id": "8bdef870-1fa4-48b4-abe3-0444fb30bbf5",
   "metadata": {},
   "source": [
    "### Build the chain"
   ]
  },
  {
   "cell_type": "markdown",
   "id": "e8a50f4b-d12f-471b-805e-62f1f47e9ace",
   "metadata": {},
   "source": [
    "- Setup: Import packages.\n",
    "- LLM Agent: Build an agent that leverages a modified version of the ReAct framework to do chain-of-thought reasoning.\n",
    "- LLM Agent with History: Provide the LLM with access to previous steps in the conversation."
   ]
  },
  {
   "cell_type": "code",
   "execution_count": 24,
   "id": "0a86ca6c-aa7b-4027-919a-6bf999a657bc",
   "metadata": {},
   "outputs": [],
   "source": [
    "# LLM wrapper\n",
    "from langchain import OpenAI\n",
    "from langchain.chains import RetrievalQA\n",
    "from langchain.chat_models import ChatOpenAI"
   ]
  },
  {
   "cell_type": "code",
   "execution_count": 26,
   "id": "1ba92551-9c37-45e8-8a68-040192724771",
   "metadata": {},
   "outputs": [],
   "source": [
    "# Initiate our LLM - default is 'gpt-3.5-turbo'\n",
    "llm = ChatOpenAI(temperature=0, openai_api_key=openai_api_key, model_name=\"gpt-3.5-turbo\")"
   ]
  },
  {
   "cell_type": "code",
   "execution_count": 31,
   "id": "4f66a8bc-8575-4ad0-b4e7-e219945b5605",
   "metadata": {
    "scrolled": true
   },
   "outputs": [],
   "source": [
    "qa = RetrievalQA.from_chain_type(llm=llm, chain_type=\"stuff\", retriever=docsearch.as_retriever(), return_source_documents=True)\n",
    "\n",
    "query = \"I'm looking for information on Harry Potter. What would you recommend?\"\n",
    "result = qa({\"query\": query})"
   ]
  },
  {
   "cell_type": "code",
   "execution_count": 32,
   "id": "4c4c5e8d-d806-42d4-8267-2d4b564509fc",
   "metadata": {},
   "outputs": [
    {
     "data": {
      "text/plain": [
       "\"I don't have information on Harry Potter in the provided context.\""
      ]
     },
     "execution_count": 32,
     "metadata": {},
     "output_type": "execute_result"
    }
   ],
   "source": [
    "result['result']"
   ]
  },
  {
   "cell_type": "code",
   "execution_count": 74,
   "id": "64424ece-5974-4350-8f59-d7a926e3d5ae",
   "metadata": {},
   "outputs": [],
   "source": [
    "query = \"I'm looking for the information of Spotify. What could you suggest to me?\"\n",
    "result = qa({\"query\": query})"
   ]
  },
  {
   "cell_type": "code",
   "execution_count": 29,
   "id": "b868fc2e-627c-456c-b4f2-6ec8836e9f7c",
   "metadata": {},
   "outputs": [
    {
     "data": {
      "text/plain": [
       "\"I don't have any information on Harry Potter.\""
      ]
     },
     "execution_count": 29,
     "metadata": {},
     "output_type": "execute_result"
    }
   ],
   "source": [
    "result['result']"
   ]
  },
  {
   "cell_type": "code",
   "execution_count": 75,
   "id": "91ee4f9a-545d-41e1-b103-ccf4016554b5",
   "metadata": {},
   "outputs": [
    {
     "data": {
      "text/plain": [
       "Document(page_content='Document: Kromtech - the Germany-based firm behind MacKeeper - has acknowledged that its customers\\' names, internet addresses and login credentials were among the data  exposed.\\nHowever, it said that users\\' payment details were \"never at risk\".\\nThe firm believes the details were accessed only by the security expert who alerted it to the problem.\\n\"The privacy and security of our clients\\' information remains our top priority and from the moment we were aware of the access, we immediately took several proactive steps to identify and correct the issue,\" it said in a statement.\\n\"We want to offer a special \\'thank you\\' to security researcher Chris Vickery for identifying the security breach attempt so that we could stop it before anyone was harmed.\"\\nMr Vickery told security blogger Brian Krebs that he had discovered 21 gigabytes of MacKeeper user data \"after spending a few bored moments searching for database servers\" that were not password-protected. He was able to do this by using Shodan, a search engine for internet-connected devices.\\nMr Krebs reported that Kromtech initially said that 13 million customers\\' details had been exposed.\\nThat figure was removed from the firm\\'s statement - a spokesman for Kromtech told the BBC it had included both \"active and non-active\" users.\\nMacKeeper is widely promoted on the web - including in prominent adverts on Ookla\\'s Speedtest site - as a way to \"clean\" and \"protect\" Macintosh computers in order to help them run faster.\\nHowever, critics have claimed that the software can cause computers to slow down and crash, and can be problematic to remove.\\n\"There are no ways that the program itself can harm or de-stabilise the system as described by some sources,\" the Kromtech spokesman said.; Summary: Users of a popular utility designed to \"optimise\" Apple Mac computers have had their details leaked online.', metadata={'document': 'Kromtech - the Germany-based firm behind MacKeeper - has acknowledged that its customers\\' names, internet addresses and login credentials were among the data  exposed.\\nHowever, it said that users\\' payment details were \"never at risk\".\\nThe firm believes the details were accessed only by the security expert who alerted it to the problem.\\n\"The privacy and security of our clients\\' information remains our top priority and from the moment we were aware of the access, we immediately took several proactive steps to identify and correct the issue,\" it said in a statement.\\n\"We want to offer a special \\'thank you\\' to security researcher Chris Vickery for identifying the security breach attempt so that we could stop it before anyone was harmed.\"\\nMr Vickery told security blogger Brian Krebs that he had discovered 21 gigabytes of MacKeeper user data \"after spending a few bored moments searching for database servers\" that were not password-protected. He was able to do this by using Shodan, a search engine for internet-connected devices.\\nMr Krebs reported that Kromtech initially said that 13 million customers\\' details had been exposed.\\nThat figure was removed from the firm\\'s statement - a spokesman for Kromtech told the BBC it had included both \"active and non-active\" users.\\nMacKeeper is widely promoted on the web - including in prominent adverts on Ookla\\'s Speedtest site - as a way to \"clean\" and \"protect\" Macintosh computers in order to help them run faster.\\nHowever, critics have claimed that the software can cause computers to slow down and crash, and can be problematic to remove.\\n\"There are no ways that the program itself can harm or de-stabilise the system as described by some sources,\" the Kromtech spokesman said.', 'summary': 'Users of a popular utility designed to \"optimise\" Apple Mac computers have had their details leaked online.', 'id': '35100330', 'n_tokens': 377, 'vector': array([ 0.00819547,  0.06378449, -0.00506825, ..., -0.01364789,\n",
       "        0.0156361 ,  0.00987366], dtype=float32), '_distance': 1.8366451263427734})"
      ]
     },
     "execution_count": 75,
     "metadata": {},
     "output_type": "execute_result"
    }
   ],
   "source": [
    "result['source_documents'][0]"
   ]
  },
  {
   "cell_type": "code",
   "execution_count": 78,
   "id": "6cad57f9-0ef1-414b-9a56-b43d5ad89b13",
   "metadata": {},
   "outputs": [
    {
     "data": {
      "text/plain": [
       "'Spotify is reportedly considering an unconventional direct listing on a stock market that stops short of a full-blown initial public offering. This means that Spotify might register shares on a stock exchange and become a publicly listed company without raising new cash. This tactic would save the music service underwriting fees needed for an IPO and avoid diluting the value of existing stakes in the company. It could also help Spotify avoid a surge in first-day trading that often takes place after an IPO. This approach is rare and is usually used by smaller companies that do not expect high levels of trading in their stock.'"
      ]
     },
     "execution_count": 78,
     "metadata": {},
     "output_type": "execute_result"
    }
   ],
   "source": [
    "df_filtered = xsum_sample[xsum_sample['summary'].apply(lambda x: 'news' in x)]\n",
    "\n",
    "qa = RetrievalQA.from_chain_type(llm=llm, chain_type=\"stuff\", retriever=docsearch.as_retriever(search_kwargs={'data': df_filtered}), return_source_documents=True)\n",
    "\n",
    "query = \"I'm looking for the information of Spotify. What could you suggest to me?\"\n",
    "result = qa({\"query\": query})\n",
    "result['result']"
   ]
  },
  {
   "cell_type": "code",
   "execution_count": 79,
   "id": "3761e9bf-fd10-4b18-9b98-93d2bb1d743f",
   "metadata": {},
   "outputs": [
    {
     "name": "stdout",
     "output_type": "stream",
     "text": [
      "1. News: Spotify considering direct listing on stock market\n",
      "   Description: This news article discusses Spotify's potential plan to go public through a direct listing on a stock market, rather than a traditional initial public offering (IPO). It explains the benefits of a direct listing, such as avoiding underwriting fees and maintaining the value of existing stakes in the company. This news would be relevant to someone interested in the financial aspects of Spotify's future and its potential impact on the music industry.\n",
      "\n",
      "2. News: Spotify signs new long-term licensing deal with Universal Music Group\n",
      "   Description: This news article highlights Spotify's recent agreement with Universal Music Group, the world's largest record label. It discusses the significance of this deal for Spotify's music streaming service and its relationship with major music labels. This news would be of interest to someone following Spotify's business partnerships and its efforts to secure licensing agreements with major music industry players.\n",
      "\n",
      "3. News: Spotify's potential impact on the IPO market\n",
      "   Description: This news article explores the potential implications of Spotify's unconventional direct listing approach on the IPO market. It discusses the advantages and disadvantages of direct listings compared to traditional IPOs and analyzes how Spotify's decision could influence other companies considering going public. This news would be relevant to someone interested in the financial and market dynamics of IPOs and the potential disruption caused by Spotify's approach.\n"
     ]
    }
   ],
   "source": [
    "from langchain.prompts import PromptTemplate\n",
    "\n",
    "template = \"\"\"You are a news recommender system that help users to find useful information. \n",
    "Use the following pieces of context to answer the question at the end. \n",
    "For each question, suggest three news, with a short description of the news and the reason why the user migth like it.\n",
    "If you don't know the answer, just say that you don't know, don't try to make up an answer.\n",
    "\n",
    "{context}\n",
    "\n",
    "Question: {question}\n",
    "Your response:\"\"\"\n",
    "\n",
    "\n",
    "PROMPT = PromptTemplate(\n",
    "    template=template, input_variables=[\"context\", \"question\"])\n",
    "\n",
    "chain_type_kwargs = {\"prompt\": PROMPT}\n",
    "\n",
    "llm = ChatOpenAI(temperature=0, openai_api_key=openai_api_key, model_name=\"gpt-3.5-turbo\")\n",
    "\n",
    "qa = RetrievalQA.from_chain_type(llm=llm, \n",
    "    chain_type=\"stuff\", \n",
    "    retriever=docsearch.as_retriever(),\n",
    "    return_source_documents=True, \n",
    "    chain_type_kwargs=chain_type_kwargs)\n",
    "\n",
    "query = \"I'm looking for the information of Spotify. What could you suggest to me?\"\n",
    "result = qa({'query':query})\n",
    "print(result['result'])"
   ]
  },
  {
   "cell_type": "code",
   "execution_count": null,
   "id": "5bd8de56-ca56-4117-bb9d-15e11a50feaa",
   "metadata": {},
   "outputs": [],
   "source": []
  }
 ],
 "metadata": {
  "kernelspec": {
   "display_name": "Python 3 (ipykernel)",
   "language": "python",
   "name": "python3"
  },
  "language_info": {
   "codemirror_mode": {
    "name": "ipython",
    "version": 3
   },
   "file_extension": ".py",
   "mimetype": "text/x-python",
   "name": "python",
   "nbconvert_exporter": "python",
   "pygments_lexer": "ipython3",
   "version": "3.10.14"
  }
 },
 "nbformat": 4,
 "nbformat_minor": 5
}
