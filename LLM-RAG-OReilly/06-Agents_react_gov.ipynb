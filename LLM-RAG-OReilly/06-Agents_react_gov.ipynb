{
 "cells": [
  {
   "cell_type": "markdown",
   "metadata": {
    "id": "w6qrv-94BOkI"
   },
   "source": [
    "# ReActAgent\n",
    "\n",
    "Data Agents are LLM-powered knowledge workers in LlamaIndex that can intelligently perform various tasks over your data, in both a “read” and “write” function. They are capable of the following:\n",
    "\n",
    "- Perform automated search and retrieval over different types of data - unstructured, semi-structured, and structured.\n",
    "\n",
    "- Calling any external service API in a structured fashion, and processing the response + storing it for later.\n",
    "\n",
    "In that sense, agents are a step beyond our query engines in that they can not only “read” from a static source of data, but can dynamically ingest and modify data from a variety of different tools.\n",
    "\n",
    "ReAct, short for Reasoning and Acting, was first introduced in the paper [ReAct: Synergizing Reasoning and Acting in Language Models](https://arxiv.org/pdf/2210.03629.pdf).  \n",
    "\n",
    "ReAct Agent, introduced by LlamaIndex, is an agent-based chat mode built on top of a query engine over your data. ReAct Agent is one of LlamaIndex’s main chat engines. For each chat interaction, the agent enters a reasoning and acting loop:\n",
    "\n",
    "- First, decide whether to use the query engine tool and which query engine tool to use to come up with appropriate input.\n",
    "- Query with the query engine tool and observe its output.\n",
    "- Based on the output, decide whether to repeat the process or give a final response.\n",
    "\n",
    "We will use ReAct agent to analyze the U.S. government’s financial reports for fiscal years 2020, 2021, 2022, and 2023.\n",
    "\n",
    "LlamaIndex notebook: https://docs.llamaindex.ai/en/stable/examples/chat_engine/chat_engine_react.html."
   ]
  },
  {
   "cell_type": "markdown",
   "metadata": {
    "id": "UoeYplhDnnYo"
   },
   "source": [
    "## Step 1: Setup the Query Tools"
   ]
  },
  {
   "cell_type": "code",
   "execution_count": 2,
   "metadata": {
    "colab": {
     "base_uri": "https://localhost:8080/"
    },
    "id": "x-AxXhasiV5F",
    "outputId": "c5bc2af1-86fc-4284-eb90-56a6acafaed2"
   },
   "outputs": [],
   "source": [
    "import os\n",
    "from openai import OpenAI\n",
    "from dotenv import load_dotenv, find_dotenv\n",
    "\n",
    "_ = load_dotenv(find_dotenv()) # read local .env file\n",
    "openai_api_key = os.getenv('OPENAI_API_KEY')"
   ]
  },
  {
   "cell_type": "markdown",
   "metadata": {
    "id": "N9Ee1I-gt8AG"
   },
   "source": [
    "Be sure to save the files with file name containing underscore, not dash, otherwise, ReAct agent chat completion won't work."
   ]
  },
  {
   "cell_type": "code",
   "execution_count": 6,
   "metadata": {
    "colab": {
     "base_uri": "https://localhost:8080/"
    },
    "id": "_FzMb8MqJt2D",
    "outputId": "043dca07-5578-4fa4-b6ce-43cdbfffaa94"
   },
   "outputs": [],
   "source": [
    "# !mkdir reports\n",
    "# !wget https://www.fiscal.treasury.gov/files/reports-statements/financial-report/2020/executive-summary-2020.pdf -O ./reports/executive_summary_2020.pdf\n",
    "# !wget https://www.fiscal.treasury.gov/files/reports-statements/financial-report/2021/executive-summary-2021.pdf -O ./reports/executive_summary_2021.pdf\n",
    "# !wget https://www.fiscal.treasury.gov/files/reports-statements/financial-report/2022/executive-summary-2022.pdf -O ./reports/executive_summary_2022.pdf\n",
    "# !wget https://www.fiscal.treasury.gov/files/reports-statements/financial-report/2023/executive-summary-2023.pdf -O ./reports/executive_summary_2023.pdf\n",
    "\n",
    "# !wget https://www.bls.gov/news.release/archives/cpi_07112024.pdf\n",
    "# !wget https://www.bls.gov/news.release/archives/cpi_06122024.pdf\n",
    "# !wget https://www.bls.gov/news.release/archives/cpi_05152024.pdf\n",
    "# !wget https://www.bls.gov/news.release/archives/cpi_04102024.pdf\n",
    "# !wget https://www.bls.gov/news.release/archives/cpi_03122024.pdf\n",
    "# !wget https://www.bls.gov/news.release/archives/cpi_02132024.pddf\n"
   ]
  },
  {
   "cell_type": "markdown",
   "metadata": {},
   "source": [
    "## Multi-Document Agent"
   ]
  },
  {
   "cell_type": "code",
   "execution_count": 3,
   "metadata": {},
   "outputs": [
    {
     "name": "stdout",
     "output_type": "stream",
     "text": [
      "Loaded 10 documents from executive_summary_2022.pdf\n",
      "executive_summary_2022\n",
      "Loaded 10 documents from executive_summary_2023.pdf\n",
      "executive_summary_2023\n",
      "Loaded 11 documents from executive_summary_2021.pdf\n",
      "executive_summary_2021\n",
      "Loaded 11 documents from executive_summary_2020.pdf\n",
      "executive_summary_2020\n"
     ]
    }
   ],
   "source": [
    "from llama_index.core import SimpleDirectoryReader, VectorStoreIndex\n",
    "from llama_index.core.node_parser import SentenceSplitter\n",
    "from llama_index.core.tools import QueryEngineTool, ToolMetadata\n",
    "\n",
    "\n",
    "query_engine_tools = []\n",
    "for filename in os.listdir(\"reports\"):\n",
    "    if filename.endswith(\".pdf\"):\n",
    "        file_path = os.path.join(\"reports\", filename)\n",
    "\n",
    "        with open(file_path, \"r\") as file:\n",
    "            documents = SimpleDirectoryReader(input_files=[file_path]).load_data()\n",
    "            print(f\"Loaded {len(documents)} documents from {filename}\")\n",
    "            print(filename[:-4]) # print name without extension\n",
    "\n",
    "            index = VectorStoreIndex.from_documents(documents)\n",
    "            splitter = SentenceSplitter(chunk_size=512)\n",
    "            nodes = splitter.get_nodes_from_documents(documents)\n",
    "            vector_index = VectorStoreIndex(nodes)\n",
    "            query_engine = vector_index.as_query_engine(similarity_top_k=10)\n",
    "            \n",
    "            query_engine_tool = QueryEngineTool(\n",
    "                query_engine=query_engine,\n",
    "                metadata=ToolMetadata(\n",
    "                    name=f\"{filename[:-4]}\",  # Construct name without extension\n",
    "                    description=(\n",
    "                        f\"Provides information about the U.S. government financial report {filename[:-4]}\"\n",
    "                    ),\n",
    "                ),\n",
    "            )\n",
    "            query_engine_tools.append(query_engine_tool)"
   ]
  },
  {
   "cell_type": "markdown",
   "metadata": {},
   "source": [
    "### ReAct Agent"
   ]
  },
  {
   "cell_type": "code",
   "execution_count": 4,
   "metadata": {
    "colab": {
     "base_uri": "https://localhost:8080/"
    },
    "id": "AigYso6fjEow",
    "outputId": "1f35d8d5-1238-400c-b63f-965cad6375c0"
   },
   "outputs": [],
   "source": [
    "from llama_index.core.agent import ReActAgent\n",
    "from llama_index.llms.openai import OpenAI\n",
    "\n",
    "llm = OpenAI(model=\"gpt-4\")\n",
    "\n",
    "react_agent = ReActAgent.from_tools(query_engine_tools, llm=llm, verbose=True)"
   ]
  },
  {
   "cell_type": "code",
   "execution_count": 16,
   "metadata": {},
   "outputs": [
    {
     "name": "stdout",
     "output_type": "stream",
     "text": [
      "\u001b[1;3;38;5;200mThought: The user is asking for the U.S. government's net operating cost from 2020 to 2023. I need to use the executive_summary tools for the years 2020 to 2023 to find this information.\n",
      "Action: executive_summary_2020\n",
      "Action Input: {'input': 'net operating cost'}\n",
      "\u001b[0m\u001b[1;3;34mObservation: The net operating cost increased by $2.4 trillion during FY 2020 to $3.8 trillion.\n",
      "\u001b[0m\u001b[1;3;38;5;200mThought: I have the net operating cost for 2020. Now I need to find the net operating cost for 2021.\n",
      "Action: executive_summary_2021\n",
      "Action Input: {'input': 'net operating cost'}\n",
      "\u001b[0m\u001b[1;3;34mObservation: The net operating cost decreased by $746.5 billion (19.4 percent) during FY 2021 to $3.1 trillion.\n",
      "\u001b[0m\u001b[1;3;38;5;200mThought: I have the net operating cost for 2021. Now I need to find the net operating cost for 2022.\n",
      "Action: executive_summary_2022\n",
      "Action Input: {'input': 'net operating cost'}\n",
      "\u001b[0m\u001b[1;3;34mObservation: The net operating cost is calculated by subtracting earned program revenues from total gross costs and adjusting for gains or losses from changes in actuarial assumptions related to federal employee and veteran benefits payments. This calculation results in the government's net cost before taxes and other revenues, which increased by $1.1 trillion (34.8 percent) during FY 2022 to $4.2 trillion.\n",
      "\u001b[0m\u001b[1;3;38;5;200mThought: I have the net operating cost for 2022. Now I need to find the net operating cost for 2023.\n",
      "Action: executive_summary_2023\n",
      "Action Input: {'input': 'net operating cost'}\n",
      "\u001b[0m\u001b[1;3;34mObservation: The net operating cost is calculated by subtracting earned program revenues and adjusting for gains or losses from changes in actuarial assumptions used to estimate future federal employee and veteran benefits payments from the total gross costs. This calculation results in the government's \"bottom line\" net operating cost before taxes and other revenues.\n",
      "\u001b[0m\u001b[1;3;38;5;200mThought: The tool for 2023 did not provide a specific net operating cost. It seems that the data for 2023 might not be available yet.\n",
      "Answer: The U.S. government's net operating cost was $3.8 trillion in 2020, $3.1 trillion in 2021, and $4.2 trillion in 2022. The net operating cost for 2023 is not available at this time.\n",
      "\u001b[0mThe U.S. government's net operating cost was $3.8 trillion in 2020, $3.1 trillion in 2021, and $4.2 trillion in 2022. The net operating cost for 2023 is not available at this time.\n"
     ]
    }
   ],
   "source": [
    "response = react_agent.chat(\"What is the U.S. government's net operating cost from 2020 to 2023?\")\n",
    "print(response)"
   ]
  },
  {
   "cell_type": "code",
   "execution_count": 5,
   "metadata": {},
   "outputs": [
    {
     "name": "stdout",
     "output_type": "stream",
     "text": [
      "\u001b[1;3;38;5;200mThought: To answer this question, I need to use the executive_summary tools for each year from 2020 to 2023 to get the annual net operating cost.\n",
      "Action: executive_summary_2020\n",
      "Action Input: {'input': 'annual net operating cost'}\n",
      "\u001b[0m\u001b[1;3;34mObservation: Annual net operating cost increased by $2.4 trillion in FY 2020 to $3.8 trillion.\n",
      "\u001b[0m\u001b[1;3;38;5;200mThought: Now I have the annual net operating cost for 2020. I need to use the executive_summary_2021 tool to get the annual net operating cost for 2021.\n",
      "Action: executive_summary_2021\n",
      "Action Input: {'input': 'annual net operating cost'}\n",
      "\u001b[0m\u001b[1;3;34mObservation: $3.1 trillion\n",
      "\u001b[0m\u001b[1;3;38;5;200mThought: Now I have the annual net operating cost for 2021. I need to use the executive_summary_2022 tool to get the annual net operating cost for 2022.\n",
      "Action: executive_summary_2022\n",
      "Action Input: {'input': 'annual net operating cost'}\n",
      "\u001b[0m\u001b[1;3;34mObservation: $4.2 trillion\n",
      "\u001b[0m\u001b[1;3;38;5;200mThought: Now I have the annual net operating cost for 2022. I need to use the executive_summary_2023 tool to get the annual net operating cost for 2023.\n",
      "Action: executive_summary_2023\n",
      "Action Input: {'input': 'annual net operating cost'}\n",
      "\u001b[0m\u001b[1;3;34mObservation: $3.4 trillion\n",
      "\u001b[0m\u001b[1;3;38;5;200mThought: I can answer without using any more tools. I'll use the user's language to answer.\n",
      "Answer: The annual net operating cost in 2020 was $3.8 trillion, which then decreased to $3.1 trillion in 2021. However, it increased again in 2022 to $4.2 trillion, and then decreased to $3.4 trillion in 2023. \n",
      "\n",
      "In terms of analysis, it appears that there is a fluctuation in the annual net operating cost over these years. The decrease in 2021 might be due to cost-cutting measures or increased revenues. The subsequent increase in 2022 suggests that these measures may not have been sustained or that costs rose again. The decrease in 2023 indicates a possible return to cost-saving measures or an increase in revenues. However, without more specific information, it's difficult to determine the exact causes of these fluctuations.\n",
      "\u001b[0mThe annual net operating cost in 2020 was $3.8 trillion, which then decreased to $3.1 trillion in 2021. However, it increased again in 2022 to $4.2 trillion, and then decreased to $3.4 trillion in 2023. \n",
      "\n",
      "In terms of analysis, it appears that there is a fluctuation in the annual net operating cost over these years. The decrease in 2021 might be due to cost-cutting measures or increased revenues. The subsequent increase in 2022 suggests that these measures may not have been sustained or that costs rose again. The decrease in 2023 indicates a possible return to cost-saving measures or an increase in revenues. However, without more specific information, it's difficult to determine the exact causes of these fluctuations.\n"
     ]
    }
   ],
   "source": [
    "response = react_agent.chat(\"Compare and contrast the anual net operating cost from 2020 to 2023, then give an analysis\")\n",
    "print(str(response))"
   ]
  },
  {
   "cell_type": "code",
   "execution_count": null,
   "metadata": {},
   "outputs": [],
   "source": []
  }
 ],
 "metadata": {
  "colab": {
   "include_colab_link": true,
   "provenance": []
  },
  "kernelspec": {
   "display_name": "Python 3 (ipykernel)",
   "language": "python",
   "name": "python3"
  },
  "language_info": {
   "codemirror_mode": {
    "name": "ipython",
    "version": 3
   },
   "file_extension": ".py",
   "mimetype": "text/x-python",
   "name": "python",
   "nbconvert_exporter": "python",
   "pygments_lexer": "ipython3",
   "version": "3.11.8"
  }
 },
 "nbformat": 4,
 "nbformat_minor": 4
}
