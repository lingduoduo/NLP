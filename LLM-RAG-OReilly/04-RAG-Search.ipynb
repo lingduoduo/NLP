{
 "cells": [
  {
   "cell_type": "code",
   "execution_count": 1,
   "id": "d4ef85f4",
   "metadata": {},
   "outputs": [],
   "source": [
    "import pandas as pd\n",
    "import numpy as np"
   ]
  },
  {
   "cell_type": "markdown",
   "id": "e5d3e5d5-9df5-4ed7-8d01-9fbf3c2d4924",
   "metadata": {},
   "source": [
    "## Fetch products"
   ]
  },
  {
   "cell_type": "code",
   "execution_count": 2,
   "id": "1f6fdf20",
   "metadata": {},
   "outputs": [
    {
     "data": {
      "text/html": [
       "<div>\n",
       "<style scoped>\n",
       "    .dataframe tbody tr th:only-of-type {\n",
       "        vertical-align: middle;\n",
       "    }\n",
       "\n",
       "    .dataframe tbody tr th {\n",
       "        vertical-align: top;\n",
       "    }\n",
       "\n",
       "    .dataframe thead th {\n",
       "        text-align: right;\n",
       "    }\n",
       "</style>\n",
       "<table border=\"1\" class=\"dataframe\">\n",
       "  <thead>\n",
       "    <tr style=\"text-align: right;\">\n",
       "      <th></th>\n",
       "      <th>product_id</th>\n",
       "      <th>product_name</th>\n",
       "      <th>product_class</th>\n",
       "      <th>category hierarchy</th>\n",
       "      <th>product_description</th>\n",
       "      <th>product_features</th>\n",
       "      <th>rating_count</th>\n",
       "      <th>average_rating</th>\n",
       "      <th>review_count</th>\n",
       "    </tr>\n",
       "  </thead>\n",
       "  <tbody>\n",
       "    <tr>\n",
       "      <th>0</th>\n",
       "      <td>0</td>\n",
       "      <td>solid wood platform bed</td>\n",
       "      <td>Beds</td>\n",
       "      <td>Furniture / Bedroom Furniture / Beds &amp; Headboa...</td>\n",
       "      <td>good , deep sleep can be quite difficult to ha...</td>\n",
       "      <td>overallwidth-sidetoside:64.7|dsprimaryproducts...</td>\n",
       "      <td>15.0</td>\n",
       "      <td>4.5</td>\n",
       "      <td>15.0</td>\n",
       "    </tr>\n",
       "    <tr>\n",
       "      <th>1</th>\n",
       "      <td>1</td>\n",
       "      <td>all-clad 7 qt . slow cooker</td>\n",
       "      <td>Slow Cookers</td>\n",
       "      <td>Kitchen &amp; Tabletop / Small Kitchen Appliances ...</td>\n",
       "      <td>create delicious slow-cooked meals , from tend...</td>\n",
       "      <td>capacityquarts:7|producttype : slow cooker|pro...</td>\n",
       "      <td>100.0</td>\n",
       "      <td>2.0</td>\n",
       "      <td>98.0</td>\n",
       "    </tr>\n",
       "    <tr>\n",
       "      <th>2</th>\n",
       "      <td>2</td>\n",
       "      <td>all-clad electrics 6.5 qt . slow cooker</td>\n",
       "      <td>Slow Cookers</td>\n",
       "      <td>Kitchen &amp; Tabletop / Small Kitchen Appliances ...</td>\n",
       "      <td>prepare home-cooked meals on any schedule with...</td>\n",
       "      <td>features : keep warm setting|capacityquarts:6....</td>\n",
       "      <td>208.0</td>\n",
       "      <td>3.0</td>\n",
       "      <td>181.0</td>\n",
       "    </tr>\n",
       "    <tr>\n",
       "      <th>3</th>\n",
       "      <td>3</td>\n",
       "      <td>all-clad all professional tools pizza cutter</td>\n",
       "      <td>Slicers, Peelers And Graters</td>\n",
       "      <td>Browse By Brand / All-Clad</td>\n",
       "      <td>this original stainless tool was designed to c...</td>\n",
       "      <td>overallwidth-sidetoside:3.5|warrantylength : l...</td>\n",
       "      <td>69.0</td>\n",
       "      <td>4.5</td>\n",
       "      <td>42.0</td>\n",
       "    </tr>\n",
       "    <tr>\n",
       "      <th>4</th>\n",
       "      <td>4</td>\n",
       "      <td>baldwin prestige alcott passage knob with roun...</td>\n",
       "      <td>Door Knobs</td>\n",
       "      <td>Home Improvement / Doors &amp; Door Hardware / Doo...</td>\n",
       "      <td>the hardware has a rich heritage of delivering...</td>\n",
       "      <td>compatibledoorthickness:1.375 '' |countryofori...</td>\n",
       "      <td>70.0</td>\n",
       "      <td>5.0</td>\n",
       "      <td>42.0</td>\n",
       "    </tr>\n",
       "  </tbody>\n",
       "</table>\n",
       "</div>"
      ],
      "text/plain": [
       "   product_id                                       product_name  \\\n",
       "0           0                            solid wood platform bed   \n",
       "1           1                        all-clad 7 qt . slow cooker   \n",
       "2           2            all-clad electrics 6.5 qt . slow cooker   \n",
       "3           3       all-clad all professional tools pizza cutter   \n",
       "4           4  baldwin prestige alcott passage knob with roun...   \n",
       "\n",
       "                  product_class  \\\n",
       "0                          Beds   \n",
       "1                  Slow Cookers   \n",
       "2                  Slow Cookers   \n",
       "3  Slicers, Peelers And Graters   \n",
       "4                    Door Knobs   \n",
       "\n",
       "                                  category hierarchy  \\\n",
       "0  Furniture / Bedroom Furniture / Beds & Headboa...   \n",
       "1  Kitchen & Tabletop / Small Kitchen Appliances ...   \n",
       "2  Kitchen & Tabletop / Small Kitchen Appliances ...   \n",
       "3                         Browse By Brand / All-Clad   \n",
       "4  Home Improvement / Doors & Door Hardware / Doo...   \n",
       "\n",
       "                                 product_description  \\\n",
       "0  good , deep sleep can be quite difficult to ha...   \n",
       "1  create delicious slow-cooked meals , from tend...   \n",
       "2  prepare home-cooked meals on any schedule with...   \n",
       "3  this original stainless tool was designed to c...   \n",
       "4  the hardware has a rich heritage of delivering...   \n",
       "\n",
       "                                    product_features  rating_count  \\\n",
       "0  overallwidth-sidetoside:64.7|dsprimaryproducts...          15.0   \n",
       "1  capacityquarts:7|producttype : slow cooker|pro...         100.0   \n",
       "2  features : keep warm setting|capacityquarts:6....         208.0   \n",
       "3  overallwidth-sidetoside:3.5|warrantylength : l...          69.0   \n",
       "4  compatibledoorthickness:1.375 '' |countryofori...          70.0   \n",
       "\n",
       "   average_rating  review_count  \n",
       "0             4.5          15.0  \n",
       "1             2.0          98.0  \n",
       "2             3.0         181.0  \n",
       "3             4.5          42.0  \n",
       "4             5.0          42.0  "
      ]
     },
     "execution_count": 2,
     "metadata": {},
     "output_type": "execute_result"
    }
   ],
   "source": [
    "product_df = pd.read_csv(\"dataset/product.csv\", sep='\\t')\n",
    "product_df.head()"
   ]
  },
  {
   "cell_type": "code",
   "execution_count": 3,
   "id": "91644c68-9bb4-41b4-9bc0-8e9f909b137d",
   "metadata": {},
   "outputs": [],
   "source": [
    "## Assemble the product text use our product description as that text unless there is no description in which case we will use the product name."
   ]
  },
  {
   "cell_type": "code",
   "execution_count": 4,
   "id": "a995569d-1b34-42ab-8645-c779a5903d08",
   "metadata": {},
   "outputs": [
    {
     "name": "stdout",
     "output_type": "stream",
     "text": [
      "<class 'pandas.core.frame.DataFrame'>\n",
      "RangeIndex: 42994 entries, 0 to 42993\n",
      "Data columns (total 9 columns):\n",
      " #   Column               Non-Null Count  Dtype  \n",
      "---  ------               --------------  -----  \n",
      " 0   product_id           42994 non-null  int64  \n",
      " 1   product_name         42994 non-null  object \n",
      " 2   product_class        40142 non-null  object \n",
      " 3   category hierarchy   41438 non-null  object \n",
      " 4   product_description  36986 non-null  object \n",
      " 5   product_features     42994 non-null  object \n",
      " 6   rating_count         33542 non-null  float64\n",
      " 7   average_rating       33542 non-null  float64\n",
      " 8   review_count         33542 non-null  float64\n",
      "dtypes: float64(3), int64(1), object(5)\n",
      "memory usage: 3.0+ MB\n"
     ]
    }
   ],
   "source": [
    "product_df.info()"
   ]
  },
  {
   "cell_type": "code",
   "execution_count": 5,
   "id": "d3585926-211b-4795-9392-f50a02f64787",
   "metadata": {},
   "outputs": [],
   "source": [
    "product_df['product_text'] = np.where(pd.notna(product_df['product_description']), \n",
    "                                      product_df['product_description'], \n",
    "                                      product_df['product_name'])"
   ]
  },
  {
   "cell_type": "code",
   "execution_count": 6,
   "id": "0cf5f446-6ab3-42a7-be66-30d723caaf1c",
   "metadata": {},
   "outputs": [
    {
     "data": {
      "text/plain": [
       "product_id                                                         42990\n",
       "product_name                       emmeline 5 piece breakfast dining set\n",
       "product_class                                          Dining Table Sets\n",
       "category hierarchy     Furniture / Kitchen & Dining Furniture / Dinin...\n",
       "product_description                                                  NaN\n",
       "product_features       basematerialdetails : steel| : gray wood|ofhar...\n",
       "rating_count                                                      1314.0\n",
       "average_rating                                                       4.5\n",
       "review_count                                                       864.0\n",
       "product_text                       emmeline 5 piece breakfast dining set\n",
       "Name: 42990, dtype: object"
      ]
     },
     "execution_count": 6,
     "metadata": {},
     "output_type": "execute_result"
    }
   ],
   "source": [
    "product_df.iloc[42990]"
   ]
  },
  {
   "cell_type": "code",
   "execution_count": 7,
   "id": "fe69a8f3-027a-48aa-89df-636a0c0c8a16",
   "metadata": {},
   "outputs": [],
   "source": [
    "from llama_index.core import Document\n",
    "\n",
    "documents = [\n",
    "    Document(\n",
    "        text=row['product_text'],\n",
    "        metadata={\n",
    "            'product_id': row['product_id'],\n",
    "            'product_name': row['product_name'],\n",
    "        }\n",
    "    )\n",
    "    for _, row in product_df.iterrows()\n",
    "]"
   ]
  },
  {
   "cell_type": "code",
   "execution_count": 8,
   "id": "dd8696c8-8e0f-498f-a45d-06f8999e779c",
   "metadata": {},
   "outputs": [
    {
     "name": "stdout",
     "output_type": "stream",
     "text": [
      "Doc ID: 9319c511-4357-4820-8195-33135cc2f970\n",
      "Text: good , deep sleep can be quite difficult to have in this busy\n",
      "age . fortunately , there ’ s an antidote to such a problem : a nice ,\n",
      "quality bed frame like the acacia kaylin . solidly constructed from\n",
      "acacia wood , this bed frame will stand the test of time and is fit to\n",
      "rest your shoulders on for years and years . its sleek , natural wood\n",
      "grain...\n"
     ]
    }
   ],
   "source": [
    "print(documents[0])"
   ]
  },
  {
   "cell_type": "markdown",
   "id": "df5414a6-eef0-4f02-9c29-386a9faac74e",
   "metadata": {},
   "source": [
    "### Extract Nodes"
   ]
  },
  {
   "cell_type": "code",
   "execution_count": 9,
   "id": "3f0736e7-7d98-4196-b451-5e988e85ab62",
   "metadata": {},
   "outputs": [],
   "source": [
    "from llama_index.core.node_parser import SentenceWindowNodeParser\n",
    "from llama_index.core.node_parser import SentenceSplitter"
   ]
  },
  {
   "cell_type": "code",
   "execution_count": 10,
   "id": "376a64d9-86e9-49ad-bc90-e6a93783542d",
   "metadata": {},
   "outputs": [],
   "source": [
    "# create the sentence window node parser w/ default settings\n",
    "node_parser = SentenceWindowNodeParser.from_defaults(\n",
    "    window_size=3,\n",
    "    window_metadata_key=\"window\",\n",
    "    original_text_metadata_key=\"original_text\",\n",
    ")"
   ]
  },
  {
   "cell_type": "code",
   "execution_count": 11,
   "id": "b2434371-be51-4b37-b9ac-d510d8f2b6fb",
   "metadata": {},
   "outputs": [],
   "source": [
    "# Extract nodes from documents\n",
    "nodes = node_parser.get_nodes_from_documents(documents)"
   ]
  },
  {
   "cell_type": "code",
   "execution_count": 12,
   "id": "75745670-53f6-4dd0-a54c-bd46f84bcf78",
   "metadata": {},
   "outputs": [
    {
     "name": "stdout",
     "output_type": "stream",
     "text": [
      "Text: \n",
      "good , deep sleep can be quite difficult to have in this busy age . \n",
      "------------------\n",
      "Window: \n",
      "good , deep sleep can be quite difficult to have in this busy age .  fortunately , there ’ s an antidote to such a problem : a nice , quality bed frame like the acacia kaylin .  solidly constructed from acacia wood , this bed frame will stand the test of time and is fit to rest your shoulders on for years and years .  its sleek , natural wood grain appearance provides a pleasant aesthetic to adorn any bedroom , acting both as a decorative piece as well as a place to give comfort after a hard day of work . \n"
     ]
    }
   ],
   "source": [
    "print(f\"Text: \\n{nodes[0].text}\")\n",
    "print(\"------------------\")\n",
    "print(f\"Window: \\n{nodes[0].metadata['window']}\")"
   ]
  },
  {
   "cell_type": "code",
   "execution_count": 13,
   "id": "adba7932-19b7-40e9-b9c0-3039502509cb",
   "metadata": {},
   "outputs": [
    {
     "data": {
      "text/plain": [
       "164163"
      ]
     },
     "execution_count": 13,
     "metadata": {},
     "output_type": "execute_result"
    }
   ],
   "source": [
    "len(nodes)"
   ]
  },
  {
   "cell_type": "markdown",
   "id": "c6a79190-8867-42a6-94b3-2826d98e6468",
   "metadata": {},
   "source": [
    "### Convert Product Info into Embeddings"
   ]
  },
  {
   "cell_type": "code",
   "execution_count": 14,
   "id": "b52f51a2-be11-4778-9562-afd602f6d2a7",
   "metadata": {},
   "outputs": [],
   "source": [
    "import os\n",
    "import openai\n",
    "from dotenv import load_dotenv, find_dotenv\n",
    "\n",
    "_ = load_dotenv(find_dotenv()) # read local .env file\n",
    "# openai.api_key = os.getenv('OPENAI_API_KEY')"
   ]
  },
  {
   "cell_type": "markdown",
   "id": "b83eed14-1341-4108-9b51-00b7039e9e45",
   "metadata": {},
   "source": [
    "### Creating a Weaviate Client"
   ]
  },
  {
   "cell_type": "code",
   "execution_count": 15,
   "id": "f3c8632f-7222-4d0b-b2f7-5532b682e39e",
   "metadata": {},
   "outputs": [],
   "source": [
    "import weaviate"
   ]
  },
  {
   "cell_type": "code",
   "execution_count": 16,
   "id": "4dfadfe9-e94c-41cf-a1ec-78682763f895",
   "metadata": {},
   "outputs": [],
   "source": [
    "import logging\n",
    "import sys\n",
    "\n",
    "logging.basicConfig(stream=sys.stdout, level=logging.INFO)\n",
    "logging.getLogger().addHandler(logging.StreamHandler(stream=sys.stdout))"
   ]
  },
  {
   "cell_type": "code",
   "execution_count": 17,
   "id": "87cc9c5d-c48c-4aac-b881-5b7d02441d77",
   "metadata": {},
   "outputs": [
    {
     "name": "stderr",
     "output_type": "stream",
     "text": [
      "/Users/linghuang/miniconda3/envs/llama-index4/lib/python3.8/site-packages/weaviate/warnings.py:121: DeprecationWarning: Dep005: You are using weaviate-client version 3.26.2. The latest version is 4.6.3.\n",
      "            Please consider upgrading to the latest version. See https://weaviate.io/developers/weaviate/client-libraries/python for details.\n",
      "  warnings.warn(\n"
     ]
    }
   ],
   "source": [
    "client = weaviate.Client(\n",
    "    url=os.getenv(\"WEAVIATE_URL\"), # Replace with your Weaviate Cloud URL\n",
    "    auth_client_secret=weaviate.auth.AuthApiKey(os.getenv(\"WEAVIATE_API_KEY\")),  # Replace w/ your Weaviate instance API key\n",
    "    additional_headers={\"X-Cohere-Api-Key\": os.environ['COHERE_API_KEY'],}\n",
    ")"
   ]
  },
  {
   "cell_type": "code",
   "execution_count": 18,
   "id": "b57f92f7-7422-407e-80a6-239903edc6aa",
   "metadata": {},
   "outputs": [
    {
     "data": {
      "text/plain": [
       "True"
      ]
     },
     "execution_count": 18,
     "metadata": {},
     "output_type": "execute_result"
    }
   ],
   "source": [
    "client.is_ready()"
   ]
  },
  {
   "cell_type": "markdown",
   "id": "d9a41535-435b-4448-8f48-5871f774ee83",
   "metadata": {},
   "source": [
    "### Next, you will build a `VectorStoreIndex` from the Weaviate client to store your data in and interact with."
   ]
  },
  {
   "cell_type": "code",
   "execution_count": 19,
   "id": "6a3d3b85-9a6c-4329-9cfd-657dfcb37d58",
   "metadata": {},
   "outputs": [],
   "source": [
    "from llama_index.core import VectorStoreIndex, StorageContext\n",
    "from llama_index.vector_stores.weaviate import WeaviateVectorStore"
   ]
  },
  {
   "cell_type": "code",
   "execution_count": 20,
   "id": "d82e9ec9-829b-4ce9-90da-87a73e94e96f",
   "metadata": {},
   "outputs": [],
   "source": [
    "# construct vector store\n",
    "vector_store = WeaviateVectorStore(\n",
    "    weaviate_client=client, index_name=\"LlamaIndex\"\n",
    ")"
   ]
  },
  {
   "cell_type": "code",
   "execution_count": 21,
   "id": "bced4eac-7264-430c-abc7-696d9ae4f68a",
   "metadata": {},
   "outputs": [],
   "source": [
    "# Set up the storage for the embeddings\n",
    "storage_context = StorageContext.from_defaults(vector_store=vector_store)"
   ]
  },
  {
   "cell_type": "code",
   "execution_count": 22,
   "id": "358b3200-e9dc-4759-b186-336b413f1fd4",
   "metadata": {},
   "outputs": [],
   "source": [
    "# If an index with the same index name already exists within Weaviate, delete it\n",
    "# if client.schema.exists(\"LlamaIndex\"):\n",
    "#     client.schema.delete_class(\"LlamaIndex\")\n",
    "\n",
    "# index = VectorStoreIndex(\n",
    "#     nodes,\n",
    "#     storage_context = storage_context,\n",
    "# )"
   ]
  },
  {
   "cell_type": "code",
   "execution_count": 23,
   "id": "92b5c461-9bdb-45fc-a0a5-29cb4e128f25",
   "metadata": {},
   "outputs": [],
   "source": [
    "import json\n",
    "\n",
    "index_name=\"LlamaIndex\"\n",
    "response = client.schema.get(index_name)\n",
    "# print(json.dumps(response, indent=2))"
   ]
  },
  {
   "cell_type": "markdown",
   "id": "ecb60e9f-3f12-4d4d-9774-d9c214490e18",
   "metadata": {},
   "source": [
    "### Loading the index"
   ]
  },
  {
   "cell_type": "code",
   "execution_count": 24,
   "id": "f769b663-54ca-4351-b80c-90ea2805aecd",
   "metadata": {},
   "outputs": [],
   "source": [
    "vector_store = WeaviateVectorStore(\n",
    "    weaviate_client=client, index_name=\"LlamaIndex\"\n",
    ")\n",
    "\n",
    "index = VectorStoreIndex.from_vector_store(vector_store)"
   ]
  },
  {
   "cell_type": "markdown",
   "id": "3fd4da3a-1911-4ed7-9792-523f880e9f36",
   "metadata": {},
   "source": [
    "### Query Index"
   ]
  },
  {
   "cell_type": "code",
   "execution_count": 25,
   "id": "74e03bf8-b75c-41d8-a6e4-c0518fc223fd",
   "metadata": {},
   "outputs": [
    {
     "name": "stdout",
     "output_type": "stream",
     "text": [
      "INFO:httpx:HTTP Request: POST https://api.openai.com/v1/embeddings \"HTTP/1.1 200 OK\"\n",
      "HTTP Request: POST https://api.openai.com/v1/embeddings \"HTTP/1.1 200 OK\"\n",
      "INFO:httpx:HTTP Request: POST https://api.openai.com/v1/chat/completions \"HTTP/1.1 200 OK\"\n",
      "HTTP Request: POST https://api.openai.com/v1/chat/completions \"HTTP/1.1 200 OK\"\n"
     ]
    }
   ],
   "source": [
    "query_engine = index.as_query_engine(                                                                           \n",
    "    vector_store_query_mode=\"hybrid\", similarity_top_k=2\n",
    ")\n",
    "response = query_engine.query(                                                                                     \n",
    "    \"salon chair\",\n",
    ")"
   ]
  },
  {
   "cell_type": "code",
   "execution_count": 26,
   "id": "c8705a1f-e207-4f16-91c6-85b370a61372",
   "metadata": {},
   "outputs": [
    {
     "name": "stdout",
     "output_type": "stream",
     "text": [
      "{'e05f0fc2-15d3-40e1-a17f-d4ba60f6199b': {'window': 'offers a wide selection of professional salon products including styling chair , salon hairdryer , salon equipment , etc .  to showcase the uniqueness of each salon', 'original_text': 'to showcase the uniqueness of each salon', 'product_id': 7465, 'product_name': 'hair salon chair'}, 'ed7967fc-f7da-47c1-86c5-445027ee1fcd': {'window': 'office work chair beauty salon chair white', 'original_text': 'office work chair beauty salon chair white', 'product_id': 33690, 'product_name': 'office work chair beauty salon chair white'}}\n"
     ]
    }
   ],
   "source": [
    "print(response.metadata)"
   ]
  },
  {
   "cell_type": "code",
   "execution_count": 27,
   "id": "c9ed681d-a15f-4870-aba6-6b0748eb0e76",
   "metadata": {},
   "outputs": [
    {
     "name": "stdout",
     "output_type": "stream",
     "text": [
      "{\n",
      "  \"e05f0fc2-15d3-40e1-a17f-d4ba60f6199b\": {\n",
      "    \"window\": \"offers a wide selection of professional salon products including styling chair , salon hairdryer , salon equipment , etc .  to showcase the uniqueness of each salon\",\n",
      "    \"original_text\": \"to showcase the uniqueness of each salon\",\n",
      "    \"product_id\": 7465,\n",
      "    \"product_name\": \"hair salon chair\"\n",
      "  },\n",
      "  \"ed7967fc-f7da-47c1-86c5-445027ee1fcd\": {\n",
      "    \"window\": \"office work chair beauty salon chair white\",\n",
      "    \"original_text\": \"office work chair beauty salon chair white\",\n",
      "    \"product_id\": 33690,\n",
      "    \"product_name\": \"office work chair beauty salon chair white\"\n",
      "  }\n",
      "}\n"
     ]
    }
   ],
   "source": [
    "import json\n",
    "print(json.dumps(response.metadata, indent=2))"
   ]
  },
  {
   "cell_type": "code",
   "execution_count": 28,
   "id": "04cd2bd5-5d32-4a49-bc91-0cee0e285648",
   "metadata": {},
   "outputs": [
    {
     "name": "stdout",
     "output_type": "stream",
     "text": [
      "     query_id  product_id    label\n",
      "80          0        7465    Exact\n",
      "109         0       33690  Partial\n"
     ]
    }
   ],
   "source": [
    "# get manually labeled groundtruth lables\n",
    "label_df = pd.read_csv(\"dataset/label.csv\", sep='\\t')\n",
    "\n",
    "filtered_df = label_df[(label_df['query_id'] == 0) & (label_df['product_id'].isin([7465, 33690]))]\n",
    "result_dict = filtered_df[['query_id', 'product_id', 'label']]\n",
    "print(result_dict)"
   ]
  },
  {
   "cell_type": "markdown",
   "id": "04ddc0f8-36b1-4822-acb8-a0a5b7b3ee7d",
   "metadata": {},
   "source": [
    "### Query With MetadataReplacementPostProcessor"
   ]
  },
  {
   "cell_type": "code",
   "execution_count": 32,
   "id": "0eac214c-ec78-4baa-8a81-7cb400bf734a",
   "metadata": {},
   "outputs": [],
   "source": [
    "from llama_index.core.postprocessor import MetadataReplacementPostProcessor"
   ]
  },
  {
   "cell_type": "code",
   "execution_count": 33,
   "id": "24227052-fc66-4a07-b767-84892ccfda36",
   "metadata": {},
   "outputs": [],
   "source": [
    "query_engine = index.as_query_engine(\n",
    "    vector_store_query_mode=\"hybrid\", \n",
    "    similarity_top_k=2,\n",
    "    # the target key defaults to `window` to match the node_parser's default\n",
    "    node_postprocessors=[\n",
    "        MetadataReplacementPostProcessor(target_metadata_key=\"window\")\n",
    "    ],\n",
    ")"
   ]
  },
  {
   "cell_type": "code",
   "execution_count": 34,
   "id": "9c0f4bbe-19d1-4d0e-976d-52c0ce5b561d",
   "metadata": {},
   "outputs": [
    {
     "name": "stdout",
     "output_type": "stream",
     "text": [
      "INFO:httpx:HTTP Request: POST https://api.openai.com/v1/embeddings \"HTTP/1.1 200 OK\"\n",
      "HTTP Request: POST https://api.openai.com/v1/embeddings \"HTTP/1.1 200 OK\"\n",
      "INFO:httpx:HTTP Request: POST https://api.openai.com/v1/chat/completions \"HTTP/1.1 200 OK\"\n",
      "HTTP Request: POST https://api.openai.com/v1/chat/completions \"HTTP/1.1 200 OK\"\n",
      "The product mentioned in the context is a hair salon chair.\n"
     ]
    }
   ],
   "source": [
    "window_response = query_engine.query(\n",
    "    \"salon chair\"\n",
    ")\n",
    "print(window_response)"
   ]
  },
  {
   "cell_type": "code",
   "execution_count": 35,
   "id": "daf84770-c373-47b6-96b1-f0bd941cb1d7",
   "metadata": {},
   "outputs": [
    {
     "name": "stdout",
     "output_type": "stream",
     "text": [
      "{\n",
      "  \"e05f0fc2-15d3-40e1-a17f-d4ba60f6199b\": {\n",
      "    \"window\": \"offers a wide selection of professional salon products including styling chair , salon hairdryer , salon equipment , etc .  to showcase the uniqueness of each salon\",\n",
      "    \"original_text\": \"to showcase the uniqueness of each salon\",\n",
      "    \"product_id\": 7465,\n",
      "    \"product_name\": \"hair salon chair\"\n",
      "  },\n",
      "  \"ed7967fc-f7da-47c1-86c5-445027ee1fcd\": {\n",
      "    \"window\": \"office work chair beauty salon chair white\",\n",
      "    \"original_text\": \"office work chair beauty salon chair white\",\n",
      "    \"product_id\": 33690,\n",
      "    \"product_name\": \"office work chair beauty salon chair white\"\n",
      "  }\n",
      "}\n"
     ]
    }
   ],
   "source": [
    "print(json.dumps(window_response.metadata, indent=2))"
   ]
  },
  {
   "cell_type": "code",
   "execution_count": 36,
   "id": "48455db8-5846-414d-a044-b9dedb83062f",
   "metadata": {},
   "outputs": [
    {
     "name": "stdout",
     "output_type": "stream",
     "text": [
      "Window: offers a wide selection of professional salon products including styling chair , salon hairdryer , salon equipment , etc .  to showcase the uniqueness of each salon\n",
      "------------------\n",
      "Original Sentence: to showcase the uniqueness of each salon\n"
     ]
    }
   ],
   "source": [
    "window = window_response.source_nodes[0].node.metadata[\"window\"]\n",
    "sentence = window_response.source_nodes[0].node.metadata[\"original_text\"]\n",
    "\n",
    "print(f\"Window: {window}\")\n",
    "print(\"------------------\")\n",
    "print(f\"Original Sentence: {sentence}\")"
   ]
  },
  {
   "cell_type": "code",
   "execution_count": 37,
   "id": "11bb0ba1-b5d3-4c08-980b-61381a4d193e",
   "metadata": {},
   "outputs": [
    {
     "name": "stdout",
     "output_type": "stream",
     "text": [
      "to showcase the uniqueness of each salon\n",
      "--------\n",
      "office work chair beauty salon chair white\n",
      "--------\n"
     ]
    }
   ],
   "source": [
    "for source_node in window_response.source_nodes:\n",
    "    print(source_node.node.metadata[\"original_text\"])\n",
    "    print(\"--------\")"
   ]
  },
  {
   "cell_type": "markdown",
   "id": "2b11960d-9412-47ee-875e-f73f82057eeb",
   "metadata": {},
   "source": [
    "### LLM Reranker"
   ]
  },
  {
   "cell_type": "code",
   "execution_count": 71,
   "id": "02575153-dd47-4894-9d6b-586183cf59b1",
   "metadata": {},
   "outputs": [],
   "source": [
    "import nest_asyncio\n",
    "\n",
    "nest_asyncio.apply()"
   ]
  },
  {
   "cell_type": "code",
   "execution_count": 72,
   "id": "a9aaaef2-65ed-4aae-88eb-408f8cc9f7d9",
   "metadata": {},
   "outputs": [],
   "source": [
    "import logging\n",
    "import sys\n",
    "\n",
    "logging.basicConfig(stream=sys.stdout, level=logging.INFO)\n",
    "logging.getLogger().addHandler(logging.StreamHandler(stream=sys.stdout))"
   ]
  },
  {
   "cell_type": "code",
   "execution_count": 73,
   "id": "3d7231ee-126c-4af7-b5c5-c0ae36fa913d",
   "metadata": {},
   "outputs": [
    {
     "name": "stdout",
     "output_type": "stream",
     "text": [
      "INFO:httpx:HTTP Request: POST https://api.openai.com/v1/embeddings \"HTTP/1.1 200 OK\"\n",
      "HTTP Request: POST https://api.openai.com/v1/embeddings \"HTTP/1.1 200 OK\"\n",
      "HTTP Request: POST https://api.openai.com/v1/embeddings \"HTTP/1.1 200 OK\"\n",
      "HTTP Request: POST https://api.openai.com/v1/embeddings \"HTTP/1.1 200 OK\"\n",
      "INFO:httpx:HTTP Request: POST https://api.openai.com/v1/chat/completions \"HTTP/1.1 200 OK\"\n",
      "HTTP Request: POST https://api.openai.com/v1/chat/completions \"HTTP/1.1 200 OK\"\n",
      "HTTP Request: POST https://api.openai.com/v1/chat/completions \"HTTP/1.1 200 OK\"\n",
      "HTTP Request: POST https://api.openai.com/v1/chat/completions \"HTTP/1.1 200 OK\"\n",
      "INFO:httpx:HTTP Request: POST https://api.openai.com/v1/chat/completions \"HTTP/1.1 200 OK\"\n",
      "HTTP Request: POST https://api.openai.com/v1/chat/completions \"HTTP/1.1 200 OK\"\n",
      "HTTP Request: POST https://api.openai.com/v1/chat/completions \"HTTP/1.1 200 OK\"\n",
      "HTTP Request: POST https://api.openai.com/v1/chat/completions \"HTTP/1.1 200 OK\"\n",
      "INFO:httpx:HTTP Request: POST https://api.openai.com/v1/chat/completions \"HTTP/1.1 200 OK\"\n",
      "HTTP Request: POST https://api.openai.com/v1/chat/completions \"HTTP/1.1 200 OK\"\n",
      "HTTP Request: POST https://api.openai.com/v1/chat/completions \"HTTP/1.1 200 OK\"\n",
      "HTTP Request: POST https://api.openai.com/v1/chat/completions \"HTTP/1.1 200 OK\"\n"
     ]
    }
   ],
   "source": [
    "from llama_index.core.postprocessor import LLMRerank\n",
    "\n",
    "query_engine = index.as_query_engine(\n",
    "    similarity_top_k=10,\n",
    "    node_postprocessors=[\n",
    "        LLMRerank(\n",
    "            choice_batch_size=5,\n",
    "            top_n=2,\n",
    "        )\n",
    "    ],\n",
    "    response_mode=\"tree_summarize\",\n",
    ")\n",
    "response = query_engine.query(\n",
    "    \"salon chair\",\n",
    ")"
   ]
  },
  {
   "cell_type": "code",
   "execution_count": 74,
   "id": "4e893d9e-6a21-41b8-965e-d67f848cfa06",
   "metadata": {},
   "outputs": [
    {
     "name": "stdout",
     "output_type": "stream",
     "text": [
      "{\n",
      "  \"e05f0fc2-15d3-40e1-a17f-d4ba60f6199b\": {\n",
      "    \"window\": \"offers a wide selection of professional salon products including styling chair , salon hairdryer , salon equipment , etc .  to showcase the uniqueness of each salon\",\n",
      "    \"original_text\": \"to showcase the uniqueness of each salon\",\n",
      "    \"product_id\": 7465,\n",
      "    \"product_name\": \"hair salon chair\"\n",
      "  },\n",
      "  \"ed7967fc-f7da-47c1-86c5-445027ee1fcd\": {\n",
      "    \"window\": \"office work chair beauty salon chair white\",\n",
      "    \"original_text\": \"office work chair beauty salon chair white\",\n",
      "    \"product_id\": 33690,\n",
      "    \"product_name\": \"office work chair beauty salon chair white\"\n",
      "  }\n",
      "}\n"
     ]
    }
   ],
   "source": [
    "print(json.dumps(response.metadata, indent=2))"
   ]
  },
  {
   "cell_type": "code",
   "execution_count": 75,
   "id": "28a8bb67-ab5c-4340-b692-1fae358f29e2",
   "metadata": {},
   "outputs": [
    {
     "name": "stdout",
     "output_type": "stream",
     "text": [
      "     query_id  product_id  label\n",
      "80          0        7465  Exact\n",
      "101         0       15612  Exact\n"
     ]
    }
   ],
   "source": [
    "filtered_df = label_df[(label_df['query_id'] == 0) & (label_df['product_id'].isin([7465, 15612]))]\n",
    "result_dict = filtered_df[['query_id', 'product_id', 'label']]\n",
    "print(result_dict)"
   ]
  },
  {
   "cell_type": "code",
   "execution_count": 76,
   "id": "d14da5f1-93b4-422b-bc8c-547fa4a8d871",
   "metadata": {},
   "outputs": [],
   "source": [
    "from llama_index.core.retrievers import VectorIndexRetriever\n",
    "from llama_index.core import QueryBundle\n",
    "from llama_index.core import VectorStoreIndex, SimpleDirectoryReader\n",
    "\n",
    "from llama_index.llms.openai import OpenAI\n",
    "\n",
    "def get_retrieved_nodes(\n",
    "    query_str, vector_top_k=10, reranker_top_n=2, with_reranker=False\n",
    "):\n",
    "    query_bundle = QueryBundle(query_str)\n",
    "    retriever = VectorIndexRetriever(\n",
    "        index=index,\n",
    "        similarity_top_k=vector_top_k,\n",
    "    )\n",
    "    retrieved_nodes = retriever.retrieve(query_bundle)\n",
    "\n",
    "    if with_reranker:\n",
    "        reranker = LLMRerank(\n",
    "            choice_batch_size=5,\n",
    "            top_n=reranker_top_n,\n",
    "        )\n",
    "        retrieved_nodes = reranker.postprocess_nodes(\n",
    "            retrieved_nodes, query_bundle\n",
    "        )\n",
    "    return retrieved_nodes"
   ]
  },
  {
   "cell_type": "code",
   "execution_count": 77,
   "id": "78e2c40d-364b-4285-826d-e7fd2878c75a",
   "metadata": {},
   "outputs": [
    {
     "name": "stdout",
     "output_type": "stream",
     "text": [
      "INFO:httpx:HTTP Request: POST https://api.openai.com/v1/embeddings \"HTTP/1.1 200 OK\"\n",
      "HTTP Request: POST https://api.openai.com/v1/embeddings \"HTTP/1.1 200 OK\"\n",
      "HTTP Request: POST https://api.openai.com/v1/embeddings \"HTTP/1.1 200 OK\"\n",
      "HTTP Request: POST https://api.openai.com/v1/embeddings \"HTTP/1.1 200 OK\"\n"
     ]
    }
   ],
   "source": [
    "new_nodes = get_retrieved_nodes(\n",
    "     \"salon chair\",\n",
    "    vector_top_k=2,\n",
    "    with_reranker=False,\n",
    ")"
   ]
  },
  {
   "cell_type": "code",
   "execution_count": 78,
   "id": "4d6e15b3-c5e4-46a8-b90b-519317ad4ba3",
   "metadata": {},
   "outputs": [
    {
     "name": "stdout",
     "output_type": "stream",
     "text": [
      "Score: 0.90 - to showcase the uniqueness of each salon...\n",
      "Score: 0.90 - it features a curved backrest design , an adjustable lift seat , and a five-star base with casters for easy mobility ....\n"
     ]
    }
   ],
   "source": [
    "for node in new_nodes:\n",
    "    # print(node)\n",
    "    print(f\"Score: {node.score:.2f} - {node.text[:200]}...\")"
   ]
  },
  {
   "cell_type": "code",
   "execution_count": 79,
   "id": "5e8f07d6-9be1-42c8-872f-5a3b1d96c950",
   "metadata": {},
   "outputs": [
    {
     "name": "stdout",
     "output_type": "stream",
     "text": [
      "INFO:httpx:HTTP Request: POST https://api.openai.com/v1/embeddings \"HTTP/1.1 200 OK\"\n",
      "HTTP Request: POST https://api.openai.com/v1/embeddings \"HTTP/1.1 200 OK\"\n",
      "HTTP Request: POST https://api.openai.com/v1/embeddings \"HTTP/1.1 200 OK\"\n",
      "HTTP Request: POST https://api.openai.com/v1/embeddings \"HTTP/1.1 200 OK\"\n",
      "INFO:httpx:HTTP Request: POST https://api.openai.com/v1/chat/completions \"HTTP/1.1 200 OK\"\n",
      "HTTP Request: POST https://api.openai.com/v1/chat/completions \"HTTP/1.1 200 OK\"\n",
      "HTTP Request: POST https://api.openai.com/v1/chat/completions \"HTTP/1.1 200 OK\"\n",
      "HTTP Request: POST https://api.openai.com/v1/chat/completions \"HTTP/1.1 200 OK\"\n",
      "INFO:httpx:HTTP Request: POST https://api.openai.com/v1/chat/completions \"HTTP/1.1 200 OK\"\n",
      "HTTP Request: POST https://api.openai.com/v1/chat/completions \"HTTP/1.1 200 OK\"\n",
      "HTTP Request: POST https://api.openai.com/v1/chat/completions \"HTTP/1.1 200 OK\"\n",
      "HTTP Request: POST https://api.openai.com/v1/chat/completions \"HTTP/1.1 200 OK\"\n"
     ]
    }
   ],
   "source": [
    "new_nodes = get_retrieved_nodes(\n",
    "    \"salon chair\",\n",
    "    reranker_top_n=2,\n",
    "    with_reranker=True,\n",
    ")"
   ]
  },
  {
   "cell_type": "code",
   "execution_count": 80,
   "id": "78bc439f-1a2d-4918-b7be-1a695d7e7af2",
   "metadata": {},
   "outputs": [
    {
     "name": "stdout",
     "output_type": "stream",
     "text": [
      "Score: 10.00 - to showcase the uniqueness of each salon...\n",
      "Score: 10.00 - office work chair beauty salon chair white...\n"
     ]
    }
   ],
   "source": [
    "for node in new_nodes:\n",
    "    # print(node)\n",
    "    print(f\"Score: {node.score:.2f} - {node.text[:200]}...\")"
   ]
  },
  {
   "cell_type": "markdown",
   "id": "2f4742d6-8d08-43db-a89c-b1b3cddd922b",
   "metadata": {},
   "source": [
    "### Query-Rewriting"
   ]
  },
  {
   "cell_type": "code",
   "execution_count": 95,
   "id": "ec07c8aa-7dfb-4123-a11f-09c1659acce1",
   "metadata": {},
   "outputs": [],
   "source": [
    "import nest_asyncio\n",
    "\n",
    "nest_asyncio.apply()"
   ]
  },
  {
   "cell_type": "code",
   "execution_count": 96,
   "id": "485cf202-10e2-4766-9c60-0695480ff9bb",
   "metadata": {},
   "outputs": [],
   "source": [
    "QUERY_GEN_PROMPT = (\n",
    "    \"You are a helpful assistant that generates multiple search queries based on a \"\n",
    "    \"single input query. Generate {num_queries} search queries, one on each line, \"\n",
    "    \"related to the following input query:\\n\"\n",
    "    \"Query: {query}\\n\"\n",
    "    \"Queries:\\n\"\n",
    ")"
   ]
  },
  {
   "cell_type": "code",
   "execution_count": 97,
   "id": "4f13cb5b-6fca-4bc7-b00b-0caab971bbf1",
   "metadata": {},
   "outputs": [],
   "source": [
    "from llama_index.core.retrievers import QueryFusionRetriever\n",
    "\n",
    "retriever = QueryFusionRetriever(\n",
    "    [index.as_retriever()],\n",
    "    similarity_top_k=2,\n",
    "    num_queries=5,  # set this to 1 to disable query generation\n",
    "    mode=\"reciprocal_rerank\",\n",
    "    use_async=True,\n",
    "    verbose=True,\n",
    "    query_gen_prompt=QUERY_GEN_PROMPT,  \n",
    ")"
   ]
  },
  {
   "cell_type": "code",
   "execution_count": 100,
   "id": "606e5e55-956c-47b3-a31b-5a7a6811363f",
   "metadata": {
    "scrolled": true
   },
   "outputs": [
    {
     "name": "stdout",
     "output_type": "stream",
     "text": [
      "INFO:httpx:HTTP Request: POST https://api.openai.com/v1/chat/completions \"HTTP/1.1 200 OK\"\n",
      "HTTP Request: POST https://api.openai.com/v1/chat/completions \"HTTP/1.1 200 OK\"\n",
      "HTTP Request: POST https://api.openai.com/v1/chat/completions \"HTTP/1.1 200 OK\"\n",
      "HTTP Request: POST https://api.openai.com/v1/chat/completions \"HTTP/1.1 200 OK\"\n",
      "Generated queries:\n",
      "1. Best salon chairs for professional use\n",
      "2. Affordable salon chairs for sale\n",
      "3. How to clean and maintain salon chairs\n",
      "4. Different types of salon chairs and their uses\n",
      "INFO:httpx:HTTP Request: POST https://api.openai.com/v1/embeddings \"HTTP/1.1 200 OK\"\n",
      "HTTP Request: POST https://api.openai.com/v1/embeddings \"HTTP/1.1 200 OK\"\n",
      "HTTP Request: POST https://api.openai.com/v1/embeddings \"HTTP/1.1 200 OK\"\n",
      "HTTP Request: POST https://api.openai.com/v1/embeddings \"HTTP/1.1 200 OK\"\n",
      "INFO:httpx:HTTP Request: POST https://api.openai.com/v1/embeddings \"HTTP/1.1 200 OK\"\n",
      "HTTP Request: POST https://api.openai.com/v1/embeddings \"HTTP/1.1 200 OK\"\n",
      "HTTP Request: POST https://api.openai.com/v1/embeddings \"HTTP/1.1 200 OK\"\n",
      "HTTP Request: POST https://api.openai.com/v1/embeddings \"HTTP/1.1 200 OK\"\n",
      "INFO:httpx:HTTP Request: POST https://api.openai.com/v1/embeddings \"HTTP/1.1 200 OK\"\n",
      "HTTP Request: POST https://api.openai.com/v1/embeddings \"HTTP/1.1 200 OK\"\n",
      "HTTP Request: POST https://api.openai.com/v1/embeddings \"HTTP/1.1 200 OK\"\n",
      "HTTP Request: POST https://api.openai.com/v1/embeddings \"HTTP/1.1 200 OK\"\n",
      "INFO:httpx:HTTP Request: POST https://api.openai.com/v1/embeddings \"HTTP/1.1 200 OK\"\n",
      "HTTP Request: POST https://api.openai.com/v1/embeddings \"HTTP/1.1 200 OK\"\n",
      "HTTP Request: POST https://api.openai.com/v1/embeddings \"HTTP/1.1 200 OK\"\n",
      "HTTP Request: POST https://api.openai.com/v1/embeddings \"HTTP/1.1 200 OK\"\n",
      "INFO:httpx:HTTP Request: POST https://api.openai.com/v1/embeddings \"HTTP/1.1 200 OK\"\n",
      "HTTP Request: POST https://api.openai.com/v1/embeddings \"HTTP/1.1 200 OK\"\n",
      "HTTP Request: POST https://api.openai.com/v1/embeddings \"HTTP/1.1 200 OK\"\n",
      "HTTP Request: POST https://api.openai.com/v1/embeddings \"HTTP/1.1 200 OK\"\n"
     ]
    }
   ],
   "source": [
    "nodes_with_scores = retriever.retrieve(\"salon chair\")"
   ]
  },
  {
   "cell_type": "code",
   "execution_count": 102,
   "id": "38f7b5fc-1c66-4d2c-912c-feabc3062902",
   "metadata": {
    "scrolled": true
   },
   "outputs": [
    {
     "name": "stdout",
     "output_type": "stream",
     "text": [
      "Node ID: 814c82a2-d82b-4214-be7b-dbdc8113fcf4\n",
      "Text: salon chairs are a wonderful avenue for hairstylists and barbers\n",
      "to increase their revenue - have a comfortable chair for customers to\n",
      "enjoy during their visit .\n",
      "Score:  0.050\n",
      "\n",
      "Node ID: e05f0fc2-15d3-40e1-a17f-d4ba60f6199b\n",
      "Text: to showcase the uniqueness of each salon\n",
      "Score:  0.049\n",
      "\n"
     ]
    }
   ],
   "source": [
    "for node in nodes_with_scores:\n",
    "    print(node)\n",
    "    # print(f\"Score: {node.score:.2f} - {node.text[:00]}...\")"
   ]
  },
  {
   "cell_type": "code",
   "execution_count": 103,
   "id": "0d2bfbfa-6f97-48c7-bb11-f4b9908011a7",
   "metadata": {},
   "outputs": [],
   "source": [
    "from llama_index.core.query_engine import RetrieverQueryEngine\n",
    "\n",
    "query_engine = RetrieverQueryEngine.from_args(retriever)"
   ]
  },
  {
   "cell_type": "code",
   "execution_count": 111,
   "id": "8af7d826-89fb-4bc4-8c5d-2a9e22d3dcb9",
   "metadata": {},
   "outputs": [
    {
     "name": "stdout",
     "output_type": "stream",
     "text": [
      "INFO:httpx:HTTP Request: POST https://api.openai.com/v1/chat/completions \"HTTP/1.1 200 OK\"\n",
      "HTTP Request: POST https://api.openai.com/v1/chat/completions \"HTTP/1.1 200 OK\"\n",
      "HTTP Request: POST https://api.openai.com/v1/chat/completions \"HTTP/1.1 200 OK\"\n",
      "HTTP Request: POST https://api.openai.com/v1/chat/completions \"HTTP/1.1 200 OK\"\n",
      "Generated queries:\n",
      "1. Best salon chairs for professionals\n",
      "2. Affordable salon chairs for sale\n",
      "3. How to clean and maintain salon chairs\n",
      "4. Different types of salon chairs\n",
      "INFO:httpx:HTTP Request: POST https://api.openai.com/v1/embeddings \"HTTP/1.1 200 OK\"\n",
      "HTTP Request: POST https://api.openai.com/v1/embeddings \"HTTP/1.1 200 OK\"\n",
      "HTTP Request: POST https://api.openai.com/v1/embeddings \"HTTP/1.1 200 OK\"\n",
      "HTTP Request: POST https://api.openai.com/v1/embeddings \"HTTP/1.1 200 OK\"\n",
      "INFO:httpx:HTTP Request: POST https://api.openai.com/v1/embeddings \"HTTP/1.1 200 OK\"\n",
      "HTTP Request: POST https://api.openai.com/v1/embeddings \"HTTP/1.1 200 OK\"\n",
      "HTTP Request: POST https://api.openai.com/v1/embeddings \"HTTP/1.1 200 OK\"\n",
      "HTTP Request: POST https://api.openai.com/v1/embeddings \"HTTP/1.1 200 OK\"\n",
      "INFO:httpx:HTTP Request: POST https://api.openai.com/v1/embeddings \"HTTP/1.1 200 OK\"\n",
      "HTTP Request: POST https://api.openai.com/v1/embeddings \"HTTP/1.1 200 OK\"\n",
      "HTTP Request: POST https://api.openai.com/v1/embeddings \"HTTP/1.1 200 OK\"\n",
      "HTTP Request: POST https://api.openai.com/v1/embeddings \"HTTP/1.1 200 OK\"\n",
      "INFO:httpx:HTTP Request: POST https://api.openai.com/v1/embeddings \"HTTP/1.1 200 OK\"\n",
      "HTTP Request: POST https://api.openai.com/v1/embeddings \"HTTP/1.1 200 OK\"\n",
      "HTTP Request: POST https://api.openai.com/v1/embeddings \"HTTP/1.1 200 OK\"\n",
      "HTTP Request: POST https://api.openai.com/v1/embeddings \"HTTP/1.1 200 OK\"\n",
      "INFO:httpx:HTTP Request: POST https://api.openai.com/v1/embeddings \"HTTP/1.1 200 OK\"\n",
      "HTTP Request: POST https://api.openai.com/v1/embeddings \"HTTP/1.1 200 OK\"\n",
      "HTTP Request: POST https://api.openai.com/v1/embeddings \"HTTP/1.1 200 OK\"\n",
      "HTTP Request: POST https://api.openai.com/v1/embeddings \"HTTP/1.1 200 OK\"\n",
      "INFO:httpx:HTTP Request: POST https://api.openai.com/v1/chat/completions \"HTTP/1.1 200 OK\"\n",
      "HTTP Request: POST https://api.openai.com/v1/chat/completions \"HTTP/1.1 200 OK\"\n",
      "HTTP Request: POST https://api.openai.com/v1/chat/completions \"HTTP/1.1 200 OK\"\n",
      "HTTP Request: POST https://api.openai.com/v1/chat/completions \"HTTP/1.1 200 OK\"\n"
     ]
    }
   ],
   "source": [
    "response = query_engine.query(\"salon chair\")"
   ]
  },
  {
   "cell_type": "code",
   "execution_count": 112,
   "id": "b32b657d-b02c-4877-a389-3d35034e2e77",
   "metadata": {},
   "outputs": [
    {
     "name": "stdout",
     "output_type": "stream",
     "text": [
      "Answer: A salon chair is a piece of furniture used in hair salons and barber shops. It is designed to provide comfort to customers during their visit. There are different types of salon chairs, such as a basic hair salon chair and a barberpub salon massage chair. These chairs not only serve a functional purpose but also contribute to the unique aesthetic of each salon. They can also help hairstylists and barbers increase their revenue.\n"
     ]
    }
   ],
   "source": [
    "print(\"Answer: {}\".format(response))"
   ]
  },
  {
   "cell_type": "code",
   "execution_count": 113,
   "id": "8a040792-0434-4cdc-a67a-408ad96e8902",
   "metadata": {
    "scrolled": true
   },
   "outputs": [
    {
     "name": "stdout",
     "output_type": "stream",
     "text": [
      "{\n",
      "  \"e05f0fc2-15d3-40e1-a17f-d4ba60f6199b\": {\n",
      "    \"window\": \"offers a wide selection of professional salon products including styling chair , salon hairdryer , salon equipment , etc .  to showcase the uniqueness of each salon\",\n",
      "    \"original_text\": \"to showcase the uniqueness of each salon\",\n",
      "    \"product_id\": 7465,\n",
      "    \"product_name\": \"hair salon chair\"\n",
      "  },\n",
      "  \"814c82a2-d82b-4214-be7b-dbdc8113fcf4\": {\n",
      "    \"window\": \"salon chairs are a wonderful avenue for hairstylists and barbers to increase their revenue - have a comfortable chair for customers to enjoy during their visit .\",\n",
      "    \"original_text\": \"salon chairs are a wonderful avenue for hairstylists and barbers to increase their revenue - have a comfortable chair for customers to enjoy during their visit .\",\n",
      "    \"product_id\": 25431,\n",
      "    \"product_name\": \"barberpub salon massage chair\"\n",
      "  }\n",
      "}\n"
     ]
    }
   ],
   "source": [
    "print(json.dumps(response.metadata, indent=2))"
   ]
  },
  {
   "cell_type": "code",
   "execution_count": 114,
   "id": "64ccab0f-20ad-47b6-a711-de2fd892c5ba",
   "metadata": {
    "scrolled": true
   },
   "outputs": [
    {
     "name": "stdout",
     "output_type": "stream",
     "text": [
      "    query_id  product_id  label\n",
      "29         0       25431  Exact\n",
      "80         0        7465  Exact\n"
     ]
    }
   ],
   "source": [
    "filtered_df = label_df[(label_df['query_id'] == 0) & (label_df['product_id'].isin([7465, 25431]))]\n",
    "result_dict = filtered_df[['query_id', 'product_id', 'label']]\n",
    "print(result_dict)"
   ]
  },
  {
   "cell_type": "markdown",
   "id": "256d5c26-07b6-4144-8c7e-b0e6e87470f6",
   "metadata": {},
   "source": [
    "### HyDE Query Transform "
   ]
  },
  {
   "cell_type": "code",
   "execution_count": 115,
   "id": "7f3c2bd3-3811-4d4f-9e26-f598d28b0451",
   "metadata": {},
   "outputs": [],
   "source": [
    "from llama_index.core.indices.query.query_transform import HyDEQueryTransform\n",
    "from llama_index.core.query_engine import TransformQueryEngine"
   ]
  },
  {
   "cell_type": "code",
   "execution_count": 116,
   "id": "29560c3e-4a78-4740-9b6b-bbf3558ca87a",
   "metadata": {},
   "outputs": [],
   "source": [
    "query_engine = index.as_query_engine(\n",
    "    similarity_top_k=10,\n",
    "    node_postprocessors=[\n",
    "        LLMRerank(\n",
    "            choice_batch_size=5,\n",
    "            top_n=2,\n",
    "        )\n",
    "    ],\n",
    "    response_mode=\"tree_summarize\",\n",
    ")"
   ]
  },
  {
   "cell_type": "code",
   "execution_count": 117,
   "id": "52b1dfe6-25a2-4504-b2a2-6bc02bcd1eca",
   "metadata": {
    "scrolled": true
   },
   "outputs": [
    {
     "name": "stdout",
     "output_type": "stream",
     "text": [
      "INFO:httpx:HTTP Request: POST https://api.openai.com/v1/chat/completions \"HTTP/1.1 200 OK\"\n",
      "HTTP Request: POST https://api.openai.com/v1/chat/completions \"HTTP/1.1 200 OK\"\n",
      "HTTP Request: POST https://api.openai.com/v1/chat/completions \"HTTP/1.1 200 OK\"\n",
      "HTTP Request: POST https://api.openai.com/v1/chat/completions \"HTTP/1.1 200 OK\"\n",
      "INFO:httpx:HTTP Request: POST https://api.openai.com/v1/embeddings \"HTTP/1.1 200 OK\"\n",
      "HTTP Request: POST https://api.openai.com/v1/embeddings \"HTTP/1.1 200 OK\"\n",
      "HTTP Request: POST https://api.openai.com/v1/embeddings \"HTTP/1.1 200 OK\"\n",
      "HTTP Request: POST https://api.openai.com/v1/embeddings \"HTTP/1.1 200 OK\"\n",
      "INFO:httpx:HTTP Request: POST https://api.openai.com/v1/embeddings \"HTTP/1.1 200 OK\"\n",
      "HTTP Request: POST https://api.openai.com/v1/embeddings \"HTTP/1.1 200 OK\"\n",
      "HTTP Request: POST https://api.openai.com/v1/embeddings \"HTTP/1.1 200 OK\"\n",
      "HTTP Request: POST https://api.openai.com/v1/embeddings \"HTTP/1.1 200 OK\"\n",
      "INFO:httpx:HTTP Request: POST https://api.openai.com/v1/chat/completions \"HTTP/1.1 200 OK\"\n",
      "HTTP Request: POST https://api.openai.com/v1/chat/completions \"HTTP/1.1 200 OK\"\n",
      "HTTP Request: POST https://api.openai.com/v1/chat/completions \"HTTP/1.1 200 OK\"\n",
      "HTTP Request: POST https://api.openai.com/v1/chat/completions \"HTTP/1.1 200 OK\"\n",
      "INFO:httpx:HTTP Request: POST https://api.openai.com/v1/chat/completions \"HTTP/1.1 200 OK\"\n",
      "HTTP Request: POST https://api.openai.com/v1/chat/completions \"HTTP/1.1 200 OK\"\n",
      "HTTP Request: POST https://api.openai.com/v1/chat/completions \"HTTP/1.1 200 OK\"\n",
      "HTTP Request: POST https://api.openai.com/v1/chat/completions \"HTTP/1.1 200 OK\"\n",
      "INFO:httpx:HTTP Request: POST https://api.openai.com/v1/chat/completions \"HTTP/1.1 200 OK\"\n",
      "HTTP Request: POST https://api.openai.com/v1/chat/completions \"HTTP/1.1 200 OK\"\n",
      "HTTP Request: POST https://api.openai.com/v1/chat/completions \"HTTP/1.1 200 OK\"\n",
      "HTTP Request: POST https://api.openai.com/v1/chat/completions \"HTTP/1.1 200 OK\"\n"
     ]
    }
   ],
   "source": [
    "hyde = HyDEQueryTransform(include_original=True)\n",
    "hyde_query_engine = TransformQueryEngine(query_engine, hyde)\n",
    "response = hyde_query_engine.query(\"salon chair\")"
   ]
  },
  {
   "cell_type": "code",
   "execution_count": 123,
   "id": "9377c2bf-e921-4477-bd0b-c02421d3e75a",
   "metadata": {},
   "outputs": [
    {
     "name": "stdout",
     "output_type": "stream",
     "text": [
      "A salon chair is a piece of furniture used in salons by hairstylists and barbers. It provides a comfortable place for customers during their visit. Two examples of salon chairs are the Barberpub Salon Massage Chair and the Barberpub Hydraulic Reclining Massage Chair. These chairs can also help increase revenue for hairstylists and barbers.\n"
     ]
    }
   ],
   "source": [
    "print(response)"
   ]
  },
  {
   "cell_type": "code",
   "execution_count": 119,
   "id": "e3cbc851-b8ae-40ab-b51f-ec2dc0baa1b2",
   "metadata": {
    "scrolled": true
   },
   "outputs": [
    {
     "name": "stdout",
     "output_type": "stream",
     "text": [
      "{\n",
      "  \"814c82a2-d82b-4214-be7b-dbdc8113fcf4\": {\n",
      "    \"window\": \"salon chairs are a wonderful avenue for hairstylists and barbers to increase their revenue - have a comfortable chair for customers to enjoy during their visit .\",\n",
      "    \"original_text\": \"salon chairs are a wonderful avenue for hairstylists and barbers to increase their revenue - have a comfortable chair for customers to enjoy during their visit .\",\n",
      "    \"product_id\": 25431,\n",
      "    \"product_name\": \"barberpub salon massage chair\"\n",
      "  },\n",
      "  \"0465ebc3-6952-4822-968a-b644d0beff34\": {\n",
      "    \"window\": \"salon chairs are a wonderful avenue for hairstylists and barbers to increase their revenue - have a comfortable chair for customers to enjoy during their visit .\",\n",
      "    \"original_text\": \"salon chairs are a wonderful avenue for hairstylists and barbers to increase their revenue - have a comfortable chair for customers to enjoy during their visit .\",\n",
      "    \"product_id\": 25433,\n",
      "    \"product_name\": \"barberpub hydraulic reclining massage chair\"\n",
      "  }\n",
      "}\n"
     ]
    }
   ],
   "source": [
    "print(json.dumps(response.metadata, indent=2))"
   ]
  },
  {
   "cell_type": "code",
   "execution_count": 122,
   "id": "c6be49c7-bf73-450d-9edc-58a7c262d15f",
   "metadata": {},
   "outputs": [
    {
     "name": "stdout",
     "output_type": "stream",
     "text": [
      "    query_id  product_id  label\n",
      "27         0       25433  Exact\n",
      "29         0       25431  Exact\n"
     ]
    }
   ],
   "source": [
    "filtered_df = label_df[(label_df['query_id'] == 0) & (label_df['product_id'].isin([25431, 25433]))]\n",
    "result_dict = filtered_df[['query_id', 'product_id', 'label']]\n",
    "print(result_dict)"
   ]
  },
  {
   "cell_type": "code",
   "execution_count": 87,
   "id": "85876ffc-b490-45b0-905c-8ec65c60a7f9",
   "metadata": {},
   "outputs": [
    {
     "name": "stdout",
     "output_type": "stream",
     "text": [
      "Node ID: 7dbfbe32-6d80-4fc1-bf8c-1ec24f5a51b8\n",
      "Text: the hydraulic salon chairs are made with a heavy-duty steel\n",
      "frame , along with a premium chrome round base , sturdy arms , durable\n",
      "hydraulic pump , and thick high-density foam seat and backrest .\n",
      "Score:  10.000\n",
      "\n",
      "Node ID: f85ed77c-27dc-4adb-bdcb-29782328ba19\n",
      "Text: the hydraulic salon chairs are made with a heavy-duty steel\n",
      "frame , along with a premium chrome round base , sturdy arms , durable\n",
      "hydraulic pump , and thick high-density foam seat and backrest .\n",
      "Score:  10.000\n",
      "\n"
     ]
    }
   ],
   "source": [
    "for node in new_nodes:\n",
    "    print(node)\n",
    "    # print(f\"Score: {node.score:.2f} - {node.text[:200]}...\")"
   ]
  },
  {
   "cell_type": "markdown",
   "id": "444417b0-a0d2-4c03-828b-46a631a49ef8",
   "metadata": {},
   "source": [
    "### Generator-Enhanced Retrieval  \"Active Retrieval Augmented Generation\""
   ]
  },
  {
   "cell_type": "code",
   "execution_count": 81,
   "id": "1cb5128f-1235-49f2-90f0-3aabee769bc9",
   "metadata": {},
   "outputs": [],
   "source": [
    "from llama_index.llms.openai import OpenAI\n",
    "from llama_index.core import Settings\n",
    "\n",
    "Settings.llm = OpenAI(model=\"gpt-4\", temperature=0)\n",
    "Settings.chunk_size = 512"
   ]
  },
  {
   "cell_type": "code",
   "execution_count": 82,
   "id": "8393bd1b-bdf9-4c0b-85d4-c1ed5b1a3b03",
   "metadata": {},
   "outputs": [],
   "source": [
    "index_query_engine = index.as_query_engine(similarity_top_k=2)"
   ]
  },
  {
   "cell_type": "code",
   "execution_count": 83,
   "id": "2a82a900-ba29-450c-9fe1-1c57b090cd2a",
   "metadata": {},
   "outputs": [],
   "source": [
    "from llama_index.core.query_engine import FLAREInstructQueryEngine\n",
    "\n",
    "query_engine = FLAREInstructQueryEngine(\n",
    "    query_engine=index_query_engine,\n",
    "    max_iterations=2,\n",
    "    verbose=True,\n",
    ")"
   ]
  },
  {
   "cell_type": "code",
   "execution_count": 84,
   "id": "9009f8df-8147-45f0-973e-1b2e5cad2350",
   "metadata": {},
   "outputs": [
    {
     "name": "stdout",
     "output_type": "stream",
     "text": [
      "\u001b[1;3;32mQuery: salon chair\n",
      "\u001b[0m\u001b[1;3;34mCurrent response: \n",
      "\u001b[0mINFO:httpx:HTTP Request: POST https://api.openai.com/v1/chat/completions \"HTTP/1.1 200 OK\"\n",
      "HTTP Request: POST https://api.openai.com/v1/chat/completions \"HTTP/1.1 200 OK\"\n",
      "HTTP Request: POST https://api.openai.com/v1/chat/completions \"HTTP/1.1 200 OK\"\n",
      "HTTP Request: POST https://api.openai.com/v1/chat/completions \"HTTP/1.1 200 OK\"\n",
      "\u001b[1;3;38;5;200mLookahead response: A salon chair is a type of furniture specifically designed for use in a beauty salon or barbershop, often featuring adjustable height and reclining capabilities for the comfort of the client and ease of the stylist. It is typically made of [Search(What materials are salon chairs typically made of?)]\n",
      "\u001b[0mINFO:httpx:HTTP Request: POST https://api.openai.com/v1/embeddings \"HTTP/1.1 200 OK\"\n",
      "HTTP Request: POST https://api.openai.com/v1/embeddings \"HTTP/1.1 200 OK\"\n",
      "HTTP Request: POST https://api.openai.com/v1/embeddings \"HTTP/1.1 200 OK\"\n",
      "HTTP Request: POST https://api.openai.com/v1/embeddings \"HTTP/1.1 200 OK\"\n",
      "INFO:httpx:HTTP Request: POST https://api.openai.com/v1/chat/completions \"HTTP/1.1 200 OK\"\n",
      "HTTP Request: POST https://api.openai.com/v1/chat/completions \"HTTP/1.1 200 OK\"\n",
      "HTTP Request: POST https://api.openai.com/v1/chat/completions \"HTTP/1.1 200 OK\"\n",
      "HTTP Request: POST https://api.openai.com/v1/chat/completions \"HTTP/1.1 200 OK\"\n",
      "INFO:httpx:HTTP Request: POST https://api.openai.com/v1/chat/completions \"HTTP/1.1 200 OK\"\n",
      "HTTP Request: POST https://api.openai.com/v1/chat/completions \"HTTP/1.1 200 OK\"\n",
      "HTTP Request: POST https://api.openai.com/v1/chat/completions \"HTTP/1.1 200 OK\"\n",
      "HTTP Request: POST https://api.openai.com/v1/chat/completions \"HTTP/1.1 200 OK\"\n",
      "\u001b[1;3;38;5;200mUpdated lookahead response: A salon chair is a type of furniture specifically designed for use in a beauty salon or barbershop, often featuring adjustable height and reclining capabilities for the comfort of the client and ease of the stylist. It is typically made of a heavy-duty steel frame, a premium chrome round base, sturdy arms, a durable hydraulic pump, and a thick high-density foam seat and backrest.\n",
      "\u001b[0m\u001b[1;3;34mCurrent response:  A salon chair is a type of furniture specifically designed for use in a beauty salon or barbershop, often featuring adjustable height and reclining capabilities for the comfort of the client and ease of the stylist. It is typically made of a heavy-duty steel frame, a premium chrome round base, sturdy arms, a durable hydraulic pump, and a thick high-density foam seat and backrest.\n",
      "\u001b[0mINFO:httpx:HTTP Request: POST https://api.openai.com/v1/chat/completions \"HTTP/1.1 200 OK\"\n",
      "HTTP Request: POST https://api.openai.com/v1/chat/completions \"HTTP/1.1 200 OK\"\n",
      "HTTP Request: POST https://api.openai.com/v1/chat/completions \"HTTP/1.1 200 OK\"\n",
      "HTTP Request: POST https://api.openai.com/v1/chat/completions \"HTTP/1.1 200 OK\"\n",
      "\u001b[1;3;38;5;200mLookahead response: The upholstery can vary, but it is often made of [Search(What material is typically used for the upholstery of salon chairs?)] for durability and easy cleaning.\n",
      "\u001b[0mINFO:httpx:HTTP Request: POST https://api.openai.com/v1/embeddings \"HTTP/1.1 200 OK\"\n",
      "HTTP Request: POST https://api.openai.com/v1/embeddings \"HTTP/1.1 200 OK\"\n",
      "HTTP Request: POST https://api.openai.com/v1/embeddings \"HTTP/1.1 200 OK\"\n",
      "HTTP Request: POST https://api.openai.com/v1/embeddings \"HTTP/1.1 200 OK\"\n",
      "INFO:httpx:HTTP Request: POST https://api.openai.com/v1/chat/completions \"HTTP/1.1 200 OK\"\n",
      "HTTP Request: POST https://api.openai.com/v1/chat/completions \"HTTP/1.1 200 OK\"\n",
      "HTTP Request: POST https://api.openai.com/v1/chat/completions \"HTTP/1.1 200 OK\"\n",
      "HTTP Request: POST https://api.openai.com/v1/chat/completions \"HTTP/1.1 200 OK\"\n",
      "INFO:httpx:HTTP Request: POST https://api.openai.com/v1/chat/completions \"HTTP/1.1 200 OK\"\n",
      "HTTP Request: POST https://api.openai.com/v1/chat/completions \"HTTP/1.1 200 OK\"\n",
      "HTTP Request: POST https://api.openai.com/v1/chat/completions \"HTTP/1.1 200 OK\"\n",
      "HTTP Request: POST https://api.openai.com/v1/chat/completions \"HTTP/1.1 200 OK\"\n",
      "\u001b[1;3;38;5;200mUpdated lookahead response: The upholstery can vary, but it is often made of faux leather for durability and easy cleaning.\n",
      "\u001b[0m"
     ]
    }
   ],
   "source": [
    "response = query_engine.query(\n",
    "    \"salon chair\",\n",
    ")"
   ]
  },
  {
   "cell_type": "code",
   "execution_count": 85,
   "id": "bbdc0ff0-d7bf-4591-854c-81ce91f4345c",
   "metadata": {},
   "outputs": [
    {
     "name": "stdout",
     "output_type": "stream",
     "text": [
      "A salon chair is a type of furniture specifically designed for use in a beauty salon or barbershop, often featuring adjustable height and reclining capabilities for the comfort of the client and ease of the stylist. It is typically made of a heavy-duty steel frame, a premium chrome round base, sturdy arms, a durable hydraulic pump, and a thick high-density foam seat and backrest. The upholstery can vary, but it is often made of faux leather for durability and easy cleaning.\n"
     ]
    }
   ],
   "source": [
    "print(response)"
   ]
  },
  {
   "cell_type": "code",
   "execution_count": 86,
   "id": "149bd271-15f6-4f7b-a1e9-4455ad8d8636",
   "metadata": {},
   "outputs": [
    {
     "name": "stdout",
     "output_type": "stream",
     "text": [
      "INFO:httpx:HTTP Request: POST https://api.openai.com/v1/embeddings \"HTTP/1.1 200 OK\"\n",
      "HTTP Request: POST https://api.openai.com/v1/embeddings \"HTTP/1.1 200 OK\"\n",
      "HTTP Request: POST https://api.openai.com/v1/embeddings \"HTTP/1.1 200 OK\"\n",
      "HTTP Request: POST https://api.openai.com/v1/embeddings \"HTTP/1.1 200 OK\"\n",
      "INFO:httpx:HTTP Request: POST https://api.openai.com/v1/chat/completions \"HTTP/1.1 200 OK\"\n",
      "HTTP Request: POST https://api.openai.com/v1/chat/completions \"HTTP/1.1 200 OK\"\n",
      "HTTP Request: POST https://api.openai.com/v1/chat/completions \"HTTP/1.1 200 OK\"\n",
      "HTTP Request: POST https://api.openai.com/v1/chat/completions \"HTTP/1.1 200 OK\"\n",
      "INFO:httpx:HTTP Request: POST https://api.openai.com/v1/chat/completions \"HTTP/1.1 200 OK\"\n",
      "HTTP Request: POST https://api.openai.com/v1/chat/completions \"HTTP/1.1 200 OK\"\n",
      "HTTP Request: POST https://api.openai.com/v1/chat/completions \"HTTP/1.1 200 OK\"\n",
      "HTTP Request: POST https://api.openai.com/v1/chat/completions \"HTTP/1.1 200 OK\"\n"
     ]
    }
   ],
   "source": [
    "new_nodes = get_retrieved_nodes(\n",
    "    response.response,\n",
    "    reranker_top_n=2,\n",
    "    with_reranker=True,\n",
    ")"
   ]
  },
  {
   "cell_type": "code",
   "execution_count": 88,
   "id": "6a4856c4-61b9-478c-9dac-1464a7ef244b",
   "metadata": {},
   "outputs": [
    {
     "name": "stdout",
     "output_type": "stream",
     "text": [
      "INFO:httpx:HTTP Request: POST https://api.openai.com/v1/embeddings \"HTTP/1.1 200 OK\"\n",
      "HTTP Request: POST https://api.openai.com/v1/embeddings \"HTTP/1.1 200 OK\"\n",
      "HTTP Request: POST https://api.openai.com/v1/embeddings \"HTTP/1.1 200 OK\"\n",
      "HTTP Request: POST https://api.openai.com/v1/embeddings \"HTTP/1.1 200 OK\"\n",
      "INFO:httpx:HTTP Request: POST https://api.openai.com/v1/chat/completions \"HTTP/1.1 200 OK\"\n",
      "HTTP Request: POST https://api.openai.com/v1/chat/completions \"HTTP/1.1 200 OK\"\n",
      "HTTP Request: POST https://api.openai.com/v1/chat/completions \"HTTP/1.1 200 OK\"\n",
      "HTTP Request: POST https://api.openai.com/v1/chat/completions \"HTTP/1.1 200 OK\"\n",
      "The salon chair, with product id 7465, is designed to highlight the uniqueness of each salon. Another chair, the bar salon task chair with product id 24010, features a curved backrest design, an adjustable lift seat, and a five-star base with casters for easy mobility.\n"
     ]
    }
   ],
   "source": [
    "base_query_engine = index.as_query_engine()\n",
    "response = base_query_engine.query(\"salon chair\")\n",
    "print(response)"
   ]
  },
  {
   "cell_type": "code",
   "execution_count": 89,
   "id": "7fa71d66-3e07-464a-84a6-a0f9cc2e4a0f",
   "metadata": {},
   "outputs": [
    {
     "name": "stdout",
     "output_type": "stream",
     "text": [
      "{\n",
      "  \"e05f0fc2-15d3-40e1-a17f-d4ba60f6199b\": {\n",
      "    \"window\": \"offers a wide selection of professional salon products including styling chair , salon hairdryer , salon equipment , etc .  to showcase the uniqueness of each salon\",\n",
      "    \"original_text\": \"to showcase the uniqueness of each salon\",\n",
      "    \"product_id\": 7465,\n",
      "    \"product_name\": \"hair salon chair\"\n",
      "  },\n",
      "  \"2c2fa1b0-e694-4eb6-a734-99f06ecb18b2\": {\n",
      "    \"window\": \"the office chair is ideal for any casual or professional working area .  it provides comfortable support with a cozy and convenient design .  carefully crafted .  it features a curved backrest design , an adjustable lift seat , and a five-star base with casters for easy mobility .\",\n",
      "    \"original_text\": \"it features a curved backrest design , an adjustable lift seat , and a five-star base with casters for easy mobility .\",\n",
      "    \"product_id\": 24010,\n",
      "    \"product_name\": \"bar salon task chair\"\n",
      "  }\n",
      "}\n"
     ]
    }
   ],
   "source": [
    "print(json.dumps(response.metadata, indent=2))"
   ]
  },
  {
   "cell_type": "code",
   "execution_count": 91,
   "id": "f33d3418-17e0-474e-a5c8-fa561f4fb116",
   "metadata": {},
   "outputs": [
    {
     "name": "stdout",
     "output_type": "stream",
     "text": [
      "    query_id  product_id    label\n",
      "23         0       24010  Partial\n",
      "80         0        7465    Exact\n"
     ]
    }
   ],
   "source": [
    "filtered_df = label_df[(label_df['query_id'] == 0) & (label_df['product_id'].isin([7465, 24010]))]\n",
    "result_dict = filtered_df[['query_id', 'product_id', 'label']]\n",
    "print(result_dict)"
   ]
  },
  {
   "cell_type": "markdown",
   "id": "7019ed6d-3cd3-459b-95a8-c5b4114a0d97",
   "metadata": {},
   "source": [
    "### Retry Query Engine"
   ]
  },
  {
   "cell_type": "code",
   "execution_count": 92,
   "id": "63d6eb7e-ba65-4563-9632-64c2c6886da2",
   "metadata": {},
   "outputs": [
    {
     "name": "stdout",
     "output_type": "stream",
     "text": [
      "INFO:httpx:HTTP Request: POST https://api.openai.com/v1/embeddings \"HTTP/1.1 200 OK\"\n",
      "HTTP Request: POST https://api.openai.com/v1/embeddings \"HTTP/1.1 200 OK\"\n",
      "HTTP Request: POST https://api.openai.com/v1/embeddings \"HTTP/1.1 200 OK\"\n",
      "HTTP Request: POST https://api.openai.com/v1/embeddings \"HTTP/1.1 200 OK\"\n",
      "INFO:httpx:HTTP Request: POST https://api.openai.com/v1/chat/completions \"HTTP/1.1 200 OK\"\n",
      "HTTP Request: POST https://api.openai.com/v1/chat/completions \"HTTP/1.1 200 OK\"\n",
      "HTTP Request: POST https://api.openai.com/v1/chat/completions \"HTTP/1.1 200 OK\"\n",
      "HTTP Request: POST https://api.openai.com/v1/chat/completions \"HTTP/1.1 200 OK\"\n",
      "INFO:httpx:HTTP Request: POST https://api.openai.com/v1/chat/completions \"HTTP/1.1 200 OK\"\n",
      "HTTP Request: POST https://api.openai.com/v1/chat/completions \"HTTP/1.1 200 OK\"\n",
      "HTTP Request: POST https://api.openai.com/v1/chat/completions \"HTTP/1.1 200 OK\"\n",
      "HTTP Request: POST https://api.openai.com/v1/chat/completions \"HTTP/1.1 200 OK\"\n",
      "The salon chair, with the product id 7465, is unique to each salon. Another type of chair is the bar salon task chair, product id 24010, which features a curved backrest design, an adjustable lift seat, and a five-star base with casters for easy mobility.\n"
     ]
    }
   ],
   "source": [
    "from llama_index.core.query_engine import RetryQueryEngine\n",
    "from llama_index.core.evaluation import RelevancyEvaluator\n",
    "\n",
    "query_response_evaluator = RelevancyEvaluator()\n",
    "retry_query_engine = RetryQueryEngine(\n",
    "    base_query_engine, query_response_evaluator\n",
    ")\n",
    "retry_response = retry_query_engine.query(\"salon chair\")\n",
    "print(retry_response)"
   ]
  },
  {
   "cell_type": "code",
   "execution_count": 93,
   "id": "3440b004-38a5-4317-8f6a-6a81a0e3accb",
   "metadata": {},
   "outputs": [
    {
     "name": "stdout",
     "output_type": "stream",
     "text": [
      "{\n",
      "  \"e05f0fc2-15d3-40e1-a17f-d4ba60f6199b\": {\n",
      "    \"window\": \"offers a wide selection of professional salon products including styling chair , salon hairdryer , salon equipment , etc .  to showcase the uniqueness of each salon\",\n",
      "    \"original_text\": \"to showcase the uniqueness of each salon\",\n",
      "    \"product_id\": 7465,\n",
      "    \"product_name\": \"hair salon chair\"\n",
      "  },\n",
      "  \"2c2fa1b0-e694-4eb6-a734-99f06ecb18b2\": {\n",
      "    \"window\": \"the office chair is ideal for any casual or professional working area .  it provides comfortable support with a cozy and convenient design .  carefully crafted .  it features a curved backrest design , an adjustable lift seat , and a five-star base with casters for easy mobility .\",\n",
      "    \"original_text\": \"it features a curved backrest design , an adjustable lift seat , and a five-star base with casters for easy mobility .\",\n",
      "    \"product_id\": 24010,\n",
      "    \"product_name\": \"bar salon task chair\"\n",
      "  }\n",
      "}\n"
     ]
    }
   ],
   "source": [
    "print(json.dumps(response.metadata, indent=2))"
   ]
  }
 ],
 "metadata": {
  "environment": {
   "name": "tf2-gpu.2-5.m76",
   "type": "gcloud",
   "uri": "gcr.io/deeplearning-platform-release/tf2-gpu.2-5:m76"
  },
  "kernelspec": {
   "display_name": "Python 3 (ipykernel)",
   "language": "python",
   "name": "python3"
  },
  "language_info": {
   "codemirror_mode": {
    "name": "ipython",
    "version": 3
   },
   "file_extension": ".py",
   "mimetype": "text/x-python",
   "name": "python",
   "nbconvert_exporter": "python",
   "pygments_lexer": "ipython3",
   "version": "3.8.19"
  }
 },
 "nbformat": 4,
 "nbformat_minor": 5
}
