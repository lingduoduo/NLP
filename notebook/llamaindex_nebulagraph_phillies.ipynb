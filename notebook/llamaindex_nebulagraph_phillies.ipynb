{
 "cells": [
  {
   "cell_type": "markdown",
   "id": "66d337ee",
   "metadata": {},
   "source": [
    "# Querying Philadelphia Phillies with LlamaIndex and NebulaGraph"
   ]
  },
  {
   "cell_type": "code",
   "execution_count": 1,
   "id": "ea72b39f-87cc-4f42-9fe9-27873c39bb29",
   "metadata": {},
   "outputs": [],
   "source": [
    "from dotenv import load_dotenv, find_dotenv\n",
    "import openai\n",
    "import os\n",
    "\n",
    "_ = load_dotenv(find_dotenv())\n",
    "openai.api_key = os.getenv('OPENAI_API_KEY')"
   ]
  },
  {
   "cell_type": "code",
   "execution_count": 2,
   "id": "99f9320c-3865-44f8-9d12-4db5ccc95895",
   "metadata": {},
   "outputs": [],
   "source": [
    "from llama_index.core import VectorStoreIndex, SimpleDirectoryReader"
   ]
  },
  {
   "cell_type": "code",
   "execution_count": 3,
   "id": "e40fca1a-98dc-4429-8354-df66a83569a7",
   "metadata": {},
   "outputs": [
    {
     "name": "stderr",
     "output_type": "stream",
     "text": [
      "/Users/linghuang/miniconda3/envs/llama-index/lib/python3.10/site-packages/datasets/load.py:1429: FutureWarning: The repository for xsum contains custom code which must be executed to correctly load the dataset. You can inspect the repository content at https://hf.co/datasets/xsum\n",
      "You can avoid this message in future by passing the argument `trust_remote_code=True`.\n",
      "Passing `trust_remote_code=True` will be mandatory to load this dataset from the next major release of `datasets`.\n",
      "  warnings.warn(\n"
     ]
    }
   ],
   "source": [
    "from datasets import load_dataset\n",
    "xsum_dataset = load_dataset(\n",
    "    \"xsum\", version=\"1.2.0\"\n",
    ")\n",
    "documents = xsum_dataset[\"train\"].select(range(1000)).to_pandas()"
   ]
  },
  {
   "cell_type": "code",
   "execution_count": 23,
   "id": "b20e426d-6e12-43fb-a382-3731d0820593",
   "metadata": {},
   "outputs": [],
   "source": [
    "!mkdir -p 'document/'"
   ]
  },
  {
   "cell_type": "code",
   "execution_count": 4,
   "id": "33352627-b48e-468b-8f7f-21a1e4fe3080",
   "metadata": {},
   "outputs": [],
   "source": [
    "joined_documents = '\\n'.join(documents['document'])\n",
    "with open('document/documents.txt', 'w', encoding='utf-8') as file:\n",
    "    file.write(joined_documents)\n",
    "documents = SimpleDirectoryReader(\"document\").load_data()"
   ]
  },
  {
   "cell_type": "code",
   "execution_count": 5,
   "id": "aa4113ec-98f2-4a3c-ad88-fddf2a93dc53",
   "metadata": {},
   "outputs": [],
   "source": [
    "index = VectorStoreIndex.from_documents(documents)"
   ]
  },
  {
   "cell_type": "code",
   "execution_count": 6,
   "id": "10c1fece-1503-438b-9471-a9fc31bcdfc1",
   "metadata": {},
   "outputs": [],
   "source": [
    "query_engine = index.as_query_engine()\n",
    "response = query_engine.query(\"I'm looking for the information of Harry Potter. What could you suggest to me?\")"
   ]
  },
  {
   "cell_type": "code",
   "execution_count": 7,
   "id": "3c5f28f7-ca43-4693-9d6b-d0b0392c4c76",
   "metadata": {},
   "outputs": [
    {
     "data": {
      "text/plain": [
       "Response(response='I would suggest looking into the play \"Harry Potter and the Cursed Child.\" It is a theatrical production set 19 years after the last book in the Harry Potter series by JK Rowling. The play has received critical acclaim and is presented in two parts, offering a unique and immersive experience for fans of the wizarding world.', source_nodes=[NodeWithScore(node=TextNode(id_='28cb8331-4c3d-4063-8aac-3bd60404bc76', embedding=None, metadata={'file_path': '/Users/linghuang/Git/NLP/notebook/document/documents.txt', 'file_name': 'documents.txt', 'file_type': 'text/plain', 'file_size': 2132434, 'creation_date': '2024-03-11', 'last_modified_date': '2024-03-11'}, excluded_embed_metadata_keys=['file_name', 'file_type', 'file_size', 'creation_date', 'last_modified_date', 'last_accessed_date'], excluded_llm_metadata_keys=['file_name', 'file_type', 'file_size', 'creation_date', 'last_modified_date', 'last_accessed_date'], relationships={<NodeRelationship.SOURCE: '1'>: RelatedNodeInfo(node_id='b217f4ba-c69a-4bb6-97ac-51731e5985de', node_type=<ObjectType.DOCUMENT: '4'>, metadata={'file_path': '/Users/linghuang/Git/NLP/notebook/document/documents.txt', 'file_name': 'documents.txt', 'file_type': 'text/plain', 'file_size': 2132434, 'creation_date': '2024-03-11', 'last_modified_date': '2024-03-11'}, hash='6d27bc87aba76367943e65e5e4a8f41e37ab0ebd2d22da2acd19917f373cddb2'), <NodeRelationship.PREVIOUS: '2'>: RelatedNodeInfo(node_id='b4753edb-bd3f-4c34-86bb-7453e9376e0d', node_type=<ObjectType.TEXT: '1'>, metadata={'file_path': '/Users/linghuang/Git/NLP/notebook/document/documents.txt', 'file_name': 'documents.txt', 'file_type': 'text/plain', 'file_size': 2132434, 'creation_date': '2024-03-11', 'last_modified_date': '2024-03-11'}, hash='e2be260327c81310b7edb9585db35345613c933bd366b55652581f4aaf129cb0'), <NodeRelationship.NEXT: '3'>: RelatedNodeInfo(node_id='5d06ce11-0978-4652-a0ba-21859dccbafa', node_type=<ObjectType.TEXT: '1'>, metadata={}, hash='527d65918c2cfa3c9f778e2db0cbb5c35759a5ba831385a8006ca5e70723bd52')}, text='After the breakout, soldiers surrounded the jail and calm was restored, the authorities said.\\nThe northern border region is the scene of rising lawlessness as the cartels fight the security forces and each other for control of smuggling routes into the US.\\nThe main battle in Tamaulipas is between the Zetas and the Gulf cartels, the AFP news agency reports.\\nTheir capacity for violence and ability to pay huge bribes gives them considerable power to subvert the prison system and get their people out.\\nPresident Felipe Calderon came to power in 2006 promising a war on drugs.\\nMore than 35,000 people have died in drug violence since he began his campaign, which has involved launching an army assault on drug gangs.\\nThe play, written by Jack Thorne, is set 19 years after the seventh and final book in the series by JK Rowling.\\nIt opens officially at the Palace Theatre, in London\\'s West End, on Saturday.\\nAudiences have been urged to \"keep the secrets\" since the play began previews in early June.\\nPresented in two parts, the play - showing the stars of the wizarding saga as adults in their mid-30s as their own children head off to school - stretches over five hours.\\nDaily Telegraph critic Dominic Cavendish awarded the play five stars, writing: \"British theatre hasn\\'t known anything like it for decades and I haven\\'t seen anything directly comparable in all my reviewing days.\"\\nHe said \"those involved can give themselves a pat on the back\", adding: \"It\\'s a triumph. Not an unqualified one - there are some quibbles - but in all key respects, it grips, it stirs, it delights.\"\\nCavendish praises the \"thrill-a-minute\" stage craft which sees pupils heading to Hogwarts, at the start of the play, change into school uniforms \"in the blink of an eye\" as they head to the infamous Platform 9Â¾ to make their way to school.\\nThe Stage also gives a five-star review, with Mark Shenton describing Harry Potter and the Cursed Child - co-devised by Rowling, with director John Tiffany and playwright Jack Thorne - as a \"truly game-changing production and a thrilling theatrical endeavour\".\\nIt is an \"entirely original\" piece of work, with \"Dickensian sweep and momentum to the storytelling\", writes Shenton, adding: \"It earns its place on the stage, feeling distinct from both the books and the screen adaptations.\\n\"By turns playful and gripping, disturbing and detailed, poignant and powerful, it is superb family entertainment.\"\\nShenton also praises \"the theatrical wizards who\\'ve created this stunningly-realised alternative universe deliver one coup de theatre after another\".\\nIn a nod to the Kings Cross platform number, Ann Treneman gives the play four and three-quarters stars in The Times, saying the \"wizardry on display\" is \"out of this world\".\\nShe says the plot is complex (\"there are mazes that are more straightforward\") but adds: \"It\\'s a raunchless Game of Thrones with heart. Crucially, it\\'s authentic Potter but, most importantly, it\\'s new.\\n\"It\\'s not the movie of the book. It\\'s the real deal, live in front of you, so much better than any film could be.\"\\nIn The Guardian, Michael Billington noted the Cursed Child will make more sense to \"hardened Potterheads\", but applauded Tiffany for directing a \"thrilling theatrical spectacle\", giving it four stars.\\nHe praised the strong performances that meant acting was central to the story, despite the dazzling special effects, singling out Sam Clemmett as Harry\\'s son Albus, \"wonderfully quirky\" Anthony Boyle as his friend Scorpius Malfoy, and the adult Harry (Jamie Parker), \"authoritative\" Hermione (Noma Dumezweni) and \"bluntly commonsensical\" Ron (Paul Thornley).\\nIt\\'s another five stars from The Independent, with Jack Shepherd describing it as \"magical\". He argues Part One should be billed as a magic show, due to the effects used, also praising its moments of comedy.\\nShepherd adds: \"It\\'s quite apparent this isn\\'t written to be either a book or a tie-in film; it\\'s a spectacle for the theatre, one that is filled to the brim with fan service and magical imagery that will amaze.\"\\nQuentin Letts grumbles about the length of the play in the Daily Mail, noting: \"There were moments I could have done with a glug of gurdyroot infusion to keep me alert.\"\\nBut he admits: \"Potter addicts will love it. JK Rowling is going to make (another) fortune. The West End\\'s ornate Palace Theatre, itself a little like Hogwarts, has a hit probably for years.\"', start_char_idx=565009, end_char_idx=569419, text_template='{metadata_str}\\n\\n{content}', metadata_template='{key}: {value}', metadata_seperator='\\n'), score=0.7753243285117032), NodeWithScore(node=TextNode(id_='5d06ce11-0978-4652-a0ba-21859dccbafa', embedding=None, metadata={'file_path': '/Users/linghuang/Git/NLP/notebook/document/documents.txt', 'file_name': 'documents.txt', 'file_type': 'text/plain', 'file_size': 2132434, 'creation_date': '2024-03-11', 'last_modified_date': '2024-03-11'}, excluded_embed_metadata_keys=['file_name', 'file_type', 'file_size', 'creation_date', 'last_modified_date', 'last_accessed_date'], excluded_llm_metadata_keys=['file_name', 'file_type', 'file_size', 'creation_date', 'last_modified_date', 'last_accessed_date'], relationships={<NodeRelationship.SOURCE: '1'>: RelatedNodeInfo(node_id='b217f4ba-c69a-4bb6-97ac-51731e5985de', node_type=<ObjectType.DOCUMENT: '4'>, metadata={'file_path': '/Users/linghuang/Git/NLP/notebook/document/documents.txt', 'file_name': 'documents.txt', 'file_type': 'text/plain', 'file_size': 2132434, 'creation_date': '2024-03-11', 'last_modified_date': '2024-03-11'}, hash='6d27bc87aba76367943e65e5e4a8f41e37ab0ebd2d22da2acd19917f373cddb2'), <NodeRelationship.PREVIOUS: '2'>: RelatedNodeInfo(node_id='28cb8331-4c3d-4063-8aac-3bd60404bc76', node_type=<ObjectType.TEXT: '1'>, metadata={'file_path': '/Users/linghuang/Git/NLP/notebook/document/documents.txt', 'file_name': 'documents.txt', 'file_type': 'text/plain', 'file_size': 2132434, 'creation_date': '2024-03-11', 'last_modified_date': '2024-03-11'}, hash='34d24370fb0c761a5b75685b114462bbbee726acd48120bb1f84352fba0f25a9'), <NodeRelationship.NEXT: '3'>: RelatedNodeInfo(node_id='718e96fb-d1bb-43e2-b5bd-1ca638d8154c', node_type=<ObjectType.TEXT: '1'>, metadata={}, hash='8502a319755d34ee0ba596bbd51a14a35253498078845133507a1b4f290b5cbf')}, text='It\\'s another five stars from The Independent, with Jack Shepherd describing it as \"magical\". He argues Part One should be billed as a magic show, due to the effects used, also praising its moments of comedy.\\nShepherd adds: \"It\\'s quite apparent this isn\\'t written to be either a book or a tie-in film; it\\'s a spectacle for the theatre, one that is filled to the brim with fan service and magical imagery that will amaze.\"\\nQuentin Letts grumbles about the length of the play in the Daily Mail, noting: \"There were moments I could have done with a glug of gurdyroot infusion to keep me alert.\"\\nBut he admits: \"Potter addicts will love it. JK Rowling is going to make (another) fortune. The West End\\'s ornate Palace Theatre, itself a little like Hogwarts, has a hit probably for years.\"\\nVariety describes it as \"spellbinding\", Matt Trueman writing that it is: \"The Show That Lived Up to Expectations â€” and Then Some.\"\\nHe says the relationship between Albus and Scorpius is \"the friendship of two bullied boys bound together, and it\\'s a beautiful, tender thing\", adding: \"The script by Jack Thorne recognizes that rejection breeds resentment, and outsiders stew into outcasts.\\n\"No one\\'s born a villain, nor sees themselves as such, and where the books gave us stock baddies, Cursed Child fleshes them out.\"\\nChris Jones, in the Chicago Tribune, says that \"heretical as this may sound\", the play left him \"quietly lamenting that the movies were ever made\".\\nBen Brantley in the New York Times writes: \"Like the novels that preceded it, The Cursed Child is stuffed with arcana-filled plots that defy diagrams and baldly wrought sentimental life lessons, along with anguished dives into the earnest, tortured solipsism of adolescence.\\n\"By rights, such a combination should try the patience of any grown-up. But like Ms Rowling\\'s books, the play vanquishes resistance.\"\\nThe Harry Potter books have sold more than 450 million copies since 1997 and been adapted into eight films.\\nThe script of Harry Potter and the Cursed Child is published this weekend.\\nFollow us on Twitter @BBCNewsEnts, on Instagram at bbcnewsents, or email entertainment.news@bbc.co.uk.\\nThere were celebrations in Europe after Germany surrendered.\\nBut on the other side of the world in the Pacific Ocean, Japan was still fighting against America, Britain and their allies.\\nThe Americans, however, had a secret plan to end the war - by using the most powerful weapon ever created.\\nOn 6 August 1945, at 8.15am Japanese time, an American B-29 bomber plane, called \\'Enola Gay\\', dropped an atomic bomb on the Japanese city of Hiroshima.\\nThe devastation was beyond anything seen before. The city was immediately flattened.\\n80,000 people were killed as a direct result of the blast, and another 35,000 were injured.\\nEven then, Japan didn\\'t surrender.\\nThree days later, another nuclear bomb was dropped by the Americans on the Japanese city of Nagasaki.\\nShortly afterwards, on 15 August 1945, Japan finally admitted defeat.\\nWorld War Two was over.\\nWhen the bomb exploded in Hiroshima, the city has struck by a flash of blinding light then a giant cloud shaped like a mushroom.\\nThe blast flattened buildings within a 2.5 km radius of the bomb.\\nThere were 90,000 buildings in Hiroshima before the bomb was dropped but only 28,000 remained after the explosion.\\nThousands and thousands of people were killed.  Many were badly injured.\\nBut the suffering didn\\'t end there because it wasn\\'t just a normal bomb.\\nThe nuclear radiation released when it exploded caused people to suffer horrible illnesses.\\nThousands more people died from their injuries and radiation sickness in the weeks, months and years that followed.\\nJapan was at war with America and its allies, which included Britain and Soviet Union (a nation made up of modern-day Russia and other countries).\\nThe allies were winning the war and the Japanese forces had been pushed back from many locations.\\nHowever fighting was still very fierce and soldiers and civilians were dying every day.\\nJapan had been at war for many years.\\nIt had invaded the countries near to it such as China and the Japanese had attacked America.\\nEverywhere the Japanese soldiers went, they were known for their cruelty.\\nThey treated prisoners of war very badly, including  American and British soldiers who had surrendered.\\nUS President Harry S Truman wanted the Japanese to surrender as quickly as possible so he could save lives.\\nThe atomic bomb was a deadly new weapon.\\nPresident Truman hoped the massive destruction it caused would shock the Japanese into realising they had to surrender.\\nUS President Truman wanted to avoid a land invasion of Japan.', start_char_idx=568637, end_char_idx=573273, text_template='{metadata_str}\\n\\n{content}', metadata_template='{key}: {value}', metadata_seperator='\\n'), score=0.7687263306401905)], metadata={'28cb8331-4c3d-4063-8aac-3bd60404bc76': {'file_path': '/Users/linghuang/Git/NLP/notebook/document/documents.txt', 'file_name': 'documents.txt', 'file_type': 'text/plain', 'file_size': 2132434, 'creation_date': '2024-03-11', 'last_modified_date': '2024-03-11'}, '5d06ce11-0978-4652-a0ba-21859dccbafa': {'file_path': '/Users/linghuang/Git/NLP/notebook/document/documents.txt', 'file_name': 'documents.txt', 'file_type': 'text/plain', 'file_size': 2132434, 'creation_date': '2024-03-11', 'last_modified_date': '2024-03-11'}})"
      ]
     },
     "execution_count": 7,
     "metadata": {},
     "output_type": "execute_result"
    }
   ],
   "source": [
    "response"
   ]
  },
  {
   "cell_type": "code",
   "execution_count": 8,
   "id": "830a556e-9463-4244-a6d3-0c8581ba17f8",
   "metadata": {},
   "outputs": [],
   "source": [
    "from llama_index.core import Settings\n",
    "\n",
    "Settings.chunk_size = 512\n",
    "\n",
    "# Local settings\n",
    "from llama_index.core.node_parser import SentenceSplitter\n",
    "\n",
    "index = VectorStoreIndex.from_documents(\n",
    "    documents, transformations=[SentenceSplitter(chunk_size=512)]\n",
    ")"
   ]
  },
  {
   "cell_type": "markdown",
   "id": "6844825d-99ae-4ae3-9022-675f870da6dc",
   "metadata": {},
   "source": [
    "https://docs.llamaindex.ai/en/stable/getting_started/customization.html"
   ]
  },
  {
   "cell_type": "code",
   "execution_count": 9,
   "id": "fe796a66-ea77-42d7-bbd4-4d353d018984",
   "metadata": {},
   "outputs": [],
   "source": [
    "query_engine = index.as_query_engine()\n",
    "response = query_engine.query(\"I'm looking for the information of Harry Potter. What could you suggest to me?\")"
   ]
  },
  {
   "cell_type": "code",
   "execution_count": 10,
   "id": "9c0e9464-3396-464e-a9be-8b666f58277f",
   "metadata": {},
   "outputs": [
    {
     "data": {
      "text/plain": [
       "Response(response='I would suggest looking into the play \"Harry Potter and the Cursed Child\", which is set 19 years after the seventh book in the series by JK Rowling. The play has received positive reviews and is presented in two parts, showcasing the characters as adults with children of their own. It has been described as a \"truly game-changing production\" with thrilling theatrical elements and a unique storytelling approach.', source_nodes=[NodeWithScore(node=TextNode(id_='82bf70b0-b450-47c9-93cd-6b2841a7d5f6', embedding=None, metadata={'file_path': '/Users/linghuang/Git/NLP/notebook/document/documents.txt', 'file_name': 'documents.txt', 'file_type': 'text/plain', 'file_size': 2132434, 'creation_date': '2024-03-11', 'last_modified_date': '2024-03-11'}, excluded_embed_metadata_keys=['file_name', 'file_type', 'file_size', 'creation_date', 'last_modified_date', 'last_accessed_date'], excluded_llm_metadata_keys=['file_name', 'file_type', 'file_size', 'creation_date', 'last_modified_date', 'last_accessed_date'], relationships={<NodeRelationship.SOURCE: '1'>: RelatedNodeInfo(node_id='b217f4ba-c69a-4bb6-97ac-51731e5985de', node_type=<ObjectType.DOCUMENT: '4'>, metadata={'file_path': '/Users/linghuang/Git/NLP/notebook/document/documents.txt', 'file_name': 'documents.txt', 'file_type': 'text/plain', 'file_size': 2132434, 'creation_date': '2024-03-11', 'last_modified_date': '2024-03-11'}, hash='6d27bc87aba76367943e65e5e4a8f41e37ab0ebd2d22da2acd19917f373cddb2'), <NodeRelationship.PREVIOUS: '2'>: RelatedNodeInfo(node_id='6334cf1d-e880-4bbb-9d53-9faf96cf5b13', node_type=<ObjectType.TEXT: '1'>, metadata={'file_path': '/Users/linghuang/Git/NLP/notebook/document/documents.txt', 'file_name': 'documents.txt', 'file_type': 'text/plain', 'file_size': 2132434, 'creation_date': '2024-03-11', 'last_modified_date': '2024-03-11'}, hash='e3cc63f7c72aa3b212e1863445d52c5fb4503c795bf01a151d2d3de979a11cc3'), <NodeRelationship.NEXT: '3'>: RelatedNodeInfo(node_id='2744a9a0-0ac9-43c9-9e95-a6225c49b609', node_type=<ObjectType.TEXT: '1'>, metadata={}, hash='d307d96d45bdb7592e2314ba6d0760c1c581608a8c840525a4388792cb2ddec7')}, text='It\\'s another five stars from The Independent, with Jack Shepherd describing it as \"magical\". He argues Part One should be billed as a magic show, due to the effects used, also praising its moments of comedy.\\nShepherd adds: \"It\\'s quite apparent this isn\\'t written to be either a book or a tie-in film; it\\'s a spectacle for the theatre, one that is filled to the brim with fan service and magical imagery that will amaze.\"\\nQuentin Letts grumbles about the length of the play in the Daily Mail, noting: \"There were moments I could have done with a glug of gurdyroot infusion to keep me alert.\"\\nBut he admits: \"Potter addicts will love it. JK Rowling is going to make (another) fortune. The West End\\'s ornate Palace Theatre, itself a little like Hogwarts, has a hit probably for years.\"\\nVariety describes it as \"spellbinding\", Matt Trueman writing that it is: \"The Show That Lived Up to Expectations â€” and Then Some.\"\\nHe says the relationship between Albus and Scorpius is \"the friendship of two bullied boys bound together, and it\\'s a beautiful, tender thing\", adding: \"The script by Jack Thorne recognizes that rejection breeds resentment, and outsiders stew into outcasts.\\n\"No one\\'s born a villain, nor sees themselves as such, and where the books gave us stock baddies, Cursed Child fleshes them out.\"\\nChris Jones, in the Chicago Tribune, says that \"heretical as this may sound\", the play left him \"quietly lamenting that the movies were ever made\".\\nBen Brantley in the New York Times writes: \"Like the novels that preceded it, The Cursed Child is stuffed with arcana-filled plots that defy diagrams and baldly wrought sentimental life lessons, along with anguished dives into the earnest, tortured solipsism of adolescence.\\n\"By rights, such a combination should try the patience of any grown-up. But like Ms Rowling\\'s books, the play vanquishes resistance.\"\\nThe Harry Potter books have sold more than 450 million copies since 1997 and been adapted into eight films.\\nThe script of Harry Potter and the Cursed Child is published this weekend.\\nFollow us on Twitter @BBCNewsEnts, on Instagram at bbcnewsents, or email entertainment.news@bbc.co.uk.', start_char_idx=568637, end_char_idx=570783, text_template='{metadata_str}\\n\\n{content}', metadata_template='{key}: {value}', metadata_seperator='\\n'), score=0.79623539519736), NodeWithScore(node=TextNode(id_='8495f422-7b8d-4e5a-a4d2-7ba7ae2edabb', embedding=None, metadata={'file_path': '/Users/linghuang/Git/NLP/notebook/document/documents.txt', 'file_name': 'documents.txt', 'file_type': 'text/plain', 'file_size': 2132434, 'creation_date': '2024-03-11', 'last_modified_date': '2024-03-11'}, excluded_embed_metadata_keys=['file_name', 'file_type', 'file_size', 'creation_date', 'last_modified_date', 'last_accessed_date'], excluded_llm_metadata_keys=['file_name', 'file_type', 'file_size', 'creation_date', 'last_modified_date', 'last_accessed_date'], relationships={<NodeRelationship.SOURCE: '1'>: RelatedNodeInfo(node_id='b217f4ba-c69a-4bb6-97ac-51731e5985de', node_type=<ObjectType.DOCUMENT: '4'>, metadata={'file_path': '/Users/linghuang/Git/NLP/notebook/document/documents.txt', 'file_name': 'documents.txt', 'file_type': 'text/plain', 'file_size': 2132434, 'creation_date': '2024-03-11', 'last_modified_date': '2024-03-11'}, hash='6d27bc87aba76367943e65e5e4a8f41e37ab0ebd2d22da2acd19917f373cddb2'), <NodeRelationship.PREVIOUS: '2'>: RelatedNodeInfo(node_id='2c324651-e389-462c-8895-9abc9a76b78b', node_type=<ObjectType.TEXT: '1'>, metadata={'file_path': '/Users/linghuang/Git/NLP/notebook/document/documents.txt', 'file_name': 'documents.txt', 'file_type': 'text/plain', 'file_size': 2132434, 'creation_date': '2024-03-11', 'last_modified_date': '2024-03-11'}, hash='9782bac5f16613040f5c9c6affddf3e2880220c07646a943589dcf02c60f4633'), <NodeRelationship.NEXT: '3'>: RelatedNodeInfo(node_id='6334cf1d-e880-4bbb-9d53-9faf96cf5b13', node_type=<ObjectType.TEXT: '1'>, metadata={}, hash='6534e0c354bd88ead6d9508f4092f9ff8890a4f4a3d64682172deb890494d914')}, text='The play, written by Jack Thorne, is set 19 years after the seventh and final book in the series by JK Rowling.\\nIt opens officially at the Palace Theatre, in London\\'s West End, on Saturday.\\nAudiences have been urged to \"keep the secrets\" since the play began previews in early June.\\nPresented in two parts, the play - showing the stars of the wizarding saga as adults in their mid-30s as their own children head off to school - stretches over five hours.\\nDaily Telegraph critic Dominic Cavendish awarded the play five stars, writing: \"British theatre hasn\\'t known anything like it for decades and I haven\\'t seen anything directly comparable in all my reviewing days.\"\\nHe said \"those involved can give themselves a pat on the back\", adding: \"It\\'s a triumph. Not an unqualified one - there are some quibbles - but in all key respects, it grips, it stirs, it delights.\"\\nCavendish praises the \"thrill-a-minute\" stage craft which sees pupils heading to Hogwarts, at the start of the play, change into school uniforms \"in the blink of an eye\" as they head to the infamous Platform 9Â¾ to make their way to school.\\nThe Stage also gives a five-star review, with Mark Shenton describing Harry Potter and the Cursed Child - co-devised by Rowling, with director John Tiffany and playwright Jack Thorne - as a \"truly game-changing production and a thrilling theatrical endeavour\".\\nIt is an \"entirely original\" piece of work, with \"Dickensian sweep and momentum to the storytelling\", writes Shenton, adding: \"It earns its place on the stage, feeling distinct from both the books and the screen adaptations.\\n\"By turns playful and gripping, disturbing and detailed, poignant and powerful, it is superb family entertainment.\"\\nShenton also praises \"the theatrical wizards who\\'ve created this stunningly-realised alternative universe deliver one coup de theatre after another\".\\nIn a nod to the Kings Cross platform number, Ann Treneman gives the play four and three-quarters stars in The Times, saying the \"wizardry on display\" is \"out of this world\".\\nShe says the plot is complex (\"there are mazes that are more straightforward\") but adds: \"It\\'s a raunchless Game of Thrones with heart.', start_char_idx=565726, end_char_idx=567895, text_template='{metadata_str}\\n\\n{content}', metadata_template='{key}: {value}', metadata_seperator='\\n'), score=0.7793227158656173)], metadata={'82bf70b0-b450-47c9-93cd-6b2841a7d5f6': {'file_path': '/Users/linghuang/Git/NLP/notebook/document/documents.txt', 'file_name': 'documents.txt', 'file_type': 'text/plain', 'file_size': 2132434, 'creation_date': '2024-03-11', 'last_modified_date': '2024-03-11'}, '8495f422-7b8d-4e5a-a4d2-7ba7ae2edabb': {'file_path': '/Users/linghuang/Git/NLP/notebook/document/documents.txt', 'file_name': 'documents.txt', 'file_type': 'text/plain', 'file_size': 2132434, 'creation_date': '2024-03-11', 'last_modified_date': '2024-03-11'}})"
      ]
     },
     "execution_count": 10,
     "metadata": {},
     "output_type": "execute_result"
    }
   ],
   "source": [
    "response"
   ]
  },
  {
   "cell_type": "code",
   "execution_count": 11,
   "id": "30637ddb-b45e-4398-975e-67009050c351",
   "metadata": {},
   "outputs": [
    {
     "name": "stdout",
     "output_type": "stream",
     "text": [
      "You may want to explore the play \"Harry Potter and the Cursed Child,\" which is set 19 years after the last book in the Harry Potter series by JK Rowling. The play has received positive reviews and is presented in two parts, showcasing the characters as adults with children of their own. It has been described as a magical and thrilling theatrical experience, offering a new and original story within the Harry Potter universe.\n"
     ]
    }
   ],
   "source": [
    "from llama_index.core import VectorStoreIndex, SimpleDirectoryReader\n",
    "\n",
    "query_engine = index.as_query_engine(similarity_top_k=5)\n",
    "response = query_engine.query(\"I'm looking for the information of Harry Potter. What could you suggest to me?\")\n",
    "print(response)"
   ]
  },
  {
   "cell_type": "code",
   "execution_count": 12,
   "id": "d172742d-8127-4000-bb71-a545ec3a49ab",
   "metadata": {},
   "outputs": [
    {
     "name": "stdout",
     "output_type": "stream",
     "text": [
      "You might be interested in learning about the play \"Harry Potter and the Cursed Child\", which is set 19 years after the seventh book in the series by JK Rowling. The play has received positive reviews from critics, with praise for its magical effects, moments of comedy, and the relationship between characters. It is presented in two parts and has been described as a \"truly game-changing production\" with a \"Dickensian sweep and momentum to the storytelling\". The play is set in the wizarding world, featuring adult versions of the characters as their own children head off to school.\n"
     ]
    }
   ],
   "source": [
    "query_engine = index.as_query_engine(response_mode=\"tree_summarize\")\n",
    "response = query_engine.query(\"I'm looking for the information of Harry Potter. What could you suggest to me?\")\n",
    "print(response)"
   ]
  },
  {
   "cell_type": "code",
   "execution_count": 13,
   "id": "92636534-06c2-4898-b5cc-af5354d7b1a7",
   "metadata": {},
   "outputs": [
    {
     "name": "stdout",
     "output_type": "stream",
     "text": [
      "I would suggest looking into the play \"Harry Potter and the Cursed Child\", which is set 19 years after the seventh book in the series by JK Rowling. The play has received positive reviews and is presented in two parts, showcasing the characters as adults with their own children. It has been described as a \"truly game-changing production\" with thrilling theatrical elements and a unique storytelling approach."
     ]
    }
   ],
   "source": [
    "query_engine = index.as_query_engine(streaming=True)\n",
    "response = query_engine.query(\"I'm looking for the information of Harry Potter. What could you suggest to me?\")\n",
    "response.print_response_stream()"
   ]
  },
  {
   "cell_type": "code",
   "execution_count": 14,
   "id": "52c11cec-d2d9-4c65-9986-de918df80f58",
   "metadata": {},
   "outputs": [
    {
     "name": "stdout",
     "output_type": "stream",
     "text": [
      "Harry Potter is a popular fictional character created by author JK Rowling. The Harry Potter series consists of seven books that follow the life and adventures of a young wizard named Harry Potter as he attends Hogwarts School of Witchcraft and Wizardry. The series has been highly successful, with millions of copies sold worldwide and adapted into eight films. Additionally, a play called \"Harry Potter and the Cursed Child\" written by Jack Thorne is set 19 years after the events of the final book in the original series. The play has received positive reviews and is considered a significant theatrical production.\n"
     ]
    }
   ],
   "source": [
    "query_engine = index.as_chat_engine()\n",
    "response = query_engine.query(\"I'm looking for the information of Harry Potter. What could you suggest to me?\")\n",
    "print(response)"
   ]
  },
  {
   "cell_type": "markdown",
   "id": "96813fdc-8a7a-4e48-a076-3041d9320f4a",
   "metadata": {},
   "source": [
    "https://docs.llamaindex.ai/en/stable/examples/query_engine/knowledge_graph_rag_query_engine.html"
   ]
  },
  {
   "cell_type": "markdown",
   "id": "96910bf9-6ac3-46d1-b7b9-e75e1196ab1e",
   "metadata": {},
   "source": [
    "### OpenAI"
   ]
  },
  {
   "cell_type": "code",
   "execution_count": 17,
   "id": "97cc9b3c-61ef-435d-bdfd-e55228be9ba4",
   "metadata": {},
   "outputs": [],
   "source": [
    "import logging\n",
    "import sys\n",
    "\n",
    "logging.basicConfig(\n",
    "    stream=sys.stdout, level=logging.INFO\n",
    ")  # logging.DEBUG for more verbose output\n",
    "\n",
    "\n",
    "# define LLM\n",
    "from llama_index.llms.openai import OpenAI\n",
    "from llama_index.embeddings.openai import OpenAIEmbedding\n",
    "from llama_index.core import Settings\n",
    "\n",
    "\n",
    "Settings.llm = OpenAI(temperature=0, model=\"gpt-3.5-turbo\")\n",
    "Settings.chunk_size = 512\n",
    "embed_model = OpenAIEmbedding(\n",
    "    model=\"text-embedding-3-small\",\n",
    ")\n",
    "Settings.embed_model = embed_model"
   ]
  },
  {
   "cell_type": "markdown",
   "id": "b8a5f661-0b94-4f7c-a494-3c55ea2b8bec",
   "metadata": {},
   "source": [
    "### Prepare for NebulaGraph"
   ]
  },
  {
   "cell_type": "code",
   "execution_count": 4,
   "id": "395ddf00-49f0-4fcb-b815-fe7d9ec7e163",
   "metadata": {},
   "outputs": [
    {
     "name": "stdout",
     "output_type": "stream",
     "text": [
      "Connection Pool Created\n"
     ]
    },
    {
     "data": {
      "text/html": [
       "<div>\n",
       "<style scoped>\n",
       "    .dataframe tbody tr th:only-of-type {\n",
       "        vertical-align: middle;\n",
       "    }\n",
       "\n",
       "    .dataframe tbody tr th {\n",
       "        vertical-align: top;\n",
       "    }\n",
       "\n",
       "    .dataframe thead th {\n",
       "        text-align: right;\n",
       "    }\n",
       "</style>\n",
       "<table border=\"1\" class=\"dataframe\">\n",
       "  <thead>\n",
       "    <tr style=\"text-align: right;\">\n",
       "      <th></th>\n",
       "      <th>Name</th>\n",
       "    </tr>\n",
       "  </thead>\n",
       "  <tbody>\n",
       "    <tr>\n",
       "      <th>0</th>\n",
       "      <td>default</td>\n",
       "    </tr>\n",
       "  </tbody>\n",
       "</table>\n",
       "</div>"
      ],
      "text/plain": [
       "      Name\n",
       "0  default"
      ]
     },
     "execution_count": 4,
     "metadata": {},
     "output_type": "execute_result"
    }
   ],
   "source": [
    "os.environ[\"GRAPHD_HOST\"] = \"127.0.0.1\"\n",
    "os.environ[\"NEBULA_USER\"] = \"root\"\n",
    "os.environ[\"NEBULA_PASSWORD\"] = \"nebula\" \n",
    "os.environ[\"NEBULA_ADDRESS\"] = \"127.0.0.1:9669\"  \n",
    "\n",
    "%reload_ext ngql\n",
    "connection_string = f\"--address {os.environ['GRAPHD_HOST']} --port 9669 --user root --password {os.environ['NEBULA_PASSWORD']}\"\n",
    "%ngql {connection_string}\n",
    "\n",
    "# os.environ[\"GRAPHD_HOST\"] = \"graphd:9669\"\n",
    "# os.environ[\"NEBULA_USER\"] = \"root\"\n",
    "# os.environ[\"NEBULA_PASSWORD\"] = \"nebula\"\n",
    "# # os.environ[\"NEBULA_ADDRESS\"] = \"127.0.0.1:9669\"\n",
    "\n",
    "# os.environ[\"GRAPHD_HOST\"] = \"127.0.0.1\"\n",
    "# os.environ[\"NEBULA_USER\"] = \"root\"\n",
    "# os.environ[\"NEBULA_PASSWORD\"] = \"nebula\" \n",
    "# os.environ[\"NEBULA_ADDRESS\"] = \"127.0.0.1:9669\"  \n",
    "\n",
    "# space_name = \"llamaindex\"\n",
    "# edge_types, rel_prop_names = [\"relationship\"], [\n",
    "#     \"relationship\"\n",
    "# ]  # default, could be omit if create from an empty kg\n",
    "# tags = [\"entity\"] "
   ]
  },
  {
   "cell_type": "code",
   "execution_count": 5,
   "id": "af9d61bc-e7a7-41e3-8a9a-ad074da528b8",
   "metadata": {},
   "outputs": [
    {
     "name": "stdout",
     "output_type": "stream",
     "text": [
      "Connection Pool Created\n"
     ]
    },
    {
     "data": {
      "text/html": [
       "<div>\n",
       "<style scoped>\n",
       "    .dataframe tbody tr th:only-of-type {\n",
       "        vertical-align: middle;\n",
       "    }\n",
       "\n",
       "    .dataframe tbody tr th {\n",
       "        vertical-align: top;\n",
       "    }\n",
       "\n",
       "    .dataframe thead th {\n",
       "        text-align: right;\n",
       "    }\n",
       "</style>\n",
       "<table border=\"1\" class=\"dataframe\">\n",
       "  <thead>\n",
       "    <tr style=\"text-align: right;\">\n",
       "      <th></th>\n",
       "      <th>Name</th>\n",
       "    </tr>\n",
       "  </thead>\n",
       "  <tbody>\n",
       "    <tr>\n",
       "      <th>0</th>\n",
       "      <td>default</td>\n",
       "    </tr>\n",
       "  </tbody>\n",
       "</table>\n",
       "</div>"
      ],
      "text/plain": [
       "      Name\n",
       "0  default"
      ]
     },
     "execution_count": 5,
     "metadata": {},
     "output_type": "execute_result"
    }
   ],
   "source": [
    "%reload_ext ngql\n",
    "connection_string = f\"--address {os.environ['GRAPHD_HOST']} --port 9669 --user root --password {os.environ['NEBULA_PASSWORD']}\"\n",
    "%ngql {connection_string}"
   ]
  },
  {
   "cell_type": "code",
   "execution_count": 6,
   "id": "5892a781",
   "metadata": {},
   "outputs": [
    {
     "data": {
      "text/html": [
       "<div>\n",
       "<style scoped>\n",
       "    .dataframe tbody tr th:only-of-type {\n",
       "        vertical-align: middle;\n",
       "    }\n",
       "\n",
       "    .dataframe tbody tr th {\n",
       "        vertical-align: top;\n",
       "    }\n",
       "\n",
       "    .dataframe thead th {\n",
       "        text-align: right;\n",
       "    }\n",
       "</style>\n",
       "<table border=\"1\" class=\"dataframe\">\n",
       "  <thead>\n",
       "    <tr style=\"text-align: right;\">\n",
       "      <th></th>\n",
       "    </tr>\n",
       "  </thead>\n",
       "  <tbody>\n",
       "  </tbody>\n",
       "</table>\n",
       "</div>"
      ],
      "text/plain": [
       "Empty DataFrame\n",
       "Columns: []\n",
       "Index: []"
      ]
     },
     "execution_count": 6,
     "metadata": {},
     "output_type": "execute_result"
    }
   ],
   "source": [
    "%ngql CREATE SPACE IF NOT EXISTS phillies_rag(vid_type=FIXED_STRING(256), partition_num=1, replica_factor=1);"
   ]
  },
  {
   "cell_type": "code",
   "execution_count": 13,
   "id": "fa1742de",
   "metadata": {},
   "outputs": [
    {
     "data": {
      "text/html": [
       "<div>\n",
       "<style scoped>\n",
       "    .dataframe tbody tr th:only-of-type {\n",
       "        vertical-align: middle;\n",
       "    }\n",
       "\n",
       "    .dataframe tbody tr th {\n",
       "        vertical-align: top;\n",
       "    }\n",
       "\n",
       "    .dataframe thead th {\n",
       "        text-align: right;\n",
       "    }\n",
       "</style>\n",
       "<table border=\"1\" class=\"dataframe\">\n",
       "  <thead>\n",
       "    <tr style=\"text-align: right;\">\n",
       "      <th></th>\n",
       "      <th>Name</th>\n",
       "    </tr>\n",
       "  </thead>\n",
       "  <tbody>\n",
       "    <tr>\n",
       "      <th>0</th>\n",
       "      <td>default</td>\n",
       "    </tr>\n",
       "    <tr>\n",
       "      <th>1</th>\n",
       "      <td>phillies_rag</td>\n",
       "    </tr>\n",
       "  </tbody>\n",
       "</table>\n",
       "</div>"
      ],
      "text/plain": [
       "           Name\n",
       "0       default\n",
       "1  phillies_rag"
      ]
     },
     "execution_count": 13,
     "metadata": {},
     "output_type": "execute_result"
    }
   ],
   "source": [
    "%ngql SHOW SPACES;"
   ]
  },
  {
   "cell_type": "code",
   "execution_count": 9,
   "id": "2cf31af2-1b94-40d5-9c75-5217f845a2eb",
   "metadata": {},
   "outputs": [
    {
     "data": {
      "text/html": [
       "<div>\n",
       "<style scoped>\n",
       "    .dataframe tbody tr th:only-of-type {\n",
       "        vertical-align: middle;\n",
       "    }\n",
       "\n",
       "    .dataframe tbody tr th {\n",
       "        vertical-align: top;\n",
       "    }\n",
       "\n",
       "    .dataframe thead th {\n",
       "        text-align: right;\n",
       "    }\n",
       "</style>\n",
       "<table border=\"1\" class=\"dataframe\">\n",
       "  <thead>\n",
       "    <tr style=\"text-align: right;\">\n",
       "      <th></th>\n",
       "    </tr>\n",
       "  </thead>\n",
       "  <tbody>\n",
       "  </tbody>\n",
       "</table>\n",
       "</div>"
      ],
      "text/plain": [
       "Empty DataFrame\n",
       "Columns: []\n",
       "Index: []"
      ]
     },
     "execution_count": 9,
     "metadata": {},
     "output_type": "execute_result"
    }
   ],
   "source": [
    "%%ngql\n",
    "USE phillies_rag;\n",
    "CREATE TAG IF NOT EXISTS entity(name string);\n",
    "CREATE EDGE IF NOT EXISTS relationship(relationship string);"
   ]
  },
  {
   "cell_type": "code",
   "execution_count": 14,
   "id": "812d2956-877c-4f38-ba50-103af916713b",
   "metadata": {},
   "outputs": [
    {
     "data": {
      "text/html": [
       "<div>\n",
       "<style scoped>\n",
       "    .dataframe tbody tr th:only-of-type {\n",
       "        vertical-align: middle;\n",
       "    }\n",
       "\n",
       "    .dataframe tbody tr th {\n",
       "        vertical-align: top;\n",
       "    }\n",
       "\n",
       "    .dataframe thead th {\n",
       "        text-align: right;\n",
       "    }\n",
       "</style>\n",
       "<table border=\"1\" class=\"dataframe\">\n",
       "  <thead>\n",
       "    <tr style=\"text-align: right;\">\n",
       "      <th></th>\n",
       "      <th>Name</th>\n",
       "    </tr>\n",
       "  </thead>\n",
       "  <tbody>\n",
       "    <tr>\n",
       "      <th>0</th>\n",
       "      <td>entity</td>\n",
       "    </tr>\n",
       "  </tbody>\n",
       "</table>\n",
       "</div>"
      ],
      "text/plain": [
       "     Name\n",
       "0  entity"
      ]
     },
     "execution_count": 14,
     "metadata": {},
     "output_type": "execute_result"
    }
   ],
   "source": [
    "%ngql SHOW TAGS;"
   ]
  },
  {
   "cell_type": "code",
   "execution_count": 18,
   "id": "b80d18e5-8a13-4010-934c-933528241025",
   "metadata": {},
   "outputs": [
    {
     "data": {
      "text/html": [
       "<div>\n",
       "<style scoped>\n",
       "    .dataframe tbody tr th:only-of-type {\n",
       "        vertical-align: middle;\n",
       "    }\n",
       "\n",
       "    .dataframe tbody tr th {\n",
       "        vertical-align: top;\n",
       "    }\n",
       "\n",
       "    .dataframe thead th {\n",
       "        text-align: right;\n",
       "    }\n",
       "</style>\n",
       "<table border=\"1\" class=\"dataframe\">\n",
       "  <thead>\n",
       "    <tr style=\"text-align: right;\">\n",
       "      <th></th>\n",
       "      <th>Name</th>\n",
       "    </tr>\n",
       "  </thead>\n",
       "  <tbody>\n",
       "    <tr>\n",
       "      <th>0</th>\n",
       "      <td>relationship</td>\n",
       "    </tr>\n",
       "  </tbody>\n",
       "</table>\n",
       "</div>"
      ],
      "text/plain": [
       "           Name\n",
       "0  relationship"
      ]
     },
     "execution_count": 18,
     "metadata": {},
     "output_type": "execute_result"
    }
   ],
   "source": [
    "%ngql SHOW EDGES;"
   ]
  },
  {
   "cell_type": "code",
   "execution_count": 21,
   "id": "4de8d525-6c44-45e8-a7d7-3f2783a5a120",
   "metadata": {},
   "outputs": [
    {
     "data": {
      "text/html": [
       "<div>\n",
       "<style scoped>\n",
       "    .dataframe tbody tr th:only-of-type {\n",
       "        vertical-align: middle;\n",
       "    }\n",
       "\n",
       "    .dataframe tbody tr th {\n",
       "        vertical-align: top;\n",
       "    }\n",
       "\n",
       "    .dataframe thead th {\n",
       "        text-align: right;\n",
       "    }\n",
       "</style>\n",
       "<table border=\"1\" class=\"dataframe\">\n",
       "  <thead>\n",
       "    <tr style=\"text-align: right;\">\n",
       "      <th></th>\n",
       "    </tr>\n",
       "  </thead>\n",
       "  <tbody>\n",
       "  </tbody>\n",
       "</table>\n",
       "</div>"
      ],
      "text/plain": [
       "Empty DataFrame\n",
       "Columns: []\n",
       "Index: []"
      ]
     },
     "execution_count": 21,
     "metadata": {},
     "output_type": "execute_result"
    }
   ],
   "source": [
    "%ngql CREATE TAG INDEX IF NOT EXISTS entity_index ON entity(name(256));"
   ]
  },
  {
   "cell_type": "code",
   "execution_count": 12,
   "id": "9275b914",
   "metadata": {},
   "outputs": [
    {
     "ename": "ModuleNotFoundError",
     "evalue": "No module named 'llama_index.storage'",
     "output_type": "error",
     "traceback": [
      "\u001b[0;31m---------------------------------------------------------------------------\u001b[0m",
      "\u001b[0;31mModuleNotFoundError\u001b[0m                       Traceback (most recent call last)",
      "Cell \u001b[0;32mIn[12], line 1\u001b[0m\n\u001b[0;32m----> 1\u001b[0m \u001b[38;5;28;01mfrom\u001b[39;00m \u001b[38;5;21;01mllama_index\u001b[39;00m\u001b[38;5;21;01m.\u001b[39;00m\u001b[38;5;21;01mstorage\u001b[39;00m\u001b[38;5;21;01m.\u001b[39;00m\u001b[38;5;21;01mstorage_context\u001b[39;00m \u001b[38;5;28;01mimport\u001b[39;00m StorageContext\n\u001b[1;32m      2\u001b[0m \u001b[38;5;28;01mfrom\u001b[39;00m \u001b[38;5;21;01mllama_index\u001b[39;00m\u001b[38;5;21;01m.\u001b[39;00m\u001b[38;5;21;01mgraph_stores\u001b[39;00m \u001b[38;5;28;01mimport\u001b[39;00m NebulaGraphStore\n\u001b[1;32m      4\u001b[0m space_name \u001b[38;5;241m=\u001b[39m \u001b[38;5;124m\"\u001b[39m\u001b[38;5;124mphillies_rag\u001b[39m\u001b[38;5;124m\"\u001b[39m\n",
      "\u001b[0;31mModuleNotFoundError\u001b[0m: No module named 'llama_index.storage'"
     ]
    }
   ],
   "source": [
    "from llama_index.storage.storage_context import StorageContext\n",
    "from llama_index.graph_stores import NebulaGraphStore\n",
    "\n",
    "space_name = \"phillies_rag\"\n",
    "edge_types, rel_prop_names = [\"relationship\"], [\"relationship\"]\n",
    "tags = [\"entity\"]\n",
    "\n",
    "graph_store = NebulaGraphStore(\n",
    "    space_name=space_name,\n",
    "    edge_types=edge_types,\n",
    "    rel_prop_names=rel_prop_names,\n",
    "    tags=tags,\n",
    ")\n",
    "storage_context = StorageContext.from_defaults(graph_store=graph_store)\n",
    "\n",
    "---------------------------------------------------------------------------\n",
    "ModuleNotFoundError                       Traceback (most recent call last)\n",
    "Cell In[12], line 1\n",
    "----> 1 from llama_index.storage.storage_context import StorageContext\n",
    "      2 from llama_index.graph_stores import NebulaGraphStore\n",
    "      4 space_name = \"phillies_rag\"\n",
    "\n",
    "ModuleNotFoundError: No module named 'llama_index.storage'"
   ]
  },
  {
   "cell_type": "markdown",
   "id": "208852a5",
   "metadata": {},
   "source": [
    "## Load data and create KG index"
   ]
  },
  {
   "cell_type": "code",
   "execution_count": 9,
   "id": "3d650799",
   "metadata": {},
   "outputs": [],
   "source": [
    "from llama_index import (\n",
    "    LLMPredictor,\n",
    "    ServiceContext,\n",
    "    KnowledgeGraphIndex,\n",
    ")\n",
    "from llama_index.graph_stores import SimpleGraphStore\n",
    "from llama_index import download_loader\n",
    "from llama_index.llms import OpenAI\n",
    "\n",
    "# define LLM\n",
    "llm = OpenAI(temperature=0.1, model=\"gpt-3.5-turbo\")\n",
    "service_context = ServiceContext.from_defaults(llm=llm, chunk_size=512)"
   ]
  },
  {
   "cell_type": "code",
   "execution_count": 10,
   "id": "cb727e26",
   "metadata": {},
   "outputs": [],
   "source": [
    "from llama_index import load_index_from_storage\n",
    "from llama_hub.youtube_transcript import YoutubeTranscriptReader\n",
    "\n",
    "try:\n",
    "\n",
    "    storage_context = StorageContext.from_defaults(persist_dir='./storage_graph', graph_store=graph_store)\n",
    "    kg_index = load_index_from_storage(\n",
    "        storage_context=storage_context,\n",
    "        service_context=service_context,\n",
    "        max_triplets_per_chunk=15,\n",
    "        space_name=space_name,\n",
    "        edge_types=edge_types,\n",
    "        rel_prop_names=rel_prop_names,\n",
    "        tags=tags,\n",
    "        verbose=True,\n",
    "    )\n",
    "    index_loaded = True\n",
    "except:\n",
    "    index_loaded = False\n",
    "\n",
    "if not index_loaded:\n",
    "    \n",
    "    WikipediaReader = download_loader(\"WikipediaReader\")\n",
    "    loader = WikipediaReader()\n",
    "    wiki_documents = loader.load_data(pages=['Philadelphia Phillies'], auto_suggest=False)\n",
    "    print(f'Loaded {len(wiki_documents)} documents')\n",
    "\n",
    "    youtube_loader = YoutubeTranscriptReader()\n",
    "    youtube_documents = youtube_loader.load_data(ytlinks=['https://www.youtube.com/watch?v=k-HTQ8T7oVw'])    \n",
    "    print(f'Loaded {len(youtube_documents)} YouTube documents')\n",
    "\n",
    "    kg_index = KnowledgeGraphIndex.from_documents(\n",
    "        documents=wiki_documents + youtube_documents,\n",
    "        storage_context=storage_context,\n",
    "        max_triplets_per_chunk=15,\n",
    "        service_context=service_context,\n",
    "        space_name=space_name,\n",
    "        edge_types=edge_types,\n",
    "        rel_prop_names=rel_prop_names,\n",
    "        tags=tags,\n",
    "        include_embeddings=True,\n",
    "    )\n",
    "    \n",
    "    kg_index.storage_context.persist(persist_dir='./storage_graph')"
   ]
  },
  {
   "cell_type": "markdown",
   "id": "d6769d53",
   "metadata": {},
   "source": [
    "## Query with Text2Cypher"
   ]
  },
  {
   "cell_type": "code",
   "execution_count": 11,
   "id": "1e1d23f3",
   "metadata": {},
   "outputs": [],
   "source": [
    "from llama_index.query_engine import KnowledgeGraphQueryEngine\n",
    "from llama_index.storage.storage_context import StorageContext\n",
    "from llama_index.graph_stores import NebulaGraphStore\n",
    "from IPython.display import Markdown, display\n",
    "\n",
    "# query_engine = KnowledgeGraphQueryEngine(\n",
    "#     storage_context=storage_context,\n",
    "#     service_context=service_context,\n",
    "#     llm=llm,\n",
    "#     verbose=True,\n",
    "# )\n",
    "\n",
    "hybrid_query_engine = kg_index.as_query_engine(\n",
    "    include_text=True,\n",
    "    response_mode=\"tree_summarize\",\n",
    "    embedding_mode=\"hybrid\",\n",
    "    similarity_top_k=3,\n",
    "    explore_global_knowledge=True,\n",
    ")"
   ]
  },
  {
   "cell_type": "code",
   "execution_count": 12,
   "id": "c8410735",
   "metadata": {},
   "outputs": [
    {
     "data": {
      "text/markdown": [
       "<b>Bryce Harper is a baseball player who was named MVP of the NLCS. He also fueled tensions after signing a 13-year $330 million contract.</b>"
      ],
      "text/plain": [
       "<IPython.core.display.Markdown object>"
      ]
     },
     "metadata": {},
     "output_type": "display_data"
    }
   ],
   "source": [
    "hybrid_query_engine = kg_index.as_query_engine()\n",
    "response = hybrid_query_engine.query(\"Tell me about Bryce Harper.\")\n",
    "display(Markdown(f\"<b>{response}</b>\"))"
   ]
  },
  {
   "cell_type": "code",
   "execution_count": 13,
   "id": "de7326cc",
   "metadata": {},
   "outputs": [
    {
     "data": {
      "text/markdown": [
       "<b>Bryce Harper is a baseball player who was named MVP of the NLCS. He also fueled tensions after signing a 13-year $330 million contract.</b>"
      ],
      "text/plain": [
       "<IPython.core.display.Markdown object>"
      ]
     },
     "metadata": {},
     "output_type": "display_data"
    }
   ],
   "source": [
    "query_engine = kg_index.as_query_engine()\n",
    "response = query_engine.query(\"Tell me about Bryce Harper.\")\n",
    "display(Markdown(f\"<b>{response}</b>\"))"
   ]
  },
  {
   "cell_type": "code",
   "execution_count": 14,
   "id": "09923bdf",
   "metadata": {},
   "outputs": [
    {
     "data": {
      "text/markdown": [
       "<b>Bryce Harper is a baseball player who was named MVP of the NLCS. He also fueled tensions after signing a 13-year $330 million contract.</b>"
      ],
      "text/plain": [
       "<IPython.core.display.Markdown object>"
      ]
     },
     "metadata": {},
     "output_type": "display_data"
    }
   ],
   "source": [
    "response = query_engine.query(\"Tell me about Bryce Harper.\")\n",
    "display(Markdown(f\"<b>{response}</b>\"))"
   ]
  },
  {
   "cell_type": "code",
   "execution_count": 15,
   "id": "b4b199aa",
   "metadata": {},
   "outputs": [
    {
     "data": {
      "text/html": [
       "<div>\n",
       "<style scoped>\n",
       "    .dataframe tbody tr th:only-of-type {\n",
       "        vertical-align: middle;\n",
       "    }\n",
       "\n",
       "    .dataframe tbody tr th {\n",
       "        vertical-align: top;\n",
       "    }\n",
       "\n",
       "    .dataframe thead th {\n",
       "        text-align: right;\n",
       "    }\n",
       "</style>\n",
       "<table border=\"1\" class=\"dataframe\">\n",
       "  <thead>\n",
       "    <tr style=\"text-align: right;\">\n",
       "      <th></th>\n",
       "      <th>p</th>\n",
       "      <th>e</th>\n",
       "      <th>m</th>\n",
       "    </tr>\n",
       "  </thead>\n",
       "  <tbody>\n",
       "    <tr>\n",
       "      <th>0</th>\n",
       "      <td>(\"Bryce Harper\" :entity{name: \"Bryce Harper\"})</td>\n",
       "      <td>(\"Bryce Harper\")-[:relationship@45106556397841...</td>\n",
       "      <td>(\"13-year $330 million contract\" :entity{name:...</td>\n",
       "    </tr>\n",
       "    <tr>\n",
       "      <th>1</th>\n",
       "      <td>(\"Bryce Harper\" :entity{name: \"Bryce Harper\"})</td>\n",
       "      <td>(\"Bryce Harper\")-[:relationship@59824214907797...</td>\n",
       "      <td>(\"NLCS\" :entity{name: \"NLCS\"})</td>\n",
       "    </tr>\n",
       "  </tbody>\n",
       "</table>\n",
       "</div>"
      ],
      "text/plain": [
       "                                                p  \\\n",
       "0  (\"Bryce Harper\" :entity{name: \"Bryce Harper\"})   \n",
       "1  (\"Bryce Harper\" :entity{name: \"Bryce Harper\"})   \n",
       "\n",
       "                                                   e  \\\n",
       "0  (\"Bryce Harper\")-[:relationship@45106556397841...   \n",
       "1  (\"Bryce Harper\")-[:relationship@59824214907797...   \n",
       "\n",
       "                                                   m  \n",
       "0  (\"13-year $330 million contract\" :entity{name:...  \n",
       "1                     (\"NLCS\" :entity{name: \"NLCS\"})  "
      ]
     },
     "execution_count": 15,
     "metadata": {},
     "output_type": "execute_result"
    }
   ],
   "source": [
    "%%ngql\n",
    "MATCH (p:`entity`)-[e:relationship]->(m:`entity`)\n",
    "  WHERE p.`entity`.`name` == 'Bryce Harper'\n",
    "RETURN p, e, m;"
   ]
  },
  {
   "cell_type": "code",
   "execution_count": 16,
   "id": "904a738a",
   "metadata": {},
   "outputs": [
    {
     "data": {
      "text/html": [
       "\n",
       "        <iframe\n",
       "            width=\"100%\"\n",
       "            height=\"500px\"\n",
       "            src=\"nebulagraph.html\"\n",
       "            frameborder=\"0\"\n",
       "            allowfullscreen\n",
       "            \n",
       "        ></iframe>\n",
       "        "
      ],
      "text/plain": [
       "<IPython.lib.display.IFrame at 0x2709497f490>"
      ]
     },
     "metadata": {},
     "output_type": "display_data"
    },
    {
     "data": {
      "text/plain": [
       "<class 'pyvis.network.Network'> |N|=3 |E|=2"
      ]
     },
     "execution_count": 16,
     "metadata": {},
     "output_type": "execute_result"
    }
   ],
   "source": [
    "%ng_draw"
   ]
  },
  {
   "cell_type": "code",
   "execution_count": 17,
   "id": "37d83dc0",
   "metadata": {},
   "outputs": [
    {
     "data": {
      "text/markdown": [
       "<b>The impact of the standing ovation Trey Turner received had a positive effect on his season. Following the standing ovation, Trey Turner appeared to be in higher spirits, more at ease, and less burdened by his own thoughts. This translated into improved performance on the field, as evidenced by an increase in his batting average, more successful hits, and a greater number of home runs. The support and admiration displayed by the Philadelphia fans appeared to have bolstered his self-assurance and aided him in overcoming his previous struggles.</b>"
      ],
      "text/plain": [
       "<IPython.core.display.Markdown object>"
      ]
     },
     "metadata": {},
     "output_type": "display_data"
    }
   ],
   "source": [
    "response = query_engine.query(\"How did the standing ovation Trey Turner received change his season?\")\n",
    "display(Markdown(f\"<b>{response}</b>\"))"
   ]
  },
  {
   "cell_type": "code",
   "execution_count": 18,
   "id": "fd3f50b0",
   "metadata": {},
   "outputs": [
    {
     "data": {
      "text/html": [
       "<div>\n",
       "<style scoped>\n",
       "    .dataframe tbody tr th:only-of-type {\n",
       "        vertical-align: middle;\n",
       "    }\n",
       "\n",
       "    .dataframe tbody tr th {\n",
       "        vertical-align: top;\n",
       "    }\n",
       "\n",
       "    .dataframe thead th {\n",
       "        text-align: right;\n",
       "    }\n",
       "</style>\n",
       "<table border=\"1\" class=\"dataframe\">\n",
       "  <thead>\n",
       "    <tr style=\"text-align: right;\">\n",
       "      <th></th>\n",
       "      <th>p</th>\n",
       "      <th>r</th>\n",
       "      <th>q</th>\n",
       "    </tr>\n",
       "  </thead>\n",
       "  <tbody>\n",
       "    <tr>\n",
       "      <th>0</th>\n",
       "      <td>(\"Trey Turner\" :entity{name: \"Trey Turner\"})</td>\n",
       "      <td>(\"Trey Turner\")-[:relationship@-89965735714464...</td>\n",
       "      <td>(\"as quick\" :entity{name: \"as quick\"})</td>\n",
       "    </tr>\n",
       "    <tr>\n",
       "      <th>1</th>\n",
       "      <td>(\"Trey Turner\" :entity{name: \"Trey Turner\"})</td>\n",
       "      <td>(\"Trey Turner\")-[:relationship@-89414636367958...</td>\n",
       "      <td>(\"a standing ovation\" :entity{name: \"a standin...</td>\n",
       "    </tr>\n",
       "    <tr>\n",
       "      <th>2</th>\n",
       "      <td>(\"Trey Turner\" :entity{name: \"Trey Turner\"})</td>\n",
       "      <td>(\"Trey Turner\")-[:relationship@-89275189104623...</td>\n",
       "      <td>(\"in comments\" :entity{name: \"in comments\"})</td>\n",
       "    </tr>\n",
       "    <tr>\n",
       "      <th>3</th>\n",
       "      <td>(\"Trey Turner\" :entity{name: \"Trey Turner\"})</td>\n",
       "      <td>(\"Trey Turner\")-[:relationship@-86268653017792...</td>\n",
       "      <td>(\"25 hits\" :entity{name: \"25 hits\"})</td>\n",
       "    </tr>\n",
       "    <tr>\n",
       "      <th>4</th>\n",
       "      <td>(\"Trey Turner\" :entity{name: \"Trey Turner\"})</td>\n",
       "      <td>(\"Trey Turner\")-[:relationship@-86268653017792...</td>\n",
       "      <td>(\"5 home runs\" :entity{name: \"5 home runs\"})</td>\n",
       "    </tr>\n",
       "    <tr>\n",
       "      <th>...</th>\n",
       "      <td>...</td>\n",
       "      <td>...</td>\n",
       "      <td>...</td>\n",
       "    </tr>\n",
       "    <tr>\n",
       "      <th>70</th>\n",
       "      <td>(\"Trey Turner\" :entity{name: \"Trey Turner\"})</td>\n",
       "      <td>(\"Trey Turner\")-[:relationship@804341681940123...</td>\n",
       "      <td>(\"ball and strike call\" :entity{name: \"ball an...</td>\n",
       "    </tr>\n",
       "    <tr>\n",
       "      <th>71</th>\n",
       "      <td>(\"Trey Turner\" :entity{name: \"Trey Turner\"})</td>\n",
       "      <td>(\"Trey Turner\")-[:relationship@859994387799338...</td>\n",
       "      <td>(\"baseball\" :entity{name: \"baseball\"})</td>\n",
       "    </tr>\n",
       "    <tr>\n",
       "      <th>72</th>\n",
       "      <td>(\"Trey Turner\" :entity{name: \"Trey Turner\"})</td>\n",
       "      <td>(\"Trey Turner\")-[:relationship@859994387799338...</td>\n",
       "      <td>(\"fifth home run\" :entity{name: \"fifth home ru...</td>\n",
       "    </tr>\n",
       "    <tr>\n",
       "      <th>73</th>\n",
       "      <td>(\"Trey Turner\" :entity{name: \"Trey Turner\"})</td>\n",
       "      <td>(\"Trey Turner\")-[:relationship@878913129174356...</td>\n",
       "      <td>(\"inside of his own head\" :entity{name: \"insid...</td>\n",
       "    </tr>\n",
       "    <tr>\n",
       "      <th>74</th>\n",
       "      <td>(\"Trey Turner\" :entity{name: \"Trey Turner\"})</td>\n",
       "      <td>(\"Trey Turner\")-[:relationship@887114663913418...</td>\n",
       "      <td>(\"got higher\" :entity{name: \"got higher\"})</td>\n",
       "    </tr>\n",
       "  </tbody>\n",
       "</table>\n",
       "<p>75 rows × 3 columns</p>\n",
       "</div>"
      ],
      "text/plain": [
       "                                               p  \\\n",
       "0   (\"Trey Turner\" :entity{name: \"Trey Turner\"})   \n",
       "1   (\"Trey Turner\" :entity{name: \"Trey Turner\"})   \n",
       "2   (\"Trey Turner\" :entity{name: \"Trey Turner\"})   \n",
       "3   (\"Trey Turner\" :entity{name: \"Trey Turner\"})   \n",
       "4   (\"Trey Turner\" :entity{name: \"Trey Turner\"})   \n",
       "..                                           ...   \n",
       "70  (\"Trey Turner\" :entity{name: \"Trey Turner\"})   \n",
       "71  (\"Trey Turner\" :entity{name: \"Trey Turner\"})   \n",
       "72  (\"Trey Turner\" :entity{name: \"Trey Turner\"})   \n",
       "73  (\"Trey Turner\" :entity{name: \"Trey Turner\"})   \n",
       "74  (\"Trey Turner\" :entity{name: \"Trey Turner\"})   \n",
       "\n",
       "                                                    r  \\\n",
       "0   (\"Trey Turner\")-[:relationship@-89965735714464...   \n",
       "1   (\"Trey Turner\")-[:relationship@-89414636367958...   \n",
       "2   (\"Trey Turner\")-[:relationship@-89275189104623...   \n",
       "3   (\"Trey Turner\")-[:relationship@-86268653017792...   \n",
       "4   (\"Trey Turner\")-[:relationship@-86268653017792...   \n",
       "..                                                ...   \n",
       "70  (\"Trey Turner\")-[:relationship@804341681940123...   \n",
       "71  (\"Trey Turner\")-[:relationship@859994387799338...   \n",
       "72  (\"Trey Turner\")-[:relationship@859994387799338...   \n",
       "73  (\"Trey Turner\")-[:relationship@878913129174356...   \n",
       "74  (\"Trey Turner\")-[:relationship@887114663913418...   \n",
       "\n",
       "                                                    q  \n",
       "0              (\"as quick\" :entity{name: \"as quick\"})  \n",
       "1   (\"a standing ovation\" :entity{name: \"a standin...  \n",
       "2        (\"in comments\" :entity{name: \"in comments\"})  \n",
       "3                (\"25 hits\" :entity{name: \"25 hits\"})  \n",
       "4        (\"5 home runs\" :entity{name: \"5 home runs\"})  \n",
       "..                                                ...  \n",
       "70  (\"ball and strike call\" :entity{name: \"ball an...  \n",
       "71             (\"baseball\" :entity{name: \"baseball\"})  \n",
       "72  (\"fifth home run\" :entity{name: \"fifth home ru...  \n",
       "73  (\"inside of his own head\" :entity{name: \"insid...  \n",
       "74         (\"got higher\" :entity{name: \"got higher\"})  \n",
       "\n",
       "[75 rows x 3 columns]"
      ]
     },
     "execution_count": 18,
     "metadata": {},
     "output_type": "execute_result"
    }
   ],
   "source": [
    "%%ngql \n",
    "MATCH (p:`entity`)-[r:`relationship`]->(q:`entity`)\n",
    "WHERE p.`entity`.`name` == 'Trey Turner' \n",
    "RETURN p, r, q;"
   ]
  },
  {
   "cell_type": "code",
   "execution_count": 19,
   "id": "e3c2c933",
   "metadata": {},
   "outputs": [
    {
     "data": {
      "text/html": [
       "\n",
       "        <iframe\n",
       "            width=\"100%\"\n",
       "            height=\"500px\"\n",
       "            src=\"nebulagraph.html\"\n",
       "            frameborder=\"0\"\n",
       "            allowfullscreen\n",
       "            \n",
       "        ></iframe>\n",
       "        "
      ],
      "text/plain": [
       "<IPython.lib.display.IFrame at 0x27094a01300>"
      ]
     },
     "metadata": {},
     "output_type": "display_data"
    },
    {
     "data": {
      "text/plain": [
       "<class 'pyvis.network.Network'> |N|=75 |E|=75"
      ]
     },
     "execution_count": 19,
     "metadata": {},
     "output_type": "execute_result"
    }
   ],
   "source": [
    "%ng_draw"
   ]
  },
  {
   "cell_type": "code",
   "execution_count": 20,
   "id": "a9e67884",
   "metadata": {},
   "outputs": [
    {
     "data": {
      "text/markdown": [
       "<b>The Philadelphia Phillies are a professional baseball team based in Philadelphia. They compete in Major League Baseball as a member of the National League East division. The team's home stadium is Citizens Bank Park, located in the South Philadelphia Sports Complex. The Phillies have a rich history, with two World Series championships (in 1980 and 2008), eight National League pennants, and 15 playoff appearances. They have played over 21,000 games since their establishment in 1883, with a record of 10,022 wins and 11,187 losses. The Phillies have had successful periods, including winning 11 division titles and making five consecutive playoff appearances from 2007 to 2011. They have also had notable players, such as Hall of Famers Richie Ashburn and Robin Roberts, as well as recent stars like Bryce Harper, who won the NL Most Valuable Player Award in 2021.</b>"
      ],
      "text/plain": [
       "<IPython.core.display.Markdown object>"
      ]
     },
     "metadata": {},
     "output_type": "display_data"
    }
   ],
   "source": [
    "response = query_engine.query(\"Tell me about some of the facts of Philadelphia Phillies.\")\n",
    "display(Markdown(f\"<b>{response}</b>\"))"
   ]
  },
  {
   "cell_type": "code",
   "execution_count": 21,
   "id": "d1144d69",
   "metadata": {},
   "outputs": [
    {
     "data": {
      "text/html": [
       "<div>\n",
       "<style scoped>\n",
       "    .dataframe tbody tr th:only-of-type {\n",
       "        vertical-align: middle;\n",
       "    }\n",
       "\n",
       "    .dataframe tbody tr th {\n",
       "        vertical-align: top;\n",
       "    }\n",
       "\n",
       "    .dataframe thead th {\n",
       "        text-align: right;\n",
       "    }\n",
       "</style>\n",
       "<table border=\"1\" class=\"dataframe\">\n",
       "  <thead>\n",
       "    <tr style=\"text-align: right;\">\n",
       "      <th></th>\n",
       "      <th>p</th>\n",
       "      <th>e</th>\n",
       "      <th>m</th>\n",
       "    </tr>\n",
       "  </thead>\n",
       "  <tbody>\n",
       "    <tr>\n",
       "      <th>0</th>\n",
       "      <td>(\"Philadelphia Phillies\" :entity{name: \"Philad...</td>\n",
       "      <td>(\"Philadelphia Phillies\")-[:relationship@-9215...</td>\n",
       "      <td>(\"Joe Girardi\" :entity{name: \"Joe Girardi\"})</td>\n",
       "    </tr>\n",
       "    <tr>\n",
       "      <th>1</th>\n",
       "      <td>(\"Philadelphia Phillies\" :entity{name: \"Philad...</td>\n",
       "      <td>(\"Philadelphia Phillies\")-[:relationship@-8815...</td>\n",
       "      <td>(\"Major League Baseball\" :entity{name: \"Major ...</td>\n",
       "    </tr>\n",
       "    <tr>\n",
       "      <th>2</th>\n",
       "      <td>(\"Philadelphia Phillies\" :entity{name: \"Philad...</td>\n",
       "      <td>(\"Philadelphia Phillies\")-[:relationship@-4023...</td>\n",
       "      <td>(\"15 playoff appearances\" :entity{name: \"15 pl...</td>\n",
       "    </tr>\n",
       "    <tr>\n",
       "      <th>3</th>\n",
       "      <td>(\"Philadelphia Phillies\" :entity{name: \"Philad...</td>\n",
       "      <td>(\"Philadelphia Phillies\")-[:relationship@14545...</td>\n",
       "      <td>(\"National League\" :entity{name: \"National Lea...</td>\n",
       "    </tr>\n",
       "    <tr>\n",
       "      <th>4</th>\n",
       "      <td>(\"Philadelphia Phillies\" :entity{name: \"Philad...</td>\n",
       "      <td>(\"Philadelphia Phillies\")-[:relationship@26691...</td>\n",
       "      <td>(\"American professional baseball team\" :entity...</td>\n",
       "    </tr>\n",
       "    <tr>\n",
       "      <th>5</th>\n",
       "      <td>(\"Philadelphia Phillies\" :entity{name: \"Philad...</td>\n",
       "      <td>(\"Philadelphia Phillies\")-[:relationship@30666...</td>\n",
       "      <td>(\"Lehigh Valley IronPigs\" :entity{name: \"Lehig...</td>\n",
       "    </tr>\n",
       "    <tr>\n",
       "      <th>6</th>\n",
       "      <td>(\"Philadelphia Phillies\" :entity{name: \"Philad...</td>\n",
       "      <td>(\"Philadelphia Phillies\")-[:relationship@42124...</td>\n",
       "      <td>(\"Philadelphia\" :entity{name: \"Philadelphia\"})</td>\n",
       "    </tr>\n",
       "    <tr>\n",
       "      <th>7</th>\n",
       "      <td>(\"Philadelphia Phillies\" :entity{name: \"Philad...</td>\n",
       "      <td>(\"Philadelphia Phillies\")-[:relationship@91846...</td>\n",
       "      <td>(\"eight National League pennants\" :entity{name...</td>\n",
       "    </tr>\n",
       "    <tr>\n",
       "      <th>8</th>\n",
       "      <td>(\"Philadelphia Phillies\" :entity{name: \"Philad...</td>\n",
       "      <td>(\"Philadelphia Phillies\")-[:relationship@91846...</td>\n",
       "      <td>(\"two World Series championships\" :entity{name...</td>\n",
       "    </tr>\n",
       "  </tbody>\n",
       "</table>\n",
       "</div>"
      ],
      "text/plain": [
       "                                                   p  \\\n",
       "0  (\"Philadelphia Phillies\" :entity{name: \"Philad...   \n",
       "1  (\"Philadelphia Phillies\" :entity{name: \"Philad...   \n",
       "2  (\"Philadelphia Phillies\" :entity{name: \"Philad...   \n",
       "3  (\"Philadelphia Phillies\" :entity{name: \"Philad...   \n",
       "4  (\"Philadelphia Phillies\" :entity{name: \"Philad...   \n",
       "5  (\"Philadelphia Phillies\" :entity{name: \"Philad...   \n",
       "6  (\"Philadelphia Phillies\" :entity{name: \"Philad...   \n",
       "7  (\"Philadelphia Phillies\" :entity{name: \"Philad...   \n",
       "8  (\"Philadelphia Phillies\" :entity{name: \"Philad...   \n",
       "\n",
       "                                                   e  \\\n",
       "0  (\"Philadelphia Phillies\")-[:relationship@-9215...   \n",
       "1  (\"Philadelphia Phillies\")-[:relationship@-8815...   \n",
       "2  (\"Philadelphia Phillies\")-[:relationship@-4023...   \n",
       "3  (\"Philadelphia Phillies\")-[:relationship@14545...   \n",
       "4  (\"Philadelphia Phillies\")-[:relationship@26691...   \n",
       "5  (\"Philadelphia Phillies\")-[:relationship@30666...   \n",
       "6  (\"Philadelphia Phillies\")-[:relationship@42124...   \n",
       "7  (\"Philadelphia Phillies\")-[:relationship@91846...   \n",
       "8  (\"Philadelphia Phillies\")-[:relationship@91846...   \n",
       "\n",
       "                                                   m  \n",
       "0       (\"Joe Girardi\" :entity{name: \"Joe Girardi\"})  \n",
       "1  (\"Major League Baseball\" :entity{name: \"Major ...  \n",
       "2  (\"15 playoff appearances\" :entity{name: \"15 pl...  \n",
       "3  (\"National League\" :entity{name: \"National Lea...  \n",
       "4  (\"American professional baseball team\" :entity...  \n",
       "5  (\"Lehigh Valley IronPigs\" :entity{name: \"Lehig...  \n",
       "6     (\"Philadelphia\" :entity{name: \"Philadelphia\"})  \n",
       "7  (\"eight National League pennants\" :entity{name...  \n",
       "8  (\"two World Series championships\" :entity{name...  "
      ]
     },
     "execution_count": 21,
     "metadata": {},
     "output_type": "execute_result"
    }
   ],
   "source": [
    "%%ngql \n",
    "MATCH (p:`entity`)-[e:relationship]->(m:`entity`)\n",
    "  WHERE p.`entity`.`name` == 'Philadelphia Phillies' \n",
    "RETURN p, e, m;"
   ]
  },
  {
   "cell_type": "code",
   "execution_count": 22,
   "id": "f564e410",
   "metadata": {},
   "outputs": [
    {
     "data": {
      "text/html": [
       "\n",
       "        <iframe\n",
       "            width=\"100%\"\n",
       "            height=\"500px\"\n",
       "            src=\"nebulagraph.html\"\n",
       "            frameborder=\"0\"\n",
       "            allowfullscreen\n",
       "            \n",
       "        ></iframe>\n",
       "        "
      ],
      "text/plain": [
       "<IPython.lib.display.IFrame at 0x27094a66d70>"
      ]
     },
     "metadata": {},
     "output_type": "display_data"
    },
    {
     "data": {
      "text/plain": [
       "<class 'pyvis.network.Network'> |N|=10 |E|=9"
      ]
     },
     "execution_count": 22,
     "metadata": {},
     "output_type": "execute_result"
    }
   ],
   "source": [
    "%ng_draw"
   ]
  },
  {
   "cell_type": "markdown",
   "id": "110773e3",
   "metadata": {},
   "source": [
    "## Query with vector index"
   ]
  },
  {
   "cell_type": "code",
   "execution_count": 23,
   "id": "3f61f5f1",
   "metadata": {},
   "outputs": [
    {
     "name": "stdout",
     "output_type": "stream",
     "text": [
      "Loaded 1 documents\n",
      "Loaded 1 YouTube documents\n"
     ]
    },
    {
     "data": {
      "text/markdown": [
       "<b>Bryce Harper is a professional baseball player who has played for the Philadelphia Phillies since the 2019 season. He was signed to a 13-year, $330 million deal, making it one of the biggest contracts in baseball history. Harper has been a key player for the Phillies and has had notable achievements, including winning the NL Most Valuable Player Award for the 2021 season. He has been a significant contributor to the team's success, although they have not yet made the playoffs during his tenure.</b>"
      ],
      "text/plain": [
       "<IPython.core.display.Markdown object>"
      ]
     },
     "metadata": {},
     "output_type": "display_data"
    }
   ],
   "source": [
    "from llama_index import VectorStoreIndex\n",
    "\n",
    "WikipediaReader = download_loader(\"WikipediaReader\")\n",
    "loader = WikipediaReader()\n",
    "wiki_documents = loader.load_data(pages=['Philadelphia Phillies'], auto_suggest=False)\n",
    "print(f'Loaded {len(wiki_documents)} documents')\n",
    "\n",
    "youtube_loader = YoutubeTranscriptReader()\n",
    "youtube_documents = youtube_loader.load_data(ytlinks=['https://www.youtube.com/watch?v=k-HTQ8T7oVw'])    \n",
    "print(f'Loaded {len(youtube_documents)} YouTube documents')\n",
    "\n",
    "vector_index = VectorStoreIndex.from_documents(wiki_documents + youtube_documents)\n",
    "vector_query_engine = vector_index.as_query_engine()\n",
    "\n",
    "response = vector_query_engine.query(\"Tell me about Bryce Harper.\")\n",
    "display(Markdown(f\"<b>{response}</b>\"))"
   ]
  },
  {
   "cell_type": "code",
   "execution_count": 24,
   "id": "02a51d42",
   "metadata": {},
   "outputs": [
    {
     "data": {
      "text/markdown": [
       "<b>The standing ovation Trey Turner received seemed to have a positive impact on his season. After receiving the ovation, Turner had one of his best games in weeks and felt that the hit he got during that game was one of his best swings all year. In the 18 games since the standing ovation, Turner has been performing well, with a batting average of .343, an OPS over a thousand, and several hits, home runs, and RBIs. The love and support shown by the city of Philadelphia seemed to have boosted Turner's confidence and helped him relax, resulting in improved performance on the field.</b>"
      ],
      "text/plain": [
       "<IPython.core.display.Markdown object>"
      ]
     },
     "metadata": {},
     "output_type": "display_data"
    }
   ],
   "source": [
    "response = vector_query_engine.query(\"How did the standing ovation Trey Turner received change his season?\")\n",
    "display(Markdown(f\"<b>{response}</b>\"))"
   ]
  },
  {
   "cell_type": "code",
   "execution_count": 25,
   "id": "2b9eb77d",
   "metadata": {
    "scrolled": true
   },
   "outputs": [
    {
     "data": {
      "text/markdown": [
       "<b>The Philadelphia Phillies are a professional baseball team based in Philadelphia. They compete in Major League Baseball as a member of the National League East division. The team's home stadium is Citizens Bank Park, located in the South Philadelphia Sports Complex. The Phillies have a history dating back to 1883 and have played at several stadiums in the city over the years. They have won two World Series championships, eight National League pennants, and have made 15 playoff appearances. The team has a loyal fan base and is known for its longevity. The Phillies have had both periods of success and periods of futility throughout their history. They were the last of the pre-expansion teams to win a World Series, with their first championship coming in 1980. Since the start of the Divisional Era in 1969, the Phillies have been one of the most successful teams in MLB, winning 11 division titles, eight National League pennants, and two World Series championships. The team's Triple-A affiliate is the Lehigh Valley IronPigs, and their Double-A affiliate is the Reading Fightin Phils. The Phillies' spring training facilities are located in Clearwater, Florida.</b>"
      ],
      "text/plain": [
       "<IPython.core.display.Markdown object>"
      ]
     },
     "metadata": {},
     "output_type": "display_data"
    }
   ],
   "source": [
    "response = vector_query_engine.query(\"Tell me about some of the facts of Philadelphia Phillies.\")\n",
    "display(Markdown(f\"<b>{response}</b>\"))"
   ]
  },
  {
   "cell_type": "markdown",
   "id": "61fb291e",
   "metadata": {},
   "source": [
    "## Create CustomRetriever to combine vector index and KG index"
   ]
  },
  {
   "cell_type": "code",
   "execution_count": 26,
   "id": "f273884b",
   "metadata": {},
   "outputs": [],
   "source": [
    "from llama_index import QueryBundle\n",
    "from llama_index.schema import NodeWithScore\n",
    "from llama_index.retrievers import BaseRetriever, VectorIndexRetriever, KGTableRetriever\n",
    "from typing import List\n",
    "\n",
    "class CustomRetriever(BaseRetriever):\n",
    "    \"\"\"Custom retriever that performs both Vector search and Knowledge Graph search\"\"\"\n",
    "\n",
    "    def __init__(\n",
    "        self,\n",
    "        vector_retriever: VectorIndexRetriever,\n",
    "        kg_retriever: KGTableRetriever,\n",
    "        mode: str = \"OR\",\n",
    "    ) -> None:\n",
    "        \"\"\"Init params.\"\"\"\n",
    "\n",
    "        self._vector_retriever = vector_retriever\n",
    "        self._kg_retriever = kg_retriever\n",
    "        if mode not in (\"AND\", \"OR\"):\n",
    "            raise ValueError(\"Invalid mode.\")\n",
    "        self._mode = mode\n",
    "\n",
    "    def _retrieve(self, query_bundle: QueryBundle) -> List[NodeWithScore]:\n",
    "        \"\"\"Retrieve nodes given query.\"\"\"\n",
    "\n",
    "        vector_nodes = self._vector_retriever.retrieve(query_bundle)\n",
    "        kg_nodes = self._kg_retriever.retrieve(query_bundle)\n",
    "\n",
    "        vector_ids = {n.node.node_id for n in vector_nodes}\n",
    "        kg_ids = {n.node.node_id for n in kg_nodes}\n",
    "\n",
    "        combined_dict = {n.node.node_id: n for n in vector_nodes}\n",
    "        combined_dict.update({n.node.node_id: n for n in kg_nodes})\n",
    "\n",
    "        if self._mode == \"AND\":\n",
    "            retrieve_ids = vector_ids.intersection(kg_ids)\n",
    "        else:\n",
    "            retrieve_ids = vector_ids.union(kg_ids)\n",
    "\n",
    "        retrieve_nodes = [combined_dict[rid] for rid in retrieve_ids]\n",
    "        return retrieve_nodes"
   ]
  },
  {
   "cell_type": "code",
   "execution_count": 27,
   "id": "f28c06f8",
   "metadata": {},
   "outputs": [],
   "source": [
    "from llama_index import get_response_synthesizer\n",
    "from llama_index.query_engine import RetrieverQueryEngine\n",
    "from llama_index.retrievers import VectorIndexRetriever, KGTableRetriever\n",
    "\n",
    "# create custom retriever\n",
    "vector_retriever = VectorIndexRetriever(index=vector_index)\n",
    "kg_retriever = KGTableRetriever(\n",
    "    index=kg_index, retriever_mode=\"keyword\", include_text=False\n",
    ")\n",
    "custom_retriever = CustomRetriever(vector_retriever, kg_retriever)\n",
    "\n",
    "# create response synthesizer\n",
    "response_synthesizer = get_response_synthesizer(\n",
    "    service_context=service_context,\n",
    "    response_mode=\"tree_summarize\",\n",
    ")"
   ]
  },
  {
   "cell_type": "markdown",
   "id": "0058aba5",
   "metadata": {},
   "source": [
    "## Create 7 query engines and run queries"
   ]
  },
  {
   "cell_type": "code",
   "execution_count": 28,
   "id": "8c5faed8",
   "metadata": {},
   "outputs": [],
   "source": [
    "# KG vector-based entity retrieval\n",
    "kg_query_engine = kg_index.as_query_engine()\n",
    "\n",
    "# KG keyword-based entity retrieval\n",
    "kg_keyword_query_engine = kg_index.as_query_engine(\n",
    "    # setting to false uses the raw triplets instead of adding the text from the corresponding nodes\n",
    "    include_text=False,\n",
    "    retriever_mode=\"keyword\",\n",
    "    response_mode=\"tree_summarize\",\n",
    ")\n",
    "\n",
    "# KG hybrid entity retrieval\n",
    "kg_hybrid_query_engine = kg_index.as_query_engine(\n",
    "    include_text=True,\n",
    "    response_mode=\"tree_summarize\",\n",
    "    embedding_mode=\"hybrid\",\n",
    "    similarity_top_k=3,\n",
    "    explore_global_knowledge=True,\n",
    ")\n",
    "\n",
    "# Raw vector index retrieval\n",
    "vector_query_engine = vector_index.as_query_engine()\n",
    "\n",
    "# Custom combo query engine\n",
    "custom_query_engine = RetrieverQueryEngine(\n",
    "    retriever=custom_retriever,\n",
    "    response_synthesizer=response_synthesizer,\n",
    ")\n",
    "\n",
    "# using KnowledgeGraphQueryEngine\n",
    "from llama_index.query_engine import KnowledgeGraphQueryEngine\n",
    "\n",
    "kgqe_query_engine = KnowledgeGraphQueryEngine(\n",
    "    storage_context=storage_context,\n",
    "    service_context=service_context,\n",
    "    llm=llm,\n",
    "    verbose=True,\n",
    ")\n",
    "\n",
    "# using KnowledgeGraphRAGRetriever\n",
    "from llama_index.query_engine import RetrieverQueryEngine\n",
    "from llama_index.retrievers import KnowledgeGraphRAGRetriever\n",
    "\n",
    "graph_rag_retriever = KnowledgeGraphRAGRetriever(\n",
    "    storage_context=storage_context,\n",
    "    service_context=service_context,\n",
    "    llm=llm,\n",
    "    verbose=True,\n",
    ")\n",
    "\n",
    "kg_rag_query_engine = RetrieverQueryEngine.from_args(\n",
    "    graph_rag_retriever, service_context=service_context\n",
    ")"
   ]
  },
  {
   "cell_type": "code",
   "execution_count": 29,
   "id": "07739d4a",
   "metadata": {},
   "outputs": [
    {
     "data": {
      "text/markdown": [
       "<b>Bryce Harper is a baseball player who was named MVP of the NLCS. He also fueled tensions after signing a 13-year $330 million contract.</b>"
      ],
      "text/plain": [
       "<IPython.core.display.Markdown object>"
      ]
     },
     "metadata": {},
     "output_type": "display_data"
    }
   ],
   "source": [
    "response = kg_query_engine.query(\"Tell me about Bryce Harper.\")\n",
    "display(Markdown(f\"<b>{response}</b>\"))"
   ]
  },
  {
   "cell_type": "code",
   "execution_count": 30,
   "id": "99889510",
   "metadata": {},
   "outputs": [
    {
     "data": {
      "text/markdown": [
       "<b>Bryce Harper is a person who has been involved in various relationships and events. He was named MVP of the NLCS and also fueled tensions after signing a 13-year $330 million contract.</b>"
      ],
      "text/plain": [
       "<IPython.core.display.Markdown object>"
      ]
     },
     "metadata": {},
     "output_type": "display_data"
    }
   ],
   "source": [
    "response = kg_keyword_query_engine.query(\"Tell me about Bryce Harper.\")\n",
    "display(Markdown(f\"<b>{response}</b>\"))"
   ]
  },
  {
   "cell_type": "code",
   "execution_count": 31,
   "id": "6be9dd39",
   "metadata": {},
   "outputs": [
    {
     "data": {
      "text/markdown": [
       "<b>Bryce Harper is a star outfielder who has made a significant impact in the world of baseball. He is known for his impressive hitting skills and has been a key player in the lineup of the Philadelphia Phillies. Harper signed a lucrative 13-year, $330 million contract with the Phillies as a free agent in 2019, which has generated some tensions. He was named the MVP of the NLCS and also won the NL Most Valuable Player Award in 2021. Harper's contributions have helped the Phillies reach the playoffs in 2022 and advance to the World Series.</b>"
      ],
      "text/plain": [
       "<IPython.core.display.Markdown object>"
      ]
     },
     "metadata": {},
     "output_type": "display_data"
    }
   ],
   "source": [
    "response = kg_hybrid_query_engine.query(\"Tell me about Bryce Harper.\")\n",
    "display(Markdown(f\"<b>{response}</b>\"))"
   ]
  },
  {
   "cell_type": "code",
   "execution_count": 32,
   "id": "e066b6de",
   "metadata": {},
   "outputs": [
    {
     "data": {
      "text/markdown": [
       "<b>Bryce Harper is a professional baseball player who has played for the Philadelphia Phillies since the 2019 season. He was signed to a 13-year, $330 million deal, making it one of the biggest contracts in baseball history. Harper has been a key player for the Phillies and has had notable achievements, including winning the NL Most Valuable Player Award for the 2021 season. He has been a significant contributor to the team's success, helping them reach the playoffs in the 2022 season and advancing to the World Series.</b>"
      ],
      "text/plain": [
       "<IPython.core.display.Markdown object>"
      ]
     },
     "metadata": {},
     "output_type": "display_data"
    }
   ],
   "source": [
    "response = vector_query_engine.query(\"Tell me about Bryce Harper.\")\n",
    "display(Markdown(f\"<b>{response}</b>\"))"
   ]
  },
  {
   "cell_type": "code",
   "execution_count": 33,
   "id": "78d51472",
   "metadata": {},
   "outputs": [
    {
     "data": {
      "text/markdown": [
       "<b>Bryce Harper is a professional baseball player who has played for the Philadelphia Phillies. He joined the team in 2019 after signing a 13-year, $330 million contract, which was a significant move as he was taken away from the division rival Washington Nationals. Harper has been a key player for the Phillies and has had notable achievements during his time with the team. In 2021, he won the NL Most Valuable Player Award. Additionally, Harper played a crucial role in the Phillies' successful 2022 season, where they reached the playoffs for the first time since 2011 and advanced to the World Series. He was named the MVP of the NLCS during that postseason. Overall, Bryce Harper is a highly regarded player who has made a significant impact on the Philadelphia Phillies.</b>"
      ],
      "text/plain": [
       "<IPython.core.display.Markdown object>"
      ]
     },
     "metadata": {},
     "output_type": "display_data"
    }
   ],
   "source": [
    "response = custom_query_engine.query(\"Tell me about Bryce Harper.\")\n",
    "display(Markdown(f\"<b>{response}</b>\"))"
   ]
  },
  {
   "cell_type": "code",
   "execution_count": 34,
   "id": "0ca895ec",
   "metadata": {},
   "outputs": [
    {
     "name": "stdout",
     "output_type": "stream",
     "text": [
      "\u001b[33;1m\u001b[1;3mGraph Store Query:\n",
      "MATCH (p:`entity`)-[r:`relationship`]->(e:`entity`)\n",
      "WHERE p.`entity`.`name` == 'Bryce Harper'\n",
      "RETURN e.`entity`.`name`\n",
      "\u001b[0m\u001b[33;1m\u001b[1;3mGraph Store Response:\n",
      "{'e.entity.name': ['13-year $330 million contract', 'NLCS']}\n",
      "\u001b[0m\u001b[32;1m\u001b[1;3mFinal Response: Bryce Harper is associated with a 13-year $330 million contract and the NLCS.\n",
      "\u001b[0m"
     ]
    },
    {
     "data": {
      "text/markdown": [
       "<b>Bryce Harper is associated with a 13-year $330 million contract and the NLCS.</b>"
      ],
      "text/plain": [
       "<IPython.core.display.Markdown object>"
      ]
     },
     "metadata": {},
     "output_type": "display_data"
    }
   ],
   "source": [
    "response = kgqe_query_engine.query(\"Tell me about Bryce Harper.\")\n",
    "display(Markdown(f\"<b>{response}</b>\"))"
   ]
  },
  {
   "cell_type": "code",
   "execution_count": 35,
   "id": "c851231d",
   "metadata": {},
   "outputs": [
    {
     "name": "stdout",
     "output_type": "stream",
     "text": [
      "\u001b[32;1m\u001b[1;3mEntities processed: ['Bryce', 'Harper', 'Bryce Harper']\n",
      "\u001b[0m\u001b[32;1m\u001b[1;3mEntities processed: ['bryce harper', 'bryce', 'harper']\n",
      "\u001b[0m\u001b[36;1m\u001b[1;3mGraph RAG context:\n",
      "The following are knowledge sequence in max depth 2 in the form of directed graph like:\n",
      "`subject -[predicate]->, object, <-[predicate_next_hop]-, object_next_hop ...` extracted based on key entities as subject:\n",
      "Bryce Harper{name: Bryce Harper} -[relationship:{relationship: was named MVP of}]-> NLCS{name: NLCS}\n",
      "Bryce Harper{name: Bryce Harper} -[relationship:{relationship: fueled tensions after signing}]-> 13-year $330 million contract{name: 13-year $330 million contract}\n",
      "\u001b[0m"
     ]
    },
    {
     "data": {
      "text/markdown": [
       "<b>Bryce Harper is a person who has been involved in various relationships and events.</b>"
      ],
      "text/plain": [
       "<IPython.core.display.Markdown object>"
      ]
     },
     "metadata": {},
     "output_type": "display_data"
    }
   ],
   "source": [
    "response = kg_rag_query_engine.query(\"Tell me about Bryce Harper.\")\n",
    "display(Markdown(f\"<b>{response}</b>\"))"
   ]
  },
  {
   "cell_type": "code",
   "execution_count": 36,
   "id": "8f24ea88",
   "metadata": {},
   "outputs": [
    {
     "data": {
      "text/markdown": [
       "<b>The impact of the standing ovation Trey Turner received seemed to have a positive effect on his season. After the ovation, Trey appeared to be in higher spirits and more at ease. This change in mindset translated to his performance on the field, as he played the game with increased confidence. In the games that followed the ovation, Trey displayed impressive stats, including a batting average of .343, five home runs, and 15 RBIs. The support and encouragement from the Philadelphia fans appeared to have revitalized Trey and contributed to his success during that period.</b>"
      ],
      "text/plain": [
       "<IPython.core.display.Markdown object>"
      ]
     },
     "metadata": {},
     "output_type": "display_data"
    }
   ],
   "source": [
    "response = kg_query_engine.query(\"How did the standing ovation Trey Turner received change his season?\")\n",
    "display(Markdown(f\"<b>{response}</b>\"))"
   ]
  },
  {
   "cell_type": "code",
   "execution_count": 37,
   "id": "9f2b9d5a",
   "metadata": {},
   "outputs": [
    {
     "data": {
      "text/markdown": [
       "<b>The standing ovation Trey Turner received likely had a positive impact on his season.</b>"
      ],
      "text/plain": [
       "<IPython.core.display.Markdown object>"
      ]
     },
     "metadata": {},
     "output_type": "display_data"
    }
   ],
   "source": [
    "response = kg_keyword_query_engine.query(\"How did the standing ovation Trey Turner received change his season?\")\n",
    "display(Markdown(f\"<b>{response}</b>\"))"
   ]
  },
  {
   "cell_type": "code",
   "execution_count": 38,
   "id": "e7f0ac92",
   "metadata": {
    "scrolled": true
   },
   "outputs": [
    {
     "data": {
      "text/markdown": [
       "<b>The standing ovation Trey Turner received had a positive impact on his season. After receiving the ovation, Turner seemed happier, more relaxed, and out of his own head. He started performing better in the games, with improved batting average, more hits, and more home runs. The love and support shown by the fans seemed to have boosted his confidence and helped him get out of his slump. Overall, the standing ovation played a significant role in changing Trey Turner's season for the better.</b>"
      ],
      "text/plain": [
       "<IPython.core.display.Markdown object>"
      ]
     },
     "metadata": {},
     "output_type": "display_data"
    }
   ],
   "source": [
    "response = kg_hybrid_query_engine.query(\"How did the standing ovation Trey Turner received change his season?\")\n",
    "display(Markdown(f\"<b>{response}</b>\"))"
   ]
  },
  {
   "cell_type": "code",
   "execution_count": 39,
   "id": "9b9d54a9",
   "metadata": {},
   "outputs": [
    {
     "data": {
      "text/markdown": [
       "<b>The standing ovation Trey Turner received seemed to have a positive impact on his season. After receiving the ovation, Turner had one of his best games in weeks and felt that the hit he got during that game was one of his best swings all year. In the 18 games since the standing ovation, Turner has been performing significantly better, with a batting average of .343, an OPS over a thousand, and multiple hits, home runs, and RBIs. The love and support shown by the Philadelphia fans seemed to have boosted Turner's confidence and helped him relax, resulting in improved performance on the field.</b>"
      ],
      "text/plain": [
       "<IPython.core.display.Markdown object>"
      ]
     },
     "metadata": {},
     "output_type": "display_data"
    }
   ],
   "source": [
    "response = vector_query_engine.query(\"How did the standing ovation Trey Turner received change his season?\")\n",
    "display(Markdown(f\"<b>{response}</b>\"))"
   ]
  },
  {
   "cell_type": "code",
   "execution_count": 40,
   "id": "46aeefec",
   "metadata": {
    "scrolled": true
   },
   "outputs": [
    {
     "data": {
      "text/markdown": [
       "<b>The standing ovation Trey Turner received had a positive impact on his season. After the ovation, Turner seemed happier, more relaxed, and out of his own head. He started performing better in games, having one of his best games in weeks. He mentioned that the hit he got during that game felt like one of his best swings all year. Since the standing ovation, Turner has been batting with a higher average, hitting more home runs, and driving in more runs. The love and support shown by the city of Philadelphia seemed to have boosted his confidence and helped him get out of his slump. Overall, it appears that the standing ovation boosted Turner's confidence and motivation, leading to a positive change in his season.</b>"
      ],
      "text/plain": [
       "<IPython.core.display.Markdown object>"
      ]
     },
     "metadata": {},
     "output_type": "display_data"
    }
   ],
   "source": [
    "response = custom_query_engine.query(\"How did the standing ovation Trey Turner received change his season?\")\n",
    "display(Markdown(f\"<b>{response}</b>\"))"
   ]
  },
  {
   "cell_type": "code",
   "execution_count": 41,
   "id": "326e10a5",
   "metadata": {},
   "outputs": [
    {
     "name": "stdout",
     "output_type": "stream",
     "text": [
      "\u001b[33;1m\u001b[1;3mGraph Store Query:\n",
      "MATCH (p:`entity`)-[:relationship]->(e:`entity`)\n",
      "WHERE p.`entity`.`name` == 'Trey Turner' AND e.`entity`.`name` == 'season'\n",
      "SET p.`entity`.`standing_ovation` = 'changed'\n",
      "RETURN p.`entity`.`standing_ovation`, e.`entity`.`name`\n",
      "\u001b[0mERROR:llama_index.graph_stores.nebulagraph:Query failed. Query: MATCH (p:`entity`)-[:relationship]->(e:`entity`)\n",
      "WHERE p.`entity`.`name` == 'Trey Turner' AND e.`entity`.`name` == 'season'\n",
      "SET p.`entity`.`standing_ovation` = 'changed'\n",
      "RETURN p.`entity`.`standing_ovation`, e.`entity`.`name`, Param: {}Error message: Query failed. Query: MATCH (p:`entity`)-[:relationship]->(e:`entity`)\n",
      "WHERE p.`entity`.`name` == 'Trey Turner' AND e.`entity`.`name` == 'season'\n",
      "SET p.`entity`.`standing_ovation` = 'changed'\n",
      "RETURN p.`entity`.`standing_ovation`, e.`entity`.`name`, Param: {}Error message: SyntaxError: syntax error near `MAT'\n",
      "ERROR:llama_index.graph_stores.nebulagraph:Query failed. Query: MATCH (p:`entity`)-[:relationship]->(e:`entity`)\n",
      "WHERE p.`entity`.`name` == 'Trey Turner' AND e.`entity`.`name` == 'season'\n",
      "SET p.`entity`.`standing_ovation` = 'changed'\n",
      "RETURN p.`entity`.`standing_ovation`, e.`entity`.`name`, Param: {}Error message: Query failed. Query: MATCH (p:`entity`)-[:relationship]->(e:`entity`)\n",
      "WHERE p.`entity`.`name` == 'Trey Turner' AND e.`entity`.`name` == 'season'\n",
      "SET p.`entity`.`standing_ovation` = 'changed'\n",
      "RETURN p.`entity`.`standing_ovation`, e.`entity`.`name`, Param: {}Error message: SyntaxError: syntax error near `MAT'\n",
      "ERROR:llama_index.graph_stores.nebulagraph:Query failed. Query: MATCH (p:`entity`)-[:relationship]->(e:`entity`)\n",
      "WHERE p.`entity`.`name` == 'Trey Turner' AND e.`entity`.`name` == 'season'\n",
      "SET p.`entity`.`standing_ovation` = 'changed'\n",
      "RETURN p.`entity`.`standing_ovation`, e.`entity`.`name`, Param: {}Error message: Query failed. Query: MATCH (p:`entity`)-[:relationship]->(e:`entity`)\n",
      "WHERE p.`entity`.`name` == 'Trey Turner' AND e.`entity`.`name` == 'season'\n",
      "SET p.`entity`.`standing_ovation` = 'changed'\n",
      "RETURN p.`entity`.`standing_ovation`, e.`entity`.`name`, Param: {}Error message: SyntaxError: syntax error near `MAT'\n"
     ]
    },
    {
     "ename": "RetryError",
     "evalue": "RetryError[<Future at 0x27094db1990 state=finished raised ValueError>]",
     "output_type": "error",
     "traceback": [
      "\u001b[1;31m---------------------------------------------------------------------------\u001b[0m",
      "\u001b[1;31mValueError\u001b[0m                                Traceback (most recent call last)",
      "File \u001b[1;32m~\\AppData\\Local\\anaconda3\\lib\\site-packages\\tenacity\\__init__.py:382\u001b[0m, in \u001b[0;36mRetrying.__call__\u001b[1;34m(self, fn, *args, **kwargs)\u001b[0m\n\u001b[0;32m    381\u001b[0m \u001b[38;5;28;01mtry\u001b[39;00m:\n\u001b[1;32m--> 382\u001b[0m     result \u001b[38;5;241m=\u001b[39m fn(\u001b[38;5;241m*\u001b[39margs, \u001b[38;5;241m*\u001b[39m\u001b[38;5;241m*\u001b[39mkwargs)\n\u001b[0;32m    383\u001b[0m \u001b[38;5;28;01mexcept\u001b[39;00m \u001b[38;5;167;01mBaseException\u001b[39;00m:  \u001b[38;5;66;03m# noqa: B902\u001b[39;00m\n",
      "File \u001b[1;32m~\\AppData\\Local\\anaconda3\\lib\\site-packages\\llama_index\\graph_stores\\nebulagraph.py:300\u001b[0m, in \u001b[0;36mNebulaGraphStore.execute\u001b[1;34m(self, query, param_map)\u001b[0m\n\u001b[0;32m    296\u001b[0m     logger\u001b[38;5;241m.\u001b[39merror(\n\u001b[0;32m    297\u001b[0m         \u001b[38;5;124mf\u001b[39m\u001b[38;5;124m\"\u001b[39m\u001b[38;5;124mQuery failed. Query: \u001b[39m\u001b[38;5;132;01m{\u001b[39;00mquery\u001b[38;5;132;01m}\u001b[39;00m\u001b[38;5;124m, Param: \u001b[39m\u001b[38;5;132;01m{\u001b[39;00mparam_map\u001b[38;5;132;01m}\u001b[39;00m\u001b[38;5;124m\"\u001b[39m\n\u001b[0;32m    298\u001b[0m         \u001b[38;5;124mf\u001b[39m\u001b[38;5;124m\"\u001b[39m\u001b[38;5;124mError message: \u001b[39m\u001b[38;5;132;01m{\u001b[39;00me\u001b[38;5;132;01m}\u001b[39;00m\u001b[38;5;124m\"\u001b[39m\n\u001b[0;32m    299\u001b[0m     )\n\u001b[1;32m--> 300\u001b[0m     \u001b[38;5;28;01mraise\u001b[39;00m e\n\u001b[0;32m    301\u001b[0m \u001b[38;5;28;01mexcept\u001b[39;00m \u001b[38;5;167;01mException\u001b[39;00m \u001b[38;5;28;01mas\u001b[39;00m e:\n\u001b[0;32m    302\u001b[0m     \u001b[38;5;66;03m# other exceptions\u001b[39;00m\n",
      "File \u001b[1;32m~\\AppData\\Local\\anaconda3\\lib\\site-packages\\llama_index\\graph_stores\\nebulagraph.py:276\u001b[0m, in \u001b[0;36mNebulaGraphStore.execute\u001b[1;34m(self, query, param_map)\u001b[0m\n\u001b[0;32m    275\u001b[0m \u001b[38;5;28;01mif\u001b[39;00m \u001b[38;5;129;01mnot\u001b[39;00m result\u001b[38;5;241m.\u001b[39mis_succeeded():\n\u001b[1;32m--> 276\u001b[0m     \u001b[38;5;28;01mraise\u001b[39;00m \u001b[38;5;167;01mValueError\u001b[39;00m(\n\u001b[0;32m    277\u001b[0m         \u001b[38;5;124mf\u001b[39m\u001b[38;5;124m\"\u001b[39m\u001b[38;5;124mQuery failed. Query: \u001b[39m\u001b[38;5;132;01m{\u001b[39;00mquery\u001b[38;5;132;01m}\u001b[39;00m\u001b[38;5;124m, Param: \u001b[39m\u001b[38;5;132;01m{\u001b[39;00mparam_map\u001b[38;5;132;01m}\u001b[39;00m\u001b[38;5;124m\"\u001b[39m\n\u001b[0;32m    278\u001b[0m         \u001b[38;5;124mf\u001b[39m\u001b[38;5;124m\"\u001b[39m\u001b[38;5;124mError message: \u001b[39m\u001b[38;5;132;01m{\u001b[39;00mresult\u001b[38;5;241m.\u001b[39merror_msg()\u001b[38;5;132;01m}\u001b[39;00m\u001b[38;5;124m\"\u001b[39m\n\u001b[0;32m    279\u001b[0m     )\n\u001b[0;32m    280\u001b[0m \u001b[38;5;28;01mreturn\u001b[39;00m result\n",
      "\u001b[1;31mValueError\u001b[0m: Query failed. Query: MATCH (p:`entity`)-[:relationship]->(e:`entity`)\nWHERE p.`entity`.`name` == 'Trey Turner' AND e.`entity`.`name` == 'season'\nSET p.`entity`.`standing_ovation` = 'changed'\nRETURN p.`entity`.`standing_ovation`, e.`entity`.`name`, Param: {}Error message: SyntaxError: syntax error near `MAT'",
      "\nThe above exception was the direct cause of the following exception:\n",
      "\u001b[1;31mRetryError\u001b[0m                                Traceback (most recent call last)",
      "Cell \u001b[1;32mIn[41], line 1\u001b[0m\n\u001b[1;32m----> 1\u001b[0m response \u001b[38;5;241m=\u001b[39m \u001b[43mkgqe_query_engine\u001b[49m\u001b[38;5;241;43m.\u001b[39;49m\u001b[43mquery\u001b[49m\u001b[43m(\u001b[49m\u001b[38;5;124;43m\"\u001b[39;49m\u001b[38;5;124;43mHow did the standing ovation Trey Turner received change his season?\u001b[39;49m\u001b[38;5;124;43m\"\u001b[39;49m\u001b[43m)\u001b[49m\n\u001b[0;32m      2\u001b[0m display(Markdown(\u001b[38;5;124mf\u001b[39m\u001b[38;5;124m\"\u001b[39m\u001b[38;5;124m<b>\u001b[39m\u001b[38;5;132;01m{\u001b[39;00mresponse\u001b[38;5;132;01m}\u001b[39;00m\u001b[38;5;124m</b>\u001b[39m\u001b[38;5;124m\"\u001b[39m))\n",
      "File \u001b[1;32m~\\AppData\\Local\\anaconda3\\lib\\site-packages\\llama_index\\indices\\query\\base.py:23\u001b[0m, in \u001b[0;36mBaseQueryEngine.query\u001b[1;34m(self, str_or_query_bundle)\u001b[0m\n\u001b[0;32m     21\u001b[0m \u001b[38;5;28;01mif\u001b[39;00m \u001b[38;5;28misinstance\u001b[39m(str_or_query_bundle, \u001b[38;5;28mstr\u001b[39m):\n\u001b[0;32m     22\u001b[0m     str_or_query_bundle \u001b[38;5;241m=\u001b[39m QueryBundle(str_or_query_bundle)\n\u001b[1;32m---> 23\u001b[0m response \u001b[38;5;241m=\u001b[39m \u001b[38;5;28;43mself\u001b[39;49m\u001b[38;5;241;43m.\u001b[39;49m\u001b[43m_query\u001b[49m\u001b[43m(\u001b[49m\u001b[43mstr_or_query_bundle\u001b[49m\u001b[43m)\u001b[49m\n\u001b[0;32m     24\u001b[0m \u001b[38;5;28;01mreturn\u001b[39;00m response\n",
      "File \u001b[1;32m~\\AppData\\Local\\anaconda3\\lib\\site-packages\\llama_index\\query_engine\\knowledge_graph_query_engine.py:235\u001b[0m, in \u001b[0;36mKnowledgeGraphQueryEngine._query\u001b[1;34m(self, query_bundle)\u001b[0m\n\u001b[0;32m    231\u001b[0m \u001b[38;5;124;03m\"\"\"Query the graph store.\"\"\"\u001b[39;00m\n\u001b[0;32m    232\u001b[0m \u001b[38;5;28;01mwith\u001b[39;00m \u001b[38;5;28mself\u001b[39m\u001b[38;5;241m.\u001b[39mcallback_manager\u001b[38;5;241m.\u001b[39mevent(\n\u001b[0;32m    233\u001b[0m     CBEventType\u001b[38;5;241m.\u001b[39mQUERY, payload\u001b[38;5;241m=\u001b[39m{EventPayload\u001b[38;5;241m.\u001b[39mQUERY_STR: query_bundle\u001b[38;5;241m.\u001b[39mquery_str}\n\u001b[0;32m    234\u001b[0m ) \u001b[38;5;28;01mas\u001b[39;00m query_event:\n\u001b[1;32m--> 235\u001b[0m     nodes: List[NodeWithScore] \u001b[38;5;241m=\u001b[39m \u001b[38;5;28;43mself\u001b[39;49m\u001b[38;5;241;43m.\u001b[39;49m\u001b[43m_retrieve\u001b[49m\u001b[43m(\u001b[49m\u001b[43mquery_bundle\u001b[49m\u001b[43m)\u001b[49m\n\u001b[0;32m    237\u001b[0m     response \u001b[38;5;241m=\u001b[39m \u001b[38;5;28mself\u001b[39m\u001b[38;5;241m.\u001b[39m_response_synthesizer\u001b[38;5;241m.\u001b[39msynthesize(\n\u001b[0;32m    238\u001b[0m         query\u001b[38;5;241m=\u001b[39mquery_bundle,\n\u001b[0;32m    239\u001b[0m         nodes\u001b[38;5;241m=\u001b[39mnodes,\n\u001b[0;32m    240\u001b[0m     )\n\u001b[0;32m    242\u001b[0m     \u001b[38;5;28;01mif\u001b[39;00m \u001b[38;5;28mself\u001b[39m\u001b[38;5;241m.\u001b[39m_verbose:\n",
      "File \u001b[1;32m~\\AppData\\Local\\anaconda3\\lib\\site-packages\\llama_index\\query_engine\\knowledge_graph_query_engine.py:200\u001b[0m, in \u001b[0;36mKnowledgeGraphQueryEngine._retrieve\u001b[1;34m(self, query_bundle)\u001b[0m\n\u001b[0;32m    193\u001b[0m logger\u001b[38;5;241m.\u001b[39mdebug(\u001b[38;5;124mf\u001b[39m\u001b[38;5;124m\"\u001b[39m\u001b[38;5;124mGraph Store Query:\u001b[39m\u001b[38;5;130;01m\\n\u001b[39;00m\u001b[38;5;132;01m{\u001b[39;00mgraph_store_query\u001b[38;5;132;01m}\u001b[39;00m\u001b[38;5;124m\"\u001b[39m)\n\u001b[0;32m    195\u001b[0m \u001b[38;5;28;01mwith\u001b[39;00m \u001b[38;5;28mself\u001b[39m\u001b[38;5;241m.\u001b[39mcallback_manager\u001b[38;5;241m.\u001b[39mevent(\n\u001b[0;32m    196\u001b[0m     CBEventType\u001b[38;5;241m.\u001b[39mRETRIEVE,\n\u001b[0;32m    197\u001b[0m     payload\u001b[38;5;241m=\u001b[39m{EventPayload\u001b[38;5;241m.\u001b[39mQUERY_STR: graph_store_query},\n\u001b[0;32m    198\u001b[0m ) \u001b[38;5;28;01mas\u001b[39;00m retrieve_event:\n\u001b[0;32m    199\u001b[0m     \u001b[38;5;66;03m# Get the graph store response\u001b[39;00m\n\u001b[1;32m--> 200\u001b[0m     graph_store_response \u001b[38;5;241m=\u001b[39m \u001b[38;5;28;43mself\u001b[39;49m\u001b[38;5;241;43m.\u001b[39;49m\u001b[43mgraph_store\u001b[49m\u001b[38;5;241;43m.\u001b[39;49m\u001b[43mquery\u001b[49m\u001b[43m(\u001b[49m\u001b[43mquery\u001b[49m\u001b[38;5;241;43m=\u001b[39;49m\u001b[43mgraph_store_query\u001b[49m\u001b[43m)\u001b[49m\n\u001b[0;32m    201\u001b[0m     \u001b[38;5;28;01mif\u001b[39;00m \u001b[38;5;28mself\u001b[39m\u001b[38;5;241m.\u001b[39m_verbose:\n\u001b[0;32m    202\u001b[0m         print_text(\n\u001b[0;32m    203\u001b[0m             \u001b[38;5;124mf\u001b[39m\u001b[38;5;124m\"\u001b[39m\u001b[38;5;124mGraph Store Response:\u001b[39m\u001b[38;5;130;01m\\n\u001b[39;00m\u001b[38;5;132;01m{\u001b[39;00mgraph_store_response\u001b[38;5;132;01m}\u001b[39;00m\u001b[38;5;130;01m\\n\u001b[39;00m\u001b[38;5;124m\"\u001b[39m,\n\u001b[0;32m    204\u001b[0m             color\u001b[38;5;241m=\u001b[39m\u001b[38;5;124m\"\u001b[39m\u001b[38;5;124myellow\u001b[39m\u001b[38;5;124m\"\u001b[39m,\n\u001b[0;32m    205\u001b[0m         )\n",
      "File \u001b[1;32m~\\AppData\\Local\\anaconda3\\lib\\site-packages\\llama_index\\graph_stores\\nebulagraph.py:671\u001b[0m, in \u001b[0;36mNebulaGraphStore.query\u001b[1;34m(self, query, param_map)\u001b[0m\n\u001b[0;32m    670\u001b[0m \u001b[38;5;28;01mdef\u001b[39;00m \u001b[38;5;21mquery\u001b[39m(\u001b[38;5;28mself\u001b[39m, query: \u001b[38;5;28mstr\u001b[39m, param_map: Optional[Dict[\u001b[38;5;28mstr\u001b[39m, Any]] \u001b[38;5;241m=\u001b[39m {}) \u001b[38;5;241m-\u001b[39m\u001b[38;5;241m>\u001b[39m Any:\n\u001b[1;32m--> 671\u001b[0m     result \u001b[38;5;241m=\u001b[39m \u001b[38;5;28;43mself\u001b[39;49m\u001b[38;5;241;43m.\u001b[39;49m\u001b[43mexecute\u001b[49m\u001b[43m(\u001b[49m\u001b[43mquery\u001b[49m\u001b[43m,\u001b[49m\u001b[43m \u001b[49m\u001b[43mparam_map\u001b[49m\u001b[43m)\u001b[49m\n\u001b[0;32m    672\u001b[0m     columns \u001b[38;5;241m=\u001b[39m result\u001b[38;5;241m.\u001b[39mkeys()\n\u001b[0;32m    673\u001b[0m     d: Dict[\u001b[38;5;28mstr\u001b[39m, \u001b[38;5;28mlist\u001b[39m] \u001b[38;5;241m=\u001b[39m {}\n",
      "File \u001b[1;32m~\\AppData\\Local\\anaconda3\\lib\\site-packages\\tenacity\\__init__.py:289\u001b[0m, in \u001b[0;36mBaseRetrying.wraps.<locals>.wrapped_f\u001b[1;34m(*args, **kw)\u001b[0m\n\u001b[0;32m    287\u001b[0m \u001b[38;5;129m@functools\u001b[39m\u001b[38;5;241m.\u001b[39mwraps(f)\n\u001b[0;32m    288\u001b[0m \u001b[38;5;28;01mdef\u001b[39;00m \u001b[38;5;21mwrapped_f\u001b[39m(\u001b[38;5;241m*\u001b[39margs: t\u001b[38;5;241m.\u001b[39mAny, \u001b[38;5;241m*\u001b[39m\u001b[38;5;241m*\u001b[39mkw: t\u001b[38;5;241m.\u001b[39mAny) \u001b[38;5;241m-\u001b[39m\u001b[38;5;241m>\u001b[39m t\u001b[38;5;241m.\u001b[39mAny:\n\u001b[1;32m--> 289\u001b[0m     \u001b[38;5;28;01mreturn\u001b[39;00m \u001b[38;5;28mself\u001b[39m(f, \u001b[38;5;241m*\u001b[39margs, \u001b[38;5;241m*\u001b[39m\u001b[38;5;241m*\u001b[39mkw)\n",
      "File \u001b[1;32m~\\AppData\\Local\\anaconda3\\lib\\site-packages\\tenacity\\__init__.py:379\u001b[0m, in \u001b[0;36mRetrying.__call__\u001b[1;34m(self, fn, *args, **kwargs)\u001b[0m\n\u001b[0;32m    377\u001b[0m retry_state \u001b[38;5;241m=\u001b[39m RetryCallState(retry_object\u001b[38;5;241m=\u001b[39m\u001b[38;5;28mself\u001b[39m, fn\u001b[38;5;241m=\u001b[39mfn, args\u001b[38;5;241m=\u001b[39margs, kwargs\u001b[38;5;241m=\u001b[39mkwargs)\n\u001b[0;32m    378\u001b[0m \u001b[38;5;28;01mwhile\u001b[39;00m \u001b[38;5;28;01mTrue\u001b[39;00m:\n\u001b[1;32m--> 379\u001b[0m     do \u001b[38;5;241m=\u001b[39m \u001b[38;5;28;43mself\u001b[39;49m\u001b[38;5;241;43m.\u001b[39;49m\u001b[43miter\u001b[49m\u001b[43m(\u001b[49m\u001b[43mretry_state\u001b[49m\u001b[38;5;241;43m=\u001b[39;49m\u001b[43mretry_state\u001b[49m\u001b[43m)\u001b[49m\n\u001b[0;32m    380\u001b[0m     \u001b[38;5;28;01mif\u001b[39;00m \u001b[38;5;28misinstance\u001b[39m(do, DoAttempt):\n\u001b[0;32m    381\u001b[0m         \u001b[38;5;28;01mtry\u001b[39;00m:\n",
      "File \u001b[1;32m~\\AppData\\Local\\anaconda3\\lib\\site-packages\\tenacity\\__init__.py:326\u001b[0m, in \u001b[0;36mBaseRetrying.iter\u001b[1;34m(self, retry_state)\u001b[0m\n\u001b[0;32m    324\u001b[0m     \u001b[38;5;28;01mif\u001b[39;00m \u001b[38;5;28mself\u001b[39m\u001b[38;5;241m.\u001b[39mreraise:\n\u001b[0;32m    325\u001b[0m         \u001b[38;5;28;01mraise\u001b[39;00m retry_exc\u001b[38;5;241m.\u001b[39mreraise()\n\u001b[1;32m--> 326\u001b[0m     \u001b[38;5;28;01mraise\u001b[39;00m retry_exc \u001b[38;5;28;01mfrom\u001b[39;00m \u001b[38;5;21;01mfut\u001b[39;00m\u001b[38;5;21;01m.\u001b[39;00m\u001b[38;5;21;01mexception\u001b[39;00m()\n\u001b[0;32m    328\u001b[0m \u001b[38;5;28;01mif\u001b[39;00m \u001b[38;5;28mself\u001b[39m\u001b[38;5;241m.\u001b[39mwait:\n\u001b[0;32m    329\u001b[0m     sleep \u001b[38;5;241m=\u001b[39m \u001b[38;5;28mself\u001b[39m\u001b[38;5;241m.\u001b[39mwait(retry_state)\n",
      "\u001b[1;31mRetryError\u001b[0m: RetryError[<Future at 0x27094db1990 state=finished raised ValueError>]"
     ]
    }
   ],
   "source": [
    "response = kgqe_query_engine.query(\"How did the standing ovation Trey Turner received change his season?\")\n",
    "display(Markdown(f\"<b>{response}</b>\"))"
   ]
  },
  {
   "cell_type": "code",
   "execution_count": 42,
   "id": "c5f64284",
   "metadata": {},
   "outputs": [
    {
     "name": "stdout",
     "output_type": "stream",
     "text": [
      "\u001b[32;1m\u001b[1;3mEntities processed: ['standing', 'Trey Turner', 'Trey', 'ovation', 'season', 'change', 'standing ovation', 'Turner']\n",
      "\u001b[0m\u001b[32;1m\u001b[1;3mEntities processed: ['standing', 'Trey Turner', 'ovation', 'Trey', 'season', 'change', 'standing ovation', 'Turner']\n",
      "\u001b[0m\u001b[36;1m\u001b[1;3mGraph RAG context:\n",
      "The following are knowledge sequence in max depth 2 in the form of directed graph like:\n",
      "`subject -[predicate]->, object, <-[predicate_next_hop]-, object_next_hop ...` extracted based on key entities as subject:\n",
      "standing ovation{name: standing ovation} <-[relationship:{relationship: look back and say}]- Trey Turner{name: Trey Turner} -[relationship:{relationship: has been stuck}]-> inside of his own head{name: inside of his own head}\n",
      "standing ovation{name: standing ovation} <-[relationship:{relationship: look back and say}]- Trey Turner{name: Trey Turner} -[relationship:{relationship: has been fighting}]-> his own demons{name: his own demons}\n",
      "standing ovation{name: standing ovation} <-[relationship:{relationship: look back and say}]- Trey Turner{name: Trey Turner} -[relationship:{relationship: started out}]-> as good contact hitter{name: as good contact hitter}\n",
      "standing ovation{name: standing ovation} <-[relationship:{relationship: look back and say}]- Trey Turner{name: Trey Turner} -[relationship:{relationship: bats}]-> slowed{name: slowed}\n",
      "standing ovation{name: standing ovation} <-[relationship:{relationship: look back and say}]- Trey Turner{name: Trey Turner} -[relationship:{relationship: has won}]-> World Series{name: World Series}\n",
      "standing ovation{name: standing ovation} <-[relationship:{relationship: look back and say}]- Trey Turner{name: Trey Turner} -[relationship:{relationship: figure out}]-> what is wrong with him{name: what is wrong with him}\n",
      "standing ovation{name: standing ovation} <-[relationship:{relationship: look back and say}]- Trey Turner{name: Trey Turner} -[relationship:{relationship: had}]-> two errors{name: two errors}\n",
      "standing ovation{name: standing ovation} <-[relationship:{relationship: look back and say}]- Trey Turner{name: Trey Turner} -[relationship:{relationship: hit}]-> baseball{name: baseball}\n",
      "standing ovation{name: standing ovation} <-[relationship:{relationship: look back and say}]- Trey Turner{name: Trey Turner} -[relationship:{relationship: had}]-> one of his best games{name: one of his best games}\n",
      "standing ovation{name: standing ovation} <-[relationship:{relationship: look back and say}]- Trey Turner{name: Trey Turner} -[relationship:{relationship: continues on}]-> path to success{name: path to success}\n",
      "standing ovation{name: standing ovation} <-[relationship:{relationship: look back and say}]- Trey Turner{name: Trey Turner} -[relationship:{relationship: had}]-> one home run as a philly{name: one home run as a philly}\n",
      "standing ovation{name: standing ovation} <-[relationship:{relationship: look back and say}]- Trey Turner{name: Trey Turner} -[relationship:{relationship: had}]-> more games as a philly than in the WBC{name: more games as a philly than in the WBC}\n",
      "standing ovation{name: standing ovation} <-[relationship:{relationship: look back and say}]- Trey Turner{name: Trey Turner} -[relationship:{relationship: had}]-> Grand Slam{name: Grand Slam}\n",
      "standing ovation{name: standing ovation} <-[relationship:{relationship: look back and say}]- Trey Turner{name: Trey Turner} -[relationship:{relationship: had}]-> 819 Ops{name: 819 Ops}\n",
      "standing ovation{name: standing ovation} <-[relationship:{relationship: look back and say}]- Trey Turner{name: Trey Turner} -[relationship:{relationship: had}]-> 440 on-base percentage{name: 440 on-base percentage}\n",
      "standing ovation{name: standing ovation} <-[relationship:{relationship: look back and say}]- Trey Turner{name: Trey Turner} -[relationship:{relationship: had}]-> 3.391 batting average{name: 3.391 batting average}\n",
      "standing ovation{name: standing ovation} <-[relationship:{relationship: look back and say}]- Trey Turner{name: Trey Turner} -[relationship:{relationship: had}]-> 1.483 Ops{name: 1.483 Ops}\n",
      "standing ovation{name: standing ovation} <-[relationship:{relationship: look back and say}]- Trey Turner{name: Trey Turner} -[relationship:{relationship: head}]-> far gone{name: far gone}\n",
      "standing ovation{name: standing ovation} <-[relationship:{relationship: look back and say}]- Trey Turner{name: Trey Turner} -[relationship:{relationship: sent}]-> Team USA to championship{name: Team USA to championship}\n",
      "standing ovation{name: standing ovation} <-[relationship:{relationship: look back and say}]- Trey Turner{name: Trey Turner} -[relationship:{relationship: change}]-> demand season{name: demand season}\n",
      "standing ovation{name: standing ovation} <-[relationship:{relationship: look back and say}]- Trey Turner{name: Trey Turner} -[relationship:{relationship: argued}]-> ball and strike call{name: ball and strike call}\n",
      "standing ovation{name: standing ovation} <-[relationship:{relationship: look back and say}]- Trey Turner{name: Trey Turner} -[relationship:{relationship: got ejected}]-> from the game{name: from the game}\n",
      "standing ovation{name: standing ovation} <-[relationship:{relationship: look back and say}]- Trey Turner{name: Trey Turner} -[relationship:{relationship: has been}]-> on MLB first and second team{name: on MLB first and second team}\n",
      "standing ovation{name: standing ovation} <-[relationship:{relationship: look back and say}]- Trey Turner{name: Trey Turner} -[relationship:{relationship: has been}]-> Silver Slugger{name: Silver Slugger}\n",
      "standing ovation{name: standing ovation} <-[relationship:{relationship: look back and say}]- Trey Turner{name: Trey Turner} -[relationship:{relationship: seemingly was never}]-> going to turn it around{name: going to turn it around}\n",
      "standing ovation{name: standing ovation} <-[relationship:{relationship: look back and say}]- Trey Turner{name: Trey Turner} -[relationship:{relationship: is batting}]-> a 3-4-3 batting average{name: a 3-4-3 batting average}\n",
      "standing ovation{name: standing ovation} <-[relationship:{relationship: look back and say}]- Trey Turner{name: Trey Turner} -[relationship:{relationship: went into}]-> loan Depot indoor batting cage{name: loan Depot indoor batting cage}\n",
      "standing ovation{name: standing ovation} <-[relationship:{relationship: look back and say}]- Trey Turner{name: Trey Turner} -[relationship:{relationship: was able to drive}]-> a fastball{name: a fastball}\n",
      "standing ovation{name: standing ovation} <-[relationship:{relationship: look back and say}]- Trey Turner{name: Trey Turner} -[relationship:{relationship: has been stuck inside of}]-> his own head{name: his own head}\n",
      "standing ovation{name: standing ovation} <-[relationship:{relationship: look back and say}]- Trey Turner{name: Trey Turner} -[relationship:{relationship: showing}]-> love{name: love}\n",
      "\u001b[0m"
     ]
    },
    {
     "data": {
      "text/markdown": [
       "<b>The standing ovation Trey Turner received likely had a positive impact on his season.</b>"
      ],
      "text/plain": [
       "<IPython.core.display.Markdown object>"
      ]
     },
     "metadata": {},
     "output_type": "display_data"
    }
   ],
   "source": [
    "response = kg_rag_query_engine.query(\"How did the standing ovation Trey Turner received change his season?\")\n",
    "display(Markdown(f\"<b>{response}</b>\"))"
   ]
  },
  {
   "cell_type": "code",
   "execution_count": 43,
   "id": "2d4a6314",
   "metadata": {},
   "outputs": [
    {
     "data": {
      "text/markdown": [
       "<b>The current stadium of the Philadelphia Phillies is Citizens Bank Park. It opened in 2004 and is located in South Philadelphia. The stadium is part of the South Philadelphia Sports Complex, which also includes the Wells Fargo Center and Lincoln Financial Field. Citizens Bank Park replaced Veterans Stadium as the home of the Phillies.</b>"
      ],
      "text/plain": [
       "<IPython.core.display.Markdown object>"
      ]
     },
     "metadata": {},
     "output_type": "display_data"
    }
   ],
   "source": [
    "response = kg_query_engine.query(\"Tell me some facts about the current stadium of Philadelphia Phillies.\")\n",
    "display(Markdown(f\"<b>{response}</b>\"))"
   ]
  },
  {
   "cell_type": "code",
   "execution_count": 44,
   "id": "17189425",
   "metadata": {},
   "outputs": [
    {
     "data": {
      "text/markdown": [
       "<b>The current stadium of the Philadelphia Phillies is known for its unique feature of featuring cardboard figures.</b>"
      ],
      "text/plain": [
       "<IPython.core.display.Markdown object>"
      ]
     },
     "metadata": {},
     "output_type": "display_data"
    }
   ],
   "source": [
    "response = kg_keyword_query_engine.query(\"Tell me some facts about the current stadium of Philadelphia Phillies.\")\n",
    "display(Markdown(f\"<b>{response}</b>\"))"
   ]
  },
  {
   "cell_type": "code",
   "execution_count": 45,
   "id": "a5d84c12",
   "metadata": {},
   "outputs": [
    {
     "data": {
      "text/markdown": [
       "<b>The current stadium of the Philadelphia Phillies is Citizens Bank Park. It has been the team's home stadium since 2004 and is located in the South Philadelphia Sports Complex.</b>"
      ],
      "text/plain": [
       "<IPython.core.display.Markdown object>"
      ]
     },
     "metadata": {},
     "output_type": "display_data"
    }
   ],
   "source": [
    "response = kg_hybrid_query_engine.query(\"Tell me some facts about the current stadium of Philadelphia Phillies.\")\n",
    "display(Markdown(f\"<b>{response}</b>\"))"
   ]
  },
  {
   "cell_type": "code",
   "execution_count": 46,
   "id": "0d15a779",
   "metadata": {},
   "outputs": [
    {
     "data": {
      "text/markdown": [
       "<b>The current stadium of the Philadelphia Phillies is Citizens Bank Park, which has been their home since 2004. It is located in the South Philadelphia Sports Complex.</b>"
      ],
      "text/plain": [
       "<IPython.core.display.Markdown object>"
      ]
     },
     "metadata": {},
     "output_type": "display_data"
    }
   ],
   "source": [
    "response = vector_query_engine.query(\"Tell me some facts about the current stadium of Philadelphia Phillies.\")\n",
    "display(Markdown(f\"<b>{response}</b>\"))"
   ]
  },
  {
   "cell_type": "code",
   "execution_count": 47,
   "id": "0e4d7c45",
   "metadata": {},
   "outputs": [
    {
     "data": {
      "text/markdown": [
       "<b>The current stadium of the Philadelphia Phillies is Citizens Bank Park. It has been the team's home stadium since 2004 and is located in the South Philadelphia Sports Complex. Citizens Bank Park has a restaurant built into the base of the main scoreboard named \"Harry the K's\" in honor of the late Phillies broadcaster Harry Kalas. The stadium also features a video system that was upgraded in 2011, including a new display screen in left field, which is the largest in the National League at 76 feet high and 97 feet wide.</b>"
      ],
      "text/plain": [
       "<IPython.core.display.Markdown object>"
      ]
     },
     "metadata": {},
     "output_type": "display_data"
    }
   ],
   "source": [
    "response = custom_query_engine.query(\"Tell me some facts about the current stadium of Philadelphia Phillies.\")\n",
    "display(Markdown(f\"<b>{response}</b>\"))"
   ]
  },
  {
   "cell_type": "code",
   "execution_count": 48,
   "id": "730b26cd",
   "metadata": {},
   "outputs": [
    {
     "name": "stdout",
     "output_type": "stream",
     "text": [
      "\u001b[33;1m\u001b[1;3mGraph Store Query:\n",
      "MATCH (s:`entity`)-[:`relationship`]->(p:`entity`)\n",
      "WHERE s.`name` == 'Philadelphia Phillies'\n",
      "RETURN p.`name`\n",
      "\u001b[0m\u001b[33;1m\u001b[1;3mGraph Store Response:\n",
      "{'p.name': []}\n",
      "\u001b[0m\u001b[32;1m\u001b[1;3mFinal Response: I'm sorry, but I couldn't find any facts about the current stadium of the Philadelphia Phillies based on the given context information.\n",
      "\u001b[0m"
     ]
    },
    {
     "data": {
      "text/markdown": [
       "<b>I'm sorry, but I couldn't find any facts about the current stadium of the Philadelphia Phillies based on the given context information.</b>"
      ],
      "text/plain": [
       "<IPython.core.display.Markdown object>"
      ]
     },
     "metadata": {},
     "output_type": "display_data"
    }
   ],
   "source": [
    "response = kgqe_query_engine.query(\"Tell me some facts about the current stadium of Philadelphia Phillies.\")\n",
    "display(Markdown(f\"<b>{response}</b>\"))"
   ]
  },
  {
   "cell_type": "code",
   "execution_count": 50,
   "id": "c72af9e4",
   "metadata": {},
   "outputs": [
    {
     "name": "stdout",
     "output_type": "stream",
     "text": [
      "\u001b[32;1m\u001b[1;3mEntities processed: ['Philadelphia', 'stadium', 'current stadium', 'facts', 'current', 'Philadelphia Phillies', 'Phillies']\n",
      "\u001b[0m\u001b[32;1m\u001b[1;3mEntities processed: ['phillies', 'current stadium', 'Facts', 'facts', 'Phillies', 'philadelphia', 'stadium', 'Philadelphia', 'Stadium', 'current', 'Philadelphia Phillies', 'Current', 'Current stadium']\n",
      "\u001b[0m\u001b[36;1m\u001b[1;3mGraph RAG context:\n",
      "The following are knowledge sequence in max depth 2 in the form of directed graph like:\n",
      "`subject -[predicate]->, object, <-[predicate_next_hop]-, object_next_hop ...` extracted based on key entities as subject:\n",
      "Philadelphia Phillies{name: Philadelphia Phillies} <-[relationship:{relationship: rivalry with}]- Washington Nationals{name: Washington Nationals} -[relationship:{relationship: extends back during}]-> original tenure{name: original tenure}\n",
      "Philadelphia Phillies{name: Philadelphia Phillies} <-[relationship:{relationship: rivalry with}]- Washington Nationals{name: Washington Nationals} -[relationship:{relationship: increased in geographic tension due to}]-> proximity to Philadelphia{name: proximity to Philadelphia}\n",
      "Philadelphia Phillies{name: Philadelphia Phillies} -[relationship:{relationship: based in}]-> Philadelphia{name: Philadelphia} <-[relationship:{relationship: for}]- expansion National League franchise{name: expansion National League franchise}\n",
      "Philadelphia Phillies{name: Philadelphia Phillies} -[relationship:{relationship: based in}]-> Philadelphia{name: Philadelphia} <-[relationship:{relationship: moved}]- Toronto Blue Jays{name: Toronto Blue Jays}\n",
      "Philadelphia Phillies{name: Philadelphia Phillies} -[relationship:{relationship: based in}]-> Philadelphia{name: Philadelphia} -[relationship:{relationship: finished}]-> MLB-best record{name: MLB-best record}\n",
      "Philadelphia Phillies{name: Philadelphia Phillies} -[relationship:{relationship: based in}]-> Philadelphia{name: Philadelphia} -[relationship:{relationship: wanted to shed}]-> image of failure{name: image of failure}\n",
      "Philadelphia Phillies{name: Philadelphia Phillies} -[relationship:{relationship: Triple-A affiliate}]-> Lehigh Valley IronPigs{name: Lehigh Valley IronPigs} -[relationship:{relationship: play at}]-> Coca-Cola Park{name: Coca-Cola Park}\n",
      "Philadelphia Phillies{name: Philadelphia Phillies} -[relationship:{relationship: compete in}]-> Major League Baseball{name: Major League Baseball} <-[relationship:{relationship: universally retired by}]- 42{name: 42}\n",
      "Philadelphia Phillies{name: Philadelphia Phillies} <-[relationship:{relationship: rivalry with}]- Washington Nationals{name: Washington Nationals}\n",
      "Philadelphia Phillies{name: Philadelphia Phillies} -[relationship:{relationship: won}]-> two World Series championships{name: two World Series championships}\n",
      "Philadelphia Phillies{name: Philadelphia Phillies} -[relationship:{relationship: won}]-> eight National League pennants{name: eight National League pennants}\n",
      "Philadelphia Phillies{name: Philadelphia Phillies} -[relationship:{relationship: are}]-> American professional baseball team{name: American professional baseball team}\n",
      "Philadelphia Phillies{name: Philadelphia Phillies} -[relationship:{relationship: compete in}]-> Major League Baseball{name: Major League Baseball}\n",
      "Philadelphia Phillies{name: Philadelphia Phillies} -[relationship:{relationship: based in}]-> Philadelphia{name: Philadelphia} -[relationship:{relationship: should use}]-> blue jay's scientific name{name: blue jay's scientific name}\n",
      "Philadelphia{name: Philadelphia} <-[relationship:{relationship: founded in}]- Phillies{name: Phillies} <-[relationship:{relationship: trounced}]- A's{name: A's}\n",
      "Philadelphia{name: Philadelphia} <-[relationship:{relationship: founded in}]- Phillies{name: Phillies} <-[relationship:{relationship: never signed with}]- J. D. Drew{name: J. D. Drew}\n",
      "Philadelphia{name: Philadelphia} <-[relationship:{relationship: founded in}]- Phillies{name: Phillies} <-[relationship:{relationship: named}]- Baseball America{name: Baseball America}\n",
      "Philadelphia{name: Philadelphia} <-[relationship:{relationship: founded in}]- Phillies{name: Phillies} -[relationship:{relationship: won}]-> highest numbers of division championships{name: highest numbers of division championships}\n",
      "Philadelphia{name: Philadelphia} <-[relationship:{relationship: founded in}]- Phillies{name: Phillies} -[relationship:{relationship: won}]-> first pennant{name: first pennant}\n",
      "Philadelphia{name: Philadelphia} <-[relationship:{relationship: founded in}]- Phillies{name: Phillies} -[relationship:{relationship: won}]-> NLDS three games to one against the Milwaukee Brewers{name: NLDS three games to one against the Milwaukee Brewers}\n",
      "Philadelphia{name: Philadelphia} <-[relationship:{relationship: founded in}]- Phillies{name: Phillies} -[relationship:{relationship: won}]-> NL pennant{name: NL pennant}\n",
      "Philadelphia{name: Philadelphia} <-[relationship:{relationship: founded in}]- Phillies{name: Phillies} -[relationship:{relationship: faced}]-> Houston Astros{name: Houston Astros}\n",
      "Philadelphia{name: Philadelphia} <-[relationship:{relationship: founded in}]- Phillies{name: Phillies} -[relationship:{relationship: continued to contend}]-> next few years{name: next few years}\n",
      "Philadelphia{name: Philadelphia} <-[relationship:{relationship: founded in}]- Phillies{name: Phillies} -[relationship:{relationship: defeated}]-> Dodgers in Los Angeles{name: Dodgers in Los Angeles}\n",
      "Philadelphia{name: Philadelphia} <-[relationship:{relationship: founded in}]- Phillies{name: Phillies} -[relationship:{relationship: managed to end up in}]-> third place{name: third place}\n",
      "Philadelphia{name: Philadelphia} <-[relationship:{relationship: founded in}]- Phillies{name: Phillies} -[relationship:{relationship: finished}]-> two games out of first{name: two games out of first}\n",
      "Philadelphia{name: Philadelphia} <-[relationship:{relationship: founded in}]- Phillies{name: Phillies} -[relationship:{relationship: finished}]-> 13 games under .500{name: 13 games under .500}\n",
      "Philadelphia{name: Philadelphia} <-[relationship:{relationship: founded in}]- Phillies{name: Phillies} -[relationship:{relationship: clinched}]-> National League East for second year in a row{name: National League East for second year in a row}\n",
      "Philadelphia{name: Philadelphia} <-[relationship:{relationship: founded in}]- Phillies{name: Phillies} -[relationship:{relationship: removed the interim role of}]-> Thomson{name: Thomson}\n",
      "Philadelphia{name: Philadelphia} <-[relationship:{relationship: founded in}]- Phillies{name: Phillies} -[relationship:{relationship: clinched}]-> National League East{name: National League East}\n",
      "\u001b[0m"
     ]
    },
    {
     "data": {
      "text/markdown": [
       "<b>The current stadium of the Philadelphia Phillies is not mentioned in the given context information.</b>"
      ],
      "text/plain": [
       "<IPython.core.display.Markdown object>"
      ]
     },
     "metadata": {},
     "output_type": "display_data"
    }
   ],
   "source": [
    "response = kg_rag_query_engine.query(\"Tell me some facts about the current stadium of Philadelphia Phillies.\")\n",
    "display(Markdown(f\"<b>{response}</b>\"))"
   ]
  },
  {
   "cell_type": "code",
   "execution_count": null,
   "id": "c565e627",
   "metadata": {},
   "outputs": [],
   "source": []
  }
 ],
 "metadata": {
  "kernelspec": {
   "display_name": "Python 3 (ipykernel)",
   "language": "python",
   "name": "python3"
  },
  "language_info": {
   "codemirror_mode": {
    "name": "ipython",
    "version": 3
   },
   "file_extension": ".py",
   "mimetype": "text/x-python",
   "name": "python",
   "nbconvert_exporter": "python",
   "pygments_lexer": "ipython3",
   "version": "3.10.13"
  }
 },
 "nbformat": 4,
 "nbformat_minor": 5
}
