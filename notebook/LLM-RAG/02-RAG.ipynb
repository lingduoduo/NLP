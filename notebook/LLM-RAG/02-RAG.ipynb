{
 "cells": [
  {
   "cell_type": "markdown",
   "id": "0ec4a35f-6019-421b-a972-04115510b1b4",
   "metadata": {},
   "source": [
    "# Load Sampled Data"
   ]
  },
  {
   "cell_type": "code",
   "execution_count": 1,
   "id": "599f47cc-e385-4dfa-b8c8-2ab9f851b7d9",
   "metadata": {},
   "outputs": [
    {
     "name": "stderr",
     "output_type": "stream",
     "text": [
      "/Users/linghuang/miniconda3/envs/llm-rag/lib/python3.10/site-packages/tqdm/auto.py:21: TqdmWarning: IProgress not found. Please update jupyter and ipywidgets. See https://ipywidgets.readthedocs.io/en/stable/user_install.html\n",
      "  from .autonotebook import tqdm as notebook_tqdm\n"
     ]
    }
   ],
   "source": [
    "from datasets import load_dataset"
   ]
  },
  {
   "cell_type": "code",
   "execution_count": 2,
   "id": "4e4c84ad",
   "metadata": {},
   "outputs": [
    {
     "name": "stderr",
     "output_type": "stream",
     "text": [
      "/Users/linghuang/miniconda3/envs/llm-rag/lib/python3.10/site-packages/datasets/load.py:1429: FutureWarning: The repository for xsum contains custom code which must be executed to correctly load the dataset. You can inspect the repository content at https://hf.co/datasets/xsum\n",
      "You can avoid this message in future by passing the argument `trust_remote_code=True`.\n",
      "Passing `trust_remote_code=True` will be mandatory to load this dataset from the next major release of `datasets`.\n",
      "  warnings.warn(\n"
     ]
    }
   ],
   "source": [
    "xsum_dataset = load_dataset(\n",
    "    \"xsum\", version=\"1.2.0\"\n",
    ")"
   ]
  },
  {
   "cell_type": "code",
   "execution_count": 3,
   "id": "6157962f-2849-4338-bcfe-b630f0899871",
   "metadata": {},
   "outputs": [],
   "source": [
    "from dotenv import load_dotenv, find_dotenv\n",
    "import os\n",
    "import openai\n",
    "\n",
    "\n",
    "_ = load_dotenv(find_dotenv())\n",
    "openai.api_key = os.getenv('OPENAI_API_KEY')"
   ]
  },
  {
   "cell_type": "code",
   "execution_count": 4,
   "id": "34122836-e70b-4387-a7bf-b34a822eff96",
   "metadata": {},
   "outputs": [],
   "source": [
    "import pandas as pd"
   ]
  },
  {
   "cell_type": "code",
   "execution_count": 5,
   "id": "3dc36a36-6348-454b-bae0-18110a91a389",
   "metadata": {},
   "outputs": [
    {
     "data": {
      "text/html": [
       "<div>\n",
       "<style scoped>\n",
       "    .dataframe tbody tr th:only-of-type {\n",
       "        vertical-align: middle;\n",
       "    }\n",
       "\n",
       "    .dataframe tbody tr th {\n",
       "        vertical-align: top;\n",
       "    }\n",
       "\n",
       "    .dataframe thead th {\n",
       "        text-align: right;\n",
       "    }\n",
       "</style>\n",
       "<table border=\"1\" class=\"dataframe\">\n",
       "  <thead>\n",
       "    <tr style=\"text-align: right;\">\n",
       "      <th></th>\n",
       "      <th>document</th>\n",
       "      <th>summary</th>\n",
       "      <th>id</th>\n",
       "    </tr>\n",
       "  </thead>\n",
       "  <tbody>\n",
       "    <tr>\n",
       "      <th>0</th>\n",
       "      <td>The full cost of damage in Newton Stewart, one...</td>\n",
       "      <td>Clean-up operations are continuing across the ...</td>\n",
       "      <td>35232142</td>\n",
       "    </tr>\n",
       "    <tr>\n",
       "      <th>1</th>\n",
       "      <td>A fire alarm went off at the Holiday Inn in Ho...</td>\n",
       "      <td>Two tourist buses have been destroyed by fire ...</td>\n",
       "      <td>40143035</td>\n",
       "    </tr>\n",
       "  </tbody>\n",
       "</table>\n",
       "</div>"
      ],
      "text/plain": [
       "                                            document  \\\n",
       "0  The full cost of damage in Newton Stewart, one...   \n",
       "1  A fire alarm went off at the Holiday Inn in Ho...   \n",
       "\n",
       "                                             summary        id  \n",
       "0  Clean-up operations are continuing across the ...  35232142  \n",
       "1  Two tourist buses have been destroyed by fire ...  40143035  "
      ]
     },
     "execution_count": 5,
     "metadata": {},
     "output_type": "execute_result"
    }
   ],
   "source": [
    "# Taking a sample of 1000 rows\n",
    "xsum_sample = xsum_dataset[\"train\"].select(range(1000)).to_pandas()\n",
    "xsum_sample.head(2)"
   ]
  },
  {
   "cell_type": "code",
   "execution_count": 6,
   "id": "bc44619d-4fcf-4ac8-85f5-e69235c18c7c",
   "metadata": {},
   "outputs": [],
   "source": [
    "# Combining 'document' and 'summary' columns\n",
    "xsum_sample[\"combined\"] = (\n",
    "    \"Document: \" + xsum_sample.document.str.strip() + \"; Summary: \" + xsum_sample.summary.str.strip()\n",
    ")"
   ]
  },
  {
   "cell_type": "markdown",
   "id": "598a5257-20ae-468e-85d6-d4e8c46b8cb5",
   "metadata": {},
   "source": [
    "## Build External Knowledge\n"
   ]
  },
  {
   "cell_type": "code",
   "execution_count": 7,
   "id": "1202bb0d-4ceb-4dab-afff-db7e29eda2aa",
   "metadata": {},
   "outputs": [],
   "source": [
    "#  ~/Git/NLP/notebook/LLM-RAG  master *1 !1 ?4  pip freeze | grep llama                                                                                                                 ✔  llm-rag   04:48:13 PM\n",
    "# llama-hub==0.0.79.post1\n",
    "# llama-index==0.10.14\n",
    "# llama-index-agent-openai==0.1.5\n",
    "# llama-index-cli==0.1.6\n",
    "# llama-index-core==0.10.14\n",
    "# llama-index-embeddings-openai==0.1.6\n",
    "# llama-index-indices-managed-llama-cloud==0.1.3\n",
    "# llama-index-legacy==0.9.48\n",
    "# llama-index-llms-openai==0.1.6\n",
    "# llama-index-multi-modal-llms-openai==0.1.4\n",
    "# llama-index-program-openai==0.1.4\n",
    "# llama-index-question-gen-openai==0.1.3\n",
    "# llama-index-readers-file==0.1.6\n",
    "# llama-index-readers-github==0.1.7\n",
    "# llama-index-readers-llama-parse==0.1.3\n",
    "# llama-index-vector-stores-chroma==0.1.5\n",
    "# llama-index-vector-stores-weaviate==0.1.3\n",
    "# llama-parse==0.3.5\n",
    "# llamaindex-py-client==0.1.13\n",
    "# conda activate llm-rag\n",
    "# pip install llama-index llama-index-vector-stores-qdrant"
   ]
  },
  {
   "cell_type": "code",
   "execution_count": 8,
   "id": "a2963f90-9da5-4a0d-8dbe-f16fcb8627a3",
   "metadata": {},
   "outputs": [],
   "source": [
    "!mkdir -p 'document/'\n",
    "documents = xsum_dataset[\"train\"].select(range(1000)).to_pandas()\n",
    "joined_documents = '\\n'.join(xsum_sample[\"combined\"])\n",
    "with open('document/documents.txt', 'w', encoding='utf-8') as file:\n",
    "    file.write(joined_documents)"
   ]
  },
  {
   "cell_type": "code",
   "execution_count": 7,
   "id": "63d24000-1112-431f-b1d4-a0d9f317627d",
   "metadata": {},
   "outputs": [],
   "source": [
    "from llama_index.core import SimpleDirectoryReader\n",
    "\n",
    "loader = SimpleDirectoryReader(input_dir=\"./document/\")\n",
    "documents = loader.load_data()"
   ]
  },
  {
   "cell_type": "code",
   "execution_count": 8,
   "id": "da321e2c-8428-4c04-abf2-b204416e816f",
   "metadata": {},
   "outputs": [
    {
     "data": {
      "text/plain": [
       "'Document: The full cost of damage in Newton Stewart, one of the areas worst affected, is still being assessed.\\nRepair work is ongoing in Hawick and many roads in Peeblesshire remain badly affected by standing water.\\nTrains on the west coast mainline face disruption due to damage at the Lamington Viaduct.\\nMany businesses and householders were affected by flooding in Newton Stewart after the River Cree overflowed into the town.\\nFirst Minister Nicola Sturgeon visited the area to inspect the damage.\\nThe waters breached a retaining wall, flooding many commercial properties on Victoria Street - the main shopping thoroughfare.\\nJeanette Tate, who owns the Cinnamon Cafe which was badly affected, said she could not fault the multi-agency response once the flood hit.\\nHowever, she said more preventative work could have been carried out to ensure the retaining wall did not fail.\\n\"It is difficult but I do think there is so much publicity for Dumfries and the Nith - and I totally appreciate that - bu'"
      ]
     },
     "execution_count": 8,
     "metadata": {},
     "output_type": "execute_result"
    }
   ],
   "source": [
    "# if you want to see what the text looks like\n",
    "documents[0].text[:1000]"
   ]
  },
  {
   "cell_type": "code",
   "execution_count": 9,
   "id": "4801e74a-8c52-45c4-967d-7a1a94f54ad3",
   "metadata": {},
   "outputs": [],
   "source": [
    "from llama_index.core.ingestion import IngestionPipeline\n",
    "from llama_index.core.node_parser import SentenceSplitter\n",
    "from llama_index.embeddings.openai import OpenAIEmbedding\n",
    "from llama_index.vector_stores.qdrant import QdrantVectorStore\n",
    "import qdrant_client\n",
    "\n",
    "client = qdrant_client.QdrantClient(location=\":memory:\")\n",
    "vector_store = QdrantVectorStore(client=client, collection_name=\"test_store\")\n",
    "\n",
    "pipeline = IngestionPipeline(\n",
    "    transformations=[\n",
    "        SentenceSplitter(),\n",
    "        OpenAIEmbedding(),\n",
    "    ],\n",
    "    vector_store=vector_store,\n",
    ")\n",
    "_nodes = pipeline.run(documents=documents, num_workers=4)"
   ]
  },
  {
   "cell_type": "code",
   "execution_count": 10,
   "id": "02afea25-098b-49c7-a965-21c7576757af",
   "metadata": {},
   "outputs": [
    {
     "data": {
      "text/plain": [
       "616"
      ]
     },
     "execution_count": 10,
     "metadata": {},
     "output_type": "execute_result"
    }
   ],
   "source": [
    "# if you want to see the nodes\n",
    "len(_nodes)\n",
    "# _nodes[0].text"
   ]
  },
  {
   "cell_type": "code",
   "execution_count": 11,
   "id": "44cd8a86-089d-4329-9484-35b98b3a26f9",
   "metadata": {},
   "outputs": [],
   "source": [
    "from llama_index.core import VectorStoreIndex\n",
    "\n",
    "index = VectorStoreIndex.from_vector_store(vector_store=vector_store)"
   ]
  },
  {
   "cell_type": "markdown",
   "id": "286b1827-7547-49c6-aba3-82f08d6d86b8",
   "metadata": {},
   "source": [
    "## Retrieve Against A Query"
   ]
  },
  {
   "cell_type": "code",
   "execution_count": 12,
   "id": "49f86af1-db08-4641-89ad-d60abd04e6b3",
   "metadata": {},
   "outputs": [],
   "source": [
    "retriever = index.as_retriever(similarity_top_k=2)\n",
    "retrieved_nodes = retriever.retrieve(\"I'm looking for the information of Harry Potter. What could you suggest to me?\")"
   ]
  },
  {
   "cell_type": "code",
   "execution_count": 13,
   "id": "05f9ce3b-a4e3-4862-b58c-2d9fba1f9abc",
   "metadata": {},
   "outputs": [
    {
     "name": "stdout",
     "output_type": "stream",
     "text": [
      "The main battle in Tamaulipas is between the Zetas and the Gulf cartels, the AFP news agency reports.\n",
      "Their capacity for violence and ability to pay huge bribes gives them considerable power to subvert the prison system and get their people out.\n",
      "President Felipe Calderon came to power in 2006 promising a war on drugs.\n",
      "More than 35,000 people have died in drug violence since he began his campaign, which has involved launching an army assault on drug gangs.; Summary: Seven prisoners have been killed and 59 others have escaped after a riot at a jail in northern Mexico near the US border, officials say.\n",
      "Document: The play, written by Jack Thorne, is set 19 years after the seventh and final book in the series by JK Rowling.\n",
      "It opens officially at the Palace Theatre, in London's West End, on Saturday.\n",
      "Audiences have been urged to \"keep the secrets\" since the play began previews in early June.\n",
      "Presented in two parts, the play - showing the stars of the wizarding saga as adults in their mid-30s as their own children head off to school - stretches over five hours.\n",
      "Daily Telegraph critic Dominic Cavendish awarded the play five stars, writing: \"British theatre hasn't known anything like it for decades and I haven't seen anything directly comparable in all my reviewing days.\"\n",
      "He said \"those involved can give themselves a pat on the back\", adding: \"It's a triumph. Not an unqualified one - there are some quibbles - but in all key respects, it grips, it stirs, it delights.\"\n",
      "Cavendish praises the \"thrill-a-minute\" stage craft which sees pupils heading to Hogwarts, at the start of the play, change into school uniforms \"in the blink of an eye\" as they head to the infamous Platform 9Â¾ to make their way to school.\n",
      "The Stage also gives a five-star review, with Mark Shenton describing Harry Potter and the Cursed Child - co-devised by Rowling, with director John Tiffany and playwright Jack Thorne - as a \"truly game-changing production and a thrilling theatrical endeavour\".\n",
      "It is an \"entirely original\" piece of work, with \"Dickensian sweep and momentum to the storytelling\", writes Shenton, adding: \"It earns its place on the stage, feeling distinct from both the books and the screen adaptations.\n",
      "\"By turns playful and gripping, disturbing and detailed, poignant and powerful, it is superb family entertainment.\"\n",
      "Shenton also praises \"the theatrical wizards who've created this stunningly-realised alternative universe deliver one coup de theatre after another\".\n",
      "In a nod to the Kings Cross platform number, Ann Treneman gives the play four and three-quarters stars in The Times, saying the \"wizardry on display\" is \"out of this world\".\n",
      "She says the plot is complex (\"there are mazes that are more straightforward\") but adds: \"It's a raunchless Game of Thrones with heart. Crucially, it's authentic Potter but, most importantly, it's new.\n",
      "\"It's not the movie of the book. It's the real deal, live in front of you, so much better than any film could be.\"\n",
      "In The Guardian, Michael Billington noted the Cursed Child will make more sense to \"hardened Potterheads\", but applauded Tiffany for directing a \"thrilling theatrical spectacle\", giving it four stars.\n",
      "He praised the strong performances that meant acting was central to the story, despite the dazzling special effects, singling out Sam Clemmett as Harry's son Albus, \"wonderfully quirky\" Anthony Boyle as his friend Scorpius Malfoy, and the adult Harry (Jamie Parker), \"authoritative\" Hermione (Noma Dumezweni) and \"bluntly commonsensical\" Ron (Paul Thornley).\n",
      "It's another five stars from The Independent, with Jack Shepherd describing it as \"magical\". He argues Part One should be billed as a magic show, due to the effects used, also praising its moments of comedy.\n",
      "Shepherd adds: \"It's quite apparent this isn't written to be either a book or a tie-in film; it's a spectacle for the theatre, one that is filled to the brim with fan service and magical imagery that will amaze.\"\n",
      "Quentin Letts grumbles about the length of the play in the Daily Mail, noting: \"There were moments I could have done with a glug of gurdyroot infusion to keep me alert.\"\n",
      "But he admits: \"Potter addicts will love it. JK Rowling is going to make (another) fortune. The West End's ornate Palace Theatre, itself a little like Hogwarts, has a hit probably for years.\"\n"
     ]
    }
   ],
   "source": [
    "# to view the retrieved node\n",
    "print(retrieved_nodes[0].text)"
   ]
  },
  {
   "cell_type": "markdown",
   "id": "978ae2c5-8c2a-41c7-a2eb-85a5562f2db5",
   "metadata": {},
   "source": [
    "## Generate Final Response"
   ]
  },
  {
   "cell_type": "code",
   "execution_count": 14,
   "id": "ef33c349-eed4-4e35-9b5d-9473adf2ce01",
   "metadata": {},
   "outputs": [],
   "source": [
    "query_engine = index.as_query_engine()"
   ]
  },
  {
   "cell_type": "code",
   "execution_count": 18,
   "id": "4139c48a-ece8-4244-b4eb-7cff74cb1325",
   "metadata": {},
   "outputs": [
    {
     "name": "stdout",
     "output_type": "stream",
     "text": [
      "Context information is below.\n",
      "---------------------\n",
      "{context_str}\n",
      "---------------------\n",
      "Given the context information and not prior knowledge, answer the query.\n",
      "Query: {query_str}\n",
      "Answer: \n"
     ]
    }
   ],
   "source": [
    "# to inspect the default prompt being used\n",
    "query_engine = index.as_query_engine()\n",
    "\n",
    "# to inspect the default prompt being used\n",
    "print(\n",
    "    query_engine.get_prompts()[\n",
    "        \"response_synthesizer:text_qa_template\"\n",
    "    ].default_template.template\n",
    ")"
   ]
  },
  {
   "cell_type": "code",
   "execution_count": 25,
   "id": "cd112650-9bb2-4d26-a958-b07ee906e8e8",
   "metadata": {},
   "outputs": [
    {
     "name": "stdout",
     "output_type": "stream",
     "text": [
      "You may be interested in learning about \"Harry Potter and the Cursed Child,\" a play set 19 years after the final book in the Harry Potter series. It has received rave reviews from critics and offers a new and captivating story within the wizarding world created by JK Rowling.\n"
     ]
    }
   ],
   "source": [
    "query_engine = index.as_query_engine(similarity_top_k=2)\n",
    "response = query_engine.query(\"I'm looking for the information of Harry Potter. What could you suggest to me?\")\n",
    "print(response)"
   ]
  },
  {
   "cell_type": "code",
   "execution_count": 26,
   "id": "2a651427-a747-4201-8b8f-2b75901c65db",
   "metadata": {},
   "outputs": [
    {
     "name": "stdout",
     "output_type": "stream",
     "text": [
      "You may be interested in learning about \"Harry Potter and the Cursed Child,\" a play set 19 years after the last book in the Harry Potter series. The play has received rave reviews from critics, with many praising its magical elements, storytelling, and performances. It is presented in two parts and offers a new and original experience for fans of the Harry Potter universe.\n"
     ]
    }
   ],
   "source": [
    "query_engine = index.as_query_engine(response_mode=\"tree_summarize\")\n",
    "response = query_engine.query(\"I'm looking for the information of Harry Potter. What could you suggest to me?\")\n",
    "print(response)"
   ]
  },
  {
   "cell_type": "code",
   "execution_count": 27,
   "id": "873f772c-8435-4d54-b141-c1dbffcac262",
   "metadata": {},
   "outputs": [
    {
     "name": "stdout",
     "output_type": "stream",
     "text": [
      "You may be interested in learning about \"Harry Potter and the Cursed Child,\" a play set 19 years after the final book in the Harry Potter series. It has received rave reviews from critics and offers a new storyline involving Harry Potter and his friends as adults. The play is presented in two parts and has been described as a magical and game-changing production."
     ]
    }
   ],
   "source": [
    "query_engine = index.as_query_engine(streaming=True)\n",
    "response = query_engine.query(\"I'm looking for the information of Harry Potter. What could you suggest to me?\")\n",
    "response.print_response_stream()"
   ]
  },
  {
   "cell_type": "code",
   "execution_count": 28,
   "id": "4131e884-928c-46b0-bbd1-33cdad64e2b8",
   "metadata": {},
   "outputs": [
    {
     "name": "stdout",
     "output_type": "stream",
     "text": [
      "I found information about the play \"Harry Potter and the Cursed Child.\" It is set 19 years after the seventh and final book in the series by JK Rowling. The play is presented in two parts, showing the stars of the wizarding saga as adults in their mid-30s as their own children head off to school. The play has received high praise from critics, with many giving it five-star reviews and describing it as a game-changing production. The script of the play has been published and it has been noted for its magical effects, moments of comedy, and its ability to captivate both fans of the series and new audiences.\n"
     ]
    }
   ],
   "source": [
    "query_engine = index.as_chat_engine()\n",
    "response = query_engine.query(\"I'm looking for the information of Harry Potter. What could you suggest to me?\")\n",
    "print(response)"
   ]
  },
  {
   "cell_type": "code",
   "execution_count": null,
   "id": "7c7d75b1-d9f0-4705-823c-766bed3cd0cd",
   "metadata": {},
   "outputs": [],
   "source": []
  }
 ],
 "metadata": {
  "kernelspec": {
   "display_name": "Python 3 (ipykernel)",
   "language": "python",
   "name": "python3"
  },
  "language_info": {
   "codemirror_mode": {
    "name": "ipython",
    "version": 3
   },
   "file_extension": ".py",
   "mimetype": "text/x-python",
   "name": "python",
   "nbconvert_exporter": "python",
   "pygments_lexer": "ipython3",
   "version": "3.10.13"
  }
 },
 "nbformat": 4,
 "nbformat_minor": 5
}
