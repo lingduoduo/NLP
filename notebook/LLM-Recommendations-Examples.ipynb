{
 "cells": [
  {
   "cell_type": "code",
   "execution_count": 1,
   "id": "00d3b5dd-6a2d-43be-af67-cf636cc9cdb4",
   "metadata": {},
   "outputs": [],
   "source": [
    "from datasets import load_dataset"
   ]
  },
  {
   "cell_type": "code",
   "execution_count": 2,
   "id": "385200d3-f308-4da0-92a4-785eb94ab03a",
   "metadata": {},
   "outputs": [
    {
     "name": "stderr",
     "output_type": "stream",
     "text": [
      "/Users/linghuang/miniconda3/envs/langchain/lib/python3.10/site-packages/datasets/load.py:1429: FutureWarning: The repository for xsum contains custom code which must be executed to correctly load the dataset. You can inspect the repository content at https://hf.co/datasets/xsum\n",
      "You can avoid this message in future by passing the argument `trust_remote_code=True`.\n",
      "Passing `trust_remote_code=True` will be mandatory to load this dataset from the next major release of `datasets`.\n",
      "  warnings.warn(\n"
     ]
    }
   ],
   "source": [
    "xsum_dataset = load_dataset(\n",
    "    \"xsum\", version=\"1.2.0\"\n",
    ")"
   ]
  },
  {
   "cell_type": "code",
   "execution_count": 3,
   "id": "b4617eaf-28d5-4fb1-ab65-b797853d68a6",
   "metadata": {},
   "outputs": [],
   "source": [
    "# Taking a sample of 100 rows\n",
    "xsum_sample = xsum_dataset[\"train\"].select(range(1000)).to_pandas()"
   ]
  },
  {
   "cell_type": "code",
   "execution_count": 4,
   "id": "7da5b3e3-e553-4bc1-9e58-320e3c15cd81",
   "metadata": {},
   "outputs": [],
   "source": [
    "from dotenv import load_dotenv, find_dotenv\n",
    "import openai\n",
    "\n",
    "_ = load_dotenv(find_dotenv())\n",
    "openai.api_key = os.getenv('OPENAI_API_KEY')"
   ]
  },
  {
   "cell_type": "code",
   "execution_count": 5,
   "id": "5a6f9831-eb57-4b42-81bc-3640ca041cf6",
   "metadata": {},
   "outputs": [
    {
     "data": {
      "text/plain": [
       "<OpenAIObject list at 0x168af09a0> JSON: {\n",
       "  \"object\": \"list\",\n",
       "  \"data\": [\n",
       "    {\n",
       "      \"id\": \"gpt-3.5-turbo-0301\",\n",
       "      \"object\": \"model\",\n",
       "      \"created\": 1677649963,\n",
       "      \"owned_by\": \"openai\"\n",
       "    },\n",
       "    {\n",
       "      \"id\": \"text-embedding-3-large\",\n",
       "      \"object\": \"model\",\n",
       "      \"created\": 1705953180,\n",
       "      \"owned_by\": \"system\"\n",
       "    },\n",
       "    {\n",
       "      \"id\": \"gpt-4-turbo-preview\",\n",
       "      \"object\": \"model\",\n",
       "      \"created\": 1706037777,\n",
       "      \"owned_by\": \"system\"\n",
       "    },\n",
       "    {\n",
       "      \"id\": \"dall-e-3\",\n",
       "      \"object\": \"model\",\n",
       "      \"created\": 1698785189,\n",
       "      \"owned_by\": \"system\"\n",
       "    },\n",
       "    {\n",
       "      \"id\": \"whisper-1\",\n",
       "      \"object\": \"model\",\n",
       "      \"created\": 1677532384,\n",
       "      \"owned_by\": \"openai-internal\"\n",
       "    },\n",
       "    {\n",
       "      \"id\": \"dall-e-2\",\n",
       "      \"object\": \"model\",\n",
       "      \"created\": 1698798177,\n",
       "      \"owned_by\": \"system\"\n",
       "    },\n",
       "    {\n",
       "      \"id\": \"text-embedding-ada-002\",\n",
       "      \"object\": \"model\",\n",
       "      \"created\": 1671217299,\n",
       "      \"owned_by\": \"openai-internal\"\n",
       "    },\n",
       "    {\n",
       "      \"id\": \"tts-1-hd-1106\",\n",
       "      \"object\": \"model\",\n",
       "      \"created\": 1699053533,\n",
       "      \"owned_by\": \"system\"\n",
       "    },\n",
       "    {\n",
       "      \"id\": \"tts-1-hd\",\n",
       "      \"object\": \"model\",\n",
       "      \"created\": 1699046015,\n",
       "      \"owned_by\": \"system\"\n",
       "    },\n",
       "    {\n",
       "      \"id\": \"davinci-002\",\n",
       "      \"object\": \"model\",\n",
       "      \"created\": 1692634301,\n",
       "      \"owned_by\": \"system\"\n",
       "    },\n",
       "    {\n",
       "      \"id\": \"babbage-002\",\n",
       "      \"object\": \"model\",\n",
       "      \"created\": 1692634615,\n",
       "      \"owned_by\": \"system\"\n",
       "    },\n",
       "    {\n",
       "      \"id\": \"text-embedding-3-small\",\n",
       "      \"object\": \"model\",\n",
       "      \"created\": 1705948997,\n",
       "      \"owned_by\": \"system\"\n",
       "    },\n",
       "    {\n",
       "      \"id\": \"gpt-3.5-turbo-0613\",\n",
       "      \"object\": \"model\",\n",
       "      \"created\": 1686587434,\n",
       "      \"owned_by\": \"openai\"\n",
       "    },\n",
       "    {\n",
       "      \"id\": \"gpt-3.5-turbo\",\n",
       "      \"object\": \"model\",\n",
       "      \"created\": 1677610602,\n",
       "      \"owned_by\": \"openai\"\n",
       "    },\n",
       "    {\n",
       "      \"id\": \"gpt-4-0314\",\n",
       "      \"object\": \"model\",\n",
       "      \"created\": 1687882410,\n",
       "      \"owned_by\": \"openai\"\n",
       "    },\n",
       "    {\n",
       "      \"id\": \"gpt-4-32k-0314\",\n",
       "      \"object\": \"model\",\n",
       "      \"created\": 1687979321,\n",
       "      \"owned_by\": \"openai\"\n",
       "    },\n",
       "    {\n",
       "      \"id\": \"gpt-4-0613\",\n",
       "      \"object\": \"model\",\n",
       "      \"created\": 1686588896,\n",
       "      \"owned_by\": \"openai\"\n",
       "    },\n",
       "    {\n",
       "      \"id\": \"gpt-4-vision-preview\",\n",
       "      \"object\": \"model\",\n",
       "      \"created\": 1698894917,\n",
       "      \"owned_by\": \"system\"\n",
       "    },\n",
       "    {\n",
       "      \"id\": \"gpt-3.5-turbo-16k-0613\",\n",
       "      \"object\": \"model\",\n",
       "      \"created\": 1685474247,\n",
       "      \"owned_by\": \"openai\"\n",
       "    },\n",
       "    {\n",
       "      \"id\": \"gpt-4\",\n",
       "      \"object\": \"model\",\n",
       "      \"created\": 1687882411,\n",
       "      \"owned_by\": \"openai\"\n",
       "    },\n",
       "    {\n",
       "      \"id\": \"gpt-3.5-turbo-1106\",\n",
       "      \"object\": \"model\",\n",
       "      \"created\": 1698959748,\n",
       "      \"owned_by\": \"system\"\n",
       "    },\n",
       "    {\n",
       "      \"id\": \"tts-1-1106\",\n",
       "      \"object\": \"model\",\n",
       "      \"created\": 1699053241,\n",
       "      \"owned_by\": \"system\"\n",
       "    },\n",
       "    {\n",
       "      \"id\": \"gpt-3.5-turbo-instruct\",\n",
       "      \"object\": \"model\",\n",
       "      \"created\": 1692901427,\n",
       "      \"owned_by\": \"system\"\n",
       "    },\n",
       "    {\n",
       "      \"id\": \"tts-1\",\n",
       "      \"object\": \"model\",\n",
       "      \"created\": 1681940951,\n",
       "      \"owned_by\": \"openai-internal\"\n",
       "    },\n",
       "    {\n",
       "      \"id\": \"gpt-3.5-turbo-instruct-0914\",\n",
       "      \"object\": \"model\",\n",
       "      \"created\": 1694122472,\n",
       "      \"owned_by\": \"system\"\n",
       "    },\n",
       "    {\n",
       "      \"id\": \"gpt-4-1106-preview\",\n",
       "      \"object\": \"model\",\n",
       "      \"created\": 1698957206,\n",
       "      \"owned_by\": \"system\"\n",
       "    },\n",
       "    {\n",
       "      \"id\": \"gpt-3.5-turbo-16k\",\n",
       "      \"object\": \"model\",\n",
       "      \"created\": 1683758102,\n",
       "      \"owned_by\": \"openai-internal\"\n",
       "    },\n",
       "    {\n",
       "      \"id\": \"gpt-4-0125-preview\",\n",
       "      \"object\": \"model\",\n",
       "      \"created\": 1706037612,\n",
       "      \"owned_by\": \"system\"\n",
       "    }\n",
       "  ]\n",
       "}"
      ]
     },
     "execution_count": 5,
     "metadata": {},
     "output_type": "execute_result"
    }
   ],
   "source": [
    "openai.Model.list()"
   ]
  },
  {
   "cell_type": "code",
   "execution_count": 6,
   "id": "d38b824d-9833-45bf-a964-f6b3aa2ccdf1",
   "metadata": {},
   "outputs": [],
   "source": [
    "import pandas as pd"
   ]
  },
  {
   "cell_type": "code",
   "execution_count": 7,
   "id": "9d07e247-7cf5-4865-b1ab-4de4a83a9919",
   "metadata": {},
   "outputs": [
    {
     "data": {
      "text/html": [
       "<div>\n",
       "<style scoped>\n",
       "    .dataframe tbody tr th:only-of-type {\n",
       "        vertical-align: middle;\n",
       "    }\n",
       "\n",
       "    .dataframe tbody tr th {\n",
       "        vertical-align: top;\n",
       "    }\n",
       "\n",
       "    .dataframe thead th {\n",
       "        text-align: right;\n",
       "    }\n",
       "</style>\n",
       "<table border=\"1\" class=\"dataframe\">\n",
       "  <thead>\n",
       "    <tr style=\"text-align: right;\">\n",
       "      <th></th>\n",
       "      <th>document</th>\n",
       "      <th>summary</th>\n",
       "      <th>id</th>\n",
       "    </tr>\n",
       "  </thead>\n",
       "  <tbody>\n",
       "    <tr>\n",
       "      <th>0</th>\n",
       "      <td>The full cost of damage in Newton Stewart, one...</td>\n",
       "      <td>Clean-up operations are continuing across the ...</td>\n",
       "      <td>35232142</td>\n",
       "    </tr>\n",
       "    <tr>\n",
       "      <th>1</th>\n",
       "      <td>A fire alarm went off at the Holiday Inn in Ho...</td>\n",
       "      <td>Two tourist buses have been destroyed by fire ...</td>\n",
       "      <td>40143035</td>\n",
       "    </tr>\n",
       "  </tbody>\n",
       "</table>\n",
       "</div>"
      ],
      "text/plain": [
       "                                            document  \\\n",
       "0  The full cost of damage in Newton Stewart, one...   \n",
       "1  A fire alarm went off at the Holiday Inn in Ho...   \n",
       "\n",
       "                                             summary        id  \n",
       "0  Clean-up operations are continuing across the ...  35232142  \n",
       "1  Two tourist buses have been destroyed by fire ...  40143035  "
      ]
     },
     "execution_count": 7,
     "metadata": {},
     "output_type": "execute_result"
    }
   ],
   "source": [
    "xsum_sample.head(2)"
   ]
  },
  {
   "cell_type": "code",
   "execution_count": 8,
   "id": "884855aa-1036-4c2a-b357-8d6f450fbd20",
   "metadata": {},
   "outputs": [
    {
     "name": "stdout",
     "output_type": "stream",
     "text": [
      "\n",
      "Document: Is there something you have seen or heard that you would like us to investigate?\n",
      "It could be a burning issue or something you have always wondered about the area or its people.\n",
      "Use the tool below to send us your questions.\n",
      "We could be in touch and your question could make the news.\n",
      "Summary: Have you got a question about Coventry & Warwickshire?\n",
      "\n",
      "Document: A report by technology news site Gizmodo said staff responsible for what was shown to Facebook's 1.6bn users frequently chose to bury articles they did not agree with.\n",
      "Responding to the allegations, the network's head of search Tom Stocky wrote that the site \"found no evidence that the anonymous allegations are true\".\n",
      "The claims come weeks after Facebook founder Mark Zuckerberg publicly denounced the policies of likely US presidential nominee, Donald Trump.\n",
      "\"I hear fearful voices calling for building walls and distancing people they label as 'others.',\" the 31-year-old said at his firm's recent developers conference.\n",
      "However, Facebook insisted Mr Zuckerberg's view did not influence what stories are given added visibility on the network.\n",
      "The Trending Topics column appears in the top right corner of a typical Facebook page. It is designed to highlight what subjects are being discussed heavily by Facebook users around the world.\n",
      "Facebook explained in a statement that this list was edited by humans so as to avoid regularly recurring popular topics - such as \"lunch\".\n",
      "Facebook's Mr Stocky explained: \"Popular topics are first surfaced by an algorithm, then audited by review team members to confirm that the topics are in fact trending news in the real world and not, for example, similar-sounding topics or misnomers.\"\n",
      "The Gizmodo story, which quoted a person it said they had been one of the editors, alleged Facebook staff were routinely tampering with Trending Topic stories.\n",
      "Gizmodo's source added that staff were told to seek out stories published on the BBC, CNN and other mainstream sites ahead of publications with a clearly stated political bias - even if the stories originated on those smaller outlets.\n",
      "Also, if several mainstream media sites were covering the same story, Facebook would - according to the source - artificially place it in the Trending Topic column, even if it was not being discussed heavily by users.\n",
      "Breitbart, one of the leading conservative news sources in the US, said the reports confirmed what they had \"long suspected\", that \"Facebook's trending news artificially mutes conservatives and amplifies progressives\".\n",
      "The anonymous source also claimed that stories staff favoured - such as the Black Lives Matter movement - were given artificially greater prominence. Facebook said that this was \"untrue\".\n",
      "After a day of growing reports across social media and in conservative-leaning publications, Facebook's Mr Stocky posted a response on his profile.\n",
      "\"We have in place strict guidelines for our trending topic reviewers as they audit topics surfaced algorithmically,\" he wrote.\n",
      "\"Reviewers are required to accept topics that reflect real world events, and are instructed to disregard junk or duplicate topics, hoaxes, or subjects with insufficient sources.\n",
      "\"Facebook does not allow or advise our reviewers to systematically discriminate against sources of any ideological origin and we've designed our tools to make that technically not feasible.\n",
      "\"At the same time, our reviewers' actions are logged and reviewed, and violating our guidelines is a fireable offense.\"\n",
      "On Monday, Gizmodo's story about Facebook's Trending Topics section being biased was featured prominently in Facebook's Trending Topics section.\n",
      "Follow Dave Lee on Twitter @DaveLeeBBC and on Facebook\n",
      "Summary: Facebook has defended itself over claims its Trending Topics intentionally suppressed stories supporting conservative political viewpoints.\n"
     ]
    }
   ],
   "source": [
    "# print the title, description, and label of each example\n",
    "for idx, row in xsum_sample.sample(2).iterrows():\n",
    "    print(\"\")\n",
    "    print(f\"Document: {row['document']}\")\n",
    "    print(f\"Summary: {row['summary']}\")"
   ]
  },
  {
   "cell_type": "code",
   "execution_count": 9,
   "id": "e749c02e-c6b6-492d-b8b5-58c86e51aaa5",
   "metadata": {},
   "outputs": [],
   "source": [
    "xsum_sample[\"combined_info\"] = (\n",
    "    \"Document: \" + xsum_sample.document.str.strip() + \"; Summary: \" + xsum_sample.summary.str.strip()\n",
    ")"
   ]
  },
  {
   "cell_type": "code",
   "execution_count": 11,
   "id": "6bb4e643-6a8e-4756-96d0-cfcd510013df",
   "metadata": {},
   "outputs": [],
   "source": [
    "import tiktoken\n",
    "\n",
    "embedding_encoding = \"cl100k_base\"  # this the encoding for text-embedding-ada-002\n",
    "max_tokens = 8000  # the maximum for text-embedding-ada-002 is 8191\n",
    "encoding = tiktoken.get_encoding(embedding_encoding)\n",
    "\n",
    "# omit descriptions that are too long to embed\n",
    "xsum_sample[\"n_tokens\"] = xsum_sample.combined_info.apply(lambda x: len(encoding.encode(x)))\n",
    "xsum_sample = xsum_sample[xsum_sample.n_tokens <= max_tokens]"
   ]
  },
  {
   "cell_type": "code",
   "execution_count": 12,
   "id": "4e2bd80d-a4d2-4a37-b78f-c137b676769d",
   "metadata": {},
   "outputs": [
    {
     "data": {
      "text/html": [
       "<div>\n",
       "<style scoped>\n",
       "    .dataframe tbody tr th:only-of-type {\n",
       "        vertical-align: middle;\n",
       "    }\n",
       "\n",
       "    .dataframe tbody tr th {\n",
       "        vertical-align: top;\n",
       "    }\n",
       "\n",
       "    .dataframe thead th {\n",
       "        text-align: right;\n",
       "    }\n",
       "</style>\n",
       "<table border=\"1\" class=\"dataframe\">\n",
       "  <thead>\n",
       "    <tr style=\"text-align: right;\">\n",
       "      <th></th>\n",
       "      <th>document</th>\n",
       "      <th>summary</th>\n",
       "      <th>id</th>\n",
       "      <th>combined_info</th>\n",
       "      <th>n_tokens</th>\n",
       "    </tr>\n",
       "  </thead>\n",
       "  <tbody>\n",
       "    <tr>\n",
       "      <th>0</th>\n",
       "      <td>The full cost of damage in Newton Stewart, one...</td>\n",
       "      <td>Clean-up operations are continuing across the ...</td>\n",
       "      <td>35232142</td>\n",
       "      <td>Document: The full cost of damage in Newton St...</td>\n",
       "      <td>510</td>\n",
       "    </tr>\n",
       "    <tr>\n",
       "      <th>1</th>\n",
       "      <td>A fire alarm went off at the Holiday Inn in Ho...</td>\n",
       "      <td>Two tourist buses have been destroyed by fire ...</td>\n",
       "      <td>40143035</td>\n",
       "      <td>Document: A fire alarm went off at the Holiday...</td>\n",
       "      <td>198</td>\n",
       "    </tr>\n",
       "  </tbody>\n",
       "</table>\n",
       "</div>"
      ],
      "text/plain": [
       "                                            document  \\\n",
       "0  The full cost of damage in Newton Stewart, one...   \n",
       "1  A fire alarm went off at the Holiday Inn in Ho...   \n",
       "\n",
       "                                             summary        id  \\\n",
       "0  Clean-up operations are continuing across the ...  35232142   \n",
       "1  Two tourist buses have been destroyed by fire ...  40143035   \n",
       "\n",
       "                                       combined_info  n_tokens  \n",
       "0  Document: The full cost of damage in Newton St...       510  \n",
       "1  Document: A fire alarm went off at the Holiday...       198  "
      ]
     },
     "execution_count": 12,
     "metadata": {},
     "output_type": "execute_result"
    }
   ],
   "source": [
    "xsum_sample.head(2)"
   ]
  },
  {
   "cell_type": "markdown",
   "id": "4ffeacfe-f43c-40b7-a472-8850dbd89b17",
   "metadata": {},
   "source": [
    "### Generate Embedding"
   ]
  },
  {
   "cell_type": "code",
   "execution_count": 13,
   "id": "e513154c-040e-48ab-ac05-8a95f6a0ba46",
   "metadata": {},
   "outputs": [],
   "source": [
    "from openai.embeddings_utils import get_embedding"
   ]
  },
  {
   "cell_type": "code",
   "execution_count": 14,
   "id": "bc425f0d-c4d9-44eb-bb36-ec5f06fcad4f",
   "metadata": {},
   "outputs": [],
   "source": [
    "embedding_model = \"text-embedding-3-small\"\n",
    "xsum_sample[\"embedding\"] = xsum_sample.combined_info.apply(lambda x: get_embedding(x, engine=embedding_model))"
   ]
  },
  {
   "cell_type": "code",
   "execution_count": 17,
   "id": "c9020989-eab0-406d-a384-4af846ae313e",
   "metadata": {},
   "outputs": [],
   "source": [
    "xsum_sample.rename(columns = {'embedding': 'vector'}, inplace = True)\n",
    "xsum_sample.rename(columns = {'combined_info': 'text'}, inplace = True)\n",
    "xsum_sample.to_pickle('data/xsum_sample.pkl')"
   ]
  },
  {
   "cell_type": "code",
   "execution_count": 18,
   "id": "c9e7e781-dfca-4b86-b20d-a860483edac0",
   "metadata": {},
   "outputs": [],
   "source": [
    "xsum_sample.to_csv(\"data/xsum_sample_1k.csv\")"
   ]
  },
  {
   "cell_type": "markdown",
   "id": "70402c17-3e91-498a-9cc1-27d4226fe11f",
   "metadata": {},
   "source": [
    "### Readin Files with Embedding"
   ]
  },
  {
   "cell_type": "code",
   "execution_count": 29,
   "id": "85b7098c-20fe-432b-85f3-0968672871fc",
   "metadata": {},
   "outputs": [],
   "source": [
    "import pandas as pd\n",
    "xsum_sample = pd.read_pickle('data/xsum_sample.pkl')"
   ]
  },
  {
   "cell_type": "code",
   "execution_count": 31,
   "id": "0bd7416c-7f3a-4c66-a982-1fb9c72bf7d9",
   "metadata": {},
   "outputs": [
    {
     "data": {
      "text/html": [
       "<div>\n",
       "<style scoped>\n",
       "    .dataframe tbody tr th:only-of-type {\n",
       "        vertical-align: middle;\n",
       "    }\n",
       "\n",
       "    .dataframe tbody tr th {\n",
       "        vertical-align: top;\n",
       "    }\n",
       "\n",
       "    .dataframe thead th {\n",
       "        text-align: right;\n",
       "    }\n",
       "</style>\n",
       "<table border=\"1\" class=\"dataframe\">\n",
       "  <thead>\n",
       "    <tr style=\"text-align: right;\">\n",
       "      <th></th>\n",
       "      <th>document</th>\n",
       "      <th>summary</th>\n",
       "      <th>id</th>\n",
       "      <th>text</th>\n",
       "      <th>n_tokens</th>\n",
       "      <th>vector</th>\n",
       "    </tr>\n",
       "  </thead>\n",
       "  <tbody>\n",
       "    <tr>\n",
       "      <th>0</th>\n",
       "      <td>The full cost of damage in Newton Stewart, one...</td>\n",
       "      <td>Clean-up operations are continuing across the ...</td>\n",
       "      <td>35232142</td>\n",
       "      <td>Document: The full cost of damage in Newton St...</td>\n",
       "      <td>510</td>\n",
       "      <td>[-0.002085343236103654, 0.05560915172100067, 0...</td>\n",
       "    </tr>\n",
       "    <tr>\n",
       "      <th>1</th>\n",
       "      <td>A fire alarm went off at the Holiday Inn in Ho...</td>\n",
       "      <td>Two tourist buses have been destroyed by fire ...</td>\n",
       "      <td>40143035</td>\n",
       "      <td>Document: A fire alarm went off at the Holiday...</td>\n",
       "      <td>198</td>\n",
       "      <td>[-0.020631801337003708, -0.023478450253605843,...</td>\n",
       "    </tr>\n",
       "  </tbody>\n",
       "</table>\n",
       "</div>"
      ],
      "text/plain": [
       "                                            document  \\\n",
       "0  The full cost of damage in Newton Stewart, one...   \n",
       "1  A fire alarm went off at the Holiday Inn in Ho...   \n",
       "\n",
       "                                             summary        id  \\\n",
       "0  Clean-up operations are continuing across the ...  35232142   \n",
       "1  Two tourist buses have been destroyed by fire ...  40143035   \n",
       "\n",
       "                                                text  n_tokens  \\\n",
       "0  Document: The full cost of damage in Newton St...       510   \n",
       "1  Document: A fire alarm went off at the Holiday...       198   \n",
       "\n",
       "                                              vector  \n",
       "0  [-0.002085343236103654, 0.05560915172100067, 0...  \n",
       "1  [-0.020631801337003708, -0.023478450253605843,...  "
      ]
     },
     "execution_count": 31,
     "metadata": {},
     "output_type": "execute_result"
    }
   ],
   "source": [
    "xsum_sample.head(2)"
   ]
  },
  {
   "cell_type": "code",
   "execution_count": 32,
   "id": "b220ce03-58b3-498a-97d1-346e3ccc7673",
   "metadata": {},
   "outputs": [],
   "source": [
    "import lancedb\n",
    "from langchain.embeddings import OpenAIEmbeddings\n",
    "from langchain.vectorstores import LanceDB\n",
    "from langchain.chains import RetrievalQA"
   ]
  },
  {
   "cell_type": "code",
   "execution_count": 33,
   "id": "b3d34674-cbb4-46d7-8ee4-3afe7bff0911",
   "metadata": {},
   "outputs": [],
   "source": [
    "import lancedb\n",
    "\n",
    "# connect to a database\n",
    "uri = \"dataset/xsum-sample-lancedb\"\n",
    "db = lancedb.connect(uri)\n",
    "table = db.create_table(\"xsum_sample\", xsum_sample)"
   ]
  },
  {
   "cell_type": "code",
   "execution_count": 34,
   "id": "c1d5e487-8661-4059-9171-9f6e1f459bca",
   "metadata": {},
   "outputs": [
    {
     "name": "stdout",
     "output_type": "stream",
     "text": [
      "['xsum_sample']\n"
     ]
    }
   ],
   "source": [
    "print(db.table_names())"
   ]
  },
  {
   "cell_type": "code",
   "execution_count": 35,
   "id": "e4ada2fe-72b1-493d-901a-1aa2a345e8d6",
   "metadata": {},
   "outputs": [],
   "source": [
    "# openai_api_key = os.getenv('OPENAI_API_KEY')\n",
    "embeddings = OpenAIEmbeddings(openai_api_key=openai_api_key)\n",
    "docsearch = LanceDB(connection = table, embedding = embeddings)"
   ]
  },
  {
   "cell_type": "code",
   "execution_count": 36,
   "id": "9737c1e4-d447-4a47-b6c2-abe10e4d9acf",
   "metadata": {
    "scrolled": true
   },
   "outputs": [
    {
     "data": {
      "text/plain": [
       "[Document(page_content='Document: The semi-official Iranian Students News Agency (Isna) said the fire was in an \"explosive materials production unit\".\\nA pro-opposition website reported a huge blast near the Parchin military site, south-east of the capital, but this was not confirmed.\\nParchin has been linked to Iran\\'s controversial nuclear programme.\\nThe International Atomic Energy Agency (IAEA) has not been given access to the complex since 2005.\\nAnalysts say the IAEA suspects Iran of experimenting with explosives capable of triggering a nuclear weapon at Parchin.\\nThe pro-reform website Sahamnews said the explosion on Sunday evening was so intense that windows of buildings 15km (nine miles) away were shattered.\\nThe glare from the blast could also be seen from a great distance, the report added.\\nIsna, quoting Iran\\'s defence industries organisation, said: \"Unfortunately, due to the incident, two workers of this production unit lost their lives.\"\\nIt gave no further details.\\nLast month, the IAEA said more activity had been conducted at the Parchin military base.\\nIt said Iran had also missed a deadline to answer further questions about its nuclear programme.\\nIran is in negotiations with six world powers on a permanent agreement over its nuclear industry.\\nThe West suspects Iran of trying to develop a nuclear weapon but Iranian leaders insist they only want atomic energy.\\nTalks are focused on lifting Western sanctions in exchange for a scaling-back of Iran\\'s uranium enrichment programme, and a deadline for the agreement has been set for 24 November.; Summary: A fire and explosion at a military explosives facility near the Iranian capital Tehran has left at least two people dead, reports say.', metadata={'document': 'The semi-official Iranian Students News Agency (Isna) said the fire was in an \"explosive materials production unit\".\\nA pro-opposition website reported a huge blast near the Parchin military site, south-east of the capital, but this was not confirmed.\\nParchin has been linked to Iran\\'s controversial nuclear programme.\\nThe International Atomic Energy Agency (IAEA) has not been given access to the complex since 2005.\\nAnalysts say the IAEA suspects Iran of experimenting with explosives capable of triggering a nuclear weapon at Parchin.\\nThe pro-reform website Sahamnews said the explosion on Sunday evening was so intense that windows of buildings 15km (nine miles) away were shattered.\\nThe glare from the blast could also be seen from a great distance, the report added.\\nIsna, quoting Iran\\'s defence industries organisation, said: \"Unfortunately, due to the incident, two workers of this production unit lost their lives.\"\\nIt gave no further details.\\nLast month, the IAEA said more activity had been conducted at the Parchin military base.\\nIt said Iran had also missed a deadline to answer further questions about its nuclear programme.\\nIran is in negotiations with six world powers on a permanent agreement over its nuclear industry.\\nThe West suspects Iran of trying to develop a nuclear weapon but Iranian leaders insist they only want atomic energy.\\nTalks are focused on lifting Western sanctions in exchange for a scaling-back of Iran\\'s uranium enrichment programme, and a deadline for the agreement has been set for 24 November.', 'summary': 'A fire and explosion at a military explosives facility near the Iranian capital Tehran has left at least two people dead, reports say.', 'id': '29508534', 'n_tokens': 338, 'vector': array([-4.3963972e-02,  2.7156865e-02,  4.3243989e-02, ...,\n",
       "        -1.2993446e-02, -2.4257244e-05, -2.6459381e-02], dtype=float32), '_distance': 1.8421469926834106})]"
      ]
     },
     "execution_count": 36,
     "metadata": {},
     "output_type": "execute_result"
    }
   ],
   "source": [
    "query = \"I'm looking for the information cost of damage in Newton Stewart. What could you suggest to me?\"\n",
    "docs = docsearch.similarity_search(query, k=1)\n",
    "docs"
   ]
  },
  {
   "cell_type": "markdown",
   "id": "8bdef870-1fa4-48b4-abe3-0444fb30bbf5",
   "metadata": {},
   "source": [
    "### Build the chain"
   ]
  },
  {
   "cell_type": "markdown",
   "id": "e8a50f4b-d12f-471b-805e-62f1f47e9ace",
   "metadata": {},
   "source": [
    "- Setup: Import packages.\n",
    "- LLM Agent: Build an agent that leverages a modified version of the ReAct framework to do chain-of-thought reasoning.\n",
    "- LLM Agent with History: Provide the LLM with access to previous steps in the conversation."
   ]
  },
  {
   "cell_type": "code",
   "execution_count": 49,
   "id": "0a86ca6c-aa7b-4027-919a-6bf999a657bc",
   "metadata": {},
   "outputs": [],
   "source": [
    "# LLM wrapper\n",
    "from langchain import OpenAI\n",
    "from langchain.chains import RetrievalQA\n",
    "from langchain.chat_models import ChatOpenAI"
   ]
  },
  {
   "cell_type": "code",
   "execution_count": 37,
   "id": "1ba92551-9c37-45e8-8a68-040192724771",
   "metadata": {},
   "outputs": [],
   "source": [
    "# Initiate our LLM - default is 'gpt-3.5-turbo'\n",
    "llm = ChatOpenAI(temperature=0, openai_api_key=openai_api_key, model_name=\"gpt-3.5-turbo\")"
   ]
  },
  {
   "cell_type": "code",
   "execution_count": 70,
   "id": "4f66a8bc-8575-4ad0-b4e7-e219945b5605",
   "metadata": {
    "scrolled": true
   },
   "outputs": [],
   "source": [
    "qa = RetrievalQA.from_chain_type(llm=llm, chain_type=\"stuff\", retriever=docsearch.as_retriever(), return_source_documents=True)\n",
    "\n",
    "query = \"I'm looking for the information of Spotify. What could you suggest to me?\"\n",
    "result = qa({\"query\": query})"
   ]
  },
  {
   "cell_type": "code",
   "execution_count": 71,
   "id": "4c4c5e8d-d806-42d4-8267-2d4b564509fc",
   "metadata": {},
   "outputs": [
    {
     "data": {
      "text/plain": [
       "'According to recent reports, Spotify is considering a direct listing on a stock exchange, which would allow the company to become publicly listed without raising new cash. This would save Spotify from underwriting fees and avoid diluting the value of existing stakes in the company. A direct listing would also mean that shares would be traded on the day of listing, with the price based on supply and demand. Spotify has not yet commented on these reports.'"
      ]
     },
     "execution_count": 71,
     "metadata": {},
     "output_type": "execute_result"
    }
   ],
   "source": [
    "result['result']"
   ]
  },
  {
   "cell_type": "code",
   "execution_count": 67,
   "id": "91ee4f9a-545d-41e1-b103-ccf4016554b5",
   "metadata": {},
   "outputs": [
    {
     "data": {
      "text/plain": [
       "Document(page_content='Document: Kromtech - the Germany-based firm behind MacKeeper - has acknowledged that its customers\\' names, internet addresses and login credentials were among the data  exposed.\\nHowever, it said that users\\' payment details were \"never at risk\".\\nThe firm believes the details were accessed only by the security expert who alerted it to the problem.\\n\"The privacy and security of our clients\\' information remains our top priority and from the moment we were aware of the access, we immediately took several proactive steps to identify and correct the issue,\" it said in a statement.\\n\"We want to offer a special \\'thank you\\' to security researcher Chris Vickery for identifying the security breach attempt so that we could stop it before anyone was harmed.\"\\nMr Vickery told security blogger Brian Krebs that he had discovered 21 gigabytes of MacKeeper user data \"after spending a few bored moments searching for database servers\" that were not password-protected. He was able to do this by using Shodan, a search engine for internet-connected devices.\\nMr Krebs reported that Kromtech initially said that 13 million customers\\' details had been exposed.\\nThat figure was removed from the firm\\'s statement - a spokesman for Kromtech told the BBC it had included both \"active and non-active\" users.\\nMacKeeper is widely promoted on the web - including in prominent adverts on Ookla\\'s Speedtest site - as a way to \"clean\" and \"protect\" Macintosh computers in order to help them run faster.\\nHowever, critics have claimed that the software can cause computers to slow down and crash, and can be problematic to remove.\\n\"There are no ways that the program itself can harm or de-stabilise the system as described by some sources,\" the Kromtech spokesman said.; Summary: Users of a popular utility designed to \"optimise\" Apple Mac computers have had their details leaked online.', metadata={'document': 'Kromtech - the Germany-based firm behind MacKeeper - has acknowledged that its customers\\' names, internet addresses and login credentials were among the data  exposed.\\nHowever, it said that users\\' payment details were \"never at risk\".\\nThe firm believes the details were accessed only by the security expert who alerted it to the problem.\\n\"The privacy and security of our clients\\' information remains our top priority and from the moment we were aware of the access, we immediately took several proactive steps to identify and correct the issue,\" it said in a statement.\\n\"We want to offer a special \\'thank you\\' to security researcher Chris Vickery for identifying the security breach attempt so that we could stop it before anyone was harmed.\"\\nMr Vickery told security blogger Brian Krebs that he had discovered 21 gigabytes of MacKeeper user data \"after spending a few bored moments searching for database servers\" that were not password-protected. He was able to do this by using Shodan, a search engine for internet-connected devices.\\nMr Krebs reported that Kromtech initially said that 13 million customers\\' details had been exposed.\\nThat figure was removed from the firm\\'s statement - a spokesman for Kromtech told the BBC it had included both \"active and non-active\" users.\\nMacKeeper is widely promoted on the web - including in prominent adverts on Ookla\\'s Speedtest site - as a way to \"clean\" and \"protect\" Macintosh computers in order to help them run faster.\\nHowever, critics have claimed that the software can cause computers to slow down and crash, and can be problematic to remove.\\n\"There are no ways that the program itself can harm or de-stabilise the system as described by some sources,\" the Kromtech spokesman said.', 'summary': 'Users of a popular utility designed to \"optimise\" Apple Mac computers have had their details leaked online.', 'id': '35100330', 'n_tokens': 377, 'vector': array([ 0.00819547,  0.06378449, -0.00506825, ..., -0.01364789,\n",
       "        0.0156361 ,  0.00987366], dtype=float32), '_distance': 1.8364440202713013})"
      ]
     },
     "execution_count": 67,
     "metadata": {},
     "output_type": "execute_result"
    }
   ],
   "source": [
    "result['source_documents'][0]"
   ]
  },
  {
   "cell_type": "code",
   "execution_count": 68,
   "id": "6cad57f9-0ef1-414b-9a56-b43d5ad89b13",
   "metadata": {},
   "outputs": [
    {
     "data": {
      "text/plain": [
       "'According to recent reports, Spotify is considering a direct listing on a stock exchange, which would allow the company to become publicly listed without raising new cash. This approach would save Spotify from underwriting fees and avoid diluting the value of existing stakes in the company. A direct listing would also mean that shares would be traded on the day of listing, with the price based on supply and demand. This tactic is usually used by smaller companies that do not expect high levels of trading in their stock. However, it is important to note that Spotify has not made an official statement regarding this matter.'"
      ]
     },
     "execution_count": 68,
     "metadata": {},
     "output_type": "execute_result"
    }
   ],
   "source": [
    "df_filtered = xsum_sample[xsum_sample['summary'].apply(lambda x: 'news' in x)]\n",
    "\n",
    "qa = RetrievalQA.from_chain_type(llm=llm, chain_type=\"stuff\", retriever=docsearch.as_retriever(search_kwargs={'data': df_filtered}), return_source_documents=True)\n",
    "\n",
    "query = \"I'm looking for the information of Spotify. What could you suggest to me?\"\n",
    "result = qa({\"query\": query})\n",
    "result['result']"
   ]
  },
  {
   "cell_type": "code",
   "execution_count": 69,
   "id": "3761e9bf-fd10-4b18-9b98-93d2bb1d743f",
   "metadata": {},
   "outputs": [
    {
     "name": "stdout",
     "output_type": "stream",
     "text": [
      "1. News: Spotify considering direct listing on stock market\n",
      "   Description: This news article discusses Spotify's potential plan to go public through a direct listing on a stock market, rather than a traditional initial public offering (IPO). It explains the benefits of a direct listing, such as avoiding underwriting fees and maintaining the value of existing stakes in the company. This news would be relevant to someone interested in the financial aspects of Spotify's business strategy.\n",
      "\n",
      "2. News: Spotify signs new licensing deal with Universal Music Group\n",
      "   Description: This news article highlights Spotify's recent long-term licensing deal with Universal Music Group, the world's largest record label. It discusses the significance of this deal for Spotify's music streaming service and its relationship with major music labels. This news would be of interest to someone following Spotify's partnerships and developments in the music industry.\n",
      "\n",
      "3. News: Spotify's potential impact on the music industry\n",
      "   Description: This news article explores the potential impact of Spotify's business model on the music industry. It discusses how Spotify's streaming service has changed the way people consume music and the challenges it poses to traditional music distribution methods. This news would be relevant to someone interested in the broader implications of Spotify's success and its influence on the music industry.\n"
     ]
    }
   ],
   "source": [
    "from langchain.prompts import PromptTemplate\n",
    "\n",
    "template = \"\"\"You are a news recommender system that help users to find useful information. \n",
    "Use the following pieces of context to answer the question at the end. \n",
    "For each question, suggest three news, with a short description of the news and the reason why the user migth like it.\n",
    "If you don't know the answer, just say that you don't know, don't try to make up an answer.\n",
    "\n",
    "{context}\n",
    "\n",
    "Question: {question}\n",
    "Your response:\"\"\"\n",
    "\n",
    "\n",
    "PROMPT = PromptTemplate(\n",
    "    template=template, input_variables=[\"context\", \"question\"])\n",
    "\n",
    "chain_type_kwargs = {\"prompt\": PROMPT}\n",
    "\n",
    "llm = ChatOpenAI(temperature=0, openai_api_key=openai_api_key, model_name=\"gpt-3.5-turbo\")\n",
    "\n",
    "qa = RetrievalQA.from_chain_type(llm=llm, \n",
    "    chain_type=\"stuff\", \n",
    "    retriever=docsearch.as_retriever(),\n",
    "    return_source_documents=True, \n",
    "    chain_type_kwargs=chain_type_kwargs)\n",
    "\n",
    "query = \"I'm looking for the information of Spotify. What could you suggest to me?\"\n",
    "result = qa({'query':query})\n",
    "print(result['result'])"
   ]
  },
  {
   "cell_type": "code",
   "execution_count": null,
   "id": "5bd8de56-ca56-4117-bb9d-15e11a50feaa",
   "metadata": {},
   "outputs": [],
   "source": []
  }
 ],
 "metadata": {
  "kernelspec": {
   "display_name": "Python 3 (ipykernel)",
   "language": "python",
   "name": "python3"
  },
  "language_info": {
   "codemirror_mode": {
    "name": "ipython",
    "version": 3
   },
   "file_extension": ".py",
   "mimetype": "text/x-python",
   "name": "python",
   "nbconvert_exporter": "python",
   "pygments_lexer": "ipython3",
   "version": "3.10.13"
  }
 },
 "nbformat": 4,
 "nbformat_minor": 5
}
