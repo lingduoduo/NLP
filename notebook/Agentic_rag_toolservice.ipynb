{
 "cells": [
  {
   "cell_type": "markdown",
   "id": "49814a62-0201-4d41-a449-c2c6b4ad2ced",
   "metadata": {},
   "source": [
    "# Build an Agentic RAG Service\n",
    "\n",
    "Setup an agent service that can interact with a tool service (containing RAG tools over annual reports).\n",
    "\n",
    "In this notebook, we:\n",
    "- Setup our indexes and query engine tools\n",
    "- Define our multi-agent framework\n",
    "  - A message queue.\n",
    "  - An agentic orchestrator.\n",
    "  - A tools service containing our query engine tools. This will act as a remote executor for tools\n",
    "  - Define meta-tools for our agents. These will make calls to the tools service instead of executing directly\n",
    "  - Our agent services. These wrap existing llama-index agents\n",
    "  - Put all this into a local launcher, to simulate one task passing through the system at a time."
   ]
  },
  {
   "cell_type": "code",
   "execution_count": 1,
   "id": "e33e5676-8d15-4372-bc32-8d43dd617b80",
   "metadata": {},
   "outputs": [],
   "source": [
    "import nest_asyncio\n",
    "\n",
    "nest_asyncio.apply()\n",
    "\n",
    "import os\n",
    "from openai import OpenAI\n",
    "from dotenv import load_dotenv, find_dotenv\n",
    "\n",
    "_ = load_dotenv(find_dotenv()) # read local .env file\n",
    "openai_api_key = os.getenv('OPENAI_API_KEY')"
   ]
  },
  {
   "cell_type": "markdown",
   "id": "8b4be8b8-3d1c-4a82-98f5-ec94d97a679e",
   "metadata": {},
   "source": [
    "## Load Data"
   ]
  },
  {
   "cell_type": "code",
   "execution_count": 2,
   "id": "383d37e8-3887-4a19-bff3-7b58120f0098",
   "metadata": {},
   "outputs": [
    {
     "name": "stdout",
     "output_type": "stream",
     "text": [
      "--2024-07-26 13:20:56--  https://raw.githubusercontent.com/run-llama/llama_index/main/docs/docs/examples/data/10k/uber_2021.pdf\n",
      "Resolving raw.githubusercontent.com (raw.githubusercontent.com)... 185.199.111.133, 185.199.110.133, 185.199.109.133, ...\n",
      "Connecting to raw.githubusercontent.com (raw.githubusercontent.com)|185.199.111.133|:443... connected.\n",
      "HTTP request sent, awaiting response... 200 OK\n",
      "Length: 1880483 (1.8M) [application/octet-stream]\n",
      "Saving to: ‘data/10k/uber_2021.pdf’\n",
      "\n",
      "data/10k/uber_2021. 100%[===================>]   1.79M  --.-KB/s    in 0.05s   \n",
      "\n",
      "2024-07-26 13:20:56 (39.4 MB/s) - ‘data/10k/uber_2021.pdf’ saved [1880483/1880483]\n",
      "\n",
      "--2024-07-26 13:20:56--  https://raw.githubusercontent.com/run-llama/llama_index/main/docs/docs/examples/data/10k/lyft_2021.pdf\n",
      "Resolving raw.githubusercontent.com (raw.githubusercontent.com)... 185.199.111.133, 185.199.110.133, 185.199.109.133, ...\n",
      "Connecting to raw.githubusercontent.com (raw.githubusercontent.com)|185.199.111.133|:443... connected.\n",
      "HTTP request sent, awaiting response... 200 OK\n",
      "Length: 1440303 (1.4M) [application/octet-stream]\n",
      "Saving to: ‘data/10k/lyft_2021.pdf’\n",
      "\n",
      "data/10k/lyft_2021. 100%[===================>]   1.37M  --.-KB/s    in 0.05s   \n",
      "\n",
      "2024-07-26 13:20:56 (28.8 MB/s) - ‘data/10k/lyft_2021.pdf’ saved [1440303/1440303]\n",
      "\n"
     ]
    }
   ],
   "source": [
    "!mkdir -p 'data/10k/'\n",
    "!wget 'https://raw.githubusercontent.com/run-llama/llama_index/main/docs/docs/examples/data/10k/uber_2021.pdf' -O 'data/10k/uber_2021.pdf'\n",
    "!wget 'https://raw.githubusercontent.com/run-llama/llama_index/main/docs/docs/examples/data/10k/lyft_2021.pdf' -O 'data/10k/lyft_2021.pdf'"
   ]
  },
  {
   "cell_type": "code",
   "execution_count": 3,
   "id": "1fe13aa4-55f7-4854-b2b7-b3ae02d8df75",
   "metadata": {},
   "outputs": [],
   "source": [
    "from llama_index.core import (\n",
    "    SimpleDirectoryReader,\n",
    "    VectorStoreIndex,\n",
    "    StorageContext,\n",
    "    load_index_from_storage,\n",
    ")\n",
    "\n",
    "from llama_index.core.tools import QueryEngineTool, ToolMetadata"
   ]
  },
  {
   "cell_type": "code",
   "execution_count": 4,
   "id": "dc27a6c2-2840-4705-b832-829a18c8571b",
   "metadata": {},
   "outputs": [],
   "source": [
    "try:\n",
    "    storage_context = StorageContext.from_defaults(persist_dir=\"./storage/lyft\")\n",
    "    lyft_index = load_index_from_storage(storage_context)\n",
    "\n",
    "    storage_context = StorageContext.from_defaults(persist_dir=\"./storage/uber\")\n",
    "    uber_index = load_index_from_storage(storage_context)\n",
    "\n",
    "    index_loaded = True\n",
    "except:\n",
    "    index_loaded = False"
   ]
  },
  {
   "cell_type": "code",
   "execution_count": 5,
   "id": "d17aba20-d21a-45c2-8c0d-4d7c2f52fc7b",
   "metadata": {},
   "outputs": [],
   "source": [
    "if not index_loaded:\n",
    "    # load data\n",
    "    lyft_docs = SimpleDirectoryReader(\n",
    "        input_files=[\"./data/10k/lyft_2021.pdf\"]\n",
    "    ).load_data()\n",
    "    uber_docs = SimpleDirectoryReader(\n",
    "        input_files=[\"./data/10k/uber_2021.pdf\"]\n",
    "    ).load_data()\n",
    "\n",
    "    # build index\n",
    "    lyft_index = VectorStoreIndex.from_documents(lyft_docs)\n",
    "    uber_index = VectorStoreIndex.from_documents(uber_docs)\n",
    "\n",
    "    # persist index\n",
    "    lyft_index.storage_context.persist(persist_dir=\"./storage/lyft\")\n",
    "    uber_index.storage_context.persist(persist_dir=\"./storage/uber\")"
   ]
  },
  {
   "cell_type": "code",
   "execution_count": 6,
   "id": "d2ceb92d-5cb3-415e-aa25-027b5d335ad5",
   "metadata": {},
   "outputs": [],
   "source": [
    "lyft_engine = lyft_index.as_query_engine(similarity_top_k=10)\n",
    "uber_engine = uber_index.as_query_engine(similarity_top_k=10)"
   ]
  },
  {
   "cell_type": "code",
   "execution_count": 7,
   "id": "b1358879-1530-4b4e-9204-0ca2ade4ef56",
   "metadata": {},
   "outputs": [],
   "source": [
    "query_engine_tools = [\n",
    "    QueryEngineTool(\n",
    "        query_engine=lyft_engine,\n",
    "        metadata=ToolMetadata(\n",
    "            name=\"lyft_10k\",\n",
    "            description=(\n",
    "                \"Provides information about Lyft financials for year 2021. \"\n",
    "                \"Use a detailed plain text question as input to the tool.\"\n",
    "            ),\n",
    "        ),\n",
    "    ),\n",
    "    QueryEngineTool(\n",
    "        query_engine=uber_engine,\n",
    "        metadata=ToolMetadata(\n",
    "            name=\"uber_10k\",\n",
    "            description=(\n",
    "                \"Provides information about Uber financials for year 2021. \"\n",
    "                \"Use a detailed plain text question as input to the tool.\"\n",
    "            ),\n",
    "        ),\n",
    "    ),\n",
    "]"
   ]
  },
  {
   "cell_type": "markdown",
   "id": "a8ed9ff6-7195-4213-b8a1-38dc06c3b25d",
   "metadata": {},
   "source": [
    "## Setup Agents\n",
    "\n",
    "Now that we've defined the query tools, we can wrap these under a `ToolService`."
   ]
  },
  {
   "cell_type": "code",
   "execution_count": 9,
   "id": "9adc290c-1650-480f-8cb7-b81a9f1e1b76",
   "metadata": {},
   "outputs": [],
   "source": [
    "from llama_agents import (\n",
    "    AgentService,\n",
    "    ToolService,\n",
    "    LocalLauncher,\n",
    "    MetaServiceTool,\n",
    "    ControlPlaneServer,\n",
    "    SimpleMessageQueue,\n",
    "    AgentOrchestrator,\n",
    ")\n",
    "\n",
    "from llama_index.core.agent import FunctionCallingAgentWorker\n",
    "from llama_index.llms.openai import OpenAI\n",
    "\n",
    "\n",
    "# create our multi-agent framework components\n",
    "message_queue = SimpleMessageQueue()\n",
    "control_plane = ControlPlaneServer(\n",
    "    message_queue=message_queue,\n",
    "    orchestrator=AgentOrchestrator(llm=OpenAI(model=\"gpt-4o-mini\")),\n",
    ")\n",
    "\n",
    "# define Tool Service\n",
    "tool_service = ToolService(\n",
    "    message_queue=message_queue,\n",
    "    tools=query_engine_tools,\n",
    "    running=True,\n",
    "    step_interval=0.5,\n",
    ")\n",
    "\n",
    "# define meta-tools here\n",
    "meta_tools = [\n",
    "    await MetaServiceTool.from_tool_service(\n",
    "        t.metadata.name,\n",
    "        message_queue=message_queue,\n",
    "        tool_service=tool_service,\n",
    "    )\n",
    "    for t in query_engine_tools\n",
    "]\n",
    "\n",
    "\n",
    "# define Agent and agent service\n",
    "worker1 = FunctionCallingAgentWorker.from_tools(\n",
    "    meta_tools,\n",
    "    llm=OpenAI(),\n",
    ")\n",
    "agent1 = worker1.as_agent()\n",
    "agent_server_1 = AgentService(\n",
    "    agent=agent1,\n",
    "    message_queue=message_queue,\n",
    "    description=\"Used to answer questions over Uber and Lyft 10K documents\",\n",
    "    service_name=\"uber_lyft_10k_analyst_agent\",\n",
    ")"
   ]
  },
  {
   "cell_type": "markdown",
   "id": "a19df0c2-7abe-4563-a4d8-3a47c13b65d0",
   "metadata": {},
   "source": [
    "## Launch agent \n",
    "\n",
    "With our services, orchestrator, control plane, and message queue defined, we can test our llama-agents network by passing in single messages, and observing the results.\n",
    "\n",
    "This is an excellent way to test, iterate, and debug your llama-agents system."
   ]
  },
  {
   "cell_type": "code",
   "execution_count": 10,
   "id": "7780a9e7",
   "metadata": {},
   "outputs": [],
   "source": [
    "import logging\n",
    "\n",
    "# change logging level to enable or disable more verbose logging\n",
    "logging.getLogger(\"llama_agents\").setLevel(logging.INFO)"
   ]
  },
  {
   "cell_type": "code",
   "execution_count": 11,
   "id": "7b41c86a-fd43-4f82-85ea-90f1208e810f",
   "metadata": {},
   "outputs": [],
   "source": [
    "## Define Launcher\n",
    "launcher = LocalLauncher(\n",
    "    [agent_server_1, tool_service],\n",
    "    control_plane,\n",
    "    message_queue,\n",
    ")"
   ]
  },
  {
   "cell_type": "code",
   "execution_count": 12,
   "id": "6ddf856b-762c-4608-ac02-c1d5fc75bc63",
   "metadata": {},
   "outputs": [
    {
     "name": "stderr",
     "output_type": "stream",
     "text": [
      "INFO:llama_agents.message_queues.simple - Consumer AgentService-6f47424c-dd55-4f99-896e-ac0fcc53420a: uber_lyft_10k_analyst_agent has been registered.\n",
      "INFO:llama_agents.message_queues.simple - Consumer ToolService-2c286acb-646b-4c83-a728-2964a4705d36: default_tool_service has been registered.\n",
      "INFO:llama_agents.message_queues.simple - Consumer 6dc14556-e3e3-4828-a517-b88dfc4cc256: human has been registered.\n",
      "INFO:llama_agents.message_queues.simple - Consumer ControlPlaneServer-f223f516-894d-413f-b8fd-a71b631ff898: control_plane has been registered.\n",
      "INFO:llama_agents.services.agent - uber_lyft_10k_analyst_agent launch_local\n",
      "INFO:llama_agents.message_queues.base - Publishing message to 'control_plane' with action 'new_task'\n",
      "INFO:llama_agents.message_queues.simple - Launching message queue locally\n",
      "INFO:llama_agents.services.agent - Processing initiated.\n",
      "INFO:llama_agents.services.tool - Processing initiated.\n",
      "INFO:llama_agents.message_queues.base - Publishing message to 'uber_lyft_10k_analyst_agent' with action 'new_task'\n",
      "INFO:llama_agents.message_queues.simple - Successfully published message 'control_plane' to consumer.\n",
      "INFO:llama_agents.services.agent - Created new task: 6c8c0aa7-dfe3-4890-bb4f-6959d4b1be40\n",
      "INFO:llama_agents.message_queues.simple - Successfully published message 'uber_lyft_10k_analyst_agent' to consumer.\n",
      "INFO:llama_agents.message_queues.simple - Consumer MetaServiceTool-7a0cd57b-a3d7-4ec4-bc78-ef9027bc22ee: MetaServiceTool-7a0cd57b-a3d7-4ec4-bc78-ef9027bc22ee has been registered.\n",
      "INFO:llama_agents.message_queues.base - Publishing message to 'default_tool_service' with action 'new_tool_call'\n",
      "INFO:llama_agents.message_queues.simple - Successfully published message 'default_tool_service' to consumer.\n",
      "INFO:llama_agents.services.tool - Processing tool call id 331fe341-0be0-4987-b830-c61ef1a02259 with uber_10k\n",
      "INFO:llama_agents.message_queues.base - Publishing message to 'MetaServiceTool-7a0cd57b-a3d7-4ec4-bc78-ef9027bc22ee' with action 'completed_tool_call'\n",
      "INFO:llama_agents.message_queues.simple - Successfully published message 'MetaServiceTool-7a0cd57b-a3d7-4ec4-bc78-ef9027bc22ee' to consumer.\n",
      "INFO:llama_agents.message_queues.base - Publishing message to 'control_plane' with action 'completed_task'\n",
      "INFO:llama_agents.message_queues.base - Publishing message to 'human' with action 'completed_task'\n",
      "INFO:llama_agents.message_queues.simple - Successfully published message 'control_plane' to consumer.\n",
      "INFO:llama_agents.message_queues.simple - Successfully published message 'human' to consumer.\n"
     ]
    }
   ],
   "source": [
    "# query_str = \"What was Lyft's revenue growth in 2021?\"\n",
    "# gets stuck in a loop, should mostly be called once\n",
    "query_str = \"What are the risk factors for Uber?\"\n",
    "result = launcher.launch_single(query_str)"
   ]
  },
  {
   "cell_type": "code",
   "execution_count": 13,
   "id": "b0b3688f-cad4-450e-81fa-037dd1190260",
   "metadata": {},
   "outputs": [
    {
     "name": "stdout",
     "output_type": "stream",
     "text": [
      "Uber faces several risk factors, including the adverse effects of the COVID-19 pandemic, potential reclassification of drivers as employees, intense competition in mobility and delivery sectors, the need to lower fares and offer incentives, significant historical losses and uncertainty about profitability, risks to brand reputation, challenges in workplace culture and growth management, operational risks related to insurance and regulatory compliance, and potential impacts from pricing regulations and litigation.\n"
     ]
    }
   ],
   "source": [
    "print(result)"
   ]
  },
  {
   "cell_type": "code",
   "execution_count": 14,
   "id": "7bbe1896",
   "metadata": {},
   "outputs": [
    {
     "name": "stderr",
     "output_type": "stream",
     "text": [
      "INFO:llama_agents.message_queues.simple - Consumer AgentService-6f47424c-dd55-4f99-896e-ac0fcc53420a: uber_lyft_10k_analyst_agent has been registered.\n",
      "INFO:llama_agents.message_queues.simple - Consumer ToolService-2c286acb-646b-4c83-a728-2964a4705d36: default_tool_service has been registered.\n",
      "INFO:llama_agents.message_queues.simple - Consumer 16da8d64-d32e-41d3-b1ed-b25c3a860293: human has been registered.\n",
      "INFO:llama_agents.message_queues.simple - Consumer ControlPlaneServer-f223f516-894d-413f-b8fd-a71b631ff898: control_plane has been registered.\n",
      "INFO:llama_agents.services.agent - uber_lyft_10k_analyst_agent launch_local\n",
      "INFO:llama_agents.message_queues.base - Publishing message to 'control_plane' with action 'new_task'\n",
      "INFO:llama_agents.message_queues.simple - Launching message queue locally\n",
      "INFO:llama_agents.services.agent - Processing initiated.\n",
      "INFO:llama_agents.services.tool - Processing initiated.\n",
      "INFO:llama_agents.message_queues.base - Publishing message to 'uber_lyft_10k_analyst_agent' with action 'new_task'\n",
      "INFO:llama_agents.message_queues.simple - Successfully published message 'control_plane' to consumer.\n",
      "INFO:llama_agents.services.agent - Created new task: 74ff4175-5284-4f26-99b7-1f132ec6ea2c\n",
      "INFO:llama_agents.message_queues.simple - Successfully published message 'uber_lyft_10k_analyst_agent' to consumer.\n",
      "INFO:llama_agents.message_queues.simple - Consumer MetaServiceTool-b8df8f7e-19fd-4cd8-a40c-26720432d999: MetaServiceTool-b8df8f7e-19fd-4cd8-a40c-26720432d999 has been registered.\n",
      "INFO:llama_agents.message_queues.base - Publishing message to 'default_tool_service' with action 'new_tool_call'\n",
      "INFO:llama_agents.message_queues.simple - Successfully published message 'default_tool_service' to consumer.\n",
      "INFO:llama_agents.services.tool - Processing tool call id 5894e366-aa93-4228-9692-e5e1edb0b069 with lyft_10k\n",
      "INFO:llama_agents.message_queues.base - Publishing message to 'MetaServiceTool-b8df8f7e-19fd-4cd8-a40c-26720432d999' with action 'completed_tool_call'\n",
      "INFO:llama_agents.message_queues.simple - Successfully published message 'MetaServiceTool-b8df8f7e-19fd-4cd8-a40c-26720432d999' to consumer.\n",
      "INFO:llama_agents.message_queues.base - Publishing message to 'control_plane' with action 'completed_task'\n",
      "INFO:llama_agents.message_queues.base - Publishing message to 'human' with action 'completed_task'\n",
      "INFO:llama_agents.message_queues.simple - Successfully published message 'control_plane' to consumer.\n",
      "INFO:llama_agents.message_queues.simple - Successfully published message 'human' to consumer.\n"
     ]
    }
   ],
   "source": [
    "query_str = \"What was Lyft's revenue growth in 2021?\"\n",
    "result = launcher.launch_single(query_str)"
   ]
  },
  {
   "cell_type": "code",
   "execution_count": 15,
   "id": "2aa57e7f",
   "metadata": {},
   "outputs": [
    {
     "name": "stdout",
     "output_type": "stream",
     "text": [
      "In 2021, Lyft experienced a revenue growth of 36% compared to the previous year.\n"
     ]
    }
   ],
   "source": [
    "print(result)"
   ]
  },
  {
   "cell_type": "code",
   "execution_count": null,
   "id": "dcb49157",
   "metadata": {},
   "outputs": [],
   "source": []
  }
 ],
 "metadata": {
  "kernelspec": {
   "display_name": "Python 3 (ipykernel)",
   "language": "python",
   "name": "python3"
  },
  "language_info": {
   "codemirror_mode": {
    "name": "ipython",
    "version": 3
   },
   "file_extension": ".py",
   "mimetype": "text/x-python",
   "name": "python",
   "nbconvert_exporter": "python",
   "pygments_lexer": "ipython3",
   "version": "3.10.14"
  }
 },
 "nbformat": 4,
 "nbformat_minor": 5
}
