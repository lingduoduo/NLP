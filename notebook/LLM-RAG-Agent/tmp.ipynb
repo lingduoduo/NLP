{
 "cells": [
  {
   "cell_type": "code",
   "execution_count": 2,
   "metadata": {},
   "outputs": [
    {
     "name": "stderr",
     "output_type": "stream",
     "text": [
      "[*********************100%%**********************]  1 of 1 completed"
     ]
    },
    {
     "name": "stdout",
     "output_type": "stream",
     "text": [
      "                 Open       High        Low      Close  Adj Close  Volume\n",
      "Date                                                                     \n",
      "2020-01-02  28.040001  28.040001  27.840000  27.875099  25.968824    3902\n",
      "2020-01-03  27.920000  27.931200  27.889999  27.923201  26.013636    5232\n",
      "2020-01-06  27.959999  27.959999  27.920000  27.920300  26.010939    9924\n",
      "2020-01-07  27.945000  27.966400  27.910000  27.924999  26.015316    3715\n",
      "2020-01-08  27.959999  27.959999  27.879999  27.914801  26.005808    2040\n"
     ]
    },
    {
     "name": "stderr",
     "output_type": "stream",
     "text": [
      "\n"
     ]
    }
   ],
   "source": [
    "import yfinance as yf\n",
    "\n",
    "# Fetching Historical Data\n",
    "data = yf.download(\"CPI\", start=\"2020-01-01\", end=\"2021-01-01\")\n",
    "print(data.head())"
   ]
  },
  {
   "cell_type": "code",
   "execution_count": 3,
   "metadata": {},
   "outputs": [
    {
     "name": "stdout",
     "output_type": "stream",
     "text": [
      "{'phone': '1-888-934-0777', 'longBusinessSummary': 'The underlying index seeks to provide investors with a hedge against the inflation rate by providing diversified exposure to assets expected to benefit directly or indirectly from increases in the prices of goods and services that have exhibited positive correlation to the CPI over long-term historical periods. The fund principally invests in securities included in the underlying index, which is comprised of U.S. Treasury Inflation-Protected Securities (“TIPS”).', 'maxAge': 86400, 'priceHint': 2, 'previousClose': 25.6088, 'open': 25.62, 'dayLow': 25.5801, 'dayHigh': 25.6047, 'regularMarketPreviousClose': 25.6088, 'regularMarketOpen': 25.62, 'regularMarketDayLow': 25.5801, 'regularMarketDayHigh': 25.6047, 'trailingPE': 18.476974, 'volume': 567, 'regularMarketVolume': 567, 'averageVolume': 645, 'averageVolume10days': 641, 'averageDailyVolume10Day': 641, 'ask': 38.41, 'bidSize': 1000, 'askSize': 800, 'yield': 0.026600001, 'totalAssets': 6284238, 'fiftyTwoWeekLow': 24.07, 'fiftyTwoWeekHigh': 25.7997, 'fiftyDayAverage': 25.259226, 'twoHundredDayAverage': 25.262026, 'navPrice': 24.79337, 'currency': 'USD', 'category': 'Inflation-Protected Bond', 'ytdReturn': 0.025747001, 'beta3Year': 0.83, 'fundFamily': 'IndexIQ', 'fundInceptionDate': 1256601600, 'legalType': 'Exchange Traded Fund', 'threeYearAverageReturn': -0.009661, 'fiveYearAverageReturn': -0.0007435, 'exchange': 'PCX', 'quoteType': 'ETF', 'symbol': 'CPI', 'underlyingSymbol': 'CPI', 'shortName': 'IQ Real Return ETF', 'longName': 'IQ Real Return ETF', 'firstTradeDateEpochUtc': 1230820200, 'timeZoneFullName': 'America/New_York', 'timeZoneShortName': 'EDT', 'uuid': '0eb12931-6a29-3ec3-a431-f96e304a6f85', 'messageBoardId': 'finmb_78935397', 'gmtOffSetMilliseconds': -14400000, 'trailingPegRatio': None}\n"
     ]
    }
   ],
   "source": [
    "# Ticker Object\n",
    "CPI= yf.Ticker(\"CPI\")\n",
    "print(CPI.info)"
   ]
  },
  {
   "cell_type": "code",
   "execution_count": 6,
   "metadata": {},
   "outputs": [
    {
     "name": "stderr",
     "output_type": "stream",
     "text": [
      "[*********************100%%**********************]  1 of 1 completed"
     ]
    },
    {
     "name": "stdout",
     "output_type": "stream",
     "text": [
      "                 Open       High        Low      Close  Adj Close  Volume\n",
      "Date                                                                     \n",
      "2023-07-26  25.730000  25.783501  25.730000  25.783501  25.526314    5650\n",
      "2023-07-27  25.740000  25.770000  25.620001  25.654301  25.398401     427\n",
      "2023-07-28  25.781099  25.781099  25.781099  25.781099  25.523935      17\n",
      "2023-07-31  25.799700  25.799700  25.799700  25.799700  25.542353      14\n",
      "2023-08-01  25.702299  25.702299  25.702299  25.702299  25.476700      27\n",
      "...               ...        ...        ...        ...        ...     ...\n",
      "2023-12-07  25.553900  25.553900  25.549999  25.549999  25.549999    1126\n",
      "2023-12-08  25.469999  25.589701  25.469999  25.589701  25.589701     149\n",
      "2023-12-11  25.590000  25.608801  25.590000  25.608801  25.608801     132\n",
      "2023-12-12  25.585110  25.585110  25.585110  25.585110  25.585110       0\n",
      "2023-12-13  25.585850  25.585850  25.585850  25.585850  25.585850       0\n",
      "\n",
      "[99 rows x 6 columns]\n"
     ]
    },
    {
     "name": "stderr",
     "output_type": "stream",
     "text": [
      "\n"
     ]
    }
   ],
   "source": [
    "# Recent Data\n",
    "recent_data = yf.download(\"CPI\", period=\"1y\")\n",
    "print(recent_data)"
   ]
  },
  {
   "cell_type": "code",
   "execution_count": 7,
   "metadata": {},
   "outputs": [
    {
     "name": "stderr",
     "output_type": "stream",
     "text": [
      "[*********************100%%**********************]  2 of 2 completed\n",
      "\n",
      "1 Failed download:\n",
      "['SPX']: YFPricesMissingError('$%ticker%: possibly delisted; No price data found  (1d 2020-01-01 -> 2021-01-01)')\n"
     ]
    },
    {
     "name": "stdout",
     "output_type": "stream",
     "text": [
      "$SPX: possibly delisted; No price data found  (1d 2020-01-01 -> 2021-01-01)\n",
      "Price       Adj Close          Close           High            Low      \\\n",
      "Ticker            CPI SPX        CPI SPX        CPI SPX        CPI SPX   \n",
      "Date                                                                     \n",
      "2020-01-02  25.968824 NaN  27.875099 NaN  28.040001 NaN  27.840000 NaN   \n",
      "2020-01-03  26.013636 NaN  27.923201 NaN  27.931200 NaN  27.889999 NaN   \n",
      "2020-01-06  26.010939 NaN  27.920300 NaN  27.959999 NaN  27.920000 NaN   \n",
      "2020-01-07  26.015316 NaN  27.924999 NaN  27.966400 NaN  27.910000 NaN   \n",
      "2020-01-08  26.005808 NaN  27.914801 NaN  27.959999 NaN  27.879999 NaN   \n",
      "...               ...  ..        ...  ..        ...  ..        ...  ..   \n",
      "2020-12-24  25.642481 NaN  27.524799 NaN  27.524799 NaN  27.524799 NaN   \n",
      "2020-12-28  25.661020 NaN  27.544701 NaN  27.559999 NaN  27.530001 NaN   \n",
      "2020-12-29  25.656460 NaN  27.539801 NaN  27.580000 NaN  27.530001 NaN   \n",
      "2020-12-30  25.660549 NaN  27.274900 NaN  27.279900 NaN  27.270000 NaN   \n",
      "2020-12-31  25.681908 NaN  27.297600 NaN  27.299999 NaN  27.285000 NaN   \n",
      "\n",
      "Price            Open     Volume      \n",
      "Ticker            CPI SPX    CPI SPX  \n",
      "Date                                  \n",
      "2020-01-02  28.040001 NaN   3902 NaN  \n",
      "2020-01-03  27.920000 NaN   5232 NaN  \n",
      "2020-01-06  27.959999 NaN   9924 NaN  \n",
      "2020-01-07  27.945000 NaN   3715 NaN  \n",
      "2020-01-08  27.959999 NaN   2040 NaN  \n",
      "...               ...  ..    ...  ..  \n",
      "2020-12-24  27.524799 NaN      1 NaN  \n",
      "2020-12-28  27.539900 NaN   3921 NaN  \n",
      "2020-12-29  27.570000 NaN    531 NaN  \n",
      "2020-12-30  27.270000 NaN   1839 NaN  \n",
      "2020-12-31  27.287600 NaN   9773 NaN  \n",
      "\n",
      "[253 rows x 12 columns]\n"
     ]
    }
   ],
   "source": [
    "#Fetching Data for Multiple Tickers\n",
    "multi_data = yf.download([\"CPI\", \"SPX\"], start=\"2020-01-01\", end=\"2021-01-01\")\n",
    "print(multi_data)"
   ]
  },
  {
   "cell_type": "code",
   "execution_count": 8,
   "metadata": {},
   "outputs": [
    {
     "name": "stderr",
     "output_type": "stream",
     "text": [
      "[*********************100%%**********************]  1 of 1 completed"
     ]
    },
    {
     "name": "stdout",
     "output_type": "stream",
     "text": [
      "Date\n",
      "2020-01-02    25.968824\n",
      "2020-01-03    26.013636\n",
      "2020-01-06    26.010939\n",
      "2020-01-07    26.015316\n",
      "2020-01-08    26.005808\n",
      "                ...    \n",
      "2020-12-24    25.642481\n",
      "2020-12-28    25.661020\n",
      "2020-12-29    25.656460\n",
      "2020-12-30    25.660549\n",
      "2020-12-31    25.681908\n",
      "Name: Close, Length: 253, dtype: float64\n"
     ]
    },
    {
     "name": "stderr",
     "output_type": "stream",
     "text": [
      "\n"
     ]
    }
   ],
   "source": [
    "# Adjusted Data Retrieval\n",
    "data = yf.download(\"CPI\", start=\"2020-01-01\", end=\"2021-01-01\", auto_adjust=True)\n",
    "print(data['Close'])  # This will show the adjusted close prices"
   ]
  },
  {
   "cell_type": "code",
   "execution_count": 9,
   "metadata": {},
   "outputs": [
    {
     "name": "stderr",
     "output_type": "stream",
     "text": [
      "[*********************100%%**********************]  1 of 1 completed"
     ]
    },
    {
     "name": "stdout",
     "output_type": "stream",
     "text": [
      "                 Open       High        Low      Close  Adj Close  Volume\n",
      "Date                                                                     \n",
      "2020-01-01  27.894501  28.040001  27.840000  27.924999  26.015314   22773\n",
      "2020-01-08  27.959999  27.989901  27.600000  27.959999  26.047920   31848\n",
      "2020-01-15  27.975000  28.076900  27.940001  28.058901  26.140059    7495\n",
      "2020-01-22  28.020100  28.035000  27.915001  27.962999  26.050713    7380\n",
      "2020-01-29  27.962900  28.070000  27.730000  27.895300  25.987644   18441\n",
      "2020-02-05  27.949900  28.070000  27.930000  28.002199  26.087229   16659\n",
      "2020-02-12  28.071400  28.320000  28.049999  28.097799  26.176296    9198\n",
      "2020-02-19  28.200001  28.200001  27.520000  27.786900  25.886656   12332\n",
      "2020-02-26  27.859900  27.859900  27.379999  27.572599  25.687016    1939\n",
      "2020-03-04  27.752399  27.752399  26.370001  26.990000  25.144258   25613\n",
      "2020-03-11  27.045000  27.049999  25.750000  25.947901  24.173426   36109\n",
      "2020-03-18  25.950001  26.139999  25.100000  25.886999  24.116680   63523\n",
      "2020-03-25  26.118900  26.410000  26.010000  26.334499  24.533581   39250\n",
      "2020-04-01  25.559999  26.790001  25.549999  26.455299  24.646120   38680\n",
      "2020-04-08  26.612000  26.828600  26.410000  26.690001  24.864771   58198\n",
      "2020-04-15  26.600000  26.770000  26.180000  26.584801  24.766764   51168\n",
      "2020-04-22  26.730000  26.840000  26.610001  26.770100  24.939394   31636\n",
      "2020-04-29  26.850000  26.860701  26.689400  26.758301  24.928398    6946\n",
      "2020-05-06  26.709999  26.889299  26.709999  26.730400  24.902405   18681\n",
      "2020-05-13  26.639999  26.830000  26.607599  26.796900  24.964357    7453\n",
      "2020-05-20  26.830000  26.975000  26.790001  26.975000  25.130283   24753\n",
      "2020-05-27  27.850000  27.850000  26.969999  27.080200  25.228287   11735\n",
      "2020-06-03  27.209299  27.352699  27.146400  27.330000  25.461002    4386\n",
      "2020-06-10  27.270000  27.270000  27.073099  27.208900  25.348186    2777\n",
      "2020-06-17  27.197300  27.200001  27.144899  27.144899  25.288557   21458\n",
      "2020-06-24  27.065001  27.153500  27.030001  27.153500  25.296574   18098\n",
      "2020-07-01  27.180000  27.285000  27.148701  27.148701  25.292101    5021\n",
      "2020-07-08  27.209999  27.209999  27.000000  27.144800  25.288469    3644\n",
      "2020-07-15  27.150299  27.184000  27.139700  27.160000  25.302626    8547\n",
      "2020-07-22  27.200300  27.240000  27.120001  27.240000  25.377155    3608\n",
      "2020-07-29  27.299999  27.320000  27.240000  27.314501  25.446564   11288\n",
      "2020-08-05  27.299999  27.354200  27.285200  27.285200  25.419266    4990\n",
      "2020-08-12  27.315001  27.315001  26.900000  27.292801  25.426348   60793\n",
      "2020-08-19  27.240000  27.299999  27.190001  27.283300  25.417496    6706\n",
      "2020-08-26  27.219999  27.340000  27.219999  27.315001  25.447029    9595\n",
      "2020-09-02  27.301001  27.340000  27.230000  27.234100  25.371664   10838\n",
      "2020-09-09  27.290800  27.379801  27.219900  27.326700  25.457930    6440\n",
      "2020-09-16  27.379999  27.379999  27.150000  27.210100  25.349306   14570\n",
      "2020-09-23  27.201500  27.259199  27.129999  27.243799  25.380697   11639\n",
      "2020-09-30  27.270000  27.334900  27.249001  27.321100  25.452711   15819\n",
      "2020-10-07  27.315001  27.408400  27.315001  27.364799  25.493422    7935\n",
      "2020-10-14  27.344400  27.360001  27.279900  27.295099  25.428490    2790\n",
      "2020-10-21  27.290001  27.320000  27.000000  27.242201  25.379206   13892\n",
      "2020-10-28  27.160000  27.267000  27.139999  27.264099  25.399611    9951\n",
      "2020-11-04  27.330200  27.430000  27.309999  27.400999  25.527145   22163\n",
      "2020-11-11  27.400000  27.495100  27.396400  27.495100  25.614811   10830\n",
      "2020-11-18  27.490000  27.500999  27.459999  27.480801  25.601490    5283\n",
      "2020-11-25  27.470301  27.530001  27.465000  27.484699  25.605124   15353\n",
      "2020-12-02  27.469999  27.521500  27.469999  27.514900  25.633261    8416\n",
      "2020-12-09  27.485001  27.523800  27.280001  27.514299  25.632698   19705\n",
      "2020-12-16  27.517700  27.549999  27.504900  27.512501  25.631027    7710\n",
      "2020-12-23  27.549999  27.580000  27.518900  27.539801  25.656458    4834\n",
      "2020-12-30  27.270000  27.299999  27.270000  27.297600  25.430822   11612\n"
     ]
    },
    {
     "name": "stderr",
     "output_type": "stream",
     "text": [
      "\n"
     ]
    }
   ],
   "source": [
    "#  Interval-based Data Retrieval\n",
    "weekly_data = yf.download(\"CPI\", start=\"2020-01-01\", end=\"2021-01-01\", interval=\"1wk\")\n",
    "print(weekly_data)"
   ]
  },
  {
   "cell_type": "code",
   "execution_count": 11,
   "metadata": {},
   "outputs": [
    {
     "name": "stdout",
     "output_type": "stream",
     "text": [
      "Date\n",
      "2013-12-27 00:00:00-05:00    0.02695\n",
      "2014-12-29 00:00:00-05:00    0.02527\n",
      "2017-12-28 00:00:00-05:00    0.29413\n",
      "2018-12-27 00:00:00-05:00    0.34780\n",
      "2019-12-30 00:00:00-05:00    0.59288\n",
      "2020-12-30 00:00:00-05:00    0.26925\n",
      "2021-12-29 00:00:00-05:00    0.10572\n",
      "2022-04-01 00:00:00-04:00    0.08957\n",
      "2022-05-02 00:00:00-04:00    0.08218\n",
      "2022-06-01 00:00:00-04:00    0.07763\n",
      "2022-07-01 00:00:00-04:00    0.10472\n",
      "2022-08-01 00:00:00-04:00    0.10045\n",
      "2022-09-01 00:00:00-04:00    0.17430\n",
      "2022-12-29 00:00:00-05:00    0.19939\n",
      "2023-02-01 00:00:00-05:00    0.07143\n",
      "2023-05-01 00:00:00-04:00    0.21230\n",
      "2023-06-01 00:00:00-04:00    0.02730\n",
      "2023-07-03 00:00:00-04:00    0.07217\n",
      "2023-08-01 00:00:00-04:00    0.03117\n",
      "2023-09-01 00:00:00-04:00    0.05516\n",
      "2023-10-02 00:00:00-04:00    0.02831\n",
      "2023-11-01 00:00:00-04:00    0.06709\n",
      "2023-12-01 00:00:00-05:00    0.07246\n",
      "Name: Dividends, dtype: float64 Series([], Name: Stock Splits, dtype: float64)\n"
     ]
    }
   ],
   "source": [
    "# Retrieving Dividends and Splits\n",
    "cpi = yf.Ticker(\"CPI\")\n",
    "dividends = cpi.dividends\n",
    "splits = cpi.splits\n",
    "print(dividends, splits)"
   ]
  },
  {
   "cell_type": "code",
   "execution_count": 15,
   "metadata": {},
   "outputs": [
    {
     "name": "stdout",
     "output_type": "stream",
     "text": [
      "                                 Open        High         Low       Close  \\\n",
      "Date                                                                        \n",
      "2024-07-25 00:00:00-04:00  218.929993  220.850006  214.619995  217.490005   \n",
      "\n",
      "                             Volume  Dividends  Stock Splits  \n",
      "Date                                                          \n",
      "2024-07-25 00:00:00-04:00  51328200        0.0           0.0  \n"
     ]
    }
   ],
   "source": [
    "# Real-time Data\n",
    "apple = yf.Ticker(\"AAPL\")\n",
    "print(apple.history(period=\"1d\"))"
   ]
  },
  {
   "cell_type": "code",
   "execution_count": 16,
   "metadata": {},
   "outputs": [
    {
     "name": "stderr",
     "output_type": "stream",
     "text": [
      "[*********************100%%**********************]  1 of 1 completed"
     ]
    },
    {
     "name": "stdout",
     "output_type": "stream",
     "text": [
      "                 Open       High        Low      Close  Adj Close  Volume\n",
      "Date                                                                     \n",
      "2022-01-03  27.530001  27.541000  27.510000  27.519600  25.989983    3052\n",
      "2022-01-04  27.520000  27.575001  27.520000  27.575001  26.042305    1994\n",
      "2022-01-05  27.549999  27.549999  27.457300  27.457300  25.931143    1715\n",
      "2022-01-06  27.540001  27.540001  27.463600  27.463600  25.937098     357\n",
      "2022-01-07  27.520000  27.520000  27.465000  27.465000  25.938416     640\n",
      "...               ...        ...        ...        ...        ...     ...\n",
      "2022-12-23  24.809999  24.879999  24.809999  24.863001  24.049152     985\n",
      "2022-12-27  24.870001  24.870001  24.870001  24.870001  24.055925     106\n",
      "2022-12-28  24.830099  24.830099  24.733900  24.733900  23.924278     803\n",
      "2022-12-29  24.689899  24.700001  24.668100  24.668100  24.054546    1678\n",
      "2022-12-30  24.520000  24.645000  24.290001  24.645000  24.032022    2007\n",
      "\n",
      "[251 rows x 6 columns]\n"
     ]
    },
    {
     "name": "stderr",
     "output_type": "stream",
     "text": [
      "\n"
     ]
    }
   ],
   "source": [
    "# Data for Specific Dates\n",
    "data = yf.download(\"CPI\", start=\"2022-01-01\", end=\"2022-12-31\")\n",
    "print(data)"
   ]
  },
  {
   "cell_type": "code",
   "execution_count": 18,
   "metadata": {},
   "outputs": [
    {
     "name": "stderr",
     "output_type": "stream",
     "text": [
      "[*********************100%%**********************]  1 of 1 completed\n"
     ]
    },
    {
     "data": {
      "image/png": "[encoded data removed]",
      "text/plain": [
       "<Figure size 640x480 with 1 Axes>"
      ]
     },
     "metadata": {},
     "output_type": "display_data"
    }
   ],
   "source": [
    "# Visualization with yfinance\n",
    "import matplotlib.pyplot as plt\n",
    "\n",
    "data = yf.download(\"CPI\", start=\"2020-01-01\", end=\"2021-01-01\")\n",
    "data['Close'].plot()\n",
    "plt.title(\"CPI\")\n",
    "plt.show()"
   ]
  },
  {
   "cell_type": "code",
   "execution_count": null,
   "metadata": {},
   "outputs": [],
   "source": []
  }
 ],
 "metadata": {
  "kernelspec": {
   "display_name": "llama-index6",
   "language": "python",
   "name": "python3"
  },
  "language_info": {
   "codemirror_mode": {
    "name": "ipython",
    "version": 3
   },
   "file_extension": ".py",
   "mimetype": "text/x-python",
   "name": "python",
   "nbconvert_exporter": "python",
   "pygments_lexer": "ipython3",
   "version": "3.10.14"
  }
 },
 "nbformat": 4,
 "nbformat_minor": 2
}
