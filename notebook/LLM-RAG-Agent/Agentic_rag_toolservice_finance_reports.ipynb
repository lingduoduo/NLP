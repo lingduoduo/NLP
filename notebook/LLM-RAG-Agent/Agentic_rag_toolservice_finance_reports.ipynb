{
 "cells": [
  {
   "cell_type": "markdown",
   "id": "49814a62-0201-4d41-a449-c2c6b4ad2ced",
   "metadata": {},
   "source": [
    "# Build an Agentic RAG Service\n",
    "\n",
    "Setup an agent service that can interact with a tool service (containing RAG tools over annual reports).\n",
    "\n",
    "In this notebook, we:\n",
    "- Setup our indexes and query engine tools\n",
    "- Define our multi-agent framework\n",
    "  - A message queue.\n",
    "  - An agentic orchestrator.\n",
    "  - A tools service containing our query engine tools. This will act as a remote executor for tools\n",
    "  - Define meta-tools for our agents. These will make calls to the tools service instead of executing directly\n",
    "  - Our agent services. These wrap existing llama-index agents\n",
    "  - Put all this into a local launcher, to simulate one task passing through the system at a time."
   ]
  },
  {
   "cell_type": "code",
   "execution_count": 1,
   "id": "e33e5676-8d15-4372-bc32-8d43dd617b80",
   "metadata": {},
   "outputs": [],
   "source": [
    "import nest_asyncio\n",
    "\n",
    "nest_asyncio.apply()\n",
    "\n",
    "import os\n",
    "from openai import OpenAI\n",
    "from dotenv import load_dotenv, find_dotenv\n",
    "\n",
    "_ = load_dotenv(find_dotenv()) # read local .env file\n",
    "openai_api_key = os.getenv('OPENAI_API_KEY')"
   ]
  },
  {
   "cell_type": "markdown",
   "id": "8b4be8b8-3d1c-4a82-98f5-ec94d97a679e",
   "metadata": {},
   "source": [
    "## Load Data"
   ]
  },
  {
   "cell_type": "code",
   "execution_count": 2,
   "id": "383d37e8-3887-4a19-bff3-7b58120f0098",
   "metadata": {},
   "outputs": [],
   "source": [
    "# !mkdir reports\n",
    "# !wget https://www.fiscal.treasury.gov/files/reports-statements/financial-report/2020/executive-summary-2020.pdf -O ./reports/executive_summary_2020.pdf\n",
    "# !wget https://www.fiscal.treasury.gov/files/reports-statements/financial-report/2021/executive-summary-2021.pdf -O ./reports/executive_summary_2021.pdf\n",
    "# !wget https://www.fiscal.treasury.gov/files/reports-statements/financial-report/2022/executive-summary-2022.pdf -O ./reports/executive_summary_2022.pdf\n",
    "# !wget https://www.fiscal.treasury.gov/files/reports-statements/financial-report/2023/executive-summary-2023.pdf -O ./reports/executive_summary_2023.pdf"
   ]
  },
  {
   "cell_type": "code",
   "execution_count": 6,
   "id": "1fe13aa4-55f7-4854-b2b7-b3ae02d8df75",
   "metadata": {},
   "outputs": [],
   "source": [
    "from llama_index.core import SimpleDirectoryReader, VectorStoreIndex, StorageContext, load_index_from_storage\n",
    "from llama_index.core.node_parser import SentenceSplitter\n",
    "from llama_index.core.tools import QueryEngineTool, ToolMetadata"
   ]
  },
  {
   "cell_type": "code",
   "execution_count": 24,
   "id": "d17aba20-d21a-45c2-8c0d-4d7c2f52fc7b",
   "metadata": {},
   "outputs": [
    {
     "name": "stdout",
     "output_type": "stream",
     "text": [
      "Loaded 10 documents from executive_summary_2022.pdf\n",
      "executive_summary_2022\n",
      "Loaded 10 documents from executive_summary_2023.pdf\n",
      "executive_summary_2023\n",
      "Loaded 11 documents from executive_summary_2021.pdf\n",
      "executive_summary_2021\n",
      "Loaded 11 documents from executive_summary_2020.pdf\n",
      "executive_summary_2020\n"
     ]
    }
   ],
   "source": [
    "query_engine_tools = []\n",
    "for filename in os.listdir(\"reports\"):\n",
    "    if filename.endswith(\".pdf\"):\n",
    "        file_path = os.path.join(\"reports\", filename)\n",
    "\n",
    "        # Load data\n",
    "        documents = SimpleDirectoryReader(input_files=[file_path]).load_data()\n",
    "        print(f\"Loaded {len(documents)} documents from {filename}\")\n",
    "        print(filename[:-4])  \n",
    "\n",
    "        # Build index\n",
    "        splitter = SentenceSplitter(chunk_size=512)\n",
    "        nodes = splitter.get_nodes_from_documents(documents)\n",
    "        vector_index = VectorStoreIndex(nodes)\n",
    "\n",
    "        # # Persist index\n",
    "        # persist_dir = f\"./storage/{filename[:-4]}\"\n",
    "        # vector_index.storage_context.persist(persist_dir=persist_dir)\n",
    "        # executive_summaries[int(filename[:-4])] = vector_index\n",
    "\n",
    "        query_engine = vector_index.as_query_engine(similarity_top_k=10)\n",
    "        query_engine_tool = QueryEngineTool(\n",
    "            query_engine=query_engine,\n",
    "            metadata=ToolMetadata(\n",
    "                name=f\"{filename[:-4]}\",  # Construct name without extension\n",
    "                description=(\n",
    "                    f\"Provides information about the U.S. government financial report {filename[:-4]}\"\n",
    "                ),\n",
    "            ),\n",
    "        )\n",
    "        query_engine_tools.append(query_engine_tool)"
   ]
  },
  {
   "cell_type": "code",
   "execution_count": 25,
   "id": "d2ceb92d-5cb3-415e-aa25-027b5d335ad5",
   "metadata": {},
   "outputs": [
    {
     "data": {
      "text/plain": [
       "ToolMetadata(description='Provides information about the U.S. government financial report executive_summary_2023', name='executive_summary_2023', fn_schema=<class 'llama_index.core.tools.types.DefaultToolFnSchema'>, return_direct=False)"
      ]
     },
     "execution_count": 25,
     "metadata": {},
     "output_type": "execute_result"
    }
   ],
   "source": [
    "query_engine_tools[1].metadata"
   ]
  },
  {
   "cell_type": "code",
   "execution_count": null,
   "id": "245b82f6",
   "metadata": {},
   "outputs": [],
   "source": [
    "# executive_summaries = {}\n",
    "# try:\n",
    "#     for i in range(2020, 2024):\n",
    "#         storage_context = StorageContext.from_defaults(persist_dir=f\"./storage/executive_summary_{i}\")\n",
    "#         reader = load_index_from_storage(storage_context)\n",
    "#         executive_summaries[i] = load_index_from_storage(storage_context)\n",
    "#         print(f\"Loaded documents from executive_summary_{i}\")\n",
    "#     index_loaded = True\n",
    "# except Exception as e:\n",
    "#     index_loaded = False\n",
    "\n",
    "# query_engine_tools = []\n",
    "# for i in range(2020, 2024):\n",
    "#     # create query engine\n",
    "#     vector_index = executive_summaries[i]\n",
    "#     query_engine = vector_index.as_query_engine(similarity_top_k=10)\n",
    "#     query_engine_tool = QueryEngineTool(\n",
    "#         query_engine=query_engine,\n",
    "#         metadata=ToolMetadata(\n",
    "#             name=f\"{i}\",  \n",
    "#             description=(\n",
    "#                 f\"Provides information about the U.S. government financial report {i}\"\n",
    "#             ),\n",
    "#         ),\n",
    "#     )\n",
    "#     query_engine_tools.append(query_engine_tool)"
   ]
  },
  {
   "cell_type": "markdown",
   "id": "a8ed9ff6-7195-4213-b8a1-38dc06c3b25d",
   "metadata": {},
   "source": [
    "## Setup Agents\n",
    "\n",
    "Now that we've defined the query tools, we can wrap these under a `ToolService`."
   ]
  },
  {
   "cell_type": "code",
   "execution_count": 30,
   "id": "3956c953",
   "metadata": {},
   "outputs": [],
   "source": [
    "from llama_agents import (\n",
    "    AgentService,\n",
    "    ToolService,\n",
    "    MetaServiceTool,\n",
    "    ControlPlaneServer,\n",
    "    SimpleMessageQueue,\n",
    "    AgentOrchestrator,\n",
    ")\n",
    "\n",
    "from llama_index.core.agent import FunctionCallingAgentWorker\n",
    "from llama_index.llms.openai import OpenAI\n",
    "\n",
    "\n",
    "# create our multi-agent framework components\n",
    "message_queue = SimpleMessageQueue()\n",
    "control_plane = ControlPlaneServer(\n",
    "    message_queue=message_queue,\n",
    "    orchestrator=AgentOrchestrator(llm=OpenAI(model=\"gpt-4o-mini\")),\n",
    ")\n",
    "\n",
    "# define Tool Service\n",
    "tool_service = ToolService(\n",
    "    message_queue=message_queue,\n",
    "    tools=query_engine_tools,\n",
    "    running=True,\n",
    "    step_interval=0.5,\n",
    ")\n",
    "\n",
    "# define meta-tools here\n",
    "meta_tools = [\n",
    "    await MetaServiceTool.from_tool_service(\n",
    "        t.metadata.name,\n",
    "        message_queue=message_queue,\n",
    "        tool_service=tool_service,\n",
    "    )\n",
    "    for t in query_engine_tools\n",
    "]\n",
    "\n",
    "# define agent worker and agent service\n",
    "worker = FunctionCallingAgentWorker.from_tools(\n",
    "    meta_tools,\n",
    "    llm=OpenAI(),\n",
    ")\n",
    "\n",
    "agent = worker.as_agent()\n",
    "agent_server = AgentService(\n",
    "    agent=agent,\n",
    "    message_queue=message_queue,\n",
    "    description=\"Used to answer questions the U.S. government financial report\",\n",
    "    service_name=\"financial_report_agent\",\n",
    ")\n"
   ]
  },
  {
   "cell_type": "markdown",
   "id": "a19df0c2-7abe-4563-a4d8-3a47c13b65d0",
   "metadata": {},
   "source": [
    "## Launch agent \n",
    "\n",
    "With our services, orchestrator, control plane, and message queue defined, we can test our llama-agents network by passing in single messages, and observing the results.\n",
    "\n",
    "This is an excellent way to test, iterate, and debug your llama-agents system."
   ]
  },
  {
   "cell_type": "code",
   "execution_count": 29,
   "id": "7780a9e7",
   "metadata": {},
   "outputs": [],
   "source": [
    "import logging\n",
    "\n",
    "# change logging level to enable or disable more verbose logging\n",
    "logging.getLogger(\"llama_agents\").setLevel(logging.INFO)"
   ]
  },
  {
   "cell_type": "code",
   "execution_count": 31,
   "id": "7b41c86a-fd43-4f82-85ea-90f1208e810f",
   "metadata": {},
   "outputs": [],
   "source": [
    "from llama_agents import LocalLauncher\n",
    "\n",
    "## Define Launcher\n",
    "launcher = LocalLauncher(\n",
    "    [agent_server, tool_service],\n",
    "    control_plane,\n",
    "    message_queue,\n",
    ")"
   ]
  },
  {
   "cell_type": "code",
   "execution_count": 32,
   "id": "6ddf856b-762c-4608-ac02-c1d5fc75bc63",
   "metadata": {},
   "outputs": [
    {
     "name": "stderr",
     "output_type": "stream",
     "text": [
      "INFO:llama_agents.message_queues.simple - Consumer AgentService-a2334ae1-9bd6-4101-bb6b-34d28bad79f4: financial_report_agent has been registered.\n",
      "INFO:llama_agents.message_queues.simple - Consumer ToolService-7cdb43b6-e4d7-4f48-bd6b-5b0d7059a33e: default_tool_service has been registered.\n",
      "INFO:llama_agents.message_queues.simple - Consumer 82df6212-0067-4c8d-ae69-6013b045b3a9: human has been registered.\n",
      "INFO:llama_agents.message_queues.simple - Consumer ControlPlaneServer-78619b8d-0510-49fe-b612-1ea8e8eb9786: control_plane has been registered.\n",
      "INFO:llama_agents.services.agent - financial_report_agent launch_local\n",
      "INFO:llama_agents.message_queues.base - Publishing message to 'control_plane' with action 'new_task'\n",
      "INFO:llama_agents.message_queues.simple - Launching message queue locally\n",
      "INFO:llama_agents.services.agent - Processing initiated.\n",
      "INFO:llama_agents.services.tool - Processing initiated.\n",
      "INFO:llama_agents.message_queues.base - Publishing message to 'financial_report_agent' with action 'new_task'\n",
      "INFO:llama_agents.message_queues.simple - Successfully published message 'control_plane' to consumer.\n",
      "INFO:llama_agents.services.agent - Created new task: 3fbf575a-8257-4ac6-a352-ce78714c9060\n",
      "INFO:llama_agents.message_queues.simple - Successfully published message 'financial_report_agent' to consumer.\n",
      "INFO:llama_agents.message_queues.simple - Consumer MetaServiceTool-b218a143-12e1-4664-a831-ea2e944e3309: MetaServiceTool-b218a143-12e1-4664-a831-ea2e944e3309 has been registered.\n",
      "INFO:llama_agents.message_queues.base - Publishing message to 'default_tool_service' with action 'new_tool_call'\n",
      "INFO:llama_agents.message_queues.simple - Successfully published message 'default_tool_service' to consumer.\n",
      "INFO:llama_agents.services.tool - Processing tool call id fa71e6ae-4157-4a8b-887d-5a506bf0d94d with executive_summary_2020\n",
      "INFO:llama_agents.message_queues.base - Publishing message to 'MetaServiceTool-b218a143-12e1-4664-a831-ea2e944e3309' with action 'completed_tool_call'\n",
      "INFO:llama_agents.message_queues.simple - Successfully published message 'MetaServiceTool-b218a143-12e1-4664-a831-ea2e944e3309' to consumer.\n",
      "INFO:llama_agents.message_queues.base - Publishing message to 'control_plane' with action 'completed_task'\n",
      "INFO:llama_agents.message_queues.base - Publishing message to 'financial_report_agent' with action 'new_task'\n",
      "INFO:llama_agents.message_queues.simple - Successfully published message 'control_plane' to consumer.\n",
      "INFO:llama_agents.services.agent - Created new task: 3fbf575a-8257-4ac6-a352-ce78714c9060\n",
      "INFO:llama_agents.message_queues.simple - Successfully published message 'financial_report_agent' to consumer.\n",
      "INFO:llama_agents.message_queues.base - Publishing message to 'default_tool_service' with action 'new_tool_call'\n",
      "INFO:llama_agents.message_queues.simple - Consumer MetaServiceTool-3672fb20-f472-4b04-ba88-8821916cd07f: MetaServiceTool-3672fb20-f472-4b04-ba88-8821916cd07f has been registered.\n",
      "INFO:llama_agents.message_queues.base - Publishing message to 'default_tool_service' with action 'new_tool_call'\n",
      "INFO:llama_agents.message_queues.simple - Consumer MetaServiceTool-4140636b-29d1-4dcc-82a6-6e254e36084e: MetaServiceTool-4140636b-29d1-4dcc-82a6-6e254e36084e has been registered.\n",
      "INFO:llama_agents.message_queues.base - Publishing message to 'default_tool_service' with action 'new_tool_call'\n",
      "INFO:llama_agents.message_queues.simple - Consumer MetaServiceTool-99e5c5aa-c58e-4867-90af-058f3f8a85b1: MetaServiceTool-99e5c5aa-c58e-4867-90af-058f3f8a85b1 has been registered.\n",
      "INFO:llama_agents.message_queues.base - Publishing message to 'default_tool_service' with action 'new_tool_call'\n",
      "INFO:llama_agents.message_queues.simple - Successfully published message 'default_tool_service' to consumer.\n",
      "INFO:llama_agents.message_queues.simple - Successfully published message 'default_tool_service' to consumer.\n",
      "INFO:llama_agents.services.tool - Processing tool call id 7ad25a30-8b03-4e92-b65d-61b11b783e01 with executive_summary_2020\n",
      "INFO:llama_agents.message_queues.simple - Successfully published message 'default_tool_service' to consumer.\n",
      "INFO:llama_agents.message_queues.simple - Successfully published message 'default_tool_service' to consumer.\n",
      "INFO:llama_agents.message_queues.base - Publishing message to 'MetaServiceTool-b218a143-12e1-4664-a831-ea2e944e3309' with action 'completed_tool_call'\n",
      "INFO:llama_agents.services.tool - Processing tool call id fe47e0eb-450c-4378-89c1-1c915dc20c4f with executive_summary_2021\n",
      "INFO:llama_agents.message_queues.simple - Successfully published message 'MetaServiceTool-b218a143-12e1-4664-a831-ea2e944e3309' to consumer.\n",
      "INFO:llama_agents.message_queues.base - Publishing message to 'MetaServiceTool-3672fb20-f472-4b04-ba88-8821916cd07f' with action 'completed_tool_call'\n",
      "INFO:llama_agents.message_queues.simple - Successfully published message 'MetaServiceTool-3672fb20-f472-4b04-ba88-8821916cd07f' to consumer.\n",
      "INFO:llama_agents.services.tool - Processing tool call id 4512c297-c890-4412-bef4-3e604a7dbd72 with executive_summary_2022\n",
      "INFO:llama_agents.message_queues.base - Publishing message to 'MetaServiceTool-4140636b-29d1-4dcc-82a6-6e254e36084e' with action 'completed_tool_call'\n",
      "INFO:llama_agents.services.tool - Processing tool call id c75776e3-7653-4e32-8679-e3bee003a1fb with executive_summary_2023\n",
      "INFO:llama_agents.message_queues.simple - Successfully published message 'MetaServiceTool-4140636b-29d1-4dcc-82a6-6e254e36084e' to consumer.\n",
      "INFO:llama_agents.message_queues.base - Publishing message to 'MetaServiceTool-99e5c5aa-c58e-4867-90af-058f3f8a85b1' with action 'completed_tool_call'\n",
      "INFO:llama_agents.message_queues.simple - Successfully published message 'MetaServiceTool-99e5c5aa-c58e-4867-90af-058f3f8a85b1' to consumer.\n",
      "INFO:llama_agents.message_queues.base - Publishing message to 'control_plane' with action 'completed_task'\n",
      "INFO:llama_agents.message_queues.base - Publishing message to 'human' with action 'completed_task'\n",
      "INFO:llama_agents.message_queues.simple - Successfully published message 'control_plane' to consumer.\n",
      "INFO:llama_agents.message_queues.simple - Successfully published message 'human' to consumer.\n"
     ]
    }
   ],
   "source": [
    "# What is the U.S. government's net operating cost?\n",
    "# What are the total revenues reported by the U.S. government?\n",
    "# What are the total assets reported by the U.S. government?\n",
    "# What is the total national debt reported by the U.S. government?\n",
    "query_str = \"What is the U.S. government's net operating cost from 2020 to 2023?\"\n",
    "result = launcher.launch_single(query_str)"
   ]
  },
  {
   "cell_type": "code",
   "execution_count": 33,
   "id": "b0b3688f-cad4-450e-81fa-037dd1190260",
   "metadata": {},
   "outputs": [
    {
     "name": "stdout",
     "output_type": "stream",
     "text": [
      "From 2020 to 2023, the U.S. government's net operating costs were as follows:\n",
      "\n",
      "- 2020: $3.8 trillion\n",
      "- 2021: $3.1 trillion (a decrease of $746.5 billion or 19.4%)\n",
      "- 2022: $4.2 trillion (an increase of $1.1 trillion)\n",
      "- 2023: $3.4 trillion\n",
      "\n",
      "This shows a significant fluctuation in net operating costs over these years.\n"
     ]
    }
   ],
   "source": [
    "print(result)"
   ]
  },
  {
   "cell_type": "code",
   "execution_count": 34,
   "id": "7bbe1896",
   "metadata": {},
   "outputs": [
    {
     "name": "stderr",
     "output_type": "stream",
     "text": [
      "INFO:llama_agents.message_queues.simple - Consumer AgentService-a2334ae1-9bd6-4101-bb6b-34d28bad79f4: financial_report_agent has been registered.\n",
      "INFO:llama_agents.message_queues.simple - Consumer ToolService-7cdb43b6-e4d7-4f48-bd6b-5b0d7059a33e: default_tool_service has been registered.\n",
      "INFO:llama_agents.message_queues.simple - Consumer eef8f14f-4b16-4986-bd9b-4ce7130251d5: human has been registered.\n",
      "INFO:llama_agents.message_queues.simple - Consumer ControlPlaneServer-78619b8d-0510-49fe-b612-1ea8e8eb9786: control_plane has been registered.\n",
      "INFO:llama_agents.services.agent - financial_report_agent launch_local\n",
      "INFO:llama_agents.message_queues.base - Publishing message to 'control_plane' with action 'new_task'\n",
      "INFO:llama_agents.message_queues.simple - Launching message queue locally\n",
      "INFO:llama_agents.services.agent - Processing initiated.\n",
      "INFO:llama_agents.services.tool - Processing initiated.\n",
      "INFO:llama_agents.message_queues.base - Publishing message to 'financial_report_agent' with action 'new_task'\n",
      "INFO:llama_agents.message_queues.simple - Successfully published message 'control_plane' to consumer.\n",
      "INFO:llama_agents.services.agent - Created new task: b5e8ce21-3616-4f5c-ac75-319505634efa\n",
      "INFO:llama_agents.message_queues.simple - Successfully published message 'financial_report_agent' to consumer.\n",
      "INFO:llama_agents.message_queues.base - Publishing message to 'default_tool_service' with action 'new_tool_call'\n",
      "INFO:llama_agents.message_queues.simple - Successfully published message 'default_tool_service' to consumer.\n",
      "INFO:llama_agents.services.tool - Processing tool call id cd9ea2b1-18e0-42cb-bf99-4dbfe9dd4add with executive_summary_2020\n",
      "INFO:llama_agents.message_queues.base - Publishing message to 'MetaServiceTool-b218a143-12e1-4664-a831-ea2e944e3309' with action 'completed_tool_call'\n",
      "INFO:llama_agents.message_queues.simple - Successfully published message 'MetaServiceTool-b218a143-12e1-4664-a831-ea2e944e3309' to consumer.\n",
      "INFO:llama_agents.message_queues.base - Publishing message to 'control_plane' with action 'completed_task'\n",
      "INFO:llama_agents.message_queues.base - Publishing message to 'human' with action 'completed_task'\n",
      "INFO:llama_agents.message_queues.simple - Successfully published message 'control_plane' to consumer.\n",
      "INFO:llama_agents.message_queues.simple - Successfully published message 'human' to consumer.\n"
     ]
    }
   ],
   "source": [
    "query_str = \"Compare and contrast the anual net operating cost from 2020 to 2023, then give an analysis\"\n",
    "result = launcher.launch_single(query_str)"
   ]
  },
  {
   "cell_type": "code",
   "execution_count": 35,
   "id": "2aa57e7f",
   "metadata": {},
   "outputs": [
    {
     "name": "stdout",
     "output_type": "stream",
     "text": [
      "The U.S. government's annual net operating costs from 2020 to 2023 are as follows: \n",
      "\n",
      "- 2020: $3.8 trillion (an increase of $2.4 trillion from the previous year)\n",
      "- 2021: $3.1 trillion (a decrease of $746.5 billion, or 19.4%)\n",
      "- 2022: $4.2 trillion (an increase of $1.1 trillion)\n",
      "- 2023: $3.4 trillion\n",
      "\n",
      "### Analysis:\n",
      "1. **2020**: The net operating cost was significantly high at $3.8 trillion, largely due to the economic impact of the COVID-19 pandemic, which led to increased government spending on relief measures.\n",
      "2. **2021**: There was a notable decrease to $3.1 trillion, indicating a reduction in spending as the economy began to recover and pandemic-related expenses decreased.\n",
      "3. **2022**: The costs surged again to $4.2 trillion, possibly due to inflationary pressures and ongoing recovery efforts, as well as increased spending in various sectors.\n",
      "4. **2023**: The net operating cost decreased to $3.4 trillion, suggesting a stabilization in spending and a potential return to more sustainable fiscal policies.\n",
      "\n",
      "### Conclusion:\n",
      "Overall, the annual net operating costs show a trend of volatility influenced by external factors such as the pandemic and economic recovery efforts. The fluctuations highlight the challenges in managing government finances in response to unforeseen events.\n"
     ]
    }
   ],
   "source": [
    "print(result)"
   ]
  },
  {
   "cell_type": "code",
   "execution_count": null,
   "id": "dcb49157",
   "metadata": {},
   "outputs": [],
   "source": []
  }
 ],
 "metadata": {
  "kernelspec": {
   "display_name": "Python 3 (ipykernel)",
   "language": "python",
   "name": "python3"
  },
  "language_info": {
   "codemirror_mode": {
    "name": "ipython",
    "version": 3
   },
   "file_extension": ".py",
   "mimetype": "text/x-python",
   "name": "python",
   "nbconvert_exporter": "python",
   "pygments_lexer": "ipython3",
   "version": "3.10.14"
  }
 },
 "nbformat": 4,
 "nbformat_minor": 5
}
