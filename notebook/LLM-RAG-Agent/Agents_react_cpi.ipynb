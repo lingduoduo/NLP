{
 "cells": [
  {
   "cell_type": "markdown",
   "metadata": {
    "id": "w6qrv-94BOkI"
   },
   "source": [
    "# ReActAgent\n",
    "\n",
    "Data Agents are LLM-powered knowledge workers in LlamaIndex that can intelligently perform various tasks over your data, in both a “read” and “write” function. They are capable of the following:\n",
    "\n",
    "- Perform automated search and retrieval over different types of data - unstructured, semi-structured, and structured.\n",
    "\n",
    "- Calling any external service API in a structured fashion, and processing the response + storing it for later.\n",
    "\n",
    "In that sense, agents are a step beyond our query engines in that they can not only “read” from a static source of data, but can dynamically ingest and modify data from a variety of different tools.\n",
    "\n",
    "ReAct, short for Reasoning and Acting, was first introduced in the paper [ReAct: Synergizing Reasoning and Acting in Language Models](https://arxiv.org/pdf/2210.03629.pdf).  \n",
    "\n",
    "ReAct Agent, introduced by LlamaIndex, is an agent-based chat mode built on top of a query engine over your data. ReAct Agent is one of LlamaIndex’s main chat engines. For each chat interaction, the agent enters a reasoning and acting loop:\n",
    "\n",
    "- First, decide whether to use the query engine tool and which query engine tool to use to come up with appropriate input.\n",
    "- Query with the query engine tool and observe its output.\n",
    "- Based on the output, decide whether to repeat the process or give a final response.\n",
    "\n",
    "We will use ReAct agent to analyze the U.S. government’s financial reports for fiscal years 2020, 2021, 2022, and 2023.\n",
    "\n",
    "LlamaIndex notebook: https://docs.llamaindex.ai/en/stable/examples/chat_engine/chat_engine_react.html."
   ]
  },
  {
   "cell_type": "markdown",
   "metadata": {
    "id": "UoeYplhDnnYo"
   },
   "source": [
    "## Step 1: Setup the Query Tools"
   ]
  },
  {
   "cell_type": "code",
   "execution_count": 12,
   "metadata": {
    "colab": {
     "base_uri": "https://localhost:8080/"
    },
    "id": "x-AxXhasiV5F",
    "outputId": "c5bc2af1-86fc-4284-eb90-56a6acafaed2"
   },
   "outputs": [],
   "source": [
    "import os\n",
    "from openai import OpenAI\n",
    "from dotenv import load_dotenv, find_dotenv\n",
    "\n",
    "_ = load_dotenv(find_dotenv()) # read local .env file\n",
    "openai_api_key = os.getenv('OPENAI_API_KEY')"
   ]
  },
  {
   "cell_type": "markdown",
   "metadata": {
    "id": "N9Ee1I-gt8AG"
   },
   "source": [
    "Be sure to save the files with file name containing underscore, not dash, otherwise, ReAct agent chat completion won't work."
   ]
  },
  {
   "cell_type": "code",
   "execution_count": 2,
   "metadata": {
    "colab": {
     "base_uri": "https://localhost:8080/"
    },
    "id": "_FzMb8MqJt2D",
    "outputId": "043dca07-5578-4fa4-b6ce-43cdbfffaa94"
   },
   "outputs": [],
   "source": [
    "# !mkdir reports\n",
    "# !wget https://www.fiscal.treasury.gov/files/reports-statements/financial-report/2020/executive-summary-2020.pdf -O ./reports/executive_summary_2020.pdf\n",
    "# !wget https://www.fiscal.treasury.gov/files/reports-statements/financial-report/2021/executive-summary-2021.pdf -O ./reports/executive_summary_2021.pdf\n",
    "# !wget https://www.fiscal.treasury.gov/files/reports-statements/financial-report/2022/executive-summary-2022.pdf -O ./reports/executive_summary_2022.pdf\n",
    "# !wget https://www.fiscal.treasury.gov/files/reports-statements/financial-report/2023/executive-summary-2023.pdf -O ./reports/executive_summary_2023.pdf\n",
    "\n",
    "# !wget https://www.bls.gov/news.release/archives/cpi_07112024.pdf\n",
    "# !wget https://www.bls.gov/news.release/archives/cpi_06122024.pdf\n",
    "# !wget https://www.bls.gov/news.release/archives/cpi_05152024.pdf\n",
    "# !wget https://www.bls.gov/news.release/archives/cpi_04102024.pdf\n",
    "# !wget https://www.bls.gov/news.release/archives/cpi_03122024.pdf\n",
    "# !wget https://www.bls.gov/news.release/archives/cpi_02132024.pddf\n"
   ]
  },
  {
   "cell_type": "code",
   "execution_count": 3,
   "metadata": {},
   "outputs": [],
   "source": [
    "from llama_index.core import SimpleDirectoryReader\n",
    "\n",
    "# load documents\n",
    "documents = SimpleDirectoryReader(input_files=[\"202406.pdf\"]).load_data()"
   ]
  },
  {
   "cell_type": "code",
   "execution_count": 4,
   "metadata": {},
   "outputs": [],
   "source": [
    "from llama_index.core.node_parser import SentenceSplitter\n",
    "\n",
    "splitter = SentenceSplitter(chunk_size=1024)\n",
    "nodes = splitter.get_nodes_from_documents(documents)"
   ]
  },
  {
   "cell_type": "code",
   "execution_count": 5,
   "metadata": {},
   "outputs": [
    {
     "name": "stdout",
     "output_type": "stream",
     "text": [
      "page_label: 1\n",
      "file_name: 202406.pdf\n",
      "file_path: 202406.pdf\n",
      "file_type: application/pdf\n",
      "file_size: 525632\n",
      "creation_date: 2024-07-26\n",
      "last_modified_date: 2024-07-26\n",
      "\n",
      "Transmission of material in this release is embargoed until                                         USDL -24-1325 \n",
      "8:30 a.m. ( ET) Thursday , July 11, 2024      \n",
      "  \n",
      "Technical information: (202) 691- 7000  •  cpi_info @bls.gov  •  www.bls.gov/cpi  \n",
      "Media c ontact:              (202) 691- 5902  •  PressOffice@bls.gov   \n",
      " \n",
      "CONSUMER  PRICE  INDEX  – JUNE  2024  \n",
      " \n",
      "(NOTE: This news release was reissued on July 11, 2024. BLS inadvertently published an index \n",
      "value and related 1 -month and 12 -month percent changes for inpatient hospital services for June \n",
      "2024 that did not meet publication criteria.  These data have been removed from tables 2, 6, and 7 \n",
      "of the news release. These data were not published in the database. )  \n",
      " \n",
      "The Consumer Price Index for All Urban Consumers (CPI- U) declined 0.1 percent  on a seasonally \n",
      "adjusted basis , after being unchanged in May, the U.S. Bureau of Labor Statistics reported today. Over \n",
      "the last 12 months, the all items index increased 3.0 per cent before seasonal adjustment . \n",
      " The index for  gasoline  fell 3.8 percent  in June , after declining 3.6 percent in May, more than offsetting \n",
      "an increase in shelter . The energy index fell 2.0 percent over the month, as it did the preceding month. \n",
      "The index for food increased 0.2 percent in June . The food away from home index rose 0.4 percent over \n",
      "the month, while the food at home index increased 0.1 percent .  \n",
      " The index for all items less food and energy rose 0.1 percent in June , after rising 0. 2 percent the  \n",
      "preceding month. Indexes  which increased  in June  include shelter , motor vehicle insurance, household \n",
      "furnishings and operations, medical care , and personal care . The indexes for airline fares, used cars and \n",
      "trucks, and communication were among those that de creased over the month.  \n",
      " The all items index rose  3.0 percent for the 12 months ending June, a smaller  increase than the 3.3-\n",
      "percent increase for the 12 months ending May . The all item s less food and energy index rose  3.3 \n",
      "percent  over the last 12 months  and was the smallest 12 -month increase in that index since April 2021. \n",
      "The energy index in creased  1.0 pe rcent  for the 12 months ending June . The food index increased 2. 2 \n",
      "percent over the last year .\n"
     ]
    }
   ],
   "source": [
    "print(nodes[0].get_content(metadata_mode=\"all\"))"
   ]
  },
  {
   "cell_type": "code",
   "execution_count": 6,
   "metadata": {},
   "outputs": [],
   "source": [
    "from llama_index.core import VectorStoreIndex\n",
    "\n",
    "vector_index = VectorStoreIndex(nodes)\n",
    "\n",
    "query_engine = vector_index.as_query_engine(similarity_top_k=10)"
   ]
  },
  {
   "cell_type": "code",
   "execution_count": 6,
   "metadata": {},
   "outputs": [],
   "source": [
    "# What is the U.S. government's net operating cost?\n",
    "# What are the total revenues reported by the U.S. government?\n",
    "# What are the total assets reported by the U.S. government?\n",
    "# What is the total national debt reported by the U.S. government?\n",
    "# response = query_engine.query(\n",
    "#     \"What is the U.S. government's net operating cost?\" \n",
    "# )\n",
    "# print(response)"
   ]
  },
  {
   "cell_type": "code",
   "execution_count": 7,
   "metadata": {},
   "outputs": [],
   "source": [
    "def vector_query(query: str) -> str:\n",
    "    query_engine = vector_index.as_query_engine(similarity_top_k=10)\n",
    "    response = query_engine.query(query)\n",
    "    return response.response"
   ]
  },
  {
   "cell_type": "code",
   "execution_count": 8,
   "metadata": {},
   "outputs": [
    {
     "data": {
      "text/plain": [
       "'The overall CPI for the current period is 3.0 percent.'"
      ]
     },
     "execution_count": 8,
     "metadata": {},
     "output_type": "execute_result"
    }
   ],
   "source": [
    "vector_query(\"What is the overall CPI for the current period?\")"
   ]
  },
  {
   "cell_type": "code",
   "execution_count": 9,
   "metadata": {},
   "outputs": [
    {
     "data": {
      "text/plain": [
       "'Food, housing, and transportation were the categories that contributed significantly to the change in CPI.'"
      ]
     },
     "execution_count": 9,
     "metadata": {},
     "output_type": "execute_result"
    }
   ],
   "source": [
    "vector_query(\"Which categories (e.g., food, energy, housing) contributed most to the change in CPI?\")"
   ]
  },
  {
   "cell_type": "code",
   "execution_count": 10,
   "metadata": {},
   "outputs": [
    {
     "name": "stdout",
     "output_type": "stream",
     "text": [
      "=== Calling Function ===\n",
      "Calling function: vector_tool with args: {\"query\": \"categories contributing to change in Consumer Price Index (CPI)\"}\n",
      "=== Function Output ===\n",
      "Categories contributing to change in Consumer Price Index (CPI) include housing, education and communication, pets and pet products, food and beverages, household energy, medical care, transportation, and other goods and services.\n"
     ]
    }
   ],
   "source": [
    "from llama_index.llms.openai import OpenAI\n",
    "from llama_index.core.tools import FunctionTool\n",
    "\n",
    "vector_query_tool = FunctionTool.from_defaults(\n",
    "    name=\"vector_tool\",\n",
    "    fn=vector_query\n",
    ")\n",
    "\n",
    "llm = OpenAI(model=\"gpt-4o-mini\", temperature=0)\n",
    "response = llm.predict_and_call(\n",
    "    [vector_query_tool], \n",
    "    \"Which categories (e.g., food, energy, housing) contributed most to the change in CPI?\", \n",
    "    verbose=True\n",
    ")"
   ]
  },
  {
   "cell_type": "markdown",
   "metadata": {},
   "source": [
    "## Multi-Document Agent"
   ]
  },
  {
   "cell_type": "code",
   "execution_count": 13,
   "metadata": {},
   "outputs": [
    {
     "name": "stdout",
     "output_type": "stream",
     "text": [
      "Loaded 38 documents from 202406.pdf\n",
      "202406\n"
     ]
    }
   ],
   "source": [
    "from llama_index.core import SimpleDirectoryReader, VectorStoreIndex\n",
    "from llama_index.core.tools import QueryEngineTool, ToolMetadata\n",
    "\n",
    "\n",
    "query_engine_tools = []\n",
    "for filename in os.listdir(\"cpi\"):\n",
    "    if filename.endswith(\".pdf\"):\n",
    "        file_path = os.path.join(\"cpi\", filename)\n",
    "\n",
    "        with open(file_path, \"r\") as file:\n",
    "            documents = SimpleDirectoryReader(input_files=[file_path]).load_data()\n",
    "            print(f\"Loaded {len(documents)} documents from {filename}\")\n",
    "            print(filename[:-4]) # print name without extension\n",
    "\n",
    "            index = VectorStoreIndex.from_documents(documents)\n",
    "            splitter = SentenceSplitter(chunk_size=512)\n",
    "            nodes = splitter.get_nodes_from_documents(documents)\n",
    "            vector_index = VectorStoreIndex(nodes)\n",
    "            query_engine = vector_index.as_query_engine(similarity_top_k=10)\n",
    "            \n",
    "            query_engine_tool = QueryEngineTool(\n",
    "                query_engine=query_engine,\n",
    "                metadata=ToolMetadata(\n",
    "                    name=f\"{filename[:-4]}\",  # Construct name without extension\n",
    "                    description=(\n",
    "                        f\"Consumer Price Index (CPI) in 2024 {filename}\"\n",
    "                    ),\n",
    "                ),\n",
    "            )\n",
    "            query_engine_tools.append(query_engine_tool)"
   ]
  },
  {
   "cell_type": "code",
   "execution_count": 15,
   "metadata": {},
   "outputs": [
    {
     "data": {
      "text/plain": [
       "ToolMetadata(description='Consumer Price Index (CPI) in 2024 202406.pdf', name='202406', fn_schema=<class 'llama_index.core.tools.types.DefaultToolFnSchema'>, return_direct=False)"
      ]
     },
     "execution_count": 15,
     "metadata": {},
     "output_type": "execute_result"
    }
   ],
   "source": [
    "query_engine_tools[0].metadata"
   ]
  },
  {
   "cell_type": "code",
   "execution_count": 16,
   "metadata": {},
   "outputs": [],
   "source": [
    "from llama_index.core.agent import FunctionCallingAgentWorker\n",
    "from llama_index.core.agent import AgentRunner\n",
    "\n",
    "agent_worker = FunctionCallingAgentWorker.from_tools(\n",
    "    query_engine_tools, \n",
    "    llm=llm, \n",
    "    verbose=True\n",
    ")\n",
    "agent = AgentRunner(agent_worker)"
   ]
  },
  {
   "cell_type": "code",
   "execution_count": 17,
   "metadata": {},
   "outputs": [
    {
     "name": "stdout",
     "output_type": "stream",
     "text": [
      "Added user message to memory: Which categories (e.g., food, energy, housing) contributed most to the change in CPI?\n",
      "=== Calling Function ===\n",
      "Calling function: 202406 with args: {\"input\": \"categories contributing to change in CPI\"}\n",
      "=== Function Output ===\n",
      "Categories contributing to the change in CPI include Household furnishings and operations, Other goods and services, Personal care, New and used motor vehicles, Utilities and public transportation, Other services, Apparel less footwear, Fuels and utilities, Household energy, Medical care, Transportation, and Food and beverages.\n",
      "=== LLM Response ===\n",
      "The categories that contributed most to the change in the Consumer Price Index (CPI) include:\n",
      "\n",
      "1. Household furnishings and operations\n",
      "2. Other goods and services\n",
      "3. Personal care\n",
      "4. New and used motor vehicles\n",
      "5. Utilities and public transportation\n",
      "6. Other services\n",
      "7. Apparel less footwear\n",
      "8. Fuels and utilities\n",
      "9. Household energy\n",
      "10. Medical care\n",
      "11. Transportation\n",
      "12. Food and beverages\n",
      "\n",
      "These categories reflect the various sectors that influenced the overall change in CPI.\n"
     ]
    }
   ],
   "source": [
    "response = agent.query(\"Which categories (e.g., food, energy, housing) contributed most to the change in CPI?\")"
   ]
  },
  {
   "cell_type": "markdown",
   "metadata": {},
   "source": [
    "### ReAct Agent"
   ]
  },
  {
   "cell_type": "code",
   "execution_count": 19,
   "metadata": {
    "colab": {
     "base_uri": "https://localhost:8080/"
    },
    "id": "AigYso6fjEow",
    "outputId": "1f35d8d5-1238-400c-b63f-965cad6375c0"
   },
   "outputs": [],
   "source": [
    "from llama_index.core.agent import ReActAgent\n",
    "from llama_index.llms.openai import OpenAI\n",
    "\n",
    "llm = OpenAI(model=\"gpt-4o-mini\")\n",
    "\n",
    "react_agent = ReActAgent.from_tools(query_engine_tools, llm=llm, verbose=True)"
   ]
  },
  {
   "cell_type": "code",
   "execution_count": 20,
   "metadata": {},
   "outputs": [
    {
     "name": "stdout",
     "output_type": "stream",
     "text": [
      "> Running step 2d0f6bd6-2024-4d0a-b4f7-c7032616211e. Step input: Which categories (e.g., food, energy, housing) contributed most to the change in CPI?\n",
      "\u001b[1;3;38;5;200mThought: The current language of the user is: English. I need to use a tool to help me answer the question.\n",
      "Action: 202406\n",
      "Action Input: {'input': 'Which categories contributed most to the change in CPI?'}\n",
      "\u001b[0m\u001b[1;3;34mObservation: Categories that contributed most to the change in CPI include domestically produced farm food, other goods and services, personal care, utilities and public transportation, and medical care.\n",
      "\u001b[0m> Running step 0df8f22d-a8ff-415d-bac1-8e6735d52bc0. Step input: None\n",
      "\u001b[1;3;38;5;200mThought: I can answer without using any more tools. I'll use the user's language to answer.\n",
      "Answer: The categories that contributed most to the change in CPI include domestically produced farm food, other goods and services, personal care, utilities and public transportation, and medical care.\n",
      "\u001b[0mThe categories that contributed most to the change in CPI include domestically produced farm food, other goods and services, personal care, utilities and public transportation, and medical care.\n"
     ]
    }
   ],
   "source": [
    "response = react_agent.chat(\"Which categories (e.g., food, energy, housing) contributed most to the change in CPI?\")\n",
    "print(response)"
   ]
  },
  {
   "cell_type": "code",
   "execution_count": 21,
   "metadata": {},
   "outputs": [
    {
     "name": "stdout",
     "output_type": "stream",
     "text": [
      "> Running step 5e6277dd-06b2-476b-bc61-89126615a736. Step input: Compare and contrast the food, energy, housing cost, then give an analysis\n",
      "\u001b[1;3;38;5;200mThought: The user is asking for a comparison and analysis of the costs related to food, energy, and housing. I need to gather specific data on these categories from the CPI document to provide a detailed comparison and analysis.\n",
      "Action: tool\n",
      "Action Input: {'input': 'Compare and contrast the costs of food, energy, and housing in the CPI data.'}\n",
      "\u001b[0m\u001b[1;3;34mObservation: Error: No such tool named `tool`.\n",
      "\u001b[0m> Running step 88c8228b-5a65-4e3e-90ac-9f961559f29f. Step input: None\n",
      "\u001b[1;3;38;5;200mThought: I need to use the available tool to gather information on the costs of food, energy, and housing from the CPI data.\n",
      "Action: 202406\n",
      "Action Input: {'input': 'Compare and contrast the costs of food, energy, and housing in the CPI data.'}\n",
      "\u001b[0m\u001b[1;3;34mObservation: Food costs have shown a slight increase over the period, with food at home experiencing a 2.2% rise. On the other hand, energy costs have also increased, as seen in the 3.1% rise in the category \"All items less energy.\" Housing costs, specifically related to shelter, have also seen an increase, with a 5.2% rise in the \"Shelter\" category.\n",
      "\u001b[0m> Running step 16644313-cc7a-4539-9aa4-29db8506e066. Step input: None\n",
      "\u001b[1;3;38;5;200mThought: I have gathered the necessary information regarding the changes in costs for food, energy, and housing. Now, I can provide a comparison and analysis based on these findings.\n",
      " \n",
      "Food costs have shown a slight increase of 2.2%, primarily in the \"food at home\" category. Energy costs have risen by 3.1%, which is notable but less than the increase in housing costs. Housing costs, particularly in the \"Shelter\" category, have experienced the most significant rise at 5.2%. \n",
      "\n",
      "In summary, while all three categories have seen increases, housing costs have risen the most, indicating a stronger inflationary pressure in that area compared to food and energy. This could suggest that consumers are facing greater challenges in affording housing, which may impact their overall financial stability and spending habits.\n",
      "Answer: In summary, food costs increased by 2.2%, energy costs by 3.1%, and housing costs by 5.2%. Housing costs have risen the most, indicating stronger inflationary pressure in that area compared to food and energy.\n",
      "\u001b[0mIn summary, food costs increased by 2.2%, energy costs by 3.1%, and housing costs by 5.2%. Housing costs have risen the most, indicating stronger inflationary pressure in that area compared to food and energy.\n"
     ]
    }
   ],
   "source": [
    "response = react_agent.chat(\"Compare and contrast the food, energy, housing cost, then give an analysis\")\n",
    "print(str(response))"
   ]
  },
  {
   "cell_type": "code",
   "execution_count": 23,
   "metadata": {
    "id": "oJX0r9npkO-T"
   },
   "outputs": [],
   "source": [
    "llm_instruct = OpenAI(model=\"gpt-3.5-turbo-instruct\")\n",
    "\n",
    "react_agent = ReActAgent.from_tools(query_engine_tools, llm=llm_instruct, verbose=True)"
   ]
  },
  {
   "cell_type": "code",
   "execution_count": 24,
   "metadata": {},
   "outputs": [
    {
     "name": "stdout",
     "output_type": "stream",
     "text": [
      "> Running step f9c434a0-d616-4a38-8578-8b8d3df0b799. Step input: Compare and contrast the food, energy, housing cost, then give an analysis\n",
      "\u001b[1;3;34mObservation: Error: Could not parse output. Please follow the thought-action-input format. Try again.\n",
      "\u001b[0m> Running step b733e4b7-93fa-4bad-a556-926206e0a168. Step input: None\n",
      "\u001b[1;3;34mObservation: Error: Could not parse output. Please follow the thought-action-input format. Try again.\n",
      "\u001b[0m> Running step 9e189b3f-2ddf-4b5e-ad0a-cfd03604b2d5. Step input: None\n",
      "\u001b[1;3;34mObservation: Error: Could not parse output. Please follow the thought-action-input format. Try again.\n",
      "\u001b[0m> Running step cae19237-6516-4fea-bc71-6d94bb91d34c. Step input: None\n",
      "\u001b[1;3;34mObservation: Error: Could not parse output. Please follow the thought-action-input format. Try again.\n",
      "\u001b[0m> Running step edd6692f-ad54-4d7f-86e8-0f89afa2a789. Step input: None\n",
      "\u001b[1;3;38;5;200mThought: I cannot answer the question with the provided tools.\n",
      "Answer: I am sorry, I am not able to answer this question as it requires a more complex analysis and comparison of multiple factors. I suggest seeking the help of a financial advisor or conducting your own research for a more accurate and personalized answer.\n",
      "\u001b[0mI am sorry, I am not able to answer this question as it requires a more complex analysis and comparison of multiple factors. I suggest seeking the help of a financial advisor or conducting your own research for a more accurate and personalized answer.\n"
     ]
    }
   ],
   "source": [
    "response = react_agent.chat(\"Compare and contrast the food, energy, housing cost, then give an analysis\")\n",
    "print(str(response))"
   ]
  },
  {
   "cell_type": "code",
   "execution_count": null,
   "metadata": {},
   "outputs": [],
   "source": []
  }
 ],
 "metadata": {
  "colab": {
   "include_colab_link": true,
   "provenance": []
  },
  "kernelspec": {
   "display_name": "Python 3 (ipykernel)",
   "language": "python",
   "name": "python3"
  },
  "language_info": {
   "codemirror_mode": {
    "name": "ipython",
    "version": 3
   },
   "file_extension": ".py",
   "mimetype": "text/x-python",
   "name": "python",
   "nbconvert_exporter": "python",
   "pygments_lexer": "ipython3",
   "version": "3.10.14"
  }
 },
 "nbformat": 4,
 "nbformat_minor": 4
}
