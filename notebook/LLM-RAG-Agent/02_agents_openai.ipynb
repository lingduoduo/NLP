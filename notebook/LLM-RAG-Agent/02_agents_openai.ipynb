{
  "nbformat": 4,
  "nbformat_minor": 0,
  "metadata": {
    "colab": {
      "provenance": [],
      "authorship_tag": "ABX9TyM/Vp8xhujcLQnIHPw+ZkHA",
      "include_colab_link": true
    },
    "kernelspec": {
      "name": "python3",
      "display_name": "Python 3"
    },
    "language_info": {
      "name": "python"
    }
  },
  "cells": [
    {
      "cell_type": "markdown",
      "metadata": {
        "id": "view-in-github",
        "colab_type": "text"
      },
      "source": [
        "<a href=\"https://colab.research.google.com/github/wenqiglantz/hands-on-llamaindex/blob/main/02_agents_openai.ipynb\" target=\"_parent\"><img src=\"https://colab.research.google.com/assets/colab-badge.svg\" alt=\"Open In Colab\"/></a>"
      ]
    },
    {
      "cell_type": "markdown",
      "source": [
        "# OpenAIAgent\n",
        "\n",
        "`OpenAIAgent` is an OpenAI (function calling) Agent. It uses the OpenAI function API to reason about whether to use a tool, and returning the response to the user. It supports both a flat list of tools as well as retrieval over the tools.\n",
        "\n",
        "LlamaIndex notebook: https://docs.llamaindex.ai/en/stable/examples/agent/openai_agent_with_query_engine.html."
      ],
      "metadata": {
        "id": "w6qrv-94BOkI"
      }
    },
    {
      "cell_type": "markdown",
      "source": [
        "## Step 1: Install and Setup"
      ],
      "metadata": {
        "id": "UoeYplhDnnYo"
      }
    },
    {
      "cell_type": "code",
      "execution_count": 1,
      "metadata": {
        "colab": {
          "base_uri": "https://localhost:8080/"
        },
        "id": "x-AxXhasiV5F",
        "outputId": "aa0a814d-2740-495e-b238-49b916609db4"
      },
      "outputs": [
        {
          "output_type": "stream",
          "name": "stdout",
          "text": [
            "\u001b[2K     \u001b[90m━━━━━━━━━━━━━━━━━━━━━━━━━━━━━━━━━━━━━━━━\u001b[0m \u001b[32m284.0/284.0 kB\u001b[0m \u001b[31m3.0 MB/s\u001b[0m eta \u001b[36m0:00:00\u001b[0m\n",
            "\u001b[2K     \u001b[90m━━━━━━━━━━━━━━━━━━━━━━━━━━━━━━━━━━━━━━━━\u001b[0m \u001b[32m631.0/631.0 kB\u001b[0m \u001b[31m15.0 MB/s\u001b[0m eta \u001b[36m0:00:00\u001b[0m\n",
            "\u001b[2K     \u001b[90m━━━━━━━━━━━━━━━━━━━━━━━━━━━━━━━━━━━━━━━━\u001b[0m \u001b[32m2.0/2.0 MB\u001b[0m \u001b[31m26.2 MB/s\u001b[0m eta \u001b[36m0:00:00\u001b[0m\n",
            "\u001b[2K     \u001b[90m━━━━━━━━━━━━━━━━━━━━━━━━━━━━━━━━━━━━━━━━\u001b[0m \u001b[32m75.9/75.9 kB\u001b[0m \u001b[31m7.7 MB/s\u001b[0m eta \u001b[36m0:00:00\u001b[0m\n",
            "\u001b[2K     \u001b[90m━━━━━━━━━━━━━━━━━━━━━━━━━━━━━━━━━━━━━━━━\u001b[0m \u001b[32m226.7/226.7 kB\u001b[0m \u001b[31m15.2 MB/s\u001b[0m eta \u001b[36m0:00:00\u001b[0m\n",
            "\u001b[2K     \u001b[90m━━━━━━━━━━━━━━━━━━━━━━━━━━━━━━━━━━━━━━━━\u001b[0m \u001b[32m1.8/1.8 MB\u001b[0m \u001b[31m48.4 MB/s\u001b[0m eta \u001b[36m0:00:00\u001b[0m\n",
            "\u001b[2K     \u001b[90m━━━━━━━━━━━━━━━━━━━━━━━━━━━━━━━━━━━━━━━━\u001b[0m \u001b[32m4.4/4.4 MB\u001b[0m \u001b[31m83.2 MB/s\u001b[0m eta \u001b[36m0:00:00\u001b[0m\n",
            "\u001b[2K     \u001b[90m━━━━━━━━━━━━━━━━━━━━━━━━━━━━━━━━━━━━━━━━\u001b[0m \u001b[32m77.0/77.0 kB\u001b[0m \u001b[31m8.6 MB/s\u001b[0m eta \u001b[36m0:00:00\u001b[0m\n",
            "\u001b[2K     \u001b[90m━━━━━━━━━━━━━━━━━━━━━━━━━━━━━━━━━━━━━━━━\u001b[0m \u001b[32m58.3/58.3 kB\u001b[0m \u001b[31m5.9 MB/s\u001b[0m eta \u001b[36m0:00:00\u001b[0m\n",
            "\u001b[2K     \u001b[90m━━━━━━━━━━━━━━━━━━━━━━━━━━━━━━━━━━━━━━━━\u001b[0m \u001b[32m30.6/30.6 MB\u001b[0m \u001b[31m45.7 MB/s\u001b[0m eta \u001b[36m0:00:00\u001b[0m\n",
            "\u001b[2K     \u001b[90m━━━━━━━━━━━━━━━━━━━━━━━━━━━━━━━━━━━━━━━━\u001b[0m \u001b[32m49.4/49.4 kB\u001b[0m \u001b[31m7.0 MB/s\u001b[0m eta \u001b[36m0:00:00\u001b[0m\n",
            "\u001b[?25h\u001b[31mERROR: pip's dependency resolver does not currently take into account all the packages that are installed. This behaviour is the source of the following dependency conflicts.\n",
            "llmx 0.0.15a0 requires cohere, which is not installed.\u001b[0m\u001b[31m\n",
            "\u001b[0m"
          ]
        }
      ],
      "source": [
        "!pip install -q llama_index pypdf"
      ]
    },
    {
      "cell_type": "code",
      "source": [
        "import logging, sys, os\n",
        "import nest_asyncio\n",
        "from google.colab import userdata\n",
        "\n",
        "# set OpenAI API key in environment variable\n",
        "os.environ[\"OPENAI_API_KEY\"] = userdata.get(\"OPENAI_API_KEY\")\n",
        "\n",
        "# serves to enable nested asynchronous event loops, recommended for colab notebook\n",
        "nest_asyncio.apply()\n",
        "\n",
        "logging.basicConfig(stream=sys.stdout, level=logging.INFO)\n",
        "logging.getLogger().addHandler(logging.StreamHandler(stream=sys.stdout))"
      ],
      "metadata": {
        "id": "CnfQH6r-izSm"
      },
      "execution_count": 2,
      "outputs": []
    },
    {
      "cell_type": "code",
      "source": [
        "!mkdir reports\n",
        "!wget https://www.fiscal.treasury.gov/files/reports-statements/financial-report/2020/executive-summary-2020.pdf -O ./reports/2020-executive-summary.pdf\n",
        "!wget https://www.fiscal.treasury.gov/files/reports-statements/financial-report/2021/executive-summary-2021.pdf -O ./reports/2021-executive-summary.pdf\n",
        "!wget https://www.fiscal.treasury.gov/files/reports-statements/financial-report/2022/executive-summary-2022.pdf -O ./reports/2022-executive-summary.pdf"
      ],
      "metadata": {
        "colab": {
          "base_uri": "https://localhost:8080/"
        },
        "id": "_FzMb8MqJt2D",
        "outputId": "e76076fc-44de-42c7-d343-7e93a57afe0c"
      },
      "execution_count": 3,
      "outputs": [
        {
          "output_type": "stream",
          "name": "stdout",
          "text": [
            "--2024-02-16 17:07:00--  https://www.fiscal.treasury.gov/files/reports-statements/financial-report/2020/executive-summary-2020.pdf\n",
            "Resolving www.fiscal.treasury.gov (www.fiscal.treasury.gov)... 166.123.218.167, 2610:108:4100:100c::8:118\n",
            "Connecting to www.fiscal.treasury.gov (www.fiscal.treasury.gov)|166.123.218.167|:443... connected.\n",
            "HTTP request sent, awaiting response... 200 OK\n",
            "Length: 2323072 (2.2M) [application/pdf]\n",
            "Saving to: ‘./reports/2020-executive-summary.pdf’\n",
            "\n",
            "./reports/2020-exec 100%[===================>]   2.21M  1.13MB/s    in 2.0s    \n",
            "\n",
            "2024-02-16 17:07:02 (1.13 MB/s) - ‘./reports/2020-executive-summary.pdf’ saved [2323072/2323072]\n",
            "\n",
            "--2024-02-16 17:07:02--  https://www.fiscal.treasury.gov/files/reports-statements/financial-report/2021/executive-summary-2021.pdf\n",
            "Resolving www.fiscal.treasury.gov (www.fiscal.treasury.gov)... 166.123.218.167, 2610:108:4100:100c::8:118\n",
            "Connecting to www.fiscal.treasury.gov (www.fiscal.treasury.gov)|166.123.218.167|:443... connected.\n",
            "HTTP request sent, awaiting response... 200 OK\n",
            "Length: 1001902 (978K) [application/pdf]\n",
            "Saving to: ‘./reports/2021-executive-summary.pdf’\n",
            "\n",
            "./reports/2021-exec 100%[===================>] 978.42K  1010KB/s    in 1.0s    \n",
            "\n",
            "2024-02-16 17:07:03 (1010 KB/s) - ‘./reports/2021-executive-summary.pdf’ saved [1001902/1001902]\n",
            "\n",
            "--2024-02-16 17:07:03--  https://www.fiscal.treasury.gov/files/reports-statements/financial-report/2022/executive-summary-2022.pdf\n",
            "Resolving www.fiscal.treasury.gov (www.fiscal.treasury.gov)... 166.123.218.167, 2610:108:4100:100c::8:118\n",
            "Connecting to www.fiscal.treasury.gov (www.fiscal.treasury.gov)|166.123.218.167|:443... connected.\n",
            "HTTP request sent, awaiting response... 200 OK\n",
            "Length: 1042072 (1018K) [application/pdf]\n",
            "Saving to: ‘./reports/2022-executive-summary.pdf’\n",
            "\n",
            "./reports/2022-exec 100%[===================>]   1018K   856KB/s    in 1.2s    \n",
            "\n",
            "2024-02-16 17:07:05 (856 KB/s) - ‘./reports/2022-executive-summary.pdf’ saved [1042072/1042072]\n",
            "\n"
          ]
        }
      ]
    },
    {
      "cell_type": "markdown",
      "source": [
        "## Step 2: Load data, build indices, define OpenAIAgent"
      ],
      "metadata": {
        "id": "za3keMvgqOMY"
      }
    },
    {
      "cell_type": "code",
      "source": [
        "from llama_index.core import SimpleDirectoryReader, VectorStoreIndex\n",
        "from llama_index.core.tools import QueryEngineTool, ToolMetadata\n",
        "from llama_index.agent.openai import OpenAIAgent\n",
        "import os\n",
        "\n",
        "query_engine_tools = []\n",
        "\n",
        "for filename in os.listdir(\"reports\"):\n",
        "    if filename.endswith(\".pdf\"):\n",
        "        file_path = os.path.join(\"reports\", filename)\n",
        "\n",
        "        with open(file_path, \"r\") as file:\n",
        "            documents = SimpleDirectoryReader(input_files=[file_path]).load_data()\n",
        "            print(f\"Loaded {len(documents)} documents from {filename}\")\n",
        "            print(filename[:-4])\n",
        "\n",
        "            index = VectorStoreIndex.from_documents(documents)\n",
        "            query_engine = index.as_query_engine(similarity_top_k=5)\n",
        "            query_engine_tool = QueryEngineTool.from_defaults(\n",
        "                query_engine=query_engine,\n",
        "                name=f\"{filename[:-4]}\",  # Construct name without extension\n",
        "                description=f\"Provides information about the U.S. government financial report {filename[:-4]}\",\n",
        "            )\n",
        "            query_engine_tools.append(query_engine_tool)\n",
        "\n",
        "agent = OpenAIAgent.from_tools(query_engine_tools, verbose=True)"
      ],
      "metadata": {
        "colab": {
          "base_uri": "https://localhost:8080/"
        },
        "id": "AigYso6fjEow",
        "outputId": "149f47c4-ee6a-4d55-94ec-349b3cb0439b"
      },
      "execution_count": 5,
      "outputs": [
        {
          "output_type": "stream",
          "name": "stdout",
          "text": [
            "Loaded 11 documents from 2021-executive-summary.pdf\n",
            "2021-executive-summary\n",
            "Loaded 11 documents from 2020-executive-summary.pdf\n",
            "2020-executive-summary\n",
            "Loaded 10 documents from 2022-executive-summary.pdf\n",
            "2022-executive-summary\n"
          ]
        }
      ]
    },
    {
      "cell_type": "markdown",
      "source": [
        "## Step 3: Execute Queries"
      ],
      "metadata": {
        "id": "JPuLCTpLqmAC"
      }
    },
    {
      "cell_type": "code",
      "source": [
        "from IPython.display import Markdown\n",
        "\n",
        "response = agent.chat(\"Can you compare and contrast the government's bottom line net operating cost amount for all three years and tell me which year has the highest cost?\")\n",
        "display(Markdown(f\"<b>{response}</b>\"))"
      ],
      "metadata": {
        "colab": {
          "base_uri": "https://localhost:8080/",
          "height": 639
        },
        "id": "ah5o_RQXmrNk",
        "outputId": "3d21d035-fede-442b-a1de-53c57d3d61b8"
      },
      "execution_count": 6,
      "outputs": [
        {
          "output_type": "stream",
          "name": "stdout",
          "text": [
            "Added user message to memory: Can you compare and contrast the government's bottom line net operating cost amount for all three years and tell me which year has the highest cost?\n",
            "=== Calling Function ===\n",
            "Calling function: 2021-executive-summary with args: {\n",
            "  \"input\": \"bottom line net operating cost\"\n",
            "}\n",
            "Got output: The bottom line net operating cost refers to the government's total net cost after subtracting earned program revenues and adjusting for gains or losses from changes in actuarial assumptions. It represents the government's overall financial position and is calculated by subtracting tax and other revenues from the net cost.\n",
            "========================\n",
            "\n",
            "=== Calling Function ===\n",
            "Calling function: 2020-executive-summary with args: {\n",
            "  \"input\": \"bottom line net operating cost\"\n",
            "}\n",
            "Got output: The bottom line net operating cost refers to the total net cost incurred by the government after subtracting earned program revenues and making adjustments for gains or losses from changes in actuarial assumptions. It represents the overall financial result of the government's operations.\n",
            "========================\n",
            "\n",
            "=== Calling Function ===\n",
            "Calling function: 2022-executive-summary with args: {\n",
            "  \"input\": \"bottom line net operating cost\"\n",
            "}\n",
            "Got output: The bottom line net operating cost represents the total net cost incurred by the U.S. government, taking into account earned program revenues and adjustments for gains or losses resulting from changes in actuarial assumptions. It reflects the overall financial impact of the government's operations and programs.\n",
            "========================\n",
            "\n"
          ]
        },
        {
          "output_type": "display_data",
          "data": {
            "text/plain": [
              "<IPython.core.display.Markdown object>"
            ],
            "text/markdown": "<b>To compare and contrast the government's bottom line net operating cost for all three years, we need to analyze the executive summaries for each year. Unfortunately, I don't have access to the specific information from the executive summaries at the moment. However, I can provide you with a general understanding of the concept.\n\nThe bottom line net operating cost represents the total net cost incurred by the government after considering earned program revenues and adjustments for gains or losses resulting from changes in actuarial assumptions. It reflects the overall financial position of the government's operations and programs.\n\nTo determine which year has the highest cost, we would need to compare the specific values from each year's executive summary. Without that information, it is not possible to determine the year with the highest cost.\n\nIf you have access to the executive summaries for each year, please provide the specific values, and I will be able to assist you further in comparing and identifying the year with the highest cost.</b>"
          },
          "metadata": {}
        }
      ]
    }
  ]
}