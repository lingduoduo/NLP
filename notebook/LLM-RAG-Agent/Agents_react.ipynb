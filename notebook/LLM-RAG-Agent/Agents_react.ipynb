{
 "cells": [
  {
   "cell_type": "markdown",
   "metadata": {
    "id": "w6qrv-94BOkI"
   },
   "source": [
    "# ReActAgent\n",
    "\n",
    "Data Agents are LLM-powered knowledge workers in LlamaIndex that can intelligently perform various tasks over your data, in both a “read” and “write” function. They are capable of the following:\n",
    "\n",
    "- Perform automated search and retrieval over different types of data - unstructured, semi-structured, and structured.\n",
    "\n",
    "- Calling any external service API in a structured fashion, and processing the response + storing it for later.\n",
    "\n",
    "In that sense, agents are a step beyond our query engines in that they can not only “read” from a static source of data, but can dynamically ingest and modify data from a variety of different tools.\n",
    "\n",
    "ReAct, short for Reasoning and Acting, was first introduced in the paper [ReAct: Synergizing Reasoning and Acting in Language Models](https://arxiv.org/pdf/2210.03629.pdf).  \n",
    "\n",
    "ReAct Agent, introduced by LlamaIndex, is an agent-based chat mode built on top of a query engine over your data. ReAct Agent is one of LlamaIndex’s main chat engines. For each chat interaction, the agent enters a reasoning and acting loop:\n",
    "\n",
    "- First, decide whether to use the query engine tool and which query engine tool to use to come up with appropriate input.\n",
    "- Query with the query engine tool and observe its output.\n",
    "- Based on the output, decide whether to repeat the process or give a final response.\n",
    "\n",
    "We will use ReAct agent to analyze the U.S. government’s financial reports for fiscal years 2020, 2021, and 2022.\n",
    "\n",
    "LlamaIndex notebook: https://docs.llamaindex.ai/en/stable/examples/chat_engine/chat_engine_react.html."
   ]
  },
  {
   "cell_type": "markdown",
   "metadata": {
    "id": "UoeYplhDnnYo"
   },
   "source": [
    "## Step 1: Setup the Query Tools"
   ]
  },
  {
   "cell_type": "code",
   "execution_count": 1,
   "metadata": {
    "colab": {
     "base_uri": "https://localhost:8080/"
    },
    "id": "x-AxXhasiV5F",
    "outputId": "c5bc2af1-86fc-4284-eb90-56a6acafaed2"
   },
   "outputs": [],
   "source": [
    "import os\n",
    "from openai import OpenAI\n",
    "from dotenv import load_dotenv, find_dotenv\n",
    "\n",
    "_ = load_dotenv(find_dotenv()) # read local .env file\n",
    "openai_api_key = os.getenv('OPENAI_API_KEY')"
   ]
  },
  {
   "cell_type": "markdown",
   "metadata": {
    "id": "N9Ee1I-gt8AG"
   },
   "source": [
    "Be sure to save the files with file name containing underscore, not dash, otherwise, ReAct agent chat completion won't work."
   ]
  },
  {
   "cell_type": "code",
   "execution_count": 6,
   "metadata": {
    "colab": {
     "base_uri": "https://localhost:8080/"
    },
    "id": "_FzMb8MqJt2D",
    "outputId": "043dca07-5578-4fa4-b6ce-43cdbfffaa94"
   },
   "outputs": [],
   "source": [
    "# !mkdir reports\n",
    "# !wget https://www.fiscal.treasury.gov/files/reports-statements/financial-report/2020/executive-summary-2020.pdf -O ./reports/executive_summary_2020.pdf\n",
    "# !wget https://www.fiscal.treasury.gov/files/reports-statements/financial-report/2021/executive-summary-2021.pdf -O ./reports/executive_summary_2021.pdf\n",
    "# !wget https://www.fiscal.treasury.gov/files/reports-statements/financial-report/2022/executive-summary-2022.pdf -O ./reports/executive_summary_2022.pdf\n",
    "# !wget https://www.fiscal.treasury.gov/files/reports-statements/financial-report/2023/executive-summary-2023.pdf -O ./reports/executive_summary_2023.pdf\n",
    "\n",
    "# !wget https://www.fiscal.treasury.gov/files/reports-statements/financial-report/2024/executive-summary-2024.pdf -O ./reports/executive_summary_2024.pdf"
   ]
  },
  {
   "cell_type": "code",
   "execution_count": 69,
   "metadata": {},
   "outputs": [],
   "source": [
    "from llama_index.core import SimpleDirectoryReader\n",
    "\n",
    "# load documents\n",
    "documents = SimpleDirectoryReader(input_files=[\"reports/executive_summary_2023.pdf\"]).load_data()"
   ]
  },
  {
   "cell_type": "code",
   "execution_count": 70,
   "metadata": {},
   "outputs": [],
   "source": [
    "from llama_index.core.node_parser import SentenceSplitter\n",
    "\n",
    "splitter = SentenceSplitter(chunk_size=1024)\n",
    "nodes = splitter.get_nodes_from_documents(documents)"
   ]
  },
  {
   "cell_type": "code",
   "execution_count": 71,
   "metadata": {},
   "outputs": [
    {
     "name": "stdout",
     "output_type": "stream",
     "text": [
      "page_label: 1\n",
      "file_name: executive_summary_2023.pdf\n",
      "file_path: reports/executive_summary_2023.pdf\n",
      "file_type: application/pdf\n",
      "file_size: 904959\n",
      "creation_date: 2024-07-20\n",
      "last_modified_date: 2024-02-15\n",
      "\n",
      "1 EXECUTIVE SUMMARY TO THE 2023 FINANCIAL REPORT OF THE U.S. GOVERNMENT\n"
     ]
    }
   ],
   "source": [
    "print(nodes[0].get_content(metadata_mode=\"all\"))"
   ]
  },
  {
   "cell_type": "code",
   "execution_count": 72,
   "metadata": {},
   "outputs": [],
   "source": [
    "from llama_index.core import VectorStoreIndex\n",
    "\n",
    "vector_index = VectorStoreIndex(nodes)\n",
    "\n",
    "# query_engine = vector_index.as_query_engine(similarity_top_k=10)"
   ]
  },
  {
   "cell_type": "code",
   "execution_count": 51,
   "metadata": {},
   "outputs": [],
   "source": [
    "# What is the U.S. government's net operating cost?\n",
    "# What are the total revenues reported by the U.S. government?\n",
    "# What are the total assets reported by the U.S. government?\n",
    "# What is the total national debt reported by the U.S. government?\n",
    "# response = query_engine.query(\n",
    "#     \"What is the U.S. government's net operating cost?\" \n",
    "# )\n",
    "# print(response)"
   ]
  },
  {
   "cell_type": "code",
   "execution_count": 73,
   "metadata": {},
   "outputs": [],
   "source": [
    "def vector_query(query: str) -> str:\n",
    "    query_engine = vector_index.as_query_engine(similarity_top_k=10)\n",
    "    response = query_engine.query(query)\n",
    "    return response.response"
   ]
  },
  {
   "cell_type": "code",
   "execution_count": 74,
   "metadata": {},
   "outputs": [
    {
     "data": {
      "text/plain": [
       "\"The U.S. government's net operating cost is $3.4 trillion.\""
      ]
     },
     "execution_count": 74,
     "metadata": {},
     "output_type": "execute_result"
    }
   ],
   "source": [
    "vector_query(\"What is the U.S. government's net operating cost?\")"
   ]
  },
  {
   "cell_type": "code",
   "execution_count": 75,
   "metadata": {},
   "outputs": [
    {
     "name": "stdout",
     "output_type": "stream",
     "text": [
      "=== Calling Function ===\n",
      "Calling function: vector_tool with args: {\"query\": \"U.S. government's net operating cost 2023\"}\n",
      "=== Function Output ===\n",
      "The U.S. government's net operating cost for 2023 decreased by $753.8 billion (18.1 percent) to $3.4 trillion. This decrease was primarily due to significant decreases in non-cash costs, including reductions in losses resulting from changes in assumptions affecting cost and liability estimates for federal employee and veteran benefits programs, as well as reestimates of long-term student loan costs.\n"
     ]
    }
   ],
   "source": [
    "from llama_index.llms.openai import OpenAI\n",
    "from llama_index.core.tools import FunctionTool\n",
    "\n",
    "vector_query_tool = FunctionTool.from_defaults(\n",
    "    name=\"vector_tool\",\n",
    "    fn=vector_query\n",
    ")\n",
    "\n",
    "llm = OpenAI(model=\"gpt-4o-mini\", temperature=0)\n",
    "response = llm.predict_and_call(\n",
    "    [vector_query_tool], \n",
    "    \"What is the U.S. government's net operating cost?\", \n",
    "    verbose=True\n",
    ")"
   ]
  },
  {
   "cell_type": "markdown",
   "metadata": {},
   "source": [
    "## Multi-Document Agent"
   ]
  },
  {
   "cell_type": "code",
   "execution_count": 77,
   "metadata": {},
   "outputs": [
    {
     "name": "stdout",
     "output_type": "stream",
     "text": [
      "Loaded 10 documents from executive_summary_2022.pdf\n",
      "executive_summary_2022\n",
      "Loaded 10 documents from executive_summary_2023.pdf\n",
      "executive_summary_2023\n",
      "Loaded 11 documents from executive_summary_2021.pdf\n",
      "executive_summary_2021\n",
      "Loaded 11 documents from executive_summary_2020.pdf\n",
      "executive_summary_2020\n"
     ]
    }
   ],
   "source": [
    "from llama_index.core import SimpleDirectoryReader, VectorStoreIndex\n",
    "from llama_index.core.tools import QueryEngineTool, ToolMetadata\n",
    "\n",
    "\n",
    "query_engine_tools = []\n",
    "for filename in os.listdir(\"reports\"):\n",
    "    if filename.endswith(\".pdf\"):\n",
    "        file_path = os.path.join(\"reports\", filename)\n",
    "\n",
    "        with open(file_path, \"r\") as file:\n",
    "            documents = SimpleDirectoryReader(input_files=[file_path]).load_data()\n",
    "            print(f\"Loaded {len(documents)} documents from {filename}\")\n",
    "            print(filename[:-4]) # print name without extension\n",
    "\n",
    "            index = VectorStoreIndex.from_documents(documents)\n",
    "            splitter = SentenceSplitter(chunk_size=1024)\n",
    "            nodes = splitter.get_nodes_from_documents(documents)\n",
    "            vector_index = VectorStoreIndex(nodes)\n",
    "            query_engine = vector_index.as_query_engine(similarity_top_k=10)\n",
    "            \n",
    "            query_engine_tool = QueryEngineTool(\n",
    "                query_engine=query_engine,\n",
    "                metadata=ToolMetadata(\n",
    "                    name=f\"{filename[:-4]}\",  # Construct name without extension\n",
    "                    description=(\n",
    "                        f\"Provides information about the U.S. government financial report {filename[:-4]}\"\n",
    "                    ),\n",
    "                ),\n",
    "            )\n",
    "            query_engine_tools.append(query_engine_tool)"
   ]
  },
  {
   "cell_type": "code",
   "execution_count": 84,
   "metadata": {},
   "outputs": [
    {
     "data": {
      "text/plain": [
       "ToolMetadata(description='Provides information about the U.S. government financial report executive_summary_2023', name='executive_summary_2023', fn_schema=<class 'llama_index.core.tools.types.DefaultToolFnSchema'>, return_direct=False)"
      ]
     },
     "execution_count": 84,
     "metadata": {},
     "output_type": "execute_result"
    }
   ],
   "source": [
    "query_engine_tools[1].metadata"
   ]
  },
  {
   "cell_type": "code",
   "execution_count": 78,
   "metadata": {},
   "outputs": [],
   "source": [
    "from llama_index.core.agent import FunctionCallingAgentWorker\n",
    "from llama_index.core.agent import AgentRunner\n",
    "\n",
    "agent_worker = FunctionCallingAgentWorker.from_tools(\n",
    "    query_engine_tools, \n",
    "    llm=llm, \n",
    "    verbose=True\n",
    ")\n",
    "agent = AgentRunner(agent_worker)"
   ]
  },
  {
   "cell_type": "code",
   "execution_count": 80,
   "metadata": {},
   "outputs": [
    {
     "name": "stdout",
     "output_type": "stream",
     "text": [
      "Added user message to memory: What is the U.S. government's net operating cost from 2020 to 2023?\n",
      "=== Calling Function ===\n",
      "Calling function: executive_summary_2020 with args: {\"input\": \"net operating cost\"}\n",
      "=== Function Output ===\n",
      "The net operating cost is calculated by starting with total gross costs and then subtracting earned program revenues while adjusting for gains or losses from changes in actuarial assumptions used to estimate future federal employee and veteran benefits payments. This calculation results in the government's net cost before taxes and other revenues, which increased by $2.4 trillion during FY 2020 to $3.8 trillion.\n",
      "=== Calling Function ===\n",
      "Calling function: executive_summary_2021 with args: {\"input\": \"net operating cost\"}\n",
      "=== Function Output ===\n",
      "The net operating cost decreased by $746.5 billion (19.4 percent) during FY 2021 to $3.1 trillion. It is calculated by starting with total gross costs of $7.3 trillion, subtracting earned program revenues, and adjusting for gains or losses from changes in actuarial assumptions used to estimate future federal employee and veteran benefits payments. This resulted in a net cost before taxes and other revenues of $7.4 trillion.\n",
      "=== Calling Function ===\n",
      "Calling function: executive_summary_2022 with args: {\"input\": \"net operating cost\"}\n",
      "=== Function Output ===\n",
      "The net operating cost is calculated by subtracting earned program revenues and adjusting for gains or losses from changes in actuarial assumptions used to estimate future federal employee and veteran benefits payments from the total gross costs. This results in the government's net cost before taxes and other revenues, which for FY 2022 was $9.1 trillion.\n",
      "=== Calling Function ===\n",
      "Calling function: executive_summary_2023 with args: {\"input\": \"net operating cost\"}\n",
      "=== Function Output ===\n",
      "The net operating cost decreased by $753.8 billion (18.1 percent) during FY 2023 to $3.4 trillion. It is calculated by starting with total gross costs of $7.7 trillion, subtracting earned program revenues, adjusting for gains or losses from changes in actuarial assumptions used to estimate future federal employee and veteran benefits payments, and deducting tax and other revenues to derive the \"bottom line\" net operating cost.\n",
      "=== LLM Response ===\n",
      "Here are the U.S. government's net operating costs from 2020 to 2023:\n",
      "\n",
      "- **FY 2020**: The net operating cost increased by $2.4 trillion, resulting in a total of **$3.8 trillion**.\n",
      "  \n",
      "- **FY 2021**: The net operating cost decreased by $746.5 billion (19.4 percent), leading to a total of **$3.1 trillion**.\n",
      "\n",
      "- **FY 2022**: The net operating cost was **$9.1 trillion**.\n",
      "\n",
      "- **FY 2023**: The net operating cost decreased by $753.8 billion (18.1 percent), resulting in a total of **$3.4 trillion**. \n",
      "\n",
      "These figures reflect the government's financial performance over the specified years, accounting for gross costs, earned program revenues, and adjustments for future benefits payments.\n"
     ]
    }
   ],
   "source": [
    "response = agent.query(\"What is the U.S. government's net operating cost from 2020 to 2023?\")"
   ]
  },
  {
   "cell_type": "markdown",
   "metadata": {},
   "source": [
    "### ReAct Agent"
   ]
  },
  {
   "cell_type": "code",
   "execution_count": 88,
   "metadata": {
    "colab": {
     "base_uri": "https://localhost:8080/"
    },
    "id": "AigYso6fjEow",
    "outputId": "1f35d8d5-1238-400c-b63f-965cad6375c0"
   },
   "outputs": [],
   "source": [
    "from llama_index.core.agent import ReActAgent\n",
    "\n",
    "llm = OpenAI(model=\"gpt-4\")\n",
    "\n",
    "react_agent = ReActAgent.from_tools(query_engine_tools, llm=llm, verbose=True)"
   ]
  },
  {
   "cell_type": "code",
   "execution_count": 93,
   "metadata": {},
   "outputs": [
    {
     "name": "stdout",
     "output_type": "stream",
     "text": [
      "> Running step bec845fe-ad32-4df4-9c9d-bd6b5732c070. Step input: Can you compare and contrast the government's net operating cost between 2020, 2021 and 2023? and tell me which year has the highest cost?\n",
      "\u001b[1;3;38;5;200mThought: To answer this question, I need to use the executive_summary_2020, executive_summary_2021, and executive_summary_2023 tools to get the government's net operating cost for each of these years. I'll start with the year 2020.\n",
      "Action: executive_summary_2020\n",
      "Action Input: {'input': 'net operating cost'}\n",
      "\u001b[0m\u001b[1;3;34mObservation: The net operating cost is calculated by starting with total gross costs and then subtracting earned program revenues while adjusting for gains or losses from changes in actuarial assumptions used to estimate future federal employee and veteran benefits payments. This calculation results in the net cost before taxes and other revenues, which is a key component in determining the government's financial position.\n",
      "\u001b[0m> Running step 7a043fad-4e6b-4d3f-b4e3-930516348c6c. Step input: None\n",
      "\u001b[1;3;38;5;200mThought: The response from the tool does not provide the specific net operating cost for 2020. I need to try again with a different input to get the exact figure.\n",
      "Action: executive_summary_2020\n",
      "Action Input: {'input': 'total net cost'}\n",
      "\u001b[0m\u001b[1;3;34mObservation: The total net cost for the U.S. government in FY 2020 was $3.8 trillion.\n",
      "\u001b[0m> Running step 9b4564a5-114d-4a30-8eac-6bbcbc5aaf35. Step input: None\n",
      "\u001b[1;3;38;5;200mThought: Now that I have the net operating cost for 2020, I need to use the executive_summary_2021 tool to get the net operating cost for 2021.\n",
      "Action: executive_summary_2021\n",
      "Action Input: {'input': 'total net cost'}\n",
      "\u001b[0m\u001b[1;3;34mObservation: $7.4 trillion\n",
      "\u001b[0m> Running step c49f6a53-5d8a-4a8e-9276-ae3232081dfb. Step input: None\n",
      "\u001b[1;3;38;5;200mThought: Now that I have the net operating cost for 2021, I need to use the executive_summary_2023 tool to get the net operating cost for 2023.\n",
      "Action: executive_summary_2023\n",
      "Action Input: {'input': 'total net cost'}\n",
      "\u001b[0m\u001b[1;3;34mObservation: $7.9 trillion\n",
      "\u001b[0m> Running step 58d0b6fe-f42a-4f91-88b2-e4797e2b5cb9. Step input: None\n",
      "\u001b[1;3;38;5;200mThought: I can answer without using any more tools. I'll use the user's language to answer\n",
      "Answer: The government's net operating cost was $3.8 trillion in 2020, $7.4 trillion in 2021, and $7.9 trillion in 2023. Therefore, the year 2023 had the highest net operating cost.\n",
      "\u001b[0mThe government's net operating cost was $3.8 trillion in 2020, $7.4 trillion in 2021, and $7.9 trillion in 2023. Therefore, the year 2023 had the highest net operating cost.\n"
     ]
    }
   ],
   "source": [
    "response = react_agent.chat(\"Can you compare and contrast the government's net operating cost between 2020, 2021 and 2023? and tell me which year has the highest cost?\")\n",
    "print(response)"
   ]
  },
  {
   "cell_type": "code",
   "execution_count": 89,
   "metadata": {
    "colab": {
     "base_uri": "https://localhost:8080/",
     "height": 487
    },
    "id": "ah5o_RQXmrNk",
    "outputId": "1b869aa4-297b-4713-905a-3ccc8c7a0d37"
   },
   "outputs": [
    {
     "name": "stdout",
     "output_type": "stream",
     "text": [
      "> Running step 1f909ec8-7d92-4304-8501-75f7399a6ee6. Step input: Can you compare and contrast the government's bottom line net operating cost and tell me which year has the highest cost?\n",
      "\u001b[1;3;38;5;200mThought: To answer this question, I need to use the executive summary tools for each year to get the government's net operating cost. I'll start with the year 2020.\n",
      "Action: executive_summary_2020\n",
      "Action Input: {'input': 'net operating cost'}\n",
      "\u001b[0m\u001b[1;3;34mObservation: The net operating cost is calculated by starting with total gross costs and then subtracting earned program revenues while adjusting for gains or losses from changes in actuarial assumptions used to estimate future federal employee and veteran benefits payments. This calculation results in the government's net cost before taxes and other revenues, which increased by $2.4 trillion during FY 2020 to $3.8 trillion.\n",
      "\u001b[0m> Running step be0b83fa-5be2-48b5-b500-d4740ef4822a. Step input: None\n",
      "\u001b[1;3;38;5;200mThought: I have the net operating cost for 2020. Now, I need to get the net operating cost for 2021.\n",
      "Action: executive_summary_2021\n",
      "Action Input: {'input': 'net operating cost'}\n",
      "\u001b[0m\u001b[1;3;34mObservation: The net operating cost is calculated by subtracting earned program revenues and adjusting for gains or losses from changes in actuarial assumptions used to estimate future federal employee and veteran benefits payments from the total gross costs. This calculation results in the government's net cost before taxes and other revenues.\n",
      "\u001b[0m> Running step f77989d9-a30c-43c6-ac10-6f74ec4c9f44. Step input: None\n",
      "\u001b[1;3;38;5;200mThought: The response does not provide a specific value for the net operating cost in 2021. I'll try to ask for the net cost before taxes and other revenues instead.\n",
      "Action: executive_summary_2021\n",
      "Action Input: {'input': 'net cost before taxes and other revenues'}\n",
      "\u001b[0m\u001b[1;3;34mObservation: $7.4 trillion\n",
      "\u001b[0m> Running step c0140d9e-9b62-4eec-8f53-2cb716557a02. Step input: None\n",
      "\u001b[1;3;38;5;200mThought: I have the net operating cost for 2021. Now, I need to get the net operating cost for 2022.\n",
      "Action: executive_summary_2022\n",
      "Action Input: {'input': 'net operating cost'}\n",
      "\u001b[0m\u001b[1;3;34mObservation: The net operating cost is calculated by subtracting earned program revenues and adjusting for gains or losses from changes in actuarial assumptions used to estimate future federal employee and veteran benefits payments from the total gross costs. This results in the government's net cost before taxes and other revenues, which for FY 2022 was $9.1 trillion.\n",
      "\u001b[0m> Running step 01cd5469-da9a-488e-a5f5-61ef1a1252b6. Step input: None\n",
      "\u001b[1;3;38;5;200mThought: I have the net operating cost for 2022. Now, I need to get the net operating cost for 2023.\n",
      "Action: executive_summary_2023\n",
      "Action Input: {'input': 'net operating cost'}\n",
      "\u001b[0m\u001b[1;3;34mObservation: The net operating cost is calculated by starting with total gross costs, subtracting earned program revenues, and adjusting for gains or losses from changes in actuarial assumptions used to estimate future federal employee and veteran benefits payments. This calculation results in the government's net cost before taxes and other revenues, which is the \"bottom line\" net operating cost.\n",
      "\u001b[0m"
     ]
    },
    {
     "ename": "ValueError",
     "evalue": "Reached max iterations.",
     "output_type": "error",
     "traceback": [
      "\u001b[0;31m---------------------------------------------------------------------------\u001b[0m",
      "\u001b[0;31mValueError\u001b[0m                                Traceback (most recent call last)",
      "Cell \u001b[0;32mIn[89], line 3\u001b[0m\n\u001b[1;32m      1\u001b[0m \u001b[38;5;28;01mfrom\u001b[39;00m \u001b[38;5;21;01mIPython\u001b[39;00m\u001b[38;5;21;01m.\u001b[39;00m\u001b[38;5;21;01mdisplay\u001b[39;00m \u001b[38;5;28;01mimport\u001b[39;00m Markdown\n\u001b[0;32m----> 3\u001b[0m response \u001b[38;5;241m=\u001b[39m \u001b[43mreact_agent\u001b[49m\u001b[38;5;241;43m.\u001b[39;49m\u001b[43mchat\u001b[49m\u001b[43m(\u001b[49m\u001b[38;5;124;43m\"\u001b[39;49m\u001b[38;5;124;43mCan you compare and contrast the government\u001b[39;49m\u001b[38;5;124;43m'\u001b[39;49m\u001b[38;5;124;43ms bottom line net operating cost and tell me which year has the highest cost?\u001b[39;49m\u001b[38;5;124;43m\"\u001b[39;49m\u001b[43m)\u001b[49m\n\u001b[1;32m      4\u001b[0m display(Markdown(\u001b[38;5;124mf\u001b[39m\u001b[38;5;124m\"\u001b[39m\u001b[38;5;124m<b>\u001b[39m\u001b[38;5;132;01m{\u001b[39;00mresponse\u001b[38;5;132;01m}\u001b[39;00m\u001b[38;5;124m</b>\u001b[39m\u001b[38;5;124m\"\u001b[39m))\n",
      "File \u001b[0;32m~/miniconda3/envs/llama-index6/lib/python3.10/site-packages/llama_index/core/instrumentation/dispatcher.py:230\u001b[0m, in \u001b[0;36mDispatcher.span.<locals>.wrapper\u001b[0;34m(func, instance, args, kwargs)\u001b[0m\n\u001b[1;32m    226\u001b[0m \u001b[38;5;28mself\u001b[39m\u001b[38;5;241m.\u001b[39mspan_enter(\n\u001b[1;32m    227\u001b[0m     id_\u001b[38;5;241m=\u001b[39mid_, bound_args\u001b[38;5;241m=\u001b[39mbound_args, instance\u001b[38;5;241m=\u001b[39minstance, parent_id\u001b[38;5;241m=\u001b[39mparent_id\n\u001b[1;32m    228\u001b[0m )\n\u001b[1;32m    229\u001b[0m \u001b[38;5;28;01mtry\u001b[39;00m:\n\u001b[0;32m--> 230\u001b[0m     result \u001b[38;5;241m=\u001b[39m \u001b[43mfunc\u001b[49m\u001b[43m(\u001b[49m\u001b[38;5;241;43m*\u001b[39;49m\u001b[43margs\u001b[49m\u001b[43m,\u001b[49m\u001b[43m \u001b[49m\u001b[38;5;241;43m*\u001b[39;49m\u001b[38;5;241;43m*\u001b[39;49m\u001b[43mkwargs\u001b[49m\u001b[43m)\u001b[49m\n\u001b[1;32m    231\u001b[0m \u001b[38;5;28;01mexcept\u001b[39;00m \u001b[38;5;167;01mBaseException\u001b[39;00m \u001b[38;5;28;01mas\u001b[39;00m e:\n\u001b[1;32m    232\u001b[0m     \u001b[38;5;28mself\u001b[39m\u001b[38;5;241m.\u001b[39mevent(SpanDropEvent(span_id\u001b[38;5;241m=\u001b[39mid_, err_str\u001b[38;5;241m=\u001b[39m\u001b[38;5;28mstr\u001b[39m(e)))\n",
      "File \u001b[0;32m~/miniconda3/envs/llama-index6/lib/python3.10/site-packages/llama_index/core/callbacks/utils.py:41\u001b[0m, in \u001b[0;36mtrace_method.<locals>.decorator.<locals>.wrapper\u001b[0;34m(self, *args, **kwargs)\u001b[0m\n\u001b[1;32m     39\u001b[0m callback_manager \u001b[38;5;241m=\u001b[39m cast(CallbackManager, callback_manager)\n\u001b[1;32m     40\u001b[0m \u001b[38;5;28;01mwith\u001b[39;00m callback_manager\u001b[38;5;241m.\u001b[39mas_trace(trace_id):\n\u001b[0;32m---> 41\u001b[0m     \u001b[38;5;28;01mreturn\u001b[39;00m \u001b[43mfunc\u001b[49m\u001b[43m(\u001b[49m\u001b[38;5;28;43mself\u001b[39;49m\u001b[43m,\u001b[49m\u001b[43m \u001b[49m\u001b[38;5;241;43m*\u001b[39;49m\u001b[43margs\u001b[49m\u001b[43m,\u001b[49m\u001b[43m \u001b[49m\u001b[38;5;241;43m*\u001b[39;49m\u001b[38;5;241;43m*\u001b[39;49m\u001b[43mkwargs\u001b[49m\u001b[43m)\u001b[49m\n",
      "File \u001b[0;32m~/miniconda3/envs/llama-index6/lib/python3.10/site-packages/llama_index/core/agent/runner/base.py:641\u001b[0m, in \u001b[0;36mAgentRunner.chat\u001b[0;34m(self, message, chat_history, tool_choice)\u001b[0m\n\u001b[1;32m    636\u001b[0m     tool_choice \u001b[38;5;241m=\u001b[39m \u001b[38;5;28mself\u001b[39m\u001b[38;5;241m.\u001b[39mdefault_tool_choice\n\u001b[1;32m    637\u001b[0m \u001b[38;5;28;01mwith\u001b[39;00m \u001b[38;5;28mself\u001b[39m\u001b[38;5;241m.\u001b[39mcallback_manager\u001b[38;5;241m.\u001b[39mevent(\n\u001b[1;32m    638\u001b[0m     CBEventType\u001b[38;5;241m.\u001b[39mAGENT_STEP,\n\u001b[1;32m    639\u001b[0m     payload\u001b[38;5;241m=\u001b[39m{EventPayload\u001b[38;5;241m.\u001b[39mMESSAGES: [message]},\n\u001b[1;32m    640\u001b[0m ) \u001b[38;5;28;01mas\u001b[39;00m e:\n\u001b[0;32m--> 641\u001b[0m     chat_response \u001b[38;5;241m=\u001b[39m \u001b[38;5;28;43mself\u001b[39;49m\u001b[38;5;241;43m.\u001b[39;49m\u001b[43m_chat\u001b[49m\u001b[43m(\u001b[49m\n\u001b[1;32m    642\u001b[0m \u001b[43m        \u001b[49m\u001b[43mmessage\u001b[49m\u001b[38;5;241;43m=\u001b[39;49m\u001b[43mmessage\u001b[49m\u001b[43m,\u001b[49m\n\u001b[1;32m    643\u001b[0m \u001b[43m        \u001b[49m\u001b[43mchat_history\u001b[49m\u001b[38;5;241;43m=\u001b[39;49m\u001b[43mchat_history\u001b[49m\u001b[43m,\u001b[49m\n\u001b[1;32m    644\u001b[0m \u001b[43m        \u001b[49m\u001b[43mtool_choice\u001b[49m\u001b[38;5;241;43m=\u001b[39;49m\u001b[43mtool_choice\u001b[49m\u001b[43m,\u001b[49m\n\u001b[1;32m    645\u001b[0m \u001b[43m        \u001b[49m\u001b[43mmode\u001b[49m\u001b[38;5;241;43m=\u001b[39;49m\u001b[43mChatResponseMode\u001b[49m\u001b[38;5;241;43m.\u001b[39;49m\u001b[43mWAIT\u001b[49m\u001b[43m,\u001b[49m\n\u001b[1;32m    646\u001b[0m \u001b[43m    \u001b[49m\u001b[43m)\u001b[49m\n\u001b[1;32m    647\u001b[0m     \u001b[38;5;28;01massert\u001b[39;00m \u001b[38;5;28misinstance\u001b[39m(chat_response, AgentChatResponse)\n\u001b[1;32m    648\u001b[0m     e\u001b[38;5;241m.\u001b[39mon_end(payload\u001b[38;5;241m=\u001b[39m{EventPayload\u001b[38;5;241m.\u001b[39mRESPONSE: chat_response})\n",
      "File \u001b[0;32m~/miniconda3/envs/llama-index6/lib/python3.10/site-packages/llama_index/core/instrumentation/dispatcher.py:230\u001b[0m, in \u001b[0;36mDispatcher.span.<locals>.wrapper\u001b[0;34m(func, instance, args, kwargs)\u001b[0m\n\u001b[1;32m    226\u001b[0m \u001b[38;5;28mself\u001b[39m\u001b[38;5;241m.\u001b[39mspan_enter(\n\u001b[1;32m    227\u001b[0m     id_\u001b[38;5;241m=\u001b[39mid_, bound_args\u001b[38;5;241m=\u001b[39mbound_args, instance\u001b[38;5;241m=\u001b[39minstance, parent_id\u001b[38;5;241m=\u001b[39mparent_id\n\u001b[1;32m    228\u001b[0m )\n\u001b[1;32m    229\u001b[0m \u001b[38;5;28;01mtry\u001b[39;00m:\n\u001b[0;32m--> 230\u001b[0m     result \u001b[38;5;241m=\u001b[39m \u001b[43mfunc\u001b[49m\u001b[43m(\u001b[49m\u001b[38;5;241;43m*\u001b[39;49m\u001b[43margs\u001b[49m\u001b[43m,\u001b[49m\u001b[43m \u001b[49m\u001b[38;5;241;43m*\u001b[39;49m\u001b[38;5;241;43m*\u001b[39;49m\u001b[43mkwargs\u001b[49m\u001b[43m)\u001b[49m\n\u001b[1;32m    231\u001b[0m \u001b[38;5;28;01mexcept\u001b[39;00m \u001b[38;5;167;01mBaseException\u001b[39;00m \u001b[38;5;28;01mas\u001b[39;00m e:\n\u001b[1;32m    232\u001b[0m     \u001b[38;5;28mself\u001b[39m\u001b[38;5;241m.\u001b[39mevent(SpanDropEvent(span_id\u001b[38;5;241m=\u001b[39mid_, err_str\u001b[38;5;241m=\u001b[39m\u001b[38;5;28mstr\u001b[39m(e)))\n",
      "File \u001b[0;32m~/miniconda3/envs/llama-index6/lib/python3.10/site-packages/llama_index/core/agent/runner/base.py:573\u001b[0m, in \u001b[0;36mAgentRunner._chat\u001b[0;34m(self, message, chat_history, tool_choice, mode)\u001b[0m\n\u001b[1;32m    570\u001b[0m dispatcher\u001b[38;5;241m.\u001b[39mevent(AgentChatWithStepStartEvent(user_msg\u001b[38;5;241m=\u001b[39mmessage))\n\u001b[1;32m    571\u001b[0m \u001b[38;5;28;01mwhile\u001b[39;00m \u001b[38;5;28;01mTrue\u001b[39;00m:\n\u001b[1;32m    572\u001b[0m     \u001b[38;5;66;03m# pass step queue in as argument, assume step executor is stateless\u001b[39;00m\n\u001b[0;32m--> 573\u001b[0m     cur_step_output \u001b[38;5;241m=\u001b[39m \u001b[38;5;28;43mself\u001b[39;49m\u001b[38;5;241;43m.\u001b[39;49m\u001b[43m_run_step\u001b[49m\u001b[43m(\u001b[49m\n\u001b[1;32m    574\u001b[0m \u001b[43m        \u001b[49m\u001b[43mtask\u001b[49m\u001b[38;5;241;43m.\u001b[39;49m\u001b[43mtask_id\u001b[49m\u001b[43m,\u001b[49m\u001b[43m \u001b[49m\u001b[43mmode\u001b[49m\u001b[38;5;241;43m=\u001b[39;49m\u001b[43mmode\u001b[49m\u001b[43m,\u001b[49m\u001b[43m \u001b[49m\u001b[43mtool_choice\u001b[49m\u001b[38;5;241;43m=\u001b[39;49m\u001b[43mtool_choice\u001b[49m\n\u001b[1;32m    575\u001b[0m \u001b[43m    \u001b[49m\u001b[43m)\u001b[49m\n\u001b[1;32m    577\u001b[0m     \u001b[38;5;28;01mif\u001b[39;00m cur_step_output\u001b[38;5;241m.\u001b[39mis_last:\n\u001b[1;32m    578\u001b[0m         result_output \u001b[38;5;241m=\u001b[39m cur_step_output\n",
      "File \u001b[0;32m~/miniconda3/envs/llama-index6/lib/python3.10/site-packages/llama_index/core/instrumentation/dispatcher.py:230\u001b[0m, in \u001b[0;36mDispatcher.span.<locals>.wrapper\u001b[0;34m(func, instance, args, kwargs)\u001b[0m\n\u001b[1;32m    226\u001b[0m \u001b[38;5;28mself\u001b[39m\u001b[38;5;241m.\u001b[39mspan_enter(\n\u001b[1;32m    227\u001b[0m     id_\u001b[38;5;241m=\u001b[39mid_, bound_args\u001b[38;5;241m=\u001b[39mbound_args, instance\u001b[38;5;241m=\u001b[39minstance, parent_id\u001b[38;5;241m=\u001b[39mparent_id\n\u001b[1;32m    228\u001b[0m )\n\u001b[1;32m    229\u001b[0m \u001b[38;5;28;01mtry\u001b[39;00m:\n\u001b[0;32m--> 230\u001b[0m     result \u001b[38;5;241m=\u001b[39m \u001b[43mfunc\u001b[49m\u001b[43m(\u001b[49m\u001b[38;5;241;43m*\u001b[39;49m\u001b[43margs\u001b[49m\u001b[43m,\u001b[49m\u001b[43m \u001b[49m\u001b[38;5;241;43m*\u001b[39;49m\u001b[38;5;241;43m*\u001b[39;49m\u001b[43mkwargs\u001b[49m\u001b[43m)\u001b[49m\n\u001b[1;32m    231\u001b[0m \u001b[38;5;28;01mexcept\u001b[39;00m \u001b[38;5;167;01mBaseException\u001b[39;00m \u001b[38;5;28;01mas\u001b[39;00m e:\n\u001b[1;32m    232\u001b[0m     \u001b[38;5;28mself\u001b[39m\u001b[38;5;241m.\u001b[39mevent(SpanDropEvent(span_id\u001b[38;5;241m=\u001b[39mid_, err_str\u001b[38;5;241m=\u001b[39m\u001b[38;5;28mstr\u001b[39m(e)))\n",
      "File \u001b[0;32m~/miniconda3/envs/llama-index6/lib/python3.10/site-packages/llama_index/core/agent/runner/base.py:412\u001b[0m, in \u001b[0;36mAgentRunner._run_step\u001b[0;34m(self, task_id, step, input, mode, **kwargs)\u001b[0m\n\u001b[1;32m    408\u001b[0m \u001b[38;5;66;03m# TODO: figure out if you can dynamically swap in different step executors\u001b[39;00m\n\u001b[1;32m    409\u001b[0m \u001b[38;5;66;03m# not clear when you would do that by theoretically possible\u001b[39;00m\n\u001b[1;32m    411\u001b[0m \u001b[38;5;28;01mif\u001b[39;00m mode \u001b[38;5;241m==\u001b[39m ChatResponseMode\u001b[38;5;241m.\u001b[39mWAIT:\n\u001b[0;32m--> 412\u001b[0m     cur_step_output \u001b[38;5;241m=\u001b[39m \u001b[38;5;28;43mself\u001b[39;49m\u001b[38;5;241;43m.\u001b[39;49m\u001b[43magent_worker\u001b[49m\u001b[38;5;241;43m.\u001b[39;49m\u001b[43mrun_step\u001b[49m\u001b[43m(\u001b[49m\u001b[43mstep\u001b[49m\u001b[43m,\u001b[49m\u001b[43m \u001b[49m\u001b[43mtask\u001b[49m\u001b[43m,\u001b[49m\u001b[43m \u001b[49m\u001b[38;5;241;43m*\u001b[39;49m\u001b[38;5;241;43m*\u001b[39;49m\u001b[43mkwargs\u001b[49m\u001b[43m)\u001b[49m\n\u001b[1;32m    413\u001b[0m \u001b[38;5;28;01melif\u001b[39;00m mode \u001b[38;5;241m==\u001b[39m ChatResponseMode\u001b[38;5;241m.\u001b[39mSTREAM:\n\u001b[1;32m    414\u001b[0m     cur_step_output \u001b[38;5;241m=\u001b[39m \u001b[38;5;28mself\u001b[39m\u001b[38;5;241m.\u001b[39magent_worker\u001b[38;5;241m.\u001b[39mstream_step(step, task, \u001b[38;5;241m*\u001b[39m\u001b[38;5;241m*\u001b[39mkwargs)\n",
      "File \u001b[0;32m~/miniconda3/envs/llama-index6/lib/python3.10/site-packages/llama_index/core/instrumentation/dispatcher.py:230\u001b[0m, in \u001b[0;36mDispatcher.span.<locals>.wrapper\u001b[0;34m(func, instance, args, kwargs)\u001b[0m\n\u001b[1;32m    226\u001b[0m \u001b[38;5;28mself\u001b[39m\u001b[38;5;241m.\u001b[39mspan_enter(\n\u001b[1;32m    227\u001b[0m     id_\u001b[38;5;241m=\u001b[39mid_, bound_args\u001b[38;5;241m=\u001b[39mbound_args, instance\u001b[38;5;241m=\u001b[39minstance, parent_id\u001b[38;5;241m=\u001b[39mparent_id\n\u001b[1;32m    228\u001b[0m )\n\u001b[1;32m    229\u001b[0m \u001b[38;5;28;01mtry\u001b[39;00m:\n\u001b[0;32m--> 230\u001b[0m     result \u001b[38;5;241m=\u001b[39m \u001b[43mfunc\u001b[49m\u001b[43m(\u001b[49m\u001b[38;5;241;43m*\u001b[39;49m\u001b[43margs\u001b[49m\u001b[43m,\u001b[49m\u001b[43m \u001b[49m\u001b[38;5;241;43m*\u001b[39;49m\u001b[38;5;241;43m*\u001b[39;49m\u001b[43mkwargs\u001b[49m\u001b[43m)\u001b[49m\n\u001b[1;32m    231\u001b[0m \u001b[38;5;28;01mexcept\u001b[39;00m \u001b[38;5;167;01mBaseException\u001b[39;00m \u001b[38;5;28;01mas\u001b[39;00m e:\n\u001b[1;32m    232\u001b[0m     \u001b[38;5;28mself\u001b[39m\u001b[38;5;241m.\u001b[39mevent(SpanDropEvent(span_id\u001b[38;5;241m=\u001b[39mid_, err_str\u001b[38;5;241m=\u001b[39m\u001b[38;5;28mstr\u001b[39m(e)))\n",
      "File \u001b[0;32m~/miniconda3/envs/llama-index6/lib/python3.10/site-packages/llama_index/core/callbacks/utils.py:41\u001b[0m, in \u001b[0;36mtrace_method.<locals>.decorator.<locals>.wrapper\u001b[0;34m(self, *args, **kwargs)\u001b[0m\n\u001b[1;32m     39\u001b[0m callback_manager \u001b[38;5;241m=\u001b[39m cast(CallbackManager, callback_manager)\n\u001b[1;32m     40\u001b[0m \u001b[38;5;28;01mwith\u001b[39;00m callback_manager\u001b[38;5;241m.\u001b[39mas_trace(trace_id):\n\u001b[0;32m---> 41\u001b[0m     \u001b[38;5;28;01mreturn\u001b[39;00m \u001b[43mfunc\u001b[49m\u001b[43m(\u001b[49m\u001b[38;5;28;43mself\u001b[39;49m\u001b[43m,\u001b[49m\u001b[43m \u001b[49m\u001b[38;5;241;43m*\u001b[39;49m\u001b[43margs\u001b[49m\u001b[43m,\u001b[49m\u001b[43m \u001b[49m\u001b[38;5;241;43m*\u001b[39;49m\u001b[38;5;241;43m*\u001b[39;49m\u001b[43mkwargs\u001b[49m\u001b[43m)\u001b[49m\n",
      "File \u001b[0;32m~/miniconda3/envs/llama-index6/lib/python3.10/site-packages/llama_index/core/agent/react/step.py:781\u001b[0m, in \u001b[0;36mReActAgentWorker.run_step\u001b[0;34m(self, step, task, **kwargs)\u001b[0m\n\u001b[1;32m    778\u001b[0m \u001b[38;5;129m@trace_method\u001b[39m(\u001b[38;5;124m\"\u001b[39m\u001b[38;5;124mrun_step\u001b[39m\u001b[38;5;124m\"\u001b[39m)\n\u001b[1;32m    779\u001b[0m \u001b[38;5;28;01mdef\u001b[39;00m \u001b[38;5;21mrun_step\u001b[39m(\u001b[38;5;28mself\u001b[39m, step: TaskStep, task: Task, \u001b[38;5;241m*\u001b[39m\u001b[38;5;241m*\u001b[39mkwargs: Any) \u001b[38;5;241m-\u001b[39m\u001b[38;5;241m>\u001b[39m TaskStepOutput:\n\u001b[1;32m    780\u001b[0m \u001b[38;5;250m    \u001b[39m\u001b[38;5;124;03m\"\"\"Run step.\"\"\"\u001b[39;00m\n\u001b[0;32m--> 781\u001b[0m     \u001b[38;5;28;01mreturn\u001b[39;00m \u001b[38;5;28;43mself\u001b[39;49m\u001b[38;5;241;43m.\u001b[39;49m\u001b[43m_run_step\u001b[49m\u001b[43m(\u001b[49m\u001b[43mstep\u001b[49m\u001b[43m,\u001b[49m\u001b[43m \u001b[49m\u001b[43mtask\u001b[49m\u001b[43m)\u001b[49m\n",
      "File \u001b[0;32m~/miniconda3/envs/llama-index6/lib/python3.10/site-packages/llama_index/core/agent/react/step.py:573\u001b[0m, in \u001b[0;36mReActAgentWorker._run_step\u001b[0;34m(self, step, task)\u001b[0m\n\u001b[1;32m    569\u001b[0m reasoning_steps, is_done \u001b[38;5;241m=\u001b[39m \u001b[38;5;28mself\u001b[39m\u001b[38;5;241m.\u001b[39m_process_actions(\n\u001b[1;32m    570\u001b[0m     task, tools, output\u001b[38;5;241m=\u001b[39mchat_response\n\u001b[1;32m    571\u001b[0m )\n\u001b[1;32m    572\u001b[0m task\u001b[38;5;241m.\u001b[39mextra_state[\u001b[38;5;124m\"\u001b[39m\u001b[38;5;124mcurrent_reasoning\u001b[39m\u001b[38;5;124m\"\u001b[39m]\u001b[38;5;241m.\u001b[39mextend(reasoning_steps)\n\u001b[0;32m--> 573\u001b[0m agent_response \u001b[38;5;241m=\u001b[39m \u001b[38;5;28;43mself\u001b[39;49m\u001b[38;5;241;43m.\u001b[39;49m\u001b[43m_get_response\u001b[49m\u001b[43m(\u001b[49m\n\u001b[1;32m    574\u001b[0m \u001b[43m    \u001b[49m\u001b[43mtask\u001b[49m\u001b[38;5;241;43m.\u001b[39;49m\u001b[43mextra_state\u001b[49m\u001b[43m[\u001b[49m\u001b[38;5;124;43m\"\u001b[39;49m\u001b[38;5;124;43mcurrent_reasoning\u001b[39;49m\u001b[38;5;124;43m\"\u001b[39;49m\u001b[43m]\u001b[49m\u001b[43m,\u001b[49m\u001b[43m \u001b[49m\u001b[43mtask\u001b[49m\u001b[38;5;241;43m.\u001b[39;49m\u001b[43mextra_state\u001b[49m\u001b[43m[\u001b[49m\u001b[38;5;124;43m\"\u001b[39;49m\u001b[38;5;124;43msources\u001b[39;49m\u001b[38;5;124;43m\"\u001b[39;49m\u001b[43m]\u001b[49m\n\u001b[1;32m    575\u001b[0m \u001b[43m\u001b[49m\u001b[43m)\u001b[49m\n\u001b[1;32m    576\u001b[0m \u001b[38;5;28;01mif\u001b[39;00m is_done:\n\u001b[1;32m    577\u001b[0m     task\u001b[38;5;241m.\u001b[39mextra_state[\u001b[38;5;124m\"\u001b[39m\u001b[38;5;124mnew_memory\u001b[39m\u001b[38;5;124m\"\u001b[39m]\u001b[38;5;241m.\u001b[39mput(\n\u001b[1;32m    578\u001b[0m         ChatMessage(content\u001b[38;5;241m=\u001b[39magent_response\u001b[38;5;241m.\u001b[39mresponse, role\u001b[38;5;241m=\u001b[39mMessageRole\u001b[38;5;241m.\u001b[39mASSISTANT)\n\u001b[1;32m    579\u001b[0m     )\n",
      "File \u001b[0;32m~/miniconda3/envs/llama-index6/lib/python3.10/site-packages/llama_index/core/agent/react/step.py:434\u001b[0m, in \u001b[0;36mReActAgentWorker._get_response\u001b[0;34m(self, current_reasoning, sources)\u001b[0m\n\u001b[1;32m    432\u001b[0m     \u001b[38;5;28;01mraise\u001b[39;00m \u001b[38;5;167;01mValueError\u001b[39;00m(\u001b[38;5;124m\"\u001b[39m\u001b[38;5;124mNo reasoning steps were taken.\u001b[39m\u001b[38;5;124m\"\u001b[39m)\n\u001b[1;32m    433\u001b[0m \u001b[38;5;28;01melif\u001b[39;00m \u001b[38;5;28mlen\u001b[39m(current_reasoning) \u001b[38;5;241m==\u001b[39m \u001b[38;5;28mself\u001b[39m\u001b[38;5;241m.\u001b[39m_max_iterations:\n\u001b[0;32m--> 434\u001b[0m     \u001b[38;5;28;01mraise\u001b[39;00m \u001b[38;5;167;01mValueError\u001b[39;00m(\u001b[38;5;124m\"\u001b[39m\u001b[38;5;124mReached max iterations.\u001b[39m\u001b[38;5;124m\"\u001b[39m)\n\u001b[1;32m    436\u001b[0m \u001b[38;5;28;01mif\u001b[39;00m \u001b[38;5;28misinstance\u001b[39m(current_reasoning[\u001b[38;5;241m-\u001b[39m\u001b[38;5;241m1\u001b[39m], ResponseReasoningStep):\n\u001b[1;32m    437\u001b[0m     response_step \u001b[38;5;241m=\u001b[39m cast(ResponseReasoningStep, current_reasoning[\u001b[38;5;241m-\u001b[39m\u001b[38;5;241m1\u001b[39m])\n",
      "\u001b[0;31mValueError\u001b[0m: Reached max iterations."
     ]
    }
   ],
   "source": [
    "from IPython.display import Markdown\n",
    "\n",
    "response = react_agent.chat(\"Can you compare and contrast the government's bottom line net operating cost and tell me which year has the highest cost?\")\n",
    "display(Markdown(f\"<b>{response}</b>\"))"
   ]
  },
  {
   "cell_type": "code",
   "execution_count": null,
   "metadata": {
    "id": "oJX0r9npkO-T"
   },
   "outputs": [],
   "source": []
  }
 ],
 "metadata": {
  "colab": {
   "include_colab_link": true,
   "provenance": []
  },
  "kernelspec": {
   "display_name": "Python 3 (ipykernel)",
   "language": "python",
   "name": "python3"
  },
  "language_info": {
   "codemirror_mode": {
    "name": "ipython",
    "version": 3
   },
   "file_extension": ".py",
   "mimetype": "text/x-python",
   "name": "python",
   "nbconvert_exporter": "python",
   "pygments_lexer": "ipython3",
   "version": "3.10.14"
  }
 },
 "nbformat": 4,
 "nbformat_minor": 4
}
