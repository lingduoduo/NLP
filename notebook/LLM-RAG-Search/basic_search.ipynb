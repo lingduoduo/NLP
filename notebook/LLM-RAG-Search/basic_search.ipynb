{
 "cells": [
  {
   "cell_type": "code",
   "execution_count": 17,
   "id": "d4ef85f4",
   "metadata": {},
   "outputs": [],
   "source": [
    "import pandas as pd\n",
    "import numpy as np"
   ]
  },
  {
   "cell_type": "markdown",
   "id": "e5d3e5d5-9df5-4ed7-8d01-9fbf3c2d4924",
   "metadata": {},
   "source": [
    "## Fetch products"
   ]
  },
  {
   "cell_type": "code",
   "execution_count": 18,
   "id": "1f6fdf20",
   "metadata": {},
   "outputs": [
    {
     "data": {
      "text/html": [
       "<div>\n",
       "<style scoped>\n",
       "    .dataframe tbody tr th:only-of-type {\n",
       "        vertical-align: middle;\n",
       "    }\n",
       "\n",
       "    .dataframe tbody tr th {\n",
       "        vertical-align: top;\n",
       "    }\n",
       "\n",
       "    .dataframe thead th {\n",
       "        text-align: right;\n",
       "    }\n",
       "</style>\n",
       "<table border=\"1\" class=\"dataframe\">\n",
       "  <thead>\n",
       "    <tr style=\"text-align: right;\">\n",
       "      <th></th>\n",
       "      <th>product_id</th>\n",
       "      <th>product_name</th>\n",
       "      <th>product_class</th>\n",
       "      <th>category hierarchy</th>\n",
       "      <th>product_description</th>\n",
       "      <th>product_features</th>\n",
       "      <th>rating_count</th>\n",
       "      <th>average_rating</th>\n",
       "      <th>review_count</th>\n",
       "    </tr>\n",
       "  </thead>\n",
       "  <tbody>\n",
       "    <tr>\n",
       "      <th>0</th>\n",
       "      <td>0</td>\n",
       "      <td>solid wood platform bed</td>\n",
       "      <td>Beds</td>\n",
       "      <td>Furniture / Bedroom Furniture / Beds &amp; Headboa...</td>\n",
       "      <td>good , deep sleep can be quite difficult to ha...</td>\n",
       "      <td>overallwidth-sidetoside:64.7|dsprimaryproducts...</td>\n",
       "      <td>15.0</td>\n",
       "      <td>4.5</td>\n",
       "      <td>15.0</td>\n",
       "    </tr>\n",
       "    <tr>\n",
       "      <th>1</th>\n",
       "      <td>1</td>\n",
       "      <td>all-clad 7 qt . slow cooker</td>\n",
       "      <td>Slow Cookers</td>\n",
       "      <td>Kitchen &amp; Tabletop / Small Kitchen Appliances ...</td>\n",
       "      <td>create delicious slow-cooked meals , from tend...</td>\n",
       "      <td>capacityquarts:7|producttype : slow cooker|pro...</td>\n",
       "      <td>100.0</td>\n",
       "      <td>2.0</td>\n",
       "      <td>98.0</td>\n",
       "    </tr>\n",
       "    <tr>\n",
       "      <th>2</th>\n",
       "      <td>2</td>\n",
       "      <td>all-clad electrics 6.5 qt . slow cooker</td>\n",
       "      <td>Slow Cookers</td>\n",
       "      <td>Kitchen &amp; Tabletop / Small Kitchen Appliances ...</td>\n",
       "      <td>prepare home-cooked meals on any schedule with...</td>\n",
       "      <td>features : keep warm setting|capacityquarts:6....</td>\n",
       "      <td>208.0</td>\n",
       "      <td>3.0</td>\n",
       "      <td>181.0</td>\n",
       "    </tr>\n",
       "    <tr>\n",
       "      <th>3</th>\n",
       "      <td>3</td>\n",
       "      <td>all-clad all professional tools pizza cutter</td>\n",
       "      <td>Slicers, Peelers And Graters</td>\n",
       "      <td>Browse By Brand / All-Clad</td>\n",
       "      <td>this original stainless tool was designed to c...</td>\n",
       "      <td>overallwidth-sidetoside:3.5|warrantylength : l...</td>\n",
       "      <td>69.0</td>\n",
       "      <td>4.5</td>\n",
       "      <td>42.0</td>\n",
       "    </tr>\n",
       "    <tr>\n",
       "      <th>4</th>\n",
       "      <td>4</td>\n",
       "      <td>baldwin prestige alcott passage knob with roun...</td>\n",
       "      <td>Door Knobs</td>\n",
       "      <td>Home Improvement / Doors &amp; Door Hardware / Doo...</td>\n",
       "      <td>the hardware has a rich heritage of delivering...</td>\n",
       "      <td>compatibledoorthickness:1.375 '' |countryofori...</td>\n",
       "      <td>70.0</td>\n",
       "      <td>5.0</td>\n",
       "      <td>42.0</td>\n",
       "    </tr>\n",
       "  </tbody>\n",
       "</table>\n",
       "</div>"
      ],
      "text/plain": [
       "   product_id                                       product_name  \\\n",
       "0           0                            solid wood platform bed   \n",
       "1           1                        all-clad 7 qt . slow cooker   \n",
       "2           2            all-clad electrics 6.5 qt . slow cooker   \n",
       "3           3       all-clad all professional tools pizza cutter   \n",
       "4           4  baldwin prestige alcott passage knob with roun...   \n",
       "\n",
       "                  product_class  \\\n",
       "0                          Beds   \n",
       "1                  Slow Cookers   \n",
       "2                  Slow Cookers   \n",
       "3  Slicers, Peelers And Graters   \n",
       "4                    Door Knobs   \n",
       "\n",
       "                                  category hierarchy  \\\n",
       "0  Furniture / Bedroom Furniture / Beds & Headboa...   \n",
       "1  Kitchen & Tabletop / Small Kitchen Appliances ...   \n",
       "2  Kitchen & Tabletop / Small Kitchen Appliances ...   \n",
       "3                         Browse By Brand / All-Clad   \n",
       "4  Home Improvement / Doors & Door Hardware / Doo...   \n",
       "\n",
       "                                 product_description  \\\n",
       "0  good , deep sleep can be quite difficult to ha...   \n",
       "1  create delicious slow-cooked meals , from tend...   \n",
       "2  prepare home-cooked meals on any schedule with...   \n",
       "3  this original stainless tool was designed to c...   \n",
       "4  the hardware has a rich heritage of delivering...   \n",
       "\n",
       "                                    product_features  rating_count  \\\n",
       "0  overallwidth-sidetoside:64.7|dsprimaryproducts...          15.0   \n",
       "1  capacityquarts:7|producttype : slow cooker|pro...         100.0   \n",
       "2  features : keep warm setting|capacityquarts:6....         208.0   \n",
       "3  overallwidth-sidetoside:3.5|warrantylength : l...          69.0   \n",
       "4  compatibledoorthickness:1.375 '' |countryofori...          70.0   \n",
       "\n",
       "   average_rating  review_count  \n",
       "0             4.5          15.0  \n",
       "1             2.0          98.0  \n",
       "2             3.0         181.0  \n",
       "3             4.5          42.0  \n",
       "4             5.0          42.0  "
      ]
     },
     "execution_count": 18,
     "metadata": {},
     "output_type": "execute_result"
    }
   ],
   "source": [
    "product_df = pd.read_csv(\"dataset/product.csv\", sep='\\t')\n",
    "product_df.head()"
   ]
  },
  {
   "cell_type": "code",
   "execution_count": 19,
   "id": "91644c68-9bb4-41b4-9bc0-8e9f909b137d",
   "metadata": {},
   "outputs": [],
   "source": [
    "## Assemble the product text use our product description as that text unless there is no description in which case we will use the product name."
   ]
  },
  {
   "cell_type": "code",
   "execution_count": 20,
   "id": "a995569d-1b34-42ab-8645-c779a5903d08",
   "metadata": {},
   "outputs": [
    {
     "name": "stdout",
     "output_type": "stream",
     "text": [
      "<class 'pandas.core.frame.DataFrame'>\n",
      "RangeIndex: 42994 entries, 0 to 42993\n",
      "Data columns (total 9 columns):\n",
      " #   Column               Non-Null Count  Dtype  \n",
      "---  ------               --------------  -----  \n",
      " 0   product_id           42994 non-null  int64  \n",
      " 1   product_name         42994 non-null  object \n",
      " 2   product_class        40142 non-null  object \n",
      " 3   category hierarchy   41438 non-null  object \n",
      " 4   product_description  36986 non-null  object \n",
      " 5   product_features     42994 non-null  object \n",
      " 6   rating_count         33542 non-null  float64\n",
      " 7   average_rating       33542 non-null  float64\n",
      " 8   review_count         33542 non-null  float64\n",
      "dtypes: float64(3), int64(1), object(5)\n",
      "memory usage: 3.0+ MB\n"
     ]
    }
   ],
   "source": [
    "product_df.info()"
   ]
  },
  {
   "cell_type": "code",
   "execution_count": 21,
   "id": "d3585926-211b-4795-9392-f50a02f64787",
   "metadata": {},
   "outputs": [],
   "source": [
    "product_df['product_text'] = np.where(pd.notna(product_df['product_description']), \n",
    "                                      product_df['product_description'], \n",
    "                                      product_df['product_name'])"
   ]
  },
  {
   "cell_type": "code",
   "execution_count": 22,
   "id": "0cf5f446-6ab3-42a7-be66-30d723caaf1c",
   "metadata": {},
   "outputs": [
    {
     "data": {
      "text/plain": [
       "product_id                                                         42990\n",
       "product_name                       emmeline 5 piece breakfast dining set\n",
       "product_class                                          Dining Table Sets\n",
       "category hierarchy     Furniture / Kitchen & Dining Furniture / Dinin...\n",
       "product_description                                                  NaN\n",
       "product_features       basematerialdetails : steel| : gray wood|ofhar...\n",
       "rating_count                                                      1314.0\n",
       "average_rating                                                       4.5\n",
       "review_count                                                       864.0\n",
       "product_text                       emmeline 5 piece breakfast dining set\n",
       "Name: 42990, dtype: object"
      ]
     },
     "execution_count": 22,
     "metadata": {},
     "output_type": "execute_result"
    }
   ],
   "source": [
    "product_df.iloc[42990]"
   ]
  },
  {
   "cell_type": "code",
   "execution_count": 23,
   "id": "fe69a8f3-027a-48aa-89df-636a0c0c8a16",
   "metadata": {},
   "outputs": [],
   "source": [
    "from llama_index.core import Document\n",
    "\n",
    "documents = [\n",
    "    Document(\n",
    "        text=row['product_text'],\n",
    "        metadata={\n",
    "            'product_id': row['product_id'],\n",
    "            'product_name': row['product_name'],\n",
    "        }\n",
    "    )\n",
    "    for _, row in product_df.iterrows()\n",
    "]"
   ]
  },
  {
   "cell_type": "code",
   "execution_count": 24,
   "id": "dd8696c8-8e0f-498f-a45d-06f8999e779c",
   "metadata": {},
   "outputs": [
    {
     "name": "stdout",
     "output_type": "stream",
     "text": [
      "Doc ID: d959786e-4174-4a0d-8cc6-aeb00f5ae6ee\n",
      "Text: good , deep sleep can be quite difficult to have in this busy\n",
      "age . fortunately , there ’ s an antidote to such a problem : a nice ,\n",
      "quality bed frame like the acacia kaylin . solidly constructed from\n",
      "acacia wood , this bed frame will stand the test of time and is fit to\n",
      "rest your shoulders on for years and years . its sleek , natural wood\n",
      "grain...\n"
     ]
    }
   ],
   "source": [
    "print(documents[0])"
   ]
  },
  {
   "cell_type": "code",
   "execution_count": 25,
   "id": "6dbb1b5b-bc1e-4711-8ef2-e58c16dbeb6a",
   "metadata": {},
   "outputs": [],
   "source": [
    "from llama_index.core.schema import MetadataMode"
   ]
  },
  {
   "cell_type": "code",
   "execution_count": 26,
   "id": "1d392ee9-7b7e-4bf6-8857-cc1f72b570f6",
   "metadata": {},
   "outputs": [
    {
     "name": "stdout",
     "output_type": "stream",
     "text": [
      "product_id: 0\n",
      "product_name: solid wood platform bed\n",
      "\n",
      "good , deep sleep can be quite difficult to have in this busy age . fortunately , there ’ s an antidote to such a problem : a nice , quality bed frame like the acacia kaylin . solidly constructed from acacia wood , this bed frame will stand the test of time and is fit to rest your shoulders on for years and years . its sleek , natural wood grain appearance provides a pleasant aesthetic to adorn any bedroom , acting both as a decorative piece as well as a place to give comfort after a hard day of work . our bed frame is designed to give ample under-bed space for easy cleaning and other usages , with a headboard attached to further express the craftiness . it can be used with other accessories such as a nightstand or bookcase headboard and is compatible with many types of mattresses including memory foam , spring , or hybrid ones . there ’ s nowhere better to relax than your own home , and with this bed frame that feeling of homeliness will even be more emphasized . rest comfortably and in style .\n"
     ]
    }
   ],
   "source": [
    "print(documents[0].get_content(metadata_mode=MetadataMode.ALL))"
   ]
  },
  {
   "cell_type": "code",
   "execution_count": 27,
   "id": "bdd17e8d-7c01-4246-ab7e-bdab3dfbe663",
   "metadata": {},
   "outputs": [
    {
     "name": "stdout",
     "output_type": "stream",
     "text": [
      "{'product_id': 0, 'product_name': 'solid wood platform bed'}\n"
     ]
    }
   ],
   "source": [
    "print(documents[0].metadata)"
   ]
  },
  {
   "cell_type": "markdown",
   "id": "df5414a6-eef0-4f02-9c29-386a9faac74e",
   "metadata": {},
   "source": [
    "### Extract Nodes"
   ]
  },
  {
   "cell_type": "code",
   "execution_count": 28,
   "id": "3f0736e7-7d98-4196-b451-5e988e85ab62",
   "metadata": {},
   "outputs": [],
   "source": [
    "from llama_index.core.node_parser import SentenceWindowNodeParser\n",
    "from llama_index.core.node_parser import SentenceSplitter"
   ]
  },
  {
   "cell_type": "code",
   "execution_count": 13,
   "id": "376a64d9-86e9-49ad-bc90-e6a93783542d",
   "metadata": {},
   "outputs": [],
   "source": [
    "# create the sentence window node parser w/ default settings\n",
    "node_parser = SentenceWindowNodeParser.from_defaults(\n",
    "    window_size=3,\n",
    "    window_metadata_key=\"window\",\n",
    "    original_text_metadata_key=\"original_text\",\n",
    ")"
   ]
  },
  {
   "cell_type": "code",
   "execution_count": 14,
   "id": "b2434371-be51-4b37-b9ac-d510d8f2b6fb",
   "metadata": {},
   "outputs": [],
   "source": [
    "# Extract nodes from documents\n",
    "nodes = node_parser.get_nodes_from_documents(documents)"
   ]
  },
  {
   "cell_type": "code",
   "execution_count": 15,
   "id": "75745670-53f6-4dd0-a54c-bd46f84bcf78",
   "metadata": {},
   "outputs": [
    {
     "name": "stdout",
     "output_type": "stream",
     "text": [
      "Text: \n",
      "good , deep sleep can be quite difficult to have in this busy age . \n",
      "------------------\n",
      "Window: \n",
      "good , deep sleep can be quite difficult to have in this busy age .  fortunately , there ’ s an antidote to such a problem : a nice , quality bed frame like the acacia kaylin .  solidly constructed from acacia wood , this bed frame will stand the test of time and is fit to rest your shoulders on for years and years .  its sleek , natural wood grain appearance provides a pleasant aesthetic to adorn any bedroom , acting both as a decorative piece as well as a place to give comfort after a hard day of work . \n"
     ]
    }
   ],
   "source": [
    "print(f\"Text: \\n{nodes[0].text}\")\n",
    "print(\"------------------\")\n",
    "print(f\"Window: \\n{nodes[0].metadata['window']}\")"
   ]
  },
  {
   "cell_type": "code",
   "execution_count": 16,
   "id": "adba7932-19b7-40e9-b9c0-3039502509cb",
   "metadata": {},
   "outputs": [
    {
     "data": {
      "text/plain": [
       "164163"
      ]
     },
     "execution_count": 16,
     "metadata": {},
     "output_type": "execute_result"
    }
   ],
   "source": [
    "len(nodes)"
   ]
  },
  {
   "cell_type": "markdown",
   "id": "c6a79190-8867-42a6-94b3-2826d98e6468",
   "metadata": {},
   "source": [
    "### Convert Product Info into Embeddings"
   ]
  },
  {
   "cell_type": "code",
   "execution_count": 29,
   "id": "b52f51a2-be11-4778-9562-afd602f6d2a7",
   "metadata": {},
   "outputs": [],
   "source": [
    "import os\n",
    "import openai\n",
    "from dotenv import load_dotenv, find_dotenv\n",
    "\n",
    "_ = load_dotenv(find_dotenv()) # read local .env file\n",
    "# openai.api_key = os.getenv('OPENAI_API_KEY')"
   ]
  },
  {
   "cell_type": "markdown",
   "id": "b83eed14-1341-4108-9b51-00b7039e9e45",
   "metadata": {},
   "source": [
    "### Creating a Weaviate Client"
   ]
  },
  {
   "cell_type": "code",
   "execution_count": 30,
   "id": "f3c8632f-7222-4d0b-b2f7-5532b682e39e",
   "metadata": {},
   "outputs": [],
   "source": [
    "import weaviate"
   ]
  },
  {
   "cell_type": "code",
   "execution_count": 31,
   "id": "4dfadfe9-e94c-41cf-a1ec-78682763f895",
   "metadata": {},
   "outputs": [],
   "source": [
    "import logging\n",
    "import sys\n",
    "\n",
    "logging.basicConfig(stream=sys.stdout, level=logging.INFO)\n",
    "logging.getLogger().addHandler(logging.StreamHandler(stream=sys.stdout))"
   ]
  },
  {
   "cell_type": "code",
   "execution_count": 32,
   "id": "87cc9c5d-c48c-4aac-b881-5b7d02441d77",
   "metadata": {},
   "outputs": [
    {
     "name": "stderr",
     "output_type": "stream",
     "text": [
      "/Users/linghuang/miniconda3/envs/llama-index4/lib/python3.8/site-packages/weaviate/warnings.py:121: DeprecationWarning: Dep005: You are using weaviate-client version 3.26.2. The latest version is 4.6.2.\n",
      "            Please consider upgrading to the latest version. See https://weaviate.io/developers/weaviate/client-libraries/python for details.\n",
      "  warnings.warn(\n"
     ]
    }
   ],
   "source": [
    "client = weaviate.Client(\n",
    "    url=os.getenv(\"WEAVIATE_URL\"), # Replace with your Weaviate Cloud URL\n",
    "    auth_client_secret=weaviate.auth.AuthApiKey(os.getenv(\"WEAVIATE_API_KEY\")),  # Replace w/ your Weaviate instance API key\n",
    "    additional_headers={\"X-Cohere-Api-Key\": os.environ['COHERE_API_KEY'],}\n",
    ")"
   ]
  },
  {
   "cell_type": "code",
   "execution_count": 33,
   "id": "b57f92f7-7422-407e-80a6-239903edc6aa",
   "metadata": {},
   "outputs": [
    {
     "data": {
      "text/plain": [
       "True"
      ]
     },
     "execution_count": 33,
     "metadata": {},
     "output_type": "execute_result"
    }
   ],
   "source": [
    "client.is_ready()"
   ]
  },
  {
   "cell_type": "markdown",
   "id": "d9a41535-435b-4448-8f48-5871f774ee83",
   "metadata": {},
   "source": [
    "### Next, you will build a `VectorStoreIndex` from the Weaviate client to store your data in and interact with."
   ]
  },
  {
   "cell_type": "code",
   "execution_count": 34,
   "id": "6a3d3b85-9a6c-4329-9cfd-657dfcb37d58",
   "metadata": {},
   "outputs": [],
   "source": [
    "from llama_index.core import VectorStoreIndex, StorageContext\n",
    "from llama_index.vector_stores.weaviate import WeaviateVectorStore"
   ]
  },
  {
   "cell_type": "code",
   "execution_count": 35,
   "id": "d82e9ec9-829b-4ce9-90da-87a73e94e96f",
   "metadata": {},
   "outputs": [],
   "source": [
    "# construct vector store\n",
    "vector_store = WeaviateVectorStore(\n",
    "    weaviate_client=client, index_name=\"LlamaIndex\"\n",
    ")"
   ]
  },
  {
   "cell_type": "code",
   "execution_count": 36,
   "id": "bced4eac-7264-430c-abc7-696d9ae4f68a",
   "metadata": {},
   "outputs": [],
   "source": [
    "# Set up the storage for the embeddings\n",
    "storage_context = StorageContext.from_defaults(vector_store=vector_store)"
   ]
  },
  {
   "cell_type": "code",
   "execution_count": 79,
   "id": "358b3200-e9dc-4759-b186-336b413f1fd4",
   "metadata": {},
   "outputs": [],
   "source": [
    "# If an index with the same index name already exists within Weaviate, delete it\n",
    "# if client.schema.exists(\"LlamaIndex\"):\n",
    "#     client.schema.delete_class(\"LlamaIndex\")\n",
    "\n",
    "# index = VectorStoreIndex(\n",
    "#     nodes,\n",
    "#     storage_context = storage_context,\n",
    "# )"
   ]
  },
  {
   "cell_type": "code",
   "execution_count": 11,
   "id": "92b5c461-9bdb-45fc-a0a5-29cb4e128f25",
   "metadata": {},
   "outputs": [],
   "source": [
    "import json\n",
    "\n",
    "index_name=\"LlamaIndex\"\n",
    "response = client.schema.get(index_name)\n",
    "\n",
    "# print(json.dumps(response, indent=2))"
   ]
  },
  {
   "cell_type": "markdown",
   "id": "ecb60e9f-3f12-4d4d-9774-d9c214490e18",
   "metadata": {},
   "source": [
    "### Loading the index"
   ]
  },
  {
   "cell_type": "code",
   "execution_count": 37,
   "id": "f769b663-54ca-4351-b80c-90ea2805aecd",
   "metadata": {},
   "outputs": [],
   "source": [
    "vector_store = WeaviateVectorStore(\n",
    "    weaviate_client=client, index_name=\"LlamaIndex\"\n",
    ")\n",
    "\n",
    "index = VectorStoreIndex.from_vector_store(vector_store)"
   ]
  },
  {
   "cell_type": "markdown",
   "id": "3fd4da3a-1911-4ed7-9792-523f880e9f36",
   "metadata": {},
   "source": [
    "### Query Index"
   ]
  },
  {
   "cell_type": "code",
   "execution_count": 39,
   "id": "74e03bf8-b75c-41d8-a6e4-c0518fc223fd",
   "metadata": {},
   "outputs": [
    {
     "name": "stdout",
     "output_type": "stream",
     "text": [
      "INFO:httpx:HTTP Request: POST https://api.openai.com/v1/embeddings \"HTTP/1.1 200 OK\"\n",
      "HTTP Request: POST https://api.openai.com/v1/embeddings \"HTTP/1.1 200 OK\"\n",
      "INFO:httpx:HTTP Request: POST https://api.openai.com/v1/chat/completions \"HTTP/1.1 200 OK\"\n",
      "HTTP Request: POST https://api.openai.com/v1/chat/completions \"HTTP/1.1 200 OK\"\n",
      "{'e05f0fc2-15d3-40e1-a17f-d4ba60f6199b': {'window': 'offers a wide selection of professional salon products including styling chair , salon hairdryer , salon equipment , etc .  to showcase the uniqueness of each salon', 'original_text': 'to showcase the uniqueness of each salon', 'product_id': 7465, 'product_name': 'hair salon chair'}, 'ed7967fc-f7da-47c1-86c5-445027ee1fcd': {'window': 'office work chair beauty salon chair white', 'original_text': 'office work chair beauty salon chair white', 'product_id': 33690, 'product_name': 'office work chair beauty salon chair white'}}\n"
     ]
    }
   ],
   "source": [
    "query_engine = index.as_query_engine(                                                                           \n",
    "    vector_store_query_mode=\"hybrid\", similarity_top_k=2\n",
    ")\n",
    "response = query_engine.query(                                                                                     \n",
    "    \"salon chair\",\n",
    ")"
   ]
  },
  {
   "cell_type": "code",
   "execution_count": 43,
   "id": "c8705a1f-e207-4f16-91c6-85b370a61372",
   "metadata": {},
   "outputs": [
    {
     "name": "stdout",
     "output_type": "stream",
     "text": [
      "{'e05f0fc2-15d3-40e1-a17f-d4ba60f6199b': {'window': 'offers a wide selection of professional salon products including styling chair , salon hairdryer , salon equipment , etc .  to showcase the uniqueness of each salon', 'original_text': 'to showcase the uniqueness of each salon', 'product_id': 7465, 'product_name': 'hair salon chair'}, 'ed7967fc-f7da-47c1-86c5-445027ee1fcd': {'window': 'office work chair beauty salon chair white', 'original_text': 'office work chair beauty salon chair white', 'product_id': 33690, 'product_name': 'office work chair beauty salon chair white'}}\n"
     ]
    }
   ],
   "source": [
    "print(response.metadata)"
   ]
  },
  {
   "cell_type": "code",
   "execution_count": 46,
   "id": "c9ed681d-a15f-4870-aba6-6b0748eb0e76",
   "metadata": {},
   "outputs": [
    {
     "name": "stdout",
     "output_type": "stream",
     "text": [
      "{\n",
      "  \"e05f0fc2-15d3-40e1-a17f-d4ba60f6199b\": {\n",
      "    \"window\": \"offers a wide selection of professional salon products including styling chair , salon hairdryer , salon equipment , etc .  to showcase the uniqueness of each salon\",\n",
      "    \"original_text\": \"to showcase the uniqueness of each salon\",\n",
      "    \"product_id\": 7465,\n",
      "    \"product_name\": \"hair salon chair\"\n",
      "  },\n",
      "  \"ed7967fc-f7da-47c1-86c5-445027ee1fcd\": {\n",
      "    \"window\": \"office work chair beauty salon chair white\",\n",
      "    \"original_text\": \"office work chair beauty salon chair white\",\n",
      "    \"product_id\": 33690,\n",
      "    \"product_name\": \"office work chair beauty salon chair white\"\n",
      "  }\n",
      "}\n"
     ]
    }
   ],
   "source": [
    "import json\n",
    "print(json.dumps(response.metadata, indent=2))"
   ]
  },
  {
   "cell_type": "code",
   "execution_count": 21,
   "id": "c1b454c1-15c1-415d-9080-2d98df916e3e",
   "metadata": {},
   "outputs": [],
   "source": [
    "from IPython.display import Markdown, display"
   ]
  },
  {
   "cell_type": "code",
   "execution_count": 22,
   "id": "2ece8ccd-80d2-486e-98d9-304a27571709",
   "metadata": {},
   "outputs": [
    {
     "data": {
      "text/markdown": [
       "<b>The products mentioned are suitable for outdoor use and are designed for bar settings.</b>"
      ],
      "text/plain": [
       "<IPython.core.display.Markdown object>"
      ]
     },
     "metadata": {},
     "output_type": "display_data"
    }
   ],
   "source": [
    "display(Markdown(f\"<b>{response}</b>\"))"
   ]
  },
  {
   "cell_type": "markdown",
   "id": "e9f0d138-cb31-4cb3-9499-194737b04250",
   "metadata": {},
   "source": [
    "### Query Index with Hybrid Search"
   ]
  },
  {
   "cell_type": "code",
   "execution_count": 26,
   "id": "4f7faa48-7530-4c14-bba7-483157e83534",
   "metadata": {},
   "outputs": [],
   "source": [
    "from llama_index.core.response.notebook_utils import display_response"
   ]
  },
  {
   "cell_type": "code",
   "execution_count": 45,
   "id": "ab9cbd33-d919-48ff-a22c-85a51c89543a",
   "metadata": {},
   "outputs": [
    {
     "name": "stdout",
     "output_type": "stream",
     "text": [
      "INFO:httpx:HTTP Request: POST https://api.openai.com/v1/embeddings \"HTTP/1.1 200 OK\"\n",
      "HTTP Request: POST https://api.openai.com/v1/embeddings \"HTTP/1.1 200 OK\"\n",
      "INFO:httpx:HTTP Request: POST https://api.openai.com/v1/chat/completions \"HTTP/1.1 200 OK\"\n",
      "HTTP Request: POST https://api.openai.com/v1/chat/completions \"HTTP/1.1 200 OK\"\n"
     ]
    }
   ],
   "source": [
    "query_engine = index.as_query_engine(\n",
    "    vector_store_query_mode=\"hybrid\", similarity_top_k=2\n",
    ")\n",
    "response = query_engine.query(\n",
    "    \"salon chair\",\n",
    ")"
   ]
  },
  {
   "cell_type": "code",
   "execution_count": 46,
   "id": "fb0922e0-17b0-41a0-87b5-59131679ab10",
   "metadata": {},
   "outputs": [
    {
     "data": {
      "text/markdown": [
       "**`Final Response:`** The product_id 7465 is associated with the product_name \"hair salon chair,\" which is designed to showcase the uniqueness of each salon."
      ],
      "text/plain": [
       "<IPython.core.display.Markdown object>"
      ]
     },
     "metadata": {},
     "output_type": "display_data"
    }
   ],
   "source": [
    "display_response(response)"
   ]
  },
  {
   "cell_type": "code",
   "execution_count": 65,
   "id": "9ab5e37e-79ce-4320-82a3-57754535db57",
   "metadata": {},
   "outputs": [],
   "source": [
    "# from llama_index.core.postprocessor import MetadataReplacementPostProcessor\n",
    "\n",
    "# # The target key defaults to `window` to match the node_parser's default\n",
    "# postproc = MetadataReplacementPostProcessor(\n",
    "#     target_metadata_key=\"window\"\n",
    "# )"
   ]
  },
  {
   "cell_type": "code",
   "execution_count": 61,
   "id": "d484e42a-960b-4ade-8d05-89657c78e868",
   "metadata": {},
   "outputs": [
    {
     "name": "stdout",
     "output_type": "stream",
     "text": [
      "INFO:httpx:HTTP Request: POST https://api.openai.com/v1/embeddings \"HTTP/1.1 200 OK\"\n",
      "HTTP Request: POST https://api.openai.com/v1/embeddings \"HTTP/1.1 200 OK\"\n",
      "INFO:httpx:HTTP Request: POST https://api.openai.com/v1/chat/completions \"HTTP/1.1 200 OK\"\n",
      "HTTP Request: POST https://api.openai.com/v1/chat/completions \"HTTP/1.1 200 OK\"\n"
     ]
    }
   ],
   "source": [
    "# set Logging to DEBUG for more detailed outputs\n",
    "query_engine = index.as_query_engine(\n",
    "    vector_store_query_mode=\"hybrid\", similarity_top_k=5, alpha=0.0\n",
    ")\n",
    "response = query_engine.query(\n",
    "    \"salon chair\",\n",
    ")"
   ]
  },
  {
   "cell_type": "code",
   "execution_count": 62,
   "id": "f383c331-50df-4ab5-9d1b-ec9175731b42",
   "metadata": {},
   "outputs": [
    {
     "data": {
      "text/markdown": [
       "**`Final Response:`** The salon chair is designed to showcase the uniqueness of each salon and create a fashionable salon interior. It offers a wide selection of professional salon products including styling chair, salon hairdryer, salon equipment, etc. The salon chair is made with the highest quality parts to provide long-lasting performance and a comfortable experience for customers."
      ],
      "text/plain": [
       "<IPython.core.display.Markdown object>"
      ]
     },
     "metadata": {},
     "output_type": "display_data"
    }
   ],
   "source": [
    "display_response(response)"
   ]
  },
  {
   "cell_type": "code",
   "execution_count": 63,
   "id": "e35649c1-fcda-4594-a3d3-f87bb9b68d08",
   "metadata": {},
   "outputs": [
    {
     "data": {
      "text/plain": [
       "{'e05f0fc2-15d3-40e1-a17f-d4ba60f6199b': {'window': 'offers a wide selection of professional salon products including styling chair , salon hairdryer , salon equipment , etc .  to showcase the uniqueness of each salon',\n",
       "  'original_text': 'to showcase the uniqueness of each salon',\n",
       "  'product_id': 7465,\n",
       "  'product_name': 'hair salon chair'},\n",
       " '81dead1c-a774-4be8-93bf-3ff79461f823': {'window': 'offers a wide selection of professional salon products including styling chair , salon hairdryer , salon equipment , etc .  to showcase the uniqueness of each salon',\n",
       "  'original_text': 'offers a wide selection of professional salon products including styling chair , salon hairdryer , salon equipment , etc . ',\n",
       "  'product_id': 7465,\n",
       "  'product_name': 'hair salon chair'},\n",
       " 'd3baf129-0497-47ad-a4ae-2bc95ea791d3': {'window': 'mercer41 beauty offers a wide selection professional beauty salon equipment including salon styling chair , salon hair dryer , barber pole light , etc .  to showcase the uniqueness of each salon.the mercer41 beauty chairs for salon are beautifully designed to create a fashionable salon interior .  they are made with the highest quality parts to provide a long lasting performance and a comfortable experience your customers will enjoy.the mercer41 hydraulic salon chairs are made with heavy duty steel frame , along with premium chrome round base , sturdy arms , durable hydraulic pump and thick high density foam seat and back rest .  with its 360 degree swivel and adjustable high quality hydraulic pump , you can turn the salon chair to any position and adjust the height easily to meet your needs .  styling chairs for salon .',\n",
       "  'original_text': 'to showcase the uniqueness of each salon.the mercer41 beauty chairs for salon are beautifully designed to create a fashionable salon interior . ',\n",
       "  'product_id': 7468,\n",
       "  'product_name': 'mercer41 hair salon chair hydraulic styling chair ( rose gold )'},\n",
       " 'e1c74205-fb2e-4c33-bf9d-8053178fae72': {'window': 'mercer41 beauty offers a wide selection professional beauty salon equipment including salon styling chair , salon hair dryer , barber pole light , etc .  to showcase the uniqueness of each salon.the mercer41 beauty chairs for salon are beautifully designed to create a fashionable salon interior .  they are made with the highest quality parts to provide a long lasting performance and a comfortable experience your customers will enjoy.the mercer41 hydraulic salon chairs are made with heavy duty steel frame , along with premium chrome round base , sturdy arms , durable hydraulic pump and thick high density foam seat and back rest .  with its 360 degree swivel and adjustable high quality hydraulic pump , you can turn the salon chair to any position and adjust the height easily to meet your needs .  styling chairs for salon .',\n",
       "  'original_text': 'they are made with the highest quality parts to provide a long lasting performance and a comfortable experience your customers will enjoy.the mercer41 hydraulic salon chairs are made with heavy duty steel frame , along with premium chrome round base , sturdy arms , durable hydraulic pump and thick high density foam seat and back rest . ',\n",
       "  'product_id': 7468,\n",
       "  'product_name': 'mercer41 hair salon chair hydraulic styling chair ( rose gold )'},\n",
       " '9ed220df-34b7-4519-a2a6-01c07b926251': {'window': 'lift chair office work chair beauty salon chair brown',\n",
       "  'original_text': 'lift chair office work chair beauty salon chair brown',\n",
       "  'product_id': 33691,\n",
       "  'product_name': 'lift chair office work chair beauty salon chair brown'}}"
      ]
     },
     "execution_count": 63,
     "metadata": {},
     "output_type": "execute_result"
    }
   ],
   "source": [
    "response.metadata"
   ]
  },
  {
   "cell_type": "code",
   "execution_count": 56,
   "id": "59c1f525-f71f-4328-a954-fc68e812a4f4",
   "metadata": {},
   "outputs": [
    {
     "name": "stdout",
     "output_type": "stream",
     "text": [
      "     query_id  product_id    label\n",
      "80          0        7465    Exact\n",
      "109         0       33690  Partial\n"
     ]
    },
    {
     "data": {
      "text/plain": [
       "{'query_id': [0, 0], 'product_id': [7465, 33690], 'label': ['Exact', 'Partial']}"
      ]
     },
     "execution_count": 56,
     "metadata": {},
     "output_type": "execute_result"
    }
   ],
   "source": [
    "# get manually labeled groundtruth lables\n",
    "label_df = pd.read_csv(\"dataset/label.csv\", sep='\\t')\n",
    "\n",
    "filtered_df = label_df[(label_df['query_id'] == 0) & (label_df['product_id'].isin([7465, 33690]))]\n",
    "result_dict = filtered_df[['query_id', 'product_id', 'label']]\n",
    "print(result_dict)"
   ]
  },
  {
   "cell_type": "code",
   "execution_count": 55,
   "id": "930676a8-250e-4a69-9b97-d143d29d0e4f",
   "metadata": {},
   "outputs": [
    {
     "data": {
      "text/html": [
       "<div>\n",
       "<style scoped>\n",
       "    .dataframe tbody tr th:only-of-type {\n",
       "        vertical-align: middle;\n",
       "    }\n",
       "\n",
       "    .dataframe tbody tr th {\n",
       "        vertical-align: top;\n",
       "    }\n",
       "\n",
       "    .dataframe thead th {\n",
       "        text-align: right;\n",
       "    }\n",
       "</style>\n",
       "<table border=\"1\" class=\"dataframe\">\n",
       "  <thead>\n",
       "    <tr style=\"text-align: right;\">\n",
       "      <th></th>\n",
       "      <th>id</th>\n",
       "      <th>query_id</th>\n",
       "      <th>product_id</th>\n",
       "      <th>label</th>\n",
       "    </tr>\n",
       "  </thead>\n",
       "  <tbody>\n",
       "    <tr>\n",
       "      <th>80</th>\n",
       "      <td>80</td>\n",
       "      <td>0</td>\n",
       "      <td>7465</td>\n",
       "      <td>Exact</td>\n",
       "    </tr>\n",
       "  </tbody>\n",
       "</table>\n",
       "</div>"
      ],
      "text/plain": [
       "    id  query_id  product_id  label\n",
       "80  80         0        7465  Exact"
      ]
     },
     "execution_count": 55,
     "metadata": {},
     "output_type": "execute_result"
    }
   ],
   "source": [
    "label_df[(label_df['query_id'] == 0) & (label_df['product_id'] == 7465)]"
   ]
  },
  {
   "cell_type": "code",
   "execution_count": 64,
   "id": "01dc06ec-c551-456a-8ba4-ed5a5d33b923",
   "metadata": {},
   "outputs": [
    {
     "data": {
      "text/html": [
       "<div>\n",
       "<style scoped>\n",
       "    .dataframe tbody tr th:only-of-type {\n",
       "        vertical-align: middle;\n",
       "    }\n",
       "\n",
       "    .dataframe tbody tr th {\n",
       "        vertical-align: top;\n",
       "    }\n",
       "\n",
       "    .dataframe thead th {\n",
       "        text-align: right;\n",
       "    }\n",
       "</style>\n",
       "<table border=\"1\" class=\"dataframe\">\n",
       "  <thead>\n",
       "    <tr style=\"text-align: right;\">\n",
       "      <th></th>\n",
       "      <th>id</th>\n",
       "      <th>query_id</th>\n",
       "      <th>product_id</th>\n",
       "      <th>label</th>\n",
       "    </tr>\n",
       "  </thead>\n",
       "  <tbody>\n",
       "    <tr>\n",
       "      <th>104</th>\n",
       "      <td>104</td>\n",
       "      <td>0</td>\n",
       "      <td>7468</td>\n",
       "      <td>Exact</td>\n",
       "    </tr>\n",
       "  </tbody>\n",
       "</table>\n",
       "</div>"
      ],
      "text/plain": [
       "      id  query_id  product_id  label\n",
       "104  104         0        7468  Exact"
      ]
     },
     "execution_count": 64,
     "metadata": {},
     "output_type": "execute_result"
    }
   ],
   "source": [
    "label_df[(label_df['query_id'] == 0) & (label_df['product_id'] == 7468)]"
   ]
  },
  {
   "cell_type": "code",
   "execution_count": 65,
   "id": "cf354e45-8153-4335-9473-82c910c52987",
   "metadata": {},
   "outputs": [
    {
     "data": {
      "text/html": [
       "<div>\n",
       "<style scoped>\n",
       "    .dataframe tbody tr th:only-of-type {\n",
       "        vertical-align: middle;\n",
       "    }\n",
       "\n",
       "    .dataframe tbody tr th {\n",
       "        vertical-align: top;\n",
       "    }\n",
       "\n",
       "    .dataframe thead th {\n",
       "        text-align: right;\n",
       "    }\n",
       "</style>\n",
       "<table border=\"1\" class=\"dataframe\">\n",
       "  <thead>\n",
       "    <tr style=\"text-align: right;\">\n",
       "      <th></th>\n",
       "      <th>id</th>\n",
       "      <th>query_id</th>\n",
       "      <th>product_id</th>\n",
       "      <th>label</th>\n",
       "    </tr>\n",
       "  </thead>\n",
       "  <tbody>\n",
       "    <tr>\n",
       "      <th>98</th>\n",
       "      <td>98</td>\n",
       "      <td>0</td>\n",
       "      <td>33691</td>\n",
       "      <td>Partial</td>\n",
       "    </tr>\n",
       "  </tbody>\n",
       "</table>\n",
       "</div>"
      ],
      "text/plain": [
       "    id  query_id  product_id    label\n",
       "98  98         0       33691  Partial"
      ]
     },
     "execution_count": 65,
     "metadata": {},
     "output_type": "execute_result"
    }
   ],
   "source": [
    "label_df[(label_df['query_id'] == 0) & (label_df['product_id'] == 33691)]"
   ]
  },
  {
   "cell_type": "markdown",
   "id": "04ddc0f8-36b1-4822-acb8-a0a5b7b3ee7d",
   "metadata": {},
   "source": [
    "### Query With MetadataReplacementPostProcessor"
   ]
  },
  {
   "cell_type": "code",
   "execution_count": 63,
   "id": "0eac214c-ec78-4baa-8a81-7cb400bf734a",
   "metadata": {},
   "outputs": [],
   "source": [
    "from llama_index.core.postprocessor import MetadataReplacementPostProcessor"
   ]
  },
  {
   "cell_type": "code",
   "execution_count": 64,
   "id": "24227052-fc66-4a07-b767-84892ccfda36",
   "metadata": {},
   "outputs": [],
   "source": [
    "query_engine = index.as_query_engine(\n",
    "    vector_store_query_mode=\"hybrid\", \n",
    "    similarity_top_k=2,\n",
    "    # the target key defaults to `window` to match the node_parser's default\n",
    "    node_postprocessors=[\n",
    "        MetadataReplacementPostProcessor(target_metadata_key=\"window\")\n",
    "    ],\n",
    ")"
   ]
  },
  {
   "cell_type": "code",
   "execution_count": 65,
   "id": "9c0f4bbe-19d1-4d0e-976d-52c0ce5b561d",
   "metadata": {},
   "outputs": [
    {
     "name": "stdout",
     "output_type": "stream",
     "text": [
      "INFO:httpx:HTTP Request: POST https://api.openai.com/v1/embeddings \"HTTP/1.1 200 OK\"\n",
      "HTTP Request: POST https://api.openai.com/v1/embeddings \"HTTP/1.1 200 OK\"\n",
      "INFO:httpx:HTTP Request: POST https://api.openai.com/v1/chat/completions \"HTTP/1.1 200 OK\"\n",
      "HTTP Request: POST https://api.openai.com/v1/chat/completions \"HTTP/1.1 200 OK\"\n",
      "The product that falls under the category of a salon chair is the \"hair salon chair.\"\n"
     ]
    }
   ],
   "source": [
    "window_response = query_engine.query(\n",
    "    \"salon chair\"\n",
    ")\n",
    "print(window_response)"
   ]
  },
  {
   "cell_type": "code",
   "execution_count": 66,
   "id": "daf84770-c373-47b6-96b1-f0bd941cb1d7",
   "metadata": {},
   "outputs": [
    {
     "name": "stdout",
     "output_type": "stream",
     "text": [
      "{\n",
      "  \"e05f0fc2-15d3-40e1-a17f-d4ba60f6199b\": {\n",
      "    \"window\": \"offers a wide selection of professional salon products including styling chair , salon hairdryer , salon equipment , etc .  to showcase the uniqueness of each salon\",\n",
      "    \"original_text\": \"to showcase the uniqueness of each salon\",\n",
      "    \"product_id\": 7465,\n",
      "    \"product_name\": \"hair salon chair\"\n",
      "  },\n",
      "  \"ed7967fc-f7da-47c1-86c5-445027ee1fcd\": {\n",
      "    \"window\": \"office work chair beauty salon chair white\",\n",
      "    \"original_text\": \"office work chair beauty salon chair white\",\n",
      "    \"product_id\": 33690,\n",
      "    \"product_name\": \"office work chair beauty salon chair white\"\n",
      "  }\n",
      "}\n"
     ]
    }
   ],
   "source": [
    "import json\n",
    "print(json.dumps(window_response.metadata, indent=2))"
   ]
  },
  {
   "cell_type": "code",
   "execution_count": 67,
   "id": "48455db8-5846-414d-a044-b9dedb83062f",
   "metadata": {},
   "outputs": [
    {
     "name": "stdout",
     "output_type": "stream",
     "text": [
      "Window: offers a wide selection of professional salon products including styling chair , salon hairdryer , salon equipment , etc .  to showcase the uniqueness of each salon\n",
      "------------------\n",
      "Original Sentence: to showcase the uniqueness of each salon\n"
     ]
    }
   ],
   "source": [
    "window = window_response.source_nodes[0].node.metadata[\"window\"]\n",
    "sentence = window_response.source_nodes[0].node.metadata[\"original_text\"]\n",
    "\n",
    "print(f\"Window: {window}\")\n",
    "print(\"------------------\")\n",
    "print(f\"Original Sentence: {sentence}\")"
   ]
  },
  {
   "cell_type": "code",
   "execution_count": 68,
   "id": "11bb0ba1-b5d3-4c08-980b-61381a4d193e",
   "metadata": {},
   "outputs": [
    {
     "name": "stdout",
     "output_type": "stream",
     "text": [
      "to showcase the uniqueness of each salon\n",
      "--------\n",
      "office work chair beauty salon chair white\n",
      "--------\n"
     ]
    }
   ],
   "source": [
    "for source_node in window_response.source_nodes:\n",
    "    print(source_node.node.metadata[\"original_text\"])\n",
    "    print(\"--------\")"
   ]
  },
  {
   "cell_type": "markdown",
   "id": "ebf0c066-7276-48e0-9922-cc90ccc959a6",
   "metadata": {},
   "source": [
    "### Custom Retrievers"
   ]
  },
  {
   "cell_type": "code",
   "execution_count": 69,
   "id": "cfe546eb-8d33-4e4f-855d-6f44842df465",
   "metadata": {},
   "outputs": [],
   "source": [
    "from llama_index.core import Settings\n",
    "\n",
    "nodes = Settings.node_parser.get_nodes_from_documents(documents)"
   ]
  },
  {
   "cell_type": "code",
   "execution_count": 70,
   "id": "907ed8b6-1ddd-4b22-9c95-c893463383fc",
   "metadata": {},
   "outputs": [],
   "source": [
    "from llama_index.core import StorageContext\n",
    "\n",
    "# initialize storage context (by default it's in-memory)\n",
    "storage_context = StorageContext.from_defaults()\n",
    "storage_context.docstore.add_documents(nodes)"
   ]
  },
  {
   "cell_type": "code",
   "execution_count": 89,
   "id": "7363fe6a-3104-486b-b608-734b8d9af178",
   "metadata": {},
   "outputs": [],
   "source": [
    "from llama_index.core import SimpleKeywordTableIndex, VectorStoreIndex\n",
    "\n",
    "# vector_index = VectorStoreIndex(nodes, storage_context=storage_context)\n",
    "# keyword_index = SimpleKeywordTableIndex(nodes, storage_context=storage_context)"
   ]
  },
  {
   "cell_type": "markdown",
   "id": "2b11960d-9412-47ee-875e-f73f82057eeb",
   "metadata": {},
   "source": [
    "### LLM Reranker"
   ]
  },
  {
   "cell_type": "code",
   "execution_count": 72,
   "id": "02575153-dd47-4894-9d6b-586183cf59b1",
   "metadata": {},
   "outputs": [],
   "source": [
    "import nest_asyncio\n",
    "\n",
    "nest_asyncio.apply()"
   ]
  },
  {
   "cell_type": "code",
   "execution_count": 74,
   "id": "a9aaaef2-65ed-4aae-88eb-408f8cc9f7d9",
   "metadata": {},
   "outputs": [],
   "source": [
    "import logging\n",
    "import sys\n",
    "\n",
    "logging.basicConfig(stream=sys.stdout, level=logging.INFO)\n",
    "logging.getLogger().addHandler(logging.StreamHandler(stream=sys.stdout))"
   ]
  },
  {
   "cell_type": "code",
   "execution_count": 80,
   "id": "d14da5f1-93b4-422b-bc8c-547fa4a8d871",
   "metadata": {},
   "outputs": [],
   "source": [
    "from llama_index.core.retrievers import VectorIndexRetriever\n",
    "from llama_index.core import QueryBundle\n",
    "from llama_index.core import VectorStoreIndex, SimpleDirectoryReader\n",
    "from llama_index.core.postprocessor import LLMRerank\n",
    "from llama_index.llms.openai import OpenAI\n",
    "\n",
    "def get_retrieved_nodes(\n",
    "    query_str, vector_top_k=10, reranker_top_n=2, with_reranker=False\n",
    "):\n",
    "    query_bundle = QueryBundle(query_str)\n",
    "    retriever = VectorIndexRetriever(\n",
    "        index=index,\n",
    "        similarity_top_k=vector_top_k,\n",
    "    )\n",
    "    retrieved_nodes = retriever.retrieve(query_bundle)\n",
    "\n",
    "    if with_reranker:\n",
    "        reranker = LLMRerank(\n",
    "            choice_batch_size=5,\n",
    "            top_n=reranker_top_n,\n",
    "        )\n",
    "        retrieved_nodes = reranker.postprocess_nodes(\n",
    "            retrieved_nodes, query_bundle\n",
    "        )\n",
    "    return retrieved_nodes"
   ]
  },
  {
   "cell_type": "code",
   "execution_count": 81,
   "id": "78e2c40d-364b-4285-826d-e7fd2878c75a",
   "metadata": {},
   "outputs": [
    {
     "name": "stdout",
     "output_type": "stream",
     "text": [
      "INFO:httpx:HTTP Request: POST https://api.openai.com/v1/embeddings \"HTTP/1.1 200 OK\"\n",
      "HTTP Request: POST https://api.openai.com/v1/embeddings \"HTTP/1.1 200 OK\"\n",
      "HTTP Request: POST https://api.openai.com/v1/embeddings \"HTTP/1.1 200 OK\"\n",
      "HTTP Request: POST https://api.openai.com/v1/embeddings \"HTTP/1.1 200 OK\"\n"
     ]
    }
   ],
   "source": [
    "new_nodes = get_retrieved_nodes(\n",
    "     \"salon chair\",\n",
    "    vector_top_k=2,\n",
    "    with_reranker=False,\n",
    ")"
   ]
  },
  {
   "cell_type": "code",
   "execution_count": 92,
   "id": "4d6e15b3-c5e4-46a8-b90b-519317ad4ba3",
   "metadata": {},
   "outputs": [
    {
     "name": "stdout",
     "output_type": "stream",
     "text": [
      "Node ID: e05f0fc2-15d3-40e1-a17f-d4ba60f6199b\n",
      "Text: to showcase the uniqueness of each salon\n",
      "Score:  0.904\n",
      "\n",
      "Node ID: 2c2fa1b0-e694-4eb6-a734-99f06ecb18b2\n",
      "Text: it features a curved backrest design , an adjustable lift seat ,\n",
      "and a five-star base with casters for easy mobility .\n",
      "Score:  0.900\n",
      "\n"
     ]
    }
   ],
   "source": [
    "for node in new_nodes:\n",
    "    print(node)"
   ]
  },
  {
   "cell_type": "code",
   "execution_count": 106,
   "id": "5e8f07d6-9be1-42c8-872f-5a3b1d96c950",
   "metadata": {},
   "outputs": [
    {
     "name": "stdout",
     "output_type": "stream",
     "text": [
      "INFO:httpx:HTTP Request: POST https://api.openai.com/v1/embeddings \"HTTP/1.1 200 OK\"\n",
      "HTTP Request: POST https://api.openai.com/v1/embeddings \"HTTP/1.1 200 OK\"\n",
      "HTTP Request: POST https://api.openai.com/v1/embeddings \"HTTP/1.1 200 OK\"\n",
      "HTTP Request: POST https://api.openai.com/v1/embeddings \"HTTP/1.1 200 OK\"\n",
      "INFO:httpx:HTTP Request: POST https://api.openai.com/v1/chat/completions \"HTTP/1.1 200 OK\"\n",
      "HTTP Request: POST https://api.openai.com/v1/chat/completions \"HTTP/1.1 200 OK\"\n",
      "HTTP Request: POST https://api.openai.com/v1/chat/completions \"HTTP/1.1 200 OK\"\n",
      "HTTP Request: POST https://api.openai.com/v1/chat/completions \"HTTP/1.1 200 OK\"\n",
      "INFO:httpx:HTTP Request: POST https://api.openai.com/v1/chat/completions \"HTTP/1.1 200 OK\"\n",
      "HTTP Request: POST https://api.openai.com/v1/chat/completions \"HTTP/1.1 200 OK\"\n",
      "HTTP Request: POST https://api.openai.com/v1/chat/completions \"HTTP/1.1 200 OK\"\n",
      "HTTP Request: POST https://api.openai.com/v1/chat/completions \"HTTP/1.1 200 OK\"\n"
     ]
    }
   ],
   "source": [
    "new_nodes = get_retrieved_nodes(\n",
    "    \"salon chair\",\n",
    "    reranker_top_n=2,\n",
    "    with_reranker=True,\n",
    ")"
   ]
  },
  {
   "cell_type": "code",
   "execution_count": 107,
   "id": "78bc439f-1a2d-4918-b7be-1a695d7e7af2",
   "metadata": {},
   "outputs": [
    {
     "name": "stdout",
     "output_type": "stream",
     "text": [
      "Node ID: e6cae8c0-df0a-4cea-8ecf-73792d09b11b\n",
      "Text: barber chair salon chair styling chair salon chairs hair styling\n",
      "chair haircut chair salon chair haircut chair salon barber chair heavy\n",
      "duty barber chair shampoo chair hydraulic salon chair salon stool\n",
      "chair beauty hair chair shampoo chair adjustable swivel barber chairs\n",
      "shampoo chair with leg rest salon stool for hair stylist stool salon\n",
      "haircu...\n",
      "Score:  10.000\n",
      "\n",
      "Node ID: e05f0fc2-15d3-40e1-a17f-d4ba60f6199b\n",
      "Text: to showcase the uniqueness of each salon\n",
      "Score:  8.000\n",
      "\n"
     ]
    }
   ],
   "source": [
    "for node in new_nodes:\n",
    "    print(node)"
   ]
  },
  {
   "cell_type": "code",
   "execution_count": 102,
   "id": "a8d33dcb-17a4-4e71-896c-85171f0bb42e",
   "metadata": {},
   "outputs": [
    {
     "name": "stdout",
     "output_type": "stream",
     "text": [
      "INFO:httpx:HTTP Request: POST https://api.openai.com/v1/embeddings \"HTTP/1.1 200 OK\"\n",
      "HTTP Request: POST https://api.openai.com/v1/embeddings \"HTTP/1.1 200 OK\"\n",
      "HTTP Request: POST https://api.openai.com/v1/embeddings \"HTTP/1.1 200 OK\"\n",
      "HTTP Request: POST https://api.openai.com/v1/embeddings \"HTTP/1.1 200 OK\"\n",
      "INFO:httpx:HTTP Request: POST https://api.openai.com/v1/chat/completions \"HTTP/1.1 200 OK\"\n",
      "HTTP Request: POST https://api.openai.com/v1/chat/completions \"HTTP/1.1 200 OK\"\n",
      "HTTP Request: POST https://api.openai.com/v1/chat/completions \"HTTP/1.1 200 OK\"\n",
      "HTTP Request: POST https://api.openai.com/v1/chat/completions \"HTTP/1.1 200 OK\"\n",
      "INFO:httpx:HTTP Request: POST https://api.openai.com/v1/chat/completions \"HTTP/1.1 200 OK\"\n",
      "HTTP Request: POST https://api.openai.com/v1/chat/completions \"HTTP/1.1 200 OK\"\n",
      "HTTP Request: POST https://api.openai.com/v1/chat/completions \"HTTP/1.1 200 OK\"\n",
      "HTTP Request: POST https://api.openai.com/v1/chat/completions \"HTTP/1.1 200 OK\"\n",
      "INFO:httpx:HTTP Request: POST https://api.openai.com/v1/chat/completions \"HTTP/1.1 200 OK\"\n",
      "HTTP Request: POST https://api.openai.com/v1/chat/completions \"HTTP/1.1 200 OK\"\n",
      "HTTP Request: POST https://api.openai.com/v1/chat/completions \"HTTP/1.1 200 OK\"\n",
      "HTTP Request: POST https://api.openai.com/v1/chat/completions \"HTTP/1.1 200 OK\"\n"
     ]
    }
   ],
   "source": [
    "query_engine = index.as_query_engine(\n",
    "    similarity_top_k=10,\n",
    "    node_postprocessors=[\n",
    "        LLMRerank(\n",
    "            choice_batch_size=5,\n",
    "            top_n=2,\n",
    "        )\n",
    "    ],\n",
    "    response_mode=\"tree_summarize\",\n",
    ")\n",
    "response = query_engine.query(\n",
    "    \"salon chair\",\n",
    ")"
   ]
  },
  {
   "cell_type": "code",
   "execution_count": 103,
   "id": "77da3d8f-c5d8-4aa9-8597-ef53ef40bf97",
   "metadata": {},
   "outputs": [
    {
     "name": "stdout",
     "output_type": "stream",
     "text": [
      "{\n",
      "  \"e6cae8c0-df0a-4cea-8ecf-73792d09b11b\": {\n",
      "    \"window\": \"double-reinforced saddle sticking prevents ripping and tearing .  small cell high density foam for extra comfort of your client .  easy to assemble and clean .  barber chair salon chair styling chair salon chairs hair styling chair haircut chair salon chair haircut chair salon barber chair heavy duty barber chair shampoo chair hydraulic salon chair salon stool chair beauty hair chair shampoo chair adjustable swivel barber chairs shampoo chair with leg rest salon stool for hair stylist stool salon haircut chair home hydraulic lift styling chair heavy duty salon chair .\",\n",
      "    \"original_text\": \"barber chair salon chair styling chair salon chairs hair styling chair haircut chair salon chair haircut chair salon barber chair heavy duty barber chair shampoo chair hydraulic salon chair salon stool chair beauty hair chair shampoo chair adjustable swivel barber chairs shampoo chair with leg rest salon stool for hair stylist stool salon haircut chair home hydraulic lift styling chair heavy duty salon chair .\",\n",
      "    \"product_id\": 15612,\n",
      "    \"product_name\": \"massage chair\"\n",
      "  },\n",
      "  \"e05f0fc2-15d3-40e1-a17f-d4ba60f6199b\": {\n",
      "    \"window\": \"offers a wide selection of professional salon products including styling chair , salon hairdryer , salon equipment , etc .  to showcase the uniqueness of each salon\",\n",
      "    \"original_text\": \"to showcase the uniqueness of each salon\",\n",
      "    \"product_id\": 7465,\n",
      "    \"product_name\": \"hair salon chair\"\n",
      "  }\n",
      "}\n"
     ]
    }
   ],
   "source": [
    "print(json.dumps(response.metadata, indent=2))"
   ]
  },
  {
   "cell_type": "code",
   "execution_count": 105,
   "id": "57c8483e-21fa-44fd-97ef-3c030ae887fa",
   "metadata": {},
   "outputs": [
    {
     "name": "stdout",
     "output_type": "stream",
     "text": [
      "Final Response: The products mentioned include a massage chair, barber\n",
      "chairs, styling chairs, salon chairs, hair styling chairs, haircut\n",
      "chairs, heavy duty barber chairs, shampoo chairs, hydraulic salon\n",
      "chairs, salon stool chairs, beauty hair chairs, adjustable swivel\n",
      "barber chairs, shampoo chairs with leg rest, salon stools for hair\n",
      "stylists, hydraulic lift styling chairs, and heavy duty salon chairs.\n",
      "______________________________________________________________________\n",
      "Source Node 1/2\n",
      "Node ID: e6cae8c0-df0a-4cea-8ecf-73792d09b11b\n",
      "Similarity: 10.0\n",
      "Text: barber chair salon chair styling chair salon chairs hair styling\n",
      "chair haircut chair salon chair haircut chair salon barber chair heavy\n",
      "duty barber chair shampoo chair hydraulic salon chair salon stool\n",
      "chair beauty hair chair shampoo chair adjustable swivel barber chairs\n",
      "shampoo chair with leg rest salon stool for hair stylist stool salon\n",
      "haircu...\n",
      "______________________________________________________________________\n",
      "Source Node 2/2\n",
      "Node ID: e05f0fc2-15d3-40e1-a17f-d4ba60f6199b\n",
      "Similarity: 8.0\n",
      "Text: to showcase the uniqueness of each salon\n"
     ]
    }
   ],
   "source": [
    "from llama_index.core.response.pprint_utils import pprint_response\n",
    "\n",
    "pprint_response(response, show_source=True)"
   ]
  },
  {
   "cell_type": "code",
   "execution_count": 104,
   "id": "4bd2d778-cc7b-422c-8374-11f4c8742f90",
   "metadata": {},
   "outputs": [
    {
     "data": {
      "text/html": [
       "<div>\n",
       "<style scoped>\n",
       "    .dataframe tbody tr th:only-of-type {\n",
       "        vertical-align: middle;\n",
       "    }\n",
       "\n",
       "    .dataframe tbody tr th {\n",
       "        vertical-align: top;\n",
       "    }\n",
       "\n",
       "    .dataframe thead th {\n",
       "        text-align: right;\n",
       "    }\n",
       "</style>\n",
       "<table border=\"1\" class=\"dataframe\">\n",
       "  <thead>\n",
       "    <tr style=\"text-align: right;\">\n",
       "      <th></th>\n",
       "      <th>id</th>\n",
       "      <th>query_id</th>\n",
       "      <th>product_id</th>\n",
       "      <th>label</th>\n",
       "    </tr>\n",
       "  </thead>\n",
       "  <tbody>\n",
       "    <tr>\n",
       "      <th>101</th>\n",
       "      <td>101</td>\n",
       "      <td>0</td>\n",
       "      <td>15612</td>\n",
       "      <td>Exact</td>\n",
       "    </tr>\n",
       "  </tbody>\n",
       "</table>\n",
       "</div>"
      ],
      "text/plain": [
       "      id  query_id  product_id  label\n",
       "101  101         0       15612  Exact"
      ]
     },
     "execution_count": 104,
     "metadata": {},
     "output_type": "execute_result"
    }
   ],
   "source": [
    "label_df[(label_df['query_id'] == 0) & (label_df['product_id'] == 15612)]"
   ]
  },
  {
   "cell_type": "code",
   "execution_count": 118,
   "id": "cf8250c2-fd5e-4472-a75f-5f2ac39914f0",
   "metadata": {},
   "outputs": [],
   "source": [
    "from llama_index.postprocessor.cohere_rerank import CohereRerank"
   ]
  },
  {
   "cell_type": "code",
   "execution_count": 124,
   "id": "d7310197-cec0-41ec-9c49-333966490ca5",
   "metadata": {},
   "outputs": [],
   "source": [
    "api_key = os.environ[\"COHERE_API_KEY\"]\n",
    "cohere_rerank = CohereRerank(api_key=api_key, top_n=2)"
   ]
  },
  {
   "cell_type": "code",
   "execution_count": 125,
   "id": "2d9ab3c0-43ca-4934-bdb3-18623eea5141",
   "metadata": {},
   "outputs": [
    {
     "name": "stdout",
     "output_type": "stream",
     "text": [
      "INFO:httpx:HTTP Request: POST https://api.openai.com/v1/embeddings \"HTTP/1.1 200 OK\"\n",
      "HTTP Request: POST https://api.openai.com/v1/embeddings \"HTTP/1.1 200 OK\"\n",
      "HTTP Request: POST https://api.openai.com/v1/embeddings \"HTTP/1.1 200 OK\"\n",
      "HTTP Request: POST https://api.openai.com/v1/embeddings \"HTTP/1.1 200 OK\"\n",
      "INFO:httpx:HTTP Request: POST https://api.cohere.ai/v1/rerank \"HTTP/1.1 200 OK\"\n",
      "HTTP Request: POST https://api.cohere.ai/v1/rerank \"HTTP/1.1 200 OK\"\n",
      "HTTP Request: POST https://api.cohere.ai/v1/rerank \"HTTP/1.1 200 OK\"\n",
      "HTTP Request: POST https://api.cohere.ai/v1/rerank \"HTTP/1.1 200 OK\"\n",
      "INFO:httpx:HTTP Request: POST https://api.openai.com/v1/chat/completions \"HTTP/1.1 200 OK\"\n",
      "HTTP Request: POST https://api.openai.com/v1/chat/completions \"HTTP/1.1 200 OK\"\n",
      "HTTP Request: POST https://api.openai.com/v1/chat/completions \"HTTP/1.1 200 OK\"\n",
      "HTTP Request: POST https://api.openai.com/v1/chat/completions \"HTTP/1.1 200 OK\"\n"
     ]
    }
   ],
   "source": [
    "query_engine = index.as_query_engine(\n",
    "    similarity_top_k=10,\n",
    "    node_postprocessors=[cohere_rerank],\n",
    ")\n",
    "response = query_engine.query(\n",
    "    \"salon chair\",\n",
    ")"
   ]
  },
  {
   "cell_type": "code",
   "execution_count": 126,
   "id": "a52b4464-f997-4c59-9596-6131f82fdc57",
   "metadata": {},
   "outputs": [
    {
     "name": "stdout",
     "output_type": "stream",
     "text": [
      "{\n",
      "  \"814c82a2-d82b-4214-be7b-dbdc8113fcf4\": {\n",
      "    \"window\": \"salon chairs are a wonderful avenue for hairstylists and barbers to increase their revenue - have a comfortable chair for customers to enjoy during their visit .\",\n",
      "    \"original_text\": \"salon chairs are a wonderful avenue for hairstylists and barbers to increase their revenue - have a comfortable chair for customers to enjoy during their visit .\",\n",
      "    \"product_id\": 25431,\n",
      "    \"product_name\": \"barberpub salon massage chair\"\n",
      "  },\n",
      "  \"e05f0fc2-15d3-40e1-a17f-d4ba60f6199b\": {\n",
      "    \"window\": \"offers a wide selection of professional salon products including styling chair , salon hairdryer , salon equipment , etc .  to showcase the uniqueness of each salon\",\n",
      "    \"original_text\": \"to showcase the uniqueness of each salon\",\n",
      "    \"product_id\": 7465,\n",
      "    \"product_name\": \"hair salon chair\"\n",
      "  }\n",
      "}\n"
     ]
    }
   ],
   "source": [
    "print(json.dumps(response.metadata, indent=2))"
   ]
  },
  {
   "cell_type": "code",
   "execution_count": 129,
   "id": "d0c92f7b-e7d0-4f08-a5b1-09a67809ee8c",
   "metadata": {},
   "outputs": [
    {
     "data": {
      "text/html": [
       "<div>\n",
       "<style scoped>\n",
       "    .dataframe tbody tr th:only-of-type {\n",
       "        vertical-align: middle;\n",
       "    }\n",
       "\n",
       "    .dataframe tbody tr th {\n",
       "        vertical-align: top;\n",
       "    }\n",
       "\n",
       "    .dataframe thead th {\n",
       "        text-align: right;\n",
       "    }\n",
       "</style>\n",
       "<table border=\"1\" class=\"dataframe\">\n",
       "  <thead>\n",
       "    <tr style=\"text-align: right;\">\n",
       "      <th></th>\n",
       "      <th>id</th>\n",
       "      <th>query_id</th>\n",
       "      <th>product_id</th>\n",
       "      <th>label</th>\n",
       "    </tr>\n",
       "  </thead>\n",
       "  <tbody>\n",
       "    <tr>\n",
       "      <th>29</th>\n",
       "      <td>29</td>\n",
       "      <td>0</td>\n",
       "      <td>25431</td>\n",
       "      <td>Exact</td>\n",
       "    </tr>\n",
       "  </tbody>\n",
       "</table>\n",
       "</div>"
      ],
      "text/plain": [
       "    id  query_id  product_id  label\n",
       "29  29         0       25431  Exact"
      ]
     },
     "execution_count": 129,
     "metadata": {},
     "output_type": "execute_result"
    }
   ],
   "source": [
    "label_df[(label_df['query_id'] == 0) & (label_df['product_id'] == 25431)]"
   ]
  },
  {
   "cell_type": "markdown",
   "id": "f735ba0e-161f-4ea0-8a6e-3cd9397ff229",
   "metadata": {},
   "source": [
    "## Advanced techniques for Generation"
   ]
  },
  {
   "cell_type": "code",
   "execution_count": 109,
   "id": "ef4461a6-3ac9-4a0c-8277-86e085474fc3",
   "metadata": {},
   "outputs": [],
   "source": [
    "import time\n",
    "from llama_index.core import VectorStoreIndex\n",
    "from llama_index.core.postprocessor import SentenceEmbeddingOptimizer"
   ]
  },
  {
   "cell_type": "code",
   "execution_count": 110,
   "id": "e4543844-95e4-47f0-b812-c1abd4ae5500",
   "metadata": {},
   "outputs": [
    {
     "name": "stdout",
     "output_type": "stream",
     "text": [
      "Without optimization\n",
      "INFO:httpx:HTTP Request: POST https://api.openai.com/v1/embeddings \"HTTP/1.1 200 OK\"\n",
      "HTTP Request: POST https://api.openai.com/v1/embeddings \"HTTP/1.1 200 OK\"\n",
      "HTTP Request: POST https://api.openai.com/v1/embeddings \"HTTP/1.1 200 OK\"\n",
      "HTTP Request: POST https://api.openai.com/v1/embeddings \"HTTP/1.1 200 OK\"\n",
      "INFO:httpx:HTTP Request: POST https://api.openai.com/v1/chat/completions \"HTTP/1.1 200 OK\"\n",
      "HTTP Request: POST https://api.openai.com/v1/chat/completions \"HTTP/1.1 200 OK\"\n",
      "HTTP Request: POST https://api.openai.com/v1/chat/completions \"HTTP/1.1 200 OK\"\n",
      "HTTP Request: POST https://api.openai.com/v1/chat/completions \"HTTP/1.1 200 OK\"\n",
      "Total time elapsed: 1.756270170211792\n",
      "Answer: Users wanted a comfortable chair for customers to enjoy during their visit.\n"
     ]
    }
   ],
   "source": [
    "print(\"Without optimization\")\n",
    "start_time = time.time()\n",
    "query_engine = index.as_query_engine()\n",
    "response = query_engine.query(\"what did users want for salon chair?\")\n",
    "end_time = time.time()\n",
    "print(\"Total time elapsed: {}\".format(end_time - start_time))\n",
    "print(\"Answer: {}\".format(response))"
   ]
  },
  {
   "cell_type": "code",
   "execution_count": 111,
   "id": "7206b82d-ba71-40d9-bf5c-acd820ebba37",
   "metadata": {},
   "outputs": [
    {
     "name": "stdout",
     "output_type": "stream",
     "text": [
      "{\n",
      "  \"e05f0fc2-15d3-40e1-a17f-d4ba60f6199b\": {\n",
      "    \"window\": \"offers a wide selection of professional salon products including styling chair , salon hairdryer , salon equipment , etc .  to showcase the uniqueness of each salon\",\n",
      "    \"original_text\": \"to showcase the uniqueness of each salon\",\n",
      "    \"product_id\": 7465,\n",
      "    \"product_name\": \"hair salon chair\"\n",
      "  },\n",
      "  \"814c82a2-d82b-4214-be7b-dbdc8113fcf4\": {\n",
      "    \"window\": \"salon chairs are a wonderful avenue for hairstylists and barbers to increase their revenue - have a comfortable chair for customers to enjoy during their visit .\",\n",
      "    \"original_text\": \"salon chairs are a wonderful avenue for hairstylists and barbers to increase their revenue - have a comfortable chair for customers to enjoy during their visit .\",\n",
      "    \"product_id\": 25431,\n",
      "    \"product_name\": \"barberpub salon massage chair\"\n",
      "  }\n",
      "}\n"
     ]
    }
   ],
   "source": [
    "print(json.dumps(response.metadata, indent=2))"
   ]
  },
  {
   "cell_type": "code",
   "execution_count": 112,
   "id": "4b6053fd-8446-4a25-9631-8a71315bdef7",
   "metadata": {},
   "outputs": [
    {
     "data": {
      "text/html": [
       "<div>\n",
       "<style scoped>\n",
       "    .dataframe tbody tr th:only-of-type {\n",
       "        vertical-align: middle;\n",
       "    }\n",
       "\n",
       "    .dataframe tbody tr th {\n",
       "        vertical-align: top;\n",
       "    }\n",
       "\n",
       "    .dataframe thead th {\n",
       "        text-align: right;\n",
       "    }\n",
       "</style>\n",
       "<table border=\"1\" class=\"dataframe\">\n",
       "  <thead>\n",
       "    <tr style=\"text-align: right;\">\n",
       "      <th></th>\n",
       "      <th>id</th>\n",
       "      <th>query_id</th>\n",
       "      <th>product_id</th>\n",
       "      <th>label</th>\n",
       "    </tr>\n",
       "  </thead>\n",
       "  <tbody>\n",
       "    <tr>\n",
       "      <th>29</th>\n",
       "      <td>29</td>\n",
       "      <td>0</td>\n",
       "      <td>25431</td>\n",
       "      <td>Exact</td>\n",
       "    </tr>\n",
       "  </tbody>\n",
       "</table>\n",
       "</div>"
      ],
      "text/plain": [
       "    id  query_id  product_id  label\n",
       "29  29         0       25431  Exact"
      ]
     },
     "execution_count": 112,
     "metadata": {},
     "output_type": "execute_result"
    }
   ],
   "source": [
    "label_df[(label_df['query_id'] == 0) & (label_df['product_id'] == 25431)]"
   ]
  },
  {
   "cell_type": "code",
   "execution_count": 114,
   "id": "586e1d92-16cd-4a5f-8f77-28fc94a34b52",
   "metadata": {},
   "outputs": [
    {
     "name": "stdout",
     "output_type": "stream",
     "text": [
      "With optimization\n",
      "INFO:httpx:HTTP Request: POST https://api.openai.com/v1/embeddings \"HTTP/1.1 200 OK\"\n",
      "HTTP Request: POST https://api.openai.com/v1/embeddings \"HTTP/1.1 200 OK\"\n",
      "HTTP Request: POST https://api.openai.com/v1/embeddings \"HTTP/1.1 200 OK\"\n",
      "HTTP Request: POST https://api.openai.com/v1/embeddings \"HTTP/1.1 200 OK\"\n",
      "INFO:httpx:HTTP Request: POST https://api.openai.com/v1/embeddings \"HTTP/1.1 200 OK\"\n",
      "HTTP Request: POST https://api.openai.com/v1/embeddings \"HTTP/1.1 200 OK\"\n",
      "HTTP Request: POST https://api.openai.com/v1/embeddings \"HTTP/1.1 200 OK\"\n",
      "HTTP Request: POST https://api.openai.com/v1/embeddings \"HTTP/1.1 200 OK\"\n",
      "INFO:httpx:HTTP Request: POST https://api.openai.com/v1/embeddings \"HTTP/1.1 200 OK\"\n",
      "HTTP Request: POST https://api.openai.com/v1/embeddings \"HTTP/1.1 200 OK\"\n",
      "HTTP Request: POST https://api.openai.com/v1/embeddings \"HTTP/1.1 200 OK\"\n",
      "HTTP Request: POST https://api.openai.com/v1/embeddings \"HTTP/1.1 200 OK\"\n",
      "INFO:httpx:HTTP Request: POST https://api.openai.com/v1/chat/completions \"HTTP/1.1 200 OK\"\n",
      "HTTP Request: POST https://api.openai.com/v1/chat/completions \"HTTP/1.1 200 OK\"\n",
      "HTTP Request: POST https://api.openai.com/v1/chat/completions \"HTTP/1.1 200 OK\"\n",
      "HTTP Request: POST https://api.openai.com/v1/chat/completions \"HTTP/1.1 200 OK\"\n",
      "Total time elapsed: 1.4809458255767822\n",
      "Answer: Users wanted a comfortable chair for customers to enjoy during their visit.\n"
     ]
    }
   ],
   "source": [
    "print(\"With optimization\")\n",
    "start_time = time.time()\n",
    "query_engine = index.as_query_engine(\n",
    "    node_postprocessors=[SentenceEmbeddingOptimizer(percentile_cutoff=0.7)]\n",
    ")\n",
    "response = query_engine.query( \"what did users want for salon chair?\")\n",
    "end_time = time.time()\n",
    "print(\"Total time elapsed: {}\".format(end_time - start_time))\n",
    "print(\"Answer: {}\".format(response))"
   ]
  },
  {
   "cell_type": "code",
   "execution_count": 115,
   "id": "66a765b3-d880-4c93-89be-ffd95dcfcb75",
   "metadata": {},
   "outputs": [
    {
     "name": "stdout",
     "output_type": "stream",
     "text": [
      "{\n",
      "  \"e05f0fc2-15d3-40e1-a17f-d4ba60f6199b\": {\n",
      "    \"window\": \"offers a wide selection of professional salon products including styling chair , salon hairdryer , salon equipment , etc .  to showcase the uniqueness of each salon\",\n",
      "    \"original_text\": \"to showcase the uniqueness of each salon\",\n",
      "    \"product_id\": 7465,\n",
      "    \"product_name\": \"hair salon chair\"\n",
      "  },\n",
      "  \"814c82a2-d82b-4214-be7b-dbdc8113fcf4\": {\n",
      "    \"window\": \"salon chairs are a wonderful avenue for hairstylists and barbers to increase their revenue - have a comfortable chair for customers to enjoy during their visit .\",\n",
      "    \"original_text\": \"salon chairs are a wonderful avenue for hairstylists and barbers to increase their revenue - have a comfortable chair for customers to enjoy during their visit .\",\n",
      "    \"product_id\": 25431,\n",
      "    \"product_name\": \"barberpub salon massage chair\"\n",
      "  }\n",
      "}\n"
     ]
    }
   ],
   "source": [
    "print(json.dumps(response.metadata, indent=2))"
   ]
  },
  {
   "cell_type": "code",
   "execution_count": 116,
   "id": "8e9ea8ba-ee9d-4088-b900-958b31983f2c",
   "metadata": {},
   "outputs": [
    {
     "name": "stdout",
     "output_type": "stream",
     "text": [
      "Alternate optimization cutoff\n",
      "INFO:httpx:HTTP Request: POST https://api.openai.com/v1/embeddings \"HTTP/1.1 200 OK\"\n",
      "HTTP Request: POST https://api.openai.com/v1/embeddings \"HTTP/1.1 200 OK\"\n",
      "HTTP Request: POST https://api.openai.com/v1/embeddings \"HTTP/1.1 200 OK\"\n",
      "HTTP Request: POST https://api.openai.com/v1/embeddings \"HTTP/1.1 200 OK\"\n",
      "INFO:httpx:HTTP Request: POST https://api.openai.com/v1/embeddings \"HTTP/1.1 200 OK\"\n",
      "HTTP Request: POST https://api.openai.com/v1/embeddings \"HTTP/1.1 200 OK\"\n",
      "HTTP Request: POST https://api.openai.com/v1/embeddings \"HTTP/1.1 200 OK\"\n",
      "HTTP Request: POST https://api.openai.com/v1/embeddings \"HTTP/1.1 200 OK\"\n",
      "INFO:httpx:HTTP Request: POST https://api.openai.com/v1/embeddings \"HTTP/1.1 200 OK\"\n",
      "HTTP Request: POST https://api.openai.com/v1/embeddings \"HTTP/1.1 200 OK\"\n",
      "HTTP Request: POST https://api.openai.com/v1/embeddings \"HTTP/1.1 200 OK\"\n",
      "HTTP Request: POST https://api.openai.com/v1/embeddings \"HTTP/1.1 200 OK\"\n",
      "INFO:httpx:HTTP Request: POST https://api.openai.com/v1/chat/completions \"HTTP/1.1 200 OK\"\n",
      "HTTP Request: POST https://api.openai.com/v1/chat/completions \"HTTP/1.1 200 OK\"\n",
      "HTTP Request: POST https://api.openai.com/v1/chat/completions \"HTTP/1.1 200 OK\"\n",
      "HTTP Request: POST https://api.openai.com/v1/chat/completions \"HTTP/1.1 200 OK\"\n",
      "Total time elapsed: 1.5835518836975098\n",
      "Answer: Users wanted a comfortable chair for customers to enjoy during their visit.\n"
     ]
    }
   ],
   "source": [
    "print(\"Alternate optimization cutoff\")\n",
    "start_time = time.time()\n",
    "query_engine = index.as_query_engine(\n",
    "    node_postprocessors=[SentenceEmbeddingOptimizer(percentile_cutoff=0.1)]\n",
    ")\n",
    "response = query_engine.query( \"what did users want for salon chair?\")\n",
    "end_time = time.time()\n",
    "print(\"Total time elapsed: {}\".format(end_time - start_time))\n",
    "print(\"Answer: {}\".format(response))"
   ]
  },
  {
   "cell_type": "code",
   "execution_count": 117,
   "id": "8fe5dd8b-2205-431f-aef8-23b771e70e40",
   "metadata": {},
   "outputs": [
    {
     "name": "stdout",
     "output_type": "stream",
     "text": [
      "{\n",
      "  \"e05f0fc2-15d3-40e1-a17f-d4ba60f6199b\": {\n",
      "    \"window\": \"offers a wide selection of professional salon products including styling chair , salon hairdryer , salon equipment , etc .  to showcase the uniqueness of each salon\",\n",
      "    \"original_text\": \"to showcase the uniqueness of each salon\",\n",
      "    \"product_id\": 7465,\n",
      "    \"product_name\": \"hair salon chair\"\n",
      "  },\n",
      "  \"814c82a2-d82b-4214-be7b-dbdc8113fcf4\": {\n",
      "    \"window\": \"salon chairs are a wonderful avenue for hairstylists and barbers to increase their revenue - have a comfortable chair for customers to enjoy during their visit .\",\n",
      "    \"original_text\": \"salon chairs are a wonderful avenue for hairstylists and barbers to increase their revenue - have a comfortable chair for customers to enjoy during their visit .\",\n",
      "    \"product_id\": 25431,\n",
      "    \"product_name\": \"barberpub salon massage chair\"\n",
      "  }\n",
      "}\n"
     ]
    }
   ],
   "source": [
    "print(json.dumps(response.metadata, indent=2))"
   ]
  },
  {
   "cell_type": "markdown",
   "id": "e64ca417-5739-4338-a95c-c73212da4fef",
   "metadata": {},
   "source": [
    "### Evaluation"
   ]
  },
  {
   "cell_type": "code",
   "execution_count": null,
   "id": "3b3b7df0-2e7f-4ebe-8d73-477b352f3438",
   "metadata": {},
   "outputs": [],
   "source": [
    "query_df = pd.read_csv(\"dataset/query.csv\", sep='\\t')\n",
    "n = 10\n",
    "query = query_df.head(n)"
   ]
  },
  {
   "cell_type": "code",
   "execution_count": null,
   "id": "4869410e-0367-436e-8d48-8c56a0a8280d",
   "metadata": {},
   "outputs": [],
   "source": [
    "def process_row(row):\n",
    "    query_id = row['query_id']\n",
    "    item = row['query']\n",
    "    raw_response = query_engine.query(item)\n",
    "    results = []\n",
    "    for v in raw_response.metadata.values():\n",
    "        results.append({\n",
    "            'query_id': query_id,\n",
    "            'query': item,\n",
    "            'product_id': v['product_id'],\n",
    "            'product_name': v['product_name'],\n",
    "            'product_text': v['original_text'],\n",
    "        })\n",
    "    return results"
   ]
  },
  {
   "cell_type": "code",
   "execution_count": null,
   "id": "e744cf19-d877-4518-add0-03f5e25640d8",
   "metadata": {},
   "outputs": [],
   "source": [
    "results = query.apply(process_row, axis=1).explode().tolist()\n",
    "df = pd.DataFrame(results)"
   ]
  }
 ],
 "metadata": {
  "environment": {
   "name": "tf2-gpu.2-5.m76",
   "type": "gcloud",
   "uri": "gcr.io/deeplearning-platform-release/tf2-gpu.2-5:m76"
  },
  "kernelspec": {
   "display_name": "Python 3 (ipykernel)",
   "language": "python",
   "name": "python3"
  },
  "language_info": {
   "codemirror_mode": {
    "name": "ipython",
    "version": 3
   },
   "file_extension": ".py",
   "mimetype": "text/x-python",
   "name": "python",
   "nbconvert_exporter": "python",
   "pygments_lexer": "ipython3",
   "version": "3.8.19"
  }
 },
 "nbformat": 4,
 "nbformat_minor": 5
}
