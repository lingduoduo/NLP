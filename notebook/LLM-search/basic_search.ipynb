{
 "cells": [
  {
   "cell_type": "code",
   "execution_count": 2,
   "id": "d4ef85f4",
   "metadata": {},
   "outputs": [],
   "source": [
    "import pandas as pd\n",
    "import numpy as np"
   ]
  },
  {
   "cell_type": "markdown",
   "id": "e5d3e5d5-9df5-4ed7-8d01-9fbf3c2d4924",
   "metadata": {},
   "source": [
    "## Fetch products"
   ]
  },
  {
   "cell_type": "code",
   "execution_count": 4,
   "id": "1f6fdf20",
   "metadata": {},
   "outputs": [
    {
     "data": {
      "text/html": [
       "<div>\n",
       "<style scoped>\n",
       "    .dataframe tbody tr th:only-of-type {\n",
       "        vertical-align: middle;\n",
       "    }\n",
       "\n",
       "    .dataframe tbody tr th {\n",
       "        vertical-align: top;\n",
       "    }\n",
       "\n",
       "    .dataframe thead th {\n",
       "        text-align: right;\n",
       "    }\n",
       "</style>\n",
       "<table border=\"1\" class=\"dataframe\">\n",
       "  <thead>\n",
       "    <tr style=\"text-align: right;\">\n",
       "      <th></th>\n",
       "      <th>product_id</th>\n",
       "      <th>product_name</th>\n",
       "      <th>product_class</th>\n",
       "      <th>category hierarchy</th>\n",
       "      <th>product_description</th>\n",
       "      <th>product_features</th>\n",
       "      <th>rating_count</th>\n",
       "      <th>average_rating</th>\n",
       "      <th>review_count</th>\n",
       "    </tr>\n",
       "  </thead>\n",
       "  <tbody>\n",
       "    <tr>\n",
       "      <th>0</th>\n",
       "      <td>0</td>\n",
       "      <td>solid wood platform bed</td>\n",
       "      <td>Beds</td>\n",
       "      <td>Furniture / Bedroom Furniture / Beds &amp; Headboa...</td>\n",
       "      <td>good , deep sleep can be quite difficult to ha...</td>\n",
       "      <td>overallwidth-sidetoside:64.7|dsprimaryproducts...</td>\n",
       "      <td>15.0</td>\n",
       "      <td>4.5</td>\n",
       "      <td>15.0</td>\n",
       "    </tr>\n",
       "    <tr>\n",
       "      <th>1</th>\n",
       "      <td>1</td>\n",
       "      <td>all-clad 7 qt . slow cooker</td>\n",
       "      <td>Slow Cookers</td>\n",
       "      <td>Kitchen &amp; Tabletop / Small Kitchen Appliances ...</td>\n",
       "      <td>create delicious slow-cooked meals , from tend...</td>\n",
       "      <td>capacityquarts:7|producttype : slow cooker|pro...</td>\n",
       "      <td>100.0</td>\n",
       "      <td>2.0</td>\n",
       "      <td>98.0</td>\n",
       "    </tr>\n",
       "    <tr>\n",
       "      <th>2</th>\n",
       "      <td>2</td>\n",
       "      <td>all-clad electrics 6.5 qt . slow cooker</td>\n",
       "      <td>Slow Cookers</td>\n",
       "      <td>Kitchen &amp; Tabletop / Small Kitchen Appliances ...</td>\n",
       "      <td>prepare home-cooked meals on any schedule with...</td>\n",
       "      <td>features : keep warm setting|capacityquarts:6....</td>\n",
       "      <td>208.0</td>\n",
       "      <td>3.0</td>\n",
       "      <td>181.0</td>\n",
       "    </tr>\n",
       "    <tr>\n",
       "      <th>3</th>\n",
       "      <td>3</td>\n",
       "      <td>all-clad all professional tools pizza cutter</td>\n",
       "      <td>Slicers, Peelers And Graters</td>\n",
       "      <td>Browse By Brand / All-Clad</td>\n",
       "      <td>this original stainless tool was designed to c...</td>\n",
       "      <td>overallwidth-sidetoside:3.5|warrantylength : l...</td>\n",
       "      <td>69.0</td>\n",
       "      <td>4.5</td>\n",
       "      <td>42.0</td>\n",
       "    </tr>\n",
       "    <tr>\n",
       "      <th>4</th>\n",
       "      <td>4</td>\n",
       "      <td>baldwin prestige alcott passage knob with roun...</td>\n",
       "      <td>Door Knobs</td>\n",
       "      <td>Home Improvement / Doors &amp; Door Hardware / Doo...</td>\n",
       "      <td>the hardware has a rich heritage of delivering...</td>\n",
       "      <td>compatibledoorthickness:1.375 '' |countryofori...</td>\n",
       "      <td>70.0</td>\n",
       "      <td>5.0</td>\n",
       "      <td>42.0</td>\n",
       "    </tr>\n",
       "  </tbody>\n",
       "</table>\n",
       "</div>"
      ],
      "text/plain": [
       "   product_id                                       product_name  \\\n",
       "0           0                            solid wood platform bed   \n",
       "1           1                        all-clad 7 qt . slow cooker   \n",
       "2           2            all-clad electrics 6.5 qt . slow cooker   \n",
       "3           3       all-clad all professional tools pizza cutter   \n",
       "4           4  baldwin prestige alcott passage knob with roun...   \n",
       "\n",
       "                  product_class  \\\n",
       "0                          Beds   \n",
       "1                  Slow Cookers   \n",
       "2                  Slow Cookers   \n",
       "3  Slicers, Peelers And Graters   \n",
       "4                    Door Knobs   \n",
       "\n",
       "                                  category hierarchy  \\\n",
       "0  Furniture / Bedroom Furniture / Beds & Headboa...   \n",
       "1  Kitchen & Tabletop / Small Kitchen Appliances ...   \n",
       "2  Kitchen & Tabletop / Small Kitchen Appliances ...   \n",
       "3                         Browse By Brand / All-Clad   \n",
       "4  Home Improvement / Doors & Door Hardware / Doo...   \n",
       "\n",
       "                                 product_description  \\\n",
       "0  good , deep sleep can be quite difficult to ha...   \n",
       "1  create delicious slow-cooked meals , from tend...   \n",
       "2  prepare home-cooked meals on any schedule with...   \n",
       "3  this original stainless tool was designed to c...   \n",
       "4  the hardware has a rich heritage of delivering...   \n",
       "\n",
       "                                    product_features  rating_count  \\\n",
       "0  overallwidth-sidetoside:64.7|dsprimaryproducts...          15.0   \n",
       "1  capacityquarts:7|producttype : slow cooker|pro...         100.0   \n",
       "2  features : keep warm setting|capacityquarts:6....         208.0   \n",
       "3  overallwidth-sidetoside:3.5|warrantylength : l...          69.0   \n",
       "4  compatibledoorthickness:1.375 '' |countryofori...          70.0   \n",
       "\n",
       "   average_rating  review_count  \n",
       "0             4.5          15.0  \n",
       "1             2.0          98.0  \n",
       "2             3.0         181.0  \n",
       "3             4.5          42.0  \n",
       "4             5.0          42.0  "
      ]
     },
     "execution_count": 4,
     "metadata": {},
     "output_type": "execute_result"
    }
   ],
   "source": [
    "product_df = pd.read_csv(\"dataset/product.csv\", sep='\\t')\n",
    "product_df.head()"
   ]
  },
  {
   "cell_type": "code",
   "execution_count": 5,
   "id": "91644c68-9bb4-41b4-9bc0-8e9f909b137d",
   "metadata": {},
   "outputs": [],
   "source": [
    "## Assemble the product text use our product description as that text unless there is no description in which case we will use the product name."
   ]
  },
  {
   "cell_type": "code",
   "execution_count": 6,
   "id": "d3585926-211b-4795-9392-f50a02f64787",
   "metadata": {},
   "outputs": [],
   "source": [
    "product_df['product_text'] = np.where(pd.notna(product_df['product_description']), \n",
    "                                      product_df['product_description'], \n",
    "                                      product_df['product_name'])"
   ]
  },
  {
   "cell_type": "code",
   "execution_count": 7,
   "id": "0cf5f446-6ab3-42a7-be66-30d723caaf1c",
   "metadata": {},
   "outputs": [
    {
     "data": {
      "text/plain": [
       "product_id                                                         42990\n",
       "product_name                       emmeline 5 piece breakfast dining set\n",
       "product_class                                          Dining Table Sets\n",
       "category hierarchy     Furniture / Kitchen & Dining Furniture / Dinin...\n",
       "product_description                                                  NaN\n",
       "product_features       basematerialdetails : steel| : gray wood|ofhar...\n",
       "rating_count                                                      1314.0\n",
       "average_rating                                                       4.5\n",
       "review_count                                                       864.0\n",
       "product_text                       emmeline 5 piece breakfast dining set\n",
       "Name: 42990, dtype: object"
      ]
     },
     "execution_count": 7,
     "metadata": {},
     "output_type": "execute_result"
    }
   ],
   "source": [
    "product_df.iloc[42990]"
   ]
  },
  {
   "cell_type": "code",
   "execution_count": 8,
   "id": "fe69a8f3-027a-48aa-89df-636a0c0c8a16",
   "metadata": {},
   "outputs": [],
   "source": [
    "from llama_index.core import Document\n",
    "\n",
    "documents = [\n",
    "    Document(\n",
    "        text=row['product_text'],\n",
    "        metadata={\n",
    "            'product_id': row['product_id'],\n",
    "            'product_name': row['product_name'],\n",
    "        }\n",
    "    )\n",
    "    for _, row in product_df.iterrows()\n",
    "]"
   ]
  },
  {
   "cell_type": "code",
   "execution_count": 9,
   "id": "dd8696c8-8e0f-498f-a45d-06f8999e779c",
   "metadata": {},
   "outputs": [
    {
     "name": "stdout",
     "output_type": "stream",
     "text": [
      "Doc ID: b4bcc069-3be0-4e71-a3ce-b7d442934e1e\n",
      "Text: good , deep sleep can be quite difficult to have in this busy\n",
      "age . fortunately , there ’ s an antidote to such a problem : a nice ,\n",
      "quality bed frame like the acacia kaylin . solidly constructed from\n",
      "acacia wood , this bed frame will stand the test of time and is fit to\n",
      "rest your shoulders on for years and years . its sleek , natural wood\n",
      "grain...\n"
     ]
    }
   ],
   "source": [
    "print(documents[0])"
   ]
  },
  {
   "cell_type": "code",
   "execution_count": 10,
   "id": "6dbb1b5b-bc1e-4711-8ef2-e58c16dbeb6a",
   "metadata": {},
   "outputs": [],
   "source": [
    "from llama_index.core.schema import MetadataMode"
   ]
  },
  {
   "cell_type": "code",
   "execution_count": 11,
   "id": "1d392ee9-7b7e-4bf6-8857-cc1f72b570f6",
   "metadata": {},
   "outputs": [
    {
     "name": "stdout",
     "output_type": "stream",
     "text": [
      "product_id: 0\n",
      "product_name: solid wood platform bed\n",
      "\n",
      "good , deep sleep can be quite difficult to have in this busy age . fortunately , there ’ s an antidote to such a problem : a nice , quality bed frame like the acacia kaylin . solidly constructed from acacia wood , this bed frame will stand the test of time and is fit to rest your shoulders on for years and years . its sleek , natural wood grain appearance provides a pleasant aesthetic to adorn any bedroom , acting both as a decorative piece as well as a place to give comfort after a hard day of work . our bed frame is designed to give ample under-bed space for easy cleaning and other usages , with a headboard attached to further express the craftiness . it can be used with other accessories such as a nightstand or bookcase headboard and is compatible with many types of mattresses including memory foam , spring , or hybrid ones . there ’ s nowhere better to relax than your own home , and with this bed frame that feeling of homeliness will even be more emphasized . rest comfortably and in style .\n"
     ]
    }
   ],
   "source": [
    "print(documents[0].get_content(metadata_mode=MetadataMode.ALL))"
   ]
  },
  {
   "cell_type": "code",
   "execution_count": 12,
   "id": "bdd17e8d-7c01-4246-ab7e-bdab3dfbe663",
   "metadata": {},
   "outputs": [
    {
     "name": "stdout",
     "output_type": "stream",
     "text": [
      "{'product_id': 0, 'product_name': 'solid wood platform bed'}\n"
     ]
    }
   ],
   "source": [
    "print(documents[0].metadata)"
   ]
  },
  {
   "cell_type": "markdown",
   "id": "c6a79190-8867-42a6-94b3-2826d98e6468",
   "metadata": {},
   "source": [
    "### Convert Product Info into Embeddings"
   ]
  },
  {
   "cell_type": "code",
   "execution_count": null,
   "id": "b52f51a2-be11-4778-9562-afd602f6d2a7",
   "metadata": {},
   "outputs": [],
   "source": []
  },
  {
   "cell_type": "code",
   "execution_count": null,
   "id": "f296d5c1-2c0c-49ee-9735-e6d6bd99e6c4",
   "metadata": {},
   "outputs": [],
   "source": []
  },
  {
   "cell_type": "markdown",
   "id": "72293e7a-91a2-4265-a56a-b658470e9ce1",
   "metadata": {},
   "source": [
    "### Assign Label Scores"
   ]
  },
  {
   "cell_type": "code",
   "execution_count": 16,
   "id": "f7b7820a",
   "metadata": {},
   "outputs": [
    {
     "data": {
      "text/html": [
       "<div>\n",
       "<style scoped>\n",
       "    .dataframe tbody tr th:only-of-type {\n",
       "        vertical-align: middle;\n",
       "    }\n",
       "\n",
       "    .dataframe tbody tr th {\n",
       "        vertical-align: top;\n",
       "    }\n",
       "\n",
       "    .dataframe thead th {\n",
       "        text-align: right;\n",
       "    }\n",
       "</style>\n",
       "<table border=\"1\" class=\"dataframe\">\n",
       "  <thead>\n",
       "    <tr style=\"text-align: right;\">\n",
       "      <th></th>\n",
       "      <th>id</th>\n",
       "      <th>query_id</th>\n",
       "      <th>product_id</th>\n",
       "      <th>label</th>\n",
       "    </tr>\n",
       "  </thead>\n",
       "  <tbody>\n",
       "    <tr>\n",
       "      <th>0</th>\n",
       "      <td>0</td>\n",
       "      <td>0</td>\n",
       "      <td>25434</td>\n",
       "      <td>Exact</td>\n",
       "    </tr>\n",
       "    <tr>\n",
       "      <th>1</th>\n",
       "      <td>1</td>\n",
       "      <td>0</td>\n",
       "      <td>12088</td>\n",
       "      <td>Irrelevant</td>\n",
       "    </tr>\n",
       "    <tr>\n",
       "      <th>2</th>\n",
       "      <td>2</td>\n",
       "      <td>0</td>\n",
       "      <td>42931</td>\n",
       "      <td>Exact</td>\n",
       "    </tr>\n",
       "    <tr>\n",
       "      <th>3</th>\n",
       "      <td>3</td>\n",
       "      <td>0</td>\n",
       "      <td>2636</td>\n",
       "      <td>Exact</td>\n",
       "    </tr>\n",
       "    <tr>\n",
       "      <th>4</th>\n",
       "      <td>4</td>\n",
       "      <td>0</td>\n",
       "      <td>42923</td>\n",
       "      <td>Exact</td>\n",
       "    </tr>\n",
       "    <tr>\n",
       "      <th>...</th>\n",
       "      <td>...</td>\n",
       "      <td>...</td>\n",
       "      <td>...</td>\n",
       "      <td>...</td>\n",
       "    </tr>\n",
       "    <tr>\n",
       "      <th>233443</th>\n",
       "      <td>234010</td>\n",
       "      <td>478</td>\n",
       "      <td>15439</td>\n",
       "      <td>Partial</td>\n",
       "    </tr>\n",
       "    <tr>\n",
       "      <th>233444</th>\n",
       "      <td>234011</td>\n",
       "      <td>478</td>\n",
       "      <td>451</td>\n",
       "      <td>Partial</td>\n",
       "    </tr>\n",
       "    <tr>\n",
       "      <th>233445</th>\n",
       "      <td>234012</td>\n",
       "      <td>478</td>\n",
       "      <td>30764</td>\n",
       "      <td>Irrelevant</td>\n",
       "    </tr>\n",
       "    <tr>\n",
       "      <th>233446</th>\n",
       "      <td>234013</td>\n",
       "      <td>478</td>\n",
       "      <td>16796</td>\n",
       "      <td>Partial</td>\n",
       "    </tr>\n",
       "    <tr>\n",
       "      <th>233447</th>\n",
       "      <td>234014</td>\n",
       "      <td>486</td>\n",
       "      <td>30764</td>\n",
       "      <td>Partial</td>\n",
       "    </tr>\n",
       "  </tbody>\n",
       "</table>\n",
       "<p>233448 rows × 4 columns</p>\n",
       "</div>"
      ],
      "text/plain": [
       "            id  query_id  product_id       label\n",
       "0            0         0       25434       Exact\n",
       "1            1         0       12088  Irrelevant\n",
       "2            2         0       42931       Exact\n",
       "3            3         0        2636       Exact\n",
       "4            4         0       42923       Exact\n",
       "...        ...       ...         ...         ...\n",
       "233443  234010       478       15439     Partial\n",
       "233444  234011       478         451     Partial\n",
       "233445  234012       478       30764  Irrelevant\n",
       "233446  234013       478       16796     Partial\n",
       "233447  234014       486       30764     Partial\n",
       "\n",
       "[233448 rows x 4 columns]"
      ]
     },
     "execution_count": 16,
     "metadata": {},
     "output_type": "execute_result"
    }
   ],
   "source": [
    "# get manually labeled groundtruth lables\n",
    "label_df = pd.read_csv(\"dataset/label.csv\", sep='\\t')\n",
    "label_df"
   ]
  },
  {
   "cell_type": "code",
   "execution_count": 17,
   "id": "7f44bb17-8b17-4bee-ae9d-fd0785323dac",
   "metadata": {},
   "outputs": [],
   "source": [
    "def score_func(x: str) -> float:\n",
    "    scores = {\n",
    "        'exact': 1.0,\n",
    "        'irrelevant': 0.0,\n",
    "        'partial': 0.75\n",
    "    }\n",
    "    return scores.get(x.lower(), None)"
   ]
  },
  {
   "cell_type": "code",
   "execution_count": 18,
   "id": "f7eb1ca7-00fd-4c3e-8b9e-3d078a325586",
   "metadata": {},
   "outputs": [],
   "source": [
    "label_df['label_score'] = label_df['label'].apply(score_func)"
   ]
  },
  {
   "cell_type": "code",
   "execution_count": 19,
   "id": "9ee91350-bde1-4929-acec-1e95f20b790e",
   "metadata": {},
   "outputs": [
    {
     "data": {
      "text/plain": [
       "label_score\n",
       "0.75    146633\n",
       "0.00     61201\n",
       "1.00     25614\n",
       "Name: count, dtype: int64"
      ]
     },
     "execution_count": 19,
     "metadata": {},
     "output_type": "execute_result"
    }
   ],
   "source": [
    "label_df['label_score'].value_counts()"
   ]
  },
  {
   "cell_type": "code",
   "execution_count": 20,
   "id": "e9ec9cff-74fb-49ec-b327-4076b1da668c",
   "metadata": {},
   "outputs": [
    {
     "data": {
      "text/plain": [
       "label\n",
       "Partial       146633\n",
       "Irrelevant     61201\n",
       "Exact          25614\n",
       "Name: count, dtype: int64"
      ]
     },
     "execution_count": 20,
     "metadata": {},
     "output_type": "execute_result"
    }
   ],
   "source": [
    "label_df['label'].value_counts()"
   ]
  },
  {
   "cell_type": "code",
   "execution_count": null,
   "id": "907ed8b6-1ddd-4b22-9c95-c893463383fc",
   "metadata": {},
   "outputs": [],
   "source": []
  }
 ],
 "metadata": {
  "environment": {
   "name": "tf2-gpu.2-5.m76",
   "type": "gcloud",
   "uri": "gcr.io/deeplearning-platform-release/tf2-gpu.2-5:m76"
  },
  "kernelspec": {
   "display_name": "Python 3 (ipykernel)",
   "language": "python",
   "name": "python3"
  },
  "language_info": {
   "codemirror_mode": {
    "name": "ipython",
    "version": 3
   },
   "file_extension": ".py",
   "mimetype": "text/x-python",
   "name": "python",
   "nbconvert_exporter": "python",
   "pygments_lexer": "ipython3",
   "version": "3.10.14"
  }
 },
 "nbformat": 4,
 "nbformat_minor": 5
}
