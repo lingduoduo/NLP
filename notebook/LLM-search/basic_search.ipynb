{
 "cells": [
  {
   "cell_type": "code",
   "execution_count": 1,
   "id": "d4ef85f4",
   "metadata": {},
   "outputs": [],
   "source": [
    "import pandas as pd\n",
    "import numpy as np"
   ]
  },
  {
   "cell_type": "markdown",
   "id": "e5d3e5d5-9df5-4ed7-8d01-9fbf3c2d4924",
   "metadata": {},
   "source": [
    "## Fetch products"
   ]
  },
  {
   "cell_type": "code",
   "execution_count": 2,
   "id": "1f6fdf20",
   "metadata": {},
   "outputs": [
    {
     "data": {
      "text/html": [
       "<div>\n",
       "<style scoped>\n",
       "    .dataframe tbody tr th:only-of-type {\n",
       "        vertical-align: middle;\n",
       "    }\n",
       "\n",
       "    .dataframe tbody tr th {\n",
       "        vertical-align: top;\n",
       "    }\n",
       "\n",
       "    .dataframe thead th {\n",
       "        text-align: right;\n",
       "    }\n",
       "</style>\n",
       "<table border=\"1\" class=\"dataframe\">\n",
       "  <thead>\n",
       "    <tr style=\"text-align: right;\">\n",
       "      <th></th>\n",
       "      <th>product_id</th>\n",
       "      <th>product_name</th>\n",
       "      <th>product_class</th>\n",
       "      <th>category hierarchy</th>\n",
       "      <th>product_description</th>\n",
       "      <th>product_features</th>\n",
       "      <th>rating_count</th>\n",
       "      <th>average_rating</th>\n",
       "      <th>review_count</th>\n",
       "    </tr>\n",
       "  </thead>\n",
       "  <tbody>\n",
       "    <tr>\n",
       "      <th>0</th>\n",
       "      <td>0</td>\n",
       "      <td>solid wood platform bed</td>\n",
       "      <td>Beds</td>\n",
       "      <td>Furniture / Bedroom Furniture / Beds &amp; Headboa...</td>\n",
       "      <td>good , deep sleep can be quite difficult to ha...</td>\n",
       "      <td>overallwidth-sidetoside:64.7|dsprimaryproducts...</td>\n",
       "      <td>15.0</td>\n",
       "      <td>4.5</td>\n",
       "      <td>15.0</td>\n",
       "    </tr>\n",
       "    <tr>\n",
       "      <th>1</th>\n",
       "      <td>1</td>\n",
       "      <td>all-clad 7 qt . slow cooker</td>\n",
       "      <td>Slow Cookers</td>\n",
       "      <td>Kitchen &amp; Tabletop / Small Kitchen Appliances ...</td>\n",
       "      <td>create delicious slow-cooked meals , from tend...</td>\n",
       "      <td>capacityquarts:7|producttype : slow cooker|pro...</td>\n",
       "      <td>100.0</td>\n",
       "      <td>2.0</td>\n",
       "      <td>98.0</td>\n",
       "    </tr>\n",
       "    <tr>\n",
       "      <th>2</th>\n",
       "      <td>2</td>\n",
       "      <td>all-clad electrics 6.5 qt . slow cooker</td>\n",
       "      <td>Slow Cookers</td>\n",
       "      <td>Kitchen &amp; Tabletop / Small Kitchen Appliances ...</td>\n",
       "      <td>prepare home-cooked meals on any schedule with...</td>\n",
       "      <td>features : keep warm setting|capacityquarts:6....</td>\n",
       "      <td>208.0</td>\n",
       "      <td>3.0</td>\n",
       "      <td>181.0</td>\n",
       "    </tr>\n",
       "    <tr>\n",
       "      <th>3</th>\n",
       "      <td>3</td>\n",
       "      <td>all-clad all professional tools pizza cutter</td>\n",
       "      <td>Slicers, Peelers And Graters</td>\n",
       "      <td>Browse By Brand / All-Clad</td>\n",
       "      <td>this original stainless tool was designed to c...</td>\n",
       "      <td>overallwidth-sidetoside:3.5|warrantylength : l...</td>\n",
       "      <td>69.0</td>\n",
       "      <td>4.5</td>\n",
       "      <td>42.0</td>\n",
       "    </tr>\n",
       "    <tr>\n",
       "      <th>4</th>\n",
       "      <td>4</td>\n",
       "      <td>baldwin prestige alcott passage knob with roun...</td>\n",
       "      <td>Door Knobs</td>\n",
       "      <td>Home Improvement / Doors &amp; Door Hardware / Doo...</td>\n",
       "      <td>the hardware has a rich heritage of delivering...</td>\n",
       "      <td>compatibledoorthickness:1.375 '' |countryofori...</td>\n",
       "      <td>70.0</td>\n",
       "      <td>5.0</td>\n",
       "      <td>42.0</td>\n",
       "    </tr>\n",
       "  </tbody>\n",
       "</table>\n",
       "</div>"
      ],
      "text/plain": [
       "   product_id                                       product_name  \\\n",
       "0           0                            solid wood platform bed   \n",
       "1           1                        all-clad 7 qt . slow cooker   \n",
       "2           2            all-clad electrics 6.5 qt . slow cooker   \n",
       "3           3       all-clad all professional tools pizza cutter   \n",
       "4           4  baldwin prestige alcott passage knob with roun...   \n",
       "\n",
       "                  product_class  \\\n",
       "0                          Beds   \n",
       "1                  Slow Cookers   \n",
       "2                  Slow Cookers   \n",
       "3  Slicers, Peelers And Graters   \n",
       "4                    Door Knobs   \n",
       "\n",
       "                                  category hierarchy  \\\n",
       "0  Furniture / Bedroom Furniture / Beds & Headboa...   \n",
       "1  Kitchen & Tabletop / Small Kitchen Appliances ...   \n",
       "2  Kitchen & Tabletop / Small Kitchen Appliances ...   \n",
       "3                         Browse By Brand / All-Clad   \n",
       "4  Home Improvement / Doors & Door Hardware / Doo...   \n",
       "\n",
       "                                 product_description  \\\n",
       "0  good , deep sleep can be quite difficult to ha...   \n",
       "1  create delicious slow-cooked meals , from tend...   \n",
       "2  prepare home-cooked meals on any schedule with...   \n",
       "3  this original stainless tool was designed to c...   \n",
       "4  the hardware has a rich heritage of delivering...   \n",
       "\n",
       "                                    product_features  rating_count  \\\n",
       "0  overallwidth-sidetoside:64.7|dsprimaryproducts...          15.0   \n",
       "1  capacityquarts:7|producttype : slow cooker|pro...         100.0   \n",
       "2  features : keep warm setting|capacityquarts:6....         208.0   \n",
       "3  overallwidth-sidetoside:3.5|warrantylength : l...          69.0   \n",
       "4  compatibledoorthickness:1.375 '' |countryofori...          70.0   \n",
       "\n",
       "   average_rating  review_count  \n",
       "0             4.5          15.0  \n",
       "1             2.0          98.0  \n",
       "2             3.0         181.0  \n",
       "3             4.5          42.0  \n",
       "4             5.0          42.0  "
      ]
     },
     "execution_count": 2,
     "metadata": {},
     "output_type": "execute_result"
    }
   ],
   "source": [
    "product_df = pd.read_csv(\"dataset/product.csv\", sep='\\t')\n",
    "product_df.head()"
   ]
  },
  {
   "cell_type": "code",
   "execution_count": 3,
   "id": "91644c68-9bb4-41b4-9bc0-8e9f909b137d",
   "metadata": {},
   "outputs": [],
   "source": [
    "## Assemble the product text use our product description as that text unless there is no description in which case we will use the product name."
   ]
  },
  {
   "cell_type": "code",
   "execution_count": 78,
   "id": "a995569d-1b34-42ab-8645-c779a5903d08",
   "metadata": {},
   "outputs": [
    {
     "name": "stdout",
     "output_type": "stream",
     "text": [
      "<class 'pandas.core.frame.DataFrame'>\n",
      "RangeIndex: 42994 entries, 0 to 42993\n",
      "Data columns (total 10 columns):\n",
      " #   Column               Non-Null Count  Dtype  \n",
      "---  ------               --------------  -----  \n",
      " 0   product_id           42994 non-null  int64  \n",
      " 1   product_name         42994 non-null  object \n",
      " 2   product_class        40142 non-null  object \n",
      " 3   category hierarchy   41438 non-null  object \n",
      " 4   product_description  36986 non-null  object \n",
      " 5   product_features     42994 non-null  object \n",
      " 6   rating_count         33542 non-null  float64\n",
      " 7   average_rating       33542 non-null  float64\n",
      " 8   review_count         33542 non-null  float64\n",
      " 9   product_text         42994 non-null  object \n",
      "dtypes: float64(3), int64(1), object(6)\n",
      "memory usage: 3.3+ MB\n"
     ]
    }
   ],
   "source": [
    "product_df.info()"
   ]
  },
  {
   "cell_type": "code",
   "execution_count": 4,
   "id": "d3585926-211b-4795-9392-f50a02f64787",
   "metadata": {},
   "outputs": [],
   "source": [
    "product_df['product_text'] = np.where(pd.notna(product_df['product_description']), \n",
    "                                      product_df['product_description'], \n",
    "                                      product_df['product_name'])"
   ]
  },
  {
   "cell_type": "code",
   "execution_count": 5,
   "id": "0cf5f446-6ab3-42a7-be66-30d723caaf1c",
   "metadata": {},
   "outputs": [
    {
     "data": {
      "text/plain": [
       "product_id                                                         42990\n",
       "product_name                       emmeline 5 piece breakfast dining set\n",
       "product_class                                          Dining Table Sets\n",
       "category hierarchy     Furniture / Kitchen & Dining Furniture / Dinin...\n",
       "product_description                                                  NaN\n",
       "product_features       basematerialdetails : steel| : gray wood|ofhar...\n",
       "rating_count                                                      1314.0\n",
       "average_rating                                                       4.5\n",
       "review_count                                                       864.0\n",
       "product_text                       emmeline 5 piece breakfast dining set\n",
       "Name: 42990, dtype: object"
      ]
     },
     "execution_count": 5,
     "metadata": {},
     "output_type": "execute_result"
    }
   ],
   "source": [
    "product_df.iloc[42990]"
   ]
  },
  {
   "cell_type": "code",
   "execution_count": 6,
   "id": "fe69a8f3-027a-48aa-89df-636a0c0c8a16",
   "metadata": {},
   "outputs": [],
   "source": [
    "from llama_index.core import Document\n",
    "\n",
    "documents = [\n",
    "    Document(\n",
    "        text=row['product_text'],\n",
    "        metadata={\n",
    "            'product_id': row['product_id'],\n",
    "            'product_name': row['product_name'],\n",
    "        }\n",
    "    )\n",
    "    for _, row in product_df.iterrows()\n",
    "]"
   ]
  },
  {
   "cell_type": "code",
   "execution_count": 7,
   "id": "dd8696c8-8e0f-498f-a45d-06f8999e779c",
   "metadata": {},
   "outputs": [
    {
     "name": "stdout",
     "output_type": "stream",
     "text": [
      "Doc ID: 973ffb25-b9ec-4d78-b794-3193309d9e49\n",
      "Text: good , deep sleep can be quite difficult to have in this busy\n",
      "age . fortunately , there ’ s an antidote to such a problem : a nice ,\n",
      "quality bed frame like the acacia kaylin . solidly constructed from\n",
      "acacia wood , this bed frame will stand the test of time and is fit to\n",
      "rest your shoulders on for years and years . its sleek , natural wood\n",
      "grain...\n"
     ]
    }
   ],
   "source": [
    "print(documents[0])"
   ]
  },
  {
   "cell_type": "code",
   "execution_count": 8,
   "id": "6dbb1b5b-bc1e-4711-8ef2-e58c16dbeb6a",
   "metadata": {},
   "outputs": [],
   "source": [
    "from llama_index.core.schema import MetadataMode"
   ]
  },
  {
   "cell_type": "code",
   "execution_count": 9,
   "id": "1d392ee9-7b7e-4bf6-8857-cc1f72b570f6",
   "metadata": {},
   "outputs": [
    {
     "name": "stdout",
     "output_type": "stream",
     "text": [
      "product_id: 0\n",
      "product_name: solid wood platform bed\n",
      "\n",
      "good , deep sleep can be quite difficult to have in this busy age . fortunately , there ’ s an antidote to such a problem : a nice , quality bed frame like the acacia kaylin . solidly constructed from acacia wood , this bed frame will stand the test of time and is fit to rest your shoulders on for years and years . its sleek , natural wood grain appearance provides a pleasant aesthetic to adorn any bedroom , acting both as a decorative piece as well as a place to give comfort after a hard day of work . our bed frame is designed to give ample under-bed space for easy cleaning and other usages , with a headboard attached to further express the craftiness . it can be used with other accessories such as a nightstand or bookcase headboard and is compatible with many types of mattresses including memory foam , spring , or hybrid ones . there ’ s nowhere better to relax than your own home , and with this bed frame that feeling of homeliness will even be more emphasized . rest comfortably and in style .\n"
     ]
    }
   ],
   "source": [
    "print(documents[0].get_content(metadata_mode=MetadataMode.ALL))"
   ]
  },
  {
   "cell_type": "code",
   "execution_count": 10,
   "id": "bdd17e8d-7c01-4246-ab7e-bdab3dfbe663",
   "metadata": {},
   "outputs": [
    {
     "name": "stdout",
     "output_type": "stream",
     "text": [
      "{'product_id': 0, 'product_name': 'solid wood platform bed'}\n"
     ]
    }
   ],
   "source": [
    "print(documents[0].metadata)"
   ]
  },
  {
   "cell_type": "markdown",
   "id": "c6a79190-8867-42a6-94b3-2826d98e6468",
   "metadata": {},
   "source": [
    "### Convert Product Info into Embeddings"
   ]
  },
  {
   "cell_type": "code",
   "execution_count": 2,
   "id": "b52f51a2-be11-4778-9562-afd602f6d2a7",
   "metadata": {},
   "outputs": [],
   "source": [
    "import os\n",
    "import openai\n",
    "from dotenv import load_dotenv, find_dotenv\n",
    "\n",
    "_ = load_dotenv(find_dotenv()) # read local .env file\n",
    "# openai.api_key = os.getenv('OPENAI_API_KEY')"
   ]
  },
  {
   "cell_type": "markdown",
   "id": "b83eed14-1341-4108-9b51-00b7039e9e45",
   "metadata": {},
   "source": [
    "### Creating a Weaviate Client"
   ]
  },
  {
   "cell_type": "code",
   "execution_count": 3,
   "id": "f3c8632f-7222-4d0b-b2f7-5532b682e39e",
   "metadata": {},
   "outputs": [],
   "source": [
    "import weaviate"
   ]
  },
  {
   "cell_type": "code",
   "execution_count": 4,
   "id": "4dfadfe9-e94c-41cf-a1ec-78682763f895",
   "metadata": {},
   "outputs": [],
   "source": [
    "import logging\n",
    "import sys\n",
    "\n",
    "logging.basicConfig(stream=sys.stdout, level=logging.INFO)\n",
    "logging.getLogger().addHandler(logging.StreamHandler(stream=sys.stdout))"
   ]
  },
  {
   "cell_type": "code",
   "execution_count": 7,
   "id": "87cc9c5d-c48c-4aac-b881-5b7d02441d77",
   "metadata": {},
   "outputs": [
    {
     "name": "stderr",
     "output_type": "stream",
     "text": [
      "/Users/linghuang/miniconda3/envs/llama-index4/lib/python3.8/site-packages/weaviate/warnings.py:121: DeprecationWarning: Dep005: You are using weaviate-client version 3.26.2. The latest version is 4.6.2.\n",
      "            Please consider upgrading to the latest version. See https://weaviate.io/developers/weaviate/client-libraries/python for details.\n",
      "  warnings.warn(\n"
     ]
    }
   ],
   "source": [
    "client = weaviate.Client(\n",
    "    url=os.getenv(\"WEAVIATE_URL\"), # Replace with your Weaviate Cloud URL\n",
    "    auth_client_secret=weaviate.auth.AuthApiKey(os.getenv(\"WEAVIATE_API_KEY\")),  # Replace w/ your Weaviate instance API key\n",
    "    additional_headers={\"X-Cohere-Api-Key\": os.environ['COHERE_API_KEY'],}\n",
    ")"
   ]
  },
  {
   "cell_type": "code",
   "execution_count": 8,
   "id": "b57f92f7-7422-407e-80a6-239903edc6aa",
   "metadata": {},
   "outputs": [
    {
     "data": {
      "text/plain": [
       "True"
      ]
     },
     "execution_count": 8,
     "metadata": {},
     "output_type": "execute_result"
    }
   ],
   "source": [
    "client.is_ready()"
   ]
  },
  {
   "cell_type": "markdown",
   "id": "a9d43fda-e095-4ef2-9a1d-988b4ae73a66",
   "metadata": {},
   "source": [
    "### Extract Nodes"
   ]
  },
  {
   "cell_type": "code",
   "execution_count": 9,
   "id": "96832bc9-2d70-4ea7-9695-ff2065a8143a",
   "metadata": {},
   "outputs": [],
   "source": [
    "from llama_index.core.node_parser import SentenceWindowNodeParser\n",
    "from llama_index.core.node_parser import SentenceSplitter"
   ]
  },
  {
   "cell_type": "code",
   "execution_count": 38,
   "id": "285f61a4-9d9e-430e-9e57-3fe32cc60472",
   "metadata": {},
   "outputs": [],
   "source": [
    "# create the sentence window node parser w/ default settings\n",
    "node_parser = SentenceWindowNodeParser.from_defaults(\n",
    "    window_size=3,\n",
    "    window_metadata_key=\"window\",\n",
    "    original_text_metadata_key=\"original_text\",\n",
    ")"
   ]
  },
  {
   "cell_type": "code",
   "execution_count": 39,
   "id": "d5fe81bc-1c22-4033-909d-08f670b212d1",
   "metadata": {},
   "outputs": [],
   "source": [
    "# Extract nodes from documents\n",
    "nodes = node_parser.get_nodes_from_documents(documents)"
   ]
  },
  {
   "cell_type": "code",
   "execution_count": 40,
   "id": "89bc7293-13f5-4e2c-896f-1e5eb67ac739",
   "metadata": {},
   "outputs": [
    {
     "name": "stdout",
     "output_type": "stream",
     "text": [
      "Text: \n",
      "good , deep sleep can be quite difficult to have in this busy age . \n",
      "------------------\n",
      "Window: \n",
      "good , deep sleep can be quite difficult to have in this busy age .  fortunately , there ’ s an antidote to such a problem : a nice , quality bed frame like the acacia kaylin .  solidly constructed from acacia wood , this bed frame will stand the test of time and is fit to rest your shoulders on for years and years .  its sleek , natural wood grain appearance provides a pleasant aesthetic to adorn any bedroom , acting both as a decorative piece as well as a place to give comfort after a hard day of work . \n"
     ]
    }
   ],
   "source": [
    "print(f\"Text: \\n{nodes[0].text}\")\n",
    "print(\"------------------\")\n",
    "print(f\"Window: \\n{nodes[0].metadata['window']}\")"
   ]
  },
  {
   "cell_type": "code",
   "execution_count": 41,
   "id": "e8f4fccf-ca05-4fb3-9b2b-e55cea31374a",
   "metadata": {},
   "outputs": [
    {
     "data": {
      "text/plain": [
       "164163"
      ]
     },
     "execution_count": 41,
     "metadata": {},
     "output_type": "execute_result"
    }
   ],
   "source": [
    "len(nodes)"
   ]
  },
  {
   "cell_type": "code",
   "execution_count": 13,
   "id": "6a3d3b85-9a6c-4329-9cfd-657dfcb37d58",
   "metadata": {},
   "outputs": [],
   "source": [
    "from llama_index.core import VectorStoreIndex, StorageContext\n",
    "from llama_index.vector_stores.weaviate import WeaviateVectorStore"
   ]
  },
  {
   "cell_type": "code",
   "execution_count": 43,
   "id": "d82e9ec9-829b-4ce9-90da-87a73e94e96f",
   "metadata": {},
   "outputs": [],
   "source": [
    "# construct vector store\n",
    "vector_store = WeaviateVectorStore(\n",
    "    weaviate_client=client, index_name=\"LlamaIndex\"\n",
    ")"
   ]
  },
  {
   "cell_type": "code",
   "execution_count": 61,
   "id": "bced4eac-7264-430c-abc7-696d9ae4f68a",
   "metadata": {},
   "outputs": [],
   "source": [
    "# Set up the storage for the embeddings\n",
    "storage_context = StorageContext.from_defaults(vector_store=vector_store)"
   ]
  },
  {
   "cell_type": "code",
   "execution_count": 79,
   "id": "358b3200-e9dc-4759-b186-336b413f1fd4",
   "metadata": {},
   "outputs": [],
   "source": [
    "# If an index with the same index name already exists within Weaviate, delete it\n",
    "# if client.schema.exists(\"LlamaIndex\"):\n",
    "#     client.schema.delete_class(\"LlamaIndex\")\n",
    "\n",
    "# index = VectorStoreIndex(\n",
    "#     nodes,\n",
    "#     storage_context = storage_context,\n",
    "# )"
   ]
  },
  {
   "cell_type": "code",
   "execution_count": 11,
   "id": "92b5c461-9bdb-45fc-a0a5-29cb4e128f25",
   "metadata": {},
   "outputs": [],
   "source": [
    "import json\n",
    "\n",
    "index_name=\"LlamaIndex\"\n",
    "response = client.schema.get(index_name)\n",
    "\n",
    "# print(json.dumps(response, indent=2))"
   ]
  },
  {
   "cell_type": "markdown",
   "id": "ecb60e9f-3f12-4d4d-9774-d9c214490e18",
   "metadata": {},
   "source": [
    "### Loading the index"
   ]
  },
  {
   "cell_type": "code",
   "execution_count": 14,
   "id": "f769b663-54ca-4351-b80c-90ea2805aecd",
   "metadata": {},
   "outputs": [],
   "source": [
    "vector_store = WeaviateVectorStore(\n",
    "    weaviate_client=client, index_name=\"LlamaIndex\"\n",
    ")\n",
    "\n",
    "index = VectorStoreIndex.from_vector_store(vector_store)"
   ]
  },
  {
   "cell_type": "markdown",
   "id": "3fd4da3a-1911-4ed7-9792-523f880e9f36",
   "metadata": {},
   "source": [
    "### Query Index"
   ]
  },
  {
   "cell_type": "code",
   "execution_count": 20,
   "id": "74e03bf8-b75c-41d8-a6e4-c0518fc223fd",
   "metadata": {},
   "outputs": [
    {
     "name": "stdout",
     "output_type": "stream",
     "text": [
      "INFO:httpx:HTTP Request: POST https://api.openai.com/v1/embeddings \"HTTP/1.1 200 OK\"\n",
      "HTTP Request: POST https://api.openai.com/v1/embeddings \"HTTP/1.1 200 OK\"\n",
      "INFO:httpx:HTTP Request: POST https://api.openai.com/v1/chat/completions \"HTTP/1.1 200 OK\"\n",
      "HTTP Request: POST https://api.openai.com/v1/chat/completions \"HTTP/1.1 200 OK\"\n"
     ]
    }
   ],
   "source": [
    "query_engine = index.as_query_engine(similarity_top_k=2)\n",
    "response = query_engine.query(\"wicker outdoor bar\")"
   ]
  },
  {
   "cell_type": "code",
   "execution_count": 21,
   "id": "c1b454c1-15c1-415d-9080-2d98df916e3e",
   "metadata": {},
   "outputs": [],
   "source": [
    "from IPython.display import Markdown, display"
   ]
  },
  {
   "cell_type": "code",
   "execution_count": 22,
   "id": "2ece8ccd-80d2-486e-98d9-304a27571709",
   "metadata": {},
   "outputs": [
    {
     "data": {
      "text/markdown": [
       "<b>The products mentioned are suitable for outdoor use and are designed for bar settings.</b>"
      ],
      "text/plain": [
       "<IPython.core.display.Markdown object>"
      ]
     },
     "metadata": {},
     "output_type": "display_data"
    }
   ],
   "source": [
    "display(Markdown(f\"<b>{response}</b>\"))"
   ]
  },
  {
   "cell_type": "markdown",
   "id": "e9f0d138-cb31-4cb3-9499-194737b04250",
   "metadata": {},
   "source": [
    "### Query Index with Hybrid Search"
   ]
  },
  {
   "cell_type": "code",
   "execution_count": 26,
   "id": "4f7faa48-7530-4c14-bba7-483157e83534",
   "metadata": {},
   "outputs": [],
   "source": [
    "from llama_index.core.response.notebook_utils import display_response"
   ]
  },
  {
   "cell_type": "code",
   "execution_count": 45,
   "id": "ab9cbd33-d919-48ff-a22c-85a51c89543a",
   "metadata": {},
   "outputs": [
    {
     "name": "stdout",
     "output_type": "stream",
     "text": [
      "INFO:httpx:HTTP Request: POST https://api.openai.com/v1/embeddings \"HTTP/1.1 200 OK\"\n",
      "HTTP Request: POST https://api.openai.com/v1/embeddings \"HTTP/1.1 200 OK\"\n",
      "INFO:httpx:HTTP Request: POST https://api.openai.com/v1/chat/completions \"HTTP/1.1 200 OK\"\n",
      "HTTP Request: POST https://api.openai.com/v1/chat/completions \"HTTP/1.1 200 OK\"\n"
     ]
    }
   ],
   "source": [
    "query_engine = index.as_query_engine(\n",
    "    vector_store_query_mode=\"hybrid\", similarity_top_k=2\n",
    ")\n",
    "response = query_engine.query(\n",
    "    \"salon chair\",\n",
    ")"
   ]
  },
  {
   "cell_type": "code",
   "execution_count": 46,
   "id": "fb0922e0-17b0-41a0-87b5-59131679ab10",
   "metadata": {},
   "outputs": [
    {
     "data": {
      "text/markdown": [
       "**`Final Response:`** The product_id 7465 is associated with the product_name \"hair salon chair,\" which is designed to showcase the uniqueness of each salon."
      ],
      "text/plain": [
       "<IPython.core.display.Markdown object>"
      ]
     },
     "metadata": {},
     "output_type": "display_data"
    }
   ],
   "source": [
    "display_response(response)"
   ]
  },
  {
   "cell_type": "code",
   "execution_count": 65,
   "id": "9ab5e37e-79ce-4320-82a3-57754535db57",
   "metadata": {},
   "outputs": [],
   "source": [
    "# from llama_index.core.postprocessor import MetadataReplacementPostProcessor\n",
    "\n",
    "# # The target key defaults to `window` to match the node_parser's default\n",
    "# postproc = MetadataReplacementPostProcessor(\n",
    "#     target_metadata_key=\"window\"\n",
    "# )"
   ]
  },
  {
   "cell_type": "code",
   "execution_count": 61,
   "id": "d484e42a-960b-4ade-8d05-89657c78e868",
   "metadata": {},
   "outputs": [
    {
     "name": "stdout",
     "output_type": "stream",
     "text": [
      "INFO:httpx:HTTP Request: POST https://api.openai.com/v1/embeddings \"HTTP/1.1 200 OK\"\n",
      "HTTP Request: POST https://api.openai.com/v1/embeddings \"HTTP/1.1 200 OK\"\n",
      "INFO:httpx:HTTP Request: POST https://api.openai.com/v1/chat/completions \"HTTP/1.1 200 OK\"\n",
      "HTTP Request: POST https://api.openai.com/v1/chat/completions \"HTTP/1.1 200 OK\"\n"
     ]
    }
   ],
   "source": [
    "# set Logging to DEBUG for more detailed outputs\n",
    "query_engine = index.as_query_engine(\n",
    "    vector_store_query_mode=\"hybrid\", similarity_top_k=5, alpha=0.0\n",
    ")\n",
    "response = query_engine.query(\n",
    "    \"salon chair\",\n",
    ")"
   ]
  },
  {
   "cell_type": "code",
   "execution_count": 62,
   "id": "f383c331-50df-4ab5-9d1b-ec9175731b42",
   "metadata": {},
   "outputs": [
    {
     "data": {
      "text/markdown": [
       "**`Final Response:`** The salon chair is designed to showcase the uniqueness of each salon and create a fashionable salon interior. It offers a wide selection of professional salon products including styling chair, salon hairdryer, salon equipment, etc. The salon chair is made with the highest quality parts to provide long-lasting performance and a comfortable experience for customers."
      ],
      "text/plain": [
       "<IPython.core.display.Markdown object>"
      ]
     },
     "metadata": {},
     "output_type": "display_data"
    }
   ],
   "source": [
    "display_response(response)"
   ]
  },
  {
   "cell_type": "code",
   "execution_count": 63,
   "id": "e35649c1-fcda-4594-a3d3-f87bb9b68d08",
   "metadata": {},
   "outputs": [
    {
     "data": {
      "text/plain": [
       "{'e05f0fc2-15d3-40e1-a17f-d4ba60f6199b': {'window': 'offers a wide selection of professional salon products including styling chair , salon hairdryer , salon equipment , etc .  to showcase the uniqueness of each salon',\n",
       "  'original_text': 'to showcase the uniqueness of each salon',\n",
       "  'product_id': 7465,\n",
       "  'product_name': 'hair salon chair'},\n",
       " '81dead1c-a774-4be8-93bf-3ff79461f823': {'window': 'offers a wide selection of professional salon products including styling chair , salon hairdryer , salon equipment , etc .  to showcase the uniqueness of each salon',\n",
       "  'original_text': 'offers a wide selection of professional salon products including styling chair , salon hairdryer , salon equipment , etc . ',\n",
       "  'product_id': 7465,\n",
       "  'product_name': 'hair salon chair'},\n",
       " 'd3baf129-0497-47ad-a4ae-2bc95ea791d3': {'window': 'mercer41 beauty offers a wide selection professional beauty salon equipment including salon styling chair , salon hair dryer , barber pole light , etc .  to showcase the uniqueness of each salon.the mercer41 beauty chairs for salon are beautifully designed to create a fashionable salon interior .  they are made with the highest quality parts to provide a long lasting performance and a comfortable experience your customers will enjoy.the mercer41 hydraulic salon chairs are made with heavy duty steel frame , along with premium chrome round base , sturdy arms , durable hydraulic pump and thick high density foam seat and back rest .  with its 360 degree swivel and adjustable high quality hydraulic pump , you can turn the salon chair to any position and adjust the height easily to meet your needs .  styling chairs for salon .',\n",
       "  'original_text': 'to showcase the uniqueness of each salon.the mercer41 beauty chairs for salon are beautifully designed to create a fashionable salon interior . ',\n",
       "  'product_id': 7468,\n",
       "  'product_name': 'mercer41 hair salon chair hydraulic styling chair ( rose gold )'},\n",
       " 'e1c74205-fb2e-4c33-bf9d-8053178fae72': {'window': 'mercer41 beauty offers a wide selection professional beauty salon equipment including salon styling chair , salon hair dryer , barber pole light , etc .  to showcase the uniqueness of each salon.the mercer41 beauty chairs for salon are beautifully designed to create a fashionable salon interior .  they are made with the highest quality parts to provide a long lasting performance and a comfortable experience your customers will enjoy.the mercer41 hydraulic salon chairs are made with heavy duty steel frame , along with premium chrome round base , sturdy arms , durable hydraulic pump and thick high density foam seat and back rest .  with its 360 degree swivel and adjustable high quality hydraulic pump , you can turn the salon chair to any position and adjust the height easily to meet your needs .  styling chairs for salon .',\n",
       "  'original_text': 'they are made with the highest quality parts to provide a long lasting performance and a comfortable experience your customers will enjoy.the mercer41 hydraulic salon chairs are made with heavy duty steel frame , along with premium chrome round base , sturdy arms , durable hydraulic pump and thick high density foam seat and back rest . ',\n",
       "  'product_id': 7468,\n",
       "  'product_name': 'mercer41 hair salon chair hydraulic styling chair ( rose gold )'},\n",
       " '9ed220df-34b7-4519-a2a6-01c07b926251': {'window': 'lift chair office work chair beauty salon chair brown',\n",
       "  'original_text': 'lift chair office work chair beauty salon chair brown',\n",
       "  'product_id': 33691,\n",
       "  'product_name': 'lift chair office work chair beauty salon chair brown'}}"
      ]
     },
     "execution_count": 63,
     "metadata": {},
     "output_type": "execute_result"
    }
   ],
   "source": [
    "response.metadata"
   ]
  },
  {
   "cell_type": "code",
   "execution_count": 39,
   "id": "59c1f525-f71f-4328-a954-fc68e812a4f4",
   "metadata": {},
   "outputs": [],
   "source": [
    "# get manually labeled groundtruth lables\n",
    "label_df = pd.read_csv(\"dataset/label.csv\", sep='\\t')"
   ]
  },
  {
   "cell_type": "code",
   "execution_count": 40,
   "id": "930676a8-250e-4a69-9b97-d143d29d0e4f",
   "metadata": {},
   "outputs": [
    {
     "data": {
      "text/html": [
       "<div>\n",
       "<style scoped>\n",
       "    .dataframe tbody tr th:only-of-type {\n",
       "        vertical-align: middle;\n",
       "    }\n",
       "\n",
       "    .dataframe tbody tr th {\n",
       "        vertical-align: top;\n",
       "    }\n",
       "\n",
       "    .dataframe thead th {\n",
       "        text-align: right;\n",
       "    }\n",
       "</style>\n",
       "<table border=\"1\" class=\"dataframe\">\n",
       "  <thead>\n",
       "    <tr style=\"text-align: right;\">\n",
       "      <th></th>\n",
       "      <th>id</th>\n",
       "      <th>query_id</th>\n",
       "      <th>product_id</th>\n",
       "      <th>label</th>\n",
       "    </tr>\n",
       "  </thead>\n",
       "  <tbody>\n",
       "    <tr>\n",
       "      <th>80</th>\n",
       "      <td>80</td>\n",
       "      <td>0</td>\n",
       "      <td>7465</td>\n",
       "      <td>Exact</td>\n",
       "    </tr>\n",
       "  </tbody>\n",
       "</table>\n",
       "</div>"
      ],
      "text/plain": [
       "    id  query_id  product_id  label\n",
       "80  80         0        7465  Exact"
      ]
     },
     "execution_count": 40,
     "metadata": {},
     "output_type": "execute_result"
    }
   ],
   "source": [
    "label_df[(label_df['query_id'] == 0) & (label_df['product_id'] == 7465)]"
   ]
  },
  {
   "cell_type": "code",
   "execution_count": 64,
   "id": "01dc06ec-c551-456a-8ba4-ed5a5d33b923",
   "metadata": {},
   "outputs": [
    {
     "data": {
      "text/html": [
       "<div>\n",
       "<style scoped>\n",
       "    .dataframe tbody tr th:only-of-type {\n",
       "        vertical-align: middle;\n",
       "    }\n",
       "\n",
       "    .dataframe tbody tr th {\n",
       "        vertical-align: top;\n",
       "    }\n",
       "\n",
       "    .dataframe thead th {\n",
       "        text-align: right;\n",
       "    }\n",
       "</style>\n",
       "<table border=\"1\" class=\"dataframe\">\n",
       "  <thead>\n",
       "    <tr style=\"text-align: right;\">\n",
       "      <th></th>\n",
       "      <th>id</th>\n",
       "      <th>query_id</th>\n",
       "      <th>product_id</th>\n",
       "      <th>label</th>\n",
       "    </tr>\n",
       "  </thead>\n",
       "  <tbody>\n",
       "    <tr>\n",
       "      <th>104</th>\n",
       "      <td>104</td>\n",
       "      <td>0</td>\n",
       "      <td>7468</td>\n",
       "      <td>Exact</td>\n",
       "    </tr>\n",
       "  </tbody>\n",
       "</table>\n",
       "</div>"
      ],
      "text/plain": [
       "      id  query_id  product_id  label\n",
       "104  104         0        7468  Exact"
      ]
     },
     "execution_count": 64,
     "metadata": {},
     "output_type": "execute_result"
    }
   ],
   "source": [
    "label_df[(label_df['query_id'] == 0) & (label_df['product_id'] == 7468)]"
   ]
  },
  {
   "cell_type": "code",
   "execution_count": 65,
   "id": "cf354e45-8153-4335-9473-82c910c52987",
   "metadata": {},
   "outputs": [
    {
     "data": {
      "text/html": [
       "<div>\n",
       "<style scoped>\n",
       "    .dataframe tbody tr th:only-of-type {\n",
       "        vertical-align: middle;\n",
       "    }\n",
       "\n",
       "    .dataframe tbody tr th {\n",
       "        vertical-align: top;\n",
       "    }\n",
       "\n",
       "    .dataframe thead th {\n",
       "        text-align: right;\n",
       "    }\n",
       "</style>\n",
       "<table border=\"1\" class=\"dataframe\">\n",
       "  <thead>\n",
       "    <tr style=\"text-align: right;\">\n",
       "      <th></th>\n",
       "      <th>id</th>\n",
       "      <th>query_id</th>\n",
       "      <th>product_id</th>\n",
       "      <th>label</th>\n",
       "    </tr>\n",
       "  </thead>\n",
       "  <tbody>\n",
       "    <tr>\n",
       "      <th>98</th>\n",
       "      <td>98</td>\n",
       "      <td>0</td>\n",
       "      <td>33691</td>\n",
       "      <td>Partial</td>\n",
       "    </tr>\n",
       "  </tbody>\n",
       "</table>\n",
       "</div>"
      ],
      "text/plain": [
       "    id  query_id  product_id    label\n",
       "98  98         0       33691  Partial"
      ]
     },
     "execution_count": 65,
     "metadata": {},
     "output_type": "execute_result"
    }
   ],
   "source": [
    "label_df[(label_df['query_id'] == 0) & (label_df['product_id'] == 33691)]"
   ]
  },
  {
   "cell_type": "code",
   "execution_count": 75,
   "id": "6453da8d-0667-41f7-bf36-e9dd8a74d875",
   "metadata": {},
   "outputs": [],
   "source": [
    "query_df = pd.read_csv(\"dataset/query.csv\", sep='\\t')\n",
    "n = 10\n",
    "query = query_df.head(n)"
   ]
  },
  {
   "cell_type": "code",
   "execution_count": 102,
   "id": "cc1c28c6-08a7-48ea-9eb6-ea8a861650a2",
   "metadata": {},
   "outputs": [],
   "source": [
    "def process_row(row):\n",
    "    query_id = row['query_id']\n",
    "    item = row['query']\n",
    "    raw_response = query_engine.query(item)\n",
    "    results = []\n",
    "    for v in raw_response.metadata.values():\n",
    "        results.append({\n",
    "            'query_id': query_id,\n",
    "            'query': item,\n",
    "            'product_id': v['product_id'],\n",
    "            'product_name': v['product_name'],\n",
    "            'product_text': v['original_text'],\n",
    "        })\n",
    "    return results"
   ]
  },
  {
   "cell_type": "code",
   "execution_count": 103,
   "id": "7d32088e-8ce1-497e-bdea-122e96e73f42",
   "metadata": {},
   "outputs": [
    {
     "name": "stdout",
     "output_type": "stream",
     "text": [
      "INFO:httpx:HTTP Request: POST https://api.openai.com/v1/embeddings \"HTTP/1.1 200 OK\"\n",
      "HTTP Request: POST https://api.openai.com/v1/embeddings \"HTTP/1.1 200 OK\"\n",
      "INFO:httpx:HTTP Request: POST https://api.openai.com/v1/chat/completions \"HTTP/1.1 200 OK\"\n",
      "HTTP Request: POST https://api.openai.com/v1/chat/completions \"HTTP/1.1 200 OK\"\n",
      "INFO:httpx:HTTP Request: POST https://api.openai.com/v1/embeddings \"HTTP/1.1 200 OK\"\n",
      "HTTP Request: POST https://api.openai.com/v1/embeddings \"HTTP/1.1 200 OK\"\n",
      "INFO:httpx:HTTP Request: POST https://api.openai.com/v1/chat/completions \"HTTP/1.1 200 OK\"\n",
      "HTTP Request: POST https://api.openai.com/v1/chat/completions \"HTTP/1.1 200 OK\"\n",
      "INFO:httpx:HTTP Request: POST https://api.openai.com/v1/embeddings \"HTTP/1.1 200 OK\"\n",
      "HTTP Request: POST https://api.openai.com/v1/embeddings \"HTTP/1.1 200 OK\"\n",
      "INFO:httpx:HTTP Request: POST https://api.openai.com/v1/chat/completions \"HTTP/1.1 200 OK\"\n",
      "HTTP Request: POST https://api.openai.com/v1/chat/completions \"HTTP/1.1 200 OK\"\n",
      "INFO:httpx:HTTP Request: POST https://api.openai.com/v1/embeddings \"HTTP/1.1 200 OK\"\n",
      "HTTP Request: POST https://api.openai.com/v1/embeddings \"HTTP/1.1 200 OK\"\n",
      "INFO:httpx:HTTP Request: POST https://api.openai.com/v1/chat/completions \"HTTP/1.1 200 OK\"\n",
      "HTTP Request: POST https://api.openai.com/v1/chat/completions \"HTTP/1.1 200 OK\"\n",
      "INFO:httpx:HTTP Request: POST https://api.openai.com/v1/embeddings \"HTTP/1.1 200 OK\"\n",
      "HTTP Request: POST https://api.openai.com/v1/embeddings \"HTTP/1.1 200 OK\"\n",
      "INFO:httpx:HTTP Request: POST https://api.openai.com/v1/chat/completions \"HTTP/1.1 200 OK\"\n",
      "HTTP Request: POST https://api.openai.com/v1/chat/completions \"HTTP/1.1 200 OK\"\n",
      "INFO:httpx:HTTP Request: POST https://api.openai.com/v1/embeddings \"HTTP/1.1 200 OK\"\n",
      "HTTP Request: POST https://api.openai.com/v1/embeddings \"HTTP/1.1 200 OK\"\n",
      "INFO:httpx:HTTP Request: POST https://api.openai.com/v1/chat/completions \"HTTP/1.1 200 OK\"\n",
      "HTTP Request: POST https://api.openai.com/v1/chat/completions \"HTTP/1.1 200 OK\"\n",
      "INFO:httpx:HTTP Request: POST https://api.openai.com/v1/embeddings \"HTTP/1.1 200 OK\"\n",
      "HTTP Request: POST https://api.openai.com/v1/embeddings \"HTTP/1.1 200 OK\"\n",
      "INFO:httpx:HTTP Request: POST https://api.openai.com/v1/chat/completions \"HTTP/1.1 200 OK\"\n",
      "HTTP Request: POST https://api.openai.com/v1/chat/completions \"HTTP/1.1 200 OK\"\n",
      "INFO:httpx:HTTP Request: POST https://api.openai.com/v1/embeddings \"HTTP/1.1 200 OK\"\n",
      "HTTP Request: POST https://api.openai.com/v1/embeddings \"HTTP/1.1 200 OK\"\n",
      "INFO:httpx:HTTP Request: POST https://api.openai.com/v1/chat/completions \"HTTP/1.1 200 OK\"\n",
      "HTTP Request: POST https://api.openai.com/v1/chat/completions \"HTTP/1.1 200 OK\"\n",
      "INFO:httpx:HTTP Request: POST https://api.openai.com/v1/embeddings \"HTTP/1.1 200 OK\"\n",
      "HTTP Request: POST https://api.openai.com/v1/embeddings \"HTTP/1.1 200 OK\"\n",
      "INFO:httpx:HTTP Request: POST https://api.openai.com/v1/chat/completions \"HTTP/1.1 200 OK\"\n",
      "HTTP Request: POST https://api.openai.com/v1/chat/completions \"HTTP/1.1 200 OK\"\n",
      "INFO:httpx:HTTP Request: POST https://api.openai.com/v1/embeddings \"HTTP/1.1 200 OK\"\n",
      "HTTP Request: POST https://api.openai.com/v1/embeddings \"HTTP/1.1 200 OK\"\n",
      "INFO:httpx:HTTP Request: POST https://api.openai.com/v1/chat/completions \"HTTP/1.1 200 OK\"\n",
      "HTTP Request: POST https://api.openai.com/v1/chat/completions \"HTTP/1.1 200 OK\"\n"
     ]
    }
   ],
   "source": [
    "results = query.apply(process_row, axis=1).explode().tolist()\n",
    "df = pd.DataFrame(results)"
   ]
  },
  {
   "cell_type": "code",
   "execution_count": 104,
   "id": "6bdd3db9-27a9-4e5a-84ee-0b5bb7611cec",
   "metadata": {},
   "outputs": [
    {
     "data": {
      "text/html": [
       "<div>\n",
       "<style scoped>\n",
       "    .dataframe tbody tr th:only-of-type {\n",
       "        vertical-align: middle;\n",
       "    }\n",
       "\n",
       "    .dataframe tbody tr th {\n",
       "        vertical-align: top;\n",
       "    }\n",
       "\n",
       "    .dataframe thead th {\n",
       "        text-align: right;\n",
       "    }\n",
       "</style>\n",
       "<table border=\"1\" class=\"dataframe\">\n",
       "  <thead>\n",
       "    <tr style=\"text-align: right;\">\n",
       "      <th></th>\n",
       "      <th>query_id</th>\n",
       "      <th>query</th>\n",
       "      <th>product_id</th>\n",
       "      <th>product_name</th>\n",
       "      <th>product_text</th>\n",
       "    </tr>\n",
       "  </thead>\n",
       "  <tbody>\n",
       "    <tr>\n",
       "      <th>0</th>\n",
       "      <td>0</td>\n",
       "      <td>salon chair</td>\n",
       "      <td>7465</td>\n",
       "      <td>hair salon chair</td>\n",
       "      <td>to showcase the uniqueness of each salon</td>\n",
       "    </tr>\n",
       "    <tr>\n",
       "      <th>1</th>\n",
       "      <td>0</td>\n",
       "      <td>salon chair</td>\n",
       "      <td>24010</td>\n",
       "      <td>bar salon task chair</td>\n",
       "      <td>it features a curved backrest design , an adju...</td>\n",
       "    </tr>\n",
       "    <tr>\n",
       "      <th>2</th>\n",
       "      <td>1</td>\n",
       "      <td>smart coffee table</td>\n",
       "      <td>33698</td>\n",
       "      <td>smart coffee table with storage</td>\n",
       "      <td>the sobro coffee table is designed to be plug ...</td>\n",
       "    </tr>\n",
       "    <tr>\n",
       "      <th>3</th>\n",
       "      <td>1</td>\n",
       "      <td>smart coffee table</td>\n",
       "      <td>33698</td>\n",
       "      <td>smart coffee table with storage</td>\n",
       "      <td>never miss a goal or a moment of the conversat...</td>\n",
       "    </tr>\n",
       "    <tr>\n",
       "      <th>4</th>\n",
       "      <td>2</td>\n",
       "      <td>dinosaur</td>\n",
       "      <td>27515</td>\n",
       "      <td>stegosaurus canvas art</td>\n",
       "      <td>the dinosaur on this painting looks like he 's...</td>\n",
       "    </tr>\n",
       "  </tbody>\n",
       "</table>\n",
       "</div>"
      ],
      "text/plain": [
       "   query_id               query  product_id                     product_name  \\\n",
       "0         0         salon chair        7465                 hair salon chair   \n",
       "1         0         salon chair       24010             bar salon task chair   \n",
       "2         1  smart coffee table       33698  smart coffee table with storage   \n",
       "3         1  smart coffee table       33698  smart coffee table with storage   \n",
       "4         2            dinosaur       27515           stegosaurus canvas art   \n",
       "\n",
       "                                        product_text  \n",
       "0           to showcase the uniqueness of each salon  \n",
       "1  it features a curved backrest design , an adju...  \n",
       "2  the sobro coffee table is designed to be plug ...  \n",
       "3  never miss a goal or a moment of the conversat...  \n",
       "4  the dinosaur on this painting looks like he 's...  "
      ]
     },
     "execution_count": 104,
     "metadata": {},
     "output_type": "execute_result"
    }
   ],
   "source": [
    "df.head()"
   ]
  },
  {
   "cell_type": "markdown",
   "id": "12e7357b-cc88-41ef-a5a7-dfcf096a0f36",
   "metadata": {},
   "source": [
    "### Query With MetadataReplacementPostProcessor"
   ]
  },
  {
   "cell_type": "code",
   "execution_count": 92,
   "id": "7c5b9f6e-761e-4d31-a2e6-1f5eceee9de3",
   "metadata": {},
   "outputs": [],
   "source": [
    "from llama_index.core.postprocessor import MetadataReplacementPostProcessor"
   ]
  },
  {
   "cell_type": "code",
   "execution_count": 93,
   "id": "9251083d-f2ef-4a7e-a1ba-cf944f5ac75b",
   "metadata": {},
   "outputs": [],
   "source": [
    "query_engine = index.as_query_engine(\n",
    "    similarity_top_k=2,\n",
    "    # the target key defaults to `window` to match the node_parser's default\n",
    "    node_postprocessors=[\n",
    "        MetadataReplacementPostProcessor(target_metadata_key=\"window\")\n",
    "    ],\n",
    ")"
   ]
  },
  {
   "cell_type": "code",
   "execution_count": 94,
   "id": "d4c4df4d-f4d1-46e8-891f-504fc189deae",
   "metadata": {},
   "outputs": [
    {
     "name": "stdout",
     "output_type": "stream",
     "text": [
      "INFO:httpx:HTTP Request: POST https://api.openai.com/v1/embeddings \"HTTP/1.1 200 OK\"\n",
      "HTTP Request: POST https://api.openai.com/v1/embeddings \"HTTP/1.1 200 OK\"\n",
      "INFO:httpx:HTTP Request: POST https://api.openai.com/v1/chat/completions \"HTTP/1.1 200 OK\"\n",
      "HTTP Request: POST https://api.openai.com/v1/chat/completions \"HTTP/1.1 200 OK\"\n",
      "The product referred to as a \"salon chair\" is a professional salon product that is part of a wide selection of salon equipment offered to showcase the uniqueness of each salon.\n"
     ]
    }
   ],
   "source": [
    "window_response = query_engine.query(\n",
    "    \"salon chair\"\n",
    ")\n",
    "print(window_response)"
   ]
  },
  {
   "cell_type": "code",
   "execution_count": 95,
   "id": "d3566e49-2ff4-4bb0-8909-001bcb293035",
   "metadata": {},
   "outputs": [
    {
     "data": {
      "text/plain": [
       "'> Source (Doc id: e05f0fc2-15d3-40e1-a17f-d4ba60f6199b): offers a wide selection of professional salon products including styling chair , salon hairdryer ...\\n\\n> Source (Doc id: 2c2fa1b0-e694-4eb6-a734-99f06ecb18b2): the office chair is ideal for any casual or professional working area .  it provides comfortable ...'"
      ]
     },
     "execution_count": 95,
     "metadata": {},
     "output_type": "execute_result"
    }
   ],
   "source": [
    "window_response.get_formatted_sources()"
   ]
  },
  {
   "cell_type": "code",
   "execution_count": 96,
   "id": "9da338d8-eb56-4c8b-887b-5274592f4495",
   "metadata": {},
   "outputs": [
    {
     "data": {
      "text/plain": [
       "{'e05f0fc2-15d3-40e1-a17f-d4ba60f6199b': {'window': 'offers a wide selection of professional salon products including styling chair , salon hairdryer , salon equipment , etc .  to showcase the uniqueness of each salon',\n",
       "  'original_text': 'to showcase the uniqueness of each salon',\n",
       "  'product_id': 7465,\n",
       "  'product_name': 'hair salon chair'},\n",
       " '2c2fa1b0-e694-4eb6-a734-99f06ecb18b2': {'window': 'the office chair is ideal for any casual or professional working area .  it provides comfortable support with a cozy and convenient design .  carefully crafted .  it features a curved backrest design , an adjustable lift seat , and a five-star base with casters for easy mobility .',\n",
       "  'original_text': 'it features a curved backrest design , an adjustable lift seat , and a five-star base with casters for easy mobility .',\n",
       "  'product_id': 24010,\n",
       "  'product_name': 'bar salon task chair'}}"
      ]
     },
     "execution_count": 96,
     "metadata": {},
     "output_type": "execute_result"
    }
   ],
   "source": [
    "window_response.metadata"
   ]
  },
  {
   "cell_type": "code",
   "execution_count": 97,
   "id": "db02e46e-ca26-4680-9feb-ee56195e220e",
   "metadata": {},
   "outputs": [
    {
     "data": {
      "text/html": [
       "<div>\n",
       "<style scoped>\n",
       "    .dataframe tbody tr th:only-of-type {\n",
       "        vertical-align: middle;\n",
       "    }\n",
       "\n",
       "    .dataframe tbody tr th {\n",
       "        vertical-align: top;\n",
       "    }\n",
       "\n",
       "    .dataframe thead th {\n",
       "        text-align: right;\n",
       "    }\n",
       "</style>\n",
       "<table border=\"1\" class=\"dataframe\">\n",
       "  <thead>\n",
       "    <tr style=\"text-align: right;\">\n",
       "      <th></th>\n",
       "      <th>id</th>\n",
       "      <th>query_id</th>\n",
       "      <th>product_id</th>\n",
       "      <th>label</th>\n",
       "    </tr>\n",
       "  </thead>\n",
       "  <tbody>\n",
       "    <tr>\n",
       "      <th>80</th>\n",
       "      <td>80</td>\n",
       "      <td>0</td>\n",
       "      <td>7465</td>\n",
       "      <td>Exact</td>\n",
       "    </tr>\n",
       "  </tbody>\n",
       "</table>\n",
       "</div>"
      ],
      "text/plain": [
       "    id  query_id  product_id  label\n",
       "80  80         0        7465  Exact"
      ]
     },
     "execution_count": 97,
     "metadata": {},
     "output_type": "execute_result"
    }
   ],
   "source": [
    "label_df[(label_df['query_id'] == 0) & (label_df['product_id'] == 7465)]"
   ]
  },
  {
   "cell_type": "code",
   "execution_count": 100,
   "id": "bc9587e4-8dbf-4788-9c24-757c407bd9db",
   "metadata": {},
   "outputs": [
    {
     "name": "stdout",
     "output_type": "stream",
     "text": [
      "Window: offers a wide selection of professional salon products including styling chair , salon hairdryer , salon equipment , etc .  to showcase the uniqueness of each salon\n",
      "------------------\n",
      "Original Sentence: to showcase the uniqueness of each salon\n"
     ]
    }
   ],
   "source": [
    "window = window_response.source_nodes[0].node.metadata[\"window\"]\n",
    "sentence = window_response.source_nodes[0].node.metadata[\"original_text\"]\n",
    "\n",
    "print(f\"Window: {window}\")\n",
    "print(\"------------------\")\n",
    "print(f\"Original Sentence: {sentence}\")"
   ]
  },
  {
   "cell_type": "code",
   "execution_count": 98,
   "id": "89a7ff01-4425-40cf-baed-b72648b10130",
   "metadata": {},
   "outputs": [
    {
     "data": {
      "text/html": [
       "<div>\n",
       "<style scoped>\n",
       "    .dataframe tbody tr th:only-of-type {\n",
       "        vertical-align: middle;\n",
       "    }\n",
       "\n",
       "    .dataframe tbody tr th {\n",
       "        vertical-align: top;\n",
       "    }\n",
       "\n",
       "    .dataframe thead th {\n",
       "        text-align: right;\n",
       "    }\n",
       "</style>\n",
       "<table border=\"1\" class=\"dataframe\">\n",
       "  <thead>\n",
       "    <tr style=\"text-align: right;\">\n",
       "      <th></th>\n",
       "      <th>id</th>\n",
       "      <th>query_id</th>\n",
       "      <th>product_id</th>\n",
       "      <th>label</th>\n",
       "    </tr>\n",
       "  </thead>\n",
       "  <tbody>\n",
       "    <tr>\n",
       "      <th>23</th>\n",
       "      <td>23</td>\n",
       "      <td>0</td>\n",
       "      <td>24010</td>\n",
       "      <td>Partial</td>\n",
       "    </tr>\n",
       "  </tbody>\n",
       "</table>\n",
       "</div>"
      ],
      "text/plain": [
       "    id  query_id  product_id    label\n",
       "23  23         0       24010  Partial"
      ]
     },
     "execution_count": 98,
     "metadata": {},
     "output_type": "execute_result"
    }
   ],
   "source": [
    "label_df[(label_df['query_id'] == 0) & (label_df['product_id'] == 24010)]"
   ]
  },
  {
   "cell_type": "code",
   "execution_count": 101,
   "id": "029853cb-148b-4ebd-8c82-11ffb874aa69",
   "metadata": {},
   "outputs": [
    {
     "name": "stdout",
     "output_type": "stream",
     "text": [
      "Window: the office chair is ideal for any casual or professional working area .  it provides comfortable support with a cozy and convenient design .  carefully crafted .  it features a curved backrest design , an adjustable lift seat , and a five-star base with casters for easy mobility .\n",
      "------------------\n",
      "Original Sentence: it features a curved backrest design , an adjustable lift seat , and a five-star base with casters for easy mobility .\n"
     ]
    }
   ],
   "source": [
    "window = window_response.source_nodes[1].node.metadata[\"window\"]\n",
    "sentence = window_response.source_nodes[1].node.metadata[\"original_text\"]\n",
    "\n",
    "print(f\"Window: {window}\")\n",
    "print(\"------------------\")\n",
    "print(f\"Original Sentence: {sentence}\")"
   ]
  },
  {
   "cell_type": "markdown",
   "id": "ebf0c066-7276-48e0-9922-cc90ccc959a6",
   "metadata": {},
   "source": [
    "### Add Re-ranker"
   ]
  },
  {
   "cell_type": "code",
   "execution_count": null,
   "id": "cfe546eb-8d33-4e4f-855d-6f44842df465",
   "metadata": {},
   "outputs": [],
   "source": []
  },
  {
   "cell_type": "code",
   "execution_count": null,
   "id": "907ed8b6-1ddd-4b22-9c95-c893463383fc",
   "metadata": {},
   "outputs": [],
   "source": []
  }
 ],
 "metadata": {
  "environment": {
   "name": "tf2-gpu.2-5.m76",
   "type": "gcloud",
   "uri": "gcr.io/deeplearning-platform-release/tf2-gpu.2-5:m76"
  },
  "kernelspec": {
   "display_name": "Python 3 (ipykernel)",
   "language": "python",
   "name": "python3"
  },
  "language_info": {
   "codemirror_mode": {
    "name": "ipython",
    "version": 3
   },
   "file_extension": ".py",
   "mimetype": "text/x-python",
   "name": "python",
   "nbconvert_exporter": "python",
   "pygments_lexer": "ipython3",
   "version": "3.8.19"
  }
 },
 "nbformat": 4,
 "nbformat_minor": 5
}
