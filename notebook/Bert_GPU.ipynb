{
  "nbformat": 4,
  "nbformat_minor": 0,
  "metadata": {
    "colab": {
      "name": "Bert-GPU.ipynb",
      "provenance": [],
      "collapsed_sections": [],
      "machine_shape": "hm"
    },
    "kernelspec": {
      "name": "python3",
      "display_name": "Python 3"
    },
    "accelerator": "GPU",
    "widgets": {
      "application/vnd.jupyter.widget-state+json": {
        "f2acdd3fb9ca446ebdd9eef5a8954f43": {
          "model_module": "@jupyter-widgets/controls",
          "model_name": "HBoxModel",
          "state": {
            "_view_name": "HBoxView",
            "_dom_classes": [],
            "_model_name": "HBoxModel",
            "_view_module": "@jupyter-widgets/controls",
            "_model_module_version": "1.5.0",
            "_view_count": null,
            "_view_module_version": "1.5.0",
            "box_style": "",
            "layout": "IPY_MODEL_676e2c7600814ec7947eb3762bf9aabf",
            "_model_module": "@jupyter-widgets/controls",
            "children": [
              "IPY_MODEL_2edb92081524408aa313d21707bab3e3",
              "IPY_MODEL_58f079466e2b4951ab7008b121c73db1"
            ]
          }
        },
        "676e2c7600814ec7947eb3762bf9aabf": {
          "model_module": "@jupyter-widgets/base",
          "model_name": "LayoutModel",
          "state": {
            "_view_name": "LayoutView",
            "grid_template_rows": null,
            "right": null,
            "justify_content": null,
            "_view_module": "@jupyter-widgets/base",
            "overflow": null,
            "_model_module_version": "1.2.0",
            "_view_count": null,
            "flex_flow": null,
            "width": null,
            "min_width": null,
            "border": null,
            "align_items": null,
            "bottom": null,
            "_model_module": "@jupyter-widgets/base",
            "top": null,
            "grid_column": null,
            "overflow_y": null,
            "overflow_x": null,
            "grid_auto_flow": null,
            "grid_area": null,
            "grid_template_columns": null,
            "flex": null,
            "_model_name": "LayoutModel",
            "justify_items": null,
            "grid_row": null,
            "max_height": null,
            "align_content": null,
            "visibility": null,
            "align_self": null,
            "height": null,
            "min_height": null,
            "padding": null,
            "grid_auto_rows": null,
            "grid_gap": null,
            "max_width": null,
            "order": null,
            "_view_module_version": "1.2.0",
            "grid_template_areas": null,
            "object_position": null,
            "object_fit": null,
            "grid_auto_columns": null,
            "margin": null,
            "display": null,
            "left": null
          }
        },
        "2edb92081524408aa313d21707bab3e3": {
          "model_module": "@jupyter-widgets/controls",
          "model_name": "FloatProgressModel",
          "state": {
            "_view_name": "ProgressView",
            "style": "IPY_MODEL_eebc6fd82f6c4ce98a0afff39f0f6fac",
            "_dom_classes": [],
            "description": "Downloading: 100%",
            "_model_name": "FloatProgressModel",
            "bar_style": "success",
            "max": 625,
            "_view_module": "@jupyter-widgets/controls",
            "_model_module_version": "1.5.0",
            "value": 625,
            "_view_count": null,
            "_view_module_version": "1.5.0",
            "orientation": "horizontal",
            "min": 0,
            "description_tooltip": null,
            "_model_module": "@jupyter-widgets/controls",
            "layout": "IPY_MODEL_485a33bbc90447e9b34c061986cd7fb9"
          }
        },
        "58f079466e2b4951ab7008b121c73db1": {
          "model_module": "@jupyter-widgets/controls",
          "model_name": "HTMLModel",
          "state": {
            "_view_name": "HTMLView",
            "style": "IPY_MODEL_7673067ebbad400d94e1e55be46dec31",
            "_dom_classes": [],
            "description": "",
            "_model_name": "HTMLModel",
            "placeholder": "​",
            "_view_module": "@jupyter-widgets/controls",
            "_model_module_version": "1.5.0",
            "value": " 625/625 [00:00&lt;00:00, 2.00kB/s]",
            "_view_count": null,
            "_view_module_version": "1.5.0",
            "description_tooltip": null,
            "_model_module": "@jupyter-widgets/controls",
            "layout": "IPY_MODEL_8f9bc7f0e516491d84fc42c2c7526281"
          }
        },
        "eebc6fd82f6c4ce98a0afff39f0f6fac": {
          "model_module": "@jupyter-widgets/controls",
          "model_name": "ProgressStyleModel",
          "state": {
            "_view_name": "StyleView",
            "_model_name": "ProgressStyleModel",
            "description_width": "initial",
            "_view_module": "@jupyter-widgets/base",
            "_model_module_version": "1.5.0",
            "_view_count": null,
            "_view_module_version": "1.2.0",
            "bar_color": null,
            "_model_module": "@jupyter-widgets/controls"
          }
        },
        "485a33bbc90447e9b34c061986cd7fb9": {
          "model_module": "@jupyter-widgets/base",
          "model_name": "LayoutModel",
          "state": {
            "_view_name": "LayoutView",
            "grid_template_rows": null,
            "right": null,
            "justify_content": null,
            "_view_module": "@jupyter-widgets/base",
            "overflow": null,
            "_model_module_version": "1.2.0",
            "_view_count": null,
            "flex_flow": null,
            "width": null,
            "min_width": null,
            "border": null,
            "align_items": null,
            "bottom": null,
            "_model_module": "@jupyter-widgets/base",
            "top": null,
            "grid_column": null,
            "overflow_y": null,
            "overflow_x": null,
            "grid_auto_flow": null,
            "grid_area": null,
            "grid_template_columns": null,
            "flex": null,
            "_model_name": "LayoutModel",
            "justify_items": null,
            "grid_row": null,
            "max_height": null,
            "align_content": null,
            "visibility": null,
            "align_self": null,
            "height": null,
            "min_height": null,
            "padding": null,
            "grid_auto_rows": null,
            "grid_gap": null,
            "max_width": null,
            "order": null,
            "_view_module_version": "1.2.0",
            "grid_template_areas": null,
            "object_position": null,
            "object_fit": null,
            "grid_auto_columns": null,
            "margin": null,
            "display": null,
            "left": null
          }
        },
        "7673067ebbad400d94e1e55be46dec31": {
          "model_module": "@jupyter-widgets/controls",
          "model_name": "DescriptionStyleModel",
          "state": {
            "_view_name": "StyleView",
            "_model_name": "DescriptionStyleModel",
            "description_width": "",
            "_view_module": "@jupyter-widgets/base",
            "_model_module_version": "1.5.0",
            "_view_count": null,
            "_view_module_version": "1.2.0",
            "_model_module": "@jupyter-widgets/controls"
          }
        },
        "8f9bc7f0e516491d84fc42c2c7526281": {
          "model_module": "@jupyter-widgets/base",
          "model_name": "LayoutModel",
          "state": {
            "_view_name": "LayoutView",
            "grid_template_rows": null,
            "right": null,
            "justify_content": null,
            "_view_module": "@jupyter-widgets/base",
            "overflow": null,
            "_model_module_version": "1.2.0",
            "_view_count": null,
            "flex_flow": null,
            "width": null,
            "min_width": null,
            "border": null,
            "align_items": null,
            "bottom": null,
            "_model_module": "@jupyter-widgets/base",
            "top": null,
            "grid_column": null,
            "overflow_y": null,
            "overflow_x": null,
            "grid_auto_flow": null,
            "grid_area": null,
            "grid_template_columns": null,
            "flex": null,
            "_model_name": "LayoutModel",
            "justify_items": null,
            "grid_row": null,
            "max_height": null,
            "align_content": null,
            "visibility": null,
            "align_self": null,
            "height": null,
            "min_height": null,
            "padding": null,
            "grid_auto_rows": null,
            "grid_gap": null,
            "max_width": null,
            "order": null,
            "_view_module_version": "1.2.0",
            "grid_template_areas": null,
            "object_position": null,
            "object_fit": null,
            "grid_auto_columns": null,
            "margin": null,
            "display": null,
            "left": null
          }
        },
        "4b31c1e50385444bac0ab52bb1f9c835": {
          "model_module": "@jupyter-widgets/controls",
          "model_name": "HBoxModel",
          "state": {
            "_view_name": "HBoxView",
            "_dom_classes": [],
            "_model_name": "HBoxModel",
            "_view_module": "@jupyter-widgets/controls",
            "_model_module_version": "1.5.0",
            "_view_count": null,
            "_view_module_version": "1.5.0",
            "box_style": "",
            "layout": "IPY_MODEL_4a1a41117eb346e199049975ef973061",
            "_model_module": "@jupyter-widgets/controls",
            "children": [
              "IPY_MODEL_871f64d9d77d4fca8a412894b4a425f9",
              "IPY_MODEL_4e83398cc0184ad4b707d337d56183fa"
            ]
          }
        },
        "4a1a41117eb346e199049975ef973061": {
          "model_module": "@jupyter-widgets/base",
          "model_name": "LayoutModel",
          "state": {
            "_view_name": "LayoutView",
            "grid_template_rows": null,
            "right": null,
            "justify_content": null,
            "_view_module": "@jupyter-widgets/base",
            "overflow": null,
            "_model_module_version": "1.2.0",
            "_view_count": null,
            "flex_flow": null,
            "width": null,
            "min_width": null,
            "border": null,
            "align_items": null,
            "bottom": null,
            "_model_module": "@jupyter-widgets/base",
            "top": null,
            "grid_column": null,
            "overflow_y": null,
            "overflow_x": null,
            "grid_auto_flow": null,
            "grid_area": null,
            "grid_template_columns": null,
            "flex": null,
            "_model_name": "LayoutModel",
            "justify_items": null,
            "grid_row": null,
            "max_height": null,
            "align_content": null,
            "visibility": null,
            "align_self": null,
            "height": null,
            "min_height": null,
            "padding": null,
            "grid_auto_rows": null,
            "grid_gap": null,
            "max_width": null,
            "order": null,
            "_view_module_version": "1.2.0",
            "grid_template_areas": null,
            "object_position": null,
            "object_fit": null,
            "grid_auto_columns": null,
            "margin": null,
            "display": null,
            "left": null
          }
        },
        "871f64d9d77d4fca8a412894b4a425f9": {
          "model_module": "@jupyter-widgets/controls",
          "model_name": "FloatProgressModel",
          "state": {
            "_view_name": "ProgressView",
            "style": "IPY_MODEL_a057c09351844bc6a17a649829bfd288",
            "_dom_classes": [],
            "description": "Downloading: 100%",
            "_model_name": "FloatProgressModel",
            "bar_style": "success",
            "max": 1460062736,
            "_view_module": "@jupyter-widgets/controls",
            "_model_module_version": "1.5.0",
            "value": 1460062736,
            "_view_count": null,
            "_view_module_version": "1.5.0",
            "orientation": "horizontal",
            "min": 0,
            "description_tooltip": null,
            "_model_module": "@jupyter-widgets/controls",
            "layout": "IPY_MODEL_58c75e6049eb4a97abd2b0e4851cb108"
          }
        },
        "4e83398cc0184ad4b707d337d56183fa": {
          "model_module": "@jupyter-widgets/controls",
          "model_name": "HTMLModel",
          "state": {
            "_view_name": "HTMLView",
            "style": "IPY_MODEL_3e11d0c45f844d2ca4d0b110d36a8709",
            "_dom_classes": [],
            "description": "",
            "_model_name": "HTMLModel",
            "placeholder": "​",
            "_view_module": "@jupyter-widgets/controls",
            "_model_module_version": "1.5.0",
            "value": " 1.46G/1.46G [00:26&lt;00:00, 55.9MB/s]",
            "_view_count": null,
            "_view_module_version": "1.5.0",
            "description_tooltip": null,
            "_model_module": "@jupyter-widgets/controls",
            "layout": "IPY_MODEL_69bd3cb6071146f08afd8aa8007aabdd"
          }
        },
        "a057c09351844bc6a17a649829bfd288": {
          "model_module": "@jupyter-widgets/controls",
          "model_name": "ProgressStyleModel",
          "state": {
            "_view_name": "StyleView",
            "_model_name": "ProgressStyleModel",
            "description_width": "initial",
            "_view_module": "@jupyter-widgets/base",
            "_model_module_version": "1.5.0",
            "_view_count": null,
            "_view_module_version": "1.2.0",
            "bar_color": null,
            "_model_module": "@jupyter-widgets/controls"
          }
        },
        "58c75e6049eb4a97abd2b0e4851cb108": {
          "model_module": "@jupyter-widgets/base",
          "model_name": "LayoutModel",
          "state": {
            "_view_name": "LayoutView",
            "grid_template_rows": null,
            "right": null,
            "justify_content": null,
            "_view_module": "@jupyter-widgets/base",
            "overflow": null,
            "_model_module_version": "1.2.0",
            "_view_count": null,
            "flex_flow": null,
            "width": null,
            "min_width": null,
            "border": null,
            "align_items": null,
            "bottom": null,
            "_model_module": "@jupyter-widgets/base",
            "top": null,
            "grid_column": null,
            "overflow_y": null,
            "overflow_x": null,
            "grid_auto_flow": null,
            "grid_area": null,
            "grid_template_columns": null,
            "flex": null,
            "_model_name": "LayoutModel",
            "justify_items": null,
            "grid_row": null,
            "max_height": null,
            "align_content": null,
            "visibility": null,
            "align_self": null,
            "height": null,
            "min_height": null,
            "padding": null,
            "grid_auto_rows": null,
            "grid_gap": null,
            "max_width": null,
            "order": null,
            "_view_module_version": "1.2.0",
            "grid_template_areas": null,
            "object_position": null,
            "object_fit": null,
            "grid_auto_columns": null,
            "margin": null,
            "display": null,
            "left": null
          }
        },
        "3e11d0c45f844d2ca4d0b110d36a8709": {
          "model_module": "@jupyter-widgets/controls",
          "model_name": "DescriptionStyleModel",
          "state": {
            "_view_name": "StyleView",
            "_model_name": "DescriptionStyleModel",
            "description_width": "",
            "_view_module": "@jupyter-widgets/base",
            "_model_module_version": "1.5.0",
            "_view_count": null,
            "_view_module_version": "1.2.0",
            "_model_module": "@jupyter-widgets/controls"
          }
        },
        "69bd3cb6071146f08afd8aa8007aabdd": {
          "model_module": "@jupyter-widgets/base",
          "model_name": "LayoutModel",
          "state": {
            "_view_name": "LayoutView",
            "grid_template_rows": null,
            "right": null,
            "justify_content": null,
            "_view_module": "@jupyter-widgets/base",
            "overflow": null,
            "_model_module_version": "1.2.0",
            "_view_count": null,
            "flex_flow": null,
            "width": null,
            "min_width": null,
            "border": null,
            "align_items": null,
            "bottom": null,
            "_model_module": "@jupyter-widgets/base",
            "top": null,
            "grid_column": null,
            "overflow_y": null,
            "overflow_x": null,
            "grid_auto_flow": null,
            "grid_area": null,
            "grid_template_columns": null,
            "flex": null,
            "_model_name": "LayoutModel",
            "justify_items": null,
            "grid_row": null,
            "max_height": null,
            "align_content": null,
            "visibility": null,
            "align_self": null,
            "height": null,
            "min_height": null,
            "padding": null,
            "grid_auto_rows": null,
            "grid_gap": null,
            "max_width": null,
            "order": null,
            "_view_module_version": "1.2.0",
            "grid_template_areas": null,
            "object_position": null,
            "object_fit": null,
            "grid_auto_columns": null,
            "margin": null,
            "display": null,
            "left": null
          }
        },
        "44e3524d20a84ed7af76dff39249bb4e": {
          "model_module": "@jupyter-widgets/controls",
          "model_name": "HBoxModel",
          "state": {
            "_view_name": "HBoxView",
            "_dom_classes": [],
            "_model_name": "HBoxModel",
            "_view_module": "@jupyter-widgets/controls",
            "_model_module_version": "1.5.0",
            "_view_count": null,
            "_view_module_version": "1.5.0",
            "box_style": "",
            "layout": "IPY_MODEL_1321f2924eed4a07a9773e86c2a7edc1",
            "_model_module": "@jupyter-widgets/controls",
            "children": [
              "IPY_MODEL_d419dda3a6f442a99e7105749c50a389",
              "IPY_MODEL_1735abc3f4b848ba94c8667c7b7d1a3c"
            ]
          }
        },
        "1321f2924eed4a07a9773e86c2a7edc1": {
          "model_module": "@jupyter-widgets/base",
          "model_name": "LayoutModel",
          "state": {
            "_view_name": "LayoutView",
            "grid_template_rows": null,
            "right": null,
            "justify_content": null,
            "_view_module": "@jupyter-widgets/base",
            "overflow": null,
            "_model_module_version": "1.2.0",
            "_view_count": null,
            "flex_flow": null,
            "width": null,
            "min_width": null,
            "border": null,
            "align_items": null,
            "bottom": null,
            "_model_module": "@jupyter-widgets/base",
            "top": null,
            "grid_column": null,
            "overflow_y": null,
            "overflow_x": null,
            "grid_auto_flow": null,
            "grid_area": null,
            "grid_template_columns": null,
            "flex": null,
            "_model_name": "LayoutModel",
            "justify_items": null,
            "grid_row": null,
            "max_height": null,
            "align_content": null,
            "visibility": null,
            "align_self": null,
            "height": null,
            "min_height": null,
            "padding": null,
            "grid_auto_rows": null,
            "grid_gap": null,
            "max_width": null,
            "order": null,
            "_view_module_version": "1.2.0",
            "grid_template_areas": null,
            "object_position": null,
            "object_fit": null,
            "grid_auto_columns": null,
            "margin": null,
            "display": null,
            "left": null
          }
        },
        "d419dda3a6f442a99e7105749c50a389": {
          "model_module": "@jupyter-widgets/controls",
          "model_name": "FloatProgressModel",
          "state": {
            "_view_name": "ProgressView",
            "style": "IPY_MODEL_1001592783234704b621531148ff4d8e",
            "_dom_classes": [],
            "description": "Downloading: 100%",
            "_model_name": "FloatProgressModel",
            "bar_style": "success",
            "max": 231508,
            "_view_module": "@jupyter-widgets/controls",
            "_model_module_version": "1.5.0",
            "value": 231508,
            "_view_count": null,
            "_view_module_version": "1.5.0",
            "orientation": "horizontal",
            "min": 0,
            "description_tooltip": null,
            "_model_module": "@jupyter-widgets/controls",
            "layout": "IPY_MODEL_821b533ce785467da87c7d91811fad0c"
          }
        },
        "1735abc3f4b848ba94c8667c7b7d1a3c": {
          "model_module": "@jupyter-widgets/controls",
          "model_name": "HTMLModel",
          "state": {
            "_view_name": "HTMLView",
            "style": "IPY_MODEL_f57f99cbfb4844a49c6f82d154caf1e5",
            "_dom_classes": [],
            "description": "",
            "_model_name": "HTMLModel",
            "placeholder": "​",
            "_view_module": "@jupyter-widgets/controls",
            "_model_module_version": "1.5.0",
            "value": " 232k/232k [00:00&lt;00:00, 827kB/s]",
            "_view_count": null,
            "_view_module_version": "1.5.0",
            "description_tooltip": null,
            "_model_module": "@jupyter-widgets/controls",
            "layout": "IPY_MODEL_452f680779fd4370b07248f0ec8ad966"
          }
        },
        "1001592783234704b621531148ff4d8e": {
          "model_module": "@jupyter-widgets/controls",
          "model_name": "ProgressStyleModel",
          "state": {
            "_view_name": "StyleView",
            "_model_name": "ProgressStyleModel",
            "description_width": "initial",
            "_view_module": "@jupyter-widgets/base",
            "_model_module_version": "1.5.0",
            "_view_count": null,
            "_view_module_version": "1.2.0",
            "bar_color": null,
            "_model_module": "@jupyter-widgets/controls"
          }
        },
        "821b533ce785467da87c7d91811fad0c": {
          "model_module": "@jupyter-widgets/base",
          "model_name": "LayoutModel",
          "state": {
            "_view_name": "LayoutView",
            "grid_template_rows": null,
            "right": null,
            "justify_content": null,
            "_view_module": "@jupyter-widgets/base",
            "overflow": null,
            "_model_module_version": "1.2.0",
            "_view_count": null,
            "flex_flow": null,
            "width": null,
            "min_width": null,
            "border": null,
            "align_items": null,
            "bottom": null,
            "_model_module": "@jupyter-widgets/base",
            "top": null,
            "grid_column": null,
            "overflow_y": null,
            "overflow_x": null,
            "grid_auto_flow": null,
            "grid_area": null,
            "grid_template_columns": null,
            "flex": null,
            "_model_name": "LayoutModel",
            "justify_items": null,
            "grid_row": null,
            "max_height": null,
            "align_content": null,
            "visibility": null,
            "align_self": null,
            "height": null,
            "min_height": null,
            "padding": null,
            "grid_auto_rows": null,
            "grid_gap": null,
            "max_width": null,
            "order": null,
            "_view_module_version": "1.2.0",
            "grid_template_areas": null,
            "object_position": null,
            "object_fit": null,
            "grid_auto_columns": null,
            "margin": null,
            "display": null,
            "left": null
          }
        },
        "f57f99cbfb4844a49c6f82d154caf1e5": {
          "model_module": "@jupyter-widgets/controls",
          "model_name": "DescriptionStyleModel",
          "state": {
            "_view_name": "StyleView",
            "_model_name": "DescriptionStyleModel",
            "description_width": "",
            "_view_module": "@jupyter-widgets/base",
            "_model_module_version": "1.5.0",
            "_view_count": null,
            "_view_module_version": "1.2.0",
            "_model_module": "@jupyter-widgets/controls"
          }
        },
        "452f680779fd4370b07248f0ec8ad966": {
          "model_module": "@jupyter-widgets/base",
          "model_name": "LayoutModel",
          "state": {
            "_view_name": "LayoutView",
            "grid_template_rows": null,
            "right": null,
            "justify_content": null,
            "_view_module": "@jupyter-widgets/base",
            "overflow": null,
            "_model_module_version": "1.2.0",
            "_view_count": null,
            "flex_flow": null,
            "width": null,
            "min_width": null,
            "border": null,
            "align_items": null,
            "bottom": null,
            "_model_module": "@jupyter-widgets/base",
            "top": null,
            "grid_column": null,
            "overflow_y": null,
            "overflow_x": null,
            "grid_auto_flow": null,
            "grid_area": null,
            "grid_template_columns": null,
            "flex": null,
            "_model_name": "LayoutModel",
            "justify_items": null,
            "grid_row": null,
            "max_height": null,
            "align_content": null,
            "visibility": null,
            "align_self": null,
            "height": null,
            "min_height": null,
            "padding": null,
            "grid_auto_rows": null,
            "grid_gap": null,
            "max_width": null,
            "order": null,
            "_view_module_version": "1.2.0",
            "grid_template_areas": null,
            "object_position": null,
            "object_fit": null,
            "grid_auto_columns": null,
            "margin": null,
            "display": null,
            "left": null
          }
        },
        "ddde02c9b6004362803813da07c3b3cd": {
          "model_module": "@jupyter-widgets/controls",
          "model_name": "HBoxModel",
          "state": {
            "_view_name": "HBoxView",
            "_dom_classes": [],
            "_model_name": "HBoxModel",
            "_view_module": "@jupyter-widgets/controls",
            "_model_module_version": "1.5.0",
            "_view_count": null,
            "_view_module_version": "1.5.0",
            "box_style": "",
            "layout": "IPY_MODEL_ac4a3fdc9f8543a8bb546b48b0810a40",
            "_model_module": "@jupyter-widgets/controls",
            "children": [
              "IPY_MODEL_10146343671e44fdb33c57be45f0264b",
              "IPY_MODEL_f26d3a1ddc014a6fb3f5c64a295052ab"
            ]
          }
        },
        "ac4a3fdc9f8543a8bb546b48b0810a40": {
          "model_module": "@jupyter-widgets/base",
          "model_name": "LayoutModel",
          "state": {
            "_view_name": "LayoutView",
            "grid_template_rows": null,
            "right": null,
            "justify_content": null,
            "_view_module": "@jupyter-widgets/base",
            "overflow": null,
            "_model_module_version": "1.2.0",
            "_view_count": null,
            "flex_flow": null,
            "width": null,
            "min_width": null,
            "border": null,
            "align_items": null,
            "bottom": null,
            "_model_module": "@jupyter-widgets/base",
            "top": null,
            "grid_column": null,
            "overflow_y": null,
            "overflow_x": null,
            "grid_auto_flow": null,
            "grid_area": null,
            "grid_template_columns": null,
            "flex": null,
            "_model_name": "LayoutModel",
            "justify_items": null,
            "grid_row": null,
            "max_height": null,
            "align_content": null,
            "visibility": null,
            "align_self": null,
            "height": null,
            "min_height": null,
            "padding": null,
            "grid_auto_rows": null,
            "grid_gap": null,
            "max_width": null,
            "order": null,
            "_view_module_version": "1.2.0",
            "grid_template_areas": null,
            "object_position": null,
            "object_fit": null,
            "grid_auto_columns": null,
            "margin": null,
            "display": null,
            "left": null
          }
        },
        "10146343671e44fdb33c57be45f0264b": {
          "model_module": "@jupyter-widgets/controls",
          "model_name": "FloatProgressModel",
          "state": {
            "_view_name": "ProgressView",
            "style": "IPY_MODEL_bc1979aa9d4e4c8eba5a01c388f80a23",
            "_dom_classes": [],
            "description": "Downloading: 100%",
            "_model_name": "FloatProgressModel",
            "bar_style": "success",
            "max": 442,
            "_view_module": "@jupyter-widgets/controls",
            "_model_module_version": "1.5.0",
            "value": 442,
            "_view_count": null,
            "_view_module_version": "1.5.0",
            "orientation": "horizontal",
            "min": 0,
            "description_tooltip": null,
            "_model_module": "@jupyter-widgets/controls",
            "layout": "IPY_MODEL_137f4f49156e4462b398c1dc9b33e057"
          }
        },
        "f26d3a1ddc014a6fb3f5c64a295052ab": {
          "model_module": "@jupyter-widgets/controls",
          "model_name": "HTMLModel",
          "state": {
            "_view_name": "HTMLView",
            "style": "IPY_MODEL_9307666d649f4abbbc7b81904cf4df4c",
            "_dom_classes": [],
            "description": "",
            "_model_name": "HTMLModel",
            "placeholder": "​",
            "_view_module": "@jupyter-widgets/controls",
            "_model_module_version": "1.5.0",
            "value": " 442/442 [00:00&lt;00:00, 1.40kB/s]",
            "_view_count": null,
            "_view_module_version": "1.5.0",
            "description_tooltip": null,
            "_model_module": "@jupyter-widgets/controls",
            "layout": "IPY_MODEL_9bc4d2da8adc48feac03b9b9b8270426"
          }
        },
        "bc1979aa9d4e4c8eba5a01c388f80a23": {
          "model_module": "@jupyter-widgets/controls",
          "model_name": "ProgressStyleModel",
          "state": {
            "_view_name": "StyleView",
            "_model_name": "ProgressStyleModel",
            "description_width": "initial",
            "_view_module": "@jupyter-widgets/base",
            "_model_module_version": "1.5.0",
            "_view_count": null,
            "_view_module_version": "1.2.0",
            "bar_color": null,
            "_model_module": "@jupyter-widgets/controls"
          }
        },
        "137f4f49156e4462b398c1dc9b33e057": {
          "model_module": "@jupyter-widgets/base",
          "model_name": "LayoutModel",
          "state": {
            "_view_name": "LayoutView",
            "grid_template_rows": null,
            "right": null,
            "justify_content": null,
            "_view_module": "@jupyter-widgets/base",
            "overflow": null,
            "_model_module_version": "1.2.0",
            "_view_count": null,
            "flex_flow": null,
            "width": null,
            "min_width": null,
            "border": null,
            "align_items": null,
            "bottom": null,
            "_model_module": "@jupyter-widgets/base",
            "top": null,
            "grid_column": null,
            "overflow_y": null,
            "overflow_x": null,
            "grid_auto_flow": null,
            "grid_area": null,
            "grid_template_columns": null,
            "flex": null,
            "_model_name": "LayoutModel",
            "justify_items": null,
            "grid_row": null,
            "max_height": null,
            "align_content": null,
            "visibility": null,
            "align_self": null,
            "height": null,
            "min_height": null,
            "padding": null,
            "grid_auto_rows": null,
            "grid_gap": null,
            "max_width": null,
            "order": null,
            "_view_module_version": "1.2.0",
            "grid_template_areas": null,
            "object_position": null,
            "object_fit": null,
            "grid_auto_columns": null,
            "margin": null,
            "display": null,
            "left": null
          }
        },
        "9307666d649f4abbbc7b81904cf4df4c": {
          "model_module": "@jupyter-widgets/controls",
          "model_name": "DescriptionStyleModel",
          "state": {
            "_view_name": "StyleView",
            "_model_name": "DescriptionStyleModel",
            "description_width": "",
            "_view_module": "@jupyter-widgets/base",
            "_model_module_version": "1.5.0",
            "_view_count": null,
            "_view_module_version": "1.2.0",
            "_model_module": "@jupyter-widgets/controls"
          }
        },
        "9bc4d2da8adc48feac03b9b9b8270426": {
          "model_module": "@jupyter-widgets/base",
          "model_name": "LayoutModel",
          "state": {
            "_view_name": "LayoutView",
            "grid_template_rows": null,
            "right": null,
            "justify_content": null,
            "_view_module": "@jupyter-widgets/base",
            "overflow": null,
            "_model_module_version": "1.2.0",
            "_view_count": null,
            "flex_flow": null,
            "width": null,
            "min_width": null,
            "border": null,
            "align_items": null,
            "bottom": null,
            "_model_module": "@jupyter-widgets/base",
            "top": null,
            "grid_column": null,
            "overflow_y": null,
            "overflow_x": null,
            "grid_auto_flow": null,
            "grid_area": null,
            "grid_template_columns": null,
            "flex": null,
            "_model_name": "LayoutModel",
            "justify_items": null,
            "grid_row": null,
            "max_height": null,
            "align_content": null,
            "visibility": null,
            "align_self": null,
            "height": null,
            "min_height": null,
            "padding": null,
            "grid_auto_rows": null,
            "grid_gap": null,
            "max_width": null,
            "order": null,
            "_view_module_version": "1.2.0",
            "grid_template_areas": null,
            "object_position": null,
            "object_fit": null,
            "grid_auto_columns": null,
            "margin": null,
            "display": null,
            "left": null
          }
        },
        "2f032badbeae4add97f796d387b9cca1": {
          "model_module": "@jupyter-widgets/controls",
          "model_name": "HBoxModel",
          "state": {
            "_view_name": "HBoxView",
            "_dom_classes": [],
            "_model_name": "HBoxModel",
            "_view_module": "@jupyter-widgets/controls",
            "_model_module_version": "1.5.0",
            "_view_count": null,
            "_view_module_version": "1.5.0",
            "box_style": "",
            "layout": "IPY_MODEL_7dda9af776ca43619efa608f2d68edb1",
            "_model_module": "@jupyter-widgets/controls",
            "children": [
              "IPY_MODEL_9e163d3e46084e5b9b72acd96cbfbd1c",
              "IPY_MODEL_1a4ac26130b44006a9bffde3993e0ec8"
            ]
          }
        },
        "7dda9af776ca43619efa608f2d68edb1": {
          "model_module": "@jupyter-widgets/base",
          "model_name": "LayoutModel",
          "state": {
            "_view_name": "LayoutView",
            "grid_template_rows": null,
            "right": null,
            "justify_content": null,
            "_view_module": "@jupyter-widgets/base",
            "overflow": null,
            "_model_module_version": "1.2.0",
            "_view_count": null,
            "flex_flow": null,
            "width": null,
            "min_width": null,
            "border": null,
            "align_items": null,
            "bottom": null,
            "_model_module": "@jupyter-widgets/base",
            "top": null,
            "grid_column": null,
            "overflow_y": null,
            "overflow_x": null,
            "grid_auto_flow": null,
            "grid_area": null,
            "grid_template_columns": null,
            "flex": null,
            "_model_name": "LayoutModel",
            "justify_items": null,
            "grid_row": null,
            "max_height": null,
            "align_content": null,
            "visibility": null,
            "align_self": null,
            "height": null,
            "min_height": null,
            "padding": null,
            "grid_auto_rows": null,
            "grid_gap": null,
            "max_width": null,
            "order": null,
            "_view_module_version": "1.2.0",
            "grid_template_areas": null,
            "object_position": null,
            "object_fit": null,
            "grid_auto_columns": null,
            "margin": null,
            "display": null,
            "left": null
          }
        },
        "9e163d3e46084e5b9b72acd96cbfbd1c": {
          "model_module": "@jupyter-widgets/controls",
          "model_name": "FloatProgressModel",
          "state": {
            "_view_name": "ProgressView",
            "style": "IPY_MODEL_2541ba71d9cc4beab8e17aebcc8e7d17",
            "_dom_classes": [],
            "description": "Downloading: 100%",
            "_model_name": "FloatProgressModel",
            "bar_style": "success",
            "max": 267967963,
            "_view_module": "@jupyter-widgets/controls",
            "_model_module_version": "1.5.0",
            "value": 267967963,
            "_view_count": null,
            "_view_module_version": "1.5.0",
            "orientation": "horizontal",
            "min": 0,
            "description_tooltip": null,
            "_model_module": "@jupyter-widgets/controls",
            "layout": "IPY_MODEL_a578f4dab1994192b672bae7a3edd4d8"
          }
        },
        "1a4ac26130b44006a9bffde3993e0ec8": {
          "model_module": "@jupyter-widgets/controls",
          "model_name": "HTMLModel",
          "state": {
            "_view_name": "HTMLView",
            "style": "IPY_MODEL_5f4949ccee354db7b384bdf0adc9765a",
            "_dom_classes": [],
            "description": "",
            "_model_name": "HTMLModel",
            "placeholder": "​",
            "_view_module": "@jupyter-widgets/controls",
            "_model_module_version": "1.5.0",
            "value": " 268M/268M [03:28&lt;00:00, 1.28MB/s]",
            "_view_count": null,
            "_view_module_version": "1.5.0",
            "description_tooltip": null,
            "_model_module": "@jupyter-widgets/controls",
            "layout": "IPY_MODEL_1db7203420164cf2aafab963afafabb7"
          }
        },
        "2541ba71d9cc4beab8e17aebcc8e7d17": {
          "model_module": "@jupyter-widgets/controls",
          "model_name": "ProgressStyleModel",
          "state": {
            "_view_name": "StyleView",
            "_model_name": "ProgressStyleModel",
            "description_width": "initial",
            "_view_module": "@jupyter-widgets/base",
            "_model_module_version": "1.5.0",
            "_view_count": null,
            "_view_module_version": "1.2.0",
            "bar_color": null,
            "_model_module": "@jupyter-widgets/controls"
          }
        },
        "a578f4dab1994192b672bae7a3edd4d8": {
          "model_module": "@jupyter-widgets/base",
          "model_name": "LayoutModel",
          "state": {
            "_view_name": "LayoutView",
            "grid_template_rows": null,
            "right": null,
            "justify_content": null,
            "_view_module": "@jupyter-widgets/base",
            "overflow": null,
            "_model_module_version": "1.2.0",
            "_view_count": null,
            "flex_flow": null,
            "width": null,
            "min_width": null,
            "border": null,
            "align_items": null,
            "bottom": null,
            "_model_module": "@jupyter-widgets/base",
            "top": null,
            "grid_column": null,
            "overflow_y": null,
            "overflow_x": null,
            "grid_auto_flow": null,
            "grid_area": null,
            "grid_template_columns": null,
            "flex": null,
            "_model_name": "LayoutModel",
            "justify_items": null,
            "grid_row": null,
            "max_height": null,
            "align_content": null,
            "visibility": null,
            "align_self": null,
            "height": null,
            "min_height": null,
            "padding": null,
            "grid_auto_rows": null,
            "grid_gap": null,
            "max_width": null,
            "order": null,
            "_view_module_version": "1.2.0",
            "grid_template_areas": null,
            "object_position": null,
            "object_fit": null,
            "grid_auto_columns": null,
            "margin": null,
            "display": null,
            "left": null
          }
        },
        "5f4949ccee354db7b384bdf0adc9765a": {
          "model_module": "@jupyter-widgets/controls",
          "model_name": "DescriptionStyleModel",
          "state": {
            "_view_name": "StyleView",
            "_model_name": "DescriptionStyleModel",
            "description_width": "",
            "_view_module": "@jupyter-widgets/base",
            "_model_module_version": "1.5.0",
            "_view_count": null,
            "_view_module_version": "1.2.0",
            "_model_module": "@jupyter-widgets/controls"
          }
        },
        "1db7203420164cf2aafab963afafabb7": {
          "model_module": "@jupyter-widgets/base",
          "model_name": "LayoutModel",
          "state": {
            "_view_name": "LayoutView",
            "grid_template_rows": null,
            "right": null,
            "justify_content": null,
            "_view_module": "@jupyter-widgets/base",
            "overflow": null,
            "_model_module_version": "1.2.0",
            "_view_count": null,
            "flex_flow": null,
            "width": null,
            "min_width": null,
            "border": null,
            "align_items": null,
            "bottom": null,
            "_model_module": "@jupyter-widgets/base",
            "top": null,
            "grid_column": null,
            "overflow_y": null,
            "overflow_x": null,
            "grid_auto_flow": null,
            "grid_area": null,
            "grid_template_columns": null,
            "flex": null,
            "_model_name": "LayoutModel",
            "justify_items": null,
            "grid_row": null,
            "max_height": null,
            "align_content": null,
            "visibility": null,
            "align_self": null,
            "height": null,
            "min_height": null,
            "padding": null,
            "grid_auto_rows": null,
            "grid_gap": null,
            "max_width": null,
            "order": null,
            "_view_module_version": "1.2.0",
            "grid_template_areas": null,
            "object_position": null,
            "object_fit": null,
            "grid_auto_columns": null,
            "margin": null,
            "display": null,
            "left": null
          }
        }
      }
    }
  },
  "cells": [
    {
      "cell_type": "code",
      "metadata": {
        "id": "9tIvRg-Jr-3P"
      },
      "source": [
        "import numpy"
      ],
      "execution_count": null,
      "outputs": []
    },
    {
      "cell_type": "code",
      "metadata": {
        "colab": {
          "base_uri": "https://localhost:8080/"
        },
        "id": "MZ_SHQB4sAxI",
        "outputId": "f091ce86-8870-49ce-b151-e8da82d20688"
      },
      "source": [
        "!ls"
      ],
      "execution_count": null,
      "outputs": [
        {
          "output_type": "stream",
          "text": [
            "sample_data\n"
          ],
          "name": "stdout"
        }
      ]
    },
    {
      "cell_type": "code",
      "metadata": {
        "id": "eLS2rZ6nsw0W",
        "colab": {
          "base_uri": "https://localhost:8080/"
        },
        "outputId": "3d907632-abda-4e4e-f17b-c709283f9b54"
      },
      "source": [
        "# Download the official CUDA 10.1 package (a .deb Debian-based file) for Ubuntu 18.04 with the wget tool:\n",
        "!wget https://developer.nvidia.com/compute/cuda/10.1/Prod/local_installers/cuda-repo-ubuntu1804-10-1-local-10.1.105-418.39_1.0-1_amd64.deb"
      ],
      "execution_count": null,
      "outputs": [
        {
          "output_type": "stream",
          "text": [
            "--2021-02-14 03:59:15--  https://developer.nvidia.com/compute/cuda/10.1/Prod/local_installers/cuda-repo-ubuntu1804-10-1-local-10.1.105-418.39_1.0-1_amd64.deb\n",
            "Resolving developer.nvidia.com (developer.nvidia.com)... 152.199.16.29\n",
            "Connecting to developer.nvidia.com (developer.nvidia.com)|152.199.16.29|:443... connected.\n",
            "HTTP request sent, awaiting response... 301 Moved Permanently\n",
            "Location: https://developer.nvidia.com/compute/cuda/10.1/prod/local_installers/cuda-repo-ubuntu1804-10-1-local-10.1.105-418.39_1.0-1_amd64.deb [following]\n",
            "--2021-02-14 03:59:15--  https://developer.nvidia.com/compute/cuda/10.1/prod/local_installers/cuda-repo-ubuntu1804-10-1-local-10.1.105-418.39_1.0-1_amd64.deb\n",
            "Reusing existing connection to developer.nvidia.com:443.\n",
            "HTTP request sent, awaiting response... 302 Found\n",
            "Location: https://developer.download.nvidia.com/compute/cuda/10.1/secure/Prod/local_installers/cuda-repo-ubuntu1804-10-1-local-10.1.105-418.39_1.0-1_amd64.deb?pBYm4is-vgDuqnLPD2iSLxjI7AkPLsBi1Epuz3ijLwmb0hAvmL8Qk3oity73EmO7o8Mx2n90OekMI7llgKI6d3kDteH_gf9XKqp1YRogew4uIGPNHsVGct4COUztUkxDCT7cmzRhcu3WNPz00yNhVUyFRGtUktqjLTK1fCs_jjSraVeAOXCoh0sX7NcLXa2XKHlEYOPr57-077fP4mZwwS4vs68r0EqqamvUT9o [following]\n",
            "--2021-02-14 03:59:16--  https://developer.download.nvidia.com/compute/cuda/10.1/secure/Prod/local_installers/cuda-repo-ubuntu1804-10-1-local-10.1.105-418.39_1.0-1_amd64.deb?pBYm4is-vgDuqnLPD2iSLxjI7AkPLsBi1Epuz3ijLwmb0hAvmL8Qk3oity73EmO7o8Mx2n90OekMI7llgKI6d3kDteH_gf9XKqp1YRogew4uIGPNHsVGct4COUztUkxDCT7cmzRhcu3WNPz00yNhVUyFRGtUktqjLTK1fCs_jjSraVeAOXCoh0sX7NcLXa2XKHlEYOPr57-077fP4mZwwS4vs68r0EqqamvUT9o\n",
            "Resolving developer.download.nvidia.com (developer.download.nvidia.com)... 152.199.20.126\n",
            "Connecting to developer.download.nvidia.com (developer.download.nvidia.com)|152.199.20.126|:443... connected.\n",
            "HTTP request sent, awaiting response... 200 OK\n",
            "Length: 1639693656 (1.5G) [application/x-deb]\n",
            "Saving to: ‘cuda-repo-ubuntu1804-10-1-local-10.1.105-418.39_1.0-1_amd64.deb’\n",
            "\n",
            "cuda-repo-ubuntu180 100%[===================>]   1.53G   277MB/s    in 5.4s    \n",
            "\n",
            "2021-02-14 03:59:21 (290 MB/s) - ‘cuda-repo-ubuntu1804-10-1-local-10.1.105-418.39_1.0-1_amd64.deb’ saved [1639693656/1639693656]\n",
            "\n"
          ],
          "name": "stdout"
        }
      ]
    },
    {
      "cell_type": "code",
      "metadata": {
        "colab": {
          "base_uri": "https://localhost:8080/"
        },
        "id": "Oj0HktllsUrV",
        "outputId": "fc45c3b9-6cbe-402f-9e27-4fb7c809727c"
      },
      "source": [
        "# dpkg prepares the installation (-i):\n",
        "!dpkg -i cuda-repo-ubuntu1804-10-1-local-10.1.105-418.39_1.0-1_amd64.deb"
      ],
      "execution_count": null,
      "outputs": [
        {
          "output_type": "stream",
          "text": [
            "Selecting previously unselected package cuda-repo-ubuntu1804-10-1-local-10.1.105-418.39.\n",
            "(Reading database ... 146425 files and directories currently installed.)\n",
            "Preparing to unpack cuda-repo-ubuntu1804-10-1-local-10.1.105-418.39_1.0-1_amd64.deb ...\n",
            "Unpacking cuda-repo-ubuntu1804-10-1-local-10.1.105-418.39 (1.0-1) ...\n",
            "Setting up cuda-repo-ubuntu1804-10-1-local-10.1.105-418.39 (1.0-1) ...\n"
          ],
          "name": "stdout"
        }
      ]
    },
    {
      "cell_type": "code",
      "metadata": {
        "colab": {
          "base_uri": "https://localhost:8080/"
        },
        "id": "6f31eyDBsXyj",
        "outputId": "63c69b12-3ed9-4a4f-9240-9b4a4d201aa6"
      },
      "source": [
        "# Add the apt-key to configure your local repository\n",
        "!apt-key add /var/cuda-repo-10-1-local-10.1.105-418.39/7fa2af80.pub"
      ],
      "execution_count": null,
      "outputs": [
        {
          "output_type": "stream",
          "text": [
            "OK\n"
          ],
          "name": "stdout"
        }
      ]
    },
    {
      "cell_type": "code",
      "metadata": {
        "colab": {
          "base_uri": "https://localhost:8080/"
        },
        "id": "ASDZjOYvsZ-v",
        "outputId": "c56b1e55-436e-4705-eb60-559b691ec966"
      },
      "source": [
        "# Update your Colab's Ubuntu Linux system\n",
        "!apt-get update"
      ],
      "execution_count": null,
      "outputs": [
        {
          "output_type": "stream",
          "text": [
            "\r0% [Working]\r            \rGet:1 file:/var/cuda-repo-10-1-local-10.1.105-418.39  InRelease\n",
            "\r0% [1 InRelease 0 B]\r                    \rIgn:1 file:/var/cuda-repo-10-1-local-10.1.105-418.39  InRelease\n",
            "\r                    \r0% [Working]\r            \rGet:2 file:/var/cuda-repo-10-1-local-10.1.105-418.39  Release [574 B]\n",
            "\r0% [Working]\r            \rGet:2 file:/var/cuda-repo-10-1-local-10.1.105-418.39  Release [574 B]\n",
            "\r0% [2 Release 0 B/574 B 0%] [Connecting to archive.ubuntu.com] [Connecting to s\r0% [Connecting to archive.ubuntu.com] [Connecting to security.ubuntu.com] [Conn\r                                                                               \rGet:3 file:/var/cuda-repo-10-1-local-10.1.105-418.39  Release.gpg [833 B]\n",
            "\r0% [Connecting to archive.ubuntu.com] [Connecting to security.ubuntu.com] [Conn\r                                                                               \rGet:3 file:/var/cuda-repo-10-1-local-10.1.105-418.39  Release.gpg [833 B]\n",
            "\r0% [3 Release.gpg 0 B/833 B 0%] [Connecting to archive.ubuntu.com] [Connecting \r0% [Connecting to archive.ubuntu.com] [Connecting to security.ubuntu.com] [Conn\r0% [3 Release.gpg gpgv 574 B] [Connecting to archive.ubuntu.com (91.189.88.142)\r                                                                               \rGet:4 http://ppa.launchpad.net/c2d4u.team/c2d4u4.0+/ubuntu bionic InRelease [15.9 kB]\n",
            "\r0% [3 Release.gpg gpgv 574 B] [Waiting for headers] [Connecting to security.ubu\r                                                                               \rHit:5 http://archive.ubuntu.com/ubuntu bionic InRelease\n",
            "\r0% [3 Release.gpg gpgv 574 B] [Connecting to security.ubuntu.com (91.189.91.39)\r0% [3 Release.gpg gpgv 574 B] [Waiting for headers] [Connecting to security.ubu\r                                                                               \rGet:6 https://cloud.r-project.org/bin/linux/ubuntu bionic-cran40/ InRelease [3,626 B]\n",
            "\r0% [3 Release.gpg gpgv 574 B] [Waiting for headers] [Connecting to security.ubu\r0% [3 Release.gpg gpgv 574 B] [Waiting for headers] [Connecting to security.ubu\r                                                                               \rGet:7 http://archive.ubuntu.com/ubuntu bionic-updates InRelease [88.7 kB]\n",
            "\r0% [3 Release.gpg gpgv 574 B] [7 InRelease 14.2 kB/88.7 kB 16%] [Connecting to \r                                                                               \rHit:8 http://ppa.launchpad.net/cran/libgit2/ubuntu bionic InRelease\n",
            "\r0% [3 Release.gpg gpgv 574 B] [7 InRelease 47.5 kB/88.7 kB 54%] [Connecting to \r0% [3 Release.gpg gpgv 574 B] [Connecting to security.ubuntu.com (91.189.91.39)\r                                                                               \rGet:9 http://archive.ubuntu.com/ubuntu bionic-backports InRelease [74.6 kB]\n",
            "Hit:10 http://ppa.launchpad.net/graphics-drivers/ppa/ubuntu bionic InRelease\n",
            "Get:11 http://security.ubuntu.com/ubuntu bionic-security InRelease [88.7 kB]\n",
            "Get:12 file:/var/cuda-repo-10-1-local-10.1.105-418.39  Packages [24.0 kB]\n",
            "Ign:13 https://developer.download.nvidia.com/compute/cuda/repos/ubuntu1804/x86_64  InRelease\n",
            "Ign:14 https://developer.download.nvidia.com/compute/machine-learning/repos/ubuntu1804/x86_64  InRelease\n",
            "Hit:15 https://developer.download.nvidia.com/compute/cuda/repos/ubuntu1804/x86_64  Release\n",
            "Hit:16 https://developer.download.nvidia.com/compute/machine-learning/repos/ubuntu1804/x86_64  Release\n",
            "Get:17 http://ppa.launchpad.net/c2d4u.team/c2d4u4.0+/ubuntu bionic/main Sources [1,731 kB]\n",
            "Get:18 http://ppa.launchpad.net/c2d4u.team/c2d4u4.0+/ubuntu bionic/main amd64 Packages [886 kB]\n",
            "Get:19 http://archive.ubuntu.com/ubuntu bionic-updates/main amd64 Packages [2,360 kB]\n",
            "Get:20 http://archive.ubuntu.com/ubuntu bionic-updates/universe amd64 Packages [2,162 kB]\n",
            "Get:23 http://security.ubuntu.com/ubuntu bionic-security/main amd64 Packages [1,929 kB]\n",
            "Get:24 http://security.ubuntu.com/ubuntu bionic-security/universe amd64 Packages [1,391 kB]\n",
            "Fetched 10.7 MB in 3s (4,268 kB/s)\n",
            "Reading package lists... Done\n"
          ],
          "name": "stdout"
        }
      ]
    },
    {
      "cell_type": "code",
      "metadata": {
        "colab": {
          "base_uri": "https://localhost:8080/"
        },
        "id": "yoSJGQYPszcb",
        "outputId": "9b1512c9-278e-43b6-de2b-e077831a8dba"
      },
      "source": [
        "# Finally, we install the cuda meta-package\n",
        "!apt-get install cuda"
      ],
      "execution_count": null,
      "outputs": [
        {
          "output_type": "stream",
          "text": [
            "Reading package lists... Done\n",
            "Building dependency tree       \n",
            "Reading state information... Done\n",
            "The following additional packages will be installed:\n",
            "  cuda-11-2 cuda-command-line-tools-11-2 cuda-compiler-11-2 cuda-cudart-11-2\n",
            "  cuda-cudart-dev-11-2 cuda-cuobjdump-11-2 cuda-cupti-11-2 cuda-cupti-dev-11-2\n",
            "  cuda-cuxxfilt-11-2 cuda-demo-suite-11-2 cuda-documentation-11-2\n",
            "  cuda-driver-dev-11-2 cuda-gdb-11-2 cuda-libraries-11-2\n",
            "  cuda-libraries-dev-11-2 cuda-memcheck-11-2 cuda-nsight-11-2\n",
            "  cuda-nsight-compute-11-2 cuda-nsight-systems-11-2 cuda-nvcc-11-2\n",
            "  cuda-nvdisasm-11-2 cuda-nvml-dev-11-2 cuda-nvprof-11-2 cuda-nvprune-11-2\n",
            "  cuda-nvrtc-11-2 cuda-nvrtc-dev-11-2 cuda-nvtx-11-2 cuda-nvvp-11-2\n",
            "  cuda-runtime-11-2 cuda-samples-11-2 cuda-sanitizer-11-2 cuda-toolkit-11-2\n",
            "  cuda-tools-11-2 cuda-visual-tools-11-2 libcublas-11-2 libcublas-dev-11-2\n",
            "  libcufft-11-2 libcufft-dev-11-2 libcurand-11-2 libcurand-dev-11-2\n",
            "  libcusolver-11-2 libcusolver-dev-11-2 libcusparse-11-2 libcusparse-dev-11-2\n",
            "  libnpp-11-2 libnpp-dev-11-2 libnvjpeg-11-2 libnvjpeg-dev-11-2\n",
            "The following NEW packages will be installed:\n",
            "  cuda cuda-11-2 cuda-command-line-tools-11-2 cuda-compiler-11-2\n",
            "  cuda-cudart-11-2 cuda-cudart-dev-11-2 cuda-cuobjdump-11-2 cuda-cupti-11-2\n",
            "  cuda-cupti-dev-11-2 cuda-cuxxfilt-11-2 cuda-demo-suite-11-2\n",
            "  cuda-documentation-11-2 cuda-driver-dev-11-2 cuda-gdb-11-2\n",
            "  cuda-libraries-11-2 cuda-libraries-dev-11-2 cuda-memcheck-11-2\n",
            "  cuda-nsight-11-2 cuda-nsight-compute-11-2 cuda-nsight-systems-11-2\n",
            "  cuda-nvcc-11-2 cuda-nvdisasm-11-2 cuda-nvml-dev-11-2 cuda-nvprof-11-2\n",
            "  cuda-nvprune-11-2 cuda-nvrtc-11-2 cuda-nvrtc-dev-11-2 cuda-nvtx-11-2\n",
            "  cuda-nvvp-11-2 cuda-runtime-11-2 cuda-samples-11-2 cuda-sanitizer-11-2\n",
            "  cuda-toolkit-11-2 cuda-tools-11-2 cuda-visual-tools-11-2 libcublas-11-2\n",
            "  libcublas-dev-11-2 libcufft-11-2 libcufft-dev-11-2 libcurand-11-2\n",
            "  libcurand-dev-11-2 libcusolver-11-2 libcusolver-dev-11-2 libcusparse-11-2\n",
            "  libcusparse-dev-11-2 libnpp-11-2 libnpp-dev-11-2 libnvjpeg-11-2\n",
            "  libnvjpeg-dev-11-2\n",
            "0 upgraded, 49 newly installed, 0 to remove and 25 not upgraded.\n",
            "Need to get 1,608 MB of archives.\n",
            "After this operation, 4,051 MB of additional disk space will be used.\n",
            "Get:1 https://developer.download.nvidia.com/compute/cuda/repos/ubuntu1804/x86_64  cuda-cudart-11-2 11.2.146-1 [141 kB]\n",
            "Get:2 https://developer.download.nvidia.com/compute/cuda/repos/ubuntu1804/x86_64  cuda-nvrtc-11-2 11.2.142-1 [25.6 MB]\n",
            "Get:3 https://developer.download.nvidia.com/compute/cuda/repos/ubuntu1804/x86_64  libcublas-11-2 11.4.1.1026-1 [134 MB]\n",
            "Get:4 https://developer.download.nvidia.com/compute/cuda/repos/ubuntu1804/x86_64  libcufft-11-2 10.4.0.135-1 [107 MB]\n",
            "Get:5 https://developer.download.nvidia.com/compute/cuda/repos/ubuntu1804/x86_64  libcurand-11-2 10.2.3.135-1 [39.9 MB]\n",
            "Get:6 https://developer.download.nvidia.com/compute/cuda/repos/ubuntu1804/x86_64  libcusolver-11-2 11.1.0.135-1 [153 MB]\n",
            "Get:7 https://developer.download.nvidia.com/compute/cuda/repos/ubuntu1804/x86_64  libcusparse-11-2 11.4.0.135-1 [96.1 MB]\n",
            "Get:8 https://developer.download.nvidia.com/compute/cuda/repos/ubuntu1804/x86_64  libnpp-11-2 11.3.2.139-1 [70.8 MB]\n",
            "Get:9 https://developer.download.nvidia.com/compute/cuda/repos/ubuntu1804/x86_64  libnvjpeg-11-2 11.4.0.135-1 [1,498 kB]\n",
            "Get:10 https://developer.download.nvidia.com/compute/cuda/repos/ubuntu1804/x86_64  cuda-libraries-11-2 11.2.1-1 [2,502 B]\n",
            "Get:11 https://developer.download.nvidia.com/compute/cuda/repos/ubuntu1804/x86_64  cuda-runtime-11-2 11.2.1-1 [2,424 B]\n",
            "Get:12 https://developer.download.nvidia.com/compute/cuda/repos/ubuntu1804/x86_64  cuda-cuobjdump-11-2 11.2.135-1 [111 kB]\n",
            "Get:13 https://developer.download.nvidia.com/compute/cuda/repos/ubuntu1804/x86_64  cuda-cuxxfilt-11-2 11.2.135-1 [44.2 kB]\n",
            "Get:14 https://developer.download.nvidia.com/compute/cuda/repos/ubuntu1804/x86_64  cuda-driver-dev-11-2 11.2.146-1 [25.9 kB]\n",
            "Get:15 https://developer.download.nvidia.com/compute/cuda/repos/ubuntu1804/x86_64  cuda-cudart-dev-11-2 11.2.146-1 [1,647 kB]\n",
            "Get:16 https://developer.download.nvidia.com/compute/cuda/repos/ubuntu1804/x86_64  cuda-nvcc-11-2 11.2.142-1 [45.9 MB]\n",
            "Get:17 https://developer.download.nvidia.com/compute/cuda/repos/ubuntu1804/x86_64  cuda-nvprune-11-2 11.2.135-1 [54.6 kB]\n",
            "Get:18 https://developer.download.nvidia.com/compute/cuda/repos/ubuntu1804/x86_64  cuda-compiler-11-2 11.2.1-1 [2,428 B]\n",
            "Get:19 https://developer.download.nvidia.com/compute/cuda/repos/ubuntu1804/x86_64  cuda-nvrtc-dev-11-2 11.2.142-1 [25.6 MB]\n",
            "Get:20 https://developer.download.nvidia.com/compute/cuda/repos/ubuntu1804/x86_64  libcublas-dev-11-2 11.4.1.1026-1 [142 MB]\n",
            "Get:21 https://developer.download.nvidia.com/compute/cuda/repos/ubuntu1804/x86_64  libcufft-dev-11-2 10.4.0.135-1 [179 MB]\n",
            "Get:22 https://developer.download.nvidia.com/compute/cuda/repos/ubuntu1804/x86_64  libcurand-dev-11-2 10.2.3.135-1 [40.3 MB]\n",
            "Get:23 https://developer.download.nvidia.com/compute/cuda/repos/ubuntu1804/x86_64  libcusolver-dev-11-2 11.1.0.135-1 [20.5 MB]\n",
            "Get:24 https://developer.download.nvidia.com/compute/cuda/repos/ubuntu1804/x86_64  libcusparse-dev-11-2 11.4.0.135-1 [96.6 MB]\n",
            "Get:25 https://developer.download.nvidia.com/compute/cuda/repos/ubuntu1804/x86_64  libnpp-dev-11-2 11.3.2.139-1 [71.3 MB]\n",
            "Get:26 https://developer.download.nvidia.com/compute/cuda/repos/ubuntu1804/x86_64  libnvjpeg-dev-11-2 11.4.0.135-1 [1,420 kB]\n",
            "Get:27 https://developer.download.nvidia.com/compute/cuda/repos/ubuntu1804/x86_64  cuda-libraries-dev-11-2 11.2.1-1 [2,518 B]\n",
            "Get:28 https://developer.download.nvidia.com/compute/cuda/repos/ubuntu1804/x86_64  cuda-cupti-11-2 11.2.135-1 [11.3 MB]\n",
            "Get:29 https://developer.download.nvidia.com/compute/cuda/repos/ubuntu1804/x86_64  cuda-cupti-dev-11-2 11.2.135-1 [2,313 kB]\n",
            "Get:30 https://developer.download.nvidia.com/compute/cuda/repos/ubuntu1804/x86_64  cuda-nvdisasm-11-2 11.2.135-1 [32.9 MB]\n",
            "Get:31 https://developer.download.nvidia.com/compute/cuda/repos/ubuntu1804/x86_64  cuda-gdb-11-2 11.2.135-1 [3,622 kB]\n",
            "Get:32 https://developer.download.nvidia.com/compute/cuda/repos/ubuntu1804/x86_64  cuda-memcheck-11-2 11.2.135-1 [145 kB]\n",
            "Get:33 https://developer.download.nvidia.com/compute/cuda/repos/ubuntu1804/x86_64  cuda-nvprof-11-2 11.2.135-1 [1,915 kB]\n",
            "Get:34 https://developer.download.nvidia.com/compute/cuda/repos/ubuntu1804/x86_64  cuda-nvtx-11-2 11.2.67-1 [50.9 kB]\n",
            "Get:35 https://developer.download.nvidia.com/compute/cuda/repos/ubuntu1804/x86_64  cuda-sanitizer-11-2 11.2.135-1 [7,642 kB]\n",
            "Get:36 https://developer.download.nvidia.com/compute/cuda/repos/ubuntu1804/x86_64  cuda-command-line-tools-11-2 11.2.1-1 [2,470 B]\n",
            "Get:37 https://developer.download.nvidia.com/compute/cuda/repos/ubuntu1804/x86_64  cuda-nsight-compute-11-2 11.2.1-1 [3,700 B]\n",
            "Get:38 https://developer.download.nvidia.com/compute/cuda/repos/ubuntu1804/x86_64  cuda-nsight-systems-11-2 11.2.1-1 [3,306 B]\n",
            "Get:39 https://developer.download.nvidia.com/compute/cuda/repos/ubuntu1804/x86_64  cuda-nsight-11-2 11.2.135-1 [119 MB]\n",
            "Get:40 https://developer.download.nvidia.com/compute/cuda/repos/ubuntu1804/x86_64  cuda-nvml-dev-11-2 11.2.67-1 [73.5 kB]\n",
            "Get:41 https://developer.download.nvidia.com/compute/cuda/repos/ubuntu1804/x86_64  cuda-nvvp-11-2 11.2.135-1 [115 MB]\n",
            "Get:42 https://developer.download.nvidia.com/compute/cuda/repos/ubuntu1804/x86_64  cuda-visual-tools-11-2 11.2.1-1 [2,948 B]\n",
            "Get:43 https://developer.download.nvidia.com/compute/cuda/repos/ubuntu1804/x86_64  cuda-tools-11-2 11.2.1-1 [2,380 B]\n",
            "Get:44 https://developer.download.nvidia.com/compute/cuda/repos/ubuntu1804/x86_64  cuda-samples-11-2 11.2.135-1 [57.0 MB]\n",
            "Get:45 https://developer.download.nvidia.com/compute/cuda/repos/ubuntu1804/x86_64  cuda-documentation-11-2 11.2.146-1 [48.8 kB]\n",
            "Get:46 https://developer.download.nvidia.com/compute/cuda/repos/ubuntu1804/x86_64  cuda-toolkit-11-2 11.2.1-1 [3,288 B]\n",
            "Get:47 https://developer.download.nvidia.com/compute/cuda/repos/ubuntu1804/x86_64  cuda-demo-suite-11-2 11.2.67-1 [3,928 kB]\n",
            "Get:48 https://developer.download.nvidia.com/compute/cuda/repos/ubuntu1804/x86_64  cuda-11-2 11.2.1-1 [2,448 B]\n",
            "Get:49 https://developer.download.nvidia.com/compute/cuda/repos/ubuntu1804/x86_64  cuda 11.2.1-1 [2,394 B]\n",
            "Fetched 1,608 MB in 25s (63.4 MB/s)\n",
            "Extracting templates from packages: 100%\n",
            "Selecting previously unselected package cuda-cudart-11-2.\n",
            "(Reading database ... 146516 files and directories currently installed.)\n",
            "Preparing to unpack .../00-cuda-cudart-11-2_11.2.146-1_amd64.deb ...\n",
            "Unpacking cuda-cudart-11-2 (11.2.146-1) ...\n",
            "Selecting previously unselected package cuda-nvrtc-11-2.\n",
            "Preparing to unpack .../01-cuda-nvrtc-11-2_11.2.142-1_amd64.deb ...\n",
            "Unpacking cuda-nvrtc-11-2 (11.2.142-1) ...\n",
            "Selecting previously unselected package libcublas-11-2.\n",
            "Preparing to unpack .../02-libcublas-11-2_11.4.1.1026-1_amd64.deb ...\n",
            "Unpacking libcublas-11-2 (11.4.1.1026-1) ...\n",
            "Selecting previously unselected package libcufft-11-2.\n",
            "Preparing to unpack .../03-libcufft-11-2_10.4.0.135-1_amd64.deb ...\n",
            "Unpacking libcufft-11-2 (10.4.0.135-1) ...\n",
            "Selecting previously unselected package libcurand-11-2.\n",
            "Preparing to unpack .../04-libcurand-11-2_10.2.3.135-1_amd64.deb ...\n",
            "Unpacking libcurand-11-2 (10.2.3.135-1) ...\n",
            "Selecting previously unselected package libcusolver-11-2.\n",
            "Preparing to unpack .../05-libcusolver-11-2_11.1.0.135-1_amd64.deb ...\n",
            "Unpacking libcusolver-11-2 (11.1.0.135-1) ...\n",
            "Selecting previously unselected package libcusparse-11-2.\n",
            "Preparing to unpack .../06-libcusparse-11-2_11.4.0.135-1_amd64.deb ...\n",
            "Unpacking libcusparse-11-2 (11.4.0.135-1) ...\n",
            "Selecting previously unselected package libnpp-11-2.\n",
            "Preparing to unpack .../07-libnpp-11-2_11.3.2.139-1_amd64.deb ...\n",
            "Unpacking libnpp-11-2 (11.3.2.139-1) ...\n",
            "Selecting previously unselected package libnvjpeg-11-2.\n",
            "Preparing to unpack .../08-libnvjpeg-11-2_11.4.0.135-1_amd64.deb ...\n",
            "Unpacking libnvjpeg-11-2 (11.4.0.135-1) ...\n",
            "Selecting previously unselected package cuda-libraries-11-2.\n",
            "Preparing to unpack .../09-cuda-libraries-11-2_11.2.1-1_amd64.deb ...\n",
            "Unpacking cuda-libraries-11-2 (11.2.1-1) ...\n",
            "Selecting previously unselected package cuda-runtime-11-2.\n",
            "Preparing to unpack .../10-cuda-runtime-11-2_11.2.1-1_amd64.deb ...\n",
            "Unpacking cuda-runtime-11-2 (11.2.1-1) ...\n",
            "Selecting previously unselected package cuda-cuobjdump-11-2.\n",
            "Preparing to unpack .../11-cuda-cuobjdump-11-2_11.2.135-1_amd64.deb ...\n",
            "Unpacking cuda-cuobjdump-11-2 (11.2.135-1) ...\n",
            "Selecting previously unselected package cuda-cuxxfilt-11-2.\n",
            "Preparing to unpack .../12-cuda-cuxxfilt-11-2_11.2.135-1_amd64.deb ...\n",
            "Unpacking cuda-cuxxfilt-11-2 (11.2.135-1) ...\n",
            "Selecting previously unselected package cuda-driver-dev-11-2.\n",
            "Preparing to unpack .../13-cuda-driver-dev-11-2_11.2.146-1_amd64.deb ...\n",
            "Unpacking cuda-driver-dev-11-2 (11.2.146-1) ...\n",
            "Selecting previously unselected package cuda-cudart-dev-11-2.\n",
            "Preparing to unpack .../14-cuda-cudart-dev-11-2_11.2.146-1_amd64.deb ...\n",
            "Unpacking cuda-cudart-dev-11-2 (11.2.146-1) ...\n",
            "Selecting previously unselected package cuda-nvcc-11-2.\n",
            "Preparing to unpack .../15-cuda-nvcc-11-2_11.2.142-1_amd64.deb ...\n",
            "Unpacking cuda-nvcc-11-2 (11.2.142-1) ...\n",
            "Selecting previously unselected package cuda-nvprune-11-2.\n",
            "Preparing to unpack .../16-cuda-nvprune-11-2_11.2.135-1_amd64.deb ...\n",
            "Unpacking cuda-nvprune-11-2 (11.2.135-1) ...\n",
            "Selecting previously unselected package cuda-compiler-11-2.\n",
            "Preparing to unpack .../17-cuda-compiler-11-2_11.2.1-1_amd64.deb ...\n",
            "Unpacking cuda-compiler-11-2 (11.2.1-1) ...\n",
            "Selecting previously unselected package cuda-nvrtc-dev-11-2.\n",
            "Preparing to unpack .../18-cuda-nvrtc-dev-11-2_11.2.142-1_amd64.deb ...\n",
            "Unpacking cuda-nvrtc-dev-11-2 (11.2.142-1) ...\n",
            "Selecting previously unselected package libcublas-dev-11-2.\n",
            "Preparing to unpack .../19-libcublas-dev-11-2_11.4.1.1026-1_amd64.deb ...\n",
            "Unpacking libcublas-dev-11-2 (11.4.1.1026-1) ...\n",
            "Selecting previously unselected package libcufft-dev-11-2.\n",
            "Preparing to unpack .../20-libcufft-dev-11-2_10.4.0.135-1_amd64.deb ...\n",
            "Unpacking libcufft-dev-11-2 (10.4.0.135-1) ...\n",
            "Selecting previously unselected package libcurand-dev-11-2.\n",
            "Preparing to unpack .../21-libcurand-dev-11-2_10.2.3.135-1_amd64.deb ...\n",
            "Unpacking libcurand-dev-11-2 (10.2.3.135-1) ...\n",
            "Selecting previously unselected package libcusolver-dev-11-2.\n",
            "Preparing to unpack .../22-libcusolver-dev-11-2_11.1.0.135-1_amd64.deb ...\n",
            "Unpacking libcusolver-dev-11-2 (11.1.0.135-1) ...\n",
            "Selecting previously unselected package libcusparse-dev-11-2.\n",
            "Preparing to unpack .../23-libcusparse-dev-11-2_11.4.0.135-1_amd64.deb ...\n",
            "Unpacking libcusparse-dev-11-2 (11.4.0.135-1) ...\n",
            "Selecting previously unselected package libnpp-dev-11-2.\n",
            "Preparing to unpack .../24-libnpp-dev-11-2_11.3.2.139-1_amd64.deb ...\n",
            "Unpacking libnpp-dev-11-2 (11.3.2.139-1) ...\n",
            "Selecting previously unselected package libnvjpeg-dev-11-2.\n",
            "Preparing to unpack .../25-libnvjpeg-dev-11-2_11.4.0.135-1_amd64.deb ...\n",
            "Unpacking libnvjpeg-dev-11-2 (11.4.0.135-1) ...\n",
            "Selecting previously unselected package cuda-libraries-dev-11-2.\n",
            "Preparing to unpack .../26-cuda-libraries-dev-11-2_11.2.1-1_amd64.deb ...\n",
            "Unpacking cuda-libraries-dev-11-2 (11.2.1-1) ...\n",
            "Selecting previously unselected package cuda-cupti-11-2.\n",
            "Preparing to unpack .../27-cuda-cupti-11-2_11.2.135-1_amd64.deb ...\n",
            "Unpacking cuda-cupti-11-2 (11.2.135-1) ...\n",
            "Selecting previously unselected package cuda-cupti-dev-11-2.\n",
            "Preparing to unpack .../28-cuda-cupti-dev-11-2_11.2.135-1_amd64.deb ...\n",
            "Unpacking cuda-cupti-dev-11-2 (11.2.135-1) ...\n",
            "Selecting previously unselected package cuda-nvdisasm-11-2.\n",
            "Preparing to unpack .../29-cuda-nvdisasm-11-2_11.2.135-1_amd64.deb ...\n",
            "Unpacking cuda-nvdisasm-11-2 (11.2.135-1) ...\n",
            "Selecting previously unselected package cuda-gdb-11-2.\n",
            "Preparing to unpack .../30-cuda-gdb-11-2_11.2.135-1_amd64.deb ...\n",
            "Unpacking cuda-gdb-11-2 (11.2.135-1) ...\n",
            "Selecting previously unselected package cuda-memcheck-11-2.\n",
            "Preparing to unpack .../31-cuda-memcheck-11-2_11.2.135-1_amd64.deb ...\n",
            "Unpacking cuda-memcheck-11-2 (11.2.135-1) ...\n",
            "Selecting previously unselected package cuda-nvprof-11-2.\n",
            "Preparing to unpack .../32-cuda-nvprof-11-2_11.2.135-1_amd64.deb ...\n",
            "Unpacking cuda-nvprof-11-2 (11.2.135-1) ...\n",
            "Selecting previously unselected package cuda-nvtx-11-2.\n",
            "Preparing to unpack .../33-cuda-nvtx-11-2_11.2.67-1_amd64.deb ...\n",
            "Unpacking cuda-nvtx-11-2 (11.2.67-1) ...\n",
            "Selecting previously unselected package cuda-sanitizer-11-2.\n",
            "Preparing to unpack .../34-cuda-sanitizer-11-2_11.2.135-1_amd64.deb ...\n",
            "Unpacking cuda-sanitizer-11-2 (11.2.135-1) ...\n",
            "Selecting previously unselected package cuda-command-line-tools-11-2.\n",
            "Preparing to unpack .../35-cuda-command-line-tools-11-2_11.2.1-1_amd64.deb ...\n",
            "Unpacking cuda-command-line-tools-11-2 (11.2.1-1) ...\n",
            "Selecting previously unselected package cuda-nsight-compute-11-2.\n",
            "Preparing to unpack .../36-cuda-nsight-compute-11-2_11.2.1-1_amd64.deb ...\n",
            "Unpacking cuda-nsight-compute-11-2 (11.2.1-1) ...\n",
            "Selecting previously unselected package cuda-nsight-systems-11-2.\n",
            "Preparing to unpack .../37-cuda-nsight-systems-11-2_11.2.1-1_amd64.deb ...\n",
            "Unpacking cuda-nsight-systems-11-2 (11.2.1-1) ...\n",
            "Selecting previously unselected package cuda-nsight-11-2.\n",
            "Preparing to unpack .../38-cuda-nsight-11-2_11.2.135-1_amd64.deb ...\n",
            "Unpacking cuda-nsight-11-2 (11.2.135-1) ...\n",
            "Selecting previously unselected package cuda-nvml-dev-11-2.\n",
            "Preparing to unpack .../39-cuda-nvml-dev-11-2_11.2.67-1_amd64.deb ...\n",
            "Unpacking cuda-nvml-dev-11-2 (11.2.67-1) ...\n",
            "Selecting previously unselected package cuda-nvvp-11-2.\n",
            "Preparing to unpack .../40-cuda-nvvp-11-2_11.2.135-1_amd64.deb ...\n",
            "Unpacking cuda-nvvp-11-2 (11.2.135-1) ...\n",
            "Selecting previously unselected package cuda-visual-tools-11-2.\n",
            "Preparing to unpack .../41-cuda-visual-tools-11-2_11.2.1-1_amd64.deb ...\n",
            "Unpacking cuda-visual-tools-11-2 (11.2.1-1) ...\n",
            "Selecting previously unselected package cuda-tools-11-2.\n",
            "Preparing to unpack .../42-cuda-tools-11-2_11.2.1-1_amd64.deb ...\n",
            "Unpacking cuda-tools-11-2 (11.2.1-1) ...\n",
            "Selecting previously unselected package cuda-samples-11-2.\n",
            "Preparing to unpack .../43-cuda-samples-11-2_11.2.135-1_amd64.deb ...\n",
            "Unpacking cuda-samples-11-2 (11.2.135-1) ...\n",
            "Selecting previously unselected package cuda-documentation-11-2.\n",
            "Preparing to unpack .../44-cuda-documentation-11-2_11.2.146-1_amd64.deb ...\n",
            "Unpacking cuda-documentation-11-2 (11.2.146-1) ...\n",
            "Selecting previously unselected package cuda-toolkit-11-2.\n",
            "Preparing to unpack .../45-cuda-toolkit-11-2_11.2.1-1_amd64.deb ...\n",
            "Unpacking cuda-toolkit-11-2 (11.2.1-1) ...\n",
            "Selecting previously unselected package cuda-demo-suite-11-2.\n",
            "Preparing to unpack .../46-cuda-demo-suite-11-2_11.2.67-1_amd64.deb ...\n",
            "Unpacking cuda-demo-suite-11-2 (11.2.67-1) ...\n",
            "Selecting previously unselected package cuda-11-2.\n",
            "Preparing to unpack .../47-cuda-11-2_11.2.1-1_amd64.deb ...\n",
            "Unpacking cuda-11-2 (11.2.1-1) ...\n",
            "Selecting previously unselected package cuda.\n",
            "Preparing to unpack .../48-cuda_11.2.1-1_amd64.deb ...\n",
            "Unpacking cuda (11.2.1-1) ...\n",
            "Setting up libcufft-11-2 (10.4.0.135-1) ...\n",
            "Setting up libcusparse-11-2 (11.4.0.135-1) ...\n",
            "Setting up libnpp-11-2 (11.3.2.139-1) ...\n",
            "Setting up cuda-nvrtc-11-2 (11.2.142-1) ...\n",
            "Setting up libcurand-11-2 (10.2.3.135-1) ...\n",
            "Setting up cuda-nvvp-11-2 (11.2.135-1) ...\n",
            "Setting up cuda-nvtx-11-2 (11.2.67-1) ...\n",
            "Setting up cuda-nvml-dev-11-2 (11.2.67-1) ...\n",
            "Setting up libnvjpeg-11-2 (11.4.0.135-1) ...\n",
            "Setting up cuda-nsight-compute-11-2 (11.2.1-1) ...\n",
            "Setting up libcufft-dev-11-2 (10.4.0.135-1) ...\n",
            "Setting up libcusparse-dev-11-2 (11.4.0.135-1) ...\n",
            "Setting up cuda-cuobjdump-11-2 (11.2.135-1) ...\n",
            "Setting up libcurand-dev-11-2 (10.2.3.135-1) ...\n",
            "Setting up libnpp-dev-11-2 (11.3.2.139-1) ...\n",
            "Setting up cuda-driver-dev-11-2 (11.2.146-1) ...\n",
            "Setting up cuda-cudart-11-2 (11.2.146-1) ...\n",
            "Setting up cuda-cuxxfilt-11-2 (11.2.135-1) ...\n",
            "Setting up libnvjpeg-dev-11-2 (11.4.0.135-1) ...\n",
            "Setting up cuda-memcheck-11-2 (11.2.135-1) ...\n",
            "Setting up cuda-cudart-dev-11-2 (11.2.146-1) ...\n",
            "Setting up cuda-nvprune-11-2 (11.2.135-1) ...\n",
            "Setting up cuda-nvrtc-dev-11-2 (11.2.142-1) ...\n",
            "Setting up cuda-nsight-11-2 (11.2.135-1) ...\n",
            "Setting up libcublas-11-2 (11.4.1.1026-1) ...\n",
            "Setting up cuda-sanitizer-11-2 (11.2.135-1) ...\n",
            "Setting up cuda-nvdisasm-11-2 (11.2.135-1) ...\n",
            "Setting up cuda-nsight-systems-11-2 (11.2.1-1) ...\n",
            "Setting up libcusolver-11-2 (11.1.0.135-1) ...\n",
            "Setting up cuda-nvprof-11-2 (11.2.135-1) ...\n",
            "Setting up cuda-libraries-11-2 (11.2.1-1) ...\n",
            "Setting up libcusolver-dev-11-2 (11.1.0.135-1) ...\n",
            "Setting up libcublas-dev-11-2 (11.4.1.1026-1) ...\n",
            "Setting up cuda-libraries-dev-11-2 (11.2.1-1) ...\n",
            "Setting up cuda-nvcc-11-2 (11.2.142-1) ...\n",
            "Setting up cuda-gdb-11-2 (11.2.135-1) ...\n",
            "Setting up cuda-runtime-11-2 (11.2.1-1) ...\n",
            "Setting up cuda-demo-suite-11-2 (11.2.67-1) ...\n",
            "Setting up cuda-samples-11-2 (11.2.135-1) ...\n",
            "Setting up cuda-compiler-11-2 (11.2.1-1) ...\n",
            "Setting up cuda-visual-tools-11-2 (11.2.1-1) ...\n",
            "Setting up cuda-documentation-11-2 (11.2.146-1) ...\n",
            "Setting up cuda-cupti-11-2 (11.2.135-1) ...\n",
            "Setting up cuda-cupti-dev-11-2 (11.2.135-1) ...\n",
            "Setting up cuda-command-line-tools-11-2 (11.2.1-1) ...\n",
            "Setting up cuda-tools-11-2 (11.2.1-1) ...\n",
            "Setting up cuda-toolkit-11-2 (11.2.1-1) ...\n",
            "Setting alternatives\n",
            "update-alternatives: using /usr/local/cuda-11.2 to provide /usr/local/cuda (cuda) in auto mode\n",
            "update-alternatives: using /usr/local/cuda-11.2 to provide /usr/local/cuda-11 (cuda-11) in auto mode\n",
            "Setting up cuda-11-2 (11.2.1-1) ...\n",
            "Setting up cuda (11.2.1-1) ...\n"
          ],
          "name": "stdout"
        }
      ]
    },
    {
      "cell_type": "code",
      "metadata": {
        "colab": {
          "base_uri": "https://localhost:8080/"
        },
        "id": "jGPQDRg7s5Uh",
        "outputId": "287632fe-44d2-4348-8b67-37dc9dcc97b6"
      },
      "source": [
        "# Verify your new CUDA installation on the cloud\n",
        "!nvcc -V"
      ],
      "execution_count": null,
      "outputs": [
        {
          "output_type": "stream",
          "text": [
            "nvcc: NVIDIA (R) Cuda compiler driver\n",
            "Copyright (c) 2005-2021 NVIDIA Corporation\n",
            "Built on Thu_Jan_28_19:32:09_PST_2021\n",
            "Cuda compilation tools, release 11.2, V11.2.142\n",
            "Build cuda_11.2.r11.2/compiler.29558016_0\n"
          ],
          "name": "stdout"
        }
      ]
    },
    {
      "cell_type": "code",
      "metadata": {
        "colab": {
          "base_uri": "https://localhost:8080/"
        },
        "id": "PgAOA19v-JeA",
        "outputId": "70114924-99d4-4049-d0d6-ccf1a98aee2a"
      },
      "source": [
        "from tensorflow.python.client import device_lib\n",
        "device_lib.list_local_devices()"
      ],
      "execution_count": null,
      "outputs": [
        {
          "output_type": "execute_result",
          "data": {
            "text/plain": [
              "[name: \"/device:CPU:0\"\n",
              " device_type: \"CPU\"\n",
              " memory_limit: 268435456\n",
              " locality {\n",
              " }\n",
              " incarnation: 15546676214617597173, name: \"/device:GPU:0\"\n",
              " device_type: \"GPU\"\n",
              " memory_limit: 15507165056\n",
              " locality {\n",
              "   bus_id: 1\n",
              "   links {\n",
              "   }\n",
              " }\n",
              " incarnation: 7245168918088677234\n",
              " physical_device_desc: \"device: 0, name: Tesla V100-SXM2-16GB, pci bus id: 0000:00:04.0, compute capability: 7.0\"]"
            ]
          },
          "metadata": {
            "tags": []
          },
          "execution_count": 12
        }
      ]
    },
    {
      "cell_type": "code",
      "metadata": {
        "id": "A_soO8k0-dZz",
        "colab": {
          "base_uri": "https://localhost:8080/"
        },
        "outputId": "25bc414b-9573-48ab-ae47-3d0d51267281"
      },
      "source": [
        "import datetime\n",
        "import json\n",
        "import os\n",
        "import pprint\n",
        "import random\n",
        "import string\n",
        "import sys\n",
        "import tensorflow as tf\n",
        "\n",
        "assert 'COLAB_TPU_ADDR' in os.environ, 'ERROR: Not connected to a TPU runtime; please see the first cell in this notebook for instructions!'\n",
        "TPU_ADDRESS = 'grpc://' + os.environ['COLAB_TPU_ADDR']\n",
        "print('TPU address is', TPU_ADDRESS)\n"
      ],
      "execution_count": 2,
      "outputs": [
        {
          "output_type": "stream",
          "text": [
            "TPU address is grpc://10.32.166.250:8470\n"
          ],
          "name": "stdout"
        }
      ]
    },
    {
      "cell_type": "code",
      "metadata": {
        "colab": {
          "base_uri": "https://localhost:8080/",
          "height": 225
        },
        "id": "FP5NweioJJfK",
        "outputId": "2ab058dd-237f-49d5-8186-10481f2659f9"
      },
      "source": [
        "import tensorflow as tf\n",
        "import os\n",
        "\n",
        "# Note that the `tpu` argument is for Colab-only\n",
        "resolver = tf.distribute.cluster_resolver.TPUClusterResolver(tpu='grpc://' + os.environ['COLAB_TPU_ADDR'])\n",
        "\n",
        "tf.config.experimental_connect_to_cluster(resolver)\n",
        "tf.tpu.experimental.initialize_tpu_system(resolver)\n",
        "print(\"All devices: \", tf.config.list_logical_devices('TPU'))\n",
        "\n",
        "\"\"\"\n",
        "Prints: All devices:  [LogicalDevice(name='/job:worker/replica:0/task:0/device:TPU:5', device_type='TPU'), \n",
        "LogicalDevice(name='/job:worker/replica:0/task:0/device:TPU:4', device_type='TPU'), \n",
        "LogicalDevice(name='/job:worker/replica:0/task:0/device:TPU:0', device_type='TPU'), \n",
        "LogicalDevice(name='/job:worker/replica:0/task:0/device:TPU:1', device_type='TPU'), \n",
        "LogicalDevice(name='/job:worker/replica:0/task:0/device:TPU:6', device_type='TPU'), \n",
        "LogicalDevice(name='/job:worker/replica:0/task:0/device:TPU:2', device_type='TPU'), \n",
        "LogicalDevice(name='/job:worker/replica:0/task:0/device:TPU:7', device_type='TPU'), \n",
        "LogicalDevice(name='/job:worker/replica:0/task:0/device:TPU:3', device_type='TPU')]\n",
        "\"\"\""
      ],
      "execution_count": 8,
      "outputs": [
        {
          "output_type": "stream",
          "text": [
            "INFO:tensorflow:Initializing the TPU system: grpc://10.32.166.250:8470\n"
          ],
          "name": "stdout"
        },
        {
          "output_type": "stream",
          "text": [
            "INFO:tensorflow:Initializing the TPU system: grpc://10.32.166.250:8470\n"
          ],
          "name": "stderr"
        },
        {
          "output_type": "stream",
          "text": [
            "INFO:tensorflow:Clearing out eager caches\n"
          ],
          "name": "stdout"
        },
        {
          "output_type": "stream",
          "text": [
            "INFO:tensorflow:Clearing out eager caches\n"
          ],
          "name": "stderr"
        },
        {
          "output_type": "stream",
          "text": [
            "INFO:tensorflow:Finished initializing TPU system.\n"
          ],
          "name": "stdout"
        },
        {
          "output_type": "stream",
          "text": [
            "INFO:tensorflow:Finished initializing TPU system.\n"
          ],
          "name": "stderr"
        },
        {
          "output_type": "stream",
          "text": [
            "All devices:  [LogicalDevice(name='/job:worker/replica:0/task:0/device:TPU:7', device_type='TPU'), LogicalDevice(name='/job:worker/replica:0/task:0/device:TPU:6', device_type='TPU'), LogicalDevice(name='/job:worker/replica:0/task:0/device:TPU:5', device_type='TPU'), LogicalDevice(name='/job:worker/replica:0/task:0/device:TPU:4', device_type='TPU'), LogicalDevice(name='/job:worker/replica:0/task:0/device:TPU:3', device_type='TPU'), LogicalDevice(name='/job:worker/replica:0/task:0/device:TPU:0', device_type='TPU'), LogicalDevice(name='/job:worker/replica:0/task:0/device:TPU:1', device_type='TPU'), LogicalDevice(name='/job:worker/replica:0/task:0/device:TPU:2', device_type='TPU')]\n"
          ],
          "name": "stdout"
        },
        {
          "output_type": "execute_result",
          "data": {
            "application/vnd.google.colaboratory.intrinsic+json": {
              "type": "string"
            },
            "text/plain": [
              "\"\\nPrints: All devices:  [LogicalDevice(name='/job:worker/replica:0/task:0/device:TPU:5', device_type='TPU'), \\nLogicalDevice(name='/job:worker/replica:0/task:0/device:TPU:4', device_type='TPU'), \\nLogicalDevice(name='/job:worker/replica:0/task:0/device:TPU:0', device_type='TPU'), \\nLogicalDevice(name='/job:worker/replica:0/task:0/device:TPU:1', device_type='TPU'), \\nLogicalDevice(name='/job:worker/replica:0/task:0/device:TPU:6', device_type='TPU'), \\nLogicalDevice(name='/job:worker/replica:0/task:0/device:TPU:2', device_type='TPU'), \\nLogicalDevice(name='/job:worker/replica:0/task:0/device:TPU:7', device_type='TPU'), \\nLogicalDevice(name='/job:worker/replica:0/task:0/device:TPU:3', device_type='TPU')]\\n\""
            ]
          },
          "metadata": {
            "tags": []
          },
          "execution_count": 8
        }
      ]
    },
    {
      "cell_type": "code",
      "metadata": {
        "colab": {
          "base_uri": "https://localhost:8080/",
          "height": 630
        },
        "id": "6YU_FyjZKdmd",
        "outputId": "5d6e50b8-6a08-442a-99f3-5b8908287339"
      },
      "source": [
        "strategy = tf.distribute.TPUStrategy(resolver)\n",
        "\n",
        "\"\"\"\n",
        "Prints: All devices:  [LogicalDevice(name='/job:worker/replica:0/task:0/device:TPU:5', device_type='TPU'), \n",
        "LogicalDevice(name='/job:worker/replica:0/task:0/device:TPU:4', device_type='TPU'), \n",
        "LogicalDevice(name='/job:worker/replica:0/task:0/device:TPU:0', device_type='TPU'), \n",
        "LogicalDevice(name='/job:worker/replica:0/task:0/device:TPU:1', device_type='TPU'), \n",
        "LogicalDevice(name='/job:worker/replica:0/task:0/device:TPU:6', device_type='TPU'), \n",
        "LogicalDevice(name='/job:worker/replica:0/task:0/device:TPU:2', device_type='TPU'), \n",
        "LogicalDevice(name='/job:worker/replica:0/task:0/device:TPU:7', device_type='TPU'), \n",
        "LogicalDevice(name='/job:worker/replica:0/task:0/device:TPU:3', device_type='TPU')]\n",
        "\"\"\""
      ],
      "execution_count": 9,
      "outputs": [
        {
          "output_type": "stream",
          "text": [
            "INFO:tensorflow:Found TPU system:\n"
          ],
          "name": "stdout"
        },
        {
          "output_type": "stream",
          "text": [
            "INFO:tensorflow:Found TPU system:\n"
          ],
          "name": "stderr"
        },
        {
          "output_type": "stream",
          "text": [
            "INFO:tensorflow:*** Num TPU Cores: 8\n"
          ],
          "name": "stdout"
        },
        {
          "output_type": "stream",
          "text": [
            "INFO:tensorflow:*** Num TPU Cores: 8\n"
          ],
          "name": "stderr"
        },
        {
          "output_type": "stream",
          "text": [
            "INFO:tensorflow:*** Num TPU Workers: 1\n"
          ],
          "name": "stdout"
        },
        {
          "output_type": "stream",
          "text": [
            "INFO:tensorflow:*** Num TPU Workers: 1\n"
          ],
          "name": "stderr"
        },
        {
          "output_type": "stream",
          "text": [
            "INFO:tensorflow:*** Num TPU Cores Per Worker: 8\n"
          ],
          "name": "stdout"
        },
        {
          "output_type": "stream",
          "text": [
            "INFO:tensorflow:*** Num TPU Cores Per Worker: 8\n"
          ],
          "name": "stderr"
        },
        {
          "output_type": "stream",
          "text": [
            "INFO:tensorflow:*** Available Device: _DeviceAttributes(/job:localhost/replica:0/task:0/device:CPU:0, CPU, 0, 0)\n"
          ],
          "name": "stdout"
        },
        {
          "output_type": "stream",
          "text": [
            "INFO:tensorflow:*** Available Device: _DeviceAttributes(/job:localhost/replica:0/task:0/device:CPU:0, CPU, 0, 0)\n"
          ],
          "name": "stderr"
        },
        {
          "output_type": "stream",
          "text": [
            "INFO:tensorflow:*** Available Device: _DeviceAttributes(/job:worker/replica:0/task:0/device:CPU:0, CPU, 0, 0)\n"
          ],
          "name": "stdout"
        },
        {
          "output_type": "stream",
          "text": [
            "INFO:tensorflow:*** Available Device: _DeviceAttributes(/job:worker/replica:0/task:0/device:CPU:0, CPU, 0, 0)\n"
          ],
          "name": "stderr"
        },
        {
          "output_type": "stream",
          "text": [
            "INFO:tensorflow:*** Available Device: _DeviceAttributes(/job:worker/replica:0/task:0/device:TPU:0, TPU, 0, 0)\n"
          ],
          "name": "stdout"
        },
        {
          "output_type": "stream",
          "text": [
            "INFO:tensorflow:*** Available Device: _DeviceAttributes(/job:worker/replica:0/task:0/device:TPU:0, TPU, 0, 0)\n"
          ],
          "name": "stderr"
        },
        {
          "output_type": "stream",
          "text": [
            "INFO:tensorflow:*** Available Device: _DeviceAttributes(/job:worker/replica:0/task:0/device:TPU:1, TPU, 0, 0)\n"
          ],
          "name": "stdout"
        },
        {
          "output_type": "stream",
          "text": [
            "INFO:tensorflow:*** Available Device: _DeviceAttributes(/job:worker/replica:0/task:0/device:TPU:1, TPU, 0, 0)\n"
          ],
          "name": "stderr"
        },
        {
          "output_type": "stream",
          "text": [
            "INFO:tensorflow:*** Available Device: _DeviceAttributes(/job:worker/replica:0/task:0/device:TPU:2, TPU, 0, 0)\n"
          ],
          "name": "stdout"
        },
        {
          "output_type": "stream",
          "text": [
            "INFO:tensorflow:*** Available Device: _DeviceAttributes(/job:worker/replica:0/task:0/device:TPU:2, TPU, 0, 0)\n"
          ],
          "name": "stderr"
        },
        {
          "output_type": "stream",
          "text": [
            "INFO:tensorflow:*** Available Device: _DeviceAttributes(/job:worker/replica:0/task:0/device:TPU:3, TPU, 0, 0)\n"
          ],
          "name": "stdout"
        },
        {
          "output_type": "stream",
          "text": [
            "INFO:tensorflow:*** Available Device: _DeviceAttributes(/job:worker/replica:0/task:0/device:TPU:3, TPU, 0, 0)\n"
          ],
          "name": "stderr"
        },
        {
          "output_type": "stream",
          "text": [
            "INFO:tensorflow:*** Available Device: _DeviceAttributes(/job:worker/replica:0/task:0/device:TPU:4, TPU, 0, 0)\n"
          ],
          "name": "stdout"
        },
        {
          "output_type": "stream",
          "text": [
            "INFO:tensorflow:*** Available Device: _DeviceAttributes(/job:worker/replica:0/task:0/device:TPU:4, TPU, 0, 0)\n"
          ],
          "name": "stderr"
        },
        {
          "output_type": "stream",
          "text": [
            "INFO:tensorflow:*** Available Device: _DeviceAttributes(/job:worker/replica:0/task:0/device:TPU:5, TPU, 0, 0)\n"
          ],
          "name": "stdout"
        },
        {
          "output_type": "stream",
          "text": [
            "INFO:tensorflow:*** Available Device: _DeviceAttributes(/job:worker/replica:0/task:0/device:TPU:5, TPU, 0, 0)\n"
          ],
          "name": "stderr"
        },
        {
          "output_type": "stream",
          "text": [
            "INFO:tensorflow:*** Available Device: _DeviceAttributes(/job:worker/replica:0/task:0/device:TPU:6, TPU, 0, 0)\n"
          ],
          "name": "stdout"
        },
        {
          "output_type": "stream",
          "text": [
            "INFO:tensorflow:*** Available Device: _DeviceAttributes(/job:worker/replica:0/task:0/device:TPU:6, TPU, 0, 0)\n"
          ],
          "name": "stderr"
        },
        {
          "output_type": "stream",
          "text": [
            "INFO:tensorflow:*** Available Device: _DeviceAttributes(/job:worker/replica:0/task:0/device:TPU:7, TPU, 0, 0)\n"
          ],
          "name": "stdout"
        },
        {
          "output_type": "stream",
          "text": [
            "INFO:tensorflow:*** Available Device: _DeviceAttributes(/job:worker/replica:0/task:0/device:TPU:7, TPU, 0, 0)\n"
          ],
          "name": "stderr"
        },
        {
          "output_type": "stream",
          "text": [
            "INFO:tensorflow:*** Available Device: _DeviceAttributes(/job:worker/replica:0/task:0/device:TPU_SYSTEM:0, TPU_SYSTEM, 0, 0)\n"
          ],
          "name": "stdout"
        },
        {
          "output_type": "stream",
          "text": [
            "INFO:tensorflow:*** Available Device: _DeviceAttributes(/job:worker/replica:0/task:0/device:TPU_SYSTEM:0, TPU_SYSTEM, 0, 0)\n"
          ],
          "name": "stderr"
        },
        {
          "output_type": "stream",
          "text": [
            "INFO:tensorflow:*** Available Device: _DeviceAttributes(/job:worker/replica:0/task:0/device:XLA_CPU:0, XLA_CPU, 0, 0)\n"
          ],
          "name": "stdout"
        },
        {
          "output_type": "stream",
          "text": [
            "INFO:tensorflow:*** Available Device: _DeviceAttributes(/job:worker/replica:0/task:0/device:XLA_CPU:0, XLA_CPU, 0, 0)\n"
          ],
          "name": "stderr"
        },
        {
          "output_type": "execute_result",
          "data": {
            "application/vnd.google.colaboratory.intrinsic+json": {
              "type": "string"
            },
            "text/plain": [
              "\"\\nPrints: All devices:  [LogicalDevice(name='/job:worker/replica:0/task:0/device:TPU:5', device_type='TPU'), \\nLogicalDevice(name='/job:worker/replica:0/task:0/device:TPU:4', device_type='TPU'), \\nLogicalDevice(name='/job:worker/replica:0/task:0/device:TPU:0', device_type='TPU'), \\nLogicalDevice(name='/job:worker/replica:0/task:0/device:TPU:1', device_type='TPU'), \\nLogicalDevice(name='/job:worker/replica:0/task:0/device:TPU:6', device_type='TPU'), \\nLogicalDevice(name='/job:worker/replica:0/task:0/device:TPU:2', device_type='TPU'), \\nLogicalDevice(name='/job:worker/replica:0/task:0/device:TPU:7', device_type='TPU'), \\nLogicalDevice(name='/job:worker/replica:0/task:0/device:TPU:3', device_type='TPU')]\\n\""
            ]
          },
          "metadata": {
            "tags": []
          },
          "execution_count": 9
        }
      ]
    },
    {
      "cell_type": "code",
      "metadata": {
        "colab": {
          "base_uri": "https://localhost:8080/"
        },
        "id": "ybmH2jK-SuyI",
        "outputId": "22f1fbc8-3765-4573-896d-02a9ebe55ed7"
      },
      "source": [
        "!pip install transformers==3.5"
      ],
      "execution_count": 19,
      "outputs": [
        {
          "output_type": "stream",
          "text": [
            "Collecting transformers==3.5\n",
            "\u001b[?25l  Downloading https://files.pythonhosted.org/packages/9c/34/fb092588df61bf33f113ade030d1cbe74fb73a0353648f8dd938a223dce7/transformers-3.5.0-py3-none-any.whl (1.3MB)\n",
            "\u001b[K     |████████████████████████████████| 1.3MB 6.6MB/s \n",
            "\u001b[?25hRequirement already satisfied: requests in /usr/local/lib/python3.6/dist-packages (from transformers==3.5) (2.23.0)\n",
            "Requirement already satisfied: dataclasses; python_version < \"3.7\" in /usr/local/lib/python3.6/dist-packages (from transformers==3.5) (0.8)\n",
            "Collecting tokenizers==0.9.3\n",
            "\u001b[?25l  Downloading https://files.pythonhosted.org/packages/4c/34/b39eb9994bc3c999270b69c9eea40ecc6f0e97991dba28282b9fd32d44ee/tokenizers-0.9.3-cp36-cp36m-manylinux1_x86_64.whl (2.9MB)\n",
            "\u001b[K     |████████████████████████████████| 2.9MB 17.0MB/s \n",
            "\u001b[?25hRequirement already satisfied: numpy in /usr/local/lib/python3.6/dist-packages (from transformers==3.5) (1.19.5)\n",
            "Requirement already satisfied: filelock in /usr/local/lib/python3.6/dist-packages (from transformers==3.5) (3.0.12)\n",
            "Requirement already satisfied: protobuf in /usr/local/lib/python3.6/dist-packages (from transformers==3.5) (3.12.4)\n",
            "Requirement already satisfied: regex!=2019.12.17 in /usr/local/lib/python3.6/dist-packages (from transformers==3.5) (2019.12.20)\n",
            "Requirement already satisfied: tqdm>=4.27 in /usr/local/lib/python3.6/dist-packages (from transformers==3.5) (4.41.1)\n",
            "Requirement already satisfied: packaging in /usr/local/lib/python3.6/dist-packages (from transformers==3.5) (20.9)\n",
            "Collecting sentencepiece==0.1.91\n",
            "\u001b[?25l  Downloading https://files.pythonhosted.org/packages/d4/a4/d0a884c4300004a78cca907a6ff9a5e9fe4f090f5d95ab341c53d28cbc58/sentencepiece-0.1.91-cp36-cp36m-manylinux1_x86_64.whl (1.1MB)\n",
            "\u001b[K     |████████████████████████████████| 1.1MB 25.9MB/s \n",
            "\u001b[?25hCollecting sacremoses\n",
            "\u001b[?25l  Downloading https://files.pythonhosted.org/packages/7d/34/09d19aff26edcc8eb2a01bed8e98f13a1537005d31e95233fd48216eed10/sacremoses-0.0.43.tar.gz (883kB)\n",
            "\u001b[K     |████████████████████████████████| 890kB 57.0MB/s \n",
            "\u001b[?25hRequirement already satisfied: urllib3!=1.25.0,!=1.25.1,<1.26,>=1.21.1 in /usr/local/lib/python3.6/dist-packages (from requests->transformers==3.5) (1.24.3)\n",
            "Requirement already satisfied: certifi>=2017.4.17 in /usr/local/lib/python3.6/dist-packages (from requests->transformers==3.5) (2020.12.5)\n",
            "Requirement already satisfied: idna<3,>=2.5 in /usr/local/lib/python3.6/dist-packages (from requests->transformers==3.5) (2.10)\n",
            "Requirement already satisfied: chardet<4,>=3.0.2 in /usr/local/lib/python3.6/dist-packages (from requests->transformers==3.5) (3.0.4)\n",
            "Requirement already satisfied: six>=1.9 in /usr/local/lib/python3.6/dist-packages (from protobuf->transformers==3.5) (1.15.0)\n",
            "Requirement already satisfied: setuptools in /usr/local/lib/python3.6/dist-packages (from protobuf->transformers==3.5) (53.0.0)\n",
            "Requirement already satisfied: pyparsing>=2.0.2 in /usr/local/lib/python3.6/dist-packages (from packaging->transformers==3.5) (2.4.7)\n",
            "Requirement already satisfied: click in /usr/local/lib/python3.6/dist-packages (from sacremoses->transformers==3.5) (7.1.2)\n",
            "Requirement already satisfied: joblib in /usr/local/lib/python3.6/dist-packages (from sacremoses->transformers==3.5) (1.0.0)\n",
            "Building wheels for collected packages: sacremoses\n",
            "  Building wheel for sacremoses (setup.py) ... \u001b[?25l\u001b[?25hdone\n",
            "  Created wheel for sacremoses: filename=sacremoses-0.0.43-cp36-none-any.whl size=893261 sha256=c1dcd39a7f71a9384a4bed5e658b39761ccbca1eb36cd6b1a2f0c7d731f22094\n",
            "  Stored in directory: /root/.cache/pip/wheels/29/3c/fd/7ce5c3f0666dab31a50123635e6fb5e19ceb42ce38d4e58f45\n",
            "Successfully built sacremoses\n",
            "Installing collected packages: tokenizers, sentencepiece, sacremoses, transformers\n",
            "Successfully installed sacremoses-0.0.43 sentencepiece-0.1.91 tokenizers-0.9.3 transformers-3.5.0\n"
          ],
          "name": "stdout"
        }
      ]
    },
    {
      "cell_type": "code",
      "metadata": {
        "id": "6PxkpdDxSLzc"
      },
      "source": [
        "from transformers.modeling_tf_bert import TFBertForSequenceClassification"
      ],
      "execution_count": 20,
      "outputs": []
    },
    {
      "cell_type": "code",
      "metadata": {
        "colab": {
          "base_uri": "https://localhost:8080/",
          "height": 220,
          "referenced_widgets": [
            "f2acdd3fb9ca446ebdd9eef5a8954f43",
            "676e2c7600814ec7947eb3762bf9aabf",
            "2edb92081524408aa313d21707bab3e3",
            "58f079466e2b4951ab7008b121c73db1",
            "eebc6fd82f6c4ce98a0afff39f0f6fac",
            "485a33bbc90447e9b34c061986cd7fb9",
            "7673067ebbad400d94e1e55be46dec31",
            "8f9bc7f0e516491d84fc42c2c7526281",
            "4b31c1e50385444bac0ab52bb1f9c835",
            "4a1a41117eb346e199049975ef973061",
            "871f64d9d77d4fca8a412894b4a425f9",
            "4e83398cc0184ad4b707d337d56183fa",
            "a057c09351844bc6a17a649829bfd288",
            "58c75e6049eb4a97abd2b0e4851cb108",
            "3e11d0c45f844d2ca4d0b110d36a8709",
            "69bd3cb6071146f08afd8aa8007aabdd"
          ]
        },
        "id": "BcmvwxtDOB_t",
        "outputId": "1ddbc8b0-af77-423c-bd91-f943925380a8"
      },
      "source": [
        "def create_model():\n",
        "  bert = TFBertForSequenceClassification.from_pretrained('bert-large-cased')\n",
        "  inputs = tf.keras.layers.Input((None,), dtype=tf.int32)\n",
        "  mask = tf.keras.layers.Input((None,), dtype=tf.int32)\n",
        "  preds = bert(\n",
        "        inputs=inputs,\n",
        "        attention_mask=mask,\n",
        "        training=True\n",
        "  )[0]\n",
        "\n",
        "  return tf.keras.Model([inputs, mask], preds)\n",
        "\n",
        "\n",
        "with strategy.scope():\n",
        "  model = create_model()\n",
        "  optimizer = tf.keras.optimizers.Adam(learning_rate=3e-5, epsilon=1e-08)\n",
        "  loss_fun = tf.keras.losses.SparseCategoricalCrossentropy(from_logits=True, reduction='none')\n",
        "  model.compile(optimizer=optimizer, loss=loss_fun)"
      ],
      "execution_count": 21,
      "outputs": [
        {
          "output_type": "display_data",
          "data": {
            "application/vnd.jupyter.widget-view+json": {
              "model_id": "f2acdd3fb9ca446ebdd9eef5a8954f43",
              "version_minor": 0,
              "version_major": 2
            },
            "text/plain": [
              "HBox(children=(FloatProgress(value=0.0, description='Downloading', max=625.0, style=ProgressStyle(description_…"
            ]
          },
          "metadata": {
            "tags": []
          }
        },
        {
          "output_type": "stream",
          "text": [
            "\n"
          ],
          "name": "stdout"
        },
        {
          "output_type": "display_data",
          "data": {
            "application/vnd.jupyter.widget-view+json": {
              "model_id": "4b31c1e50385444bac0ab52bb1f9c835",
              "version_minor": 0,
              "version_major": 2
            },
            "text/plain": [
              "HBox(children=(FloatProgress(value=0.0, description='Downloading', max=1460062736.0, style=ProgressStyle(descr…"
            ]
          },
          "metadata": {
            "tags": []
          }
        },
        {
          "output_type": "stream",
          "text": [
            "\n"
          ],
          "name": "stdout"
        },
        {
          "output_type": "stream",
          "text": [
            "Some layers from the model checkpoint at bert-large-cased were not used when initializing TFBertForSequenceClassification: ['mlm___cls', 'nsp___cls']\n",
            "- This IS expected if you are initializing TFBertForSequenceClassification from the checkpoint of a model trained on another task or with another architecture (e.g. initializing a BertForSequenceClassification model from a BertForPreTraining model).\n",
            "- This IS NOT expected if you are initializing TFBertForSequenceClassification from the checkpoint of a model that you expect to be exactly identical (initializing a BertForSequenceClassification model from a BertForSequenceClassification model).\n",
            "Some layers of TFBertForSequenceClassification were not initialized from the model checkpoint at bert-large-cased and are newly initialized: ['dropout_73', 'classifier']\n",
            "You should probably TRAIN this model on a down-stream task to be able to use it for predictions and inference.\n"
          ],
          "name": "stderr"
        }
      ]
    },
    {
      "cell_type": "code",
      "metadata": {
        "colab": {
          "base_uri": "https://localhost:8080/"
        },
        "id": "7du6n7UBOGZZ",
        "outputId": "643f74e6-5217-4eb7-b657-f524b8fcca8e"
      },
      "source": [
        "! python --version"
      ],
      "execution_count": 24,
      "outputs": [
        {
          "output_type": "stream",
          "text": [
            "Python 3.6.9\n"
          ],
          "name": "stdout"
        }
      ]
    },
    {
      "cell_type": "code",
      "metadata": {
        "colab": {
          "base_uri": "https://localhost:8080/"
        },
        "id": "_RlBox-dTvwo",
        "outputId": "72e43b4b-1b08-4857-f9a2-80adda975570"
      },
      "source": [
        "!pip install tensorflow_hub\n",
        "!pip install keras tf-models-official pydot graphviz\n",
        "!pip package tf-models-official"
      ],
      "execution_count": 2,
      "outputs": [
        {
          "output_type": "stream",
          "text": [
            "Requirement already satisfied: tensorflow_hub in /usr/local/lib/python3.6/dist-packages (0.11.0)\n",
            "Requirement already satisfied: protobuf>=3.8.0 in /usr/local/lib/python3.6/dist-packages (from tensorflow_hub) (3.12.4)\n",
            "Requirement already satisfied: numpy>=1.12.0 in /usr/local/lib/python3.6/dist-packages (from tensorflow_hub) (1.19.5)\n",
            "Requirement already satisfied: six>=1.9 in /usr/local/lib/python3.6/dist-packages (from protobuf>=3.8.0->tensorflow_hub) (1.15.0)\n",
            "Requirement already satisfied: setuptools in /usr/local/lib/python3.6/dist-packages (from protobuf>=3.8.0->tensorflow_hub) (53.0.0)\n",
            "Requirement already satisfied: keras in /usr/local/lib/python3.6/dist-packages (2.4.3)\n",
            "Collecting tf-models-official\n",
            "\u001b[?25l  Downloading https://files.pythonhosted.org/packages/57/4a/23a08f8fd2747867ee223612e219eeb0d11c36116601d99b55ef3c72e707/tf_models_official-2.4.0-py2.py3-none-any.whl (1.1MB)\n",
            "\u001b[K     |████████████████████████████████| 1.1MB 10.0MB/s \n",
            "\u001b[?25hRequirement already satisfied: pydot in /usr/local/lib/python3.6/dist-packages (1.3.0)\n",
            "Requirement already satisfied: graphviz in /usr/local/lib/python3.6/dist-packages (0.10.1)\n",
            "Requirement already satisfied: pyyaml in /usr/local/lib/python3.6/dist-packages (from keras) (3.13)\n",
            "Requirement already satisfied: h5py in /usr/local/lib/python3.6/dist-packages (from keras) (2.10.0)\n",
            "Requirement already satisfied: scipy>=0.14 in /usr/local/lib/python3.6/dist-packages (from keras) (1.4.1)\n",
            "Requirement already satisfied: numpy>=1.9.1 in /usr/local/lib/python3.6/dist-packages (from keras) (1.19.5)\n",
            "Requirement already satisfied: Cython in /usr/local/lib/python3.6/dist-packages (from tf-models-official) (0.29.21)\n",
            "Requirement already satisfied: google-api-python-client>=1.6.7 in /usr/local/lib/python3.6/dist-packages (from tf-models-official) (1.7.12)\n",
            "Requirement already satisfied: pandas>=0.22.0 in /usr/local/lib/python3.6/dist-packages (from tf-models-official) (1.1.5)\n",
            "Collecting tensorflow-addons\n",
            "\u001b[?25l  Downloading https://files.pythonhosted.org/packages/2e/af/0ce633c373d2b0476ef8299673d22275fcc3c5ba283b2cec4aa06bc5b810/tensorflow_addons-0.12.1-cp36-cp36m-manylinux2010_x86_64.whl (703kB)\n",
            "\u001b[K     |████████████████████████████████| 706kB 35.9MB/s \n",
            "\u001b[?25hRequirement already satisfied: google-cloud-bigquery>=0.31.0 in /usr/local/lib/python3.6/dist-packages (from tf-models-official) (1.21.0)\n",
            "Requirement already satisfied: tensorflow-hub>=0.6.0 in /usr/local/lib/python3.6/dist-packages (from tf-models-official) (0.11.0)\n",
            "Collecting tensorflow-model-optimization>=0.4.1\n",
            "\u001b[?25l  Downloading https://files.pythonhosted.org/packages/55/38/4fd48ea1bfcb0b6e36d949025200426fe9c3a8bfae029f0973d85518fa5a/tensorflow_model_optimization-0.5.0-py2.py3-none-any.whl (172kB)\n",
            "\u001b[K     |████████████████████████████████| 174kB 53.8MB/s \n",
            "\u001b[?25hRequirement already satisfied: tensorflow>=2.4.0 in /usr/local/lib/python3.6/dist-packages (from tf-models-official) (2.4.1)\n",
            "Requirement already satisfied: matplotlib in /usr/local/lib/python3.6/dist-packages (from tf-models-official) (3.2.2)\n",
            "Requirement already satisfied: six in /usr/local/lib/python3.6/dist-packages (from tf-models-official) (1.15.0)\n",
            "Requirement already satisfied: Pillow in /usr/local/lib/python3.6/dist-packages (from tf-models-official) (7.0.0)\n",
            "Requirement already satisfied: dataclasses in /usr/local/lib/python3.6/dist-packages (from tf-models-official) (0.8)\n",
            "Collecting py-cpuinfo>=3.3.0\n",
            "\u001b[?25l  Downloading https://files.pythonhosted.org/packages/f6/f5/8e6e85ce2e9f6e05040cf0d4e26f43a4718bcc4bce988b433276d4b1a5c1/py-cpuinfo-7.0.0.tar.gz (95kB)\n",
            "\u001b[K     |████████████████████████████████| 102kB 12.7MB/s \n",
            "\u001b[?25hRequirement already satisfied: oauth2client in /usr/local/lib/python3.6/dist-packages (from tf-models-official) (4.1.3)\n",
            "Collecting seqeval\n",
            "\u001b[?25l  Downloading https://files.pythonhosted.org/packages/9d/2d/233c79d5b4e5ab1dbf111242299153f3caddddbb691219f363ad55ce783d/seqeval-1.2.2.tar.gz (43kB)\n",
            "\u001b[K     |████████████████████████████████| 51kB 7.7MB/s \n",
            "\u001b[?25hRequirement already satisfied: tensorflow-datasets in /usr/local/lib/python3.6/dist-packages (from tf-models-official) (4.0.1)\n",
            "Collecting opencv-python-headless\n",
            "\u001b[?25l  Downloading https://files.pythonhosted.org/packages/96/fc/4da675cc522a749ebbcf85c5a63fba844b2d44c87e6f24e3fdb147df3270/opencv_python_headless-4.5.1.48-cp36-cp36m-manylinux2014_x86_64.whl (37.6MB)\n",
            "\u001b[K     |████████████████████████████████| 37.6MB 147kB/s \n",
            "\u001b[?25hRequirement already satisfied: kaggle>=1.3.9 in /usr/local/lib/python3.6/dist-packages (from tf-models-official) (1.5.10)\n",
            "Requirement already satisfied: pycocotools in /usr/local/lib/python3.6/dist-packages (from tf-models-official) (2.0.2)\n",
            "Requirement already satisfied: psutil>=5.4.3 in /usr/local/lib/python3.6/dist-packages (from tf-models-official) (5.4.8)\n",
            "Requirement already satisfied: gin-config in /usr/local/lib/python3.6/dist-packages (from tf-models-official) (0.4.0)\n",
            "Collecting tf-slim>=1.1.0\n",
            "\u001b[?25l  Downloading https://files.pythonhosted.org/packages/02/97/b0f4a64df018ca018cc035d44f2ef08f91e2e8aa67271f6f19633a015ff7/tf_slim-1.1.0-py2.py3-none-any.whl (352kB)\n",
            "\u001b[K     |████████████████████████████████| 358kB 58.3MB/s \n",
            "\u001b[?25hCollecting sentencepiece\n",
            "\u001b[?25l  Downloading https://files.pythonhosted.org/packages/14/67/e42bd1181472c95c8cda79305df848264f2a7f62740995a46945d9797b67/sentencepiece-0.1.95-cp36-cp36m-manylinux2014_x86_64.whl (1.2MB)\n",
            "\u001b[K     |████████████████████████████████| 1.2MB 54.3MB/s \n",
            "\u001b[?25hRequirement already satisfied: pyparsing>=2.1.4 in /usr/local/lib/python3.6/dist-packages (from pydot) (2.4.7)\n",
            "Requirement already satisfied: google-auth>=1.4.1 in /usr/local/lib/python3.6/dist-packages (from google-api-python-client>=1.6.7->tf-models-official) (1.25.0)\n",
            "Requirement already satisfied: httplib2<1dev,>=0.17.0 in /usr/local/lib/python3.6/dist-packages (from google-api-python-client>=1.6.7->tf-models-official) (0.17.4)\n",
            "Requirement already satisfied: uritemplate<4dev,>=3.0.0 in /usr/local/lib/python3.6/dist-packages (from google-api-python-client>=1.6.7->tf-models-official) (3.0.1)\n",
            "Requirement already satisfied: google-auth-httplib2>=0.0.3 in /usr/local/lib/python3.6/dist-packages (from google-api-python-client>=1.6.7->tf-models-official) (0.0.4)\n",
            "Requirement already satisfied: python-dateutil>=2.7.3 in /usr/local/lib/python3.6/dist-packages (from pandas>=0.22.0->tf-models-official) (2.8.1)\n",
            "Requirement already satisfied: pytz>=2017.2 in /usr/local/lib/python3.6/dist-packages (from pandas>=0.22.0->tf-models-official) (2018.9)\n",
            "Requirement already satisfied: typeguard>=2.7 in /usr/local/lib/python3.6/dist-packages (from tensorflow-addons->tf-models-official) (2.7.1)\n",
            "Requirement already satisfied: protobuf>=3.6.0 in /usr/local/lib/python3.6/dist-packages (from google-cloud-bigquery>=0.31.0->tf-models-official) (3.12.4)\n",
            "Requirement already satisfied: google-resumable-media!=0.4.0,<0.5.0dev,>=0.3.1 in /usr/local/lib/python3.6/dist-packages (from google-cloud-bigquery>=0.31.0->tf-models-official) (0.4.1)\n",
            "Requirement already satisfied: google-cloud-core<2.0dev,>=1.0.3 in /usr/local/lib/python3.6/dist-packages (from google-cloud-bigquery>=0.31.0->tf-models-official) (1.0.3)\n",
            "Requirement already satisfied: dm-tree~=0.1.1 in /usr/local/lib/python3.6/dist-packages (from tensorflow-model-optimization>=0.4.1->tf-models-official) (0.1.5)\n",
            "Requirement already satisfied: google-pasta~=0.2 in /usr/local/lib/python3.6/dist-packages (from tensorflow>=2.4.0->tf-models-official) (0.2.0)\n",
            "Requirement already satisfied: flatbuffers~=1.12.0 in /usr/local/lib/python3.6/dist-packages (from tensorflow>=2.4.0->tf-models-official) (1.12)\n",
            "Requirement already satisfied: astunparse~=1.6.3 in /usr/local/lib/python3.6/dist-packages (from tensorflow>=2.4.0->tf-models-official) (1.6.3)\n",
            "Requirement already satisfied: gast==0.3.3 in /usr/local/lib/python3.6/dist-packages (from tensorflow>=2.4.0->tf-models-official) (0.3.3)\n",
            "Requirement already satisfied: wheel~=0.35 in /usr/local/lib/python3.6/dist-packages (from tensorflow>=2.4.0->tf-models-official) (0.36.2)\n",
            "Requirement already satisfied: typing-extensions~=3.7.4 in /usr/local/lib/python3.6/dist-packages (from tensorflow>=2.4.0->tf-models-official) (3.7.4.3)\n",
            "Requirement already satisfied: tensorboard~=2.4 in /usr/local/lib/python3.6/dist-packages (from tensorflow>=2.4.0->tf-models-official) (2.4.1)\n",
            "Requirement already satisfied: tensorflow-estimator<2.5.0,>=2.4.0 in /usr/local/lib/python3.6/dist-packages (from tensorflow>=2.4.0->tf-models-official) (2.4.0)\n",
            "Requirement already satisfied: grpcio~=1.32.0 in /usr/local/lib/python3.6/dist-packages (from tensorflow>=2.4.0->tf-models-official) (1.32.0)\n",
            "Requirement already satisfied: opt-einsum~=3.3.0 in /usr/local/lib/python3.6/dist-packages (from tensorflow>=2.4.0->tf-models-official) (3.3.0)\n",
            "Requirement already satisfied: wrapt~=1.12.1 in /usr/local/lib/python3.6/dist-packages (from tensorflow>=2.4.0->tf-models-official) (1.12.1)\n",
            "Requirement already satisfied: termcolor~=1.1.0 in /usr/local/lib/python3.6/dist-packages (from tensorflow>=2.4.0->tf-models-official) (1.1.0)\n",
            "Requirement already satisfied: absl-py~=0.10 in /usr/local/lib/python3.6/dist-packages (from tensorflow>=2.4.0->tf-models-official) (0.10.0)\n",
            "Requirement already satisfied: keras-preprocessing~=1.1.2 in /usr/local/lib/python3.6/dist-packages (from tensorflow>=2.4.0->tf-models-official) (1.1.2)\n",
            "Requirement already satisfied: cycler>=0.10 in /usr/local/lib/python3.6/dist-packages (from matplotlib->tf-models-official) (0.10.0)\n",
            "Requirement already satisfied: kiwisolver>=1.0.1 in /usr/local/lib/python3.6/dist-packages (from matplotlib->tf-models-official) (1.3.1)\n",
            "Requirement already satisfied: pyasn1>=0.1.7 in /usr/local/lib/python3.6/dist-packages (from oauth2client->tf-models-official) (0.4.8)\n",
            "Requirement already satisfied: pyasn1-modules>=0.0.5 in /usr/local/lib/python3.6/dist-packages (from oauth2client->tf-models-official) (0.2.8)\n",
            "Requirement already satisfied: rsa>=3.1.4 in /usr/local/lib/python3.6/dist-packages (from oauth2client->tf-models-official) (4.7)\n",
            "Requirement already satisfied: scikit-learn>=0.21.3 in /usr/local/lib/python3.6/dist-packages (from seqeval->tf-models-official) (0.22.2.post1)\n",
            "Requirement already satisfied: tqdm in /usr/local/lib/python3.6/dist-packages (from tensorflow-datasets->tf-models-official) (4.41.1)\n",
            "Requirement already satisfied: promise in /usr/local/lib/python3.6/dist-packages (from tensorflow-datasets->tf-models-official) (2.3)\n",
            "Requirement already satisfied: future in /usr/local/lib/python3.6/dist-packages (from tensorflow-datasets->tf-models-official) (0.16.0)\n",
            "Requirement already satisfied: tensorflow-metadata in /usr/local/lib/python3.6/dist-packages (from tensorflow-datasets->tf-models-official) (0.27.0)\n",
            "Requirement already satisfied: requests>=2.19.0 in /usr/local/lib/python3.6/dist-packages (from tensorflow-datasets->tf-models-official) (2.23.0)\n",
            "Requirement already satisfied: importlib-resources; python_version < \"3.9\" in /usr/local/lib/python3.6/dist-packages (from tensorflow-datasets->tf-models-official) (5.1.0)\n",
            "Requirement already satisfied: attrs>=18.1.0 in /usr/local/lib/python3.6/dist-packages (from tensorflow-datasets->tf-models-official) (20.3.0)\n",
            "Requirement already satisfied: dill in /usr/local/lib/python3.6/dist-packages (from tensorflow-datasets->tf-models-official) (0.3.3)\n",
            "Requirement already satisfied: certifi in /usr/local/lib/python3.6/dist-packages (from kaggle>=1.3.9->tf-models-official) (2020.12.5)\n",
            "Requirement already satisfied: urllib3 in /usr/local/lib/python3.6/dist-packages (from kaggle>=1.3.9->tf-models-official) (1.24.3)\n",
            "Requirement already satisfied: python-slugify in /usr/local/lib/python3.6/dist-packages (from kaggle>=1.3.9->tf-models-official) (4.0.1)\n",
            "Requirement already satisfied: setuptools>=18.0 in /usr/local/lib/python3.6/dist-packages (from pycocotools->tf-models-official) (53.0.0)\n",
            "Requirement already satisfied: cachetools<5.0,>=2.0.0 in /usr/local/lib/python3.6/dist-packages (from google-auth>=1.4.1->google-api-python-client>=1.6.7->tf-models-official) (4.2.1)\n",
            "Requirement already satisfied: google-api-core<2.0.0dev,>=1.14.0 in /usr/local/lib/python3.6/dist-packages (from google-cloud-core<2.0dev,>=1.0.3->google-cloud-bigquery>=0.31.0->tf-models-official) (1.16.0)\n",
            "Requirement already satisfied: markdown>=2.6.8 in /usr/local/lib/python3.6/dist-packages (from tensorboard~=2.4->tensorflow>=2.4.0->tf-models-official) (3.3.3)\n",
            "Requirement already satisfied: google-auth-oauthlib<0.5,>=0.4.1 in /usr/local/lib/python3.6/dist-packages (from tensorboard~=2.4->tensorflow>=2.4.0->tf-models-official) (0.4.2)\n",
            "Requirement already satisfied: tensorboard-plugin-wit>=1.6.0 in /usr/local/lib/python3.6/dist-packages (from tensorboard~=2.4->tensorflow>=2.4.0->tf-models-official) (1.8.0)\n",
            "Requirement already satisfied: werkzeug>=0.11.15 in /usr/local/lib/python3.6/dist-packages (from tensorboard~=2.4->tensorflow>=2.4.0->tf-models-official) (1.0.1)\n",
            "Requirement already satisfied: joblib>=0.11 in /usr/local/lib/python3.6/dist-packages (from scikit-learn>=0.21.3->seqeval->tf-models-official) (1.0.0)\n",
            "Requirement already satisfied: googleapis-common-protos<2,>=1.52.0 in /usr/local/lib/python3.6/dist-packages (from tensorflow-metadata->tensorflow-datasets->tf-models-official) (1.52.0)\n",
            "Requirement already satisfied: chardet<4,>=3.0.2 in /usr/local/lib/python3.6/dist-packages (from requests>=2.19.0->tensorflow-datasets->tf-models-official) (3.0.4)\n",
            "Requirement already satisfied: idna<3,>=2.5 in /usr/local/lib/python3.6/dist-packages (from requests>=2.19.0->tensorflow-datasets->tf-models-official) (2.10)\n",
            "Requirement already satisfied: zipp>=0.4; python_version < \"3.8\" in /usr/local/lib/python3.6/dist-packages (from importlib-resources; python_version < \"3.9\"->tensorflow-datasets->tf-models-official) (3.4.0)\n",
            "Requirement already satisfied: text-unidecode>=1.3 in /usr/local/lib/python3.6/dist-packages (from python-slugify->kaggle>=1.3.9->tf-models-official) (1.3)\n",
            "Requirement already satisfied: importlib-metadata; python_version < \"3.8\" in /usr/local/lib/python3.6/dist-packages (from markdown>=2.6.8->tensorboard~=2.4->tensorflow>=2.4.0->tf-models-official) (3.4.0)\n",
            "Requirement already satisfied: requests-oauthlib>=0.7.0 in /usr/local/lib/python3.6/dist-packages (from google-auth-oauthlib<0.5,>=0.4.1->tensorboard~=2.4->tensorflow>=2.4.0->tf-models-official) (1.3.0)\n",
            "Requirement already satisfied: oauthlib>=3.0.0 in /usr/local/lib/python3.6/dist-packages (from requests-oauthlib>=0.7.0->google-auth-oauthlib<0.5,>=0.4.1->tensorboard~=2.4->tensorflow>=2.4.0->tf-models-official) (3.1.0)\n",
            "Building wheels for collected packages: py-cpuinfo, seqeval\n",
            "  Building wheel for py-cpuinfo (setup.py) ... \u001b[?25l\u001b[?25hdone\n",
            "  Created wheel for py-cpuinfo: filename=py_cpuinfo-7.0.0-cp36-none-any.whl size=20072 sha256=c69d86253abf364622738451d57782667de3bb606bbf31bd10b33e84ba1c0a67\n",
            "  Stored in directory: /root/.cache/pip/wheels/f1/93/7b/127daf0c3a5a49feb2fecd468d508067c733fba5192f726ad1\n",
            "  Building wheel for seqeval (setup.py) ... \u001b[?25l\u001b[?25hdone\n",
            "  Created wheel for seqeval: filename=seqeval-1.2.2-cp36-none-any.whl size=16171 sha256=01f166ed4161962c4184f8adb6ee7d5033b75a1d8288f8a698e4fa51b5966ec2\n",
            "  Stored in directory: /root/.cache/pip/wheels/52/df/1b/45d75646c37428f7e626214704a0e35bd3cfc32eda37e59e5f\n",
            "Successfully built py-cpuinfo seqeval\n",
            "\u001b[31mERROR: tf-models-official 2.4.0 has requirement pyyaml>=5.1, but you'll have pyyaml 3.13 which is incompatible.\u001b[0m\n",
            "Installing collected packages: tensorflow-addons, tensorflow-model-optimization, py-cpuinfo, seqeval, opencv-python-headless, tf-slim, sentencepiece, tf-models-official\n",
            "Successfully installed opencv-python-headless-4.5.1.48 py-cpuinfo-7.0.0 sentencepiece-0.1.95 seqeval-1.2.2 tensorflow-addons-0.12.1 tensorflow-model-optimization-0.5.0 tf-models-official-2.4.0 tf-slim-1.1.0\n",
            "ERROR: unknown command \"package\"\n"
          ],
          "name": "stdout"
        }
      ]
    },
    {
      "cell_type": "code",
      "metadata": {
        "colab": {
          "base_uri": "https://localhost:8080/"
        },
        "id": "IJ15xevJU9kd",
        "outputId": "869b60db-d8e3-4375-ee45-9e2922f5b1f4"
      },
      "source": [
        "import os\n",
        "\n",
        "import numpy as np\n",
        "import pandas as pd\n",
        "\n",
        "import tensorflow as tf\n",
        "import tensorflow_hub as hub\n",
        "\n",
        "from keras.utils import np_utils\n",
        "\n",
        "import official.nlp.bert.bert_models\n",
        "import official.nlp.bert.configs\n",
        "import official.nlp.bert.run_classifier\n",
        "import official.nlp.bert.tokenization as tokenization\n",
        "\n",
        "from official.modeling import tf_utils\n",
        "from official import nlp\n",
        "from official.nlp import bert\n",
        "\n",
        "from sklearn.model_selection import train_test_split\n",
        "from sklearn.preprocessing import LabelEncoder\n",
        "\n",
        "import matplotlib.pyplot as plt\n",
        "\n",
        "gpus = tf.config.experimental.list_physical_devices('GPU')\n",
        "if gpus:\n",
        "  try:\n",
        "    # Currently, memory growth needs to be the same across GPUs\n",
        "    for gpu in gpus:\n",
        "      tf.config.experimental.set_memory_growth(gpu, True)\n",
        "    logical_gpus = tf.config.experimental.list_logical_devices('GPU')\n",
        "    print(len(gpus), \"Physical GPUs,\", len(logical_gpus), \"Logical GPUs\")\n",
        "  except RuntimeError as e:\n",
        "    # Memory growth must be set before GPUs have been initialized\n",
        "    print(e)\n",
        "\n",
        "print(\"Version: \", tf.__version__)\n",
        "print(\"Eager mode: \", tf.executing_eagerly())\n",
        "print(\"Hub version: \", hub.__version__)\n",
        "print(\"GPU is\", \"available\" if tf.config.list_physical_devices('GPU') else \"NOT AVAILABLE\")"
      ],
      "execution_count": 3,
      "outputs": [
        {
          "output_type": "stream",
          "text": [
            "1 Physical GPUs, 1 Logical GPUs\n",
            "Version:  2.4.1\n",
            "Eager mode:  True\n",
            "Hub version:  0.11.0\n",
            "GPU is available\n"
          ],
          "name": "stdout"
        }
      ]
    },
    {
      "cell_type": "code",
      "metadata": {
        "colab": {
          "base_uri": "https://localhost:8080/"
        },
        "id": "uiFPqo6jX01P",
        "outputId": "186c9e26-02fc-483e-8e75-b2ea5b0b74e4"
      },
      "source": [
        "!pip install transformers"
      ],
      "execution_count": 5,
      "outputs": [
        {
          "output_type": "stream",
          "text": [
            "Collecting transformers\n",
            "\u001b[?25l  Downloading https://files.pythonhosted.org/packages/98/87/ef312eef26f5cecd8b17ae9654cdd8d1fae1eb6dbd87257d6d73c128a4d0/transformers-4.3.2-py3-none-any.whl (1.8MB)\n",
            "\r\u001b[K     |▏                               | 10kB 22.7MB/s eta 0:00:01\r\u001b[K     |▍                               | 20kB 19.4MB/s eta 0:00:01\r\u001b[K     |▌                               | 30kB 14.8MB/s eta 0:00:01\r\u001b[K     |▊                               | 40kB 13.5MB/s eta 0:00:01\r\u001b[K     |█                               | 51kB 8.5MB/s eta 0:00:01\r\u001b[K     |█                               | 61kB 8.0MB/s eta 0:00:01\r\u001b[K     |█▎                              | 71kB 9.1MB/s eta 0:00:01\r\u001b[K     |█▌                              | 81kB 10.0MB/s eta 0:00:01\r\u001b[K     |█▋                              | 92kB 9.2MB/s eta 0:00:01\r\u001b[K     |█▉                              | 102kB 8.1MB/s eta 0:00:01\r\u001b[K     |██                              | 112kB 8.1MB/s eta 0:00:01\r\u001b[K     |██▏                             | 122kB 8.1MB/s eta 0:00:01\r\u001b[K     |██▍                             | 133kB 8.1MB/s eta 0:00:01\r\u001b[K     |██▌                             | 143kB 8.1MB/s eta 0:00:01\r\u001b[K     |██▊                             | 153kB 8.1MB/s eta 0:00:01\r\u001b[K     |███                             | 163kB 8.1MB/s eta 0:00:01\r\u001b[K     |███                             | 174kB 8.1MB/s eta 0:00:01\r\u001b[K     |███▎                            | 184kB 8.1MB/s eta 0:00:01\r\u001b[K     |███▍                            | 194kB 8.1MB/s eta 0:00:01\r\u001b[K     |███▋                            | 204kB 8.1MB/s eta 0:00:01\r\u001b[K     |███▉                            | 215kB 8.1MB/s eta 0:00:01\r\u001b[K     |████                            | 225kB 8.1MB/s eta 0:00:01\r\u001b[K     |████▏                           | 235kB 8.1MB/s eta 0:00:01\r\u001b[K     |████▍                           | 245kB 8.1MB/s eta 0:00:01\r\u001b[K     |████▌                           | 256kB 8.1MB/s eta 0:00:01\r\u001b[K     |████▊                           | 266kB 8.1MB/s eta 0:00:01\r\u001b[K     |████▉                           | 276kB 8.1MB/s eta 0:00:01\r\u001b[K     |█████                           | 286kB 8.1MB/s eta 0:00:01\r\u001b[K     |█████▎                          | 296kB 8.1MB/s eta 0:00:01\r\u001b[K     |█████▍                          | 307kB 8.1MB/s eta 0:00:01\r\u001b[K     |█████▋                          | 317kB 8.1MB/s eta 0:00:01\r\u001b[K     |█████▉                          | 327kB 8.1MB/s eta 0:00:01\r\u001b[K     |██████                          | 337kB 8.1MB/s eta 0:00:01\r\u001b[K     |██████▏                         | 348kB 8.1MB/s eta 0:00:01\r\u001b[K     |██████▎                         | 358kB 8.1MB/s eta 0:00:01\r\u001b[K     |██████▌                         | 368kB 8.1MB/s eta 0:00:01\r\u001b[K     |██████▊                         | 378kB 8.1MB/s eta 0:00:01\r\u001b[K     |██████▉                         | 389kB 8.1MB/s eta 0:00:01\r\u001b[K     |███████                         | 399kB 8.1MB/s eta 0:00:01\r\u001b[K     |███████▎                        | 409kB 8.1MB/s eta 0:00:01\r\u001b[K     |███████▍                        | 419kB 8.1MB/s eta 0:00:01\r\u001b[K     |███████▋                        | 430kB 8.1MB/s eta 0:00:01\r\u001b[K     |███████▉                        | 440kB 8.1MB/s eta 0:00:01\r\u001b[K     |████████                        | 450kB 8.1MB/s eta 0:00:01\r\u001b[K     |████████▏                       | 460kB 8.1MB/s eta 0:00:01\r\u001b[K     |████████▎                       | 471kB 8.1MB/s eta 0:00:01\r\u001b[K     |████████▌                       | 481kB 8.1MB/s eta 0:00:01\r\u001b[K     |████████▊                       | 491kB 8.1MB/s eta 0:00:01\r\u001b[K     |████████▉                       | 501kB 8.1MB/s eta 0:00:01\r\u001b[K     |█████████                       | 512kB 8.1MB/s eta 0:00:01\r\u001b[K     |█████████▎                      | 522kB 8.1MB/s eta 0:00:01\r\u001b[K     |█████████▍                      | 532kB 8.1MB/s eta 0:00:01\r\u001b[K     |█████████▋                      | 542kB 8.1MB/s eta 0:00:01\r\u001b[K     |█████████▊                      | 552kB 8.1MB/s eta 0:00:01\r\u001b[K     |██████████                      | 563kB 8.1MB/s eta 0:00:01\r\u001b[K     |██████████▏                     | 573kB 8.1MB/s eta 0:00:01\r\u001b[K     |██████████▎                     | 583kB 8.1MB/s eta 0:00:01\r\u001b[K     |██████████▌                     | 593kB 8.1MB/s eta 0:00:01\r\u001b[K     |██████████▊                     | 604kB 8.1MB/s eta 0:00:01\r\u001b[K     |██████████▉                     | 614kB 8.1MB/s eta 0:00:01\r\u001b[K     |███████████                     | 624kB 8.1MB/s eta 0:00:01\r\u001b[K     |███████████▏                    | 634kB 8.1MB/s eta 0:00:01\r\u001b[K     |███████████▍                    | 645kB 8.1MB/s eta 0:00:01\r\u001b[K     |███████████▋                    | 655kB 8.1MB/s eta 0:00:01\r\u001b[K     |███████████▊                    | 665kB 8.1MB/s eta 0:00:01\r\u001b[K     |████████████                    | 675kB 8.1MB/s eta 0:00:01\r\u001b[K     |████████████▏                   | 686kB 8.1MB/s eta 0:00:01\r\u001b[K     |████████████▎                   | 696kB 8.1MB/s eta 0:00:01\r\u001b[K     |████████████▌                   | 706kB 8.1MB/s eta 0:00:01\r\u001b[K     |████████████▋                   | 716kB 8.1MB/s eta 0:00:01\r\u001b[K     |████████████▉                   | 727kB 8.1MB/s eta 0:00:01\r\u001b[K     |█████████████                   | 737kB 8.1MB/s eta 0:00:01\r\u001b[K     |█████████████▏                  | 747kB 8.1MB/s eta 0:00:01\r\u001b[K     |█████████████▍                  | 757kB 8.1MB/s eta 0:00:01\r\u001b[K     |█████████████▋                  | 768kB 8.1MB/s eta 0:00:01\r\u001b[K     |█████████████▊                  | 778kB 8.1MB/s eta 0:00:01\r\u001b[K     |██████████████                  | 788kB 8.1MB/s eta 0:00:01\r\u001b[K     |██████████████▏                 | 798kB 8.1MB/s eta 0:00:01\r\u001b[K     |██████████████▎                 | 808kB 8.1MB/s eta 0:00:01\r\u001b[K     |██████████████▌                 | 819kB 8.1MB/s eta 0:00:01\r\u001b[K     |██████████████▋                 | 829kB 8.1MB/s eta 0:00:01\r\u001b[K     |██████████████▉                 | 839kB 8.1MB/s eta 0:00:01\r\u001b[K     |███████████████                 | 849kB 8.1MB/s eta 0:00:01\r\u001b[K     |███████████████▏                | 860kB 8.1MB/s eta 0:00:01\r\u001b[K     |███████████████▍                | 870kB 8.1MB/s eta 0:00:01\r\u001b[K     |███████████████▋                | 880kB 8.1MB/s eta 0:00:01\r\u001b[K     |███████████████▊                | 890kB 8.1MB/s eta 0:00:01\r\u001b[K     |████████████████                | 901kB 8.1MB/s eta 0:00:01\r\u001b[K     |████████████████                | 911kB 8.1MB/s eta 0:00:01\r\u001b[K     |████████████████▎               | 921kB 8.1MB/s eta 0:00:01\r\u001b[K     |████████████████▌               | 931kB 8.1MB/s eta 0:00:01\r\u001b[K     |████████████████▋               | 942kB 8.1MB/s eta 0:00:01\r\u001b[K     |████████████████▉               | 952kB 8.1MB/s eta 0:00:01\r\u001b[K     |█████████████████               | 962kB 8.1MB/s eta 0:00:01\r\u001b[K     |█████████████████▏              | 972kB 8.1MB/s eta 0:00:01\r\u001b[K     |█████████████████▍              | 983kB 8.1MB/s eta 0:00:01\r\u001b[K     |█████████████████▌              | 993kB 8.1MB/s eta 0:00:01\r\u001b[K     |█████████████████▊              | 1.0MB 8.1MB/s eta 0:00:01\r\u001b[K     |██████████████████              | 1.0MB 8.1MB/s eta 0:00:01\r\u001b[K     |██████████████████              | 1.0MB 8.1MB/s eta 0:00:01\r\u001b[K     |██████████████████▎             | 1.0MB 8.1MB/s eta 0:00:01\r\u001b[K     |██████████████████▌             | 1.0MB 8.1MB/s eta 0:00:01\r\u001b[K     |██████████████████▋             | 1.1MB 8.1MB/s eta 0:00:01\r\u001b[K     |██████████████████▉             | 1.1MB 8.1MB/s eta 0:00:01\r\u001b[K     |███████████████████             | 1.1MB 8.1MB/s eta 0:00:01\r\u001b[K     |███████████████████▏            | 1.1MB 8.1MB/s eta 0:00:01\r\u001b[K     |███████████████████▍            | 1.1MB 8.1MB/s eta 0:00:01\r\u001b[K     |███████████████████▌            | 1.1MB 8.1MB/s eta 0:00:01\r\u001b[K     |███████████████████▊            | 1.1MB 8.1MB/s eta 0:00:01\r\u001b[K     |████████████████████            | 1.1MB 8.1MB/s eta 0:00:01\r\u001b[K     |████████████████████            | 1.1MB 8.1MB/s eta 0:00:01\r\u001b[K     |████████████████████▎           | 1.1MB 8.1MB/s eta 0:00:01\r\u001b[K     |████████████████████▌           | 1.2MB 8.1MB/s eta 0:00:01\r\u001b[K     |████████████████████▋           | 1.2MB 8.1MB/s eta 0:00:01\r\u001b[K     |████████████████████▉           | 1.2MB 8.1MB/s eta 0:00:01\r\u001b[K     |█████████████████████           | 1.2MB 8.1MB/s eta 0:00:01\r\u001b[K     |█████████████████████▏          | 1.2MB 8.1MB/s eta 0:00:01\r\u001b[K     |█████████████████████▍          | 1.2MB 8.1MB/s eta 0:00:01\r\u001b[K     |█████████████████████▌          | 1.2MB 8.1MB/s eta 0:00:01\r\u001b[K     |█████████████████████▊          | 1.2MB 8.1MB/s eta 0:00:01\r\u001b[K     |██████████████████████          | 1.2MB 8.1MB/s eta 0:00:01\r\u001b[K     |██████████████████████          | 1.2MB 8.1MB/s eta 0:00:01\r\u001b[K     |██████████████████████▎         | 1.3MB 8.1MB/s eta 0:00:01\r\u001b[K     |██████████████████████▍         | 1.3MB 8.1MB/s eta 0:00:01\r\u001b[K     |██████████████████████▋         | 1.3MB 8.1MB/s eta 0:00:01\r\u001b[K     |██████████████████████▉         | 1.3MB 8.1MB/s eta 0:00:01\r\u001b[K     |███████████████████████         | 1.3MB 8.1MB/s eta 0:00:01\r\u001b[K     |███████████████████████▏        | 1.3MB 8.1MB/s eta 0:00:01\r\u001b[K     |███████████████████████▍        | 1.3MB 8.1MB/s eta 0:00:01\r\u001b[K     |███████████████████████▌        | 1.3MB 8.1MB/s eta 0:00:01\r\u001b[K     |███████████████████████▊        | 1.3MB 8.1MB/s eta 0:00:01\r\u001b[K     |███████████████████████▉        | 1.4MB 8.1MB/s eta 0:00:01\r\u001b[K     |████████████████████████        | 1.4MB 8.1MB/s eta 0:00:01\r\u001b[K     |████████████████████████▎       | 1.4MB 8.1MB/s eta 0:00:01\r\u001b[K     |████████████████████████▍       | 1.4MB 8.1MB/s eta 0:00:01\r\u001b[K     |████████████████████████▋       | 1.4MB 8.1MB/s eta 0:00:01\r\u001b[K     |████████████████████████▉       | 1.4MB 8.1MB/s eta 0:00:01\r\u001b[K     |█████████████████████████       | 1.4MB 8.1MB/s eta 0:00:01\r\u001b[K     |█████████████████████████▏      | 1.4MB 8.1MB/s eta 0:00:01\r\u001b[K     |█████████████████████████▎      | 1.4MB 8.1MB/s eta 0:00:01\r\u001b[K     |█████████████████████████▌      | 1.4MB 8.1MB/s eta 0:00:01\r\u001b[K     |█████████████████████████▊      | 1.5MB 8.1MB/s eta 0:00:01\r\u001b[K     |█████████████████████████▉      | 1.5MB 8.1MB/s eta 0:00:01\r\u001b[K     |██████████████████████████      | 1.5MB 8.1MB/s eta 0:00:01\r\u001b[K     |██████████████████████████▎     | 1.5MB 8.1MB/s eta 0:00:01\r\u001b[K     |██████████████████████████▍     | 1.5MB 8.1MB/s eta 0:00:01\r\u001b[K     |██████████████████████████▋     | 1.5MB 8.1MB/s eta 0:00:01\r\u001b[K     |██████████████████████████▉     | 1.5MB 8.1MB/s eta 0:00:01\r\u001b[K     |███████████████████████████     | 1.5MB 8.1MB/s eta 0:00:01\r\u001b[K     |███████████████████████████▏    | 1.5MB 8.1MB/s eta 0:00:01\r\u001b[K     |███████████████████████████▎    | 1.5MB 8.1MB/s eta 0:00:01\r\u001b[K     |███████████████████████████▌    | 1.6MB 8.1MB/s eta 0:00:01\r\u001b[K     |███████████████████████████▊    | 1.6MB 8.1MB/s eta 0:00:01\r\u001b[K     |███████████████████████████▉    | 1.6MB 8.1MB/s eta 0:00:01\r\u001b[K     |████████████████████████████    | 1.6MB 8.1MB/s eta 0:00:01\r\u001b[K     |████████████████████████████▎   | 1.6MB 8.1MB/s eta 0:00:01\r\u001b[K     |████████████████████████████▍   | 1.6MB 8.1MB/s eta 0:00:01\r\u001b[K     |████████████████████████████▋   | 1.6MB 8.1MB/s eta 0:00:01\r\u001b[K     |████████████████████████████▊   | 1.6MB 8.1MB/s eta 0:00:01\r\u001b[K     |█████████████████████████████   | 1.6MB 8.1MB/s eta 0:00:01\r\u001b[K     |█████████████████████████████▏  | 1.6MB 8.1MB/s eta 0:00:01\r\u001b[K     |█████████████████████████████▎  | 1.7MB 8.1MB/s eta 0:00:01\r\u001b[K     |█████████████████████████████▌  | 1.7MB 8.1MB/s eta 0:00:01\r\u001b[K     |█████████████████████████████▊  | 1.7MB 8.1MB/s eta 0:00:01\r\u001b[K     |█████████████████████████████▉  | 1.7MB 8.1MB/s eta 0:00:01\r\u001b[K     |██████████████████████████████  | 1.7MB 8.1MB/s eta 0:00:01\r\u001b[K     |██████████████████████████████▏ | 1.7MB 8.1MB/s eta 0:00:01\r\u001b[K     |██████████████████████████████▍ | 1.7MB 8.1MB/s eta 0:00:01\r\u001b[K     |██████████████████████████████▋ | 1.7MB 8.1MB/s eta 0:00:01\r\u001b[K     |██████████████████████████████▊ | 1.7MB 8.1MB/s eta 0:00:01\r\u001b[K     |███████████████████████████████ | 1.8MB 8.1MB/s eta 0:00:01\r\u001b[K     |███████████████████████████████▏| 1.8MB 8.1MB/s eta 0:00:01\r\u001b[K     |███████████████████████████████▎| 1.8MB 8.1MB/s eta 0:00:01\r\u001b[K     |███████████████████████████████▌| 1.8MB 8.1MB/s eta 0:00:01\r\u001b[K     |███████████████████████████████▋| 1.8MB 8.1MB/s eta 0:00:01\r\u001b[K     |███████████████████████████████▉| 1.8MB 8.1MB/s eta 0:00:01\r\u001b[K     |████████████████████████████████| 1.8MB 8.1MB/s \n",
            "\u001b[?25hRequirement already satisfied: requests in /usr/local/lib/python3.6/dist-packages (from transformers) (2.23.0)\n",
            "Requirement already satisfied: packaging in /usr/local/lib/python3.6/dist-packages (from transformers) (20.9)\n",
            "Requirement already satisfied: numpy>=1.17 in /usr/local/lib/python3.6/dist-packages (from transformers) (1.19.5)\n",
            "Requirement already satisfied: filelock in /usr/local/lib/python3.6/dist-packages (from transformers) (3.0.12)\n",
            "Requirement already satisfied: importlib-metadata; python_version < \"3.8\" in /usr/local/lib/python3.6/dist-packages (from transformers) (3.4.0)\n",
            "Requirement already satisfied: regex!=2019.12.17 in /usr/local/lib/python3.6/dist-packages (from transformers) (2019.12.20)\n",
            "Requirement already satisfied: dataclasses; python_version < \"3.7\" in /usr/local/lib/python3.6/dist-packages (from transformers) (0.8)\n",
            "Collecting tokenizers<0.11,>=0.10.1\n",
            "\u001b[?25l  Downloading https://files.pythonhosted.org/packages/fd/5b/44baae602e0a30bcc53fbdbc60bd940c15e143d252d658dfdefce736ece5/tokenizers-0.10.1-cp36-cp36m-manylinux2010_x86_64.whl (3.2MB)\n",
            "\u001b[K     |████████████████████████████████| 3.2MB 37.8MB/s \n",
            "\u001b[?25hCollecting sacremoses\n",
            "\u001b[?25l  Downloading https://files.pythonhosted.org/packages/7d/34/09d19aff26edcc8eb2a01bed8e98f13a1537005d31e95233fd48216eed10/sacremoses-0.0.43.tar.gz (883kB)\n",
            "\u001b[K     |████████████████████████████████| 890kB 75.1MB/s \n",
            "\u001b[?25hRequirement already satisfied: tqdm>=4.27 in /usr/local/lib/python3.6/dist-packages (from transformers) (4.41.1)\n",
            "Requirement already satisfied: urllib3!=1.25.0,!=1.25.1,<1.26,>=1.21.1 in /usr/local/lib/python3.6/dist-packages (from requests->transformers) (1.24.3)\n",
            "Requirement already satisfied: certifi>=2017.4.17 in /usr/local/lib/python3.6/dist-packages (from requests->transformers) (2020.12.5)\n",
            "Requirement already satisfied: chardet<4,>=3.0.2 in /usr/local/lib/python3.6/dist-packages (from requests->transformers) (3.0.4)\n",
            "Requirement already satisfied: idna<3,>=2.5 in /usr/local/lib/python3.6/dist-packages (from requests->transformers) (2.10)\n",
            "Requirement already satisfied: pyparsing>=2.0.2 in /usr/local/lib/python3.6/dist-packages (from packaging->transformers) (2.4.7)\n",
            "Requirement already satisfied: zipp>=0.5 in /usr/local/lib/python3.6/dist-packages (from importlib-metadata; python_version < \"3.8\"->transformers) (3.4.0)\n",
            "Requirement already satisfied: typing-extensions>=3.6.4; python_version < \"3.8\" in /usr/local/lib/python3.6/dist-packages (from importlib-metadata; python_version < \"3.8\"->transformers) (3.7.4.3)\n",
            "Requirement already satisfied: six in /usr/local/lib/python3.6/dist-packages (from sacremoses->transformers) (1.15.0)\n",
            "Requirement already satisfied: click in /usr/local/lib/python3.6/dist-packages (from sacremoses->transformers) (7.1.2)\n",
            "Requirement already satisfied: joblib in /usr/local/lib/python3.6/dist-packages (from sacremoses->transformers) (1.0.0)\n",
            "Building wheels for collected packages: sacremoses\n",
            "  Building wheel for sacremoses (setup.py) ... \u001b[?25l\u001b[?25hdone\n",
            "  Created wheel for sacremoses: filename=sacremoses-0.0.43-cp36-none-any.whl size=893261 sha256=8a4d3cbc9c6b4ded226ea0b8bfb7a4fb70ae80c47c737e5d0d8616ebe9a5717f\n",
            "  Stored in directory: /root/.cache/pip/wheels/29/3c/fd/7ce5c3f0666dab31a50123635e6fb5e19ceb42ce38d4e58f45\n",
            "Successfully built sacremoses\n",
            "Installing collected packages: tokenizers, sacremoses, transformers\n",
            "Successfully installed sacremoses-0.0.43 tokenizers-0.10.1 transformers-4.3.2\n"
          ],
          "name": "stdout"
        }
      ]
    },
    {
      "cell_type": "code",
      "metadata": {
        "id": "xg-44t_CVEzC"
      },
      "source": [
        "import numpy as np\n",
        "import pandas as pd\n",
        "from sklearn.model_selection import train_test_split\n",
        "from sklearn.linear_model import LogisticRegression\n",
        "from sklearn.model_selection import GridSearchCV\n",
        "from sklearn.model_selection import cross_val_score\n",
        "import torch\n",
        "import transformers as ppb\n",
        "import warnings\n",
        "warnings.filterwarnings('ignore')"
      ],
      "execution_count": 6,
      "outputs": []
    },
    {
      "cell_type": "code",
      "metadata": {
        "id": "QYX8c2SNXthR"
      },
      "source": [
        "df = pd.read_csv('https://github.com/clairett/pytorch-sentiment-classification/raw/master/data/SST2/train.tsv', delimiter='\\t', header=None)"
      ],
      "execution_count": 7,
      "outputs": []
    },
    {
      "cell_type": "code",
      "metadata": {
        "id": "04u78pSWX7a9"
      },
      "source": [
        "batch_1 = df[:2000]"
      ],
      "execution_count": 8,
      "outputs": []
    },
    {
      "cell_type": "code",
      "metadata": {
        "colab": {
          "base_uri": "https://localhost:8080/"
        },
        "id": "iGhYqQplX-Iz",
        "outputId": "8d25cfb7-42a1-46a5-f189-e92a192cbb50"
      },
      "source": [
        "batch_1[1].value_counts()"
      ],
      "execution_count": 9,
      "outputs": [
        {
          "output_type": "execute_result",
          "data": {
            "text/plain": [
              "1    1041\n",
              "0     959\n",
              "Name: 1, dtype: int64"
            ]
          },
          "metadata": {
            "tags": []
          },
          "execution_count": 9
        }
      ]
    },
    {
      "cell_type": "code",
      "metadata": {
        "colab": {
          "base_uri": "https://localhost:8080/",
          "height": 164,
          "referenced_widgets": [
            "44e3524d20a84ed7af76dff39249bb4e",
            "1321f2924eed4a07a9773e86c2a7edc1",
            "d419dda3a6f442a99e7105749c50a389",
            "1735abc3f4b848ba94c8667c7b7d1a3c",
            "1001592783234704b621531148ff4d8e",
            "821b533ce785467da87c7d91811fad0c",
            "f57f99cbfb4844a49c6f82d154caf1e5",
            "452f680779fd4370b07248f0ec8ad966",
            "ddde02c9b6004362803813da07c3b3cd",
            "ac4a3fdc9f8543a8bb546b48b0810a40",
            "10146343671e44fdb33c57be45f0264b",
            "f26d3a1ddc014a6fb3f5c64a295052ab",
            "bc1979aa9d4e4c8eba5a01c388f80a23",
            "137f4f49156e4462b398c1dc9b33e057",
            "9307666d649f4abbbc7b81904cf4df4c",
            "9bc4d2da8adc48feac03b9b9b8270426",
            "2f032badbeae4add97f796d387b9cca1",
            "7dda9af776ca43619efa608f2d68edb1",
            "9e163d3e46084e5b9b72acd96cbfbd1c",
            "1a4ac26130b44006a9bffde3993e0ec8",
            "2541ba71d9cc4beab8e17aebcc8e7d17",
            "a578f4dab1994192b672bae7a3edd4d8",
            "5f4949ccee354db7b384bdf0adc9765a",
            "1db7203420164cf2aafab963afafabb7"
          ]
        },
        "id": "V19C7l5qYAeE",
        "outputId": "6fbfec6c-6950-42bd-bb44-2afaf35faa1b"
      },
      "source": [
        "# For DistilBERT:\n",
        "model_class, tokenizer_class, pretrained_weights = (ppb.DistilBertModel, ppb.DistilBertTokenizer, 'distilbert-base-uncased')\n",
        "\n",
        "## Want BERT instead of distilBERT? Uncomment the following line:\n",
        "#model_class, tokenizer_class, pretrained_weights = (ppb.BertModel, ppb.BertTokenizer, 'bert-base-uncased')\n",
        "\n",
        "# Load pretrained model/tokenizer\n",
        "tokenizer = tokenizer_class.from_pretrained(pretrained_weights)\n",
        "model = model_class.from_pretrained(pretrained_weights)"
      ],
      "execution_count": 10,
      "outputs": [
        {
          "output_type": "display_data",
          "data": {
            "application/vnd.jupyter.widget-view+json": {
              "model_id": "44e3524d20a84ed7af76dff39249bb4e",
              "version_minor": 0,
              "version_major": 2
            },
            "text/plain": [
              "HBox(children=(FloatProgress(value=0.0, description='Downloading', max=231508.0, style=ProgressStyle(descripti…"
            ]
          },
          "metadata": {
            "tags": []
          }
        },
        {
          "output_type": "stream",
          "text": [
            "\n"
          ],
          "name": "stdout"
        },
        {
          "output_type": "display_data",
          "data": {
            "application/vnd.jupyter.widget-view+json": {
              "model_id": "ddde02c9b6004362803813da07c3b3cd",
              "version_minor": 0,
              "version_major": 2
            },
            "text/plain": [
              "HBox(children=(FloatProgress(value=0.0, description='Downloading', max=442.0, style=ProgressStyle(description_…"
            ]
          },
          "metadata": {
            "tags": []
          }
        },
        {
          "output_type": "stream",
          "text": [
            "\n"
          ],
          "name": "stdout"
        },
        {
          "output_type": "display_data",
          "data": {
            "application/vnd.jupyter.widget-view+json": {
              "model_id": "2f032badbeae4add97f796d387b9cca1",
              "version_minor": 0,
              "version_major": 2
            },
            "text/plain": [
              "HBox(children=(FloatProgress(value=0.0, description='Downloading', max=267967963.0, style=ProgressStyle(descri…"
            ]
          },
          "metadata": {
            "tags": []
          }
        },
        {
          "output_type": "stream",
          "text": [
            "\n"
          ],
          "name": "stdout"
        }
      ]
    },
    {
      "cell_type": "code",
      "metadata": {
        "id": "ePDQi1eIYMZn"
      },
      "source": [
        "tokenized = batch_1[0].apply((lambda x: tokenizer.encode(x, add_special_tokens=True)))"
      ],
      "execution_count": 12,
      "outputs": []
    },
    {
      "cell_type": "code",
      "metadata": {
        "colab": {
          "base_uri": "https://localhost:8080/"
        },
        "id": "5BVjJB5ZYPr3",
        "outputId": "c93265b6-2caa-4ff0-e697-fa9f2d365a62"
      },
      "source": [
        "tokenized"
      ],
      "execution_count": 14,
      "outputs": [
        {
          "output_type": "execute_result",
          "data": {
            "text/plain": [
              "0       [101, 1037, 18385, 1010, 6057, 1998, 2633, 182...\n",
              "1       [101, 4593, 2128, 27241, 23931, 2013, 1996, 62...\n",
              "2       [101, 2027, 3653, 23545, 2037, 4378, 24185, 10...\n",
              "3       [101, 2023, 2003, 1037, 17453, 14726, 19379, 1...\n",
              "4       [101, 5655, 6262, 1005, 1055, 12075, 2571, 376...\n",
              "                              ...                        \n",
              "1995    [101, 2205, 20857, 1998, 11865, 16643, 2135, 5...\n",
              "1996    [101, 2009, 2515, 1050, 1005, 1056, 2147, 2004...\n",
              "1997    [101, 2023, 2028, 8704, 2005, 1996, 11848, 199...\n",
              "1998    [101, 1999, 1996, 2171, 1997, 2019, 9382, 1898...\n",
              "1999    [101, 1996, 3185, 2003, 25757, 2011, 1037, 244...\n",
              "Name: 0, Length: 2000, dtype: object"
            ]
          },
          "metadata": {
            "tags": []
          },
          "execution_count": 14
        }
      ]
    },
    {
      "cell_type": "markdown",
      "metadata": {
        "id": "HwweA_PaYwZd"
      },
      "source": [
        "### Padding"
      ]
    },
    {
      "cell_type": "code",
      "metadata": {
        "id": "U8ob7M3EYvkH"
      },
      "source": [
        "max_len = 0\n",
        "for i in tokenized.values:\n",
        "    if len(i) > max_len:\n",
        "        max_len = len(i)\n",
        "\n",
        "padded = np.array([i + [0]*(max_len-len(i)) for i in tokenized.values])"
      ],
      "execution_count": 16,
      "outputs": []
    },
    {
      "cell_type": "code",
      "metadata": {
        "colab": {
          "base_uri": "https://localhost:8080/"
        },
        "id": "CoWgp2UKY29T",
        "outputId": "8e3dc5e2-2438-4afd-c57c-b014615b6cee"
      },
      "source": [
        "np.array(padded).shape"
      ],
      "execution_count": 17,
      "outputs": [
        {
          "output_type": "execute_result",
          "data": {
            "text/plain": [
              "(2000, 59)"
            ]
          },
          "metadata": {
            "tags": []
          },
          "execution_count": 17
        }
      ]
    },
    {
      "cell_type": "markdown",
      "metadata": {
        "id": "PTJ6D9QCY9nZ"
      },
      "source": [
        "### Masking"
      ]
    },
    {
      "cell_type": "code",
      "metadata": {
        "colab": {
          "base_uri": "https://localhost:8080/"
        },
        "id": "aksK8qstY5go",
        "outputId": "3e45ea4d-a427-432f-ccae-1a2ac048abd8"
      },
      "source": [
        "attention_mask = np.where(padded != 0, 1, 0)\n",
        "attention_mask.shape"
      ],
      "execution_count": 18,
      "outputs": [
        {
          "output_type": "execute_result",
          "data": {
            "text/plain": [
              "(2000, 59)"
            ]
          },
          "metadata": {
            "tags": []
          },
          "execution_count": 18
        }
      ]
    },
    {
      "cell_type": "markdown",
      "metadata": {
        "id": "25hW-kPKZIEY"
      },
      "source": [
        "### Model #1: And Now, Deep Learning!"
      ]
    },
    {
      "cell_type": "code",
      "metadata": {
        "id": "-jesbWsVZJjO"
      },
      "source": [
        "input_ids = torch.tensor(padded)  \n",
        "attention_mask = torch.tensor(attention_mask)\n",
        "\n",
        "with torch.no_grad():\n",
        "    last_hidden_states = model(input_ids, attention_mask=attention_mask)"
      ],
      "execution_count": 19,
      "outputs": []
    },
    {
      "cell_type": "code",
      "metadata": {
        "id": "9VrBqImfZNJ_"
      },
      "source": [
        "features = last_hidden_states[0][:,0,:].numpy()"
      ],
      "execution_count": 20,
      "outputs": []
    },
    {
      "cell_type": "code",
      "metadata": {
        "id": "Z__yrX1pZd9z"
      },
      "source": [
        "labels = batch_1[1]"
      ],
      "execution_count": 21,
      "outputs": []
    },
    {
      "cell_type": "markdown",
      "metadata": {
        "id": "yZ-kp3ypZjOp"
      },
      "source": [
        "### Model #2: Train/Test Split"
      ]
    },
    {
      "cell_type": "code",
      "metadata": {
        "id": "lxZILKUMZkyL"
      },
      "source": [
        "train_features, test_features, train_labels, test_labels = train_test_split(features, labels)"
      ],
      "execution_count": 22,
      "outputs": []
    },
    {
      "cell_type": "code",
      "metadata": {
        "colab": {
          "base_uri": "https://localhost:8080/"
        },
        "id": "cSZkuyXVZoXT",
        "outputId": "cb486dec-2923-4cf3-902e-5c9d0ed19d1f"
      },
      "source": [
        "lr_clf = LogisticRegression()\n",
        "lr_clf.fit(train_features, train_labels)"
      ],
      "execution_count": 23,
      "outputs": [
        {
          "output_type": "execute_result",
          "data": {
            "text/plain": [
              "LogisticRegression(C=1.0, class_weight=None, dual=False, fit_intercept=True,\n",
              "                   intercept_scaling=1, l1_ratio=None, max_iter=100,\n",
              "                   multi_class='auto', n_jobs=None, penalty='l2',\n",
              "                   random_state=None, solver='lbfgs', tol=0.0001, verbose=0,\n",
              "                   warm_start=False)"
            ]
          },
          "metadata": {
            "tags": []
          },
          "execution_count": 23
        }
      ]
    },
    {
      "cell_type": "code",
      "metadata": {
        "colab": {
          "base_uri": "https://localhost:8080/"
        },
        "id": "UoW5rg8zZs6B",
        "outputId": "4a80452c-c239-4e01-8db8-911296ac4ca2"
      },
      "source": [
        "lr_clf.score(test_features, test_labels)"
      ],
      "execution_count": 24,
      "outputs": [
        {
          "output_type": "execute_result",
          "data": {
            "text/plain": [
              "0.84"
            ]
          },
          "metadata": {
            "tags": []
          },
          "execution_count": 24
        }
      ]
    },
    {
      "cell_type": "code",
      "metadata": {
        "colab": {
          "base_uri": "https://localhost:8080/"
        },
        "id": "fIVrSYxaZvmd",
        "outputId": "28942a44-7299-47b7-9abe-f5bf389af6e0"
      },
      "source": [
        "from sklearn.dummy import DummyClassifier\n",
        "clf = DummyClassifier()\n",
        "\n",
        "scores = cross_val_score(clf, train_features, train_labels)\n",
        "print(\"Dummy classifier score: %0.3f (+/- %0.2f)\" % (scores.mean(), scores.std() * 2))"
      ],
      "execution_count": 25,
      "outputs": [
        {
          "output_type": "stream",
          "text": [
            "Dummy classifier score: 0.491 (+/- 0.04)\n"
          ],
          "name": "stdout"
        }
      ]
    },
    {
      "cell_type": "code",
      "metadata": {
        "id": "mEasbNZWZ5PA"
      },
      "source": [
        ""
      ],
      "execution_count": null,
      "outputs": []
    }
  ]
}