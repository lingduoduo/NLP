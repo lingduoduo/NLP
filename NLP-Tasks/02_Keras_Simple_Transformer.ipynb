{
  "cells": [
    {
      "cell_type": "markdown",
      "metadata": {
        "id": "tLVCUhJGjP3D"
      },
      "source": [
        "# Float8 training and inference with a simple Transformer model"
      ]
    },
    {
      "cell_type": "markdown",
      "metadata": {
        "id": "rPMOyvzqjP3D"
      },
      "source": [
        "## Introduction\n",
        "\n",
        "As the number of parameters in Transformer models continues to grow, training\n",
        "and inference become highly memory and compute-intensive. Therefore, 8-bit\n",
        "floating point (FP8) was introduced, offering improved performance over 16-bit\n",
        "floating point with nearly no degradation in accuracy.\n",
        "\n",
        "In detail, there are two distinct types of FP8: E4M3 and E5M2, useful in\n",
        "different parts of training.\n",
        "\n",
        "- E4M3: It consists of 1 sign bit, 4 exponent bits and 3 bits of mantissa. It\n",
        "can store values up to +/-448 and nan.\n",
        "- E5M2: It consists of 1 sign bit, 5 exponent bits and 2 bits of mantissa. It\n",
        "can store values up to +/-57344, +/-inf and nan. The tradeoff of the\n",
        "increased dynamic range is lower precision of the stored values.\n",
        "\n",
        "Typically, E4M3 is best used during the forward pass because activations and\n",
        "weights require more precision. In the backward pass, however, E5M2 is utilized\n",
        "because gradients are less susceptible to the loss of precision but require\n",
        "higher dynamic range.\n",
        "\n",
        "It is worth noting that FP8 inference deployment is greatly simplified, as\n",
        "inference and training use the same datatype. This is in contrast to INT8\n",
        "inference with networks trained in 32- or 16-bit floating point, which require\n",
        "post-training quantization (PTQ) calibration and even quantization-aware\n",
        "training (QAT) in order to maintain model accuracy.\n",
        "\n",
        "In this example, we will build a simple Transformer model and train it with\n",
        "both FP16 and FP8 precision. You will observe that the accuracy doesn't decrease\n",
        "with lower precision.\n",
        "\n",
        "Note: You will need a decent GPU with FP8 Tensor Cores support for the expected\n",
        "performance improvement."
      ]
    },
    {
      "cell_type": "markdown",
      "metadata": {
        "id": "uTLqLOSWjP3D"
      },
      "source": [
        "## Setup\n",
        "\n",
        "We will use KerasNLP library to simplify the model implementation. Additionally,\n",
        "use mixed precision training to reduce the training time.\n",
        "\n",
        "Note: The dependency on TensorFlow is only required for data processing."
      ]
    },
    {
      "cell_type": "code",
      "execution_count": 1,
      "metadata": {
        "colab": {
          "base_uri": "https://localhost:8080/"
        },
        "id": "Utd1It36jP3D",
        "outputId": "03e6dc7b-ed0c-46a8-899f-4e28f8d5da43"
      },
      "outputs": [
        {
          "name": "stdout",
          "output_type": "stream",
          "text": [
            "\u001b[2K     \u001b[90m━━━━━━━━━━━━━━━━━━━━━━━━━━━━━━━━━━━━━━━━\u001b[0m \u001b[32m570.5/570.5 kB\u001b[0m \u001b[31m3.8 MB/s\u001b[0m eta \u001b[36m0:00:00\u001b[0m\n",
            "\u001b[2K     \u001b[90m━━━━━━━━━━━━━━━━━━━━━━━━━━━━━━━━━━━━━━━━\u001b[0m \u001b[32m950.8/950.8 kB\u001b[0m \u001b[31m35.7 MB/s\u001b[0m eta \u001b[36m0:00:00\u001b[0m\n",
            "\u001b[2K     \u001b[90m━━━━━━━━━━━━━━━━━━━━━━━━━━━━━━━━━━━━━━━━\u001b[0m \u001b[32m5.2/5.2 MB\u001b[0m \u001b[31m48.8 MB/s\u001b[0m eta \u001b[36m0:00:00\u001b[0m\n",
            "\u001b[2K     \u001b[90m━━━━━━━━━━━━━━━━━━━━━━━━━━━━━━━━━━━━━━━━\u001b[0m \u001b[32m589.8/589.8 MB\u001b[0m \u001b[31m1.5 MB/s\u001b[0m eta \u001b[36m0:00:00\u001b[0m\n",
            "\u001b[2K     \u001b[90m━━━━━━━━━━━━━━━━━━━━━━━━━━━━━━━━━━━━━━━━\u001b[0m \u001b[32m5.3/5.3 MB\u001b[0m \u001b[31m65.9 MB/s\u001b[0m eta \u001b[36m0:00:00\u001b[0m\n",
            "\u001b[2K     \u001b[90m━━━━━━━━━━━━━━━━━━━━━━━━━━━━━━━━━━━━━━━━\u001b[0m \u001b[32m2.2/2.2 MB\u001b[0m \u001b[31m54.9 MB/s\u001b[0m eta \u001b[36m0:00:00\u001b[0m\n",
            "\u001b[2K     \u001b[90m━━━━━━━━━━━━━━━━━━━━━━━━━━━━━━━━━━━━━━━━\u001b[0m \u001b[32m5.5/5.5 MB\u001b[0m \u001b[31m43.6 MB/s\u001b[0m eta \u001b[36m0:00:00\u001b[0m\n",
            "\u001b[2K     \u001b[90m━━━━━━━━━━━━━━━━━━━━━━━━━━━━━━━━━━━━━━━━\u001b[0m \u001b[32m1.1/1.1 MB\u001b[0m \u001b[31m40.9 MB/s\u001b[0m eta \u001b[36m0:00:00\u001b[0m\n",
            "\u001b[2K     \u001b[90m━━━━━━━━━━━━━━━━━━━━━━━━━━━━━━━━━━━━━━━━\u001b[0m \u001b[32m311.2/311.2 kB\u001b[0m \u001b[31m24.1 MB/s\u001b[0m eta \u001b[36m0:00:00\u001b[0m\n",
            "\u001b[?25h\u001b[31mERROR: pip's dependency resolver does not currently take into account all the packages that are installed. This behaviour is the source of the following dependency conflicts.\n",
            "tf-keras 2.15.1 requires tensorflow<2.16,>=2.15, but you have tensorflow 2.16.1 which is incompatible.\u001b[0m\u001b[31m\n",
            "\u001b[0m"
          ]
        }
      ],
      "source": [
        "!pip install -q --upgrade keras-nlp\n",
        "!pip install -q --upgrade keras  # Upgrade to Keras 3."
      ]
    },
    {
      "cell_type": "code",
      "execution_count": 2,
      "metadata": {
        "id": "5XVWxKYkjP3E"
      },
      "outputs": [],
      "source": [
        "import os\n",
        "\n",
        "os.environ[\"KERAS_BACKEND\"] = \"jax\"\n",
        "os.environ[\"TF_CPP_MIN_LOG_LEVEL\"] = \"3\"\n",
        "\n",
        "import re\n",
        "\n",
        "import keras\n",
        "import keras_nlp\n",
        "import tensorflow as tf\n",
        "\n",
        "keras.config.set_dtype_policy(\"mixed_bfloat16\")"
      ]
    },
    {
      "cell_type": "markdown",
      "metadata": {
        "id": "D4CMqYCKjP3E"
      },
      "source": [
        "Define some hyperparameters."
      ]
    },
    {
      "cell_type": "code",
      "execution_count": 3,
      "metadata": {
        "id": "u3x6tt9LjP3E"
      },
      "outputs": [],
      "source": [
        "EPOCHS = 3\n",
        "BATCH_SIZE = 32\n",
        "VOCABULARY_SIZE = 20000\n",
        "MAX_SEQUENCE_LENGTH = 200\n",
        "MODEL_KWARGS = dict(\n",
        "    vocabulary_size=VOCABULARY_SIZE,\n",
        "    max_sequence_length=MAX_SEQUENCE_LENGTH,\n",
        "    hidden_dim=32,  # Hidden size for each token\n",
        "    num_heads=2,  # Number of attention heads\n",
        "    intermediate_dim=32,  # Intermediate size in feedforward network\n",
        "    dropout=0.1,  # Dropout rate\n",
        ")"
      ]
    },
    {
      "cell_type": "markdown",
      "metadata": {
        "id": "8dQk9o5fjP3E"
      },
      "source": [
        "## Dataset\n",
        "\n",
        "First, let's download the IMDB dataset and extract it.\n",
        "Learning Word Vectors for Sentiment Analysis\n"
      ]
    },
    {
      "cell_type": "code",
      "execution_count": 4,
      "metadata": {
        "id": "DxWSCHBMjP3E"
      },
      "outputs": [],
      "source": [
        "!mkdir -p datasets\n",
        "!wget http://ai.stanford.edu/~amaas/data/sentiment/aclImdb_v1.tar.gz -q -O datasets/aclImdb_v1.tar.gz\n",
        "!mkdir -p datasets/aclImdb\n",
        "!tar -xzf datasets/aclImdb_v1.tar.gz -C datasets\n",
        "!rm -rf datasets/aclImdb/train/unsup"
      ]
    },
    {
      "cell_type": "markdown",
      "metadata": {
        "id": "5YWfVRn8jP3E"
      },
      "source": [
        "We'll use the `keras.utils.text_dataset_from_directory` utility to generate our\n",
        "labelled `tf.data.Dataset` dataset from text files."
      ]
    },
    {
      "cell_type": "code",
      "execution_count": 5,
      "metadata": {
        "colab": {
          "base_uri": "https://localhost:8080/"
        },
        "id": "LEBkMnQ0jP3E",
        "outputId": "dad7060b-6182-43a7-913e-187d48be1826"
      },
      "outputs": [
        {
          "name": "stdout",
          "output_type": "stream",
          "text": [
            "Found 25000 files belonging to 2 classes.\n",
            "Using 20000 files for training.\n",
            "Found 25000 files belonging to 2 classes.\n",
            "Using 5000 files for validation.\n",
            "Found 25000 files belonging to 2 classes.\n"
          ]
        }
      ],
      "source": [
        "train_ds = keras.utils.text_dataset_from_directory(\n",
        "    \"datasets/aclImdb/train\",\n",
        "    batch_size=BATCH_SIZE,\n",
        "    validation_split=0.2,\n",
        "    subset=\"training\",\n",
        "    seed=42,\n",
        ")\n",
        "val_ds = keras.utils.text_dataset_from_directory(\n",
        "    \"datasets/aclImdb/train\",\n",
        "    batch_size=BATCH_SIZE,\n",
        "    validation_split=0.2,\n",
        "    subset=\"validation\",\n",
        "    seed=42,\n",
        ")\n",
        "test_ds = keras.utils.text_dataset_from_directory(\n",
        "    \"datasets/aclImdb/test\", batch_size=BATCH_SIZE\n",
        ")"
      ]
    },
    {
      "cell_type": "markdown",
      "metadata": {
        "id": "3CSMHidqjP3E"
      },
      "source": [
        "We will now convert the text to lowercase."
      ]
    },
    {
      "cell_type": "code",
      "execution_count": 6,
      "metadata": {
        "id": "fVc0-TEpjP3F"
      },
      "outputs": [],
      "source": [
        "train_ds = train_ds.map(lambda x, y: (tf.strings.lower(x), y))\n",
        "val_ds = val_ds.map(lambda x, y: (tf.strings.lower(x), y))\n",
        "test_ds = test_ds.map(lambda x, y: (tf.strings.lower(x), y))"
      ]
    },
    {
      "cell_type": "markdown",
      "metadata": {
        "id": "bZAejNC_jP3F"
      },
      "source": [
        "Let's print a few samples."
      ]
    },
    {
      "cell_type": "code",
      "execution_count": 7,
      "metadata": {
        "colab": {
          "base_uri": "https://localhost:8080/"
        },
        "id": "OUEbos9ljP3F",
        "outputId": "35d7454c-2e09-448c-81ef-7d6942427936"
      },
      "outputs": [
        {
          "name": "stdout",
          "output_type": "stream",
          "text": [
            "Text: b'\"pandemonium\" is a horror movie spoof that comes off more stupid than funny. believe me when i tell you, i love comedies. especially comedy spoofs. \"airplane\", \"the naked gun\" trilogy, \"blazing saddles\", \"high anxiety\", and \"spaceballs\" are some of my favorite comedies that spoof a particular genre. \"pandemonium\" is not up there with those films. most of the scenes in this movie had me sitting there in stunned silence because the movie wasn\\'t all that funny. there are a few laughs in the film, but when you watch a comedy, you expect to laugh a lot more than a few times and that\\'s all this film has going for it. geez, \"scream\" had more laughs than this film and that was more of a horror film. how bizarre is that?<br /><br />*1/2 (out of four)'\n",
            "Label: 0\n",
            "Text: b\"david mamet is a very interesting and a very un-equal director. his first movie 'house of games' was the one i liked best, and it set a series of films with characters whose perspective of life changes as they get into complicated situations, and so does the perspective of the viewer.<br /><br />so is 'homicide' which from the title tries to set the mind of the viewer to the usual crime drama. the principal characters are two cops, one jewish and one irish who deal with a racially charged area. the murder of an old jewish shop owner who proves to be an ancient veteran of the israeli independence war triggers the jewish identity in the mind and heart of the jewish detective.<br /><br />this is were the flaws of the film are the more obvious. the process of awakening is theatrical and hard to believe, the group of jewish militants is operatic, and the way the detective eventually walks to the final violent confrontation is pathetic. the end of the film itself is mamet-like smart, but disappoints from a human emotional perspective.<br /><br />joe mantegna and william macy give strong performances, but the flaws of the story are too evident to be easily compensated.\"\n",
            "Label: 0\n",
            "Text: b'great documentary about the lives of ny firefighters during the worst terrorist attack of all time.. that reason alone is why this should be a must see collectors item.. what shocked me was not only the attacks, but the\"high fat diet\" and physical appearance of some of these firefighters. i think a lot of doctors would agree with me that,in the physical shape they were in, some of these firefighters would not of made it to the 79th floor carrying over 60 lbs of gear. having said that i now have a greater respect for firefighters and i realize becoming a firefighter is a life altering job. the french have a history of making great documentary\\'s and that is what this is, a great documentary.....'\n",
            "Label: 1\n"
          ]
        }
      ],
      "source": [
        "for text_batch, label_batch in train_ds.take(1):\n",
        "    for i in range(3):\n",
        "        print(f\"Text: {text_batch.numpy()[i]}\")\n",
        "        print(f\"Label: {label_batch.numpy()[i]}\")"
      ]
    },
    {
      "cell_type": "markdown",
      "metadata": {
        "id": "8aus-MCzjP3F"
      },
      "source": [
        "### Tokenizing the data\n",
        "\n",
        "We'll be using the `keras_nlp.tokenizers.WordPieceTokenizer` layer to tokenize\n",
        "the text. `keras_nlp.tokenizers.WordPieceTokenizer` takes a WordPiece vocabulary\n",
        "and has functions for tokenizing the text, and detokenizing sequences of tokens.\n",
        "\n",
        "Before we define the tokenizer, we first need to train it on the dataset\n",
        "we have. The WordPiece tokenization algorithm is a subword tokenization\n",
        "algorithm; training it on a corpus gives us a vocabulary of subwords. A subword\n",
        "tokenizer is a compromise between word tokenizers (word tokenizers need very\n",
        "large vocabularies for good coverage of input words), and character tokenizers\n",
        "(characters don't really encode meaning like words do). Luckily, KerasNLP\n",
        "makes it very simple to train WordPiece on a corpus with the\n",
        "`keras_nlp.tokenizers.compute_word_piece_vocabulary` utility."
      ]
    },
    {
      "cell_type": "code",
      "execution_count": 8,
      "metadata": {
        "id": "_HB6fR0ujP3F"
      },
      "outputs": [],
      "source": [
        "\n",
        "def train_word_piece(ds, vocab_size, reserved_tokens):\n",
        "    word_piece_ds = ds.unbatch().map(lambda x, y: x)\n",
        "    vocab = keras_nlp.tokenizers.compute_word_piece_vocabulary(\n",
        "        word_piece_ds.batch(1000).prefetch(2),\n",
        "        vocabulary_size=vocab_size,\n",
        "        reserved_tokens=reserved_tokens,\n",
        "    )\n",
        "    return vocab\n"
      ]
    },
    {
      "cell_type": "markdown",
      "metadata": {
        "id": "GearqLVLjP3F"
      },
      "source": [
        "Every vocabulary has a few special, reserved tokens. We have two such tokens:\n",
        "\n",
        "- `\"[PAD]\"` - Padding token. Padding tokens are appended to the input sequence\n",
        "length when the input sequence length is shorter than the maximum sequence\n",
        "length.\n",
        "- `\"[UNK]\"` - Unknown token."
      ]
    },
    {
      "cell_type": "code",
      "execution_count": 9,
      "metadata": {
        "id": "OvGCH_ESjP3F"
      },
      "outputs": [],
      "source": [
        "reserved_tokens = [\"[PAD]\", \"[UNK]\"]\n",
        "train_sentences = [element[0] for element in train_ds]\n",
        "vocab = train_word_piece(train_ds, VOCABULARY_SIZE, reserved_tokens)"
      ]
    },
    {
      "cell_type": "markdown",
      "metadata": {
        "id": "wnXa9YxhjP3F"
      },
      "source": [
        "Let's see some tokens!"
      ]
    },
    {
      "cell_type": "code",
      "execution_count": 10,
      "metadata": {
        "colab": {
          "base_uri": "https://localhost:8080/"
        },
        "id": "aYUYhy7bjP3F",
        "outputId": "671863b6-4596-45b5-ee48-8597ac809fa0"
      },
      "outputs": [
        {
          "name": "stdout",
          "output_type": "stream",
          "text": [
            "Tokens:  ['à', 'á', 'â', 'ã', 'ä', 'å', 'æ', 'ç', 'è', 'é']\n"
          ]
        }
      ],
      "source": [
        "print(\"Tokens: \", vocab[100:110])"
      ]
    },
    {
      "cell_type": "markdown",
      "metadata": {
        "id": "KixoHvu2jP3F"
      },
      "source": [
        "Now, let's define the tokenizer. We will configure the tokenizer with the\n",
        "the vocabularies trained above. We will define a maximum sequence length so that\n",
        "all sequences are padded to the same length, if the length of the sequence is\n",
        "less than the specified sequence length. Otherwise, the sequence is truncated."
      ]
    },
    {
      "cell_type": "code",
      "execution_count": 11,
      "metadata": {
        "id": "ldIAZOdUjP3F"
      },
      "outputs": [],
      "source": [
        "tokenizer = keras_nlp.tokenizers.WordPieceTokenizer(\n",
        "    vocabulary=vocab,\n",
        "    lowercase=False,\n",
        "    sequence_length=MAX_SEQUENCE_LENGTH,\n",
        ")"
      ]
    },
    {
      "cell_type": "markdown",
      "metadata": {
        "id": "4WFlT1aDjP3F"
      },
      "source": [
        "Let's try and tokenize a sample from our dataset! To verify whether the text has\n",
        "been tokenized correctly, we can also detokenize the list of tokens back to the\n",
        "original text."
      ]
    },
    {
      "cell_type": "code",
      "execution_count": 12,
      "metadata": {
        "colab": {
          "base_uri": "https://localhost:8080/"
        },
        "id": "MV6gSkAWjP3F",
        "outputId": "838c97e8-89db-4a90-a73d-ad6c90a7e1ac"
      },
      "outputs": [
        {
          "name": "stdout",
          "output_type": "stream",
          "text": [
            "Sentence:  tf.Tensor(b'great movie - especially the music - etta james - \"at last\". this speaks volumes when you have finally found that special someone.', shape=(), dtype=string)\n",
            "Tokens:  [  218   150    14   393   137   356    14  4917  2941   719    14     3\n",
            "   164   370     3    15   145  2705 11670   186   155   160   557   391\n",
            "   146   452   416    15     0     0     0     0     0     0     0     0\n",
            "     0     0     0     0     0     0     0     0     0     0     0     0\n",
            "     0     0     0     0     0     0     0     0     0     0     0     0\n",
            "     0     0     0     0     0     0     0     0     0     0     0     0\n",
            "     0     0     0     0     0     0     0     0     0     0     0     0\n",
            "     0     0     0     0     0     0     0     0     0     0     0     0\n",
            "     0     0     0     0     0     0     0     0     0     0     0     0\n",
            "     0     0     0     0     0     0     0     0     0     0     0     0\n",
            "     0     0     0     0     0     0     0     0     0     0     0     0\n",
            "     0     0     0     0     0     0     0     0     0     0     0     0\n",
            "     0     0     0     0     0     0     0     0     0     0     0     0\n",
            "     0     0     0     0     0     0     0     0     0     0     0     0\n",
            "     0     0     0     0     0     0     0     0     0     0     0     0\n",
            "     0     0     0     0     0     0     0     0     0     0     0     0\n",
            "     0     0     0     0     0     0     0     0]\n",
            "Recovered text after detokenizing:  tf.Tensor(b'great movie - especially the music - etta james - \" at last \" . this speaks volumes when you have finally found that special someone . [PAD] [PAD] [PAD] [PAD] [PAD] [PAD] [PAD] [PAD] [PAD] [PAD] [PAD] [PAD] [PAD] [PAD] [PAD] [PAD] [PAD] [PAD] [PAD] [PAD] [PAD] [PAD] [PAD] [PAD] [PAD] [PAD] [PAD] [PAD] [PAD] [PAD] [PAD] [PAD] [PAD] [PAD] [PAD] [PAD] [PAD] [PAD] [PAD] [PAD] [PAD] [PAD] [PAD] [PAD] [PAD] [PAD] [PAD] [PAD] [PAD] [PAD] [PAD] [PAD] [PAD] [PAD] [PAD] [PAD] [PAD] [PAD] [PAD] [PAD] [PAD] [PAD] [PAD] [PAD] [PAD] [PAD] [PAD] [PAD] [PAD] [PAD] [PAD] [PAD] [PAD] [PAD] [PAD] [PAD] [PAD] [PAD] [PAD] [PAD] [PAD] [PAD] [PAD] [PAD] [PAD] [PAD] [PAD] [PAD] [PAD] [PAD] [PAD] [PAD] [PAD] [PAD] [PAD] [PAD] [PAD] [PAD] [PAD] [PAD] [PAD] [PAD] [PAD] [PAD] [PAD] [PAD] [PAD] [PAD] [PAD] [PAD] [PAD] [PAD] [PAD] [PAD] [PAD] [PAD] [PAD] [PAD] [PAD] [PAD] [PAD] [PAD] [PAD] [PAD] [PAD] [PAD] [PAD] [PAD] [PAD] [PAD] [PAD] [PAD] [PAD] [PAD] [PAD] [PAD] [PAD] [PAD] [PAD] [PAD] [PAD] [PAD] [PAD] [PAD] [PAD] [PAD] [PAD] [PAD] [PAD] [PAD] [PAD] [PAD] [PAD] [PAD] [PAD] [PAD] [PAD] [PAD] [PAD] [PAD] [PAD] [PAD] [PAD] [PAD] [PAD] [PAD] [PAD] [PAD] [PAD] [PAD] [PAD] [PAD]', shape=(), dtype=string)\n"
          ]
        }
      ],
      "source": [
        "input_sentence_ex = train_ds.take(1).get_single_element()[0][0]\n",
        "input_tokens_ex = tokenizer(input_sentence_ex)\n",
        "\n",
        "print(\"Sentence: \", input_sentence_ex)\n",
        "print(\"Tokens: \", input_tokens_ex)\n",
        "print(\"Recovered text after detokenizing: \", tokenizer.detokenize(input_tokens_ex))"
      ]
    },
    {
      "cell_type": "markdown",
      "metadata": {
        "id": "GZHEvrtnjP3F"
      },
      "source": [
        "## Formatting the dataset\n",
        "\n",
        "Next, we'll format our datasets in the form that will be fed to the models. We\n",
        "need to tokenize the text."
      ]
    },
    {
      "cell_type": "code",
      "execution_count": 13,
      "metadata": {
        "id": "AwzJr-74jP3F"
      },
      "outputs": [],
      "source": [
        "\n",
        "def format_dataset(sentence, label):\n",
        "    sentence = tokenizer(sentence)\n",
        "    return ({\"input_ids\": sentence}, label)\n",
        "\n",
        "\n",
        "def make_dataset(dataset):\n",
        "    dataset = dataset.map(format_dataset, num_parallel_calls=tf.data.AUTOTUNE)\n",
        "    return dataset.shuffle(512).prefetch(tf.data.AUTOTUNE).cache()\n",
        "\n",
        "\n",
        "train_ds = make_dataset(train_ds)\n",
        "val_ds = make_dataset(val_ds)\n",
        "test_ds = make_dataset(test_ds)\n"
      ]
    },
    {
      "cell_type": "markdown",
      "metadata": {
        "id": "oTls-zGAjP3F"
      },
      "source": [
        "## Model\n",
        "\n",
        "Let's build a simple Transformer model. We will use `TokenAndPositionEmbedding`\n",
        "and `TransformerDecoder` from KerasNLP library. `TokenAndPositionEmbedding`\n",
        "represents words and their order in a sentence, while `TransformerDecoder`\n",
        "outputs one vector for each time step of our input sequence. Here, we take the\n",
        "mean across all time steps and use a feedforward network on top of it to\n",
        "classify text."
      ]
    },
    {
      "cell_type": "code",
      "execution_count": 14,
      "metadata": {
        "id": "mkuUnk91jP3F"
      },
      "outputs": [],
      "source": [
        "\n",
        "def build_model(\n",
        "    vocabulary_size=20000,\n",
        "    max_sequence_length=200,\n",
        "    hidden_dim=32,\n",
        "    num_heads=2,\n",
        "    intermediate_dim=32,\n",
        "    dropout=0.1,\n",
        "):\n",
        "    token_id_input = keras.layers.Input(shape=(None,), dtype=\"int32\", name=\"input_ids\")\n",
        "    x = keras_nlp.layers.TokenAndPositionEmbedding(\n",
        "        vocabulary_size=vocabulary_size,\n",
        "        sequence_length=max_sequence_length,\n",
        "        embedding_dim=hidden_dim,\n",
        "    )(token_id_input)\n",
        "    x = keras.layers.Dropout(rate=dropout)(x)\n",
        "    x = keras_nlp.layers.TransformerDecoder(\n",
        "        intermediate_dim=intermediate_dim,\n",
        "        num_heads=num_heads,\n",
        "        dropout=dropout,\n",
        "    )(x)\n",
        "    x = keras.layers.GlobalAveragePooling1D()(x)\n",
        "    x = keras.layers.Dropout(dropout)(x)\n",
        "    x = keras.layers.Dense(intermediate_dim, activation=\"relu\")(x)\n",
        "    x = keras.layers.Dropout(dropout)(x)\n",
        "    outputs = keras.layers.Dense(1, activation=\"sigmoid\")(x)\n",
        "    return keras.Model(inputs=token_id_input, outputs=outputs)\n"
      ]
    },
    {
      "cell_type": "markdown",
      "metadata": {
        "id": "2tB1qZYljP3F"
      },
      "source": [
        "## Training and evaluating our model\n",
        "\n",
        "First, we train and evaluate the model with mixed precision\n",
        "(`\"mixed_bfloat16\"`). Afterward, we compare the results with FP8\n",
        "training/inference."
      ]
    },
    {
      "cell_type": "code",
      "execution_count": 15,
      "metadata": {
        "colab": {
          "base_uri": "https://localhost:8080/",
          "height": 604
        },
        "id": "q8QFRGvyjP3F",
        "outputId": "eaf218fe-a3fd-4a98-c26c-226720d58ea3"
      },
      "outputs": [
        {
          "data": {
            "text/html": [
              "<pre style=\"white-space:pre;overflow-x:auto;line-height:normal;font-family:Menlo,'DejaVu Sans Mono',consolas,'Courier New',monospace\"><span style=\"font-weight: bold\">Model: \"functional_1\"</span>\n",
              "</pre>\n"
            ],
            "text/plain": [
              "\u001b[1mModel: \"functional_1\"\u001b[0m\n"
            ]
          },
          "metadata": {},
          "output_type": "display_data"
        },
        {
          "data": {
            "text/html": [
              "<pre style=\"white-space:pre;overflow-x:auto;line-height:normal;font-family:Menlo,'DejaVu Sans Mono',consolas,'Courier New',monospace\">┏━━━━━━━━━━━━━━━━━━━━━━━━━━━━━━━━━━━━━━┳━━━━━━━━━━━━━━━━━━━━━━━━━━━━━┳━━━━━━━━━━━━━━━━━┓\n",
              "┃<span style=\"font-weight: bold\"> Layer (type)                         </span>┃<span style=\"font-weight: bold\"> Output Shape                </span>┃<span style=\"font-weight: bold\">         Param # </span>┃\n",
              "┡━━━━━━━━━━━━━━━━━━━━━━━━━━━━━━━━━━━━━━╇━━━━━━━━━━━━━━━━━━━━━━━━━━━━━╇━━━━━━━━━━━━━━━━━┩\n",
              "│ input_ids (<span style=\"color: #0087ff; text-decoration-color: #0087ff\">InputLayer</span>)               │ (<span style=\"color: #00d7ff; text-decoration-color: #00d7ff\">None</span>, <span style=\"color: #00d7ff; text-decoration-color: #00d7ff\">None</span>)                │               <span style=\"color: #00af00; text-decoration-color: #00af00\">0</span> │\n",
              "├──────────────────────────────────────┼─────────────────────────────┼─────────────────┤\n",
              "│ token_and_position_embedding         │ (<span style=\"color: #00d7ff; text-decoration-color: #00d7ff\">None</span>, <span style=\"color: #00d7ff; text-decoration-color: #00d7ff\">None</span>, <span style=\"color: #00af00; text-decoration-color: #00af00\">32</span>)            │         <span style=\"color: #00af00; text-decoration-color: #00af00\">646,400</span> │\n",
              "│ (<span style=\"color: #0087ff; text-decoration-color: #0087ff\">TokenAndPositionEmbedding</span>)          │                             │                 │\n",
              "├──────────────────────────────────────┼─────────────────────────────┼─────────────────┤\n",
              "│ dropout (<span style=\"color: #0087ff; text-decoration-color: #0087ff\">Dropout</span>)                    │ (<span style=\"color: #00d7ff; text-decoration-color: #00d7ff\">None</span>, <span style=\"color: #00d7ff; text-decoration-color: #00d7ff\">None</span>, <span style=\"color: #00af00; text-decoration-color: #00af00\">32</span>)            │               <span style=\"color: #00af00; text-decoration-color: #00af00\">0</span> │\n",
              "├──────────────────────────────────────┼─────────────────────────────┼─────────────────┤\n",
              "│ transformer_decoder                  │ (<span style=\"color: #00d7ff; text-decoration-color: #00d7ff\">None</span>, <span style=\"color: #00d7ff; text-decoration-color: #00d7ff\">None</span>, <span style=\"color: #00af00; text-decoration-color: #00af00\">32</span>)            │           <span style=\"color: #00af00; text-decoration-color: #00af00\">6,464</span> │\n",
              "│ (<span style=\"color: #0087ff; text-decoration-color: #0087ff\">TransformerDecoder</span>)                 │                             │                 │\n",
              "├──────────────────────────────────────┼─────────────────────────────┼─────────────────┤\n",
              "│ global_average_pooling1d             │ (<span style=\"color: #00d7ff; text-decoration-color: #00d7ff\">None</span>, <span style=\"color: #00af00; text-decoration-color: #00af00\">32</span>)                  │               <span style=\"color: #00af00; text-decoration-color: #00af00\">0</span> │\n",
              "│ (<span style=\"color: #0087ff; text-decoration-color: #0087ff\">GlobalAveragePooling1D</span>)             │                             │                 │\n",
              "├──────────────────────────────────────┼─────────────────────────────┼─────────────────┤\n",
              "│ dropout_2 (<span style=\"color: #0087ff; text-decoration-color: #0087ff\">Dropout</span>)                  │ (<span style=\"color: #00d7ff; text-decoration-color: #00d7ff\">None</span>, <span style=\"color: #00af00; text-decoration-color: #00af00\">32</span>)                  │               <span style=\"color: #00af00; text-decoration-color: #00af00\">0</span> │\n",
              "├──────────────────────────────────────┼─────────────────────────────┼─────────────────┤\n",
              "│ dense (<span style=\"color: #0087ff; text-decoration-color: #0087ff\">Dense</span>)                        │ (<span style=\"color: #00d7ff; text-decoration-color: #00d7ff\">None</span>, <span style=\"color: #00af00; text-decoration-color: #00af00\">32</span>)                  │           <span style=\"color: #00af00; text-decoration-color: #00af00\">1,056</span> │\n",
              "├──────────────────────────────────────┼─────────────────────────────┼─────────────────┤\n",
              "│ dropout_3 (<span style=\"color: #0087ff; text-decoration-color: #0087ff\">Dropout</span>)                  │ (<span style=\"color: #00d7ff; text-decoration-color: #00d7ff\">None</span>, <span style=\"color: #00af00; text-decoration-color: #00af00\">32</span>)                  │               <span style=\"color: #00af00; text-decoration-color: #00af00\">0</span> │\n",
              "├──────────────────────────────────────┼─────────────────────────────┼─────────────────┤\n",
              "│ dense_1 (<span style=\"color: #0087ff; text-decoration-color: #0087ff\">Dense</span>)                      │ (<span style=\"color: #00d7ff; text-decoration-color: #00d7ff\">None</span>, <span style=\"color: #00af00; text-decoration-color: #00af00\">1</span>)                   │              <span style=\"color: #00af00; text-decoration-color: #00af00\">33</span> │\n",
              "└──────────────────────────────────────┴─────────────────────────────┴─────────────────┘\n",
              "</pre>\n"
            ],
            "text/plain": [
              "┏━━━━━━━━━━━━━━━━━━━━━━━━━━━━━━━━━━━━━━┳━━━━━━━━━━━━━━━━━━━━━━━━━━━━━┳━━━━━━━━━━━━━━━━━┓\n",
              "┃\u001b[1m \u001b[0m\u001b[1mLayer (type)                        \u001b[0m\u001b[1m \u001b[0m┃\u001b[1m \u001b[0m\u001b[1mOutput Shape               \u001b[0m\u001b[1m \u001b[0m┃\u001b[1m \u001b[0m\u001b[1m        Param #\u001b[0m\u001b[1m \u001b[0m┃\n",
              "┡━━━━━━━━━━━━━━━━━━━━━━━━━━━━━━━━━━━━━━╇━━━━━━━━━━━━━━━━━━━━━━━━━━━━━╇━━━━━━━━━━━━━━━━━┩\n",
              "│ input_ids (\u001b[38;5;33mInputLayer\u001b[0m)               │ (\u001b[38;5;45mNone\u001b[0m, \u001b[38;5;45mNone\u001b[0m)                │               \u001b[38;5;34m0\u001b[0m │\n",
              "├──────────────────────────────────────┼─────────────────────────────┼─────────────────┤\n",
              "│ token_and_position_embedding         │ (\u001b[38;5;45mNone\u001b[0m, \u001b[38;5;45mNone\u001b[0m, \u001b[38;5;34m32\u001b[0m)            │         \u001b[38;5;34m646,400\u001b[0m │\n",
              "│ (\u001b[38;5;33mTokenAndPositionEmbedding\u001b[0m)          │                             │                 │\n",
              "├──────────────────────────────────────┼─────────────────────────────┼─────────────────┤\n",
              "│ dropout (\u001b[38;5;33mDropout\u001b[0m)                    │ (\u001b[38;5;45mNone\u001b[0m, \u001b[38;5;45mNone\u001b[0m, \u001b[38;5;34m32\u001b[0m)            │               \u001b[38;5;34m0\u001b[0m │\n",
              "├──────────────────────────────────────┼─────────────────────────────┼─────────────────┤\n",
              "│ transformer_decoder                  │ (\u001b[38;5;45mNone\u001b[0m, \u001b[38;5;45mNone\u001b[0m, \u001b[38;5;34m32\u001b[0m)            │           \u001b[38;5;34m6,464\u001b[0m │\n",
              "│ (\u001b[38;5;33mTransformerDecoder\u001b[0m)                 │                             │                 │\n",
              "├──────────────────────────────────────┼─────────────────────────────┼─────────────────┤\n",
              "│ global_average_pooling1d             │ (\u001b[38;5;45mNone\u001b[0m, \u001b[38;5;34m32\u001b[0m)                  │               \u001b[38;5;34m0\u001b[0m │\n",
              "│ (\u001b[38;5;33mGlobalAveragePooling1D\u001b[0m)             │                             │                 │\n",
              "├──────────────────────────────────────┼─────────────────────────────┼─────────────────┤\n",
              "│ dropout_2 (\u001b[38;5;33mDropout\u001b[0m)                  │ (\u001b[38;5;45mNone\u001b[0m, \u001b[38;5;34m32\u001b[0m)                  │               \u001b[38;5;34m0\u001b[0m │\n",
              "├──────────────────────────────────────┼─────────────────────────────┼─────────────────┤\n",
              "│ dense (\u001b[38;5;33mDense\u001b[0m)                        │ (\u001b[38;5;45mNone\u001b[0m, \u001b[38;5;34m32\u001b[0m)                  │           \u001b[38;5;34m1,056\u001b[0m │\n",
              "├──────────────────────────────────────┼─────────────────────────────┼─────────────────┤\n",
              "│ dropout_3 (\u001b[38;5;33mDropout\u001b[0m)                  │ (\u001b[38;5;45mNone\u001b[0m, \u001b[38;5;34m32\u001b[0m)                  │               \u001b[38;5;34m0\u001b[0m │\n",
              "├──────────────────────────────────────┼─────────────────────────────┼─────────────────┤\n",
              "│ dense_1 (\u001b[38;5;33mDense\u001b[0m)                      │ (\u001b[38;5;45mNone\u001b[0m, \u001b[38;5;34m1\u001b[0m)                   │              \u001b[38;5;34m33\u001b[0m │\n",
              "└──────────────────────────────────────┴─────────────────────────────┴─────────────────┘\n"
            ]
          },
          "metadata": {},
          "output_type": "display_data"
        },
        {
          "data": {
            "text/html": [
              "<pre style=\"white-space:pre;overflow-x:auto;line-height:normal;font-family:Menlo,'DejaVu Sans Mono',consolas,'Courier New',monospace\"><span style=\"font-weight: bold\"> Total params: </span><span style=\"color: #00af00; text-decoration-color: #00af00\">653,953</span> (2.49 MB)\n",
              "</pre>\n"
            ],
            "text/plain": [
              "\u001b[1m Total params: \u001b[0m\u001b[38;5;34m653,953\u001b[0m (2.49 MB)\n"
            ]
          },
          "metadata": {},
          "output_type": "display_data"
        },
        {
          "data": {
            "text/html": [
              "<pre style=\"white-space:pre;overflow-x:auto;line-height:normal;font-family:Menlo,'DejaVu Sans Mono',consolas,'Courier New',monospace\"><span style=\"font-weight: bold\"> Trainable params: </span><span style=\"color: #00af00; text-decoration-color: #00af00\">653,953</span> (2.49 MB)\n",
              "</pre>\n"
            ],
            "text/plain": [
              "\u001b[1m Trainable params: \u001b[0m\u001b[38;5;34m653,953\u001b[0m (2.49 MB)\n"
            ]
          },
          "metadata": {},
          "output_type": "display_data"
        },
        {
          "data": {
            "text/html": [
              "<pre style=\"white-space:pre;overflow-x:auto;line-height:normal;font-family:Menlo,'DejaVu Sans Mono',consolas,'Courier New',monospace\"><span style=\"font-weight: bold\"> Non-trainable params: </span><span style=\"color: #00af00; text-decoration-color: #00af00\">0</span> (0.00 B)\n",
              "</pre>\n"
            ],
            "text/plain": [
              "\u001b[1m Non-trainable params: \u001b[0m\u001b[38;5;34m0\u001b[0m (0.00 B)\n"
            ]
          },
          "metadata": {},
          "output_type": "display_data"
        },
        {
          "name": "stdout",
          "output_type": "stream",
          "text": [
            "Epoch 1/3\n",
            "\u001b[1m625/625\u001b[0m \u001b[32m━━━━━━━━━━━━━━━━━━━━\u001b[0m\u001b[37m\u001b[0m \u001b[1m18s\u001b[0m 18ms/step - accuracy: 0.6799 - loss: 0.5582 - val_accuracy: 0.8270 - val_loss: 0.3999\n",
            "Epoch 2/3\n",
            "\u001b[1m625/625\u001b[0m \u001b[32m━━━━━━━━━━━━━━━━━━━━\u001b[0m\u001b[37m\u001b[0m \u001b[1m6s\u001b[0m 8ms/step - accuracy: 0.8835 - loss: 0.2859 - val_accuracy: 0.8324 - val_loss: 0.4229\n",
            "Epoch 3/3\n",
            "\u001b[1m625/625\u001b[0m \u001b[32m━━━━━━━━━━━━━━━━━━━━\u001b[0m\u001b[37m\u001b[0m \u001b[1m5s\u001b[0m 9ms/step - accuracy: 0.9223 - loss: 0.2065 - val_accuracy: 0.8388 - val_loss: 0.4165\n",
            "\u001b[1m782/782\u001b[0m \u001b[32m━━━━━━━━━━━━━━━━━━━━\u001b[0m\u001b[37m\u001b[0m \u001b[1m6s\u001b[0m 4ms/step - accuracy: 0.8052 - loss: 0.5308\n",
            "Accuracy (mixed_bfloat16): 80.90%\n"
          ]
        }
      ],
      "source": [
        "model = build_model(**MODEL_KWARGS)\n",
        "model.summary()\n",
        "model.compile(\n",
        "    optimizer=\"adam\",\n",
        "    loss=\"binary_crossentropy\",\n",
        "    metrics=[\"accuracy\"],\n",
        ")\n",
        "history = model.fit(train_ds, epochs=EPOCHS, validation_data=val_ds)\n",
        "result = model.evaluate(test_ds)\n",
        "print(f\"Accuracy (mixed_bfloat16): {result[1]:.2%}\")"
      ]
    },
    {
      "cell_type": "markdown",
      "metadata": {
        "id": "HUTPUHENjP3F"
      },
      "source": [
        "We can enable FP8 training/inference with a one-line API:\n",
        "`model.quantize(\"float8\")`."
      ]
    },
    {
      "cell_type": "code",
      "execution_count": 16,
      "metadata": {
        "colab": {
          "base_uri": "https://localhost:8080/"
        },
        "id": "nsWv4H5XjP3F",
        "outputId": "5067b259-211f-4138-8319-f0fba89f9ae7"
      },
      "outputs": [
        {
          "name": "stderr",
          "output_type": "stream",
          "text": [
            "/usr/local/lib/python3.10/dist-packages/keras/src/models/model.py:381: UserWarning: Layer InputLayer does not have a `quantize()` method implemented.\n",
            "  warnings.warn(str(e))\n",
            "/usr/local/lib/python3.10/dist-packages/keras/src/models/model.py:381: UserWarning: Layer PositionEmbedding does not have a `quantize()` method implemented.\n",
            "  warnings.warn(str(e))\n",
            "/usr/local/lib/python3.10/dist-packages/keras/src/models/model.py:381: UserWarning: Layer ReversibleEmbedding does not have a `quantize()` method implemented.\n",
            "  warnings.warn(str(e))\n",
            "/usr/local/lib/python3.10/dist-packages/keras/src/models/model.py:381: UserWarning: Layer Dropout does not have a `quantize()` method implemented.\n",
            "  warnings.warn(str(e))\n",
            "/usr/local/lib/python3.10/dist-packages/keras/src/models/model.py:381: UserWarning: Layer LayerNormalization does not have a `quantize()` method implemented.\n",
            "  warnings.warn(str(e))\n",
            "/usr/local/lib/python3.10/dist-packages/keras/src/models/model.py:381: UserWarning: Layer Softmax does not have a `quantize()` method implemented.\n",
            "  warnings.warn(str(e))\n",
            "/usr/local/lib/python3.10/dist-packages/keras/src/models/model.py:381: UserWarning: Layer GlobalAveragePooling1D does not have a `quantize()` method implemented.\n",
            "  warnings.warn(str(e))\n"
          ]
        }
      ],
      "source": [
        "model = build_model(**MODEL_KWARGS)\n",
        "model.quantize(\"float8\")"
      ]
    },
    {
      "cell_type": "markdown",
      "metadata": {
        "id": "ms9kKIeGjP3F"
      },
      "source": [
        "To inspect that FP8 training takes place, we can print out some variables\n",
        "related to FP8 training:\n",
        "\n",
        "- `*_scale`: The scaling factor that shift the distribution of inputs, weights\n",
        "    and gradients into the representable range of FP8. Defaults to `1.0`\n",
        "- `*_amax_history`: The amax history window used for scaling factor computation.\n",
        "    Defaults to `0.0` with the length of 1024."
      ]
    },
    {
      "cell_type": "code",
      "execution_count": 17,
      "metadata": {
        "id": "goVIeGeijP3F"
      },
      "outputs": [],
      "source": [
        "pattern = r\"(transformer).+(multi_head).+(query).+(scale|amax_history)\"\n",
        "for v in model.trainable_variables:\n",
        "    if re.findall(pattern, v.path):\n",
        "        print(v.path)\n",
        "        print(keras.ops.convert_to_numpy(v.value))"
      ]
    },
    {
      "cell_type": "markdown",
      "metadata": {
        "id": "5qr58z8TjP3F"
      },
      "source": [
        "The dtype policies of FP8 layers have also been modified."
      ]
    },
    {
      "cell_type": "code",
      "execution_count": 18,
      "metadata": {
        "colab": {
          "base_uri": "https://localhost:8080/"
        },
        "id": "kMO6FjaNjP3F",
        "outputId": "38dc0f0a-0203-4a26-f50b-599c75a7f0f4"
      },
      "outputs": [
        {
          "name": "stdout",
          "output_type": "stream",
          "text": [
            "feedforward_output_dense: <QuantizedFloat8DTypePolicy \"float8_from_mixed_bfloat16\">\n",
            "feedforward_intermediate_dense: <QuantizedFloat8DTypePolicy \"float8_from_mixed_bfloat16\">\n",
            "attention_output: <QuantizedFloat8DTypePolicy \"float8_from_mixed_bfloat16\">\n",
            "value: <QuantizedFloat8DTypePolicy \"float8_from_mixed_bfloat16\">\n",
            "key: <QuantizedFloat8DTypePolicy \"float8_from_mixed_bfloat16\">\n",
            "query: <QuantizedFloat8DTypePolicy \"float8_from_mixed_bfloat16\">\n",
            "dense_2: <QuantizedFloat8DTypePolicy \"float8_from_mixed_bfloat16\">\n",
            "dense_3: <QuantizedFloat8DTypePolicy \"float8_from_mixed_bfloat16\">\n"
          ]
        }
      ],
      "source": [
        "for layer in model._flatten_layers(recursive=True):\n",
        "    if \"float8\" in str(layer.dtype_policy):\n",
        "        print(f\"{layer.name}: {layer.dtype_policy}\")"
      ]
    },
    {
      "cell_type": "markdown",
      "metadata": {
        "id": "gPv_ruKKjP3G"
      },
      "source": [
        "Let's train the model and see the results. We can verify that the accuracy\n",
        "doesn't decrease with FP8 training that the variables containing FP8 information\n",
        "change after fitting."
      ]
    },
    {
      "cell_type": "code",
      "execution_count": 19,
      "metadata": {
        "colab": {
          "base_uri": "https://localhost:8080/"
        },
        "id": "l4tT_2h1jP3G",
        "outputId": "d165aa36-16e9-4096-e4a3-3f217d858630"
      },
      "outputs": [
        {
          "name": "stdout",
          "output_type": "stream",
          "text": [
            "Epoch 1/3\n",
            "\u001b[1m625/625\u001b[0m \u001b[32m━━━━━━━━━━━━━━━━━━━━\u001b[0m\u001b[37m\u001b[0m \u001b[1m23s\u001b[0m 20ms/step - accuracy: 0.6950 - loss: 0.5508 - val_accuracy: 0.8216 - val_loss: 0.4123\n",
            "Epoch 2/3\n",
            "\u001b[1m625/625\u001b[0m \u001b[32m━━━━━━━━━━━━━━━━━━━━\u001b[0m\u001b[37m\u001b[0m \u001b[1m9s\u001b[0m 10ms/step - accuracy: 0.8879 - loss: 0.2823 - val_accuracy: 0.8400 - val_loss: 0.4104\n",
            "Epoch 3/3\n",
            "\u001b[1m625/625\u001b[0m \u001b[32m━━━━━━━━━━━━━━━━━━━━\u001b[0m\u001b[37m\u001b[0m \u001b[1m6s\u001b[0m 10ms/step - accuracy: 0.9250 - loss: 0.2057 - val_accuracy: 0.8328 - val_loss: 0.4366\n",
            "\u001b[1m782/782\u001b[0m \u001b[32m━━━━━━━━━━━━━━━━━━━━\u001b[0m\u001b[37m\u001b[0m \u001b[1m5s\u001b[0m 7ms/step - accuracy: 0.7974 - loss: 0.5564\n",
            "Accuracy (float8): 80.23%\n"
          ]
        }
      ],
      "source": [
        "model.compile(\n",
        "    optimizer=\"adam\",\n",
        "    loss=\"binary_crossentropy\",\n",
        "    metrics=[\"accuracy\"],\n",
        ")\n",
        "history = model.fit(train_ds, epochs=EPOCHS, validation_data=val_ds)\n",
        "result = model.evaluate(test_ds)\n",
        "print(f\"Accuracy (float8): {result[1]:.2%}\")\n",
        "\n",
        "for v in model.trainable_variables:\n",
        "    if re.findall(pattern, v.path):\n",
        "        print(v.path)\n",
        "        print(keras.ops.convert_to_numpy(v.value))"
      ]
    },
    {
      "cell_type": "markdown",
      "metadata": {
        "id": "typ6g6sljP3I"
      },
      "source": [
        "## Recipes\n",
        "\n",
        "- The improvements in training speed are relatively small if the model is not\n",
        "sufficiently large. The recommendation is to train with a model containing\n",
        "parameters >5B.\n",
        "- You will need hardware such as NVIDIA H100 that supports FP8 Tensor Cores to\n",
        "gain the speedups.\n",
        "\n",
        "## References\n",
        "- [FP8 Formats for Deep Learning](https://arxiv.org/abs/2209.05433)\n",
        "- [FP8 Primer](https://docs.nvidia.com/deeplearning/transformer-engine/user-guide/examples/fp8_primer.html)\n",
        "- [Flax - fp8_ops.py](https://github.com/google/flax/blob/main/flax/linen/fp8_ops.py)"
      ]
    }
  ],
  "metadata": {
    "accelerator": "GPU",
    "colab": {
      "provenance": []
    },
    "kernelspec": {
      "display_name": "Python 3",
      "language": "python",
      "name": "python3"
    },
    "language_info": {
      "codemirror_mode": {
        "name": "ipython",
        "version": 3
      },
      "file_extension": ".py",
      "mimetype": "text/x-python",
      "name": "python",
      "nbconvert_exporter": "python",
      "pygments_lexer": "ipython3",
      "version": "3.7.0"
    }
  },
  "nbformat": 4,
  "nbformat_minor": 0
}
