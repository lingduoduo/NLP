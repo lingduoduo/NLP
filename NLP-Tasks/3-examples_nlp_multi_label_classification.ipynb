{
  "cells": [
    {
      "cell_type": "markdown",
      "metadata": {
        "id": "UBp6PS5z7hQJ"
      },
      "source": [
        "# Large-scale multi-label text classification\n"
      ]
    },
    {
      "cell_type": "markdown",
      "metadata": {
        "id": "J90Rt8Of7hQO"
      },
      "source": [
        "## Introduction\n",
        "\n",
        "In this example, we will build a multi-label text classifier to predict the subject areas\n",
        "of arXiv papers from their abstract bodies. This type of classifier can be useful for\n",
        "conference submission portals like [OpenReview](https://openreview.net/). Given a paper\n",
        "abstract, the portal could provide suggestions for which areas the paper would\n",
        "best belong to.\n",
        "\n",
        "The dataset was collected using the\n",
        "[`arXiv` Python library](https://github.com/lukasschwab/arxiv.py)\n",
        "that provides a wrapper around the\n",
        "[original arXiv API](http://arxiv.org/help/api/index).\n",
        "To learn more about the data collection process, please refer to\n",
        "[this notebook](https://github.com/soumik12345/multi-label-text-classification/blob/master/arxiv_scrape.ipynb).\n",
        "Additionally, you can also find the dataset on\n",
        "[Kaggle](https://www.kaggle.com/spsayakpaul/arxiv-paper-abstracts)."
      ]
    },
    {
      "cell_type": "markdown",
      "metadata": {
        "id": "peBkbd7-7hQO"
      },
      "source": [
        "## Imports"
      ]
    },
    {
      "cell_type": "code",
      "execution_count": 1,
      "metadata": {
        "id": "vSwqgGMg7hQP"
      },
      "outputs": [],
      "source": [
        "from tensorflow.keras import layers\n",
        "from tensorflow import keras\n",
        "import tensorflow as tf\n",
        "\n",
        "from sklearn.model_selection import train_test_split\n",
        "from ast import literal_eval\n",
        "\n",
        "import matplotlib.pyplot as plt\n",
        "import pandas as pd\n",
        "import numpy as np"
      ]
    },
    {
      "cell_type": "markdown",
      "metadata": {
        "id": "pOrf5-cT7hQQ"
      },
      "source": [
        "## Perform exploratory data analysis\n",
        "\n",
        "In this section, we first load the dataset into a `pandas` dataframe and then perform\n",
        "some basic exploratory data analysis (EDA)."
      ]
    },
    {
      "cell_type": "code",
      "execution_count": 2,
      "metadata": {
        "id": "KCIAX-3b7hQQ",
        "colab": {
          "base_uri": "https://localhost:8080/",
          "height": 206
        },
        "outputId": "29e1d723-0075-46bd-aacd-2be6afa29eeb"
      },
      "outputs": [
        {
          "output_type": "execute_result",
          "data": {
            "text/plain": [
              "                                              titles  \\\n",
              "0  Survey on Semantic Stereo Matching / Semantic ...   \n",
              "1  FUTURE-AI: Guiding Principles and Consensus Re...   \n",
              "2  Enforcing Mutual Consistency of Hard Regions f...   \n",
              "3  Parameter Decoupling Strategy for Semi-supervi...   \n",
              "4  Background-Foreground Segmentation for Interio...   \n",
              "\n",
              "                                           summaries  \\\n",
              "0  Stereo matching is one of the widely used tech...   \n",
              "1  The recent advancements in artificial intellig...   \n",
              "2  In this paper, we proposed a novel mutual cons...   \n",
              "3  Consistency training has proven to be an advan...   \n",
              "4  To ensure safety in automated driving, the cor...   \n",
              "\n",
              "                         terms  \n",
              "0           ['cs.CV', 'cs.LG']  \n",
              "1  ['cs.CV', 'cs.AI', 'cs.LG']  \n",
              "2           ['cs.CV', 'cs.AI']  \n",
              "3                    ['cs.CV']  \n",
              "4           ['cs.CV', 'cs.LG']  "
            ],
            "text/html": [
              "\n",
              "  <div id=\"df-e4329a25-7e92-446a-8e22-c408584f20eb\" class=\"colab-df-container\">\n",
              "    <div>\n",
              "<style scoped>\n",
              "    .dataframe tbody tr th:only-of-type {\n",
              "        vertical-align: middle;\n",
              "    }\n",
              "\n",
              "    .dataframe tbody tr th {\n",
              "        vertical-align: top;\n",
              "    }\n",
              "\n",
              "    .dataframe thead th {\n",
              "        text-align: right;\n",
              "    }\n",
              "</style>\n",
              "<table border=\"1\" class=\"dataframe\">\n",
              "  <thead>\n",
              "    <tr style=\"text-align: right;\">\n",
              "      <th></th>\n",
              "      <th>titles</th>\n",
              "      <th>summaries</th>\n",
              "      <th>terms</th>\n",
              "    </tr>\n",
              "  </thead>\n",
              "  <tbody>\n",
              "    <tr>\n",
              "      <th>0</th>\n",
              "      <td>Survey on Semantic Stereo Matching / Semantic ...</td>\n",
              "      <td>Stereo matching is one of the widely used tech...</td>\n",
              "      <td>['cs.CV', 'cs.LG']</td>\n",
              "    </tr>\n",
              "    <tr>\n",
              "      <th>1</th>\n",
              "      <td>FUTURE-AI: Guiding Principles and Consensus Re...</td>\n",
              "      <td>The recent advancements in artificial intellig...</td>\n",
              "      <td>['cs.CV', 'cs.AI', 'cs.LG']</td>\n",
              "    </tr>\n",
              "    <tr>\n",
              "      <th>2</th>\n",
              "      <td>Enforcing Mutual Consistency of Hard Regions f...</td>\n",
              "      <td>In this paper, we proposed a novel mutual cons...</td>\n",
              "      <td>['cs.CV', 'cs.AI']</td>\n",
              "    </tr>\n",
              "    <tr>\n",
              "      <th>3</th>\n",
              "      <td>Parameter Decoupling Strategy for Semi-supervi...</td>\n",
              "      <td>Consistency training has proven to be an advan...</td>\n",
              "      <td>['cs.CV']</td>\n",
              "    </tr>\n",
              "    <tr>\n",
              "      <th>4</th>\n",
              "      <td>Background-Foreground Segmentation for Interio...</td>\n",
              "      <td>To ensure safety in automated driving, the cor...</td>\n",
              "      <td>['cs.CV', 'cs.LG']</td>\n",
              "    </tr>\n",
              "  </tbody>\n",
              "</table>\n",
              "</div>\n",
              "    <div class=\"colab-df-buttons\">\n",
              "\n",
              "  <div class=\"colab-df-container\">\n",
              "    <button class=\"colab-df-convert\" onclick=\"convertToInteractive('df-e4329a25-7e92-446a-8e22-c408584f20eb')\"\n",
              "            title=\"Convert this dataframe to an interactive table.\"\n",
              "            style=\"display:none;\">\n",
              "\n",
              "  <svg xmlns=\"http://www.w3.org/2000/svg\" height=\"24px\" viewBox=\"0 -960 960 960\">\n",
              "    <path d=\"M120-120v-720h720v720H120Zm60-500h600v-160H180v160Zm220 220h160v-160H400v160Zm0 220h160v-160H400v160ZM180-400h160v-160H180v160Zm440 0h160v-160H620v160ZM180-180h160v-160H180v160Zm440 0h160v-160H620v160Z\"/>\n",
              "  </svg>\n",
              "    </button>\n",
              "\n",
              "  <style>\n",
              "    .colab-df-container {\n",
              "      display:flex;\n",
              "      gap: 12px;\n",
              "    }\n",
              "\n",
              "    .colab-df-convert {\n",
              "      background-color: #E8F0FE;\n",
              "      border: none;\n",
              "      border-radius: 50%;\n",
              "      cursor: pointer;\n",
              "      display: none;\n",
              "      fill: #1967D2;\n",
              "      height: 32px;\n",
              "      padding: 0 0 0 0;\n",
              "      width: 32px;\n",
              "    }\n",
              "\n",
              "    .colab-df-convert:hover {\n",
              "      background-color: #E2EBFA;\n",
              "      box-shadow: 0px 1px 2px rgba(60, 64, 67, 0.3), 0px 1px 3px 1px rgba(60, 64, 67, 0.15);\n",
              "      fill: #174EA6;\n",
              "    }\n",
              "\n",
              "    .colab-df-buttons div {\n",
              "      margin-bottom: 4px;\n",
              "    }\n",
              "\n",
              "    [theme=dark] .colab-df-convert {\n",
              "      background-color: #3B4455;\n",
              "      fill: #D2E3FC;\n",
              "    }\n",
              "\n",
              "    [theme=dark] .colab-df-convert:hover {\n",
              "      background-color: #434B5C;\n",
              "      box-shadow: 0px 1px 3px 1px rgba(0, 0, 0, 0.15);\n",
              "      filter: drop-shadow(0px 1px 2px rgba(0, 0, 0, 0.3));\n",
              "      fill: #FFFFFF;\n",
              "    }\n",
              "  </style>\n",
              "\n",
              "    <script>\n",
              "      const buttonEl =\n",
              "        document.querySelector('#df-e4329a25-7e92-446a-8e22-c408584f20eb button.colab-df-convert');\n",
              "      buttonEl.style.display =\n",
              "        google.colab.kernel.accessAllowed ? 'block' : 'none';\n",
              "\n",
              "      async function convertToInteractive(key) {\n",
              "        const element = document.querySelector('#df-e4329a25-7e92-446a-8e22-c408584f20eb');\n",
              "        const dataTable =\n",
              "          await google.colab.kernel.invokeFunction('convertToInteractive',\n",
              "                                                    [key], {});\n",
              "        if (!dataTable) return;\n",
              "\n",
              "        const docLinkHtml = 'Like what you see? Visit the ' +\n",
              "          '<a target=\"_blank\" href=https://colab.research.google.com/notebooks/data_table.ipynb>data table notebook</a>'\n",
              "          + ' to learn more about interactive tables.';\n",
              "        element.innerHTML = '';\n",
              "        dataTable['output_type'] = 'display_data';\n",
              "        await google.colab.output.renderOutput(dataTable, element);\n",
              "        const docLink = document.createElement('div');\n",
              "        docLink.innerHTML = docLinkHtml;\n",
              "        element.appendChild(docLink);\n",
              "      }\n",
              "    </script>\n",
              "  </div>\n",
              "\n",
              "\n",
              "<div id=\"df-f294a86b-6f56-47c6-acd7-d22998de1e4c\">\n",
              "  <button class=\"colab-df-quickchart\" onclick=\"quickchart('df-f294a86b-6f56-47c6-acd7-d22998de1e4c')\"\n",
              "            title=\"Suggest charts.\"\n",
              "            style=\"display:none;\">\n",
              "\n",
              "<svg xmlns=\"http://www.w3.org/2000/svg\" height=\"24px\"viewBox=\"0 0 24 24\"\n",
              "     width=\"24px\">\n",
              "    <g>\n",
              "        <path d=\"M19 3H5c-1.1 0-2 .9-2 2v14c0 1.1.9 2 2 2h14c1.1 0 2-.9 2-2V5c0-1.1-.9-2-2-2zM9 17H7v-7h2v7zm4 0h-2V7h2v10zm4 0h-2v-4h2v4z\"/>\n",
              "    </g>\n",
              "</svg>\n",
              "  </button>\n",
              "\n",
              "<style>\n",
              "  .colab-df-quickchart {\n",
              "      --bg-color: #E8F0FE;\n",
              "      --fill-color: #1967D2;\n",
              "      --hover-bg-color: #E2EBFA;\n",
              "      --hover-fill-color: #174EA6;\n",
              "      --disabled-fill-color: #AAA;\n",
              "      --disabled-bg-color: #DDD;\n",
              "  }\n",
              "\n",
              "  [theme=dark] .colab-df-quickchart {\n",
              "      --bg-color: #3B4455;\n",
              "      --fill-color: #D2E3FC;\n",
              "      --hover-bg-color: #434B5C;\n",
              "      --hover-fill-color: #FFFFFF;\n",
              "      --disabled-bg-color: #3B4455;\n",
              "      --disabled-fill-color: #666;\n",
              "  }\n",
              "\n",
              "  .colab-df-quickchart {\n",
              "    background-color: var(--bg-color);\n",
              "    border: none;\n",
              "    border-radius: 50%;\n",
              "    cursor: pointer;\n",
              "    display: none;\n",
              "    fill: var(--fill-color);\n",
              "    height: 32px;\n",
              "    padding: 0;\n",
              "    width: 32px;\n",
              "  }\n",
              "\n",
              "  .colab-df-quickchart:hover {\n",
              "    background-color: var(--hover-bg-color);\n",
              "    box-shadow: 0 1px 2px rgba(60, 64, 67, 0.3), 0 1px 3px 1px rgba(60, 64, 67, 0.15);\n",
              "    fill: var(--button-hover-fill-color);\n",
              "  }\n",
              "\n",
              "  .colab-df-quickchart-complete:disabled,\n",
              "  .colab-df-quickchart-complete:disabled:hover {\n",
              "    background-color: var(--disabled-bg-color);\n",
              "    fill: var(--disabled-fill-color);\n",
              "    box-shadow: none;\n",
              "  }\n",
              "\n",
              "  .colab-df-spinner {\n",
              "    border: 2px solid var(--fill-color);\n",
              "    border-color: transparent;\n",
              "    border-bottom-color: var(--fill-color);\n",
              "    animation:\n",
              "      spin 1s steps(1) infinite;\n",
              "  }\n",
              "\n",
              "  @keyframes spin {\n",
              "    0% {\n",
              "      border-color: transparent;\n",
              "      border-bottom-color: var(--fill-color);\n",
              "      border-left-color: var(--fill-color);\n",
              "    }\n",
              "    20% {\n",
              "      border-color: transparent;\n",
              "      border-left-color: var(--fill-color);\n",
              "      border-top-color: var(--fill-color);\n",
              "    }\n",
              "    30% {\n",
              "      border-color: transparent;\n",
              "      border-left-color: var(--fill-color);\n",
              "      border-top-color: var(--fill-color);\n",
              "      border-right-color: var(--fill-color);\n",
              "    }\n",
              "    40% {\n",
              "      border-color: transparent;\n",
              "      border-right-color: var(--fill-color);\n",
              "      border-top-color: var(--fill-color);\n",
              "    }\n",
              "    60% {\n",
              "      border-color: transparent;\n",
              "      border-right-color: var(--fill-color);\n",
              "    }\n",
              "    80% {\n",
              "      border-color: transparent;\n",
              "      border-right-color: var(--fill-color);\n",
              "      border-bottom-color: var(--fill-color);\n",
              "    }\n",
              "    90% {\n",
              "      border-color: transparent;\n",
              "      border-bottom-color: var(--fill-color);\n",
              "    }\n",
              "  }\n",
              "</style>\n",
              "\n",
              "  <script>\n",
              "    async function quickchart(key) {\n",
              "      const quickchartButtonEl =\n",
              "        document.querySelector('#' + key + ' button');\n",
              "      quickchartButtonEl.disabled = true;  // To prevent multiple clicks.\n",
              "      quickchartButtonEl.classList.add('colab-df-spinner');\n",
              "      try {\n",
              "        const charts = await google.colab.kernel.invokeFunction(\n",
              "            'suggestCharts', [key], {});\n",
              "      } catch (error) {\n",
              "        console.error('Error during call to suggestCharts:', error);\n",
              "      }\n",
              "      quickchartButtonEl.classList.remove('colab-df-spinner');\n",
              "      quickchartButtonEl.classList.add('colab-df-quickchart-complete');\n",
              "    }\n",
              "    (() => {\n",
              "      let quickchartButtonEl =\n",
              "        document.querySelector('#df-f294a86b-6f56-47c6-acd7-d22998de1e4c button');\n",
              "      quickchartButtonEl.style.display =\n",
              "        google.colab.kernel.accessAllowed ? 'block' : 'none';\n",
              "    })();\n",
              "  </script>\n",
              "</div>\n",
              "    </div>\n",
              "  </div>\n"
            ]
          },
          "metadata": {},
          "execution_count": 2
        }
      ],
      "source": [
        "arxiv_data = pd.read_csv(\n",
        "    \"https://github.com/soumik12345/multi-label-text-classification/releases/download/v0.2/arxiv_data.csv\"\n",
        ")\n",
        "arxiv_data.head()"
      ]
    },
    {
      "cell_type": "markdown",
      "metadata": {
        "id": "7DKkzQxT7hQR"
      },
      "source": [
        "Our text features are present in the `summaries` column and their corresponding labels\n",
        "are in `terms`. As you can notice, there are multiple categories associated with a\n",
        "particular entry."
      ]
    },
    {
      "cell_type": "code",
      "execution_count": 3,
      "metadata": {
        "id": "1LvM9vZl7hQR",
        "colab": {
          "base_uri": "https://localhost:8080/"
        },
        "outputId": "27669608-cc77-486f-ac3d-b438d66853c4"
      },
      "outputs": [
        {
          "output_type": "stream",
          "name": "stdout",
          "text": [
            "There are 51774 rows in the dataset.\n"
          ]
        }
      ],
      "source": [
        "print(f\"There are {len(arxiv_data)} rows in the dataset.\")"
      ]
    },
    {
      "cell_type": "markdown",
      "metadata": {
        "id": "NaHi-1X67hQS"
      },
      "source": [
        "Real-world data is noisy. One of the most commonly observed source of noise is data\n",
        "duplication. Here we notice that our initial dataset has got about 13k duplicate entries."
      ]
    },
    {
      "cell_type": "code",
      "execution_count": 4,
      "metadata": {
        "id": "I-I9LebF7hQS",
        "colab": {
          "base_uri": "https://localhost:8080/"
        },
        "outputId": "02b8d20b-162b-4160-cbbc-e712ecddd51c"
      },
      "outputs": [
        {
          "output_type": "stream",
          "name": "stdout",
          "text": [
            "There are 12802 duplicate titles.\n"
          ]
        }
      ],
      "source": [
        "total_duplicate_titles = sum(arxiv_data[\"titles\"].duplicated())\n",
        "print(f\"There are {total_duplicate_titles} duplicate titles.\")"
      ]
    },
    {
      "cell_type": "markdown",
      "metadata": {
        "id": "j8ND3LUi7hQT"
      },
      "source": [
        "Before proceeding further, we drop these entries."
      ]
    },
    {
      "cell_type": "code",
      "execution_count": 5,
      "metadata": {
        "id": "knEcIZXD7hQT",
        "colab": {
          "base_uri": "https://localhost:8080/"
        },
        "outputId": "cac84adf-d2d3-4dc4-83a7-4e9d6444e88c"
      },
      "outputs": [
        {
          "output_type": "stream",
          "name": "stdout",
          "text": [
            "There are 38972 rows in the deduplicated dataset.\n",
            "2321\n",
            "3157\n"
          ]
        }
      ],
      "source": [
        "arxiv_data = arxiv_data[~arxiv_data[\"titles\"].duplicated()]\n",
        "print(f\"There are {len(arxiv_data)} rows in the deduplicated dataset.\")\n",
        "\n",
        "# There are some terms with occurrence as low as 1.\n",
        "print(sum(arxiv_data[\"terms\"].value_counts() == 1))\n",
        "\n",
        "# How many unique terms?\n",
        "print(arxiv_data[\"terms\"].nunique())"
      ]
    },
    {
      "cell_type": "markdown",
      "metadata": {
        "id": "bHtzlGsQ7hQT"
      },
      "source": [
        "As observed above, out of 3,157 unique combinations of `terms`, 2,321 entries have the\n",
        "lowest occurrence. To prepare our train, validation, and test sets with\n",
        "[stratification](https://en.wikipedia.org/wiki/Stratified_sampling), we need to drop\n",
        "these terms."
      ]
    },
    {
      "cell_type": "code",
      "execution_count": 6,
      "metadata": {
        "id": "wifwe5kO7hQT",
        "colab": {
          "base_uri": "https://localhost:8080/"
        },
        "outputId": "0564886f-3239-444e-fe21-27344228353c"
      },
      "outputs": [
        {
          "output_type": "execute_result",
          "data": {
            "text/plain": [
              "(36651, 3)"
            ]
          },
          "metadata": {},
          "execution_count": 6
        }
      ],
      "source": [
        "# Filtering the rare terms.\n",
        "arxiv_data_filtered = arxiv_data.groupby(\"terms\").filter(lambda x: len(x) > 1)\n",
        "arxiv_data_filtered.shape"
      ]
    },
    {
      "cell_type": "markdown",
      "metadata": {
        "id": "ltRoORL97hQT"
      },
      "source": [
        "## Convert the string labels to lists of strings\n",
        "\n",
        "The initial labels are represented as raw strings. Here we make them `List[str]` for a\n",
        "more compact representation."
      ]
    },
    {
      "cell_type": "code",
      "execution_count": 7,
      "metadata": {
        "id": "xrc8xUej7hQT",
        "colab": {
          "base_uri": "https://localhost:8080/"
        },
        "outputId": "d54879c8-0e16-4af8-9cd8-577d076083ca"
      },
      "outputs": [
        {
          "output_type": "execute_result",
          "data": {
            "text/plain": [
              "array([list(['cs.CV', 'cs.LG']), list(['cs.CV', 'cs.AI', 'cs.LG']),\n",
              "       list(['cs.CV', 'cs.AI']), list(['cs.CV']),\n",
              "       list(['cs.CV', 'cs.LG'])], dtype=object)"
            ]
          },
          "metadata": {},
          "execution_count": 7
        }
      ],
      "source": [
        "arxiv_data_filtered[\"terms\"] = arxiv_data_filtered[\"terms\"].apply(\n",
        "    lambda x: literal_eval(x)\n",
        ")\n",
        "arxiv_data_filtered[\"terms\"].values[:5]"
      ]
    },
    {
      "cell_type": "markdown",
      "metadata": {
        "id": "HpcztM3U7hQU"
      },
      "source": [
        "## Use stratified splits because of class imbalance\n",
        "\n",
        "The dataset has a\n",
        "[class imbalance problem](https://developers.google.com/machine-learning/glossary/#class-imbalanced-dataset).\n",
        "So, to have a fair evaluation result, we need to ensure the datasets are sampled with\n",
        "stratification. To know more about different strategies to deal with the class imbalance\n",
        "problem, you can follow\n",
        "[this tutorial](https://www.tensorflow.org/tutorials/structured_data/imbalanced_data).\n",
        "For an end-to-end demonstration of classification with imbablanced data, refer to\n",
        "[Imbalanced classification: credit card fraud detection](https://keras.io/examples/structured_data/imbalanced_classification/)."
      ]
    },
    {
      "cell_type": "code",
      "execution_count": 8,
      "metadata": {
        "id": "ZIOthoIR7hQU",
        "colab": {
          "base_uri": "https://localhost:8080/"
        },
        "outputId": "6e0c50db-1cb2-434a-beb3-4bca3432af14"
      },
      "outputs": [
        {
          "output_type": "stream",
          "name": "stdout",
          "text": [
            "Number of rows in training set: 32985\n",
            "Number of rows in validation set: 1833\n",
            "Number of rows in test set: 1833\n"
          ]
        }
      ],
      "source": [
        "test_split = 0.1\n",
        "\n",
        "# Initial train and test split.\n",
        "train_df, test_df = train_test_split(\n",
        "    arxiv_data_filtered,\n",
        "    test_size=test_split,\n",
        "    stratify=arxiv_data_filtered[\"terms\"].values,\n",
        ")\n",
        "\n",
        "# Splitting the test set further into validation\n",
        "# and new test sets.\n",
        "val_df = test_df.sample(frac=0.5)\n",
        "test_df.drop(val_df.index, inplace=True)\n",
        "\n",
        "print(f\"Number of rows in training set: {len(train_df)}\")\n",
        "print(f\"Number of rows in validation set: {len(val_df)}\")\n",
        "print(f\"Number of rows in test set: {len(test_df)}\")"
      ]
    },
    {
      "cell_type": "markdown",
      "metadata": {
        "id": "GyoytqfU7hQU"
      },
      "source": [
        "## Multi-label binarization\n",
        "\n",
        "Now we preprocess our labels using the\n",
        "[`StringLookup`](https://keras.io/api/layers/preprocessing_layers/categorical/string_lookup)\n",
        "layer."
      ]
    },
    {
      "cell_type": "code",
      "execution_count": 9,
      "metadata": {
        "id": "_P2Y7OUg7hQU",
        "colab": {
          "base_uri": "https://localhost:8080/"
        },
        "outputId": "1bb2162a-b087-4b32-c15f-bd71295ec7f0"
      },
      "outputs": [
        {
          "output_type": "stream",
          "name": "stdout",
          "text": [
            "Vocabulary:\n",
            "\n",
            "['[UNK]', 'cs.CV', 'cs.LG', 'stat.ML', 'cs.AI', 'eess.IV', 'cs.RO', 'cs.CL', 'cs.NE', 'cs.CR', 'math.OC', 'eess.SP', 'cs.GR', 'cs.SI', 'cs.MM', 'cs.SY', 'cs.IR', 'cs.MA', 'eess.SY', 'cs.HC', 'math.IT', 'cs.IT', 'cs.DC', 'cs.CY', 'stat.AP', 'stat.TH', 'math.ST', 'stat.ME', 'eess.AS', 'cs.SD', 'q-bio.QM', 'q-bio.NC', 'cs.DS', 'cs.GT', 'cs.CG', 'cs.SE', 'cs.NI', 'stat.CO', 'I.2.6', 'math.NA', 'cs.NA', 'physics.chem-ph', 'cs.DB', 'q-bio.BM', 'cs.LO', 'cs.PL', 'cond-mat.dis-nn', '68T45', 'math.PR', 'physics.comp-ph', 'I.2.10', 'cs.CE', 'cs.AR', 'q-fin.ST', 'cond-mat.stat-mech', 'quant-ph', 'math.DS', '68T05', 'cs.CC', 'I.4.6', 'physics.data-an', 'physics.ao-ph', 'physics.soc-ph', 'cs.DM', 'econ.EM', 'q-bio.GN', 'physics.med-ph', 'astro-ph.IM', 'I.4.8', 'math.AT', 'cs.PF', 'I.4', 'q-fin.TR', 'cs.FL', 'I.5.4', 'I.2', '68U10', 'hep-ex', '68T10', 'physics.optics', 'physics.geo-ph', 'cond-mat.mtrl-sci', 'physics.flu-dyn', 'math.CO', 'math.AP', 'I.4; I.5', 'I.4.9', 'I.2.6; I.2.8', 'I.2.10; I.4; I.5', '68T01', '65D19', 'q-fin.CP', 'nlin.CD', 'cs.MS', 'I.2.6; I.5.1', 'I.2.0; I.2.6', '68T07', 'q-fin.GN', 'cs.SC', 'cs.ET', 'K.3.2', 'I.2.8', 'I.2.10; I.4.8', '68U01', '68T30', 'q-fin.EC', 'q-bio.MN', 'econ.GN', 'I.4.9; I.5.4', 'I.4.5', 'I.2; I.5', 'I.2; I.4; I.5', 'I.2.6; I.2.7', '68T99', '68Q32', '68', '62H30', 'q-fin.RM', 'q-fin.PM', 'q-bio.TO', 'q-bio.OT', 'physics.bio-ph', 'nlin.AO', 'math.LO', 'math.FA', 'hep-ph', 'cond-mat.soft', 'I.4.6; I.4.8', 'I.4.4', 'I.4.3', 'I.4.0', 'I.2; J.2', 'I.2; I.2.6; I.2.7', 'I.2.7', 'I.2.6; I.5.4', 'I.2.6; I.2.9', 'I.2.6; I.2.7; H.3.1; H.3.3', 'I.2.6; I.2.10', 'I.2.6, I.5.4', 'I.2.1; J.3', 'I.2.10; I.5.1; I.4.8', 'I.2.10; I.4.8; I.5.4', 'I.2.10; I.2.6', 'I.2.1', 'H.3.1; I.2.6; I.2.7', 'H.3.1; H.3.3; I.2.6; I.2.7', 'G.3', 'F.2.2; I.2.7', 'E.5; E.4; E.2; H.1.1; F.1.1; F.1.3', '68Txx', '62H99', '62H35', '14J60 (Primary) 14F05, 14J26 (Secondary)']\n"
          ]
        }
      ],
      "source": [
        "terms = tf.ragged.constant(train_df[\"terms\"].values)\n",
        "lookup = tf.keras.layers.StringLookup(output_mode=\"multi_hot\")\n",
        "lookup.adapt(terms)\n",
        "vocab = lookup.get_vocabulary()\n",
        "\n",
        "\n",
        "def invert_multi_hot(encoded_labels):\n",
        "    \"\"\"Reverse a single multi-hot encoded label to a tuple of vocab terms.\"\"\"\n",
        "    hot_indices = np.argwhere(encoded_labels == 1.0)[..., 0]\n",
        "    return np.take(vocab, hot_indices)\n",
        "\n",
        "\n",
        "print(\"Vocabulary:\\n\")\n",
        "print(vocab)\n"
      ]
    },
    {
      "cell_type": "markdown",
      "metadata": {
        "id": "S1mRaMza7hQU"
      },
      "source": [
        "Here we are separating the individual unique classes available from the label\n",
        "pool and then using this information to represent a given label set with 0's and 1's.\n",
        "Below is an example."
      ]
    },
    {
      "cell_type": "code",
      "execution_count": 10,
      "metadata": {
        "id": "OV5blOsR7hQV",
        "colab": {
          "base_uri": "https://localhost:8080/"
        },
        "outputId": "d44529dd-65cb-4e9e-fbd3-77020070351e"
      },
      "outputs": [
        {
          "output_type": "stream",
          "name": "stdout",
          "text": [
            "Original label: ['cs.CV']\n",
            "Label-binarized representation: [[0. 1. 0. 0. 0. 0. 0. 0. 0. 0. 0. 0. 0. 0. 0. 0. 0. 0. 0. 0. 0. 0. 0. 0.\n",
            "  0. 0. 0. 0. 0. 0. 0. 0. 0. 0. 0. 0. 0. 0. 0. 0. 0. 0. 0. 0. 0. 0. 0. 0.\n",
            "  0. 0. 0. 0. 0. 0. 0. 0. 0. 0. 0. 0. 0. 0. 0. 0. 0. 0. 0. 0. 0. 0. 0. 0.\n",
            "  0. 0. 0. 0. 0. 0. 0. 0. 0. 0. 0. 0. 0. 0. 0. 0. 0. 0. 0. 0. 0. 0. 0. 0.\n",
            "  0. 0. 0. 0. 0. 0. 0. 0. 0. 0. 0. 0. 0. 0. 0. 0. 0. 0. 0. 0. 0. 0. 0. 0.\n",
            "  0. 0. 0. 0. 0. 0. 0. 0. 0. 0. 0. 0. 0. 0. 0. 0. 0. 0. 0. 0. 0. 0. 0. 0.\n",
            "  0. 0. 0. 0. 0. 0. 0. 0. 0.]]\n"
          ]
        }
      ],
      "source": [
        "sample_label = train_df[\"terms\"].iloc[0]\n",
        "print(f\"Original label: {sample_label}\")\n",
        "\n",
        "label_binarized = lookup([sample_label])\n",
        "print(f\"Label-binarized representation: {label_binarized}\")"
      ]
    },
    {
      "cell_type": "markdown",
      "metadata": {
        "id": "bDbnlwZy7hQV"
      },
      "source": [
        "## Data preprocessing and `tf.data.Dataset` objects\n",
        "\n",
        "We first get percentile estimates of the sequence lengths. The purpose will be clear in a\n",
        "moment."
      ]
    },
    {
      "cell_type": "code",
      "execution_count": 11,
      "metadata": {
        "id": "bvkdCTXD7hQV",
        "colab": {
          "base_uri": "https://localhost:8080/"
        },
        "outputId": "7f2fc8f5-2b51-463d-86a5-71eb820c6eac"
      },
      "outputs": [
        {
          "output_type": "execute_result",
          "data": {
            "text/plain": [
              "count    32985.000000\n",
              "mean       156.478066\n",
              "std         41.477145\n",
              "min          5.000000\n",
              "25%        128.000000\n",
              "50%        154.000000\n",
              "75%        183.000000\n",
              "max        462.000000\n",
              "Name: summaries, dtype: float64"
            ]
          },
          "metadata": {},
          "execution_count": 11
        }
      ],
      "source": [
        "train_df[\"summaries\"].apply(lambda x: len(x.split(\" \"))).describe()"
      ]
    },
    {
      "cell_type": "markdown",
      "metadata": {
        "id": "Rtn5tiQd7hQV"
      },
      "source": [
        "Notice that 50% of the abstracts have a length of 154 (you may get a different number\n",
        "based on the split). So, any number close to that value is a good enough approximate for the\n",
        "maximum sequence length.\n",
        "\n",
        "Now, we implement utilities to prepare our datasets."
      ]
    },
    {
      "cell_type": "code",
      "execution_count": 12,
      "metadata": {
        "id": "EsS17aLx7hQV"
      },
      "outputs": [],
      "source": [
        "max_seqlen = 150\n",
        "batch_size = 128\n",
        "padding_token = \"<pad>\"\n",
        "auto = tf.data.AUTOTUNE\n",
        "\n",
        "\n",
        "def make_dataset(dataframe, is_train=True):\n",
        "    labels = tf.ragged.constant(dataframe[\"terms\"].values)\n",
        "    label_binarized = lookup(labels).numpy()\n",
        "    dataset = tf.data.Dataset.from_tensor_slices(\n",
        "        (dataframe[\"summaries\"].values, label_binarized)\n",
        "    )\n",
        "    dataset = dataset.shuffle(batch_size * 10) if is_train else dataset\n",
        "    return dataset.batch(batch_size)\n"
      ]
    },
    {
      "cell_type": "markdown",
      "metadata": {
        "id": "j-WjsPfQ7hQV"
      },
      "source": [
        "Now we can prepare the `tf.data.Dataset` objects."
      ]
    },
    {
      "cell_type": "code",
      "execution_count": 13,
      "metadata": {
        "id": "dxG67RtJ7hQV"
      },
      "outputs": [],
      "source": [
        "train_dataset = make_dataset(train_df, is_train=True)\n",
        "validation_dataset = make_dataset(val_df, is_train=False)\n",
        "test_dataset = make_dataset(test_df, is_train=False)"
      ]
    },
    {
      "cell_type": "markdown",
      "metadata": {
        "id": "bgqZ_Xk47hQV"
      },
      "source": [
        "## Dataset preview"
      ]
    },
    {
      "cell_type": "code",
      "execution_count": 14,
      "metadata": {
        "id": "mJm5i9cy7hQW",
        "colab": {
          "base_uri": "https://localhost:8080/"
        },
        "outputId": "68080b61-c765-45d0-bd2b-f10c44c56c5d"
      },
      "outputs": [
        {
          "output_type": "stream",
          "name": "stdout",
          "text": [
            "Abstract: b\"Seizure detection from EEGs is a challenging and time consuming clinical\\nproblem that would benefit from the development of automated algorithms. EEGs\\ncan be viewed as structural time series, because they are multivariate time\\nseries where the placement of leads on a patient's scalp provides prior\\ninformation about the structure of interactions. Commonly used deep learning\\nmodels for time series don't offer a way to leverage structural information,\\nbut this would be desirable in a model for structural time series. To address\\nthis challenge, we propose the temporal graph convolutional network (TGCN), a\\nmodel that leverages structural information and has relatively few parameters.\\nTGCNs apply feature extraction operations that are localized and shared over\\nboth time and space, thereby providing a useful inductive bias in tasks where\\none expects similar features to be discriminative across the different\\nsequences. In our experiments we focus on metrics that are most important to\\nseizure detection, and demonstrate that TGCN matches the performance of related\\nmodels that have been shown to be state of the art in other tasks.\\nAdditionally, we investigate interpretability advantages of TGCN by exploring\\napproaches for helping clinicians determine when precisely seizures occur, and\\nthe parts of the brain that are most involved.\"\n",
            "Label(s): ['cs.LG' 'stat.ML' 'eess.SP']\n",
            " \n",
            "Abstract: b'The performance of existing point cloud-based 3D object detection methods\\nheavily relies on large-scale high-quality 3D annotations. However, such\\nannotations are often tedious and expensive to collect. Semi-supervised\\nlearning is a good alternative to mitigate the data annotation issue, but has\\nremained largely unexplored in 3D object detection. Inspired by the recent\\nsuccess of self-ensembling technique in semi-supervised image classification\\ntask, we propose SESS, a self-ensembling semi-supervised 3D object detection\\nframework. Specifically, we design a thorough perturbation scheme to enhance\\ngeneralization of the network on unlabeled and new unseen data. Furthermore, we\\npropose three consistency losses to enforce the consistency between two sets of\\npredicted 3D object proposals, to facilitate the learning of structure and\\nsemantic invariances of objects. Extensive experiments conducted on SUN RGB-D\\nand ScanNet datasets demonstrate the effectiveness of SESS in both inductive\\nand transductive semi-supervised 3D object detection. Our SESS achieves\\ncompetitive performance compared to the state-of-the-art fully-supervised\\nmethod by using only 50% labeled data. Our code is available at\\nhttps://github.com/Na-Z/sess.'\n",
            "Label(s): ['cs.CV']\n",
            " \n",
            "Abstract: b'Most of the semantic segmentation approaches have been developed for single\\nimage segmentation, and hence, video sequences are currently segmented by\\nprocessing each frame of the video sequence separately. The disadvantage of\\nthis is that temporal image information is not considered, which improves the\\nperformance of the segmentation approach. One possibility to include temporal\\ninformation is to use recurrent neural networks. However, there are only a few\\napproaches using recurrent networks for video segmentation so far. These\\napproaches extend the encoder-decoder network architecture of well-known\\nsegmentation approaches and place convolutional LSTM layers between encoder and\\ndecoder. However, in this paper it is shown that this position is not optimal,\\nand that other positions in the network exhibit better performance. Nowadays,\\nstate-of-the-art segmentation approaches rarely use the classical\\nencoder-decoder structure, but use multi-branch architectures. These\\narchitectures are more complex, and hence, it is more difficult to place the\\nrecurrent units at a proper position. In this work, the multi-branch\\narchitectures are extended by convolutional LSTM layers at different positions\\nand evaluated on two different datasets in order to find the best one. It\\nturned out that the proposed approach outperforms the pure CNN-based approach\\nfor up to 1.6 percent.'\n",
            "Label(s): ['cs.CV' 'cs.AI']\n",
            " \n",
            "Abstract: b'This work focuses on object goal visual navigation, aiming at finding the\\nlocation of an object from a given class, where in each step the agent is\\nprovided with an egocentric RGB image of the scene. We propose to learn the\\nagent\\'s policy using a reinforcement learning algorithm. Our key contribution\\nis a novel attention probability model for visual navigation tasks. This\\nattention encodes semantic information about observed objects, as well as\\nspatial information about their place. This combination of the \"what\" and the\\n\"where\" allows the agent to navigate toward the sought-after object\\neffectively. The attention model is shown to improve the agent\\'s policy and to\\nachieve state-of-the-art results on commonly-used datasets.'\n",
            "Label(s): ['cs.CV' 'cs.LG']\n",
            " \n",
            "Abstract: b\"In many settings, it is desirable to learn decision-making and control\\npolicies through learning or bootstrapping from expert demonstrations. The most\\ncommon approaches under this Imitation Learning (IL) framework are Behavioural\\nCloning (BC), and Inverse Reinforcement Learning (IRL). Recent methods for IRL\\nhave demonstrated the capacity to learn effective policies with access to a\\nvery limited set of demonstrations, a scenario in which BC methods often fail.\\nUnfortunately, due to multiple factors of variation, directly comparing these\\nmethods does not provide adequate intuition for understanding this difference\\nin performance. In this work, we present a unified probabilistic perspective on\\nIL algorithms based on divergence minimization. We present $f$-MAX, an\\n$f$-divergence generalization of AIRL [Fu et al., 2018], a state-of-the-art IRL\\nmethod. $f$-MAX enables us to relate prior IRL methods such as GAIL [Ho &\\nErmon, 2016] and AIRL [Fu et al., 2018], and understand their algorithmic\\nproperties. Through the lens of divergence minimization we tease apart the\\ndifferences between BC and successful IRL approaches, and empirically evaluate\\nthese nuances on simulated high-dimensional continuous control domains. Our\\nfindings conclusively identify that IRL's state-marginal matching objective\\ncontributes most to its superior performance. Lastly, we apply our new\\nunderstanding of IL methods to the problem of state-marginal matching, where we\\ndemonstrate that in simulated arm pushing environments we can teach agents a\\ndiverse range of behaviours using simply hand-specified state distributions and\\nno reward functions or expert demonstrations. For datasets and reproducing\\nresults please refer to\\nhttps://github.com/KamyarGh/rl_swiss/blob/master/reproducing/fmax_paper.md .\"\n",
            "Label(s): ['cs.LG' 'stat.ML']\n",
            " \n"
          ]
        }
      ],
      "source": [
        "text_batch, label_batch = next(iter(train_dataset))\n",
        "\n",
        "for i, text in enumerate(text_batch[:5]):\n",
        "    label = label_batch[i].numpy()[None, ...]\n",
        "    print(f\"Abstract: {text}\")\n",
        "    print(f\"Label(s): {invert_multi_hot(label[0])}\")\n",
        "    print(\" \")"
      ]
    },
    {
      "cell_type": "markdown",
      "metadata": {
        "id": "F0iBcnPE7hQW"
      },
      "source": [
        "## Vectorization\n",
        "\n",
        "Before we feed the data to our model, we need to vectorize it (represent it in a numerical form).\n",
        "For that purpose, we will use the\n",
        "[`TextVectorization` layer](https://keras.io/api/layers/preprocessing_layers/text/text_vectorization).\n",
        "It can operate as a part of your main model so that the model is excluded from the core\n",
        "preprocessing logic. This greatly reduces the chances of training / serving skew during inference.\n",
        "\n",
        "We first calculate the number of unique words present in the abstracts."
      ]
    },
    {
      "cell_type": "code",
      "execution_count": 15,
      "metadata": {
        "id": "9ouMBAsh7hQW",
        "colab": {
          "base_uri": "https://localhost:8080/"
        },
        "outputId": "92194b40-8d90-4802-a3a1-bd848a68e46b"
      },
      "outputs": [
        {
          "output_type": "stream",
          "name": "stdout",
          "text": [
            "153197\n"
          ]
        }
      ],
      "source": [
        "# Source: https://stackoverflow.com/a/18937309/7636462\n",
        "vocabulary = set()\n",
        "train_df[\"summaries\"].str.lower().str.split().apply(vocabulary.update)\n",
        "vocabulary_size = len(vocabulary)\n",
        "print(vocabulary_size)\n"
      ]
    },
    {
      "cell_type": "markdown",
      "metadata": {
        "id": "fPtaC4H97hQW"
      },
      "source": [
        "We now create our vectorization layer and `map()` to the `tf.data.Dataset`s created\n",
        "earlier."
      ]
    },
    {
      "cell_type": "code",
      "execution_count": 16,
      "metadata": {
        "id": "uTbAVjWk7hQW"
      },
      "outputs": [],
      "source": [
        "text_vectorizer = layers.TextVectorization(\n",
        "    max_tokens=vocabulary_size, ngrams=2, output_mode=\"tf_idf\"\n",
        ")\n",
        "\n",
        "# `TextVectorization` layer needs to be adapted as per the vocabulary from our\n",
        "# training set.\n",
        "with tf.device(\"/CPU:0\"):\n",
        "    text_vectorizer.adapt(train_dataset.map(lambda text, label: text))\n",
        "\n",
        "train_dataset = train_dataset.map(\n",
        "    lambda text, label: (text_vectorizer(text), label), num_parallel_calls=auto\n",
        ").prefetch(auto)\n",
        "validation_dataset = validation_dataset.map(\n",
        "    lambda text, label: (text_vectorizer(text), label), num_parallel_calls=auto\n",
        ").prefetch(auto)\n",
        "test_dataset = test_dataset.map(\n",
        "    lambda text, label: (text_vectorizer(text), label), num_parallel_calls=auto\n",
        ").prefetch(auto)\n"
      ]
    },
    {
      "cell_type": "markdown",
      "metadata": {
        "id": "z6OFNSVv7hQW"
      },
      "source": [
        "A batch of raw text will first go through the `TextVectorization` layer and it will\n",
        "generate their integer representations. Internally, the `TextVectorization` layer will\n",
        "first create bi-grams out of the sequences and then represent them using\n",
        "[TF-IDF](https://wikipedia.org/wiki/Tf%E2%80%93idf). The output representations will then\n",
        "be passed to the shallow model responsible for text classification.\n",
        "\n",
        "To learn more about other possible configurations with `TextVectorizer`, please consult\n",
        "the\n",
        "[official documentation](https://keras.io/api/layers/preprocessing_layers/text/text_vectorization).\n",
        "\n",
        "**Note**: Setting the `max_tokens` argument to a pre-calculated vocabulary size is\n",
        "not a requirement."
      ]
    },
    {
      "cell_type": "markdown",
      "metadata": {
        "id": "GUxXfklw7hQW"
      },
      "source": [
        "## Create a text classification model\n",
        "\n",
        "We will keep our model simple -- it will be a small stack of fully-connected layers with\n",
        "ReLU as the non-linearity."
      ]
    },
    {
      "cell_type": "code",
      "execution_count": 17,
      "metadata": {
        "id": "AaGT86yF7hQW"
      },
      "outputs": [],
      "source": [
        "\n",
        "def make_model():\n",
        "    shallow_mlp_model = keras.Sequential(\n",
        "        [\n",
        "            layers.Dense(512, activation=\"relu\"),\n",
        "            layers.Dense(256, activation=\"relu\"),\n",
        "            layers.Dense(lookup.vocabulary_size(), activation=\"sigmoid\"),\n",
        "        ]  # More on why \"sigmoid\" has been used here in a moment.\n",
        "    )\n",
        "    return shallow_mlp_model\n"
      ]
    },
    {
      "cell_type": "markdown",
      "metadata": {
        "id": "aTz7ifJv7hQX"
      },
      "source": [
        "## Train the model\n",
        "\n",
        "We will train our model using the binary crossentropy loss. This is because the labels\n",
        "are not disjoint. For a given abstract, we may have multiple categories. So, we will\n",
        "divide the prediction task into a series of multiple binary classification problems. This\n",
        "is also why we kept the activation function of the classification layer in our model to\n",
        "sigmoid. Researchers have used other combinations of loss function and activation\n",
        "function as well. For example, in [Exploring the Limits of Weakly Supervised Pretraining](https://arxiv.org/abs/1805.00932),\n",
        "Mahajan et al. used the softmax activation function and cross-entropy loss to train\n",
        "their models.\n",
        "\n",
        "There are several options of metrics that can be used in multi-label classification.\n",
        "To keep this code example narrow we decided to use the\n",
        "[binary accuracy metric](https://keras.io/api/metrics/accuracy_metrics/#binaryaccuracy-class).\n",
        "To see the explanation why this metric is used we refer to this\n",
        "[pull-request](https://github.com/keras-team/keras-io/pull/1133#issuecomment-1322736860).\n",
        "There are also other suitable metrics for multi-label classification, like\n",
        "[F1 Score](https://www.tensorflow.org/addons/api_docs/python/tfa/metrics/F1Score) or\n",
        "[Hamming loss](https://www.tensorflow.org/addons/api_docs/python/tfa/metrics/HammingLoss)."
      ]
    },
    {
      "cell_type": "code",
      "execution_count": 18,
      "metadata": {
        "id": "XoAIrwRJ7hQX",
        "colab": {
          "base_uri": "https://localhost:8080/",
          "height": 1000
        },
        "outputId": "45ea21d5-ff8c-4997-c2f4-4f4013127d3b"
      },
      "outputs": [
        {
          "output_type": "stream",
          "name": "stdout",
          "text": [
            "Epoch 1/20\n",
            "258/258 [==============================] - 28s 78ms/step - loss: 0.0312 - binary_accuracy: 0.9897 - val_loss: 0.0181 - val_binary_accuracy: 0.9943\n",
            "Epoch 2/20\n",
            "258/258 [==============================] - 20s 77ms/step - loss: 0.0031 - binary_accuracy: 0.9990 - val_loss: 0.0264 - val_binary_accuracy: 0.9940\n",
            "Epoch 3/20\n",
            "258/258 [==============================] - 20s 77ms/step - loss: 8.8909e-04 - binary_accuracy: 0.9998 - val_loss: 0.0311 - val_binary_accuracy: 0.9939\n",
            "Epoch 4/20\n",
            "258/258 [==============================] - 21s 79ms/step - loss: 4.1202e-04 - binary_accuracy: 0.9999 - val_loss: 0.0361 - val_binary_accuracy: 0.9938\n",
            "Epoch 5/20\n",
            "258/258 [==============================] - 19s 74ms/step - loss: 2.2438e-04 - binary_accuracy: 1.0000 - val_loss: 0.0392 - val_binary_accuracy: 0.9940\n",
            "Epoch 6/20\n",
            "258/258 [==============================] - 20s 78ms/step - loss: 1.3754e-04 - binary_accuracy: 1.0000 - val_loss: 0.0426 - val_binary_accuracy: 0.9938\n",
            "Epoch 7/20\n",
            "258/258 [==============================] - 22s 86ms/step - loss: 1.0946e-04 - binary_accuracy: 1.0000 - val_loss: 0.0441 - val_binary_accuracy: 0.9939\n",
            "Epoch 8/20\n",
            "258/258 [==============================] - 20s 79ms/step - loss: 7.1911e-05 - binary_accuracy: 1.0000 - val_loss: 0.0466 - val_binary_accuracy: 0.9940\n",
            "Epoch 9/20\n",
            "258/258 [==============================] - 20s 77ms/step - loss: 6.2157e-05 - binary_accuracy: 1.0000 - val_loss: 0.0480 - val_binary_accuracy: 0.9937\n",
            "Epoch 10/20\n",
            "258/258 [==============================] - 21s 79ms/step - loss: 6.3685e-05 - binary_accuracy: 1.0000 - val_loss: 0.0494 - val_binary_accuracy: 0.9939\n",
            "Epoch 11/20\n",
            "258/258 [==============================] - 20s 78ms/step - loss: 6.5916e-05 - binary_accuracy: 1.0000 - val_loss: 0.0476 - val_binary_accuracy: 0.9938\n",
            "Epoch 12/20\n",
            "258/258 [==============================] - 19s 74ms/step - loss: 3.4214e-04 - binary_accuracy: 0.9999 - val_loss: 0.0393 - val_binary_accuracy: 0.9939\n",
            "Epoch 13/20\n",
            "258/258 [==============================] - 20s 78ms/step - loss: 9.0091e-04 - binary_accuracy: 0.9997 - val_loss: 0.0417 - val_binary_accuracy: 0.9936\n",
            "Epoch 14/20\n",
            "258/258 [==============================] - 20s 77ms/step - loss: 0.0015 - binary_accuracy: 0.9996 - val_loss: 0.0440 - val_binary_accuracy: 0.9936\n",
            "Epoch 15/20\n",
            "258/258 [==============================] - 22s 84ms/step - loss: 0.0013 - binary_accuracy: 0.9996 - val_loss: 0.0484 - val_binary_accuracy: 0.9934\n",
            "Epoch 16/20\n",
            "258/258 [==============================] - 20s 78ms/step - loss: 8.5825e-04 - binary_accuracy: 0.9998 - val_loss: 0.0534 - val_binary_accuracy: 0.9934\n",
            "Epoch 17/20\n",
            "258/258 [==============================] - 20s 76ms/step - loss: 5.1023e-04 - binary_accuracy: 0.9999 - val_loss: 0.0545 - val_binary_accuracy: 0.9931\n",
            "Epoch 18/20\n",
            "258/258 [==============================] - 20s 77ms/step - loss: 2.0365e-04 - binary_accuracy: 0.9999 - val_loss: 0.0593 - val_binary_accuracy: 0.9932\n",
            "Epoch 19/20\n",
            "258/258 [==============================] - 21s 82ms/step - loss: 1.4179e-04 - binary_accuracy: 1.0000 - val_loss: 0.0620 - val_binary_accuracy: 0.9934\n",
            "Epoch 20/20\n",
            "258/258 [==============================] - 20s 78ms/step - loss: 1.0131e-04 - binary_accuracy: 1.0000 - val_loss: 0.0653 - val_binary_accuracy: 0.9935\n"
          ]
        },
        {
          "output_type": "display_data",
          "data": {
            "text/plain": [
              "<Figure size 640x480 with 1 Axes>"
            ],
            "image/png": "[encoded data removed]"
          },
          "metadata": {}
        },
        {
          "output_type": "display_data",
          "data": {
            "text/plain": [
              "<Figure size 640x480 with 1 Axes>"
            ],
            "image/png": "[encoded data removed]"
          },
          "metadata": {}
        }
      ],
      "source": [
        "epochs = 20\n",
        "\n",
        "shallow_mlp_model = make_model()\n",
        "shallow_mlp_model.compile(\n",
        "    loss=\"binary_crossentropy\", optimizer=\"adam\", metrics=[\"binary_accuracy\"]\n",
        ")\n",
        "\n",
        "history = shallow_mlp_model.fit(\n",
        "    train_dataset, validation_data=validation_dataset, epochs=epochs\n",
        ")\n",
        "\n",
        "\n",
        "def plot_result(item):\n",
        "    plt.plot(history.history[item], label=item)\n",
        "    plt.plot(history.history[\"val_\" + item], label=\"val_\" + item)\n",
        "    plt.xlabel(\"Epochs\")\n",
        "    plt.ylabel(item)\n",
        "    plt.title(\"Train and Validation {} Over Epochs\".format(item), fontsize=14)\n",
        "    plt.legend()\n",
        "    plt.grid()\n",
        "    plt.show()\n",
        "\n",
        "\n",
        "plot_result(\"loss\")\n",
        "plot_result(\"binary_accuracy\")"
      ]
    },
    {
      "cell_type": "markdown",
      "metadata": {
        "id": "7CnksSri7hQb"
      },
      "source": [
        "While training, we notice an initial sharp fall in the loss followed by a gradual decay."
      ]
    },
    {
      "cell_type": "markdown",
      "metadata": {
        "id": "ZlXN7f0s7hQc"
      },
      "source": [
        "### Evaluate the model"
      ]
    },
    {
      "cell_type": "code",
      "execution_count": 19,
      "metadata": {
        "id": "fOLGbA1e7hQc",
        "colab": {
          "base_uri": "https://localhost:8080/"
        },
        "outputId": "7b1ef55c-e282-41c6-ff99-8e8af1d1b730"
      },
      "outputs": [
        {
          "output_type": "stream",
          "name": "stdout",
          "text": [
            "15/15 [==============================] - 1s 54ms/step - loss: 0.0646 - binary_accuracy: 0.9935\n",
            "Categorical accuracy on the test set: 99.35%.\n"
          ]
        }
      ],
      "source": [
        "_, binary_acc = shallow_mlp_model.evaluate(test_dataset)\n",
        "print(f\"Categorical accuracy on the test set: {round(binary_acc * 100, 2)}%.\")"
      ]
    },
    {
      "cell_type": "markdown",
      "metadata": {
        "id": "455CVIVS7hQc"
      },
      "source": [
        "The trained model gives us an evaluation accuracy of ~99%."
      ]
    },
    {
      "cell_type": "markdown",
      "metadata": {
        "id": "fE8GlB8S7hQc"
      },
      "source": [
        "## Inference\n",
        "\n",
        "An important feature of the\n",
        "[preprocessing layers provided by Keras](https://keras.io/guides/preprocessing_layers/)\n",
        "is that they can be included inside a `tf.keras.Model`. We will export an inference model\n",
        "by including the `text_vectorization` layer on top of `shallow_mlp_model`. This will\n",
        "allow our inference model to directly operate on raw strings.\n",
        "\n",
        "**Note** that during training it is always preferable to use these preprocessing\n",
        "layers as a part of the data input pipeline rather than the model to avoid\n",
        "surfacing bottlenecks for the hardware accelerators. This also allows for\n",
        "asynchronous data processing."
      ]
    },
    {
      "cell_type": "code",
      "execution_count": 20,
      "metadata": {
        "id": "UHq8Rt2f7hQc",
        "colab": {
          "base_uri": "https://localhost:8080/"
        },
        "outputId": "fce6621a-ebdf-49da-8ba5-5ec5590206da"
      },
      "outputs": [
        {
          "output_type": "stream",
          "name": "stdout",
          "text": [
            "4/4 [==============================] - 1s 12ms/step\n",
            "Abstract: b'General-purpose object-detection algorithms often dismiss the fine structure\\nof detected objects. This can be traced back to how their proposed regions are\\nevaluated. Our goal is to renegotiate the trade-off between the generality of\\nthese algorithms and their coarse detections. In this work, we present a new\\nmetric that is a marriage of a popular evaluation metric, namely Intersection\\nover Union (IoU), and a geometrical concept, called fractal dimension. We\\npropose Multiscale IoU (MIoU) which allows comparison between the detected and\\nground-truth regions at multiple resolution levels. Through several\\nreproducible examples, we show that MIoU is indeed sensitive to the fine\\nboundary structures which are completely overlooked by IoU and f1-score. We\\nfurther examine the overall reliability of MIoU by comparing its distribution\\nwith that of IoU on synthetic and real-world datasets of objects. We intend\\nthis work to re-initiate exploration of new evaluation methods for\\nobject-detection algorithms.'\n",
            "Label(s): ['cs.CV']\n",
            "Predicted Label(s): (cs.CV, eess.IV, cs.RO)\n",
            " \n",
            "Abstract: b'In this paper, we demonstrate the ability to discriminate between cultivated\\nmaize plant and grass or grass-like weed image segments using the context\\nsurrounding the image segments. While convolutional neural networks have\\nbrought state of the art accuracies within object detection, errors arise when\\nobjects in different classes share similar features. This scenario often occurs\\nwhen objects in images are viewed at too small of a scale to discern distinct\\ndifferences in features, causing images to be incorrectly classified or\\nlocalized. To solve this problem, we will explore using context when\\nclassifying image segments. This technique involves feeding a convolutional\\nneural network a central square image along with a border of its direct\\nsurroundings at train and test times. This means that although images are\\nlabelled at a smaller scale to preserve accurate localization, the network\\nclassifies the images and learns features that include the wider context. We\\ndemonstrate the benefits of this context technique in the object detection task\\nthrough a case study of grass (foxtail) and grass-like (yellow nutsedge) weed\\ndetection in maize fields. In this standard situation, adding context alone\\nnearly halved the error of the neural network from 7.1% to 4.3%. After only one\\nepoch with context, the network also achieved a higher accuracy than the\\nnetwork without context did after 50 epochs. The benefits of using the context\\ntechnique are likely to particularly evident in agricultural contexts in which\\nparts (such as leaves) of several plants may appear similar when not taking\\ninto account the context in which those parts appear.'\n",
            "Label(s): ['cs.CV' 'eess.IV']\n",
            "Predicted Label(s): (cs.CV, cs.GR, cs.LG)\n",
            " \n",
            "Abstract: b\"Web page saliency prediction is a challenge problem in image transformation\\nand computer vision. In this paper, we propose a new model combined with web\\npage outline information to prediction people's interest region in web page.\\nFor each web page image, our model can generate the saliency map which\\nindicates the region of interest for people. A two-stage generative adversarial\\nnetworks are proposed and image outline information is introduced for better\\ntransferring. Experiment results on FIWI dataset show that our model have\\nbetter performance in terms of saliency prediction.\"\n",
            "Label(s): ['cs.CV']\n",
            "Predicted Label(s): (cs.CV, cs.LG, eess.IV)\n",
            " \n",
            "Abstract: b'Graph convolutional networks (GCNs) have gained popularity due to high\\nperformance achievable on several downstream tasks including node\\nclassification. Several architectural variants of these networks have been\\nproposed and investigated with experimental studies in the literature.\\nMotivated by a recent work on simplifying GCNs, we study the problem of\\ndesigning other variants and propose a framework to compose networks using\\nbuilding blocks of GCN. The framework offers flexibility to compose and\\nevaluate different networks using feature and/or label propagation networks,\\nlinear or non-linear networks, with each composition having different\\ncomputational complexity. We conduct a detailed experimental study on several\\nbenchmark datasets with many variants and present observations from our\\nevaluation. Our empirical experimental results suggest that several newly\\ncomposed variants are useful alternatives to consider because they are as\\ncompetitive as, or better than the original GCN.'\n",
            "Label(s): ['cs.LG' 'stat.ML']\n",
            "Predicted Label(s): (cs.LG, stat.ML, cs.CV)\n",
            " \n",
            "Abstract: b'Predicting drug-target interactions (DTI) is an essential part of the drug\\ndiscovery process, which is an expensive process in terms of time and cost.\\nTherefore, reducing DTI cost could lead to reduced healthcare costs for a\\npatient. In addition, a precisely learned molecule representation in a DTI\\nmodel could contribute to developing personalized medicine, which will help\\nmany patient cohorts. In this paper, we propose a new molecule representation\\nbased on the self-attention mechanism, and a new DTI model using our molecule\\nrepresentation. The experiments show that our DTI model outperforms the state\\nof the art by up to 4.9% points in terms of area under the precision-recall\\ncurve. Moreover, a study using the DrugBank database proves that our model\\neffectively lists all known drugs targeting a specific cancer biomarker in the\\ntop-30 candidate list.'\n",
            "Label(s): ['cs.LG' 'stat.ML']\n",
            "Predicted Label(s): (cs.LG, stat.ML, q-bio.QM)\n",
            " \n"
          ]
        }
      ],
      "source": [
        "# Create a model for inference.\n",
        "model_for_inference = keras.Sequential([text_vectorizer, shallow_mlp_model])\n",
        "\n",
        "# Create a small dataset just for demoing inference.\n",
        "inference_dataset = make_dataset(test_df.sample(100), is_train=False)\n",
        "text_batch, label_batch = next(iter(inference_dataset))\n",
        "predicted_probabilities = model_for_inference.predict(text_batch)\n",
        "\n",
        "# Perform inference.\n",
        "for i, text in enumerate(text_batch[:5]):\n",
        "    label = label_batch[i].numpy()[None, ...]\n",
        "    print(f\"Abstract: {text}\")\n",
        "    print(f\"Label(s): {invert_multi_hot(label[0])}\")\n",
        "    predicted_proba = [proba for proba in predicted_probabilities[i]]\n",
        "    top_3_labels = [\n",
        "        x\n",
        "        for _, x in sorted(\n",
        "            zip(predicted_probabilities[i], lookup.get_vocabulary()),\n",
        "            key=lambda pair: pair[0],\n",
        "            reverse=True,\n",
        "        )\n",
        "    ][:3]\n",
        "    print(f\"Predicted Label(s): ({', '.join([label for label in top_3_labels])})\")\n",
        "    print(\" \")"
      ]
    },
    {
      "cell_type": "markdown",
      "metadata": {
        "id": "gFWiHpHv7hQc"
      },
      "source": [
        "The prediction results are not that great but not below the par for a simple model like\n",
        "ours. We can improve this performance with models that consider word order like LSTM or\n",
        "even those that use Transformers ([Vaswani et al.](https://arxiv.org/abs/1706.03762))."
      ]
    }
  ],
  "metadata": {
    "accelerator": "GPU",
    "colab": {
      "provenance": [],
      "toc_visible": true
    },
    "kernelspec": {
      "display_name": "Python 3",
      "language": "python",
      "name": "python3"
    },
    "language_info": {
      "codemirror_mode": {
        "name": "ipython",
        "version": 3
      },
      "file_extension": ".py",
      "mimetype": "text/x-python",
      "name": "python",
      "nbconvert_exporter": "python",
      "pygments_lexer": "ipython3",
      "version": "3.7.0"
    }
  },
  "nbformat": 4,
  "nbformat_minor": 0
}