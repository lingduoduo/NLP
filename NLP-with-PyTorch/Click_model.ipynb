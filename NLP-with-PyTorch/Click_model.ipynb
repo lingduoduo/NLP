{
  "nbformat": 4,
  "nbformat_minor": 0,
  "metadata": {
    "accelerator": "GPU",
    "colab": {
      "name": "Click_model.ipynb",
      "provenance": [],
      "collapsed_sections": [],
      "machine_shape": "hm",
      "include_colab_link": true
    },
    "kernelspec": {
      "display_name": "Python 3",
      "language": "python",
      "name": "python3"
    },
    "language_info": {
      "codemirror_mode": {
        "name": "ipython",
        "version": 3
      },
      "file_extension": ".py",
      "mimetype": "text/x-python",
      "name": "python",
      "nbconvert_exporter": "python",
      "pygments_lexer": "ipython3",
      "version": "3.8.2"
    },
    "widgets": {
      "application/vnd.jupyter.widget-state+json": {
        "3dacd39e6a994b68b66a97860b399df0": {
          "model_module": "@jupyter-widgets/controls",
          "model_name": "HBoxModel",
          "state": {
            "_dom_classes": [],
            "_model_module": "@jupyter-widgets/controls",
            "_model_module_version": "1.5.0",
            "_model_name": "HBoxModel",
            "_view_count": null,
            "_view_module": "@jupyter-widgets/controls",
            "_view_module_version": "1.5.0",
            "_view_name": "HBoxView",
            "box_style": "",
            "children": [
              "IPY_MODEL_fafab37a640240648a3e13ff072a04f3",
              "IPY_MODEL_e300646602c64bada268bccc06f6f4e7"
            ],
            "layout": "IPY_MODEL_a4ac4cb1ddba4aad8462e39150d1d72c"
          }
        },
        "fafab37a640240648a3e13ff072a04f3": {
          "model_module": "@jupyter-widgets/controls",
          "model_name": "FloatProgressModel",
          "state": {
            "_dom_classes": [],
            "_model_module": "@jupyter-widgets/controls",
            "_model_module_version": "1.5.0",
            "_model_name": "FloatProgressModel",
            "_view_count": null,
            "_view_module": "@jupyter-widgets/controls",
            "_view_module_version": "1.5.0",
            "_view_name": "ProgressView",
            "bar_style": "",
            "description": "training routine:  87%",
            "description_tooltip": null,
            "layout": "IPY_MODEL_c164d92dd6ad48f08200ff4f8b8f67f8",
            "max": 100,
            "min": 0,
            "orientation": "horizontal",
            "style": "IPY_MODEL_1ff9cb3240f94074b9fcc77dfd424038",
            "value": 87
          }
        },
        "e300646602c64bada268bccc06f6f4e7": {
          "model_module": "@jupyter-widgets/controls",
          "model_name": "HTMLModel",
          "state": {
            "_dom_classes": [],
            "_model_module": "@jupyter-widgets/controls",
            "_model_module_version": "1.5.0",
            "_model_name": "HTMLModel",
            "_view_count": null,
            "_view_module": "@jupyter-widgets/controls",
            "_view_module_version": "1.5.0",
            "_view_name": "HTMLView",
            "description": "",
            "description_tooltip": null,
            "layout": "IPY_MODEL_fd17937a2c4648d684e1b9a9154e2633",
            "placeholder": "​",
            "style": "IPY_MODEL_faf55f3b5e124fe181b366345a7bf569",
            "value": " 109/? [41:15&lt;00:00, 22.72s/it]"
          }
        },
        "a4ac4cb1ddba4aad8462e39150d1d72c": {
          "model_module": "@jupyter-widgets/base",
          "model_name": "LayoutModel",
          "state": {
            "_model_module": "@jupyter-widgets/base",
            "_model_module_version": "1.2.0",
            "_model_name": "LayoutModel",
            "_view_count": null,
            "_view_module": "@jupyter-widgets/base",
            "_view_module_version": "1.2.0",
            "_view_name": "LayoutView",
            "align_content": null,
            "align_items": null,
            "align_self": null,
            "border": null,
            "bottom": null,
            "display": null,
            "flex": null,
            "flex_flow": null,
            "grid_area": null,
            "grid_auto_columns": null,
            "grid_auto_flow": null,
            "grid_auto_rows": null,
            "grid_column": null,
            "grid_gap": null,
            "grid_row": null,
            "grid_template_areas": null,
            "grid_template_columns": null,
            "grid_template_rows": null,
            "height": null,
            "justify_content": null,
            "justify_items": null,
            "left": null,
            "margin": null,
            "max_height": null,
            "max_width": null,
            "min_height": null,
            "min_width": null,
            "object_fit": null,
            "object_position": null,
            "order": null,
            "overflow": null,
            "overflow_x": null,
            "overflow_y": null,
            "padding": null,
            "right": null,
            "top": null,
            "visibility": null,
            "width": null
          }
        },
        "c164d92dd6ad48f08200ff4f8b8f67f8": {
          "model_module": "@jupyter-widgets/base",
          "model_name": "LayoutModel",
          "state": {
            "_model_module": "@jupyter-widgets/base",
            "_model_module_version": "1.2.0",
            "_model_name": "LayoutModel",
            "_view_count": null,
            "_view_module": "@jupyter-widgets/base",
            "_view_module_version": "1.2.0",
            "_view_name": "LayoutView",
            "align_content": null,
            "align_items": null,
            "align_self": null,
            "border": null,
            "bottom": null,
            "display": null,
            "flex": null,
            "flex_flow": null,
            "grid_area": null,
            "grid_auto_columns": null,
            "grid_auto_flow": null,
            "grid_auto_rows": null,
            "grid_column": null,
            "grid_gap": null,
            "grid_row": null,
            "grid_template_areas": null,
            "grid_template_columns": null,
            "grid_template_rows": null,
            "height": null,
            "justify_content": null,
            "justify_items": null,
            "left": null,
            "margin": null,
            "max_height": null,
            "max_width": null,
            "min_height": null,
            "min_width": null,
            "object_fit": null,
            "object_position": null,
            "order": null,
            "overflow": null,
            "overflow_x": null,
            "overflow_y": null,
            "padding": null,
            "right": null,
            "top": null,
            "visibility": null,
            "width": null
          }
        },
        "1ff9cb3240f94074b9fcc77dfd424038": {
          "model_module": "@jupyter-widgets/controls",
          "model_name": "ProgressStyleModel",
          "state": {
            "_model_module": "@jupyter-widgets/controls",
            "_model_module_version": "1.5.0",
            "_model_name": "ProgressStyleModel",
            "_view_count": null,
            "_view_module": "@jupyter-widgets/base",
            "_view_module_version": "1.2.0",
            "_view_name": "StyleView",
            "bar_color": null,
            "description_width": "initial"
          }
        },
        "fd17937a2c4648d684e1b9a9154e2633": {
          "model_module": "@jupyter-widgets/base",
          "model_name": "LayoutModel",
          "state": {
            "_model_module": "@jupyter-widgets/base",
            "_model_module_version": "1.2.0",
            "_model_name": "LayoutModel",
            "_view_count": null,
            "_view_module": "@jupyter-widgets/base",
            "_view_module_version": "1.2.0",
            "_view_name": "LayoutView",
            "align_content": null,
            "align_items": null,
            "align_self": null,
            "border": null,
            "bottom": null,
            "display": null,
            "flex": null,
            "flex_flow": null,
            "grid_area": null,
            "grid_auto_columns": null,
            "grid_auto_flow": null,
            "grid_auto_rows": null,
            "grid_column": null,
            "grid_gap": null,
            "grid_row": null,
            "grid_template_areas": null,
            "grid_template_columns": null,
            "grid_template_rows": null,
            "height": null,
            "justify_content": null,
            "justify_items": null,
            "left": null,
            "margin": null,
            "max_height": null,
            "max_width": null,
            "min_height": null,
            "min_width": null,
            "object_fit": null,
            "object_position": null,
            "order": null,
            "overflow": null,
            "overflow_x": null,
            "overflow_y": null,
            "padding": null,
            "right": null,
            "top": null,
            "visibility": null,
            "width": null
          }
        },
        "faf55f3b5e124fe181b366345a7bf569": {
          "model_module": "@jupyter-widgets/controls",
          "model_name": "DescriptionStyleModel",
          "state": {
            "_model_module": "@jupyter-widgets/controls",
            "_model_module_version": "1.5.0",
            "_model_name": "DescriptionStyleModel",
            "_view_count": null,
            "_view_module": "@jupyter-widgets/base",
            "_view_module_version": "1.2.0",
            "_view_name": "StyleView",
            "description_width": ""
          }
        },
        "bef273f9e4054ba09da9cb874a7cf2bb": {
          "model_module": "@jupyter-widgets/controls",
          "model_name": "HBoxModel",
          "state": {
            "_dom_classes": [],
            "_model_module": "@jupyter-widgets/controls",
            "_model_module_version": "1.5.0",
            "_model_name": "HBoxModel",
            "_view_count": null,
            "_view_module": "@jupyter-widgets/controls",
            "_view_module_version": "1.5.0",
            "_view_name": "HBoxView",
            "box_style": "",
            "children": [
              "IPY_MODEL_4ce2a51cdff54ecc9898f649d10cfa7b",
              "IPY_MODEL_cac9c637646a48068a603a6c5e62946e"
            ],
            "layout": "IPY_MODEL_899f9c3ac9cd4ac187d49f53e042dce3"
          }
        },
        "4ce2a51cdff54ecc9898f649d10cfa7b": {
          "model_module": "@jupyter-widgets/controls",
          "model_name": "FloatProgressModel",
          "state": {
            "_dom_classes": [],
            "_model_module": "@jupyter-widgets/controls",
            "_model_module_version": "1.5.0",
            "_model_name": "FloatProgressModel",
            "_view_count": null,
            "_view_module": "@jupyter-widgets/controls",
            "_view_module_version": "1.5.0",
            "_view_name": "ProgressView",
            "bar_style": "",
            "description": "split=train: 100%",
            "description_tooltip": null,
            "layout": "IPY_MODEL_60e61bfb46d14ff683294fbadccc622f",
            "max": 1595,
            "min": 0,
            "orientation": "horizontal",
            "style": "IPY_MODEL_ad1eebdb40904b08913fff4229bccbed",
            "value": 1594
          }
        },
        "cac9c637646a48068a603a6c5e62946e": {
          "model_module": "@jupyter-widgets/controls",
          "model_name": "HTMLModel",
          "state": {
            "_dom_classes": [],
            "_model_module": "@jupyter-widgets/controls",
            "_model_module_version": "1.5.0",
            "_model_name": "HTMLModel",
            "_view_count": null,
            "_view_module": "@jupyter-widgets/controls",
            "_view_module_version": "1.5.0",
            "_view_name": "HTMLView",
            "description": "",
            "description_tooltip": null,
            "layout": "IPY_MODEL_5507dd91e29048dda4365d8a9be485a3",
            "placeholder": "​",
            "style": "IPY_MODEL_15c384f382504774b30459f785792ba5",
            "value": " 1594/1595 [43:21&lt;00:00, 43.42it/s, acc=100, epoch=57, loss=2.24e-5]"
          }
        },
        "899f9c3ac9cd4ac187d49f53e042dce3": {
          "model_module": "@jupyter-widgets/base",
          "model_name": "LayoutModel",
          "state": {
            "_model_module": "@jupyter-widgets/base",
            "_model_module_version": "1.2.0",
            "_model_name": "LayoutModel",
            "_view_count": null,
            "_view_module": "@jupyter-widgets/base",
            "_view_module_version": "1.2.0",
            "_view_name": "LayoutView",
            "align_content": null,
            "align_items": null,
            "align_self": null,
            "border": null,
            "bottom": null,
            "display": null,
            "flex": null,
            "flex_flow": null,
            "grid_area": null,
            "grid_auto_columns": null,
            "grid_auto_flow": null,
            "grid_auto_rows": null,
            "grid_column": null,
            "grid_gap": null,
            "grid_row": null,
            "grid_template_areas": null,
            "grid_template_columns": null,
            "grid_template_rows": null,
            "height": null,
            "justify_content": null,
            "justify_items": null,
            "left": null,
            "margin": null,
            "max_height": null,
            "max_width": null,
            "min_height": null,
            "min_width": null,
            "object_fit": null,
            "object_position": null,
            "order": null,
            "overflow": null,
            "overflow_x": null,
            "overflow_y": null,
            "padding": null,
            "right": null,
            "top": null,
            "visibility": null,
            "width": null
          }
        },
        "60e61bfb46d14ff683294fbadccc622f": {
          "model_module": "@jupyter-widgets/base",
          "model_name": "LayoutModel",
          "state": {
            "_model_module": "@jupyter-widgets/base",
            "_model_module_version": "1.2.0",
            "_model_name": "LayoutModel",
            "_view_count": null,
            "_view_module": "@jupyter-widgets/base",
            "_view_module_version": "1.2.0",
            "_view_name": "LayoutView",
            "align_content": null,
            "align_items": null,
            "align_self": null,
            "border": null,
            "bottom": null,
            "display": null,
            "flex": null,
            "flex_flow": null,
            "grid_area": null,
            "grid_auto_columns": null,
            "grid_auto_flow": null,
            "grid_auto_rows": null,
            "grid_column": null,
            "grid_gap": null,
            "grid_row": null,
            "grid_template_areas": null,
            "grid_template_columns": null,
            "grid_template_rows": null,
            "height": null,
            "justify_content": null,
            "justify_items": null,
            "left": null,
            "margin": null,
            "max_height": null,
            "max_width": null,
            "min_height": null,
            "min_width": null,
            "object_fit": null,
            "object_position": null,
            "order": null,
            "overflow": null,
            "overflow_x": null,
            "overflow_y": null,
            "padding": null,
            "right": null,
            "top": null,
            "visibility": null,
            "width": null
          }
        },
        "ad1eebdb40904b08913fff4229bccbed": {
          "model_module": "@jupyter-widgets/controls",
          "model_name": "ProgressStyleModel",
          "state": {
            "_model_module": "@jupyter-widgets/controls",
            "_model_module_version": "1.5.0",
            "_model_name": "ProgressStyleModel",
            "_view_count": null,
            "_view_module": "@jupyter-widgets/base",
            "_view_module_version": "1.2.0",
            "_view_name": "StyleView",
            "bar_color": null,
            "description_width": "initial"
          }
        },
        "5507dd91e29048dda4365d8a9be485a3": {
          "model_module": "@jupyter-widgets/base",
          "model_name": "LayoutModel",
          "state": {
            "_model_module": "@jupyter-widgets/base",
            "_model_module_version": "1.2.0",
            "_model_name": "LayoutModel",
            "_view_count": null,
            "_view_module": "@jupyter-widgets/base",
            "_view_module_version": "1.2.0",
            "_view_name": "LayoutView",
            "align_content": null,
            "align_items": null,
            "align_self": null,
            "border": null,
            "bottom": null,
            "display": null,
            "flex": null,
            "flex_flow": null,
            "grid_area": null,
            "grid_auto_columns": null,
            "grid_auto_flow": null,
            "grid_auto_rows": null,
            "grid_column": null,
            "grid_gap": null,
            "grid_row": null,
            "grid_template_areas": null,
            "grid_template_columns": null,
            "grid_template_rows": null,
            "height": null,
            "justify_content": null,
            "justify_items": null,
            "left": null,
            "margin": null,
            "max_height": null,
            "max_width": null,
            "min_height": null,
            "min_width": null,
            "object_fit": null,
            "object_position": null,
            "order": null,
            "overflow": null,
            "overflow_x": null,
            "overflow_y": null,
            "padding": null,
            "right": null,
            "top": null,
            "visibility": null,
            "width": null
          }
        },
        "15c384f382504774b30459f785792ba5": {
          "model_module": "@jupyter-widgets/controls",
          "model_name": "DescriptionStyleModel",
          "state": {
            "_model_module": "@jupyter-widgets/controls",
            "_model_module_version": "1.5.0",
            "_model_name": "DescriptionStyleModel",
            "_view_count": null,
            "_view_module": "@jupyter-widgets/base",
            "_view_module_version": "1.2.0",
            "_view_name": "StyleView",
            "description_width": ""
          }
        },
        "3fa6669816144dafb4fc04bb8da9cd70": {
          "model_module": "@jupyter-widgets/controls",
          "model_name": "HBoxModel",
          "state": {
            "_dom_classes": [],
            "_model_module": "@jupyter-widgets/controls",
            "_model_module_version": "1.5.0",
            "_model_name": "HBoxModel",
            "_view_count": null,
            "_view_module": "@jupyter-widgets/controls",
            "_view_module_version": "1.5.0",
            "_view_name": "HBoxView",
            "box_style": "",
            "children": [
              "IPY_MODEL_3b100d541fdb42e5a4bac74262adb9bb",
              "IPY_MODEL_541b5cf30e7d4ff59e9177a161d15058"
            ],
            "layout": "IPY_MODEL_b9a273d975934832b10743f38446f3f3"
          }
        },
        "3b100d541fdb42e5a4bac74262adb9bb": {
          "model_module": "@jupyter-widgets/controls",
          "model_name": "FloatProgressModel",
          "state": {
            "_dom_classes": [],
            "_model_module": "@jupyter-widgets/controls",
            "_model_module_version": "1.5.0",
            "_model_name": "FloatProgressModel",
            "_view_count": null,
            "_view_module": "@jupyter-widgets/controls",
            "_view_module_version": "1.5.0",
            "_view_name": "ProgressView",
            "bar_style": "",
            "description": "split=val:  43%",
            "description_tooltip": null,
            "layout": "IPY_MODEL_259eca1887d14774b9c6f90be8b31ce0",
            "max": 341,
            "min": 0,
            "orientation": "horizontal",
            "style": "IPY_MODEL_3d4810f0f05b4c6e9e40420575ac1140",
            "value": 148
          }
        },
        "541b5cf30e7d4ff59e9177a161d15058": {
          "model_module": "@jupyter-widgets/controls",
          "model_name": "HTMLModel",
          "state": {
            "_dom_classes": [],
            "_model_module": "@jupyter-widgets/controls",
            "_model_module_version": "1.5.0",
            "_model_name": "HTMLModel",
            "_view_count": null,
            "_view_module": "@jupyter-widgets/controls",
            "_view_module_version": "1.5.0",
            "_view_name": "HTMLView",
            "description": "",
            "description_tooltip": null,
            "layout": "IPY_MODEL_140a505af82245d08791778617ac805a",
            "placeholder": "​",
            "style": "IPY_MODEL_59a82d141df6460a948906b956a8ad11",
            "value": " 148/341 [43:24&lt;1:15:09, 23.37s/it, acc=100, epoch=57, loss=2.44e-5]"
          }
        },
        "b9a273d975934832b10743f38446f3f3": {
          "model_module": "@jupyter-widgets/base",
          "model_name": "LayoutModel",
          "state": {
            "_model_module": "@jupyter-widgets/base",
            "_model_module_version": "1.2.0",
            "_model_name": "LayoutModel",
            "_view_count": null,
            "_view_module": "@jupyter-widgets/base",
            "_view_module_version": "1.2.0",
            "_view_name": "LayoutView",
            "align_content": null,
            "align_items": null,
            "align_self": null,
            "border": null,
            "bottom": null,
            "display": null,
            "flex": null,
            "flex_flow": null,
            "grid_area": null,
            "grid_auto_columns": null,
            "grid_auto_flow": null,
            "grid_auto_rows": null,
            "grid_column": null,
            "grid_gap": null,
            "grid_row": null,
            "grid_template_areas": null,
            "grid_template_columns": null,
            "grid_template_rows": null,
            "height": null,
            "justify_content": null,
            "justify_items": null,
            "left": null,
            "margin": null,
            "max_height": null,
            "max_width": null,
            "min_height": null,
            "min_width": null,
            "object_fit": null,
            "object_position": null,
            "order": null,
            "overflow": null,
            "overflow_x": null,
            "overflow_y": null,
            "padding": null,
            "right": null,
            "top": null,
            "visibility": null,
            "width": null
          }
        },
        "259eca1887d14774b9c6f90be8b31ce0": {
          "model_module": "@jupyter-widgets/base",
          "model_name": "LayoutModel",
          "state": {
            "_model_module": "@jupyter-widgets/base",
            "_model_module_version": "1.2.0",
            "_model_name": "LayoutModel",
            "_view_count": null,
            "_view_module": "@jupyter-widgets/base",
            "_view_module_version": "1.2.0",
            "_view_name": "LayoutView",
            "align_content": null,
            "align_items": null,
            "align_self": null,
            "border": null,
            "bottom": null,
            "display": null,
            "flex": null,
            "flex_flow": null,
            "grid_area": null,
            "grid_auto_columns": null,
            "grid_auto_flow": null,
            "grid_auto_rows": null,
            "grid_column": null,
            "grid_gap": null,
            "grid_row": null,
            "grid_template_areas": null,
            "grid_template_columns": null,
            "grid_template_rows": null,
            "height": null,
            "justify_content": null,
            "justify_items": null,
            "left": null,
            "margin": null,
            "max_height": null,
            "max_width": null,
            "min_height": null,
            "min_width": null,
            "object_fit": null,
            "object_position": null,
            "order": null,
            "overflow": null,
            "overflow_x": null,
            "overflow_y": null,
            "padding": null,
            "right": null,
            "top": null,
            "visibility": null,
            "width": null
          }
        },
        "3d4810f0f05b4c6e9e40420575ac1140": {
          "model_module": "@jupyter-widgets/controls",
          "model_name": "ProgressStyleModel",
          "state": {
            "_model_module": "@jupyter-widgets/controls",
            "_model_module_version": "1.5.0",
            "_model_name": "ProgressStyleModel",
            "_view_count": null,
            "_view_module": "@jupyter-widgets/base",
            "_view_module_version": "1.2.0",
            "_view_name": "StyleView",
            "bar_color": null,
            "description_width": "initial"
          }
        },
        "140a505af82245d08791778617ac805a": {
          "model_module": "@jupyter-widgets/base",
          "model_name": "LayoutModel",
          "state": {
            "_model_module": "@jupyter-widgets/base",
            "_model_module_version": "1.2.0",
            "_model_name": "LayoutModel",
            "_view_count": null,
            "_view_module": "@jupyter-widgets/base",
            "_view_module_version": "1.2.0",
            "_view_name": "LayoutView",
            "align_content": null,
            "align_items": null,
            "align_self": null,
            "border": null,
            "bottom": null,
            "display": null,
            "flex": null,
            "flex_flow": null,
            "grid_area": null,
            "grid_auto_columns": null,
            "grid_auto_flow": null,
            "grid_auto_rows": null,
            "grid_column": null,
            "grid_gap": null,
            "grid_row": null,
            "grid_template_areas": null,
            "grid_template_columns": null,
            "grid_template_rows": null,
            "height": null,
            "justify_content": null,
            "justify_items": null,
            "left": null,
            "margin": null,
            "max_height": null,
            "max_width": null,
            "min_height": null,
            "min_width": null,
            "object_fit": null,
            "object_position": null,
            "order": null,
            "overflow": null,
            "overflow_x": null,
            "overflow_y": null,
            "padding": null,
            "right": null,
            "top": null,
            "visibility": null,
            "width": null
          }
        },
        "59a82d141df6460a948906b956a8ad11": {
          "model_module": "@jupyter-widgets/controls",
          "model_name": "DescriptionStyleModel",
          "state": {
            "_model_module": "@jupyter-widgets/controls",
            "_model_module_version": "1.5.0",
            "_model_name": "DescriptionStyleModel",
            "_view_count": null,
            "_view_module": "@jupyter-widgets/base",
            "_view_module_version": "1.2.0",
            "_view_name": "StyleView",
            "description_width": ""
          }
        }
      }
    }
  },
  "cells": [
    {
      "cell_type": "markdown",
      "metadata": {
        "id": "view-in-github",
        "colab_type": "text"
      },
      "source": [
        "<a href=\"https://colab.research.google.com/github/linghduoduo/numpy-ml/blob/master/Click_model.ipynb\" target=\"_parent\"><img src=\"https://colab.research.google.com/assets/colab-badge.svg\" alt=\"Open In Colab\"/></a>"
      ]
    },
    {
      "cell_type": "code",
      "metadata": {
        "id": "90uX_TKNMfC_"
      },
      "source": [
        ""
      ],
      "execution_count": null,
      "outputs": []
    },
    {
      "cell_type": "code",
      "metadata": {
        "id": "2KOAYz7ZPLSm"
      },
      "source": [
        "import pandas as pd"
      ],
      "execution_count": null,
      "outputs": []
    },
    {
      "cell_type": "code",
      "metadata": {
        "id": "wgORRPvkPLSs"
      },
      "source": [
        "data = pd.read_parquet(\"~/Downloads/0000_part_00.parquet\")"
      ],
      "execution_count": null,
      "outputs": []
    },
    {
      "cell_type": "code",
      "metadata": {
        "id": "alEii7B3PLSt",
        "outputId": "ad234ef1-9f45-4349-a5dd-400c62289c14"
      },
      "source": [
        "data.info()"
      ],
      "execution_count": null,
      "outputs": [
        {
          "output_type": "stream",
          "text": [
            "<class 'pandas.core.frame.DataFrame'>\n",
            "RangeIndex: 5299643 entries, 0 to 5299642\n",
            "Data columns (total 28 columns):\n",
            " #   Column                  Dtype \n",
            "---  ------                  ----- \n",
            " 0   referralcreativeid      int64 \n",
            " 1   targetgroupid           int64 \n",
            " 2   campaignid              int64 \n",
            " 3   accountid               int64 \n",
            " 4   publisherid             int64 \n",
            " 5   gender                  int32 \n",
            " 6   agegroup                int32 \n",
            " 7   deviceplatform          int32 \n",
            " 8   repeatvisitor           int32 \n",
            " 9   positiveresponse        int32 \n",
            " 10  negativeresponse        int32 \n",
            " 11  age                     int64 \n",
            " 12  secondssincelastseen    int64 \n",
            " 13  secondssincelastposres  int64 \n",
            " 14  secondssincelastnegres  int64 \n",
            " 15  rank                    int64 \n",
            " 16  placementid             int64 \n",
            " 17  cardtype                object\n",
            " 18  cardsubtype             object\n",
            " 19  topcardtype             object\n",
            " 20  operatingsystem         object\n",
            " 21  devicebrand             object\n",
            " 22  browser                 object\n",
            " 23  pagetype                object\n",
            " 24  placementlayout         object\n",
            " 25  offerlayout             object\n",
            " 26  emaildomain             object\n",
            " 27  referrals               int32 \n",
            "dtypes: int32(7), int64(11), object(10)\n",
            "memory usage: 990.6+ MB\n"
          ],
          "name": "stdout"
        }
      ]
    },
    {
      "cell_type": "code",
      "metadata": {
        "id": "NIRWG90FPLSu"
      },
      "source": [
        "creatives = pd.read_csv(\"~/Downloads/creatives_with_tags.csv\")"
      ],
      "execution_count": null,
      "outputs": []
    },
    {
      "cell_type": "code",
      "metadata": {
        "id": "JXeM7yVKPLSu",
        "outputId": "72e37183-cda4-4335-f510-fa14104d23f3"
      },
      "source": [
        "creatives.info()"
      ],
      "execution_count": null,
      "outputs": [
        {
          "output_type": "stream",
          "text": [
            "<class 'pandas.core.frame.DataFrame'>\n",
            "RangeIndex: 3880 entries, 0 to 3879\n",
            "Data columns (total 30 columns):\n",
            " #   Column               Non-Null Count  Dtype \n",
            "---  ------               --------------  ----- \n",
            " 0   creativeid           3880 non-null   int64 \n",
            " 1   text                 3880 non-null   object\n",
            " 2   free_delivery        3880 non-null   bool  \n",
            " 3   free_trail           3880 non-null   bool  \n",
            " 4   lucky_draw           3880 non-null   bool  \n",
            " 5   click                3880 non-null   bool  \n",
            " 6   dollar_sign          3880 non-null   bool  \n",
            " 7   exclamation          3880 non-null   bool  \n",
            " 8   question_sign        3880 non-null   bool  \n",
            " 9   discount             3880 non-null   bool  \n",
            " 10  offer                3880 non-null   bool  \n",
            " 11  unlock               3880 non-null   bool  \n",
            " 12  bonus                3880 non-null   bool  \n",
            " 13  cash_back            3880 non-null   bool  \n",
            " 14  sign_up              3880 non-null   bool  \n",
            " 15  now                  3880 non-null   bool  \n",
            " 16  first_name_replaced  3880 non-null   bool  \n",
            " 17  claim                3880 non-null   bool  \n",
            " 18  enjoy                3880 non-null   bool  \n",
            " 19  help                 3880 non-null   bool  \n",
            " 20  congrats             3880 non-null   bool  \n",
            " 21  save                 3880 non-null   bool  \n",
            " 22  apr                  3880 non-null   bool  \n",
            " 23  loan                 3880 non-null   bool  \n",
            " 24  discount.1           3880 non-null   bool  \n",
            " 25  discount_value       3880 non-null   bool  \n",
            " 26  discount_num         3880 non-null   object\n",
            " 27  discount_perc        3880 non-null   bool  \n",
            " 28  discount_perc_num    3880 non-null   object\n",
            " 29  no_number            3880 non-null   bool  \n",
            "dtypes: bool(26), int64(1), object(3)\n",
            "memory usage: 219.9+ KB\n"
          ],
          "name": "stdout"
        }
      ]
    },
    {
      "cell_type": "code",
      "metadata": {
        "id": "eboml4EjPLSu"
      },
      "source": [
        "copytext = creatives['text']"
      ],
      "execution_count": null,
      "outputs": []
    },
    {
      "cell_type": "code",
      "metadata": {
        "colab": {
          "base_uri": "https://localhost:8080/",
          "height": 334
        },
        "id": "UEquiO_BPLSu",
        "outputId": "0687ad08-00c5-466c-b920-1fd09d67a289"
      },
      "source": [
        "import nltk\n",
        "import re\n",
        "import numpy as np\n",
        "from langdetect import detect"
      ],
      "execution_count": null,
      "outputs": [
        {
          "output_type": "error",
          "ename": "ModuleNotFoundError",
          "evalue": "ignored",
          "traceback": [
            "\u001b[0;31m---------------------------------------------------------------------------\u001b[0m",
            "\u001b[0;31mModuleNotFoundError\u001b[0m                       Traceback (most recent call last)",
            "\u001b[0;32m<ipython-input-3-6c6d86e3e023>\u001b[0m in \u001b[0;36m<module>\u001b[0;34m()\u001b[0m\n\u001b[1;32m      2\u001b[0m \u001b[0;32mimport\u001b[0m \u001b[0mre\u001b[0m\u001b[0;34m\u001b[0m\u001b[0;34m\u001b[0m\u001b[0m\n\u001b[1;32m      3\u001b[0m \u001b[0;32mimport\u001b[0m \u001b[0mnumpy\u001b[0m \u001b[0;32mas\u001b[0m \u001b[0mnp\u001b[0m\u001b[0;34m\u001b[0m\u001b[0;34m\u001b[0m\u001b[0m\n\u001b[0;32m----> 4\u001b[0;31m \u001b[0;32mfrom\u001b[0m \u001b[0mlangdetect\u001b[0m \u001b[0;32mimport\u001b[0m \u001b[0mdetect\u001b[0m\u001b[0;34m\u001b[0m\u001b[0;34m\u001b[0m\u001b[0m\n\u001b[0m",
            "\u001b[0;31mModuleNotFoundError\u001b[0m: No module named 'langdetect'",
            "",
            "\u001b[0;31m---------------------------------------------------------------------------\u001b[0;32m\nNOTE: If your import is failing due to a missing package, you can\nmanually install dependencies using either !pip or !apt.\n\nTo view examples of installing some common dependencies, click the\n\"Open Examples\" button below.\n\u001b[0;31m---------------------------------------------------------------------------\u001b[0m\n"
          ]
        }
      ]
    },
    {
      "cell_type": "code",
      "metadata": {
        "id": "sb52dUdZPLSv"
      },
      "source": [
        "def cleaning_text(s_text):\n",
        "    #try remove all tags\n",
        "    document = re.sub(r'\\<[^>]*>','',str(s_text)) #tick\n",
        "    \n",
        "#     #replace coded apostrophies\n",
        "#     document = document.replace('&rsquo;','') #tick\n",
        "    document = document.replace('&amp;','and') #tick\n",
        "#     document = document.replace('%',' percent') #tick\n",
        "#     document = document.replace('*','') #tick\n",
        "#     document = document.replace('$','dollars ') #tick\n",
        "    document = document.replace('&nbsp','') #tick\n",
        "\n",
        "#     #remove prefixed Test\n",
        "#     document = re.sub(r'^Test\\s+', '', document)\n",
        "\n",
        "#     # Remove all the special characters\n",
        "# #     document = re.sub(r'[,@\\'?\\.$%_]', '', document)\n",
        "\n",
        "#     # remove all single characters\n",
        "#     document = re.sub(r'\\s+[a-zA-Z]\\s+', ' ', document)\n",
        "    \n",
        "#      # Remove single characters from the start\n",
        "#     document = re.sub(r'\\^[a-zA-Z]\\s+', ' ', document) \n",
        "    \n",
        "#     # Substituting multiple spaces with single space\n",
        "#     document = re.sub(r'\\s+', ' ', document, flags=re.I)\n",
        "    \n",
        "#     # Removing prefixed 'b'\n",
        "#     document = re.sub(r'^b\\s+', '', document)\n",
        "#     document = re.sub(r'\\W', ' ',document)   \n",
        "    \n",
        "    # Converting to Lowercase\n",
        "    document = document.lower()\n",
        "    return document"
      ],
      "execution_count": null,
      "outputs": []
    },
    {
      "cell_type": "code",
      "metadata": {
        "id": "LQkbpbM0PLSv"
      },
      "source": [
        "creatives['clean_text']=copytext.apply(lambda x: cleaning_text(x))"
      ],
      "execution_count": null,
      "outputs": []
    },
    {
      "cell_type": "markdown",
      "metadata": {
        "id": "hQ34vHjXPLSw"
      },
      "source": [
        "## Join Tables"
      ]
    },
    {
      "cell_type": "code",
      "metadata": {
        "id": "6AAe7TkNPLSw"
      },
      "source": [
        "all = pd.merge(data, creatives, left_on=[\"referralcreativeid\"], right_on=[\"creativeid\"], how=\"left\")"
      ],
      "execution_count": null,
      "outputs": []
    },
    {
      "cell_type": "code",
      "metadata": {
        "id": "9zFmyJLZPLSw",
        "outputId": "f2a35d5e-6f7c-473b-8ae6-b107f6af4948"
      },
      "source": [
        "all.head()"
      ],
      "execution_count": null,
      "outputs": [
        {
          "output_type": "execute_result",
          "data": {
            "text/html": [
              "<div>\n",
              "<style scoped>\n",
              "    .dataframe tbody tr th:only-of-type {\n",
              "        vertical-align: middle;\n",
              "    }\n",
              "\n",
              "    .dataframe tbody tr th {\n",
              "        vertical-align: top;\n",
              "    }\n",
              "\n",
              "    .dataframe thead th {\n",
              "        text-align: right;\n",
              "    }\n",
              "</style>\n",
              "<table border=\"1\" class=\"dataframe\">\n",
              "  <thead>\n",
              "    <tr style=\"text-align: right;\">\n",
              "      <th></th>\n",
              "      <th>referralcreativeid</th>\n",
              "      <th>targetgroupid</th>\n",
              "      <th>campaignid</th>\n",
              "      <th>accountid</th>\n",
              "      <th>publisherid</th>\n",
              "      <th>gender</th>\n",
              "      <th>agegroup</th>\n",
              "      <th>deviceplatform</th>\n",
              "      <th>repeatvisitor</th>\n",
              "      <th>positiveresponse</th>\n",
              "      <th>...</th>\n",
              "      <th>save</th>\n",
              "      <th>apr</th>\n",
              "      <th>loan</th>\n",
              "      <th>discount.1</th>\n",
              "      <th>discount_value</th>\n",
              "      <th>discount_num</th>\n",
              "      <th>discount_perc</th>\n",
              "      <th>discount_perc_num</th>\n",
              "      <th>no_number</th>\n",
              "      <th>clean_text</th>\n",
              "    </tr>\n",
              "  </thead>\n",
              "  <tbody>\n",
              "    <tr>\n",
              "      <th>0</th>\n",
              "      <td>2646117866475294712</td>\n",
              "      <td>2692224928836550658</td>\n",
              "      <td>2536115181270101577</td>\n",
              "      <td>101767</td>\n",
              "      <td>64</td>\n",
              "      <td>1</td>\n",
              "      <td>2</td>\n",
              "      <td>2</td>\n",
              "      <td>2</td>\n",
              "      <td>0</td>\n",
              "      <td>...</td>\n",
              "      <td>False</td>\n",
              "      <td>False</td>\n",
              "      <td>False</td>\n",
              "      <td>False</td>\n",
              "      <td>False</td>\n",
              "      <td>False</td>\n",
              "      <td>False</td>\n",
              "      <td>False</td>\n",
              "      <td>True</td>\n",
              "      <td>your purchase gives you access to amazing deal...</td>\n",
              "    </tr>\n",
              "    <tr>\n",
              "      <th>1</th>\n",
              "      <td>2876960757946056733</td>\n",
              "      <td>2876932591550332946</td>\n",
              "      <td>2855789494061301904</td>\n",
              "      <td>2853527618225229629</td>\n",
              "      <td>2045379072644613984</td>\n",
              "      <td>2</td>\n",
              "      <td>5</td>\n",
              "      <td>1</td>\n",
              "      <td>5</td>\n",
              "      <td>0</td>\n",
              "      <td>...</td>\n",
              "      <td>False</td>\n",
              "      <td>False</td>\n",
              "      <td>False</td>\n",
              "      <td>False</td>\n",
              "      <td>False</td>\n",
              "      <td>False</td>\n",
              "      <td>False</td>\n",
              "      <td>False</td>\n",
              "      <td>True</td>\n",
              "      <td>you've earned a free trial to discovery+! the ...</td>\n",
              "    </tr>\n",
              "    <tr>\n",
              "      <th>2</th>\n",
              "      <td>2886698170375209078</td>\n",
              "      <td>2859533790709940435</td>\n",
              "      <td>2820179516474261505</td>\n",
              "      <td>2791520355034103636</td>\n",
              "      <td>2045379072644613984</td>\n",
              "      <td>2</td>\n",
              "      <td>5</td>\n",
              "      <td>1</td>\n",
              "      <td>5</td>\n",
              "      <td>8</td>\n",
              "      <td>...</td>\n",
              "      <td>False</td>\n",
              "      <td>False</td>\n",
              "      <td>False</td>\n",
              "      <td>True</td>\n",
              "      <td>True</td>\n",
              "      <td>200</td>\n",
              "      <td>False</td>\n",
              "      <td>False</td>\n",
              "      <td>False</td>\n",
              "      <td>unlock up to $200 to spend online when you joi...</td>\n",
              "    </tr>\n",
              "    <tr>\n",
              "      <th>3</th>\n",
              "      <td>2873745257665069106</td>\n",
              "      <td>2886801434273644881</td>\n",
              "      <td>2837686477485113390</td>\n",
              "      <td>2791726255766259938</td>\n",
              "      <td>64</td>\n",
              "      <td>2</td>\n",
              "      <td>2</td>\n",
              "      <td>2</td>\n",
              "      <td>7</td>\n",
              "      <td>0</td>\n",
              "      <td>...</td>\n",
              "      <td>False</td>\n",
              "      <td>False</td>\n",
              "      <td>False</td>\n",
              "      <td>False</td>\n",
              "      <td>False</td>\n",
              "      <td>False</td>\n",
              "      <td>False</td>\n",
              "      <td>False</td>\n",
              "      <td>True</td>\n",
              "      <td>our koalas are very quickly heading towards ex...</td>\n",
              "    </tr>\n",
              "    <tr>\n",
              "      <th>4</th>\n",
              "      <td>2879161314514436348</td>\n",
              "      <td>2692884309398716623</td>\n",
              "      <td>2692879945712140371</td>\n",
              "      <td>2633455211965079646</td>\n",
              "      <td>64</td>\n",
              "      <td>2</td>\n",
              "      <td>2</td>\n",
              "      <td>2</td>\n",
              "      <td>0</td>\n",
              "      <td>0</td>\n",
              "      <td>...</td>\n",
              "      <td>False</td>\n",
              "      <td>False</td>\n",
              "      <td>False</td>\n",
              "      <td>True</td>\n",
              "      <td>True</td>\n",
              "      <td>150</td>\n",
              "      <td>False</td>\n",
              "      <td>False</td>\n",
              "      <td>False</td>\n",
              "      <td>you've earned $150 off smiledirectclub aligner...</td>\n",
              "    </tr>\n",
              "  </tbody>\n",
              "</table>\n",
              "<p>5 rows × 59 columns</p>\n",
              "</div>"
            ],
            "text/plain": [
              "    referralcreativeid        targetgroupid           campaignid  \\\n",
              "0  2646117866475294712  2692224928836550658  2536115181270101577   \n",
              "1  2876960757946056733  2876932591550332946  2855789494061301904   \n",
              "2  2886698170375209078  2859533790709940435  2820179516474261505   \n",
              "3  2873745257665069106  2886801434273644881  2837686477485113390   \n",
              "4  2879161314514436348  2692884309398716623  2692879945712140371   \n",
              "\n",
              "             accountid          publisherid  gender  agegroup  deviceplatform  \\\n",
              "0               101767                   64       1         2               2   \n",
              "1  2853527618225229629  2045379072644613984       2         5               1   \n",
              "2  2791520355034103636  2045379072644613984       2         5               1   \n",
              "3  2791726255766259938                   64       2         2               2   \n",
              "4  2633455211965079646                   64       2         2               2   \n",
              "\n",
              "   repeatvisitor  positiveresponse  ...   save    apr   loan  discount.1  \\\n",
              "0              2                 0  ...  False  False  False       False   \n",
              "1              5                 0  ...  False  False  False       False   \n",
              "2              5                 8  ...  False  False  False        True   \n",
              "3              7                 0  ...  False  False  False       False   \n",
              "4              0                 0  ...  False  False  False        True   \n",
              "\n",
              "   discount_value  discount_num  discount_perc discount_perc_num no_number  \\\n",
              "0           False         False          False             False      True   \n",
              "1           False         False          False             False      True   \n",
              "2            True           200          False             False     False   \n",
              "3           False         False          False             False      True   \n",
              "4            True           150          False             False     False   \n",
              "\n",
              "                                          clean_text  \n",
              "0  your purchase gives you access to amazing deal...  \n",
              "1  you've earned a free trial to discovery+! the ...  \n",
              "2  unlock up to $200 to spend online when you joi...  \n",
              "3  our koalas are very quickly heading towards ex...  \n",
              "4  you've earned $150 off smiledirectclub aligner...  \n",
              "\n",
              "[5 rows x 59 columns]"
            ]
          },
          "metadata": {
            "tags": []
          },
          "execution_count": 52
        }
      ]
    },
    {
      "cell_type": "code",
      "metadata": {
        "id": "fRwdico2PLSx"
      },
      "source": [
        "all = all.dropna()"
      ],
      "execution_count": null,
      "outputs": []
    },
    {
      "cell_type": "code",
      "metadata": {
        "id": "4PiWM5NlPLSx",
        "scrolled": true,
        "outputId": "d9f0c470-c3f5-4c5a-e67f-1df0d1129491"
      },
      "source": [
        "all.head()"
      ],
      "execution_count": null,
      "outputs": [
        {
          "output_type": "execute_result",
          "data": {
            "text/html": [
              "<div>\n",
              "<style scoped>\n",
              "    .dataframe tbody tr th:only-of-type {\n",
              "        vertical-align: middle;\n",
              "    }\n",
              "\n",
              "    .dataframe tbody tr th {\n",
              "        vertical-align: top;\n",
              "    }\n",
              "\n",
              "    .dataframe thead th {\n",
              "        text-align: right;\n",
              "    }\n",
              "</style>\n",
              "<table border=\"1\" class=\"dataframe\">\n",
              "  <thead>\n",
              "    <tr style=\"text-align: right;\">\n",
              "      <th></th>\n",
              "      <th>referralcreativeid</th>\n",
              "      <th>targetgroupid</th>\n",
              "      <th>campaignid</th>\n",
              "      <th>accountid</th>\n",
              "      <th>publisherid</th>\n",
              "      <th>gender</th>\n",
              "      <th>agegroup</th>\n",
              "      <th>deviceplatform</th>\n",
              "      <th>repeatvisitor</th>\n",
              "      <th>positiveresponse</th>\n",
              "      <th>...</th>\n",
              "      <th>save</th>\n",
              "      <th>apr</th>\n",
              "      <th>loan</th>\n",
              "      <th>discount.1</th>\n",
              "      <th>discount_value</th>\n",
              "      <th>discount_num</th>\n",
              "      <th>discount_perc</th>\n",
              "      <th>discount_perc_num</th>\n",
              "      <th>no_number</th>\n",
              "      <th>clean_text</th>\n",
              "    </tr>\n",
              "  </thead>\n",
              "  <tbody>\n",
              "    <tr>\n",
              "      <th>25</th>\n",
              "      <td>2877094116681646110</td>\n",
              "      <td>2886801434273644881</td>\n",
              "      <td>2837686477485113390</td>\n",
              "      <td>2791726255766259938</td>\n",
              "      <td>100</td>\n",
              "      <td>1</td>\n",
              "      <td>3</td>\n",
              "      <td>2</td>\n",
              "      <td>8</td>\n",
              "      <td>0</td>\n",
              "      <td>...</td>\n",
              "      <td>False</td>\n",
              "      <td>False</td>\n",
              "      <td>False</td>\n",
              "      <td>False</td>\n",
              "      <td>False</td>\n",
              "      <td>False</td>\n",
              "      <td>False</td>\n",
              "      <td>False</td>\n",
              "      <td>True</td>\n",
              "      <td>our koalas are losing their homes and their li...</td>\n",
              "    </tr>\n",
              "    <tr>\n",
              "      <th>65</th>\n",
              "      <td>2864738144312164568</td>\n",
              "      <td>2864737723405631502</td>\n",
              "      <td>2812042340155326467</td>\n",
              "      <td>2443482344537199973</td>\n",
              "      <td>2601936972420513252</td>\n",
              "      <td>2</td>\n",
              "      <td>6</td>\n",
              "      <td>1</td>\n",
              "      <td>7</td>\n",
              "      <td>0</td>\n",
              "      <td>...</td>\n",
              "      <td>False</td>\n",
              "      <td>False</td>\n",
              "      <td>False</td>\n",
              "      <td>False</td>\n",
              "      <td>False</td>\n",
              "      <td>False</td>\n",
              "      <td>False</td>\n",
              "      <td>False</td>\n",
              "      <td>True</td>\n",
              "      <td>get available coupon codes automatically appli...</td>\n",
              "    </tr>\n",
              "    <tr>\n",
              "      <th>97</th>\n",
              "      <td>2887882859786469391</td>\n",
              "      <td>2881856153088819253</td>\n",
              "      <td>2871881563989147782</td>\n",
              "      <td>2809479086472472188</td>\n",
              "      <td>100</td>\n",
              "      <td>2</td>\n",
              "      <td>2</td>\n",
              "      <td>2</td>\n",
              "      <td>0</td>\n",
              "      <td>0</td>\n",
              "      <td>...</td>\n",
              "      <td>False</td>\n",
              "      <td>False</td>\n",
              "      <td>False</td>\n",
              "      <td>True</td>\n",
              "      <td>True</td>\n",
              "      <td>500</td>\n",
              "      <td>False</td>\n",
              "      <td>False</td>\n",
              "      <td>False</td>\n",
              "      <td>download and sign in to the bws app to go into...</td>\n",
              "    </tr>\n",
              "    <tr>\n",
              "      <th>117</th>\n",
              "      <td>2770807802255704283</td>\n",
              "      <td>2770807334104072306</td>\n",
              "      <td>2770806943262048353</td>\n",
              "      <td>2755560006908929678</td>\n",
              "      <td>404</td>\n",
              "      <td>2</td>\n",
              "      <td>0</td>\n",
              "      <td>2</td>\n",
              "      <td>0</td>\n",
              "      <td>0</td>\n",
              "      <td>...</td>\n",
              "      <td>False</td>\n",
              "      <td>False</td>\n",
              "      <td>False</td>\n",
              "      <td>False</td>\n",
              "      <td>False</td>\n",
              "      <td>False</td>\n",
              "      <td>False</td>\n",
              "      <td>False</td>\n",
              "      <td>False</td>\n",
              "      <td>click below to claim your €16.87 cash back on ...</td>\n",
              "    </tr>\n",
              "    <tr>\n",
              "      <th>156</th>\n",
              "      <td>2798422745457885189</td>\n",
              "      <td>2804369278003183635</td>\n",
              "      <td>2133407807667190781</td>\n",
              "      <td>102564</td>\n",
              "      <td>131</td>\n",
              "      <td>2</td>\n",
              "      <td>6</td>\n",
              "      <td>1</td>\n",
              "      <td>8</td>\n",
              "      <td>0</td>\n",
              "      <td>...</td>\n",
              "      <td>True</td>\n",
              "      <td>False</td>\n",
              "      <td>False</td>\n",
              "      <td>True</td>\n",
              "      <td>True</td>\n",
              "      <td>4,000</td>\n",
              "      <td>False</td>\n",
              "      <td>False</td>\n",
              "      <td>False</td>\n",
              "      <td>maximise your kiwisaver savings by receiving a...</td>\n",
              "    </tr>\n",
              "  </tbody>\n",
              "</table>\n",
              "<p>5 rows × 59 columns</p>\n",
              "</div>"
            ],
            "text/plain": [
              "      referralcreativeid        targetgroupid           campaignid  \\\n",
              "25   2877094116681646110  2886801434273644881  2837686477485113390   \n",
              "65   2864738144312164568  2864737723405631502  2812042340155326467   \n",
              "97   2887882859786469391  2881856153088819253  2871881563989147782   \n",
              "117  2770807802255704283  2770807334104072306  2770806943262048353   \n",
              "156  2798422745457885189  2804369278003183635  2133407807667190781   \n",
              "\n",
              "               accountid          publisherid  gender  agegroup  \\\n",
              "25   2791726255766259938                  100       1         3   \n",
              "65   2443482344537199973  2601936972420513252       2         6   \n",
              "97   2809479086472472188                  100       2         2   \n",
              "117  2755560006908929678                  404       2         0   \n",
              "156               102564                  131       2         6   \n",
              "\n",
              "     deviceplatform  repeatvisitor  positiveresponse  ...   save    apr  \\\n",
              "25                2              8                 0  ...  False  False   \n",
              "65                1              7                 0  ...  False  False   \n",
              "97                2              0                 0  ...  False  False   \n",
              "117               2              0                 0  ...  False  False   \n",
              "156               1              8                 0  ...   True  False   \n",
              "\n",
              "      loan  discount.1  discount_value  discount_num  discount_perc  \\\n",
              "25   False       False           False         False          False   \n",
              "65   False       False           False         False          False   \n",
              "97   False        True            True           500          False   \n",
              "117  False       False           False         False          False   \n",
              "156  False        True            True         4,000          False   \n",
              "\n",
              "    discount_perc_num no_number  \\\n",
              "25              False      True   \n",
              "65              False      True   \n",
              "97              False     False   \n",
              "117             False     False   \n",
              "156             False     False   \n",
              "\n",
              "                                            clean_text  \n",
              "25   our koalas are losing their homes and their li...  \n",
              "65   get available coupon codes automatically appli...  \n",
              "97   download and sign in to the bws app to go into...  \n",
              "117  click below to claim your €16.87 cash back on ...  \n",
              "156  maximise your kiwisaver savings by receiving a...  \n",
              "\n",
              "[5 rows x 59 columns]"
            ]
          },
          "metadata": {
            "tags": []
          },
          "execution_count": 54
        }
      ]
    },
    {
      "cell_type": "code",
      "metadata": {
        "id": "PkXT41-OPLSx"
      },
      "source": [
        "sample = all[:100]"
      ],
      "execution_count": null,
      "outputs": []
    },
    {
      "cell_type": "code",
      "metadata": {
        "id": "ZJ7Qg75JPLSx",
        "outputId": "f9a0d512-cf43-4c3e-8461-a1740ef13707"
      },
      "source": [
        "sample[:1]['clean_text']"
      ],
      "execution_count": null,
      "outputs": [
        {
          "output_type": "execute_result",
          "data": {
            "text/plain": [
              "25    our koalas are losing their homes and their li...\n",
              "Name: clean_text, dtype: object"
            ]
          },
          "metadata": {
            "tags": []
          },
          "execution_count": 56
        }
      ]
    },
    {
      "cell_type": "code",
      "metadata": {
        "id": "kKk9EJpvPLSy"
      },
      "source": [
        "from nltk.tokenize import TweetTokenizer"
      ],
      "execution_count": null,
      "outputs": []
    },
    {
      "cell_type": "code",
      "metadata": {
        "id": "fuf0CsTKPLSy"
      },
      "source": [
        "tokenizer = TweetTokenizer()"
      ],
      "execution_count": null,
      "outputs": []
    },
    {
      "cell_type": "code",
      "metadata": {
        "id": "FxlEqGd_PLSy",
        "outputId": "71996573-c828-4fb6-d86d-cba27d2cd4a6"
      },
      "source": [
        "s = str(sample[:1]['clean_text'])\n",
        "print(' '.join(tokenizer.tokenize(s.lower())))"
      ],
      "execution_count": null,
      "outputs": [
        {
          "output_type": "stream",
          "text": [
            "25 our koalas are losing their homes and their li ... name : clean_text , dtype : object\n"
          ],
          "name": "stdout"
        }
      ]
    },
    {
      "cell_type": "markdown",
      "metadata": {
        "id": "8M295DWMPLSy"
      },
      "source": [
        "## Transformers"
      ]
    },
    {
      "cell_type": "code",
      "metadata": {
        "id": "3DxyQhPwPLSy"
      },
      "source": [
        "from transformers import pipeline"
      ],
      "execution_count": null,
      "outputs": []
    },
    {
      "cell_type": "code",
      "metadata": {
        "id": "y6-fgG8_PLSz",
        "outputId": "f0f39d1b-8648-41c8-e20b-286b2aa3c4a9"
      },
      "source": [
        "classifier = pipeline('sentiment-analysis')"
      ],
      "execution_count": null,
      "outputs": [
        {
          "output_type": "stream",
          "text": [
            "All model checkpoint layers were used when initializing TFDistilBertForSequenceClassification.\n",
            "\n",
            "All the layers of TFDistilBertForSequenceClassification were initialized from the model checkpoint at distilbert-base-uncased-finetuned-sst-2-english.\n",
            "If your task is similar to the task the model of the checkpoint was trained on, you can already use TFDistilBertForSequenceClassification for predictions without further training.\n"
          ],
          "name": "stderr"
        }
      ]
    },
    {
      "cell_type": "code",
      "metadata": {
        "id": "VtXIOCfKPLSz",
        "outputId": "d072ac0b-fcaa-4ddc-9929-ed3e1795f7ac"
      },
      "source": [
        "classifier(\"You've earned 50% off 6 bottles of wine from Firstleaf! Personalized wines matched to your taste buds. Take the wine quiz & get $40 worth of free wine.\")"
      ],
      "execution_count": null,
      "outputs": [
        {
          "output_type": "execute_result",
          "data": {
            "text/plain": [
              "[{'label': 'NEGATIVE', 'score': 0.9808275699615479}]"
            ]
          },
          "metadata": {
            "tags": []
          },
          "execution_count": 64
        }
      ]
    },
    {
      "cell_type": "code",
      "metadata": {
        "id": "JDYjF-raPLSz",
        "outputId": "096ef15b-ee37-4eef-dc4c-9d98b6748e8b"
      },
      "source": [
        "classifier(\"You've earned 5% off 6 bottles of wine from Firstleaf! Personalized wines matched to your taste buds. Take the wine quiz & get $40 worth of free wine.\")"
      ],
      "execution_count": null,
      "outputs": [
        {
          "output_type": "execute_result",
          "data": {
            "text/plain": [
              "[{'label': 'NEGATIVE', 'score': 0.9812963008880615}]"
            ]
          },
          "metadata": {
            "tags": []
          },
          "execution_count": 65
        }
      ]
    },
    {
      "cell_type": "code",
      "metadata": {
        "id": "P_gQxKfoPLSz",
        "outputId": "6f096ab3-65c8-42da-b4c6-de17be3d321a"
      },
      "source": [
        "classifier(s)"
      ],
      "execution_count": null,
      "outputs": [
        {
          "output_type": "execute_result",
          "data": {
            "text/plain": [
              "[{'label': 'NEGATIVE', 'score': 0.9998084902763367}]"
            ]
          },
          "metadata": {
            "tags": []
          },
          "execution_count": 68
        }
      ]
    },
    {
      "cell_type": "code",
      "metadata": {
        "id": "TiNUpZFKPLS0"
      },
      "source": [
        "all.to_csv(\"all.csv\")"
      ],
      "execution_count": null,
      "outputs": []
    },
    {
      "cell_type": "markdown",
      "metadata": {
        "id": "A_SPJrs-PLS0"
      },
      "source": [
        "## Readin clean data directly"
      ]
    },
    {
      "cell_type": "code",
      "metadata": {
        "colab": {
          "base_uri": "https://localhost:8080/"
        },
        "id": "PDr442M5WbQZ",
        "outputId": "a149ede9-80f4-4634-f51c-ac2b84eb8e9b"
      },
      "source": [
        "from google.colab import drive\n",
        "drive.mount('/content/drive')\n",
        "workspace_dir = './drive/My Drive/Colab Notebooks'"
      ],
      "execution_count": null,
      "outputs": [
        {
          "output_type": "stream",
          "text": [
            "Drive already mounted at /content/drive; to attempt to forcibly remount, call drive.mount(\"/content/drive\", force_remount=True).\n"
          ],
          "name": "stdout"
        }
      ]
    },
    {
      "cell_type": "code",
      "metadata": {
        "id": "SSZrQFvMWkEP"
      },
      "source": [
        "from argparse import Namespace"
      ],
      "execution_count": null,
      "outputs": []
    },
    {
      "cell_type": "code",
      "metadata": {
        "id": "wLBB_v5_WwA3"
      },
      "source": [
        "args = Namespace(\n",
        "    raw_train_dataset_csv=\"./drive/My Drive/Colab Notebooks/data/yelp/all.csv\",\n",
        "    proportion_subset_of_train=0.1,\n",
        "    train_proportion=0.7,\n",
        "    val_proportion=0.15,\n",
        "    test_proportion=0.15,\n",
        "    output_munged_csv=\"./drive/My Drive/Colab Notebooks/data/yelp/all_split.csv\",\n",
        "    seed=1337\n",
        ")"
      ],
      "execution_count": null,
      "outputs": []
    },
    {
      "cell_type": "code",
      "metadata": {
        "id": "o1y_tf4ZPLS0"
      },
      "source": [
        "import collections\n",
        "import numpy as np\n",
        "import pandas as pd\n",
        "import re"
      ],
      "execution_count": null,
      "outputs": []
    },
    {
      "cell_type": "code",
      "metadata": {
        "colab": {
          "base_uri": "https://localhost:8080/"
        },
        "id": "yJ2rVnu7W_kH",
        "outputId": "06e75be0-793e-4d30-88df-70e6fd179005"
      },
      "source": [
        "# Read raw data\n",
        "train_reviews = pd.read_csv(args.raw_train_dataset_csv, header=None, names=['referrals', 'clean_text'])\n",
        "train_reviews = train_reviews[~pd.isnull(train_reviews.referrals)]\n",
        "\n",
        "test_reviews = pd.read_csv(args.raw_train_dataset_csv, header=None, names=['referrals', 'clean_text'])\n",
        "test_reviews = test_reviews[~pd.isnull(test_reviews.referrals)]\n"
      ],
      "execution_count": null,
      "outputs": [
        {
          "output_type": "stream",
          "text": [
            "/usr/local/lib/python3.7/dist-packages/IPython/core/interactiveshell.py:2718: DtypeWarning: Columns (1,2,3,4,5,6,7,8,9,10,11,12,13,14,15,16,17,28,29,31,32,33,34,35,36,37,38,39,40,41,42,43,44,45,46,47,48,49,50,51,52,53,54,56,58) have mixed types.Specify dtype option on import or set low_memory=False.\n",
            "  interactivity=interactivity, compiler=compiler, result=result)\n"
          ],
          "name": "stderr"
        }
      ]
    },
    {
      "cell_type": "code",
      "metadata": {
        "colab": {
          "base_uri": "https://localhost:8080/"
        },
        "id": "bnsUugaLdW9T",
        "outputId": "0957db47-0e98-44b6-b8ca-1096f20f2245"
      },
      "source": [
        "train_reviews['referrals'].value_counts()"
      ],
      "execution_count": null,
      "outputs": [
        {
          "output_type": "execute_result",
          "data": {
            "text/plain": [
              "False        216485\n",
              "True          58961\n",
              "False         12508\n",
              "True           3875\n",
              "no_number         1\n",
              "Name: referrals, dtype: int64"
            ]
          },
          "metadata": {
            "tags": []
          },
          "execution_count": 6
        }
      ]
    },
    {
      "cell_type": "code",
      "metadata": {
        "id": "3GJFf9IgPLS0"
      },
      "source": [
        "train_reviews['referrals'] = train_reviews['referrals'].apply(lambda x: x == True or x == 'True')\n"
      ],
      "execution_count": null,
      "outputs": []
    },
    {
      "cell_type": "code",
      "metadata": {
        "id": "7bI4MVtweyd2"
      },
      "source": [
        "test_reviews['referrals'] = test_reviews['referrals'].apply(lambda x: x==True or x=='True')"
      ],
      "execution_count": null,
      "outputs": []
    },
    {
      "cell_type": "code",
      "metadata": {
        "colab": {
          "base_uri": "https://localhost:8080/",
          "height": 1000
        },
        "id": "ehqgogsVXuKu",
        "outputId": "62b944ae-3c66-4c10-c5c5-88d211f6941a"
      },
      "source": [
        "train_reviews.head()"
      ],
      "execution_count": null,
      "outputs": [
        {
          "output_type": "execute_result",
          "data": {
            "text/html": [
              "<div>\n",
              "<style scoped>\n",
              "    .dataframe tbody tr th:only-of-type {\n",
              "        vertical-align: middle;\n",
              "    }\n",
              "\n",
              "    .dataframe tbody tr th {\n",
              "        vertical-align: top;\n",
              "    }\n",
              "\n",
              "    .dataframe thead th {\n",
              "        text-align: right;\n",
              "    }\n",
              "</style>\n",
              "<table border=\"1\" class=\"dataframe\">\n",
              "  <thead>\n",
              "    <tr style=\"text-align: right;\">\n",
              "      <th></th>\n",
              "      <th></th>\n",
              "      <th></th>\n",
              "      <th></th>\n",
              "      <th></th>\n",
              "      <th></th>\n",
              "      <th></th>\n",
              "      <th></th>\n",
              "      <th></th>\n",
              "      <th></th>\n",
              "      <th></th>\n",
              "      <th></th>\n",
              "      <th></th>\n",
              "      <th></th>\n",
              "      <th></th>\n",
              "      <th></th>\n",
              "      <th></th>\n",
              "      <th></th>\n",
              "      <th></th>\n",
              "      <th></th>\n",
              "      <th></th>\n",
              "      <th></th>\n",
              "      <th></th>\n",
              "      <th></th>\n",
              "      <th></th>\n",
              "      <th></th>\n",
              "      <th></th>\n",
              "      <th></th>\n",
              "      <th></th>\n",
              "      <th></th>\n",
              "      <th></th>\n",
              "      <th></th>\n",
              "      <th></th>\n",
              "      <th></th>\n",
              "      <th></th>\n",
              "      <th></th>\n",
              "      <th></th>\n",
              "      <th></th>\n",
              "      <th></th>\n",
              "      <th></th>\n",
              "      <th></th>\n",
              "      <th></th>\n",
              "      <th></th>\n",
              "      <th></th>\n",
              "      <th></th>\n",
              "      <th></th>\n",
              "      <th></th>\n",
              "      <th></th>\n",
              "      <th></th>\n",
              "      <th></th>\n",
              "      <th></th>\n",
              "      <th></th>\n",
              "      <th></th>\n",
              "      <th></th>\n",
              "      <th></th>\n",
              "      <th></th>\n",
              "      <th></th>\n",
              "      <th></th>\n",
              "      <th>referrals</th>\n",
              "      <th>clean_text</th>\n",
              "    </tr>\n",
              "  </thead>\n",
              "  <tbody>\n",
              "    <tr>\n",
              "      <th>NaN</th>\n",
              "      <th>referralcreativeid</th>\n",
              "      <th>targetgroupid</th>\n",
              "      <th>campaignid</th>\n",
              "      <th>accountid</th>\n",
              "      <th>publisherid</th>\n",
              "      <th>gender</th>\n",
              "      <th>agegroup</th>\n",
              "      <th>deviceplatform</th>\n",
              "      <th>repeatvisitor</th>\n",
              "      <th>positiveresponse</th>\n",
              "      <th>negativeresponse</th>\n",
              "      <th>age</th>\n",
              "      <th>secondssincelastseen</th>\n",
              "      <th>secondssincelastposres</th>\n",
              "      <th>secondssincelastnegres</th>\n",
              "      <th>rank</th>\n",
              "      <th>placementid</th>\n",
              "      <th>cardtype</th>\n",
              "      <th>cardsubtype</th>\n",
              "      <th>topcardtype</th>\n",
              "      <th>operatingsystem</th>\n",
              "      <th>devicebrand</th>\n",
              "      <th>browser</th>\n",
              "      <th>pagetype</th>\n",
              "      <th>placementlayout</th>\n",
              "      <th>offerlayout</th>\n",
              "      <th>emaildomain</th>\n",
              "      <th>referrals</th>\n",
              "      <th>creativeid</th>\n",
              "      <th>text</th>\n",
              "      <th>free_delivery</th>\n",
              "      <th>free_trail</th>\n",
              "      <th>lucky_draw</th>\n",
              "      <th>click</th>\n",
              "      <th>dollar_sign</th>\n",
              "      <th>exclamation</th>\n",
              "      <th>question_sign</th>\n",
              "      <th>discount</th>\n",
              "      <th>offer</th>\n",
              "      <th>unlock</th>\n",
              "      <th>bonus</th>\n",
              "      <th>cash_back</th>\n",
              "      <th>sign_up</th>\n",
              "      <th>now</th>\n",
              "      <th>first_name_replaced</th>\n",
              "      <th>claim</th>\n",
              "      <th>enjoy</th>\n",
              "      <th>help</th>\n",
              "      <th>congrats</th>\n",
              "      <th>save</th>\n",
              "      <th>apr</th>\n",
              "      <th>loan</th>\n",
              "      <th>discount.1</th>\n",
              "      <th>discount_value</th>\n",
              "      <th>discount_num</th>\n",
              "      <th>discount_perc</th>\n",
              "      <th>discount_perc_num</th>\n",
              "      <td>False</td>\n",
              "      <td>clean_text</td>\n",
              "    </tr>\n",
              "    <tr>\n",
              "      <th>25.0</th>\n",
              "      <th>2877094116681646110</th>\n",
              "      <th>2886801434273644881</th>\n",
              "      <th>2837686477485113390</th>\n",
              "      <th>2791726255766259938</th>\n",
              "      <th>100</th>\n",
              "      <th>1</th>\n",
              "      <th>3</th>\n",
              "      <th>2</th>\n",
              "      <th>8</th>\n",
              "      <th>0</th>\n",
              "      <th>8</th>\n",
              "      <th>38</th>\n",
              "      <th>3753003</th>\n",
              "      <th>0</th>\n",
              "      <th>3753002</th>\n",
              "      <th>2</th>\n",
              "      <th>2705182136470994945</th>\n",
              "      <th>DEBIT</th>\n",
              "      <th>GOLD</th>\n",
              "      <th>debit</th>\n",
              "      <th>iOS</th>\n",
              "      <th>Apple</th>\n",
              "      <th>Mobile Safari</th>\n",
              "      <th>Confirmation</th>\n",
              "      <th>LightboxLayout</th>\n",
              "      <th>OfferLayout2</th>\n",
              "      <th>hotmail.com</th>\n",
              "      <th>0</th>\n",
              "      <th>2.877094116681646e+18</th>\n",
              "      <th>&lt;p&gt;our koalas are losing their homes &amp;amp; their lives. adopt one today with wwf-australia to help return more koalas to the wild. sign up to help.&lt;/p&gt;</th>\n",
              "      <th>False</th>\n",
              "      <th>False</th>\n",
              "      <th>False</th>\n",
              "      <th>False</th>\n",
              "      <th>False</th>\n",
              "      <th>False</th>\n",
              "      <th>False</th>\n",
              "      <th>False</th>\n",
              "      <th>False</th>\n",
              "      <th>False</th>\n",
              "      <th>False</th>\n",
              "      <th>False</th>\n",
              "      <th>True</th>\n",
              "      <th>False</th>\n",
              "      <th>False</th>\n",
              "      <th>False</th>\n",
              "      <th>False</th>\n",
              "      <th>True</th>\n",
              "      <th>False</th>\n",
              "      <th>False</th>\n",
              "      <th>False</th>\n",
              "      <th>False</th>\n",
              "      <th>False</th>\n",
              "      <th>False</th>\n",
              "      <th>False</th>\n",
              "      <th>False</th>\n",
              "      <th>False</th>\n",
              "      <td>True</td>\n",
              "      <td>our koalas are losing their homes and their li...</td>\n",
              "    </tr>\n",
              "    <tr>\n",
              "      <th>65.0</th>\n",
              "      <th>2864738144312164568</th>\n",
              "      <th>2864737723405631502</th>\n",
              "      <th>2812042340155326467</th>\n",
              "      <th>2443482344537199973</th>\n",
              "      <th>2601936972420513252</th>\n",
              "      <th>2</th>\n",
              "      <th>6</th>\n",
              "      <th>1</th>\n",
              "      <th>7</th>\n",
              "      <th>0</th>\n",
              "      <th>7</th>\n",
              "      <th>77</th>\n",
              "      <th>1247158</th>\n",
              "      <th>13516433</th>\n",
              "      <th>1247148</th>\n",
              "      <th>1</th>\n",
              "      <th>2705608300305973249</th>\n",
              "      <th>CREDIT</th>\n",
              "      <th>CLASSIC</th>\n",
              "      <th>classiccredit</th>\n",
              "      <th>Mac OS X</th>\n",
              "      <th>Apple</th>\n",
              "      <th>Safari</th>\n",
              "      <th>Confirmation</th>\n",
              "      <th>LightboxLayout</th>\n",
              "      <th>OfferLayout2</th>\n",
              "      <th>comcast.net</th>\n",
              "      <th>0</th>\n",
              "      <th>2.8647381443121644e+18</th>\n",
              "      <th>&lt;p&gt;get available coupon codes automatically applied to your orders. simply add capital one shopping to your browser, and shop like normal. this free tool does the work for you.&lt;/p&gt;</th>\n",
              "      <th>False</th>\n",
              "      <th>False</th>\n",
              "      <th>False</th>\n",
              "      <th>False</th>\n",
              "      <th>False</th>\n",
              "      <th>False</th>\n",
              "      <th>False</th>\n",
              "      <th>False</th>\n",
              "      <th>False</th>\n",
              "      <th>False</th>\n",
              "      <th>False</th>\n",
              "      <th>False</th>\n",
              "      <th>False</th>\n",
              "      <th>False</th>\n",
              "      <th>False</th>\n",
              "      <th>False</th>\n",
              "      <th>False</th>\n",
              "      <th>False</th>\n",
              "      <th>False</th>\n",
              "      <th>False</th>\n",
              "      <th>False</th>\n",
              "      <th>False</th>\n",
              "      <th>False</th>\n",
              "      <th>False</th>\n",
              "      <th>False</th>\n",
              "      <th>False</th>\n",
              "      <th>False</th>\n",
              "      <td>True</td>\n",
              "      <td>get available coupon codes automatically appli...</td>\n",
              "    </tr>\n",
              "    <tr>\n",
              "      <th>97.0</th>\n",
              "      <th>2887882859786469391</th>\n",
              "      <th>2881856153088819253</th>\n",
              "      <th>2871881563989147782</th>\n",
              "      <th>2809479086472472188</th>\n",
              "      <th>100</th>\n",
              "      <th>2</th>\n",
              "      <th>2</th>\n",
              "      <th>2</th>\n",
              "      <th>0</th>\n",
              "      <th>0</th>\n",
              "      <th>0</th>\n",
              "      <th>34</th>\n",
              "      <th>0</th>\n",
              "      <th>0</th>\n",
              "      <th>0</th>\n",
              "      <th>1</th>\n",
              "      <th>2705182136470994945</th>\n",
              "      <th>DEBIT</th>\n",
              "      <th>CLASSIC</th>\n",
              "      <th>debit</th>\n",
              "      <th>Android</th>\n",
              "      <th>Samsung</th>\n",
              "      <th>Instagram</th>\n",
              "      <th>Confirmation</th>\n",
              "      <th>LightboxLayout</th>\n",
              "      <th>OfferLayout2</th>\n",
              "      <th>hotmail.com</th>\n",
              "      <th>0</th>\n",
              "      <th>2.8878828597864694e+18</th>\n",
              "      <th>&lt;p&gt;download and sign in to the bws app to go into the draw to win 1 of 5 $500 wish vouchers!&lt;/p&gt;</th>\n",
              "      <th>False</th>\n",
              "      <th>False</th>\n",
              "      <th>False</th>\n",
              "      <th>False</th>\n",
              "      <th>True</th>\n",
              "      <th>True</th>\n",
              "      <th>False</th>\n",
              "      <th>True</th>\n",
              "      <th>False</th>\n",
              "      <th>False</th>\n",
              "      <th>False</th>\n",
              "      <th>False</th>\n",
              "      <th>False</th>\n",
              "      <th>False</th>\n",
              "      <th>False</th>\n",
              "      <th>False</th>\n",
              "      <th>False</th>\n",
              "      <th>False</th>\n",
              "      <th>False</th>\n",
              "      <th>False</th>\n",
              "      <th>False</th>\n",
              "      <th>False</th>\n",
              "      <th>True</th>\n",
              "      <th>True</th>\n",
              "      <th>500</th>\n",
              "      <th>False</th>\n",
              "      <th>False</th>\n",
              "      <td>False</td>\n",
              "      <td>download and sign in to the bws app to go into...</td>\n",
              "    </tr>\n",
              "    <tr>\n",
              "      <th>117.0</th>\n",
              "      <th>2770807802255704283</th>\n",
              "      <th>2770807334104072306</th>\n",
              "      <th>2770806943262048353</th>\n",
              "      <th>2755560006908929678</th>\n",
              "      <th>404</th>\n",
              "      <th>2</th>\n",
              "      <th>0</th>\n",
              "      <th>2</th>\n",
              "      <th>0</th>\n",
              "      <th>0</th>\n",
              "      <th>0</th>\n",
              "      <th>0</th>\n",
              "      <th>0</th>\n",
              "      <th>0</th>\n",
              "      <th>0</th>\n",
              "      <th>1</th>\n",
              "      <th>2760885714816466946</th>\n",
              "      <th>DEBIT</th>\n",
              "      <th>CLASSIC</th>\n",
              "      <th>debit</th>\n",
              "      <th>iOS</th>\n",
              "      <th>Apple</th>\n",
              "      <th>Mobile Safari</th>\n",
              "      <th>Confirmation</th>\n",
              "      <th>LightboxLayout</th>\n",
              "      <th>OfferLayout2</th>\n",
              "      <th>gmail.com</th>\n",
              "      <th>0</th>\n",
              "      <th>2.770807802255704e+18</th>\n",
              "      <th>click below to claim your €16.87 cash back on your next online order with the complete savings paid programme.</th>\n",
              "      <th>False</th>\n",
              "      <th>False</th>\n",
              "      <th>False</th>\n",
              "      <th>True</th>\n",
              "      <th>False</th>\n",
              "      <th>False</th>\n",
              "      <th>False</th>\n",
              "      <th>False</th>\n",
              "      <th>False</th>\n",
              "      <th>False</th>\n",
              "      <th>False</th>\n",
              "      <th>True</th>\n",
              "      <th>False</th>\n",
              "      <th>False</th>\n",
              "      <th>False</th>\n",
              "      <th>True</th>\n",
              "      <th>False</th>\n",
              "      <th>False</th>\n",
              "      <th>False</th>\n",
              "      <th>False</th>\n",
              "      <th>False</th>\n",
              "      <th>False</th>\n",
              "      <th>False</th>\n",
              "      <th>False</th>\n",
              "      <th>False</th>\n",
              "      <th>False</th>\n",
              "      <th>False</th>\n",
              "      <td>False</td>\n",
              "      <td>click below to claim your €16.87 cash back on ...</td>\n",
              "    </tr>\n",
              "  </tbody>\n",
              "</table>\n",
              "</div>"
            ],
            "text/plain": [
              "                                                                                                                                                                                                                                                                                                                                                                                                                                                                                                                                                                                                                                                                                                                                                                                                 referrals                                         clean_text\n",
              "NaN       referralcreativeid  targetgroupid       campaignid          accountid           publisherid         gender agegroup deviceplatform repeatvisitor positiveresponse negativeresponse age secondssincelastseen secondssincelastposres secondssincelastnegres rank placementid         cardtype cardsubtype topcardtype   operatingsystem devicebrand browser       pagetype     placementlayout offerlayout  emaildomain referrals creativeid             text                                               free_delivery free_trail lucky_draw click dollar_sign exclamation question_sign discount offer unlock bonus cash_back sign_up now   first_name_replaced claim enjoy help  congrats save  apr   loan  discount.1 discount_value discount_num discount_perc discount_perc_num      False                                         clean_text\n",
              "25.0      2877094116681646110 2886801434273644881 2837686477485113390 2791726255766259938 100                 1      3        2              8             0                8                38  3753003              0                      3753002                2    2705182136470994945 DEBIT    GOLD        debit         iOS             Apple       Mobile Safari Confirmation LightboxLayout  OfferLayout2 hotmail.com 0         2.877094116681646e+18  <p>our koalas are losing their homes &amp; thei... False         False      False      False False       False       False         False    False False  False False     True    False False               False False True  False    False False False False      False          False        False         False                   True  our koalas are losing their homes and their li...\n",
              "65.0      2864738144312164568 2864737723405631502 2812042340155326467 2443482344537199973 2601936972420513252 2      6        1              7             0                7                77  1247158              13516433               1247148                1    2705608300305973249 CREDIT   CLASSIC     classiccredit Mac OS X        Apple       Safari        Confirmation LightboxLayout  OfferLayout2 comcast.net 0         2.8647381443121644e+18 <p>get available coupon codes automatically app... False         False      False      False False       False       False         False    False False  False False     False   False False               False False False False    False False False False      False          False        False         False                   True  get available coupon codes automatically appli...\n",
              "97.0      2887882859786469391 2881856153088819253 2871881563989147782 2809479086472472188 100                 2      2        2              0             0                0                34  0                    0                      0                      1    2705182136470994945 DEBIT    CLASSIC     debit         Android         Samsung     Instagram     Confirmation LightboxLayout  OfferLayout2 hotmail.com 0         2.8878828597864694e+18 <p>download and sign in to the bws app to go in... False         False      False      False True        True        False         True     False False  False False     False   False False               False False False False    False False False True       True           500          False         False                  False  download and sign in to the bws app to go into...\n",
              "117.0     2770807802255704283 2770807334104072306 2770806943262048353 2755560006908929678 404                 2      0        2              0             0                0                0   0                    0                      0                      1    2760885714816466946 DEBIT    CLASSIC     debit         iOS             Apple       Mobile Safari Confirmation LightboxLayout  OfferLayout2 gmail.com   0         2.770807802255704e+18  click below to claim your €16.87 cash back on y... False         False      False      True  False       False       False         False    False False  False True      False   False False               True  False False False    False False False False      False          False        False         False                  False  click below to claim your €16.87 cash back on ..."
            ]
          },
          "metadata": {
            "tags": []
          },
          "execution_count": 9
        }
      ]
    },
    {
      "cell_type": "code",
      "metadata": {
        "colab": {
          "base_uri": "https://localhost:8080/",
          "height": 1000
        },
        "id": "xNJIHmliPLS0",
        "outputId": "55746f2d-e119-4b0d-b628-f900875e8141"
      },
      "source": [
        "test_reviews.head()"
      ],
      "execution_count": null,
      "outputs": [
        {
          "output_type": "execute_result",
          "data": {
            "text/html": [
              "<div>\n",
              "<style scoped>\n",
              "    .dataframe tbody tr th:only-of-type {\n",
              "        vertical-align: middle;\n",
              "    }\n",
              "\n",
              "    .dataframe tbody tr th {\n",
              "        vertical-align: top;\n",
              "    }\n",
              "\n",
              "    .dataframe thead th {\n",
              "        text-align: right;\n",
              "    }\n",
              "</style>\n",
              "<table border=\"1\" class=\"dataframe\">\n",
              "  <thead>\n",
              "    <tr style=\"text-align: right;\">\n",
              "      <th></th>\n",
              "      <th></th>\n",
              "      <th></th>\n",
              "      <th></th>\n",
              "      <th></th>\n",
              "      <th></th>\n",
              "      <th></th>\n",
              "      <th></th>\n",
              "      <th></th>\n",
              "      <th></th>\n",
              "      <th></th>\n",
              "      <th></th>\n",
              "      <th></th>\n",
              "      <th></th>\n",
              "      <th></th>\n",
              "      <th></th>\n",
              "      <th></th>\n",
              "      <th></th>\n",
              "      <th></th>\n",
              "      <th></th>\n",
              "      <th></th>\n",
              "      <th></th>\n",
              "      <th></th>\n",
              "      <th></th>\n",
              "      <th></th>\n",
              "      <th></th>\n",
              "      <th></th>\n",
              "      <th></th>\n",
              "      <th></th>\n",
              "      <th></th>\n",
              "      <th></th>\n",
              "      <th></th>\n",
              "      <th></th>\n",
              "      <th></th>\n",
              "      <th></th>\n",
              "      <th></th>\n",
              "      <th></th>\n",
              "      <th></th>\n",
              "      <th></th>\n",
              "      <th></th>\n",
              "      <th></th>\n",
              "      <th></th>\n",
              "      <th></th>\n",
              "      <th></th>\n",
              "      <th></th>\n",
              "      <th></th>\n",
              "      <th></th>\n",
              "      <th></th>\n",
              "      <th></th>\n",
              "      <th></th>\n",
              "      <th></th>\n",
              "      <th></th>\n",
              "      <th></th>\n",
              "      <th></th>\n",
              "      <th></th>\n",
              "      <th></th>\n",
              "      <th></th>\n",
              "      <th></th>\n",
              "      <th>referrals</th>\n",
              "      <th>clean_text</th>\n",
              "    </tr>\n",
              "  </thead>\n",
              "  <tbody>\n",
              "    <tr>\n",
              "      <th>NaN</th>\n",
              "      <th>referralcreativeid</th>\n",
              "      <th>targetgroupid</th>\n",
              "      <th>campaignid</th>\n",
              "      <th>accountid</th>\n",
              "      <th>publisherid</th>\n",
              "      <th>gender</th>\n",
              "      <th>agegroup</th>\n",
              "      <th>deviceplatform</th>\n",
              "      <th>repeatvisitor</th>\n",
              "      <th>positiveresponse</th>\n",
              "      <th>negativeresponse</th>\n",
              "      <th>age</th>\n",
              "      <th>secondssincelastseen</th>\n",
              "      <th>secondssincelastposres</th>\n",
              "      <th>secondssincelastnegres</th>\n",
              "      <th>rank</th>\n",
              "      <th>placementid</th>\n",
              "      <th>cardtype</th>\n",
              "      <th>cardsubtype</th>\n",
              "      <th>topcardtype</th>\n",
              "      <th>operatingsystem</th>\n",
              "      <th>devicebrand</th>\n",
              "      <th>browser</th>\n",
              "      <th>pagetype</th>\n",
              "      <th>placementlayout</th>\n",
              "      <th>offerlayout</th>\n",
              "      <th>emaildomain</th>\n",
              "      <th>referrals</th>\n",
              "      <th>creativeid</th>\n",
              "      <th>text</th>\n",
              "      <th>free_delivery</th>\n",
              "      <th>free_trail</th>\n",
              "      <th>lucky_draw</th>\n",
              "      <th>click</th>\n",
              "      <th>dollar_sign</th>\n",
              "      <th>exclamation</th>\n",
              "      <th>question_sign</th>\n",
              "      <th>discount</th>\n",
              "      <th>offer</th>\n",
              "      <th>unlock</th>\n",
              "      <th>bonus</th>\n",
              "      <th>cash_back</th>\n",
              "      <th>sign_up</th>\n",
              "      <th>now</th>\n",
              "      <th>first_name_replaced</th>\n",
              "      <th>claim</th>\n",
              "      <th>enjoy</th>\n",
              "      <th>help</th>\n",
              "      <th>congrats</th>\n",
              "      <th>save</th>\n",
              "      <th>apr</th>\n",
              "      <th>loan</th>\n",
              "      <th>discount.1</th>\n",
              "      <th>discount_value</th>\n",
              "      <th>discount_num</th>\n",
              "      <th>discount_perc</th>\n",
              "      <th>discount_perc_num</th>\n",
              "      <td>False</td>\n",
              "      <td>clean_text</td>\n",
              "    </tr>\n",
              "    <tr>\n",
              "      <th>25.0</th>\n",
              "      <th>2877094116681646110</th>\n",
              "      <th>2886801434273644881</th>\n",
              "      <th>2837686477485113390</th>\n",
              "      <th>2791726255766259938</th>\n",
              "      <th>100</th>\n",
              "      <th>1</th>\n",
              "      <th>3</th>\n",
              "      <th>2</th>\n",
              "      <th>8</th>\n",
              "      <th>0</th>\n",
              "      <th>8</th>\n",
              "      <th>38</th>\n",
              "      <th>3753003</th>\n",
              "      <th>0</th>\n",
              "      <th>3753002</th>\n",
              "      <th>2</th>\n",
              "      <th>2705182136470994945</th>\n",
              "      <th>DEBIT</th>\n",
              "      <th>GOLD</th>\n",
              "      <th>debit</th>\n",
              "      <th>iOS</th>\n",
              "      <th>Apple</th>\n",
              "      <th>Mobile Safari</th>\n",
              "      <th>Confirmation</th>\n",
              "      <th>LightboxLayout</th>\n",
              "      <th>OfferLayout2</th>\n",
              "      <th>hotmail.com</th>\n",
              "      <th>0</th>\n",
              "      <th>2.877094116681646e+18</th>\n",
              "      <th>&lt;p&gt;our koalas are losing their homes &amp;amp; their lives. adopt one today with wwf-australia to help return more koalas to the wild. sign up to help.&lt;/p&gt;</th>\n",
              "      <th>False</th>\n",
              "      <th>False</th>\n",
              "      <th>False</th>\n",
              "      <th>False</th>\n",
              "      <th>False</th>\n",
              "      <th>False</th>\n",
              "      <th>False</th>\n",
              "      <th>False</th>\n",
              "      <th>False</th>\n",
              "      <th>False</th>\n",
              "      <th>False</th>\n",
              "      <th>False</th>\n",
              "      <th>True</th>\n",
              "      <th>False</th>\n",
              "      <th>False</th>\n",
              "      <th>False</th>\n",
              "      <th>False</th>\n",
              "      <th>True</th>\n",
              "      <th>False</th>\n",
              "      <th>False</th>\n",
              "      <th>False</th>\n",
              "      <th>False</th>\n",
              "      <th>False</th>\n",
              "      <th>False</th>\n",
              "      <th>False</th>\n",
              "      <th>False</th>\n",
              "      <th>False</th>\n",
              "      <td>True</td>\n",
              "      <td>our koalas are losing their homes and their li...</td>\n",
              "    </tr>\n",
              "    <tr>\n",
              "      <th>65.0</th>\n",
              "      <th>2864738144312164568</th>\n",
              "      <th>2864737723405631502</th>\n",
              "      <th>2812042340155326467</th>\n",
              "      <th>2443482344537199973</th>\n",
              "      <th>2601936972420513252</th>\n",
              "      <th>2</th>\n",
              "      <th>6</th>\n",
              "      <th>1</th>\n",
              "      <th>7</th>\n",
              "      <th>0</th>\n",
              "      <th>7</th>\n",
              "      <th>77</th>\n",
              "      <th>1247158</th>\n",
              "      <th>13516433</th>\n",
              "      <th>1247148</th>\n",
              "      <th>1</th>\n",
              "      <th>2705608300305973249</th>\n",
              "      <th>CREDIT</th>\n",
              "      <th>CLASSIC</th>\n",
              "      <th>classiccredit</th>\n",
              "      <th>Mac OS X</th>\n",
              "      <th>Apple</th>\n",
              "      <th>Safari</th>\n",
              "      <th>Confirmation</th>\n",
              "      <th>LightboxLayout</th>\n",
              "      <th>OfferLayout2</th>\n",
              "      <th>comcast.net</th>\n",
              "      <th>0</th>\n",
              "      <th>2.8647381443121644e+18</th>\n",
              "      <th>&lt;p&gt;get available coupon codes automatically applied to your orders. simply add capital one shopping to your browser, and shop like normal. this free tool does the work for you.&lt;/p&gt;</th>\n",
              "      <th>False</th>\n",
              "      <th>False</th>\n",
              "      <th>False</th>\n",
              "      <th>False</th>\n",
              "      <th>False</th>\n",
              "      <th>False</th>\n",
              "      <th>False</th>\n",
              "      <th>False</th>\n",
              "      <th>False</th>\n",
              "      <th>False</th>\n",
              "      <th>False</th>\n",
              "      <th>False</th>\n",
              "      <th>False</th>\n",
              "      <th>False</th>\n",
              "      <th>False</th>\n",
              "      <th>False</th>\n",
              "      <th>False</th>\n",
              "      <th>False</th>\n",
              "      <th>False</th>\n",
              "      <th>False</th>\n",
              "      <th>False</th>\n",
              "      <th>False</th>\n",
              "      <th>False</th>\n",
              "      <th>False</th>\n",
              "      <th>False</th>\n",
              "      <th>False</th>\n",
              "      <th>False</th>\n",
              "      <td>True</td>\n",
              "      <td>get available coupon codes automatically appli...</td>\n",
              "    </tr>\n",
              "    <tr>\n",
              "      <th>97.0</th>\n",
              "      <th>2887882859786469391</th>\n",
              "      <th>2881856153088819253</th>\n",
              "      <th>2871881563989147782</th>\n",
              "      <th>2809479086472472188</th>\n",
              "      <th>100</th>\n",
              "      <th>2</th>\n",
              "      <th>2</th>\n",
              "      <th>2</th>\n",
              "      <th>0</th>\n",
              "      <th>0</th>\n",
              "      <th>0</th>\n",
              "      <th>34</th>\n",
              "      <th>0</th>\n",
              "      <th>0</th>\n",
              "      <th>0</th>\n",
              "      <th>1</th>\n",
              "      <th>2705182136470994945</th>\n",
              "      <th>DEBIT</th>\n",
              "      <th>CLASSIC</th>\n",
              "      <th>debit</th>\n",
              "      <th>Android</th>\n",
              "      <th>Samsung</th>\n",
              "      <th>Instagram</th>\n",
              "      <th>Confirmation</th>\n",
              "      <th>LightboxLayout</th>\n",
              "      <th>OfferLayout2</th>\n",
              "      <th>hotmail.com</th>\n",
              "      <th>0</th>\n",
              "      <th>2.8878828597864694e+18</th>\n",
              "      <th>&lt;p&gt;download and sign in to the bws app to go into the draw to win 1 of 5 $500 wish vouchers!&lt;/p&gt;</th>\n",
              "      <th>False</th>\n",
              "      <th>False</th>\n",
              "      <th>False</th>\n",
              "      <th>False</th>\n",
              "      <th>True</th>\n",
              "      <th>True</th>\n",
              "      <th>False</th>\n",
              "      <th>True</th>\n",
              "      <th>False</th>\n",
              "      <th>False</th>\n",
              "      <th>False</th>\n",
              "      <th>False</th>\n",
              "      <th>False</th>\n",
              "      <th>False</th>\n",
              "      <th>False</th>\n",
              "      <th>False</th>\n",
              "      <th>False</th>\n",
              "      <th>False</th>\n",
              "      <th>False</th>\n",
              "      <th>False</th>\n",
              "      <th>False</th>\n",
              "      <th>False</th>\n",
              "      <th>True</th>\n",
              "      <th>True</th>\n",
              "      <th>500</th>\n",
              "      <th>False</th>\n",
              "      <th>False</th>\n",
              "      <td>False</td>\n",
              "      <td>download and sign in to the bws app to go into...</td>\n",
              "    </tr>\n",
              "    <tr>\n",
              "      <th>117.0</th>\n",
              "      <th>2770807802255704283</th>\n",
              "      <th>2770807334104072306</th>\n",
              "      <th>2770806943262048353</th>\n",
              "      <th>2755560006908929678</th>\n",
              "      <th>404</th>\n",
              "      <th>2</th>\n",
              "      <th>0</th>\n",
              "      <th>2</th>\n",
              "      <th>0</th>\n",
              "      <th>0</th>\n",
              "      <th>0</th>\n",
              "      <th>0</th>\n",
              "      <th>0</th>\n",
              "      <th>0</th>\n",
              "      <th>0</th>\n",
              "      <th>1</th>\n",
              "      <th>2760885714816466946</th>\n",
              "      <th>DEBIT</th>\n",
              "      <th>CLASSIC</th>\n",
              "      <th>debit</th>\n",
              "      <th>iOS</th>\n",
              "      <th>Apple</th>\n",
              "      <th>Mobile Safari</th>\n",
              "      <th>Confirmation</th>\n",
              "      <th>LightboxLayout</th>\n",
              "      <th>OfferLayout2</th>\n",
              "      <th>gmail.com</th>\n",
              "      <th>0</th>\n",
              "      <th>2.770807802255704e+18</th>\n",
              "      <th>click below to claim your €16.87 cash back on your next online order with the complete savings paid programme.</th>\n",
              "      <th>False</th>\n",
              "      <th>False</th>\n",
              "      <th>False</th>\n",
              "      <th>True</th>\n",
              "      <th>False</th>\n",
              "      <th>False</th>\n",
              "      <th>False</th>\n",
              "      <th>False</th>\n",
              "      <th>False</th>\n",
              "      <th>False</th>\n",
              "      <th>False</th>\n",
              "      <th>True</th>\n",
              "      <th>False</th>\n",
              "      <th>False</th>\n",
              "      <th>False</th>\n",
              "      <th>True</th>\n",
              "      <th>False</th>\n",
              "      <th>False</th>\n",
              "      <th>False</th>\n",
              "      <th>False</th>\n",
              "      <th>False</th>\n",
              "      <th>False</th>\n",
              "      <th>False</th>\n",
              "      <th>False</th>\n",
              "      <th>False</th>\n",
              "      <th>False</th>\n",
              "      <th>False</th>\n",
              "      <td>False</td>\n",
              "      <td>click below to claim your €16.87 cash back on ...</td>\n",
              "    </tr>\n",
              "  </tbody>\n",
              "</table>\n",
              "</div>"
            ],
            "text/plain": [
              "                                                                                                                                                                                                                                                                                                                                                                                                                                                                                                                                                                                                                                                                                                                                                                                                 referrals                                         clean_text\n",
              "NaN       referralcreativeid  targetgroupid       campaignid          accountid           publisherid         gender agegroup deviceplatform repeatvisitor positiveresponse negativeresponse age secondssincelastseen secondssincelastposres secondssincelastnegres rank placementid         cardtype cardsubtype topcardtype   operatingsystem devicebrand browser       pagetype     placementlayout offerlayout  emaildomain referrals creativeid             text                                               free_delivery free_trail lucky_draw click dollar_sign exclamation question_sign discount offer unlock bonus cash_back sign_up now   first_name_replaced claim enjoy help  congrats save  apr   loan  discount.1 discount_value discount_num discount_perc discount_perc_num      False                                         clean_text\n",
              "25.0      2877094116681646110 2886801434273644881 2837686477485113390 2791726255766259938 100                 1      3        2              8             0                8                38  3753003              0                      3753002                2    2705182136470994945 DEBIT    GOLD        debit         iOS             Apple       Mobile Safari Confirmation LightboxLayout  OfferLayout2 hotmail.com 0         2.877094116681646e+18  <p>our koalas are losing their homes &amp; thei... False         False      False      False False       False       False         False    False False  False False     True    False False               False False True  False    False False False False      False          False        False         False                   True  our koalas are losing their homes and their li...\n",
              "65.0      2864738144312164568 2864737723405631502 2812042340155326467 2443482344537199973 2601936972420513252 2      6        1              7             0                7                77  1247158              13516433               1247148                1    2705608300305973249 CREDIT   CLASSIC     classiccredit Mac OS X        Apple       Safari        Confirmation LightboxLayout  OfferLayout2 comcast.net 0         2.8647381443121644e+18 <p>get available coupon codes automatically app... False         False      False      False False       False       False         False    False False  False False     False   False False               False False False False    False False False False      False          False        False         False                   True  get available coupon codes automatically appli...\n",
              "97.0      2887882859786469391 2881856153088819253 2871881563989147782 2809479086472472188 100                 2      2        2              0             0                0                34  0                    0                      0                      1    2705182136470994945 DEBIT    CLASSIC     debit         Android         Samsung     Instagram     Confirmation LightboxLayout  OfferLayout2 hotmail.com 0         2.8878828597864694e+18 <p>download and sign in to the bws app to go in... False         False      False      False True        True        False         True     False False  False False     False   False False               False False False False    False False False True       True           500          False         False                  False  download and sign in to the bws app to go into...\n",
              "117.0     2770807802255704283 2770807334104072306 2770806943262048353 2755560006908929678 404                 2      0        2              0             0                0                0   0                    0                      0                      1    2760885714816466946 DEBIT    CLASSIC     debit         iOS             Apple       Mobile Safari Confirmation LightboxLayout  OfferLayout2 gmail.com   0         2.770807802255704e+18  click below to claim your €16.87 cash back on y... False         False      False      True  False       False       False         False    False False  False True      False   False False               True  False False False    False False False False      False          False        False         False                  False  click below to claim your €16.87 cash back on ..."
            ]
          },
          "metadata": {
            "tags": []
          },
          "execution_count": 10
        }
      ]
    },
    {
      "cell_type": "code",
      "metadata": {
        "colab": {
          "base_uri": "https://localhost:8080/"
        },
        "id": "RyGDMw2hPLS0",
        "outputId": "cdba227c-c9fa-4af5-d2db-ee4511fd1a5d"
      },
      "source": [
        "set(train_reviews.referrals)"
      ],
      "execution_count": null,
      "outputs": [
        {
          "output_type": "execute_result",
          "data": {
            "text/plain": [
              "{False, True}"
            ]
          },
          "metadata": {
            "tags": []
          },
          "execution_count": 11
        }
      ]
    },
    {
      "cell_type": "code",
      "metadata": {
        "id": "gmlAZuw9X_mu"
      },
      "source": [
        "# making the subset equal across the review classes\n",
        "by_rating = collections.defaultdict(list)\n",
        "for _, row in train_reviews.iterrows():\n",
        "    by_rating[row.referrals].append(row.to_dict())"
      ],
      "execution_count": null,
      "outputs": []
    },
    {
      "cell_type": "code",
      "metadata": {
        "id": "b_wQLeKcPLS1"
      },
      "source": [
        "# Example 3-12. Creating training, validation, and testing splits\n",
        "final_list = []\n",
        "np.random.seed(args.seed)\n",
        "\n",
        "for _, item_list in by_rating.items():\n",
        "\n",
        "    np.random.shuffle(item_list)\n",
        "    \n",
        "    n_total = len(item_list)\n",
        "    n_train = int(args.train_proportion * n_total)\n",
        "    n_val = int(args.val_proportion * n_total)\n",
        "    \n",
        "    # Give data point a split attribute\n",
        "    for item in item_list[:n_train]:\n",
        "        item['split'] = 'train'\n",
        "    \n",
        "    for item in item_list[n_train:n_train+n_val]:\n",
        "        item['split'] = 'val'\n",
        "\n",
        "    # Add to final list\n",
        "    final_list.extend(item_list)"
      ],
      "execution_count": null,
      "outputs": []
    },
    {
      "cell_type": "code",
      "metadata": {
        "id": "_DRp3BG4bhUt"
      },
      "source": [
        "for _, row in test_reviews.iterrows():\n",
        "  row_dict = row.to_dict()\n",
        "  row_dict['split'] = 'test'\n",
        "  final_list.append(row_dict)"
      ],
      "execution_count": null,
      "outputs": []
    },
    {
      "cell_type": "code",
      "metadata": {
        "id": "J3nrgjzSPLS1"
      },
      "source": [
        "final_reviews = pd.DataFrame(final_list)"
      ],
      "execution_count": null,
      "outputs": []
    },
    {
      "cell_type": "code",
      "metadata": {
        "colab": {
          "base_uri": "https://localhost:8080/"
        },
        "id": "OUaZ8-aPPLS1",
        "outputId": "b0d7b69d-5d11-4ea1-f80e-c6d368d39ee0"
      },
      "source": [
        "final_reviews.split.value_counts()"
      ],
      "execution_count": null,
      "outputs": [
        {
          "output_type": "execute_result",
          "data": {
            "text/plain": [
              "test     291830\n",
              "train    204280\n",
              "val       43774\n",
              "Name: split, dtype: int64"
            ]
          },
          "metadata": {
            "tags": []
          },
          "execution_count": 16
        }
      ]
    },
    {
      "cell_type": "code",
      "metadata": {
        "id": "HZDi8Hw2PLS2",
        "scrolled": true
      },
      "source": [
        "final_reviews['referrals'] = final_reviews.referrals.apply({False: 'negative', True: 'positive'}.get)"
      ],
      "execution_count": null,
      "outputs": []
    },
    {
      "cell_type": "code",
      "metadata": {
        "colab": {
          "base_uri": "https://localhost:8080/"
        },
        "id": "Gm20-6qrfrmg",
        "outputId": "4f508314-bcbf-4091-de05-62db7e88017b"
      },
      "source": [
        "final_reviews['referrals'].value_counts()"
      ],
      "execution_count": null,
      "outputs": [
        {
          "output_type": "execute_result",
          "data": {
            "text/plain": [
              "negative    457988\n",
              "positive    125672\n",
              "Name: referrals, dtype: int64"
            ]
          },
          "metadata": {
            "tags": []
          },
          "execution_count": 18
        }
      ]
    },
    {
      "cell_type": "code",
      "metadata": {
        "id": "5UjTzOOcb0z3"
      },
      "source": [
        "final_reviews.to_csv(args.output_munged_csv, index=False)"
      ],
      "execution_count": null,
      "outputs": []
    },
    {
      "cell_type": "code",
      "metadata": {
        "id": "kXmCV9AkPLS2"
      },
      "source": [
        "from argparse import Namespace\n",
        "from collections import Counter\n",
        "import json\n",
        "import os\n",
        "import re\n",
        "import string\n",
        "\n",
        "import numpy as np\n",
        "import pandas as pd\n",
        "import torch\n",
        "import torch.nn as nn\n",
        "import torch.nn.functional as F\n",
        "import torch.optim as optim\n",
        "from torch.utils.data import Dataset, DataLoader\n",
        "from tqdm import tqdm_notebook"
      ],
      "execution_count": null,
      "outputs": []
    },
    {
      "cell_type": "code",
      "metadata": {
        "id": "HG8KMyd7PLS2"
      },
      "source": [
        "#The Vocabulary class maintains token to integer mapping needed for the rest of the machine learning pipeline\n",
        "class Vocabulary(object):\n",
        "    \"\"\"Class to process text and extract Vocabulary for mapping\"\"\"\n",
        "\n",
        "    def __init__(self, token_to_idx=None, add_unk=True, unk_token=\"<UNK>\"):\n",
        "        \"\"\"\n",
        "        Args:\n",
        "            token_to_idx (dict): a pre-existing map of tokens to indices\n",
        "            add_unk (bool): a flag that indicates whether to add the UNK(unknow) token\n",
        "            unk_token (str): the UNK token to add into the Vocabulary\n",
        "        \"\"\"\n",
        "\n",
        "        if token_to_idx is None:\n",
        "            token_to_idx = {}\n",
        "        self._token_to_idx = token_to_idx\n",
        "\n",
        "        self._idx_to_token = {idx: token \n",
        "                              for token, idx in self._token_to_idx.items()}\n",
        "\n",
        "        self._add_unk = add_unk\n",
        "        self._unk_token = unk_token\n",
        "        \n",
        "        self.unk_index = -1\n",
        "        if add_unk:\n",
        "            self.unk_index = self.add_token(unk_token) \n",
        "        \n",
        "        \n",
        "    def to_serializable(self):\n",
        "        \"\"\" returns a dictionary that can be serialized \"\"\"\n",
        "        return {'token_to_idx': self._token_to_idx, \n",
        "                'add_unk': self._add_unk, \n",
        "                'unk_token': self._unk_token}\n",
        "\n",
        "    @classmethod\n",
        "    def from_serializable(cls, contents):\n",
        "        \"\"\" instantiates the Vocabulary from a serialized dictionary \"\"\"\n",
        "        return cls(**contents)\n",
        "\n",
        "    def add_token(self, token):\n",
        "        \"\"\"Update mapping dicts based on the token.\n",
        "\n",
        "        Args:\n",
        "            token (str): the item to add into the Vocabulary\n",
        "        Returns:\n",
        "            index (int): the integer corresponding to the token\n",
        "        \"\"\"\n",
        "        if token in self._token_to_idx:\n",
        "            index = self._token_to_idx[token]\n",
        "        else:\n",
        "            index = len(self._token_to_idx)\n",
        "            self._token_to_idx[token] = index\n",
        "            self._idx_to_token[index] = token\n",
        "        return index\n",
        "\n",
        "    def lookup_token(self, token):\n",
        "        \"\"\"Retrieve the index associated with the token \n",
        "          or the UNK index if token isn't present.\n",
        "        \n",
        "        Args:\n",
        "            token (str): the token to look up \n",
        "        Returns:\n",
        "            index (int): the index corresponding to the token\n",
        "        Notes:\n",
        "            `unk_index` needs to be >=0 (having been added into the Vocabulary) \n",
        "              for the UNK functionality \n",
        "        \"\"\"\n",
        "        if self._add_unk:\n",
        "            return self._token_to_idx.get(token, self.unk_index)\n",
        "        else:\n",
        "            return self._token_to_idx[token]\n",
        "\n",
        "    def lookup_index(self, index):\n",
        "        \"\"\"Return the token associated with the index\n",
        "        \n",
        "        Args: \n",
        "            index (int): the index to look up\n",
        "        Returns:\n",
        "            token (str): the token corresponding to the index\n",
        "        Raises:\n",
        "            KeyError: if the index is not in the Vocabulary\n",
        "        \"\"\"\n",
        "        if index not in self._idx_to_token:\n",
        "            raise KeyError(\"the index (%d) is not in the Vocabulary\" % index)\n",
        "        return self._idx_to_token[index]\n",
        "\n",
        "    def __str__(self):\n",
        "        return \"<Vocabulary(size=%d)>\" % len(self)\n",
        "\n",
        "    def __len__(self):\n",
        "        return len(self._token_to_idx)"
      ],
      "execution_count": null,
      "outputs": []
    },
    {
      "cell_type": "code",
      "metadata": {
        "id": "KrGWCFy-PLS3"
      },
      "source": [
        "##  The Vectorizer class converts text to numeric vectors\n",
        "class ReviewVectorizer(object):\n",
        "    \"\"\" The Vectorizer which coordinates the Vocabularies and puts them to use\"\"\"\n",
        "    def __init__(self, review_vocab, rating_vocab):\n",
        "        \"\"\"\n",
        "        Args:\n",
        "            review_vocab (Vocabulary): maps words to integers\n",
        "            rating_vocab (Vocabulary): maps class labels to integers\n",
        "        \"\"\"\n",
        "        self.review_vocab = review_vocab\n",
        "        self.rating_vocab = rating_vocab\n",
        "\n",
        "    def vectorize(self, review):\n",
        "        \"\"\"Create a collapsed one-hit vector for the review\n",
        "        \n",
        "        Args:\n",
        "            review (str): the review\n",
        "        Returns:\n",
        "            one_hot (np.ndarray): the collapsed one-hot encoding\n",
        "        \"\"\"\n",
        "        one_hot = np.zeros(len(self.review_vocab), dtype=np.float32)\n",
        "        \n",
        "        for token in review.split(\" \"):\n",
        "            if token not in string.punctuation:\n",
        "                one_hot[self.review_vocab.lookup_token(token)] = 1\n",
        "\n",
        "        return one_hot\n",
        "\n",
        "    @classmethod\n",
        "    def from_dataframe(cls, review_df, cutoff=25):\n",
        "        \"\"\"Instantiate the vectorizer from the dataset dataframe\n",
        "        \n",
        "        Args:\n",
        "            review_df (pandas.DataFrame): the review dataset\n",
        "            cutoff (int): the parameter for frequency-based filtering\n",
        "        Returns:\n",
        "            an instance of the ReviewVectorizer\n",
        "        \"\"\"\n",
        "        review_vocab = Vocabulary(add_unk=True)\n",
        "        rating_vocab = Vocabulary(add_unk=False)\n",
        "        # Add ratings\n",
        "        for rating in sorted(set(review_df.referrals)):\n",
        "            rating_vocab.add_token(rating)\n",
        "\n",
        "        # Add top words if count > provided count\n",
        "        word_counts = Counter()\n",
        "        for review in review_df.clean_text:\n",
        "            for word in review.split(\" \"):\n",
        "                if word not in string.punctuation:\n",
        "                    word_counts[word] += 1\n",
        "               \n",
        "        for word, count in word_counts.items():\n",
        "            if count > cutoff:\n",
        "                review_vocab.add_token(word)\n",
        "\n",
        "        return cls(review_vocab, rating_vocab)\n",
        "\n",
        "    @classmethod\n",
        "    def from_serializable(cls, contents):\n",
        "        \"\"\"Intantiate a ReviewVectorizer from a serializable dictionary\n",
        "        \n",
        "        Args:\n",
        "            contents (dict): the serializable dictionary\n",
        "        Returns:\n",
        "            an instance of the ReviewVectorizer class\n",
        "        \"\"\"\n",
        "        review_vocab = Vocabulary.from_serializable(contents['review_vocab'])\n",
        "        rating_vocab =  Vocabulary.from_serializable(contents['rating_vocab'])\n",
        "\n",
        "        return cls(review_vocab=review_vocab, rating_vocab=rating_vocab)\n",
        "\n",
        "    def to_serializable(self):\n",
        "        \"\"\"Create the serializable dictionary for caching\n",
        "        \n",
        "        Returns:\n",
        "            contents (dict): the serializable dictionary\n",
        "        \"\"\"\n",
        "        return {'review_vocab': self.review_vocab.to_serializable(),\n",
        "                'rating_vocab': self.rating_vocab.to_serializable()}        "
      ],
      "execution_count": null,
      "outputs": []
    },
    {
      "cell_type": "code",
      "metadata": {
        "id": "SFU6LADLPLS4"
      },
      "source": [
        "class ReviewDataset(Dataset):\n",
        "    def __init__(self, review_df, vectorizer):\n",
        "        \"\"\"\n",
        "        Args:\n",
        "            review_df (pandas.DataFrame): the dataset\n",
        "            vectorizer (ReviewVectorizer): vectorizer instantiated from dataset\n",
        "        \"\"\"\n",
        "        self.review_df = review_df\n",
        "        self._vectorizer = vectorizer\n",
        "\n",
        "        self.train_df = self.review_df[self.review_df.split=='train']\n",
        "        self.train_size = len(self.train_df)\n",
        "\n",
        "        self.val_df = self.review_df[self.review_df.split=='val']\n",
        "        self.validation_size = len(self.val_df)\n",
        "\n",
        "        self.test_df = self.review_df[self.review_df.split=='test']\n",
        "        self.test_size = len(self.test_df)\n",
        "\n",
        "        self._lookup_dict = {'train': (self.train_df, self.train_size),\n",
        "                             'val': (self.val_df, self.validation_size),\n",
        "                             'test': (self.test_df, self.test_size)}\n",
        "\n",
        "        self.set_split('train')\n",
        "\n",
        "    @classmethod\n",
        "    def load_dataset_and_make_vectorizer(cls, review_csv):\n",
        "        \"\"\"Load dataset and make a new vectorizer from scratch\n",
        "        \n",
        "        Args:\n",
        "            review_csv (str): location of the dataset\n",
        "        Returns:\n",
        "            an instance of ReviewDataset\n",
        "        \"\"\"\n",
        "        review_df = pd.read_csv(review_csv)\n",
        "        train_review_df = review_df[review_df.split=='train']\n",
        "        return cls(review_df, ReviewVectorizer.from_dataframe(train_review_df))\n",
        "\n",
        "    @classmethod\n",
        "    def load_dataset_and_load_vectorizer(cls, review_csv, vectorizer_filepath):\n",
        "        \"\"\"Load dataset and the corresponding vectorizer. \n",
        "        Used in the case in the vectorizer has been cached for re-use\n",
        "        \n",
        "        Args:\n",
        "            review_csv (str): location of the dataset\n",
        "            vectorizer_filepath (str): location of the saved vectorizer\n",
        "        Returns:\n",
        "            an instance of ReviewDataset\n",
        "        \"\"\"\n",
        "        review_df = pd.read_csv(review_csv)\n",
        "        vectorizer = cls.load_vectorizer_only(vectorizer_filepath)\n",
        "        return cls(review_df, vectorizer)\n",
        "\n",
        "    @staticmethod\n",
        "    def load_vectorizer_only(vectorizer_filepath):\n",
        "        \"\"\"a static method for loading the vectorizer from file\n",
        "        \n",
        "        Args:\n",
        "            vectorizer_filepath (str): the location of the serialized vectorizer\n",
        "        Returns:\n",
        "            an instance of ReviewVectorizer\n",
        "        \"\"\"\n",
        "        with open(vectorizer_filepath) as fp:\n",
        "            return ReviewVectorizer.from_serializable(json.load(fp))\n",
        "\n",
        "    def save_vectorizer(self, vectorizer_filepath):\n",
        "        \"\"\"saves the vectorizer to disk using json\n",
        "        \n",
        "        Args:\n",
        "            vectorizer_filepath (str): the location to save the vectorizer\n",
        "        \"\"\"\n",
        "        with open(vectorizer_filepath, \"w\") as fp:\n",
        "            json.dump(self._vectorizer.to_serializable(), fp)\n",
        "\n",
        "    def get_vectorizer(self):\n",
        "        \"\"\" returns the vectorizer \"\"\"\n",
        "        return self._vectorizer\n",
        "\n",
        "    def set_split(self, split=\"train\"):\n",
        "        \"\"\" selects the splits in the dataset using a column in the dataframe \n",
        "        \n",
        "        Args:\n",
        "            split (str): one of \"train\", \"val\", or \"test\"\n",
        "        \"\"\"\n",
        "        self._target_split = split\n",
        "        self._target_df, self._target_size = self._lookup_dict[split]\n",
        "\n",
        "    def __len__(self):\n",
        "        return self._target_size\n",
        "\n",
        "    def __getitem__(self, index):\n",
        "        \"\"\"the primary entry point method for PyTorch datasets\n",
        "        \n",
        "        Args:\n",
        "            index (int): the index to the data point \n",
        "        Returns:\n",
        "            a dictionary holding the data point's features (x_data) and label (y_target)\n",
        "        \"\"\"\n",
        "        row = self._target_df.iloc[index]\n",
        "        \n",
        "        review_vector = \\\n",
        "            self._vectorizer.vectorize(row.clean_text)\n",
        "\n",
        "        rating_index = \\\n",
        "            self._vectorizer.rating_vocab.lookup_token(row.referrals)\n",
        "\n",
        "        return {'x_data': review_vector,\n",
        "                'y_target': rating_index}\n",
        "\n",
        "    def get_num_batches(self, batch_size):\n",
        "        \"\"\"Given a batch size, return the number of batches in the dataset\n",
        "        \n",
        "        Args:\n",
        "            batch_size (int)\n",
        "        Returns:\n",
        "            number of batches in the dataset\n",
        "        \"\"\"\n",
        "        return len(self) // batch_size    "
      ],
      "execution_count": null,
      "outputs": []
    },
    {
      "cell_type": "code",
      "metadata": {
        "id": "rK1Jk2WLPLS5"
      },
      "source": [
        "def generate_batches(dataset, batch_size, shuffle=True,\n",
        "                     drop_last=True, device=\"cpu\"):\n",
        "    \"\"\"\n",
        "    A generator function which wraps the PyTorch DataLoader. It will \n",
        "      ensure each tensor is on the write device location.\n",
        "    \"\"\"\n",
        "    dataloader = DataLoader(dataset=dataset, batch_size=batch_size,\n",
        "                            shuffle=shuffle, drop_last=drop_last)\n",
        "\n",
        "    for data_dict in dataloader:\n",
        "        out_data_dict = {}\n",
        "        for name, tensor in data_dict.items():\n",
        "            out_data_dict[name] = data_dict[name].to(device)\n",
        "        yield out_data_dict"
      ],
      "execution_count": null,
      "outputs": []
    },
    {
      "cell_type": "code",
      "metadata": {
        "id": "o3neawhaPLS5"
      },
      "source": [
        "## The Model: ReviewClassifier\n",
        "class ReviewClassifier(nn.Module):\n",
        "    \"\"\" a simple perceptron based classifier \"\"\"\n",
        "    def __init__(self, num_features):\n",
        "        \"\"\"\n",
        "        Args:\n",
        "            num_features (int): the size of the input feature vector\n",
        "        \"\"\"\n",
        "        super(ReviewClassifier, self).__init__()\n",
        "        self.fc1 = nn.Linear(in_features=num_features, \n",
        "                             out_features=1)\n",
        "\n",
        "    def forward(self, x_in, apply_sigmoid=False):\n",
        "        \"\"\"The forward pass of the classifier\n",
        "        \n",
        "        Args:\n",
        "            x_in (torch.Tensor): an input data tensor. \n",
        "                x_in.shape should be (batch, num_features)\n",
        "            apply_sigmoid (bool): a flag for the sigmoid activation\n",
        "                should be false if used with the Cross Entropy losses\n",
        "        Returns:\n",
        "            the resulting tensor. tensor.shape should be (batch,)\n",
        "        \"\"\"\n",
        "        y_out = self.fc1(x_in).squeeze()\n",
        "        if apply_sigmoid:\n",
        "            y_out = torch.sigmoid(y_out)\n",
        "        return y_out"
      ],
      "execution_count": null,
      "outputs": []
    },
    {
      "cell_type": "code",
      "metadata": {
        "id": "ce94O_ADPLS5"
      },
      "source": [
        "import torch.optim as optim"
      ],
      "execution_count": null,
      "outputs": []
    },
    {
      "cell_type": "code",
      "metadata": {
        "id": "__uAp4y0PLS5"
      },
      "source": [
        "def make_train_state(args):\n",
        "    return {'stop_early': False,\n",
        "            'early_stopping_step': 0,\n",
        "            'early_stopping_best_val': 1e8,\n",
        "            'learning_rate': args.learning_rate,\n",
        "            'epoch_index': 0,\n",
        "            'train_loss': [],\n",
        "            'train_acc': [],\n",
        "            'val_loss': [],\n",
        "            'val_acc': [],\n",
        "            'test_loss': -1,\n",
        "            'test_acc': -1,\n",
        "            'model_filename': args.model_state_file}"
      ],
      "execution_count": null,
      "outputs": []
    },
    {
      "cell_type": "code",
      "metadata": {
        "id": "tmwRXA8xPLS5"
      },
      "source": [
        "def update_train_state(args, model, train_state):\n",
        "    \"\"\"Handle the training state updates.\n",
        "\n",
        "    Components:\n",
        "     - Early Stopping: Prevent overfitting.\n",
        "     - Model Checkpoint: Model is saved if the model is better\n",
        "\n",
        "    :param args: main arguments\n",
        "    :param model: model to train\n",
        "    :param train_state: a dictionary representing the training state values\n",
        "    :returns:\n",
        "        a new train_state\n",
        "    \"\"\"\n",
        "\n",
        "    # Save one model at least\n",
        "    if train_state['epoch_index'] == 0:\n",
        "        torch.save(model.state_dict(), train_state['model_filename'])\n",
        "        train_state['stop_early'] = False\n",
        "\n",
        "    # Save model if performance improved\n",
        "    elif train_state['epoch_index'] >= 1:\n",
        "        loss_tm1, loss_t = train_state['val_loss'][-2:]\n",
        "\n",
        "        # If loss worsened\n",
        "        if loss_t >= train_state['early_stopping_best_val']:\n",
        "            # Update step\n",
        "            train_state['early_stopping_step'] += 1\n",
        "        # Loss decreased\n",
        "        else:\n",
        "            # Save the best model\n",
        "            if loss_t < train_state['early_stopping_best_val']:\n",
        "                torch.save(model.state_dict(), train_state['model_filename'])\n",
        "\n",
        "            # Reset early stopping step\n",
        "            train_state['early_stopping_step'] = 0\n",
        "\n",
        "        # Stop early ?\n",
        "        train_state['stop_early'] = \\\n",
        "            train_state['early_stopping_step'] >= args.early_stopping_criteria\n",
        "\n",
        "    return train_state"
      ],
      "execution_count": null,
      "outputs": []
    },
    {
      "cell_type": "code",
      "metadata": {
        "id": "usGkD7ixPLS6"
      },
      "source": [
        "def compute_accuracy(y_pred, y_target):\n",
        "    y_target = y_target.cpu()\n",
        "    y_pred_indices = (torch.sigmoid(y_pred)>0.5).cpu().long()#.max(dim=1)[1]\n",
        "    n_correct = torch.eq(y_pred_indices, y_target).sum().item()\n",
        "    return n_correct / len(y_pred_indices) * 100"
      ],
      "execution_count": null,
      "outputs": []
    },
    {
      "cell_type": "code",
      "metadata": {
        "id": "thN8FC20PLS6"
      },
      "source": [
        "## General utilities\n",
        "def set_seed_everywhere(seed, cuda):\n",
        "    np.random.seed(seed)\n",
        "    torch.manual_seed(seed)\n",
        "    if cuda:\n",
        "        torch.cuda.manual_seed_all(seed)\n",
        "\n",
        "def handle_dirs(dirpath):\n",
        "    if not os.path.exists(dirpath):\n",
        "        os.makedirs(dirpath)"
      ],
      "execution_count": null,
      "outputs": []
    },
    {
      "cell_type": "code",
      "metadata": {
        "colab": {
          "base_uri": "https://localhost:8080/"
        },
        "id": "nBtdH3ClhIkb",
        "outputId": "ed086070-d5fb-47e6-f957-5b9e60a1a722"
      },
      "source": [
        "\n",
        "## Settings and some prep work\n",
        "args = Namespace(\n",
        "    # Data and Path information\n",
        "    frequency_cutoff=25,\n",
        "    model_state_file='model.pth',\n",
        "    review_csv=\"./drive/My Drive/Colab Notebooks/data/yelp/all_split.csv\",\n",
        "    save_dir='./drive/My Drive/Colab Notebooks/data/yelp/',\n",
        "    vectorizer_file='vectorizer.json',\n",
        "    # No Model hyper parameters\n",
        "    # Training hyper parameters\n",
        "    batch_size=128,\n",
        "    early_stopping_criteria=5,\n",
        "    learning_rate=0.001,\n",
        "    num_epochs=100,\n",
        "    seed=1337,\n",
        "    # Runtime options\n",
        "    catch_keyboard_interrupt=True,\n",
        "    cuda=True,\n",
        "    expand_filepaths_to_save_dir=True,\n",
        "    reload_from_files=False,\n",
        ")\n",
        "\n",
        "\n",
        "if args.expand_filepaths_to_save_dir:\n",
        "    args.vectorizer_file = os.path.join(args.save_dir,\n",
        "                                        args.vectorizer_file)\n",
        "\n",
        "    args.model_state_file = os.path.join(args.save_dir,\n",
        "                                         args.model_state_file)\n",
        "    \n",
        "    print(\"Expanded filepaths: \")\n",
        "    print(\"\\t{}\".format(args.vectorizer_file))\n",
        "    print(\"\\t{}\".format(args.model_state_file))\n",
        "    \n",
        "# Check CUDA\n",
        "if not torch.cuda.is_available():\n",
        "    args.cuda = False\n",
        "\n",
        "print(\"Using CUDA: {}\".format(args.cuda))\n",
        "\n",
        "args.device = torch.device(\"cuda\" if args.cuda else \"cpu\")\n",
        "\n",
        "# Set seed for reproducibility\n",
        "set_seed_everywhere(args.seed, args.cuda)\n",
        "\n",
        "# handle dirs\n",
        "handle_dirs(args.save_dir)\n"
      ],
      "execution_count": null,
      "outputs": [
        {
          "output_type": "stream",
          "text": [
            "Expanded filepaths: \n",
            "\t./drive/My Drive/Colab Notebooks/data/yelp/vectorizer.json\n",
            "\t./drive/My Drive/Colab Notebooks/data/yelp/model.pth\n",
            "Using CUDA: True\n"
          ],
          "name": "stdout"
        }
      ]
    },
    {
      "cell_type": "code",
      "metadata": {
        "colab": {
          "base_uri": "https://localhost:8080/"
        },
        "id": "i1xtFAo5iQs3",
        "outputId": "7cc9c628-b6cf-4cd6-f926-11477558016b"
      },
      "source": [
        "if args.reload_from_files:\n",
        "    # training from a checkpoint\n",
        "    print(\"Loading dataset and vectorizer\")\n",
        "    dataset = ReviewDataset.load_dataset_and_load_vectorizer(args.review_csv,\n",
        "                                                            args.vectorizer_file)\n",
        "else:\n",
        "    print(\"Loading dataset and creating vectorizer\")\n",
        "    # create dataset and vectorizer\n",
        "    dataset = ReviewDataset.load_dataset_and_make_vectorizer(args.review_csv)\n",
        "    dataset.save_vectorizer(args.vectorizer_file)    \n",
        "vectorizer = dataset.get_vectorizer()\n",
        "\n",
        "classifier = ReviewClassifier(num_features=len(vectorizer.review_vocab))"
      ],
      "execution_count": null,
      "outputs": [
        {
          "output_type": "stream",
          "text": [
            "Loading dataset and creating vectorizer\n"
          ],
          "name": "stdout"
        }
      ]
    },
    {
      "cell_type": "code",
      "metadata": {
        "id": "z7CLYQCqhF7B"
      },
      "source": [
        "\n",
        "## Example 3-21. A bare-bones training loop"
      ],
      "execution_count": null,
      "outputs": []
    },
    {
      "cell_type": "code",
      "metadata": {
        "colab": {
          "background_save": true,
          "base_uri": "https://localhost:8080/",
          "height": 232,
          "referenced_widgets": [
            "3dacd39e6a994b68b66a97860b399df0",
            "fafab37a640240648a3e13ff072a04f3",
            "e300646602c64bada268bccc06f6f4e7",
            "a4ac4cb1ddba4aad8462e39150d1d72c",
            "c164d92dd6ad48f08200ff4f8b8f67f8",
            "1ff9cb3240f94074b9fcc77dfd424038",
            "fd17937a2c4648d684e1b9a9154e2633",
            "faf55f3b5e124fe181b366345a7bf569",
            "bef273f9e4054ba09da9cb874a7cf2bb",
            "4ce2a51cdff54ecc9898f649d10cfa7b",
            "cac9c637646a48068a603a6c5e62946e",
            "899f9c3ac9cd4ac187d49f53e042dce3",
            "60e61bfb46d14ff683294fbadccc622f",
            "ad1eebdb40904b08913fff4229bccbed",
            "5507dd91e29048dda4365d8a9be485a3",
            "15c384f382504774b30459f785792ba5",
            "3fa6669816144dafb4fc04bb8da9cd70",
            "3b100d541fdb42e5a4bac74262adb9bb",
            "541b5cf30e7d4ff59e9177a161d15058",
            "b9a273d975934832b10743f38446f3f3",
            "259eca1887d14774b9c6f90be8b31ce0",
            "3d4810f0f05b4c6e9e40420575ac1140",
            "140a505af82245d08791778617ac805a",
            "59a82d141df6460a948906b956a8ad11"
          ]
        },
        "id": "hE-ieH4OPLS7",
        "outputId": "3befb435-49b1-47bc-cf9b-3ed9483d6765"
      },
      "source": [
        "classifier = classifier.to(args.device)\n",
        "\n",
        "loss_func = nn.BCEWithLogitsLoss()\n",
        "optimizer = optim.Adam(classifier.parameters(), lr=args.learning_rate)\n",
        "scheduler = optim.lr_scheduler.ReduceLROnPlateau(optimizer=optimizer,\n",
        "                                                 mode='min', factor=0.5,\n",
        "                                                 patience=1)\n",
        "\n",
        "train_state = make_train_state(args)\n",
        "\n",
        "epoch_bar = tqdm_notebook(desc='training routine', \n",
        "                          total=args.num_epochs,\n",
        "                          position=0)\n",
        "\n",
        "dataset.set_split('train')\n",
        "train_bar = tqdm_notebook(desc='split=train',\n",
        "                          total=dataset.get_num_batches(args.batch_size), \n",
        "                          position=1, \n",
        "                          leave=True)\n",
        "dataset.set_split('val')\n",
        "val_bar = tqdm_notebook(desc='split=val',\n",
        "                        total=dataset.get_num_batches(args.batch_size), \n",
        "                        position=1, \n",
        "                        leave=True)\n",
        "\n",
        "try:\n",
        "    for epoch_index in range(args.num_epochs):\n",
        "        train_state['epoch_index'] = epoch_index\n",
        "\n",
        "        # Iterate over training dataset\n",
        "\n",
        "        # setup: batch generator, set loss and acc to 0, set train mode on\n",
        "        dataset.set_split('train')\n",
        "        batch_generator = generate_batches(dataset, \n",
        "                                           batch_size=args.batch_size, \n",
        "                                           device=args.device)\n",
        "        running_loss = 0.0\n",
        "        running_acc = 0.0\n",
        "        classifier.train()\n",
        "\n",
        "        for batch_index, batch_dict in enumerate(batch_generator):\n",
        "            # the training routine is these 5 steps:\n",
        "\n",
        "            # --------------------------------------\n",
        "            # step 1. zero the gradients\n",
        "            optimizer.zero_grad()\n",
        "\n",
        "            # step 2. compute the output\n",
        "            y_pred = classifier(x_in=batch_dict['x_data'].float())\n",
        "\n",
        "            # step 3. compute the loss\n",
        "            loss = loss_func(y_pred, batch_dict['y_target'].float())\n",
        "            loss_t = loss.item()\n",
        "            running_loss += (loss_t - running_loss) / (batch_index + 1)\n",
        "\n",
        "            # step 4. use loss to produce gradients\n",
        "            loss.backward()\n",
        "\n",
        "            # step 5. use optimizer to take gradient step\n",
        "            optimizer.step()\n",
        "            # -----------------------------------------\n",
        "            # compute the accuracy\n",
        "            acc_t = compute_accuracy(y_pred, batch_dict['y_target'])\n",
        "            running_acc += (acc_t - running_acc) / (batch_index + 1)\n",
        "\n",
        "            # update bar\n",
        "            train_bar.set_postfix(loss=running_loss, \n",
        "                                  acc=running_acc, \n",
        "                                  epoch=epoch_index)\n",
        "            train_bar.update()\n",
        "\n",
        "        train_state['train_loss'].append(running_loss)\n",
        "        train_state['train_acc'].append(running_acc)\n",
        "\n",
        "        # Iterate over val dataset\n",
        "\n",
        "        # setup: batch generator, set loss and acc to 0; set eval mode on\n",
        "        dataset.set_split('val')\n",
        "        batch_generator = generate_batches(dataset, \n",
        "                                           batch_size=args.batch_size, \n",
        "                                           device=args.device)\n",
        "        running_loss = 0.\n",
        "        running_acc = 0.\n",
        "        classifier.eval()\n",
        "\n",
        "        for batch_index, batch_dict in enumerate(batch_generator):\n",
        "\n",
        "            # compute the output\n",
        "            y_pred = classifier(x_in=batch_dict['x_data'].float())\n",
        "\n",
        "            # step 3. compute the loss\n",
        "            loss = loss_func(y_pred, batch_dict['y_target'].float())\n",
        "            loss_t = loss.item()\n",
        "            running_loss += (loss_t - running_loss) / (batch_index + 1)\n",
        "\n",
        "            # compute the accuracy\n",
        "            acc_t = compute_accuracy(y_pred, batch_dict['y_target'])\n",
        "            running_acc += (acc_t - running_acc) / (batch_index + 1)\n",
        "            \n",
        "            val_bar.set_postfix(loss=running_loss, \n",
        "                                acc=running_acc, \n",
        "                                epoch=epoch_index)\n",
        "            val_bar.update()\n",
        "\n",
        "        train_state['val_loss'].append(running_loss)\n",
        "        train_state['val_acc'].append(running_acc)\n",
        "\n",
        "        train_state = update_train_state(args=args, model=classifier, \n",
        "                                         train_state=train_state)\n",
        "\n",
        "        scheduler.step(train_state['val_loss'][-1])\n",
        "\n",
        "        train_bar.n = 0\n",
        "        val_bar.n = 0\n",
        "        epoch_bar.update()\n",
        "\n",
        "        if train_state['stop_early']:\n",
        "            break\n",
        "\n",
        "        train_bar.n = 0\n",
        "        val_bar.n = 0\n",
        "        epoch_bar.update()\n",
        "except KeyboardInterrupt:\n",
        "    print(\"Exiting loop\")\n"
      ],
      "execution_count": null,
      "outputs": [
        {
          "output_type": "stream",
          "text": [
            "/usr/local/lib/python3.7/dist-packages/ipykernel_launcher.py:13: TqdmDeprecationWarning: This function will be removed in tqdm==5.0.0\n",
            "Please use `tqdm.notebook.tqdm` instead of `tqdm.tqdm_notebook`\n",
            "  del sys.path[0]\n"
          ],
          "name": "stderr"
        },
        {
          "output_type": "display_data",
          "data": {
            "application/vnd.jupyter.widget-view+json": {
              "model_id": "3dacd39e6a994b68b66a97860b399df0",
              "version_major": 2,
              "version_minor": 0
            },
            "text/plain": [
              "HBox(children=(FloatProgress(value=0.0, description='training routine', style=ProgressStyle(description_width=…"
            ]
          },
          "metadata": {
            "tags": []
          }
        },
        {
          "output_type": "stream",
          "text": [
            "/usr/local/lib/python3.7/dist-packages/ipykernel_launcher.py:19: TqdmDeprecationWarning: This function will be removed in tqdm==5.0.0\n",
            "Please use `tqdm.notebook.tqdm` instead of `tqdm.tqdm_notebook`\n"
          ],
          "name": "stderr"
        },
        {
          "output_type": "display_data",
          "data": {
            "application/vnd.jupyter.widget-view+json": {
              "model_id": "bef273f9e4054ba09da9cb874a7cf2bb",
              "version_major": 2,
              "version_minor": 0
            },
            "text/plain": [
              "HBox(children=(FloatProgress(value=0.0, description='split=train', max=1595.0, style=ProgressStyle(description…"
            ]
          },
          "metadata": {
            "tags": []
          }
        },
        {
          "output_type": "stream",
          "text": [
            "/usr/local/lib/python3.7/dist-packages/ipykernel_launcher.py:24: TqdmDeprecationWarning: This function will be removed in tqdm==5.0.0\n",
            "Please use `tqdm.notebook.tqdm` instead of `tqdm.tqdm_notebook`\n"
          ],
          "name": "stderr"
        },
        {
          "output_type": "display_data",
          "data": {
            "application/vnd.jupyter.widget-view+json": {
              "model_id": "3fa6669816144dafb4fc04bb8da9cd70",
              "version_major": 2,
              "version_minor": 0
            },
            "text/plain": [
              "HBox(children=(FloatProgress(value=0.0, description='split=val', max=341.0, style=ProgressStyle(description_wi…"
            ]
          },
          "metadata": {
            "tags": []
          }
        }
      ]
    },
    {
      "cell_type": "code",
      "metadata": {
        "colab": {
          "base_uri": "https://localhost:8080/"
        },
        "id": "1j-AT4K8ipOQ",
        "outputId": "4f2c7f9e-037d-45eb-bac3-9853f6db7b8f"
      },
      "source": [
        "# compute the loss & accuracy on the test set using the best available model\n",
        "\n",
        "classifier.load_state_dict(torch.load(train_state['model_filename']))\n",
        "classifier = classifier.to(args.device)\n",
        "\n",
        "dataset.set_split('test')\n",
        "batch_generator = generate_batches(dataset, \n",
        "                                   batch_size=args.batch_size, \n",
        "                                   device=args.device)\n",
        "running_loss = 0.\n",
        "running_acc = 0.\n",
        "classifier.eval()\n",
        "\n",
        "for batch_index, batch_dict in enumerate(batch_generator):\n",
        "    # compute the output\n",
        "    y_pred = classifier(x_in=batch_dict['x_data'].float())\n",
        "\n",
        "    # compute the loss\n",
        "    loss = loss_func(y_pred, batch_dict['y_target'].float())\n",
        "    loss_t = loss.item()\n",
        "    running_loss += (loss_t - running_loss) / (batch_index + 1)\n",
        "\n",
        "    # compute the accuracy\n",
        "    acc_t = compute_accuracy(y_pred, batch_dict['y_target'])\n",
        "    running_acc += (acc_t - running_acc) / (batch_index + 1)\n",
        "\n",
        "train_state['test_loss'] = running_loss\n",
        "train_state['test_acc'] = running_acc\n",
        "\n",
        "print(\"Test loss: {:.3f}\".format(train_state['test_loss']))\n",
        "print(\"Test Accuracy: {:.2f}\".format(train_state['test_acc']))"
      ],
      "execution_count": 39,
      "outputs": [
        {
          "output_type": "stream",
          "text": [
            "Test loss: 0.000\n",
            "Test Accuracy: 100.00\n"
          ],
          "name": "stdout"
        }
      ]
    },
    {
      "cell_type": "code",
      "metadata": {
        "id": "EdggOttEi0Nb"
      },
      "source": [
        "def predict_rating(review, classifier, vectorizer, decision_threshold=0.5):\n",
        "    \"\"\"Predict the rating of a review\n",
        "    \n",
        "    Args:\n",
        "        review (str): the text of the review\n",
        "        classifier (ReviewClassifier): the trained model\n",
        "        vectorizer (ReviewVectorizer): the corresponding vectorizer\n",
        "        decision_threshold (float): The numerical boundary which separates the rating classes\n",
        "    \"\"\"\n",
        "    # review = preprocess_text(review)\n",
        "    \n",
        "    vectorized_review = torch.tensor(vectorizer.vectorize(review))\n",
        "    result = classifier(vectorized_review.view(1, -1))\n",
        "    \n",
        "    probability_value = F.sigmoid(result).item()\n",
        "    index = 1\n",
        "    if probability_value < decision_threshold:\n",
        "        index = 0\n",
        "\n",
        "    return vectorizer.rating_vocab.lookup_index(index)\n"
      ],
      "execution_count": 40,
      "outputs": []
    },
    {
      "cell_type": "code",
      "metadata": {
        "colab": {
          "base_uri": "https://localhost:8080/"
        },
        "id": "1Uy5Y-fVWPRr",
        "outputId": "cacd0d75-98b9-4622-bccb-eee0c457b4a2"
      },
      "source": [
        "test_review = \"get started to reach more of the right audience. this is a limited time offer $30\"\n",
        "\n",
        "classifier = classifier.cpu()\n",
        "prediction = predict_rating(test_review, classifier, vectorizer, decision_threshold=0.5)\n",
        "print(\"{} -> {}\".format(test_review, prediction))"
      ],
      "execution_count": 41,
      "outputs": [
        {
          "output_type": "stream",
          "text": [
            "get started to reach more of the right audience. this is a limited time offer $30 -> positive\n"
          ],
          "name": "stdout"
        },
        {
          "output_type": "stream",
          "text": [
            "/usr/local/lib/python3.7/dist-packages/torch/nn/functional.py:1709: UserWarning: nn.functional.sigmoid is deprecated. Use torch.sigmoid instead.\n",
            "  warnings.warn(\"nn.functional.sigmoid is deprecated. Use torch.sigmoid instead.\")\n"
          ],
          "name": "stderr"
        }
      ]
    },
    {
      "cell_type": "code",
      "metadata": {
        "colab": {
          "base_uri": "https://localhost:8080/"
        },
        "id": "F6wUsITjU4Fr",
        "outputId": "8bbf9c89-c2ce-4385-ba4e-cffe09d1145f"
      },
      "source": [
        "# Sort weights\n",
        "fc1_weights = classifier.fc1.weight.detach()[0]\n",
        "_, indices = torch.sort(fc1_weights, dim=0, descending=True)\n",
        "indices = indices.numpy().tolist()\n",
        "\n",
        "# Top 20 words\n",
        "print(\"Influential top 20 words in Positive Click Creatives:\")\n",
        "print(\"--------------------------------------\")\n",
        "for i in range(20):\n",
        "    print(vectorizer.review_vocab.lookup_index(indices[i]))\n",
        "    \n",
        "print(\"====\\n\\n\\n\")\n",
        "\n",
        "# # Top 20 negative words\n",
        "# print(\"Influential words in Negative Click Creatives:\")\n",
        "# print(\"--------------------------------------\")\n",
        "# indices.reverse()\n",
        "# for i in range(20):\n",
        "#     print(vectorizer.review_vocab.lookup_index(indices[i]))"
      ],
      "execution_count": 51,
      "outputs": [
        {
          "output_type": "stream",
          "text": [
            "Influential top 20 words in Positive Click Creatives:\n",
            "--------------------------------------\n",
            "entered\n",
            "cart!\n",
            "impacting\n",
            "score.\n",
            "events\n",
            "around\n",
            "donate\n",
            "discovery+!\n",
            "coverings\n",
            "us?\n",
            "distributing\n",
            "shipping?\n",
            "children\n",
            "kogan.com.\n",
            "gives\n",
            "without\n",
            "mother’s\n",
            "entertainment\n",
            "group\n",
            "property\n",
            "====\n",
            "\n",
            "\n",
            "\n"
          ],
          "name": "stdout"
        }
      ]
    },
    {
      "cell_type": "code",
      "metadata": {
        "id": "cHzbwYhtc0FI",
        "colab": {
          "base_uri": "https://localhost:8080/",
          "height": 248
        },
        "outputId": "c961937c-9e4b-48bb-8736-d5f2083b060e"
      },
      "source": [
        "# Libraries\n",
        "from wordcloud import WordCloud\n",
        "import matplotlib.pyplot as plt\n",
        " \n",
        "# Create a list of word\n",
        "text=[vectorizer.review_vocab.lookup_index(indices[i]) for i in range(100)]\n",
        "text=\" \".join(text)\n",
        " \n",
        "# Create the wordcloud object\n",
        "wordcloud = WordCloud(width=480, height=480).generate(text)\n",
        " \n",
        "# Display the generated image:\n",
        "plt.imshow(wordcloud, interpolation='bilinear')\n",
        "plt.axis(\"off\")\n",
        "plt.margins(x=0, y=0)\n",
        "plt.show()"
      ],
      "execution_count": 52,
      "outputs": [
        {
          "output_type": "display_data",
          "data": {
            "image/png": "[encoded data removed]",
            "text/plain": [
              "<Figure size 432x288 with 1 Axes>"
            ]
          },
          "metadata": {
            "tags": [],
            "needs_background": "light"
          }
        }
      ]
    },
    {
      "cell_type": "code",
      "metadata": {
        "id": "rE04sDX2FWnh"
      },
      "source": [
        ""
      ],
      "execution_count": null,
      "outputs": []
    }
  ]
}