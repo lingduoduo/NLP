{
  "cells": [
    {
      "cell_type": "markdown",
      "metadata": {
        "colab_type": "text",
        "id": "view-in-github"
      },
      "source": [
        "<a href=\"https://colab.research.google.com/github/linghduoduo/NLP/blob/master/Chap2_Traditional_NLP.ipynb\" target=\"_parent\"><img src=\"https://colab.research.google.com/assets/colab-badge.svg\" alt=\"Open In Colab\"/></a>"
      ]
    },
    {
      "cell_type": "markdown",
      "metadata": {},
      "source": [
        "### Removing Special Characters and punctuation"
      ]
    },
    {
      "cell_type": "code",
      "execution_count": 7,
      "metadata": {},
      "outputs": [
        {
          "name": "stderr",
          "output_type": "stream",
          "text": [
            "[nltk_data] Downloading package punkt to /Users/linghuang/nltk_data...\n",
            "[nltk_data]   Package punkt is already up-to-date!\n",
            "[nltk_data] Downloading package stopwords to\n",
            "[nltk_data]     /Users/linghuang/nltk_data...\n",
            "[nltk_data]   Package stopwords is already up-to-date!\n",
            "[nltk_data] Downloading package wordnet to\n",
            "[nltk_data]     /Users/linghuang/nltk_data...\n",
            "[nltk_data]   Package wordnet is already up-to-date!\n"
          ]
        }
      ],
      "source": [
        "import re\n",
        "from num2words import num2words\n",
        "import nltk; nltk.download('punkt'); nltk.download('stopwords'); nltk.download('wordnet')\n",
        "from nltk.corpus import stopwords\n",
        "from nltk.stem.porter import PorterStemmer\n",
        "from nltk.stem import WordNetLemmatizer\n",
        "from autocorrect import Speller\n"
      ]
    },
    {
      "cell_type": "code",
      "execution_count": 8,
      "metadata": {},
      "outputs": [],
      "source": [
        "\n",
        "# Preprocessing functions:\n",
        "def decode(text):\n",
        "  \"\"\"\n",
        "  The function takes in a string of text as input\n",
        "  and extracts the subject line and body text from the text\n",
        "  using regular expressions. It then formats the extracted\n",
        "  text into a single string and returns it as output.\n",
        "\n",
        "  Input: str\n",
        "  Output: str\n",
        "  \"\"\"\n",
        "  text = re.sub(\"\\n|\\r|\\t|-\", \" \", text)\n",
        "  subject_line_search = re.search(r\"(.*?)\", text, flags=re.S)\n",
        "  body_text_search = re.search(r\"(.*?)\", text, flags=re.S)\n",
        "\n",
        "  formated_output = \"\"\n",
        "  if subject_line_search:\n",
        "    formated_output = formated_output + subject_line_search.groups()[0] + \". \"\n",
        "  if body_text_search:\n",
        "    formated_output = formated_output + body_text_search.groups()[0] + \".\"\n",
        "  return formated_output"
      ]
    },
    {
      "cell_type": "code",
      "execution_count": 9,
      "metadata": {},
      "outputs": [],
      "source": [
        "def digits_to_words(match):\n",
        "  \"\"\"\n",
        "  Convert string digits to the English words. The function distinguishes between\n",
        "  cardinal and ordinal.\n",
        "  E.g. \"2\" becomes \"two\", while \"2nd\" becomes \"second\"\n",
        "\n",
        "  Input: str\n",
        "  Output: str\n",
        "  \"\"\"\n",
        "  suffixes = ['st', 'nd', 'rd', 'th']\n",
        "  # Making sure it's lower cased so not to rely on previous possible actions:\n",
        "  string = match[0].lower()\n",
        "  if string[-2:] in suffixes:\n",
        "    type='ordinal'\n",
        "    string = string[:-2]\n",
        "  else:\n",
        "    type='cardinal'\n",
        "\n",
        "  return num2words(string, to=type)\n"
      ]
    },
    {
      "cell_type": "code",
      "execution_count": 10,
      "metadata": {},
      "outputs": [],
      "source": [
        "def spelling_correction(text):\n",
        "    \"\"\"\n",
        "    Replace misspelled words with the correct spelling.\n",
        "\n",
        "    Input: str\n",
        "    Output: str\n",
        "    \"\"\"\n",
        "    corrector = Speller()\n",
        "    spells = [corrector(word) for word in text.split()]\n",
        "    return \" \".join(spells)\n"
      ]
    },
    {
      "cell_type": "code",
      "execution_count": 11,
      "metadata": {},
      "outputs": [],
      "source": [
        "def remove_stop_words(text):\n",
        "    \"\"\"\n",
        "    Remove stopwords.\n",
        "\n",
        "    Input: str\n",
        "    Output: str\n",
        "    \"\"\"\n",
        "    stopwords_set = set(stopwords.words('english'))\n",
        "    return \" \".join([word for word in text.split() if word not in stopwords_set])"
      ]
    },
    {
      "cell_type": "code",
      "execution_count": 12,
      "metadata": {},
      "outputs": [],
      "source": [
        "def stemming(text):\n",
        "    \"\"\"\n",
        "    Perform stemming of each word individually.\n",
        "\n",
        "    Input: str\n",
        "    Output: str\n",
        "    \"\"\"\n",
        "    stemmer = PorterStemmer()\n",
        "    return \" \".join([stemmer.stem(word) for word in text.split()])\n"
      ]
    },
    {
      "cell_type": "code",
      "execution_count": 13,
      "metadata": {},
      "outputs": [],
      "source": [
        "def lemmatizing(text):\n",
        "    \"\"\"\n",
        "    Perform lemmatization for each word individually.\n",
        "\n",
        "    Input: str\n",
        "    Output: str\n",
        "    \"\"\"\n",
        "    lemmatizer = WordNetLemmatizer()\n",
        "    return \" \".join([lemmatizer.lemmatize(word) for word in text.split()])\n"
      ]
    },
    {
      "cell_type": "code",
      "execution_count": 14,
      "metadata": {},
      "outputs": [],
      "source": [
        "# Preprocessing pipeline:\n",
        "def preprocessing(input_text, printing=False):\n",
        "  \"\"\"\n",
        "  This function represents a complete pipeline for text preprocessing.\n",
        "\n",
        "  Code design note: The fact that we update variable \"output\" instead of\n",
        "  creating new variables with new names as we go, allows us to change the\n",
        "  order of the actions or add/remove actions easily.\n",
        "\n",
        "  Input: str\n",
        "  Output: str\n",
        "  \"\"\"\n",
        "  output = input_text\n",
        "  # Decode/remove encoding:\n",
        "  output = decode(output)\n",
        "  print(\"\\nDecode/remove encoding:\\n        \", output)\n",
        "\n",
        "  # Lower casing:\n",
        "  output = output.lower()\n",
        "  print(\"\\nLower casing:\\n        \", output)\n",
        "\n",
        "  # Convert digits to words:\n",
        "  # The following regex syntax looks for matching of consequtive digits tentatively followed by an ordinal suffix:\n",
        "  output = re.sub(r'\\d+(st)?(nd)?(rd)?(th)?', digits_to_words, output, flags=re.IGNORECASE)\n",
        "  print(\"\\nDigits to words\\n        \", output)\n",
        "\n",
        "  # Remove punctuations and other special characters:\n",
        "  output = re.sub('[^ A-Za-z0-9]+', '', output)\n",
        "  print(\"\\nRemove punctuations and other special characters\\n        \", output)\n",
        "\n",
        "  # Spelling corrections:\n",
        "  output = spelling_correction(output)\n",
        "  print(\"\\nSpelling corrections:\\n        \", output)\n",
        "\n",
        "\n",
        "  # Remove stop words:\n",
        "  output = remove_stop_words(output)\n",
        "  print(\"\\nRemove stop words:\\n        \", output)\n",
        "\n",
        "  # Stemming:\n",
        "  output = stemming(output)\n",
        "  print(\"\\nStemming:\\n        \", output)\n",
        "\n",
        "  # Lemmatizing:\n",
        "  output = lemmatizing(output)\n",
        "  print(\"\\nLemmatizing:\\n        \", output)\n",
        "\n",
        "  return output"
      ]
    },
    {
      "cell_type": "markdown",
      "metadata": {
        "id": "OwNFEURA36DC"
      },
      "source": [
        "### Corpora, Tokens and Types"
      ]
    },
    {
      "cell_type": "code",
      "execution_count": 4,
      "metadata": {
        "id": "5wGWV8rc36DI"
      },
      "outputs": [],
      "source": [
        "##!python -m spacy download en_core_web_sm"
      ]
    },
    {
      "cell_type": "code",
      "execution_count": 1,
      "metadata": {
        "id": "OzYHSpPm36DK"
      },
      "outputs": [],
      "source": [
        "import spacy\n",
        "nlp = spacy.load(\"en_core_web_sm\")"
      ]
    },
    {
      "cell_type": "code",
      "execution_count": 2,
      "metadata": {
        "colab": {
          "base_uri": "https://localhost:8080/"
        },
        "id": "KiHCwzPE36DK",
        "outputId": "142e10a0-b108-42e0-c428-1094b5886b8b"
      },
      "outputs": [
        {
          "name": "stdout",
          "output_type": "stream",
          "text": [
            "['mary', ',', 'do', 'n’t', 'slap', 'the', 'green', 'witch']\n"
          ]
        }
      ],
      "source": [
        "text = \"Mary, don’t slap the green witch\"\n",
        "print([str(token) for token in nlp(text.lower())])"
      ]
    },
    {
      "cell_type": "code",
      "execution_count": 3,
      "metadata": {
        "colab": {
          "base_uri": "https://localhost:8080/"
        },
        "id": "rRXpm75C36DL",
        "outputId": "31573d3a-129f-497d-be8c-77d51215a9bb"
      },
      "outputs": [
        {
          "name": "stdout",
          "output_type": "stream",
          "text": [
            "['Mary', ',', 'don’t', 'slap', 'the', 'green', 'witch']\n"
          ]
        }
      ],
      "source": [
        "from nltk.tokenize import TreebankWordTokenizer\n",
        "text = \"Mary, don’t slap the green witch\"\n",
        "tokenizer = TreebankWordTokenizer()\n",
        "print(tokenizer.tokenize(text))"
      ]
    },
    {
      "cell_type": "code",
      "execution_count": 5,
      "metadata": {
        "colab": {
          "base_uri": "https://localhost:8080/"
        },
        "id": "Q8u6CbSR36DL",
        "outputId": "9c62aca3-f4ef-402c-a9ab-4e6fbae1dd01"
      },
      "outputs": [
        {
          "name": "stdout",
          "output_type": "stream",
          "text": [
            "['snow', 'white', 'and', 'the', 'seven', 'degrees', '#makeamoviecold', '@midnight', ':-)']\n"
          ]
        }
      ],
      "source": [
        "from nltk.tokenize import TweetTokenizer\n",
        "tweet=u\"Snow White and the Seven Degrees #MakeAMovieCold@midnight:-)\"\n",
        "tokenizer = TweetTokenizer()\n",
        "print(tokenizer.tokenize(tweet.lower()))"
      ]
    },
    {
      "cell_type": "markdown",
      "metadata": {
        "id": "X4H2PgrK36DM"
      },
      "source": [
        "### Unigrams, Bigrams, Trigrams, ..., N-grams"
      ]
    },
    {
      "cell_type": "code",
      "execution_count": 6,
      "metadata": {
        "colab": {
          "base_uri": "https://localhost:8080/"
        },
        "id": "aWXyDvqh36DM",
        "outputId": "cdda7543-0b4d-4f2c-b862-e79bc4b33472"
      },
      "outputs": [
        {
          "name": "stdout",
          "output_type": "stream",
          "text": [
            "[['mary', ',', \"n't\"], [',', \"n't\", 'slap'], [\"n't\", 'slap', 'green'], ['slap', 'green', 'witch'], ['green', 'witch', '.']]\n"
          ]
        }
      ],
      "source": [
        "def n_grams(text, n):\n",
        "    '''\n",
        "    takes tokens or text, returns a list of n-grams\n",
        "    '''\n",
        "    return [text[i:i+n] for i in range(len(text)-n+1)]\n",
        "\n",
        "cleaned = ['mary', ',', \"n't\", 'slap', 'green', 'witch', '.']\n",
        "print(n_grams(cleaned, 3))"
      ]
    },
    {
      "cell_type": "markdown",
      "metadata": {
        "id": "_-Jrk8l336DM"
      },
      "source": [
        "### Lemmas and Stems"
      ]
    },
    {
      "cell_type": "code",
      "execution_count": 7,
      "metadata": {
        "colab": {
          "base_uri": "https://localhost:8080/"
        },
        "id": "4H74lnwL36DN",
        "outputId": "eec175e4-a766-4324-b2fe-e9cdf1729e72"
      },
      "outputs": [
        {
          "name": "stdout",
          "output_type": "stream",
          "text": [
            "he --> -PRON-\n",
            "was --> be\n",
            "running --> run\n",
            "late --> late\n"
          ]
        }
      ],
      "source": [
        "doc = nlp(u\"he was running late\")\n",
        "for token in doc:\n",
        "    print('{} --> {}'.format(token, token.lemma_))"
      ]
    },
    {
      "cell_type": "markdown",
      "metadata": {
        "id": "nIzEKsc236DN"
      },
      "source": [
        "### Categorizing Words: POS Tagging"
      ]
    },
    {
      "cell_type": "code",
      "execution_count": 8,
      "metadata": {
        "colab": {
          "base_uri": "https://localhost:8080/"
        },
        "id": "Ze37_d3Z36DN",
        "outputId": "3114b8c7-d50a-435a-9055-948551a67a99"
      },
      "outputs": [
        {
          "name": "stdout",
          "output_type": "stream",
          "text": [
            "Mary - PROPN\n",
            "slapped - VERB\n",
            "the - DET\n",
            "green - ADJ\n",
            "witch - NOUN\n",
            ". - PUNCT\n"
          ]
        }
      ],
      "source": [
        "doc = nlp(u\"Mary slapped the green witch.\")\n",
        "for token in doc:\n",
        "    print('{} - {}'.format(token, token.pos_))"
      ]
    },
    {
      "cell_type": "markdown",
      "metadata": {
        "id": "yGM-UjtX36DO"
      },
      "source": [
        "### Chunking and Named Entity Recognition"
      ]
    },
    {
      "cell_type": "code",
      "execution_count": 9,
      "metadata": {
        "colab": {
          "base_uri": "https://localhost:8080/"
        },
        "id": "C-BfyTMZ36DO",
        "outputId": "7de5b1fc-0c0d-4521-bf55-2a929ae18b82"
      },
      "outputs": [
        {
          "name": "stdout",
          "output_type": "stream",
          "text": [
            "Mary - NP\n",
            "the green witch - NP\n"
          ]
        }
      ],
      "source": [
        "doc  = nlp(u\"Mary slapped the green witch.\")\n",
        "for chunk in doc.noun_chunks:\n",
        "    print ('{} - {}'.format(chunk, chunk.label_))"
      ]
    }
  ],
  "metadata": {
    "accelerator": "GPU",
    "colab": {
      "include_colab_link": true,
      "name": "Chap2_Traditional_NLP.ipynb",
      "provenance": []
    },
    "kernelspec": {
      "display_name": "transformers",
      "language": "python",
      "name": "python3"
    },
    "language_info": {
      "codemirror_mode": {
        "name": "ipython",
        "version": 3
      },
      "file_extension": ".py",
      "mimetype": "text/x-python",
      "name": "python",
      "nbconvert_exporter": "python",
      "pygments_lexer": "ipython3",
      "version": "3.11.8"
    }
  },
  "nbformat": 4,
  "nbformat_minor": 0
}
