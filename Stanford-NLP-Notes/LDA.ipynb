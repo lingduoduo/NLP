{
 "cells": [
  {
   "cell_type": "code",
   "execution_count": 1,
   "metadata": {},
   "outputs": [],
   "source": [
    "import pandas as pd"
   ]
  },
  {
   "cell_type": "code",
   "execution_count": 2,
   "metadata": {},
   "outputs": [],
   "source": [
    "data = pd.read_csv('abcnews-date-text.csv', error_bad_lines=False)\n",
    "data_text=data[['headline_text']]\n",
    "data_text['index']=data_text.index\n",
    "documents=data_text"
   ]
  },
  {
   "cell_type": "code",
   "execution_count": 3,
   "metadata": {},
   "outputs": [
    {
     "data": {
      "text/html": [
       "<div>\n",
       "<style scoped>\n",
       "    .dataframe tbody tr th:only-of-type {\n",
       "        vertical-align: middle;\n",
       "    }\n",
       "\n",
       "    .dataframe tbody tr th {\n",
       "        vertical-align: top;\n",
       "    }\n",
       "\n",
       "    .dataframe thead th {\n",
       "        text-align: right;\n",
       "    }\n",
       "</style>\n",
       "<table border=\"1\" class=\"dataframe\">\n",
       "  <thead>\n",
       "    <tr style=\"text-align: right;\">\n",
       "      <th></th>\n",
       "      <th>headline_text</th>\n",
       "      <th>index</th>\n",
       "    </tr>\n",
       "  </thead>\n",
       "  <tbody>\n",
       "    <tr>\n",
       "      <th>0</th>\n",
       "      <td>aba decides against community broadcasting lic...</td>\n",
       "      <td>0</td>\n",
       "    </tr>\n",
       "    <tr>\n",
       "      <th>1</th>\n",
       "      <td>act fire witnesses must be aware of defamation</td>\n",
       "      <td>1</td>\n",
       "    </tr>\n",
       "    <tr>\n",
       "      <th>2</th>\n",
       "      <td>a g calls for infrastructure protection summit</td>\n",
       "      <td>2</td>\n",
       "    </tr>\n",
       "    <tr>\n",
       "      <th>3</th>\n",
       "      <td>air nz staff in aust strike for pay rise</td>\n",
       "      <td>3</td>\n",
       "    </tr>\n",
       "    <tr>\n",
       "      <th>4</th>\n",
       "      <td>air nz strike to affect australian travellers</td>\n",
       "      <td>4</td>\n",
       "    </tr>\n",
       "  </tbody>\n",
       "</table>\n",
       "</div>"
      ],
      "text/plain": [
       "                                       headline_text  index\n",
       "0  aba decides against community broadcasting lic...      0\n",
       "1     act fire witnesses must be aware of defamation      1\n",
       "2     a g calls for infrastructure protection summit      2\n",
       "3           air nz staff in aust strike for pay rise      3\n",
       "4      air nz strike to affect australian travellers      4"
      ]
     },
     "execution_count": 3,
     "metadata": {},
     "output_type": "execute_result"
    }
   ],
   "source": [
    "documents.head()"
   ]
  },
  {
   "cell_type": "markdown",
   "metadata": {},
   "source": [
    "### Data Precessing"
   ]
  },
  {
   "cell_type": "code",
   "execution_count": 4,
   "metadata": {},
   "outputs": [],
   "source": [
    "import nltk\n",
    "from nltk.tokenize import sent_tokenize"
   ]
  },
  {
   "cell_type": "code",
   "execution_count": 5,
   "metadata": {},
   "outputs": [
    {
     "name": "stdout",
     "output_type": "stream",
     "text": [
      "['Statistics skills, and programming skills are equally important for analytics.', 'Statistics skills, and domain knowledge are important for analytics.', 'I like reading books and travelling.']\n"
     ]
    }
   ],
   "source": [
    "### Sentence tokenization\n",
    "text='Statistics skills, and programming skills are equally important for analytics. Statistics skills, and domain knowledge are important for analytics. I like reading books and travelling.'\n",
    "\n",
    "sent_tokenize_list = sent_tokenize(text)\n",
    "print(sent_tokenize_list)"
   ]
  },
  {
   "cell_type": "code",
   "execution_count": 7,
   "metadata": {},
   "outputs": [
    {
     "name": "stdout",
     "output_type": "stream",
     "text": [
      "['Statistics', 'skills', ',', 'and', 'programming', 'skills', 'are', 'equally', 'important', 'for', 'analytics.', 'Statistics', 'skills', ',', 'and', 'domain', 'knowledge', 'are', 'important', 'for', 'analytics.', 'I', 'like', 'reading', 'books', 'and', 'travelling', '.']\n"
     ]
    }
   ],
   "source": [
    "# Another equivalent call method using TreebankWordTokenizer\n",
    "from nltk.tokenize import TreebankWordTokenizer\n",
    "tokenizer = TreebankWordTokenizer()\n",
    "print(tokenizer.tokenize(text))"
   ]
  },
  {
   "cell_type": "code",
   "execution_count": 8,
   "metadata": {},
   "outputs": [
    {
     "name": "stdout",
     "output_type": "stream",
     "text": [
      "Removed numbers:  This is a    sample  English  sentence, \n",
      " with whitespace and numbers !\n"
     ]
    }
   ],
   "source": [
    "## remove numbers\n",
    "import re\n",
    "def remove_numbers(text):\n",
    "    return re.sub(r'\\d+', '', text)\n",
    "text = 'This is a    sample  English  sentence, \\n with whitespace and numbers 1234!'\n",
    "print('Removed numbers: ', remove_numbers(text))"
   ]
  },
  {
   "cell_type": "code",
   "execution_count": 9,
   "metadata": {},
   "outputs": [
    {
     "data": {
      "text/plain": [
       "'This is a sample English sentence with punctuations'"
      ]
     },
     "execution_count": 9,
     "metadata": {},
     "output_type": "execute_result"
    }
   ],
   "source": [
    "## remove punctuations\n",
    "import string\n",
    "# Function to remove punctuations\n",
    "def remove_punctuations(text):\n",
    "    words = nltk.word_tokenize(text)\n",
    "    punt_removed = [w for w in words if w.lower() not in string.punctuation]\n",
    "    return \" \".join(punt_removed)\n",
    "\n",
    "remove_punctuations('This is a sample English sentence, with punctuations!')"
   ]
  },
  {
   "cell_type": "code",
   "execution_count": 11,
   "metadata": {},
   "outputs": [
    {
     "name": "stderr",
     "output_type": "stream",
     "text": [
      "[nltk_data] Downloading package stopwords to /Users/ling/nltk_data...\n",
      "[nltk_data]   Package stopwords is already up-to-date!\n"
     ]
    },
    {
     "data": {
      "text/plain": [
       "True"
      ]
     },
     "execution_count": 11,
     "metadata": {},
     "output_type": "execute_result"
    }
   ],
   "source": [
    "import nltk\n",
    "nltk.download('stopwords')"
   ]
  },
  {
   "cell_type": "code",
   "execution_count": 12,
   "metadata": {},
   "outputs": [],
   "source": [
    "from nltk.corpus import stopwords\n",
    "from nltk.tokenize import word_tokenize"
   ]
  },
  {
   "cell_type": "code",
   "execution_count": 13,
   "metadata": {},
   "outputs": [
    {
     "data": {
      "text/plain": [
       "'sample English sentence'"
      ]
     },
     "execution_count": 13,
     "metadata": {},
     "output_type": "execute_result"
    }
   ],
   "source": [
    "# Function to remove stop words\n",
    "def remove_stopwords(text, lang='english'):\n",
    "    words = nltk.word_tokenize(text)\n",
    "    lang_stopwords = stopwords.words(lang)\n",
    "    stopwords_removed = [w for w in words if w.lower() not in lang_stopwords]\n",
    "    return \" \".join(stopwords_removed)\n",
    "\n",
    "remove_stopwords('This is a sample English sentence')"
   ]
  },
  {
   "cell_type": "code",
   "execution_count": 14,
   "metadata": {},
   "outputs": [
    {
     "name": "stdout",
     "output_type": "stream",
     "text": [
      "Removed whitespace:  This is a sample English sentence, with whitespace and numbers 1234!\n"
     ]
    }
   ],
   "source": [
    "# Function to remove whitespace\n",
    "def remove_whitespace(text):\n",
    "    return \" \".join(text.split())\n",
    "text = 'This is a     sample  English   sentence, \\n with whitespace and numbers 1234!'\n",
    "print('Removed whitespace: ', remove_whitespace(text))"
   ]
  },
  {
   "cell_type": "code",
   "execution_count": 21,
   "metadata": {},
   "outputs": [
    {
     "name": "stderr",
     "output_type": "stream",
     "text": [
      "[nltk_data] Downloading package averaged_perceptron_tagger to\n",
      "[nltk_data]     /Users/ling/nltk_data...\n",
      "[nltk_data]   Package averaged_perceptron_tagger is already up-to-\n",
      "[nltk_data]       date!\n",
      "[nltk_data] Downloading package maxent_ne_chunker to\n",
      "[nltk_data]     /Users/ling/nltk_data...\n",
      "[nltk_data]   Package maxent_ne_chunker is already up-to-date!\n",
      "[nltk_data] Downloading package words to /Users/ling/nltk_data...\n",
      "[nltk_data]   Unzipping corpora/words.zip.\n"
     ]
    },
    {
     "data": {
      "text/plain": [
       "True"
      ]
     },
     "execution_count": 21,
     "metadata": {},
     "output_type": "execute_result"
    }
   ],
   "source": [
    "from nltk import chunk\n",
    "nltk.download('averaged_perceptron_tagger')\n",
    "nltk.download('maxent_ne_chunker')\n",
    "nltk.download('words')"
   ]
  },
  {
   "cell_type": "code",
   "execution_count": 22,
   "metadata": {},
   "outputs": [
    {
     "name": "stdout",
     "output_type": "stream",
     "text": [
      "[('This', 'DT'), ('is', 'VBZ'), ('a', 'DT'), ('sample', 'JJ'), ('English', 'JJ'), ('sentence', 'NN')]\n"
     ]
    }
   ],
   "source": [
    "tagged_sent = nltk.pos_tag(nltk.word_tokenize('This is a sample English sentence'))\n",
    "print(tagged_sent)\n",
    "\n",
    "tree = chunk.ne_chunk(tagged_sent)\n",
    "tree.draw() # this will draw the sentence tree"
   ]
  },
  {
   "cell_type": "code",
   "execution_count": 24,
   "metadata": {},
   "outputs": [
    {
     "name": "stdout",
     "output_type": "stream",
     "text": [
      "[('This', 'DT'), ('is', 'VBZ'), ('a', 'DT'), ('sample', 'JJ'), ('English', 'JJ'), ('sentence', 'NN')]\n"
     ]
    }
   ],
   "source": [
    "from nltk.tag.perceptron import PerceptronTagger\n",
    "PT = PerceptronTagger()\n",
    "print(PT.tag('This is a sample English sentence'.split()))"
   ]
  },
  {
   "cell_type": "markdown",
   "metadata": {},
   "source": [
    "### STEMMING"
   ]
  },
  {
   "cell_type": "code",
   "execution_count": 26,
   "metadata": {},
   "outputs": [],
   "source": [
    "from nltk import PorterStemmer, LancasterStemmer, SnowballStemmer"
   ]
  },
  {
   "cell_type": "code",
   "execution_count": 39,
   "metadata": {},
   "outputs": [],
   "source": [
    "# Function to apply stemming to a list of words\n",
    "def words_stemmer(words, type=\"PorterStemmer\", lang=\"english\", encoding=\"utf8\"):\n",
    "    supported_stemmers = [\"PorterStemmer\",\"LancasterStemmer\",\"SnowballStemmer\"]\n",
    "    if type is False or type not in supported_stemmers:\n",
    "        return words\n",
    "    else:\n",
    "        stem_words = []\n",
    "        if type == \"PorterStemmer\":\n",
    "            stemmer = PorterStemmer()\n",
    "            for word in words:\n",
    "                stem_words.append(stemmer.stem(word).encode(encoding))\n",
    "        if type == \"LancasterStemmer\":\n",
    "            stemmer = LancasterStemmer()\n",
    "            for word in words:\n",
    "                stem_words.append(stemmer.stem(word).encode(encoding))\n",
    "        if type == \"SnowballStemmer\":\n",
    "            stemmer = SnowballStemmer(lang)\n",
    "            for word in words:\n",
    "                stem_words.append(stemmer.stem(word).encode(encoding))\n",
    "        return \"\".join(str(stem_words))\n",
    "    "
   ]
  },
  {
   "cell_type": "code",
   "execution_count": 44,
   "metadata": {},
   "outputs": [
    {
     "name": "stdout",
     "output_type": "stream",
     "text": [
      "Original: caring cares cared caringly carefully\n",
      "Porter: [b'care', b'care', b'care', b'caringli', b'care']PorterStemmer\n",
      "Lancaster: [b'care', b'care', b'care', b'caringli', b'care']LancasterStemmer\n",
      "Snowball: [b'care', b'care', b'care', b'caringli', b'care']SnowballStemmer\n"
     ]
    }
   ],
   "source": [
    "words =  'caring cares cared caringly carefully'\n",
    "\n",
    "print(\"Original: \" + words)\n",
    "print(\"Porter: \" + words_stemmer(nltk.word_tokenize(words)) + \"PorterStemmer\")\n",
    "print(\"Lancaster: \" + words_stemmer(nltk.word_tokenize(words)) + \"LancasterStemmer\")\n",
    "print(\"Snowball: \" +words_stemmer(nltk.word_tokenize(words)) + \"SnowballStemmer\")\n"
   ]
  },
  {
   "cell_type": "markdown",
   "metadata": {},
   "source": [
    "### LEMMATIZATION"
   ]
  },
  {
   "cell_type": "code",
   "execution_count": 46,
   "metadata": {},
   "outputs": [],
   "source": [
    "from nltk.stem import WordNetLemmatizer\n",
    "wordnet_lemmatizer = WordNetLemmatizer()"
   ]
  },
  {
   "cell_type": "code",
   "execution_count": 50,
   "metadata": {},
   "outputs": [],
   "source": [
    "# Function to apply lemmatization to a list of words\n",
    "def words_lemmatizer(text, encoding=\"utf8\"):\n",
    "    words = nltk.word_tokenize(text)\n",
    "    lemma_words = []\n",
    "    wl = WordNetLemmatizer()\n",
    "    for word in words:\n",
    "        pos = find_pos(word)\n",
    "        lemma_words.append(wl.lemmatize(word, pos).encode(encoding))\n",
    "    return \"\".join(str(lemma_words))"
   ]
  },
  {
   "cell_type": "code",
   "execution_count": 51,
   "metadata": {},
   "outputs": [],
   "source": [
    "# Function to find part of speech tag for a word\n",
    "def find_pos(word):\n",
    "    # Part of Speech constants\n",
    "    # ADJ, ADJ_SAT, ADV, NOUN, VERB = 'a', 's', 'r', 'n', 'v'\n",
    "    # You can learn more about these at http://wordnet.princeton.edu/wordnet/man/wndb.5WN.html#sect3\n",
    "    # You can learn more about all the penn tree tags at https://www.ling.upenn.edu/courses/Fall_2003/ling001/penn_treebank_pos.html\n",
    "    pos = nltk.pos_tag(nltk.word_tokenize(word))[0][1]\n",
    "    # Adjective tags - 'JJ', 'JJR', 'JJS'\n",
    "    if pos.lower()[0] == 'j':\n",
    "        return 'a'\n",
    "    # Adverb tags - 'RB', 'RBR', 'RBS'\n",
    "    elif pos.lower()[0] == 'r':\n",
    "        return 'r'\n",
    "    # Verb tags - 'VB', 'VBD', 'VBG', 'VBN', 'VBP', 'VBZ'\n",
    "    elif pos.lower()[0] == 'v':\n",
    "        return 'v'\n",
    "    # Noun tags - 'NN', 'NNS', 'NNP', 'NNPS'\n",
    "    else:\n",
    "        return 'n'"
   ]
  },
  {
   "cell_type": "code",
   "execution_count": 52,
   "metadata": {},
   "outputs": [
    {
     "name": "stdout",
     "output_type": "stream",
     "text": [
      "Lemmatized: [b'care', b'care', b'care', b'caringly', b'carefully']\n"
     ]
    }
   ],
   "source": [
    "print(\"Lemmatized: \" + words_lemmatizer(words))"
   ]
  },
  {
   "cell_type": "markdown",
   "metadata": {},
   "source": [
    "### N-GRAMS"
   ]
  },
  {
   "cell_type": "code",
   "execution_count": 53,
   "metadata": {},
   "outputs": [],
   "source": [
    "from nltk.util import ngrams\n",
    "from collections import Counter"
   ]
  },
  {
   "cell_type": "code",
   "execution_count": 71,
   "metadata": {},
   "outputs": [
    {
     "ename": "SyntaxError",
     "evalue": "invalid syntax (<ipython-input-71-355179e01617>, line 4)",
     "output_type": "error",
     "traceback": [
      "\u001b[0;36m  File \u001b[0;32m\"<ipython-input-71-355179e01617>\"\u001b[0;36m, line \u001b[0;32m4\u001b[0m\n\u001b[0;31m    return [.join(grams) for grams in n_grams]\u001b[0m\n\u001b[0m            ^\u001b[0m\n\u001b[0;31mSyntaxError\u001b[0m\u001b[0;31m:\u001b[0m invalid syntax\n"
     ]
    }
   ],
   "source": [
    "# Function to extract n-grams from text\n",
    "def get_ngrams(text, n):\n",
    "    n_grams = ngrams(nltk.word_tokenize(text), n)\n",
    "    return [.join(grams) for grams in n_grams]"
   ]
  },
  {
   "cell_type": "code",
   "execution_count": 72,
   "metadata": {},
   "outputs": [],
   "source": [
    "ls = get_ngrams(text, 1)"
   ]
  },
  {
   "cell_type": "code",
   "execution_count": 70,
   "metadata": {},
   "outputs": [
    {
     "data": {
      "text/plain": [
       "[('This',), ('is',), ('a',), ('sample',), ('English',), ('sentence',)]"
      ]
     },
     "execution_count": 70,
     "metadata": {},
     "output_type": "execute_result"
    }
   ],
   "source": [
    "res"
   ]
  },
  {
   "cell_type": "code",
   "execution_count": null,
   "metadata": {},
   "outputs": [],
   "source": [
    "return ''.join(str(grams)) for grams in n_grams]"
   ]
  },
  {
   "cell_type": "code",
   "execution_count": 60,
   "metadata": {},
   "outputs": [
    {
     "ename": "TypeError",
     "evalue": "can only concatenate str (not \"list\") to str",
     "output_type": "error",
     "traceback": [
      "\u001b[0;31m---------------------------------------------------------------------------\u001b[0m",
      "\u001b[0;31mTypeError\u001b[0m                                 Traceback (most recent call last)",
      "\u001b[0;32m<ipython-input-60-b0464dde5501>\u001b[0m in \u001b[0;36m<module>\u001b[0;34m\u001b[0m\n\u001b[1;32m      1\u001b[0m \u001b[0mtext\u001b[0m \u001b[0;34m=\u001b[0m \u001b[0;34m'This is a sample English sentence'\u001b[0m\u001b[0;34m\u001b[0m\u001b[0;34m\u001b[0m\u001b[0m\n\u001b[0;32m----> 2\u001b[0;31m \u001b[0mprint\u001b[0m\u001b[0;34m(\u001b[0m\u001b[0;34m\"1-gram: \"\u001b[0m \u001b[0;34m+\u001b[0m \u001b[0mget_ngrams\u001b[0m\u001b[0;34m(\u001b[0m\u001b[0mtext\u001b[0m\u001b[0;34m,\u001b[0m \u001b[0;36m1\u001b[0m\u001b[0;34m)\u001b[0m\u001b[0;34m)\u001b[0m\u001b[0;34m\u001b[0m\u001b[0;34m\u001b[0m\u001b[0m\n\u001b[0m\u001b[1;32m      3\u001b[0m \u001b[0mprint\u001b[0m\u001b[0;34m(\u001b[0m\u001b[0;34m\"2-gram: \"\u001b[0m \u001b[0;34m+\u001b[0m \u001b[0mget_ngrams\u001b[0m\u001b[0;34m(\u001b[0m\u001b[0mtext\u001b[0m\u001b[0;34m,\u001b[0m \u001b[0;36m2\u001b[0m\u001b[0;34m)\u001b[0m\u001b[0;34m)\u001b[0m\u001b[0;34m\u001b[0m\u001b[0;34m\u001b[0m\u001b[0m\n\u001b[1;32m      4\u001b[0m \u001b[0mprint\u001b[0m\u001b[0;34m(\u001b[0m\u001b[0;34m\"3-gram: \"\u001b[0m \u001b[0;34m+\u001b[0m \u001b[0mget_ngrams\u001b[0m\u001b[0;34m(\u001b[0m\u001b[0mtext\u001b[0m\u001b[0;34m,\u001b[0m \u001b[0;36m3\u001b[0m\u001b[0;34m)\u001b[0m\u001b[0;34m)\u001b[0m\u001b[0;34m\u001b[0m\u001b[0;34m\u001b[0m\u001b[0m\n\u001b[1;32m      5\u001b[0m \u001b[0mprint\u001b[0m\u001b[0;34m(\u001b[0m\u001b[0;34m\"4-gram: \"\u001b[0m \u001b[0;34m+\u001b[0m \u001b[0mget_ngrams\u001b[0m\u001b[0;34m(\u001b[0m\u001b[0mtext\u001b[0m\u001b[0;34m,\u001b[0m \u001b[0;36m4\u001b[0m\u001b[0;34m)\u001b[0m\u001b[0;34m)\u001b[0m\u001b[0;34m\u001b[0m\u001b[0;34m\u001b[0m\u001b[0m\n",
      "\u001b[0;31mTypeError\u001b[0m: can only concatenate str (not \"list\") to str"
     ]
    }
   ],
   "source": [
    "text = 'This is a sample English sentence'\n",
    "print(\"1-gram: \" + get_ngrams(text, 1))\n",
    "print(\"2-gram: \" + get_ngrams(text, 2))\n",
    "print(\"3-gram: \" + get_ngrams(text, 3))\n",
    "print(\"4-gram: \" + get_ngrams(text, 4))"
   ]
  },
  {
   "cell_type": "code",
   "execution_count": 12,
   "metadata": {},
   "outputs": [],
   "source": [
    "import numpy as np\n",
    "np.random.seed(2018)"
   ]
  },
  {
   "cell_type": "code",
   "execution_count": 27,
   "metadata": {},
   "outputs": [
    {
     "name": "stderr",
     "output_type": "stream",
     "text": [
      "[nltk_data] Downloading package wordnet to /Users/ling/nltk_data...\n",
      "[nltk_data]   Package wordnet is already up-to-date!\n",
      "[nltk_data] Downloading package punkt to /Users/ling/nltk_data...\n",
      "[nltk_data]   Unzipping tokenizers/punkt.zip.\n"
     ]
    },
    {
     "data": {
      "text/plain": [
       "True"
      ]
     },
     "execution_count": 27,
     "metadata": {},
     "output_type": "execute_result"
    }
   ],
   "source": [
    "nltk.download('wordnet')\n",
    "nltk.download('punkt')"
   ]
  },
  {
   "cell_type": "code",
   "execution_count": 40,
   "metadata": {},
   "outputs": [],
   "source": [
    "# def lemmatize_stemming(text):\n",
    "#     lemmatizer = nltk.WordNetLemmatizer()\n",
    "# #     return stemmer.stem(WordNetLemmatizer().lemmatize(text, pos='v'))\n",
    "#     processed_tokens = nltk.word_tokenize(text)\n",
    "#     processed_tokens = [w.lower() for w in processed_tokens]\n",
    "#     for w in processed_tokens:\n",
    "#         processed_tokens.append(lemmatizer.lemmatize(w)) \n",
    "#     return processed_tokens\n",
    "\n",
    "def lemmatize_stemming(text):\n",
    "    return WordNetLemmatizer().lemmatize(text, pos='v')"
   ]
  },
  {
   "cell_type": "code",
   "execution_count": 45,
   "metadata": {},
   "outputs": [],
   "source": [
    "def preprocess(text):\n",
    "    result = []\n",
    "    for token in gensim.utils.simple_preprocess(text):\n",
    "        if token not in gensim.parsing.preprocessing.STOPWORDS and len(token) > 3:\n",
    "            result.append(lemmatize_stemming(token))\n",
    "    return result"
   ]
  },
  {
   "cell_type": "code",
   "execution_count": 42,
   "metadata": {},
   "outputs": [
    {
     "name": "stdout",
     "output_type": "stream",
     "text": [
      "original document: \n",
      "['rain', 'helps', 'dampen', 'bushfires']\n",
      "\n",
      "\n",
      " tokenized and lemmatized document: \n",
      "['rain', 'help', 'dampen', 'bushfires']\n"
     ]
    }
   ],
   "source": [
    "doc_sample = documents[documents['index'] == 4310].values[0][0]\n",
    "print('original document: ')\n",
    "words = []\n",
    "for word in doc_sample.split(' '):\n",
    "    words.append(word)\n",
    "print(words)\n",
    "print('\\n\\n tokenized and lemmatized document: ')\n",
    "print(preprocess(doc_sample))"
   ]
  },
  {
   "cell_type": "code",
   "execution_count": 43,
   "metadata": {},
   "outputs": [
    {
     "data": {
      "text/plain": [
       "0              [decide, community, broadcast, licence]\n",
       "1                         [witness, aware, defamation]\n",
       "2           [call, infrastructure, protection, summit]\n",
       "3                          [staff, aust, strike, rise]\n",
       "4             [strike, affect, australian, travellers]\n",
       "5               [ambitious, olsson, win, triple, jump]\n",
       "6               [antic, delight, record, break, barca]\n",
       "7    [aussie, qualifier, stosur, waste, memphis, ma...\n",
       "8             [aust, address, security, council, iraq]\n",
       "9                         [australia, lock, timetable]\n",
       "Name: headline_text, dtype: object"
      ]
     },
     "execution_count": 43,
     "metadata": {},
     "output_type": "execute_result"
    }
   ],
   "source": [
    "processed_docs = documents['headline_text'].map(preprocess)\n",
    "processed_docs[:10]"
   ]
  },
  {
   "cell_type": "code",
   "execution_count": 44,
   "metadata": {},
   "outputs": [],
   "source": [
    "dictionary = gensim.corpora.Dictionary(processed_docs)"
   ]
  },
  {
   "cell_type": "code",
   "execution_count": 45,
   "metadata": {},
   "outputs": [],
   "source": [
    "dictionary.filter_extremes(no_below=15, no_above=0.5, keep_n=100000)"
   ]
  },
  {
   "cell_type": "code",
   "execution_count": 46,
   "metadata": {},
   "outputs": [
    {
     "data": {
      "text/plain": [
       "[(112, 1), (489, 1), (970, 1), (4427, 1)]"
      ]
     },
     "execution_count": 46,
     "metadata": {},
     "output_type": "execute_result"
    }
   ],
   "source": [
    "bow_corpus = [dictionary.doc2bow(doc) for doc in processed_docs]\n",
    "bow_corpus[4310]"
   ]
  },
  {
   "cell_type": "code",
   "execution_count": 47,
   "metadata": {},
   "outputs": [
    {
     "name": "stdout",
     "output_type": "stream",
     "text": [
      "Word 112 (\"help\") appears 1 time.\n",
      "Word 489 (\"rain\") appears 1 time.\n",
      "Word 970 (\"bushfires\") appears 1 time.\n",
      "Word 4427 (\"dampen\") appears 1 time.\n"
     ]
    }
   ],
   "source": [
    "bow_doc_4310 = bow_corpus[4310]\n",
    "for i in range(len(bow_doc_4310)):\n",
    "    print(\"Word {} (\\\"{}\\\") appears {} time.\".format(bow_doc_4310[i][0], dictionary[bow_doc_4310[i][0]], bow_doc_4310[i][1]))"
   ]
  },
  {
   "cell_type": "markdown",
   "metadata": {},
   "source": [
    "## LDA using Bag of Words"
   ]
  },
  {
   "cell_type": "code",
   "execution_count": 48,
   "metadata": {},
   "outputs": [
    {
     "name": "stdout",
     "output_type": "stream",
     "text": [
      "[(0, 0.595557507312157),\n",
      " (1, 0.3948343404468723),\n",
      " (2, 0.4976240764382213),\n",
      " (3, 0.4917187993528624)]\n"
     ]
    }
   ],
   "source": [
    "from gensim import corpora, models\n",
    "tfidf = models.TfidfModel(bow_corpus)\n",
    "corpus_tfidf = tfidf[bow_corpus]\n",
    "from pprint import pprint\n",
    "for doc in corpus_tfidf:\n",
    "    pprint(doc)\n",
    "    break"
   ]
  },
  {
   "cell_type": "code",
   "execution_count": 49,
   "metadata": {},
   "outputs": [],
   "source": [
    "lda_model = gensim.models.LdaMulticore(bow_corpus, num_topics=10, id2word=dictionary, passes=2, workers=2)"
   ]
  },
  {
   "cell_type": "code",
   "execution_count": 50,
   "metadata": {},
   "outputs": [
    {
     "name": "stdout",
     "output_type": "stream",
     "text": [
      "Topic: 0 \n",
      "Words: 0.032*\"charge\" + 0.030*\"court\" + 0.030*\"sydney\" + 0.022*\"murder\" + 0.020*\"face\" + 0.016*\"jail\" + 0.016*\"years\" + 0.015*\"shoot\" + 0.015*\"accuse\" + 0.015*\"drug\"\n",
      "Topic: 1 \n",
      "Words: 0.020*\"market\" + 0.014*\"share\" + 0.012*\"fall\" + 0.011*\"news\" + 0.010*\"port\" + 0.010*\"build\" + 0.009*\"industry\" + 0.009*\"marriage\" + 0.009*\"energy\" + 0.009*\"say\"\n",
      "Topic: 2 \n",
      "Words: 0.036*\"trump\" + 0.031*\"government\" + 0.016*\"donald\" + 0.013*\"hour\" + 0.013*\"deal\" + 0.012*\"return\" + 0.011*\"abuse\" + 0.010*\"say\" + 0.009*\"young\" + 0.009*\"china\"\n",
      "Topic: 3 \n",
      "Words: 0.021*\"home\" + 0.015*\"tasmanian\" + 0.014*\"high\" + 0.014*\"price\" + 0.013*\"women\" + 0.012*\"flood\" + 0.012*\"bank\" + 0.012*\"guilty\" + 0.011*\"rise\" + 0.011*\"royal\"\n",
      "Topic: 4 \n",
      "Words: 0.031*\"queensland\" + 0.023*\"coast\" + 0.020*\"live\" + 0.015*\"claim\" + 0.015*\"gold\" + 0.014*\"north\" + 0.012*\"force\" + 0.011*\"green\" + 0.011*\"fear\" + 0.011*\"party\"\n",
      "Topic: 5 \n",
      "Words: 0.055*\"police\" + 0.022*\"kill\" + 0.021*\"crash\" + 0.018*\"die\" + 0.017*\"interview\" + 0.016*\"miss\" + 0.014*\"west\" + 0.013*\"attack\" + 0.012*\"perth\" + 0.012*\"dead\"\n",
      "Topic: 6 \n",
      "Words: 0.044*\"australia\" + 0.023*\"election\" + 0.021*\"south\" + 0.014*\"test\" + 0.013*\"power\" + 0.013*\"tasmania\" + 0.012*\"people\" + 0.012*\"turnbull\" + 0.009*\"island\" + 0.009*\"violence\"\n",
      "Topic: 7 \n",
      "Words: 0.020*\"canberra\" + 0.020*\"open\" + 0.015*\"australian\" + 0.013*\"world\" + 0.013*\"league\" + 0.012*\"year\" + 0.011*\"melbourne\" + 0.011*\"close\" + 0.010*\"game\" + 0.010*\"final\"\n",
      "Topic: 8 \n",
      "Words: 0.017*\"state\" + 0.017*\"country\" + 0.016*\"rural\" + 0.014*\"hospital\" + 0.012*\"change\" + 0.011*\"school\" + 0.010*\"national\" + 0.010*\"talk\" + 0.009*\"john\" + 0.008*\"meet\"\n",
      "Topic: 9 \n",
      "Words: 0.015*\"plan\" + 0.014*\"health\" + 0.014*\"fund\" + 0.014*\"council\" + 0.012*\"help\" + 0.012*\"water\" + 0.011*\"say\" + 0.009*\"service\" + 0.009*\"park\" + 0.009*\"budget\"\n"
     ]
    }
   ],
   "source": [
    "for idx, topic in lda_model.print_topics(-1):\n",
    "    print('Topic: {} \\nWords: {}'.format(idx, topic))"
   ]
  },
  {
   "cell_type": "code",
   "execution_count": 52,
   "metadata": {},
   "outputs": [
    {
     "name": "stdout",
     "output_type": "stream",
     "text": [
      "\n",
      "Score: 0.4199962615966797\t \n",
      "Topic: 0.015*\"plan\" + 0.014*\"health\" + 0.014*\"fund\" + 0.014*\"council\" + 0.012*\"help\" + 0.012*\"water\" + 0.011*\"say\" + 0.009*\"service\" + 0.009*\"park\" + 0.009*\"budget\"\n",
      "\n",
      "Score: 0.22000005841255188\t \n",
      "Topic: 0.044*\"australia\" + 0.023*\"election\" + 0.021*\"south\" + 0.014*\"test\" + 0.013*\"power\" + 0.013*\"tasmania\" + 0.012*\"people\" + 0.012*\"turnbull\" + 0.009*\"island\" + 0.009*\"violence\"\n",
      "\n",
      "Score: 0.21999981999397278\t \n",
      "Topic: 0.032*\"charge\" + 0.030*\"court\" + 0.030*\"sydney\" + 0.022*\"murder\" + 0.020*\"face\" + 0.016*\"jail\" + 0.016*\"years\" + 0.015*\"shoot\" + 0.015*\"accuse\" + 0.015*\"drug\"\n",
      "\n",
      "Score: 0.020002376288175583\t \n",
      "Topic: 0.036*\"trump\" + 0.031*\"government\" + 0.016*\"donald\" + 0.013*\"hour\" + 0.013*\"deal\" + 0.012*\"return\" + 0.011*\"abuse\" + 0.010*\"say\" + 0.009*\"young\" + 0.009*\"china\"\n",
      "\n",
      "Score: 0.020001482218503952\t \n",
      "Topic: 0.021*\"home\" + 0.015*\"tasmanian\" + 0.014*\"high\" + 0.014*\"price\" + 0.013*\"women\" + 0.012*\"flood\" + 0.012*\"bank\" + 0.012*\"guilty\" + 0.011*\"rise\" + 0.011*\"royal\"\n",
      "\n",
      "Score: 0.019999999552965164\t \n",
      "Topic: 0.020*\"market\" + 0.014*\"share\" + 0.012*\"fall\" + 0.011*\"news\" + 0.010*\"port\" + 0.010*\"build\" + 0.009*\"industry\" + 0.009*\"marriage\" + 0.009*\"energy\" + 0.009*\"say\"\n",
      "\n",
      "Score: 0.019999999552965164\t \n",
      "Topic: 0.031*\"queensland\" + 0.023*\"coast\" + 0.020*\"live\" + 0.015*\"claim\" + 0.015*\"gold\" + 0.014*\"north\" + 0.012*\"force\" + 0.011*\"green\" + 0.011*\"fear\" + 0.011*\"party\"\n",
      "\n",
      "Score: 0.019999999552965164\t \n",
      "Topic: 0.055*\"police\" + 0.022*\"kill\" + 0.021*\"crash\" + 0.018*\"die\" + 0.017*\"interview\" + 0.016*\"miss\" + 0.014*\"west\" + 0.013*\"attack\" + 0.012*\"perth\" + 0.012*\"dead\"\n",
      "\n",
      "Score: 0.019999999552965164\t \n",
      "Topic: 0.020*\"canberra\" + 0.020*\"open\" + 0.015*\"australian\" + 0.013*\"world\" + 0.013*\"league\" + 0.012*\"year\" + 0.011*\"melbourne\" + 0.011*\"close\" + 0.010*\"game\" + 0.010*\"final\"\n",
      "\n",
      "Score: 0.019999999552965164\t \n",
      "Topic: 0.017*\"state\" + 0.017*\"country\" + 0.016*\"rural\" + 0.014*\"hospital\" + 0.012*\"change\" + 0.011*\"school\" + 0.010*\"national\" + 0.010*\"talk\" + 0.009*\"john\" + 0.008*\"meet\"\n"
     ]
    }
   ],
   "source": [
    "for index, score in sorted(lda_model[bow_corpus[4310]], key=lambda tup: -1*tup[1]):\n",
    "    print(\"\\nScore: {}\\t \\nTopic: {}\".format(score, lda_model.print_topic(index, 10)))"
   ]
  },
  {
   "cell_type": "code",
   "execution_count": 54,
   "metadata": {},
   "outputs": [
    {
     "name": "stdout",
     "output_type": "stream",
     "text": [
      "Score: 0.35000014305114746\t Topic: 0.036*\"trump\" + 0.031*\"government\" + 0.016*\"donald\" + 0.013*\"hour\" + 0.013*\"deal\"\n",
      "Score: 0.1833333820104599\t Topic: 0.017*\"state\" + 0.017*\"country\" + 0.016*\"rural\" + 0.014*\"hospital\" + 0.012*\"change\"\n",
      "Score: 0.18333332240581512\t Topic: 0.032*\"charge\" + 0.030*\"court\" + 0.030*\"sydney\" + 0.022*\"murder\" + 0.020*\"face\"\n",
      "Score: 0.18333317339420319\t Topic: 0.044*\"australia\" + 0.023*\"election\" + 0.021*\"south\" + 0.014*\"test\" + 0.013*\"power\"\n",
      "Score: 0.01666666753590107\t Topic: 0.020*\"market\" + 0.014*\"share\" + 0.012*\"fall\" + 0.011*\"news\" + 0.010*\"port\"\n",
      "Score: 0.01666666753590107\t Topic: 0.021*\"home\" + 0.015*\"tasmanian\" + 0.014*\"high\" + 0.014*\"price\" + 0.013*\"women\"\n",
      "Score: 0.01666666753590107\t Topic: 0.031*\"queensland\" + 0.023*\"coast\" + 0.020*\"live\" + 0.015*\"claim\" + 0.015*\"gold\"\n",
      "Score: 0.01666666753590107\t Topic: 0.055*\"police\" + 0.022*\"kill\" + 0.021*\"crash\" + 0.018*\"die\" + 0.017*\"interview\"\n",
      "Score: 0.01666666753590107\t Topic: 0.020*\"canberra\" + 0.020*\"open\" + 0.015*\"australian\" + 0.013*\"world\" + 0.013*\"league\"\n",
      "Score: 0.01666666753590107\t Topic: 0.015*\"plan\" + 0.014*\"health\" + 0.014*\"fund\" + 0.014*\"council\" + 0.012*\"help\"\n"
     ]
    }
   ],
   "source": [
    "unseen_document = 'How a Pentagon deal became an identity crisis for Google'\n",
    "bow_vector = dictionary.doc2bow(preprocess(unseen_document))\n",
    "\n",
    "for index, score in sorted(lda_model[bow_vector], key=lambda tup: -1*tup[1]):\n",
    "    print(\"Score: {}\\t Topic: {}\".format(score, lda_model.print_topic(index, 5)))"
   ]
  },
  {
   "cell_type": "markdown",
   "metadata": {},
   "source": [
    "## LDA using TF-IDF"
   ]
  },
  {
   "cell_type": "code",
   "execution_count": 51,
   "metadata": {},
   "outputs": [
    {
     "name": "stdout",
     "output_type": "stream",
     "text": [
      "Topic: 0 Word: 0.019*\"rural\" + 0.014*\"crash\" + 0.008*\"royal\" + 0.007*\"fatal\" + 0.006*\"die\" + 0.006*\"truck\" + 0.005*\"commission\" + 0.005*\"road\" + 0.004*\"police\" + 0.004*\"rail\"\n",
      "Topic: 1 Word: 0.023*\"country\" + 0.020*\"hour\" + 0.007*\"christmas\" + 0.007*\"mother\" + 0.005*\"live\" + 0.005*\"history\" + 0.005*\"politics\" + 0.005*\"wrap\" + 0.005*\"bail\" + 0.005*\"prison\"\n",
      "Topic: 2 Word: 0.008*\"marriage\" + 0.007*\"friday\" + 0.007*\"wednesday\" + 0.006*\"asylum\" + 0.006*\"august\" + 0.006*\"great\" + 0.005*\"capital\" + 0.005*\"wild\" + 0.004*\"children\" + 0.004*\"allegedly\"\n",
      "Topic: 3 Word: 0.010*\"news\" + 0.008*\"health\" + 0.007*\"budget\" + 0.007*\"business\" + 0.006*\"fund\" + 0.006*\"say\" + 0.005*\"sport\" + 0.005*\"national\" + 0.005*\"victorian\" + 0.005*\"monday\"\n",
      "Topic: 4 Word: 0.007*\"john\" + 0.007*\"october\" + 0.007*\"september\" + 0.005*\"outback\" + 0.004*\"scott\" + 0.004*\"footage\" + 0.004*\"refugees\" + 0.004*\"speed\" + 0.003*\"young\" + 0.003*\"knight\"\n",
      "Topic: 5 Word: 0.009*\"australia\" + 0.007*\"world\" + 0.007*\"grandstand\" + 0.006*\"abbott\" + 0.006*\"test\" + 0.005*\"rugby\" + 0.005*\"tuesday\" + 0.005*\"ash\" + 0.005*\"final\" + 0.005*\"kill\"\n",
      "Topic: 6 Word: 0.013*\"market\" + 0.010*\"podcast\" + 0.010*\"drum\" + 0.009*\"donald\" + 0.009*\"share\" + 0.007*\"price\" + 0.007*\"australian\" + 0.006*\"plead\" + 0.006*\"wall\" + 0.006*\"dollar\"\n",
      "Topic: 7 Word: 0.017*\"interview\" + 0.011*\"government\" + 0.008*\"violence\" + 0.007*\"climate\" + 0.007*\"domestic\" + 0.005*\"quiz\" + 0.005*\"change\" + 0.005*\"spring\" + 0.004*\"pass\" + 0.004*\"creek\"\n",
      "Topic: 8 Word: 0.012*\"coast\" + 0.009*\"turnbull\" + 0.009*\"weather\" + 0.007*\"queensland\" + 0.007*\"search\" + 0.007*\"flood\" + 0.006*\"north\" + 0.006*\"miss\" + 0.006*\"south\" + 0.006*\"november\"\n",
      "Topic: 9 Word: 0.018*\"trump\" + 0.015*\"charge\" + 0.014*\"murder\" + 0.011*\"court\" + 0.010*\"police\" + 0.008*\"assault\" + 0.007*\"jail\" + 0.007*\"sentence\" + 0.007*\"woman\" + 0.007*\"accuse\"\n"
     ]
    }
   ],
   "source": [
    "lda_model_tfidf = gensim.models.LdaMulticore(corpus_tfidf, num_topics=10, id2word=dictionary, passes=2, workers=4)\n",
    "for idx, topic in lda_model_tfidf.print_topics(-1):\n",
    "    print('Topic: {} Word: {}'.format(idx, topic))"
   ]
  },
  {
   "cell_type": "code",
   "execution_count": 53,
   "metadata": {},
   "outputs": [
    {
     "name": "stdout",
     "output_type": "stream",
     "text": [
      "\n",
      "Score: 0.2947407364845276\t \n",
      "Topic: 0.012*\"coast\" + 0.009*\"turnbull\" + 0.009*\"weather\" + 0.007*\"queensland\" + 0.007*\"search\" + 0.007*\"flood\" + 0.006*\"north\" + 0.006*\"miss\" + 0.006*\"south\" + 0.006*\"november\"\n",
      "\n",
      "Score: 0.289143830537796\t \n",
      "Topic: 0.008*\"marriage\" + 0.007*\"friday\" + 0.007*\"wednesday\" + 0.006*\"asylum\" + 0.006*\"august\" + 0.006*\"great\" + 0.005*\"capital\" + 0.005*\"wild\" + 0.004*\"children\" + 0.004*\"allegedly\"\n",
      "\n",
      "Score: 0.27610644698143005\t \n",
      "Topic: 0.019*\"rural\" + 0.014*\"crash\" + 0.008*\"royal\" + 0.007*\"fatal\" + 0.006*\"die\" + 0.006*\"truck\" + 0.005*\"commission\" + 0.005*\"road\" + 0.004*\"police\" + 0.004*\"rail\"\n",
      "\n",
      "Score: 0.020002324134111404\t \n",
      "Topic: 0.010*\"news\" + 0.008*\"health\" + 0.007*\"budget\" + 0.007*\"business\" + 0.006*\"fund\" + 0.006*\"say\" + 0.005*\"sport\" + 0.005*\"national\" + 0.005*\"victorian\" + 0.005*\"monday\"\n",
      "\n",
      "Score: 0.020001716911792755\t \n",
      "Topic: 0.007*\"john\" + 0.007*\"october\" + 0.007*\"september\" + 0.005*\"outback\" + 0.004*\"scott\" + 0.004*\"footage\" + 0.004*\"refugees\" + 0.004*\"speed\" + 0.003*\"young\" + 0.003*\"knight\"\n",
      "\n",
      "Score: 0.020001551136374474\t \n",
      "Topic: 0.013*\"market\" + 0.010*\"podcast\" + 0.010*\"drum\" + 0.009*\"donald\" + 0.009*\"share\" + 0.007*\"price\" + 0.007*\"australian\" + 0.006*\"plead\" + 0.006*\"wall\" + 0.006*\"dollar\"\n",
      "\n",
      "Score: 0.02000100538134575\t \n",
      "Topic: 0.009*\"australia\" + 0.007*\"world\" + 0.007*\"grandstand\" + 0.006*\"abbott\" + 0.006*\"test\" + 0.005*\"rugby\" + 0.005*\"tuesday\" + 0.005*\"ash\" + 0.005*\"final\" + 0.005*\"kill\"\n",
      "\n",
      "Score: 0.020000986754894257\t \n",
      "Topic: 0.018*\"trump\" + 0.015*\"charge\" + 0.014*\"murder\" + 0.011*\"court\" + 0.010*\"police\" + 0.008*\"assault\" + 0.007*\"jail\" + 0.007*\"sentence\" + 0.007*\"woman\" + 0.007*\"accuse\"\n",
      "\n",
      "Score: 0.020000791177153587\t \n",
      "Topic: 0.017*\"interview\" + 0.011*\"government\" + 0.008*\"violence\" + 0.007*\"climate\" + 0.007*\"domestic\" + 0.005*\"quiz\" + 0.005*\"change\" + 0.005*\"spring\" + 0.004*\"pass\" + 0.004*\"creek\"\n",
      "\n",
      "Score: 0.020000629127025604\t \n",
      "Topic: 0.023*\"country\" + 0.020*\"hour\" + 0.007*\"christmas\" + 0.007*\"mother\" + 0.005*\"live\" + 0.005*\"history\" + 0.005*\"politics\" + 0.005*\"wrap\" + 0.005*\"bail\" + 0.005*\"prison\"\n"
     ]
    }
   ],
   "source": [
    "for index, score in sorted(lda_model_tfidf[bow_corpus[4310]], key=lambda tup: -1*tup[1]):\n",
    "    print(\"\\nScore: {}\\t \\nTopic: {}\".format(score, lda_model_tfidf.print_topic(index, 10)))"
   ]
  },
  {
   "cell_type": "code",
   "execution_count": 55,
   "metadata": {},
   "outputs": [
    {
     "name": "stdout",
     "output_type": "stream",
     "text": [
      "Score: 0.359101802110672\t Topic: 0.055*\"police\" + 0.022*\"kill\" + 0.021*\"crash\" + 0.018*\"die\" + 0.017*\"interview\"\n",
      "Score: 0.3326616883277893\t Topic: 0.020*\"canberra\" + 0.020*\"open\" + 0.015*\"australian\" + 0.013*\"world\" + 0.013*\"league\"\n",
      "Score: 0.19155389070510864\t Topic: 0.032*\"charge\" + 0.030*\"court\" + 0.030*\"sydney\" + 0.022*\"murder\" + 0.020*\"face\"\n",
      "Score: 0.01667175441980362\t Topic: 0.021*\"home\" + 0.015*\"tasmanian\" + 0.014*\"high\" + 0.014*\"price\" + 0.013*\"women\"\n",
      "Score: 0.016671014949679375\t Topic: 0.044*\"australia\" + 0.023*\"election\" + 0.021*\"south\" + 0.014*\"test\" + 0.013*\"power\"\n",
      "Score: 0.016668202355504036\t Topic: 0.036*\"trump\" + 0.031*\"government\" + 0.016*\"donald\" + 0.013*\"hour\" + 0.013*\"deal\"\n",
      "Score: 0.016668176278471947\t Topic: 0.031*\"queensland\" + 0.023*\"coast\" + 0.020*\"live\" + 0.015*\"claim\" + 0.015*\"gold\"\n",
      "Score: 0.016667908057570457\t Topic: 0.017*\"state\" + 0.017*\"country\" + 0.016*\"rural\" + 0.014*\"hospital\" + 0.012*\"change\"\n",
      "Score: 0.01666787639260292\t Topic: 0.020*\"market\" + 0.014*\"share\" + 0.012*\"fall\" + 0.011*\"news\" + 0.010*\"port\"\n",
      "Score: 0.016667647287249565\t Topic: 0.015*\"plan\" + 0.014*\"health\" + 0.014*\"fund\" + 0.014*\"council\" + 0.012*\"help\"\n"
     ]
    }
   ],
   "source": [
    "unseen_document = 'How a Pentagon deal became an identity crisis for Google'\n",
    "bow_vector = dictionary.doc2bow(preprocess(unseen_document))\n",
    "\n",
    "for index, score in sorted(lda_model_tfidf[bow_vector], key=lambda tup: -1*tup[1]):\n",
    "    print(\"Score: {}\\t Topic: {}\".format(score, lda_model.print_topic(index, 5)))"
   ]
  },
  {
   "cell_type": "code",
   "execution_count": null,
   "metadata": {},
   "outputs": [],
   "source": []
  }
 ],
 "metadata": {
  "kernelspec": {
   "display_name": "Python 3",
   "language": "python",
   "name": "python3"
  },
  "language_info": {
   "codemirror_mode": {
    "name": "ipython",
    "version": 3
   },
   "file_extension": ".py",
   "mimetype": "text/x-python",
   "name": "python",
   "nbconvert_exporter": "python",
   "pygments_lexer": "ipython3",
   "version": "3.7.2"
  }
 },
 "nbformat": 4,
 "nbformat_minor": 2
}
