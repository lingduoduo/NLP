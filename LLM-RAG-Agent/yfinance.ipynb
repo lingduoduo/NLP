{
 "cells": [
  {
   "cell_type": "code",
   "execution_count": 19,
   "id": "0f0f2a4e-6973-427e-9d3c-7c89fdf2ff0f",
   "metadata": {},
   "outputs": [],
   "source": [
    "import os\n",
    "from openai import OpenAI\n",
    "from dotenv import load_dotenv, find_dotenv\n",
    "\n",
    "_ = load_dotenv(find_dotenv()) # read local .env file\n",
    "openai_api_key = os.getenv('OPENAI_API_KEY')"
   ]
  },
  {
   "cell_type": "code",
   "execution_count": 11,
   "id": "9e1afcd4-38aa-46d6-bb8f-38dbf2c353d1",
   "metadata": {},
   "outputs": [],
   "source": [
    "import yfinance as yf"
   ]
  },
  {
   "cell_type": "code",
   "execution_count": 31,
   "id": "01538efa-3b5b-4d59-a080-fa175b0de706",
   "metadata": {},
   "outputs": [],
   "source": [
    "ticker_symbol = 'CPI'\n",
    "ticker= yf.Ticker(ticker_symbol)"
   ]
  },
  {
   "cell_type": "code",
   "execution_count": 32,
   "id": "d6fefe6b",
   "metadata": {},
   "outputs": [
    {
     "name": "stderr",
     "output_type": "stream",
     "text": [
      "404 Client Error: Not Found for url: https://query2.finance.yahoo.com/v10/finance/quoteSummary/USCPI?modules=financialData%2CquoteType%2CdefaultKeyStatistics%2CassetProfile%2CsummaryDetail&corsDomain=finance.yahoo.com&formatted=false&symbol=USCPI&crumb=A.kLB6E60GH\n"
     ]
    },
    {
     "data": {
      "text/plain": [
       "{'trailingPegRatio': None}"
      ]
     },
     "execution_count": 32,
     "metadata": {},
     "output_type": "execute_result"
    }
   ],
   "source": [
    "ticker.info"
   ]
  },
  {
   "cell_type": "code",
   "execution_count": 14,
   "id": "0675a59b",
   "metadata": {},
   "outputs": [],
   "source": [
    "news_data = ticker.news"
   ]
  },
  {
   "cell_type": "code",
   "execution_count": 15,
   "id": "e3d92c46",
   "metadata": {},
   "outputs": [
    {
     "name": "stdout",
     "output_type": "stream",
     "text": [
      "Headline 1: CPI Card Group Inc. to Release Second Quarter Results on August 5, 2024\n",
      "URL: https://finance.yahoo.com/news/cpi-card-group-inc-release-130000001.html\n",
      "\n",
      "Headline 2: CPI Aerostructures, Inc. and MST Manufacturing Sign Long Term Agreement\n",
      "URL: https://finance.yahoo.com/news/cpi-aerostructures-inc-mst-manufacturing-200500108.html\n",
      "\n",
      "Headline 3: While institutions own 21% of CPI Card Group Inc. (NASDAQ:PMTS), private equity firms are its largest shareholders with 57% ownership\n",
      "URL: https://finance.yahoo.com/news/while-institutions-own-21-cpi-164051802.html\n",
      "\n",
      "Headline 4: CPI Card Group Inc. Announces Closing of Private Offering of $285 Million of Senior Secured Notes and Entry into New $75 Million ABL Revolver\n",
      "URL: https://finance.yahoo.com/news/cpi-card-group-inc-announces-200500347.html\n",
      "\n",
      "Headline 5: CPI Aerostructures, Inc. Delivers First Pod Structure of Latest Production Contract for Next Generation Jammer Mid-Band Program to Raytheon\n",
      "URL: https://finance.yahoo.com/news/cpi-aerostructures-inc-delivers-first-120000780.html\n",
      "\n",
      "Headline 6: CPI Card Unit Prices $285 Million Private Debt Offering\n",
      "URL: https://finance.yahoo.com/news/cpi-card-unit-prices-285-212815631.html\n",
      "\n",
      "Headline 7: CPI Card Group Inc. Announces Pricing of Private Offering of $285 Million of Senior Secured Notes\n",
      "URL: https://finance.yahoo.com/news/cpi-card-group-inc-announces-200500197.html\n",
      "\n",
      "Headline 8: CPI Card's Unit Commences Private Offering of $285 Million Senior Secured Notes Due 2029\n",
      "URL: https://finance.yahoo.com/news/cpi-card-apos-unit-commences-124530498.html\n",
      "\n"
     ]
    }
   ],
   "source": [
    "# Display the headlines and URLs\n",
    "for idx, news_item in enumerate(news_data, start=1): \n",
    "    title = news_item['title']\n",
    "    link = news_item['link']\n",
    "    print(f\"Headline {idx}: {title}\")\n",
    "    print(f\"URL: {link}\\n\")"
   ]
  },
  {
   "cell_type": "code",
   "execution_count": 16,
   "id": "2ea11fde-e8b1-4326-a0b3-54c081576c07",
   "metadata": {},
   "outputs": [
    {
     "name": "stdout",
     "output_type": "stream",
     "text": [
      "Headline : CPI Card Group Inc. to Release Second Quarter Results on August 5, 2024\n",
      "URL: https://finance.yahoo.com/news/cpi-card-group-inc-release-130000001.html\n",
      "\n"
     ]
    }
   ],
   "source": [
    "title = news_data[0]['title'] \n",
    "link = news_data[0]['link'] \n",
    "print(f\"Headline : {title}\") \n",
    "print(f\"URL: {link}\\n\")"
   ]
  },
  {
   "cell_type": "code",
   "execution_count": 17,
   "id": "19ef14a6",
   "metadata": {},
   "outputs": [
    {
     "name": "stdout",
     "output_type": "stream",
     "text": [
      "Company also announces it will participate in the KeyBanc Technology Leadership Forum on August 6, 2024LITTLETON, Colo., July 24, 2024--(BUSINESS WIRE)--CPI Card Group Inc. (Nasdaq: PMTS) (\"CPI Card Group\"), a payments technology company and leading provider of credit, debit, and prepaid card and digital solutions, including Software-as-a-Service-based instant issuance, today announced it will host a webcast and conference call on Monday August 5, 2024 at 4:30 p.m. Eastern Time (ET) to discuss its second quarter financial results. Participating on the call will be President and Chief Executive Officer John Lowe and Chief Financial Officer Jeff Hochstadt.The Company also announced that it will be participating in the KeyBanc Technology Leadership Forum in Vail on August 6, 2024. John Lowe, Jeff Hochstadt and Mike Salop, SVP of Investor Relations, are scheduled to host investor meetings during the event.CPI Card Group’s financial results for the second quarter will be released after the markets close on August 5, 2024. The press release and a slide presentation to accompany the earnings conference call will be available on the CPI Card Group investor website: CPI Card Group - Investor Relations (https://investor.cpicardgroup.com).The conference call may be accessed via telephone or online:U.S. dial-in number (toll-free): 888-330-3573International: 646-960-0677Conference ID: 8062733Webcast Link: CPI Q2 Webcast or at https://investor.cpicardgroup.comParticipants are advised to login for the webcast 10 minutes prior to the scheduled start time.A replay of the conference call will be available until August 19, 2024 at:U.S. dial-in number (toll free): 800-770-2030International: 609-800-9909Conference ID: 8062733A webcast replay of the conference call will also be available on CPI Card Group Inc.’s Investor Relations web site: https://investor.cpicardgroup.comAbout CPI Card Group Inc.CPI Card Group is a payments technology company providing a comprehensive range of credit, debit, and prepaid card and digital solutions, including Software-as-a-Service (SaaS) instant issuance. With a focus on building personal relationships and earning trust, we help our customers navigate the constantly evolving world of payments, while delivering innovative solutions that spark connections and support their brands. We serve clients across industry, size, and scale through our team of experienced, dedicated employees and our network of high-security production and card services facilities—located in the United States. CPI was named one of the 2024 Best Companies to Work For by U.S. News and World Report and is committed to exceeding our customers’ expectations, transforming our industry, and enhancing the way people pay every day. Learn more at www.CPIcardgroup.com.Story continuesView source version on businesswire.com: https://www.businesswire.com/news/home/20240724940376/en/ContactsCPI Card Group Inc. Investor Relations:(877) 369-9016InvestorRelations@cpicardgroup.comView comments(0)\n"
     ]
    }
   ],
   "source": [
    "import requests\n",
    "from bs4 import BeautifulSoup\n",
    "\n",
    "response = requests.get(link)\n",
    "\n",
    "if response.status_code == 200:\n",
    "    soup = BeautifulSoup(response.text, 'html.parser') \n",
    "    article_content = soup.find('div', {'class': 'caas-body'}) \n",
    "    article_text = article_content.get_text() \n",
    "    print(article_text)\n",
    "else:\n",
    "    print('Failed to fetch the article. Check the URL or your internet␣↪connection.')"
   ]
  },
  {
   "cell_type": "code",
   "execution_count": 18,
   "id": "c74172b0",
   "metadata": {},
   "outputs": [
    {
     "data": {
      "text/plain": [
       "<div class=\"caas-body\"><figure class=\"caas-figure\"><div class=\"caas-figure-with-pb\" style=\"max-height: 300px\"><div><div class=\"caas-img-container\" style=\"padding-bottom:41%\"><img alt=\"\" class=\"caas-img has-preview\" data-src=\"https://s.yimg.com/ny/api/res/1.2/7Gtfvw809NYVWn5matfUpA--/YXBwaWQ9aGlnaGxhbmRlcjt3PTk2MDtoPTM5Nw--/https://media.zenfs.com/en/business-wire.com/7cf595941394fddf53fadf24da092729\" src=\"https://s.yimg.com/ny/api/res/1.2/7Gtfvw809NYVWn5matfUpA--/YXBwaWQ9aGlnaGxhbmRlcjt3PTk2MDtoPTM5Nw--/https://media.zenfs.com/en/business-wire.com/7cf595941394fddf53fadf24da092729\"/></div></div></div></figure><p><b><i>Company also announces it will participate in the KeyBanc Technology Leadership Forum on August 6, 2024</i></b></p><p><b>LITTLETON, Colo., July 24, 2024</b>--(<a class=\"link\" data-ylk=\"slk:BUSINESS WIRE;elm:context_link;itc:0;sec:content-canvas\" href=\"https://www.businesswire.com\" rel=\"nofollow noopener\" target=\"_blank\">BUSINESS WIRE</a>)--CPI Card Group Inc. (Nasdaq: PMTS) (\"CPI Card Group\"), a payments technology company and leading provider of credit, debit, and prepaid card and digital solutions, including Software-as-a-Service-based instant issuance, today announced it will host a webcast and conference call on Monday August 5, 2024 at 4:30 p.m. Eastern Time (ET) to discuss its second quarter financial results. Participating on the call will be President and Chief Executive Officer John Lowe and Chief Financial Officer Jeff Hochstadt.</p><p>The Company also announced that it will be participating in the KeyBanc Technology Leadership Forum in Vail on August 6, 2024. John Lowe, Jeff Hochstadt and Mike Salop, SVP of Investor Relations, are scheduled to host investor meetings during the event.</p><div class=\"caas-da\"><div class=\"wafer-benji caas-sda-benji-ad\" data-hide-ad-string=\"\" data-wf-benji-config='{\"positions\":{\"INARTICLE-565e692c-1969-38b2-827f-785007cb2ff81721826525567\":{\"id\":\"INARTICLE-565e692c-1969-38b2-827f-785007cb2ff81721826525567\",\"path\":\"/22888152279/us/yfin/ros/dt/us_yfin_ros_dt_mid_center\",\"region\":\"index\",\"size\":[[728,90],[970,250]],\"kvs\":{\"loc\":\"mid_center\"}}}}' data-wf-benji-page-context='{\"pageUrl\":\"https://finance.yahoo.com/news/cpi-card-group-inc-release-130000001.html\",\"spaceid\":\"1183300102\",\"site\":\"finance\",\"hashtag\":\"investments;finance\",\"lmsid\":\"a077000000Ln957AAB\",\"lpstaid\":\"565e692c-1969-38b2-827f-785007cb2ff8\",\"pct\":\"story\"}' data-wf-benji-wafer-config='{\"updateI13n\":true}' data-wf-margin=\"100 0\" data-wf-trigger=\"onLoad\" id=\"sda-INARTICLE-565e692c-1969-38b2-827f-785007cb2ff81721826525567\"><div id=\"INARTICLE-565e692c-1969-38b2-827f-785007cb2ff81721826525567\"></div></div></div><p>CPI Card Group’s financial results for the second quarter will be released after the markets close on August 5, 2024. The press release and a slide presentation to accompany the earnings conference call will be available on the CPI Card Group investor website: <a class=\"link\" data-ylk=\"slk:CPI Card Group - Investor Relations;elm:context_link;itc:0;sec:content-canvas\" href=\"https://cts.businesswire.com/ct/CT?id=smartlink&amp;url=https%3A%2F%2Finvestor.cpicardgroup.com%2Foverview%2Fdefault.aspx&amp;esheet=54098398&amp;newsitemid=20240724940376&amp;lan=en-US&amp;anchor=CPI+Card+Group+-+Investor+Relations&amp;index=1&amp;md5=c39bb4fdf67f78ee96c601f21c535c53\" rel=\"nofollow noopener\" target=\"_blank\">CPI Card Group - Investor Relations</a> (<a class=\"link\" data-ylk=\"slk:https://investor.cpicardgroup.com;elm:context_link;itc:0;sec:content-canvas\" href=\"https://cts.businesswire.com/ct/CT?id=smartlink&amp;url=https%3A%2F%2Finvestor.cpicardgroup.com&amp;esheet=54098398&amp;newsitemid=20240724940376&amp;lan=en-US&amp;anchor=https%3A%2F%2Finvestor.cpicardgroup.com&amp;index=2&amp;md5=dcdef8446a20a8de853199c27df45db7\" rel=\"nofollow noopener\" target=\"_blank\">https://investor.cpicardgroup.com</a>).</p><p>The conference call may be accessed via telephone or online:<br/>U.S. dial-in number (toll-free): 888-330-3573<br/>International: 646-960-0677<br/>Conference ID: 8062733<br/>Webcast Link: <a class=\"link\" data-ylk=\"slk:CPI Q2 Webcast;elm:context_link;itc:0;sec:content-canvas\" href=\"https://cts.businesswire.com/ct/CT?id=smartlink&amp;url=https%3A%2F%2Fevents.q4inc.com%2Fattendee%2F591685060&amp;esheet=54098398&amp;newsitemid=20240724940376&amp;lan=en-US&amp;anchor=CPI+Q2+Webcast&amp;index=3&amp;md5=eb7fc02343ad2abf0da00ee53efd7731\" rel=\"nofollow noopener\" target=\"_blank\">CPI Q2 Webcast</a> or at <a class=\"link\" data-ylk=\"slk:https://investor.cpicardgroup.com;elm:context_link;itc:0;sec:content-canvas\" href=\"https://cts.businesswire.com/ct/CT?id=smartlink&amp;url=https%3A%2F%2Finvestor.cpicardgroup.com&amp;esheet=54098398&amp;newsitemid=20240724940376&amp;lan=en-US&amp;anchor=https%3A%2F%2Finvestor.cpicardgroup.com&amp;index=4&amp;md5=003fccb47de47152f50226ac3d2f08ea\" rel=\"nofollow noopener\" target=\"_blank\">https://investor.cpicardgroup.com</a></p><p>Participants are advised to login for the webcast 10 minutes prior to the scheduled start time.</p><p>A replay of the conference call will be available until August 19, 2024 at:<br/>U.S. dial-in number (toll free): 800-770-2030<br/>International: 609-800-9909<br/>Conference ID: 8062733</p><p>A webcast replay of the conference call will also be available on CPI Card Group Inc.’s Investor Relations web site: <a class=\"link\" data-ylk=\"slk:https://investor.cpicardgroup.com;elm:context_link;itc:0;sec:content-canvas\" href=\"https://cts.businesswire.com/ct/CT?id=smartlink&amp;url=https%3A%2F%2Finvestor.cpicardgroup.com&amp;esheet=54098398&amp;newsitemid=20240724940376&amp;lan=en-US&amp;anchor=https%3A%2F%2Finvestor.cpicardgroup.com&amp;index=5&amp;md5=928692ffc25ad3458e09734292a73fa5\" rel=\"nofollow noopener\" target=\"_blank\">https://investor.cpicardgroup.com</a></p><p><b>About CPI Card Group Inc.</b></p><p>CPI Card Group is a payments technology company providing a comprehensive range of credit, debit, and prepaid card and digital solutions, including Software-as-a-Service (SaaS) instant issuance. With a focus on building personal relationships and earning trust, we help our customers navigate the constantly evolving world of payments, while delivering innovative solutions that spark connections and support their brands. We serve clients across industry, size, and scale through our team of experienced, dedicated employees and our network of high-security production and card services facilities—located in the United States. CPI was named one of the 2024 Best Companies to Work For by U.S. News and World Report and is committed to exceeding our customers’ expectations, transforming our industry, and enhancing the way people pay every day. Learn more at <a class=\"link\" data-ylk=\"slk:www.CPIcardgroup.com;elm:context_link;itc:0;sec:content-canvas\" href=\"https://cts.businesswire.com/ct/CT?id=smartlink&amp;url=http%3A%2F%2Fwww.CPIcardgroup.com&amp;esheet=54098398&amp;newsitemid=20240724940376&amp;lan=en-US&amp;anchor=www.CPIcardgroup.com&amp;index=6&amp;md5=e9bac80784961b3aa7e239a457efccd2\" rel=\"nofollow noopener\" target=\"_blank\">www.CPIcardgroup.com</a>.</p><div class=\"caas-readmore caas-readmore-collapse\"><button class=\"link caas-button readmore-button-finance collapse-button readmore-button-class\" data-ylk=\"elm:readmore;slk:Story continues\"><span class=\"readmoreButtonText\">Story continues</span></button></div><p><span>View source version on businesswire.com: </span><span><a class=\"link\" data-ylk=\"slk:https://www.businesswire.com/news/home/20240724940376/en/;elm:context_link;itc:0;sec:content-canvas\" href=\"https://www.businesswire.com/news/home/20240724940376/en/\" rel=\"nofollow noopener\" target=\"_blank\">https://www.businesswire.com/news/home/20240724940376/en/</a></span></p><p><b>Contacts</b></p><p>CPI Card Group Inc. Investor Relations:<br/>(877) 369-9016<br/><a class=\"link\" data-ylk=\"slk:InvestorRelations@cpicardgroup.com;elm:context_link;itc:0;sec:content-canvas\" href=\"mailto:InvestorRelations@cpicardgroup.com\" rel=\"nofollow\">InvestorRelations@cpicardgroup.com</a></p><div class=\"view-cmts-cta-wrapper\" id=\"view-cmts-cta-565e692c-1969-38b2-827f-785007cb2ff8\"><button class=\"link caas-button readmore-button-finance view-cmts-cta readmore-button-class\" data-uuid=\"565e692c-1969-38b2-827f-785007cb2ff8\" data-ylk=\"sec:view-cmnts-cta;subsec:openweb;elm:cmmt_open;slk:View Comments;itc:1;g:565e692c-1969-38b2-827f-785007cb2ff8\"><span class=\"neoChatBubble icon\"><svg height=\"24\" viewbox=\"0 0 24 24\" width=\"24\"><path d=\"M21.99 4C21.99 2.9 21.1 2 20 2H4C2.9 2 2 2.9 2 4V16C2 17.1 2.9 18 4 18H18L22 22L21.99 4ZM20 4V17.17L18.83 16H4V4H20ZM6 12H18V14H6V12ZM6 9H18V11H6V9ZM6 6H18V8H6V6Z\"></path></svg></span><span class=\"readmoreButtonText\">View comments</span>(<span class=\"reactions-count caas-dynamic-count\" data-id=\"565e692c-1969-38b2-827f-785007cb2ff8\" data-source=\"spotIm\" data-type=\"commentsCount\">0</span>)</button></div></div>"
      ]
     },
     "execution_count": 18,
     "metadata": {},
     "output_type": "execute_result"
    }
   ],
   "source": [
    "article_content"
   ]
  },
  {
   "cell_type": "code",
   "execution_count": 21,
   "id": "9121b489",
   "metadata": {},
   "outputs": [],
   "source": [
    "from openai import OpenAI\n",
    "\n",
    "client = OpenAI(api_key=openai_api_key)"
   ]
  },
  {
   "cell_type": "code",
   "execution_count": 27,
   "id": "9c7000e7",
   "metadata": {},
   "outputs": [
    {
     "name": "stdout",
     "output_type": "stream",
     "text": [
      "Summary:\n",
      "CPI Card Group Inc. will host a webcast and conference call on August 5, 2024, at 4:30 p.m. ET to discuss its second quarter financial results, which will be released after market close that day. The call will feature CEO John Lowe and CFO Jeff Hochstadt. In addition, the company will participate in the KeyBanc Technology Leadership Forum in Vail on August 6, 2024, with meetings hosted by Lowe, Hochstadt, and SVP of Investor Relations Mike Salop. A replay of the conference call will be available until August 19, 2024. CPI Card Group is a leading provider of payment solutions, including cards and digital services, and was recognized as one of the 2024 Best Companies to Work For by U.S. News and World Report. More information is available on their investor relations website.\n"
     ]
    }
   ],
   "source": [
    "def summarize_report(text):\n",
    "    response = client.chat.completions.create(\n",
    "        model=\"gpt-4o-mini\",\n",
    "        messages=[\n",
    "            {\"role\": \"system\", \"content\": \"You are a helpful assistant.\"},\n",
    "    {\"role\": \"user\", \"content\": \"Summarize the following␣ ↪text:\\n\" + text}\n",
    "    ] )\n",
    "    return response.choices[0].message\n",
    "\n",
    "summary = summarize_report(article_text) \n",
    "print(\"Summary:\\n\" + summary.content)"
   ]
  },
  {
   "cell_type": "code",
   "execution_count": 28,
   "id": "2c867fe3",
   "metadata": {},
   "outputs": [
    {
     "name": "stdout",
     "output_type": "stream",
     "text": [
      "Sentiment:\n",
      "The sentiment of the provided text is predominantly positive. Here are the key elements that contribute to this sentiment analysis:\n",
      "\n",
      "1. **Announcements of Future Events**: The company is announcing participation in upcoming events, such as the KeyBanc Technology Leadership Forum and a conference call to discuss its financial results, which indicates proactive communication and engagement with investors and stakeholders.\n",
      "\n",
      "2. **Leadership Engagement**: The mention of company executives (CEO John Lowe and CFO Jeff Hochstadt) participating in the conference call and investor meetings suggests strong leadership involvement and transparency, which are generally viewed positively.\n",
      "\n",
      "3. **Positive Company Image**: The text states that CPI Card Group was named one of the \"2024 Best Companies to Work For\" by U.S. News and World Report. This recognition enhances the company's reputation and conveys a positive image.\n",
      "\n",
      "4. **Commitment to Customers and Innovation**: The description of the company's efforts to build relationships, exceed customer expectations, and deliver innovative solutions reflects a strong commitment to growth and customer satisfaction, further contributing to the overall positive sentiment.\n",
      "\n",
      "5. **Professionalism and Transparency**: The detailed information provided about the conference call logistics (how to access it, replay information) indicates a commitment to professionalism and making it easy for investors to connect, which is favorable.\n",
      "\n",
      "Overall, the text is structured around corporate announcements that reflect optimism, leadership involvement, and a strong commitment to innovation and customer service, making the sentiment primarily positive.\n"
     ]
    }
   ],
   "source": [
    "def analyze_sentiment(text):\n",
    "    response = client.chat.completions.create(\n",
    "        model=\"gpt-4o-mini\",\n",
    "        messages=[\n",
    "            {\"role\": \"system\", \"content\": \"You are a helpful assistant.\"},\n",
    "    {\"role\": \"user\", \"content\": \"Analyze the sentiment of the following␣ ↪text:\\n\" + text}\n",
    "    ] )\n",
    "    return response.choices[0].message\n",
    "\n",
    "sentiment = analyze_sentiment(article_text) \n",
    "print(\"Sentiment:\\n\" + sentiment.content)"
   ]
  },
  {
   "cell_type": "markdown",
   "id": "964c74f2",
   "metadata": {},
   "source": [
    "### Financial Report Summarization"
   ]
  },
  {
   "cell_type": "markdown",
   "id": "e9c868e9",
   "metadata": {},
   "source": [
    "def summarize_report(report_text):\n",
    "prompt='Summarize the following financial report: \"\"\"\\n' + report_text +␣\n",
    "↪'\\n\"\"\"',\n",
    "    response = client.chat.completions.create(\n",
    "      model=\"gpt-3.5-turbo\",\n",
    "      messages=[\n",
    "        {\"role\": \"system\", \"content\": \"You are a helpful assistant.\"},\n",
    "        {\"role\": \"user\", \"content\": file_content}\n",
    "      ]\n",
    ")\n",
    "return response.choices[0].message\n",
    "# # Sample financial report text (replace with your own)\n",
    "# financial_report = \"\"\"\n",
    "# [Insert the chunk from you file_content here, of the file_content if it's not␣\n",
    "↪too long] # \"\"\"\n",
    "summary = summarize_report(file_content)"
   ]
  },
  {
   "cell_type": "code",
   "execution_count": null,
   "id": "c3216fa3",
   "metadata": {},
   "outputs": [],
   "source": []
  }
 ],
 "metadata": {
  "kernelspec": {
   "display_name": "Python 3 (ipykernel)",
   "language": "python",
   "name": "python3"
  },
  "language_info": {
   "codemirror_mode": {
    "name": "ipython",
    "version": 3
   },
   "file_extension": ".py",
   "mimetype": "text/x-python",
   "name": "python",
   "nbconvert_exporter": "python",
   "pygments_lexer": "ipython3",
   "version": "3.10.14"
  }
 },
 "nbformat": 4,
 "nbformat_minor": 5
}
