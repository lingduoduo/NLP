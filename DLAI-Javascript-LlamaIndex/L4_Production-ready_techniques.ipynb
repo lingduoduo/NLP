{
 "cells": [
  {
   "cell_type": "markdown",
   "id": "32d013f7",
   "metadata": {},
   "source": [
    "# L4: Production-ready techniques"
   ]
  },
  {
   "cell_type": "markdown",
   "id": "f0d3bbc6",
   "metadata": {},
   "source": [
    "In this lesson, you are going to learn about some production techniques, and integrate them into a web app."
   ]
  },
  {
   "cell_type": "code",
   "execution_count": 2,
   "id": "541218e2",
   "metadata": {},
   "outputs": [],
   "source": [
    "const handler = (req) => {\n",
    "    // Create a new response object\n",
    "    const body = new TextEncoder().encode(\"Hello World!\");\n",
    "    return new Response(body, { status: 200 });\n",
    "  };"
   ]
  },
  {
   "cell_type": "code",
   "execution_count": 3,
   "id": "f58ba1ca",
   "metadata": {},
   "outputs": [
    {
     "name": "stderr",
     "output_type": "stream",
     "text": [
      "Listening on http://0.0.0.0:8001/\n"
     ]
    }
   ],
   "source": [
    "let server = Deno.serve({ port: 8001 }, handler);"
   ]
  },
  {
   "cell_type": "code",
   "execution_count": 4,
   "id": "193349d1",
   "metadata": {},
   "outputs": [],
   "source": [
    "const response = await fetch(\"http://localhost:8001\")"
   ]
  },
  {
   "cell_type": "code",
   "execution_count": 5,
   "id": "72a5fcb0",
   "metadata": {},
   "outputs": [
    {
     "data": {
      "text/plain": [
       "\u001b[32m\"Hello World!\"\u001b[39m"
      ]
     },
     "execution_count": 5,
     "metadata": {},
     "output_type": "execute_result"
    }
   ],
   "source": [
    "await response.text()"
   ]
  },
  {
   "cell_type": "code",
   "execution_count": 6,
   "id": "48d8f0f0",
   "metadata": {},
   "outputs": [],
   "source": [
    "await server.shutdown()"
   ]
  },
  {
   "cell_type": "markdown",
   "id": "49412c5b",
   "metadata": {},
   "source": [
    "### Import required dependencies and load the API key"
   ]
  },
  {
   "cell_type": "code",
   "execution_count": null,
   "id": "df8739ce-2780-4c8a-b52d-0fb81edaa365",
   "metadata": {},
   "outputs": [],
   "source": [
    "// import * as mod from \"https://deno.land/std@0.213.0/dotenv/mod.ts\";\n",
    "import { \n",
    "    Document, \n",
    "    VectorStoreIndex, \n",
    "    SimpleDirectoryReader,\n",
    "    RouterQueryEngine,\n",
    "    storageContextFromDefaults,\n",
    "    ContextChatEngine\n",
    "} from \"npm:llamaindex@0.1.12\"\n",
    "const keys = \"sk-**\" // read API key from .env"
   ]
  },
  {
   "cell_type": "markdown",
   "id": "99e39887",
   "metadata": {},
   "source": [
    "## 1. Persisting your data"
   ]
  },
  {
   "cell_type": "markdown",
   "id": "1407d627",
   "metadata": {},
   "source": [
    "### Set up a storage context"
   ]
  },
  {
   "cell_type": "code",
   "execution_count": 8,
   "id": "382754f9-07a9-4a05-849c-184ab340c882",
   "metadata": {},
   "outputs": [
    {
     "name": "stderr",
     "output_type": "stream",
     "text": [
      "No valid data found at path: storage/doc_store.json starting new store.\n",
      "No valid data found at path: storage/index_store.json starting new store.\n",
      "No valid data found at path: ./storage/vector_store.json starting new store.\n"
     ]
    }
   ],
   "source": [
    "const storageContext = await storageContextFromDefaults({\n",
    "  persistDir: \"./storage\",\n",
    "});"
   ]
  },
  {
   "cell_type": "markdown",
   "id": "2de8fa27",
   "metadata": {},
   "source": [
    "### Load the data and create an index"
   ]
  },
  {
   "cell_type": "code",
   "execution_count": null,
   "id": "4d4ae1ec",
   "metadata": {},
   "outputs": [],
   "source": [
    "process.env.OPENAI_API_KEY = keys"
   ]
  },
  {
   "cell_type": "code",
   "execution_count": 11,
   "id": "0a83bc49-d1cf-43b8-b5f2-e229de0920ba",
   "metadata": {},
   "outputs": [],
   "source": [
    "const documents = await new SimpleDirectoryReader().loadData({\n",
    "  directoryPath: \"./data\", // we have the React wikipedia page in here\n",
    "});\n",
    "let index = await VectorStoreIndex.fromDocuments(documents, {\n",
    "  storageContext\n",
    "});"
   ]
  },
  {
   "cell_type": "markdown",
   "id": "70183617",
   "metadata": {},
   "source": [
    "### Let's ask it a question!"
   ]
  },
  {
   "cell_type": "code",
   "execution_count": 13,
   "id": "afe86f98-219e-46ba-b577-39e29f8adbd0",
   "metadata": {},
   "outputs": [
    {
     "name": "stdout",
     "output_type": "stream",
     "text": [
      "[object Response]\n"
     ]
    }
   ],
   "source": [
    "let engine = await index.asQueryEngine()\n",
    "let response2 = await engine.query({query:\"What is JSX?\"})\n",
    "console.log(response.toString())"
   ]
  },
  {
   "cell_type": "markdown",
   "id": "7607dfb3",
   "metadata": {},
   "source": [
    "### Get an index without parsing the documents "
   ]
  },
  {
   "cell_type": "code",
   "execution_count": 14,
   "id": "d2d47e4a-e6c0-415f-92be-45ebba67be98",
   "metadata": {},
   "outputs": [],
   "source": [
    "let storageContext2 = await storageContextFromDefaults({\n",
    "    persistDir: \"./storage\",\n",
    "});"
   ]
  },
  {
   "cell_type": "markdown",
   "id": "a91dad78",
   "metadata": {},
   "source": [
    "### Initialize the index"
   ]
  },
  {
   "cell_type": "code",
   "execution_count": 15,
   "id": "8d6f0326-7144-4b5b-95f5-ba5f3e9cfc21",
   "metadata": {},
   "outputs": [],
   "source": [
    "let index2 = await VectorStoreIndex.init({\n",
    "    storageContext: storageContext2\n",
    "});"
   ]
  },
  {
   "cell_type": "markdown",
   "id": "23ab2471",
   "metadata": {},
   "source": [
    "### Let's query it!"
   ]
  },
  {
   "cell_type": "code",
   "execution_count": 16,
   "id": "d154581a-2a5c-4143-ac49-c98107d8262f",
   "metadata": {},
   "outputs": [
    {
     "name": "stdout",
     "output_type": "stream",
     "text": [
      "JSX is a syntax extension for JavaScript that allows developers to write HTML-like code within their JavaScript files when working with React. It makes it easier to write and understand React components by combining HTML and JavaScript in a single file.\n"
     ]
    }
   ],
   "source": [
    "let engine2 = await index2.asQueryEngine()\n",
    "let response3 = await engine2.query({query:\"What is JSX?\"})\n",
    "console.log(response2.toString())"
   ]
  },
  {
   "cell_type": "markdown",
   "id": "988aecd0",
   "metadata": {},
   "source": [
    "## 2. Chatting with your data"
   ]
  },
  {
   "cell_type": "markdown",
   "id": "4bedb39c",
   "metadata": {},
   "source": [
    "### Create a retriever and a new chat engine"
   ]
  },
  {
   "cell_type": "code",
   "execution_count": 17,
   "id": "19489e8c-d71a-4b21-bccf-245cd8be42ae",
   "metadata": {},
   "outputs": [
    {
     "data": {
      "text/plain": [
       "\u001b[33m3\u001b[39m"
      ]
     },
     "execution_count": 17,
     "metadata": {},
     "output_type": "execute_result"
    }
   ],
   "source": [
    "const retriever = index2.asRetriever();\n",
    "retriever.similarityTopK = 3;\n",
    "\n",
    "let chatEngine = new ContextChatEngine({\n",
    "    retriever,\n",
    "});\n"
   ]
  },
  {
   "cell_type": "markdown",
   "id": "8d0bc17d",
   "metadata": {},
   "source": [
    "### Let's try it!"
   ]
  },
  {
   "cell_type": "code",
   "execution_count": 18,
   "id": "5eaebc17-aa7e-452b-ab89-493726fc66a2",
   "metadata": {},
   "outputs": [],
   "source": [
    "let messageHistory = [\n",
    "    {\n",
    "        role: \"user\",\n",
    "        content: \"What is JSX?\"\n",
    "    },\n",
    "    {\n",
    "        role: \"assistant\",\n",
    "        content: \"JSX stands for JavaScript Syntax Extension. It is an extension to the JavaScript language syntax that provides a way to structure component rendering using syntax familiar to many developers. JSX is similar in appearance to HTML and is typically used to write React components, although components can also be written in pure JavaScript. It was created by Facebook and is similar to another extension syntax created for PHP called XHP.\"\n",
    "    }\n",
    "]"
   ]
  },
  {
   "cell_type": "code",
   "execution_count": 19,
   "id": "bc0a2005-096e-44f2-9949-06ff3419a011",
   "metadata": {},
   "outputs": [],
   "source": [
    "let newMessage = \"What was that last thing you mentioned?\"\n"
   ]
  },
  {
   "cell_type": "code",
   "execution_count": 22,
   "id": "1a18f788-f146-48b9-ba39-f224ad829327",
   "metadata": {},
   "outputs": [
    {
     "name": "stdout",
     "output_type": "stream",
     "text": [
      "The last thing I mentioned was XHP. XHP is an extension syntax for PHP that was also created by Facebook. It allows developers to write PHP code using XML-like syntax, making it easier to work with complex HTML structures and maintain code readability. XHP is primarily used in the context of building web applications with PHP.\n"
     ]
    }
   ],
   "source": [
    "const response4 = await chatEngine.chat({\n",
    "  message: newMessage,\n",
    "  chatHistory: messageHistory\n",
    "});\n",
    "console.log(response4.toString())"
   ]
  },
  {
   "cell_type": "markdown",
   "id": "4c466165",
   "metadata": {},
   "source": [
    "## 3. Streaming"
   ]
  },
  {
   "cell_type": "markdown",
   "id": "70fcbe70",
   "metadata": {},
   "source": [
    "### Setting stream to true!"
   ]
  },
  {
   "cell_type": "code",
   "execution_count": 23,
   "id": "67a85874-e775-4175-8936-0294020dbdd5",
   "metadata": {},
   "outputs": [
    {
     "name": "stdout",
     "output_type": "stream",
     "text": [
      "Response {\n",
      "  metadata: {},\n",
      "  response: \"The last thing I mentioned was XHP. XHP is an extension syntax for PHP that was also created by Facebook. It allows developers to write PHP code using XML-like syntax, making it easier to work with complex HTML structures and maintain code readability. XHP is primarily used in the context of building web applications with PHP.\",\n",
      "  sourceNodes: [\n",
      "    TextNode {\n",
      "      id_: \"ee24574a-538e-4858-86cd-0191d212cf08\",\n",
      "      metadata: {},\n",
      "      excludedEmbedMetadataKeys: [],\n",
      "      excludedLlmMetadataKeys: [],\n",
      "      relationships: {\n",
      "        SOURCE: {\n",
      "          nodeId: \"./data/abramov.txt\",\n",
      "          metadata: {},\n",
      "          hash: \"HPM6aKQO4S9cxAZf/SEinz9ZkBg8PvCKV7D6KypcnQk=\"\n",
      "        },\n",
      "        PREVIOUS: {\n",
      "          nodeId: \"6af9af6d-94f6-4176-8796-77138c5e695c\",\n",
      "          metadata: {},\n",
      "          hash: \"SfOgFxgwrwu5FH4XRf3DltHDqkbdE7PTNZ/veWRElWw=\"\n",
      "        },\n",
      "        NEXT: {\n",
      "          nodeId: \"ae934730-f9b7-488c-9291-5b8f0c8889a6\",\n",
      "          metadata: {},\n",
      "          hash: \"Le4J/4xFiS50QG3gsn+HM7pPGCpIb9arpFQLRMiGWuU=\"\n",
      "        }\n",
      "      },\n",
      "      hash: \"dRg9QIH/ap9yZiSM1T682APhwCzfMuKmYo2Va/VLjso=\",\n",
      "      text: \"A short digression. I’m not saying colleges are worthless, or that you should drop out. It was the right decision for me, but I knew I could fall back on my family (more on that later) when things are tough. I also already had a job. I had the privilege to be seen as knowledgeable by default due to my background (a guy who started coding early). People who don’t fit this stereotype often get a degree just to gain access to that assumed competence. So there’s that. 2011\\n\" +\n",
      "        \"Most of my job was fixing up poor code after cheaper outsourcing companies. Having no industry experience myself, I overengineered every project to try every cool technology I could get my hands on. I even put random Microsoft Research projects in production. Sorry about that. I did some good work too. My first interesting work project involved a trip. Our client was an investment group in New York. I still don’t know anything about investments, but basically they had an email system that received orders, and those orders needed to go through different levels of approval. They had a service that manages that, but the service was extremely flaky, and nobody could figure out how it works. My job was to go onsite, work from New York for a month, and fix the service. The service was written by a contractor from a cheaper outsourcing company. Nine years later, I still remember his name. The most memorable part of that code was a single thirty thousand line function. To figure out what it does, I had to print it on paper, lay out the sheets on my desk, and annotate them with a pencil. It turned out that it was the same block of code, repeated fifty times with different conditions. I guess someone was paid by the number of lines of code. I spent that month adding a shitton of logging to figure out what the service does in production, and then rebuilding it from scratch to be less flaky. Working with a non-tech company was a perplexing experience. For example, I couldn’t push a bugfix without writing a Word document describing my changes and getting the IT department head to sign off on it. Now that’s some code review. Close to the end of my trip, I went to see a concert at a bar late at night. The next morning I was supposed to present my month of work to the client. My meeting was scheduled for 9am. Unfortunately, I overslept and only woke up at 1pm that day. My manager apologized for me, and I went home bitterly embarrassed. There were no repercussions at work. The project was a success overall, and the client knew I’m some weird Russian dude who doesn’t know how to groom his hair. But I knew I made a fool of myself. I also wasn’t particularly looking forward to more “enterprise projects”. Work became a chore. I was back in Saint Petersburg in Russia. In the summer, the sky there doesn’t go dark. During one night of soul-searching, I hopped from a bar to another with a vague sense of unease. Around 7am, a lightbulb went off in my head. I ate a shawarma, took a subway to the office, waited for HR, and quit my job. My friend was planning a trip to Crimea (before it got annexed) and asked if I would like to join. I packed up a tent and an old Nokia phone that held battery for a week. We camped for two weeks, mostly naked, in a fog of alternative mind states. I barely remember anything from that trip except two episodes. Once, somebody threatened me with a knife. That person said he would kill me, but he was gone the next day, and everything went on as normal. Another time, I foolishly tried to swim around the cliff alone and almost drowned. I was saved by a rock in the sea that I climbed and passed out on for what felt like an hour. This trip acted like a hardware reset. My burnout was cured, and I was ready to write code again. (But don’t say I told you to almost die to cure a burnout. )\\n\" +\n",
      "        \"The only problem was… my skills were irrelevant! Yikes. You see, I was mostly writing desktop software. Has anyone even heard of desktop software? That’s not a thing anymore. Either you do backend, or you do mobile, or you do front-end. I didn’t know anything about either of them. And I didn’t have a job. So I had to move back to live with my Mom. (Thanks, Mom! )\\n\" +\n",
      "        \"Soon, I saw a post on a social network.\",\n",
      "      textTemplate: \"\",\n",
      "      metadataSeparator: \"\\n\",\n",
      "      type: \"TEXT\"\n",
      "    },\n",
      "    TextNode {\n",
      "      id_: \"1891b5ad-f1a0-49de-83e2-d6d38bbcf846\",\n",
      "      metadata: {},\n",
      "      excludedEmbedMetadataKeys: [],\n",
      "      excludedLlmMetadataKeys: [],\n",
      "      relationships: {\n",
      "        SOURCE: {\n",
      "          nodeId: \"./data/abramov.txt\",\n",
      "          metadata: {},\n",
      "          hash: \"HPM6aKQO4S9cxAZf/SEinz9ZkBg8PvCKV7D6KypcnQk=\"\n",
      "        },\n",
      "        PREVIOUS: {\n",
      "          nodeId: \"7d02fa49-3575-4d90-9a04-6e43ee3d372b\",\n",
      "          metadata: {},\n",
      "          hash: \"/x7gnTDDPoYvMVpA0VdJNB/lyLp9b1WtapYKndbNcNM=\"\n",
      "        },\n",
      "        NEXT: {\n",
      "          nodeId: \"9d3a80ec-e9f2-46f9-924b-fe0b583e5776\",\n",
      "          metadata: {},\n",
      "          hash: \"N5CMkclWMAuN4MLrt0l1MnXUryi8w4r27njtUhEoxsM=\"\n",
      "        }\n",
      "      },\n",
      "      hash: \"DmoNYsyu0VFFp+4tdX70zlb3WY9fRCCo0YmJeuy1gQQ=\",\n",
      "      text: \"It was growing, but slowly and linearly. The company was running out of funding and struggled to raise more money. And I wanted to spend more and more time on my open source projects. I also wanted to give my first conference talk. Naturally, I wanted to talk about hot reloading, but I knew somebody already mentioned it at ReactConf, and I thought people wouldn’t be excited about it. I decided to add some spice to my talk proposal by adding “with time travel” — again, inspired by Bret’s demo. The proposal got accepted, and for a few months I didn’t think much about it. In April, my salary got delayed by several weeks. It went through eventually, but I realized it’s time to look for a new job. I found some company using one of my projects, and they agreed to sponsor my work on it for a few months. My girlfriend asked if I wanted to get married. I said I thought I’d get married late in my 30s. She asked: “Why? ” I couldn’t really find any justification for waiting so we soon bought rings and got married. Our wedding has cost us $100. The deadline for my talk was approaching. But I had no idea how to implement “time travel”. I knew that Elm had something similar, but I was scared to look at it because I worried I’d find out time travel can’t be implemented well in JS. At the time, there were many Flux libraries. I’ve tried a few of those, notably Flummox by Andrew Clark, and I had a vague sense that making hot reloading work with Flux would also let me implement time travel. Sunil’s gist led me to an idea: a variant of Flux pattern with a reducer function instead of a store. I had a neat name in mind for it already. And I really needed it for my talk! I implemented Redux just in time for my demo of time travel. My first talk rehearsal was on Skype. I was sweating, mumbling, and running over it too fast. At the end of my rehearsal, I asked the organizer if my talk was any good. He said “well… people like you” which I took as an euphemism for horrible. I asked a designer friend from the startup I just quit to help make my slides pretty. I added animations and transitions. The more polished my talk looked, the calmer and more confident I felt. I practiced it a dozen times. I flew to Paris for my first technical conference. This was probably the happiest day of my life. For the first time, I put faces next to avatars. There were UI nerds and my personal heroes around me. It felt like going to Hogwarts. My talk almost didn’t happen. In the morning, I found that my laptop refused to connect to the projector. I only had a few hours left. Christopher Chedeau was kind enough to lend me his laptop, and I transferred my live demo setup to his computer (except for the Sublime license, as you may know if you watched it). At first, my demo didn’t run on Christopher’s laptop because we had different Node versions. The conference WiFi was so bad that downloading another Node version was a non-starter. Luckily, I found an npm command that rebuilds the binaries. It saved my demo. I gave my talk with his computer, and it went well. I met many people in the audience who I already knew from Twitter. One of them was Jing Chen. I remembered her from our IRC chat on the React channel, and came to say hi. She asked whether FB recruiters contacted me before, and I said I couldn’t get a US visa. Jing asked whether I’m interested in working at the London office, and I had no idea there even was a London office! I called my wife and asked if she’s up for moving to London. I thought she’d hate the idea, but she immediately said yes. So I said yes to an interview. There were four people from FB at the conference, so Jing arranged a full interview right at the conference hotel. It was a regular interview process, except it was in Paris and everyone was sweaty because it was so hot outside. Everything happened so spontaneously that I neither had time to prepare, nor to get nervous. At one point I freaked out and panicked because I couldn’t write three lines of code that swap two items in an array. I asked Jing to look away for a few seconds. She said “I know you can swap two items”, and that gave me the confidence to finish the answer and make it through the interview. I probably didn’t pass with flying colors, but I got the offer. My talk got really popular.\",\n",
      "      textTemplate: \"\",\n",
      "      metadataSeparator: \"\\n\",\n",
      "      type: \"TEXT\"\n",
      "    },\n",
      "    TextNode {\n",
      "      id_: \"9f36488d-cbaa-470a-9650-10f919f36fcd\",\n",
      "      metadata: {},\n",
      "      excludedEmbedMetadataKeys: [],\n",
      "      excludedLlmMetadataKeys: [],\n",
      "      relationships: {\n",
      "        SOURCE: {\n",
      "          nodeId: \"./data/abramov.txt\",\n",
      "          metadata: {},\n",
      "          hash: \"HPM6aKQO4S9cxAZf/SEinz9ZkBg8PvCKV7D6KypcnQk=\"\n",
      "        },\n",
      "        PREVIOUS: {\n",
      "          nodeId: \"9d3a80ec-e9f2-46f9-924b-fe0b583e5776\",\n",
      "          metadata: {},\n",
      "          hash: \"N5CMkclWMAuN4MLrt0l1MnXUryi8w4r27njtUhEoxsM=\"\n",
      "        }\n",
      "      },\n",
      "      hash: \"9UmQ/UpKQom5OWuSjaIdv6GIKqOKJL4JJY/xDypmHZs=\",\n",
      "      text: \"I was preallocated. However, I wasn’t very excited about React Native in particular. I talked to Tom Occhino (he managed the React team at that time), and he suggested that I can join the React Core team (based in US) as the only UK member. I was already used to remote work from open source, so I agreed. In 2016, there was a React boom, but everybody made their own “boilerplate” with a bundler, watcher, compiler, and so on. React became synonymous with modular JavaScript, ES6, and all the tooling complexity. Christopher Chedeau suggested to prototype a command-line interface for getting started with React. We made the first version in a few weeks and released Create React App. 2017\\n\" +\n",
      "        \"Egghead courses continued to bring steady side income with royalties. I didn’t think twice before spending them on food delivery or nice clothes. It’s only in 2017 that I came to realize that these royalties are taxable as foreign income, and that I owe Her Majesty something like $30k. Oops. Like an adult, I got an accountant. Fixing this mess depleted all my savings again. At work, we spent most of 2017 rewriting React from scratch. You know the result of it as React 16. Sophie tells the story of how we did it here. Aside from taxes, there wasn’t a lot happening in my personal life. I was still settling in. I got less shy dealing with bureaucracies. I could make and take phone calls without freaking out. I watched movies without subtitles. I learned how to deal with NHS and with private insurance. I stopped doing side projects. 2018–2019\\n\" +\n",
      "        \"The last two years have been a blur. I’m still too close to them to have a clear perspective on what was important. Professionally, our projects are as demanding as ever. If you follow React, you know about some things we have been working on. I’ve grown as an engineer, and still have much to learn. Our London team has grown — I’m not alone now. People occasionally recognize me. This is humbling. Someone once recognized me in a sauna and started complaining about React. Please don’t be that person. I got promoted. I started this blog as a side project. I have another side project coming, which I’ve been musing about for the better part of these two years. I met more people from the internet and put more faces to avatars. This is fun. I always knew that I liked building UIs. I got hooked on Visual Basic. I spent this decade building UIs, and then building a way to build UIs. And then talking about it and explaining it. But I realize now that my drive to explain things is just as important to me as my drive to build. Perhaps, even more important. I look forward to doing more of that in the next decade. Or, should I say, this decade? Welcome to the twenties.\",\n",
      "      textTemplate: \"\",\n",
      "      metadataSeparator: \"\\n\",\n",
      "      type: \"TEXT\"\n",
      "    }\n",
      "  ]\n",
      "}\n"
     ]
    }
   ],
   "source": [
    "const response5 = await chatEngine.chat({\n",
    "  message: newMessage,\n",
    "  chatHistory: messageHistory,\n",
    "  stream: true,\n",
    "});\n",
    "console.log(response4)"
   ]
  },
  {
   "cell_type": "markdown",
   "id": "c719a935",
   "metadata": {},
   "source": [
    "### Check the response!"
   ]
  },
  {
   "cell_type": "code",
   "execution_count": 25,
   "id": "f61332af-1a63-44ec-8581-999345398fb3",
   "metadata": {},
   "outputs": [
    {
     "name": "stdout",
     "output_type": "stream",
     "text": [
      "\n",
      "The\n",
      " last\n",
      " thing\n",
      " I\n",
      " mentioned\n",
      " was\n",
      " the\n",
      " twenties\n",
      ".\n",
      " In\n",
      " the\n",
      " context\n",
      " of\n",
      " the\n",
      " passage\n",
      ",\n",
      " it\n",
      " refers\n",
      " to\n",
      " the\n",
      " next\n",
      " decade\n",
      ",\n",
      " specifically\n",
      " the\n",
      " \n",
      "202\n",
      "0\n",
      "s\n",
      ".\n",
      " The\n",
      " author\n",
      " is\n",
      " expressing\n",
      " their\n",
      " anticipation\n",
      " and\n",
      " excitement\n",
      " for\n",
      " the\n",
      " future\n",
      " and\n",
      " the\n",
      " opportunities\n",
      " it\n",
      " holds\n",
      " for\n",
      " them\n",
      " to\n",
      " continue\n",
      " building\n",
      " and\n",
      " explaining\n",
      " things\n",
      ".\n",
      "\n"
     ]
    }
   ],
   "source": [
    "for await (const data of response5) {\n",
    "    console.log(data.response); // Print the data\n",
    "}"
   ]
  },
  {
   "cell_type": "markdown",
   "id": "1f696259",
   "metadata": {},
   "source": [
    "## Create Llama App"
   ]
  },
  {
   "cell_type": "markdown",
   "id": "b732d778",
   "metadata": {},
   "source": [
    "### Let's see all three techniques in a real web app!"
   ]
  },
  {
   "cell_type": "markdown",
   "id": "fa48c2f5",
   "metadata": {},
   "source": [
    "We will use the utility functions in **utils.ts** file. \n",
    "\n",
    "**Note:** Go to `File` and click on `Open` to access the **utils.ts** file and all the code used in this lesson."
   ]
  },
  {
   "cell_type": "code",
   "execution_count": 26,
   "id": "3f4395d9-875d-42e5-9349-ff298a6fb2e5",
   "metadata": {},
   "outputs": [],
   "source": [
    "import { runCreateLlamaApp } from './utils.ts'"
   ]
  },
  {
   "cell_type": "markdown",
   "id": "6396d481",
   "metadata": {},
   "source": [
    "**Note**: The below code might take a minute to complete. Once done, please click on the link to access the web app!"
   ]
  },
  {
   "cell_type": "code",
   "execution_count": 28,
   "id": "f2c044fa-68b3-4507-bfe1-a6f11aa22b61",
   "metadata": {},
   "outputs": [],
   "source": [
    "// runCreateLlamaApp()"
   ]
  },
  {
   "cell_type": "markdown",
   "id": "153b1eed",
   "metadata": {},
   "source": [
    "### Demonstrate streaming to the UI"
   ]
  },
  {
   "cell_type": "markdown",
   "id": "3f613678",
   "metadata": {},
   "source": [
    "Please note that the link generated above is specific to your notebook and will display the web app set up with our data! \n",
    "\n",
    "Ask it some questions about React. You'll see it instantly answers with a stream."
   ]
  }
 ],
 "metadata": {
  "kernelspec": {
   "display_name": "Deno",
   "language": "typescript",
   "name": "deno"
  },
  "language_info": {
   "codemirror_mode": "typescript",
   "file_extension": ".ts",
   "mimetype": "text/x.typescript",
   "name": "typescript",
   "nbconvert_exporter": "script",
   "pygments_lexer": "typescript",
   "version": "5.6.2"
  }
 },
 "nbformat": 4,
 "nbformat_minor": 5
}
