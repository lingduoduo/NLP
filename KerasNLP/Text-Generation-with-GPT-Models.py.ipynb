{
 "cells": [
  {
   "cell_type": "code",
   "execution_count": 2,
   "id": "933305d3-d1ef-44e0-a035-0fe7d706d854",
   "metadata": {},
   "outputs": [
    {
     "data": {
      "application/vnd.jupyter.widget-view+json": {
       "model_id": "e2cb4ace2bb344fcae27e59f661e38dd",
       "version_major": 2,
       "version_minor": 0
      },
      "text/plain": [
       "Downloading readme:   0%|          | 0.00/7.46k [00:00<?, ?B/s]"
      ]
     },
     "metadata": {},
     "output_type": "display_data"
    },
    {
     "name": "stderr",
     "output_type": "stream",
     "text": [
      "Downloading data: 100%|████████████████████████████████████████████████████████████████████████████████████████████████████████████████████████████████████████████████████████████████████████████████████████| 699k/699k [00:00<00:00, 1.75MB/s]\n",
      "Downloading data: 100%|██████████████████████████████████████████████████████████████████████████████████████████████████████████████████████████████████████████████████████████████████████████████████████| 90.0k/90.0k [00:00<00:00, 1.12MB/s]\n",
      "Downloading data: 100%|███████████████████████████████████████████████████████████████████████████████████████████████████████████████████████████████████████████████████████████████████████████████████████| 92.2k/92.2k [00:00<00:00, 827kB/s]\n"
     ]
    },
    {
     "data": {
      "application/vnd.jupyter.widget-view+json": {
       "model_id": "87ee9137a4c44ce6a784a66879d1e078",
       "version_major": 2,
       "version_minor": 0
      },
      "text/plain": [
       "Generating train split:   0%|          | 0/8530 [00:00<?, ? examples/s]"
      ]
     },
     "metadata": {},
     "output_type": "display_data"
    },
    {
     "data": {
      "application/vnd.jupyter.widget-view+json": {
       "model_id": "d1281921be2f4b6eaa00283baf29db19",
       "version_major": 2,
       "version_minor": 0
      },
      "text/plain": [
       "Generating validation split:   0%|          | 0/1066 [00:00<?, ? examples/s]"
      ]
     },
     "metadata": {},
     "output_type": "display_data"
    },
    {
     "data": {
      "application/vnd.jupyter.widget-view+json": {
       "model_id": "0dc5809664eb49aaa5f0f08601287ed0",
       "version_major": 2,
       "version_minor": 0
      },
      "text/plain": [
       "Generating test split:   0%|          | 0/1066 [00:00<?, ? examples/s]"
      ]
     },
     "metadata": {},
     "output_type": "display_data"
    }
   ],
   "source": [
    "import pandas as pd\n",
    "from datasets import load_dataset\n",
    "tomatoes = load_dataset(\"rotten_tomatoes\")\n",
    " \n",
    "# Pandas for easier control\n",
    "train_df = pd.DataFrame(tomatoes[\"train\"])\n",
    "eval_df = pd.DataFrame(tomatoes[\"test\"])"
   ]
  },
  {
   "cell_type": "code",
   "execution_count": 3,
   "id": "c3c00c71-11df-4ea8-bba0-166267e803d0",
   "metadata": {},
   "outputs": [
    {
     "name": "stdout",
     "output_type": "stream",
     "text": [
      "Collecting simpletransformers\n",
      "  Downloading simpletransformers-0.70.1-py3-none-any.whl.metadata (42 kB)\n",
      "\u001b[2K     \u001b[38;2;114;156;31m━━━━━━━━━━━━━━━━━━━━━━━━━━━━━━━━━━━━━━━━\u001b[0m \u001b[32m42.4/42.4 kB\u001b[0m \u001b[31m4.8 MB/s\u001b[0m eta \u001b[36m0:00:00\u001b[0m\n",
      "\u001b[?25hRequirement already satisfied: numpy in /Users/linghuang/miniconda3/envs/transformers/lib/python3.11/site-packages (from simpletransformers) (1.26.4)\n",
      "Requirement already satisfied: requests in /Users/linghuang/miniconda3/envs/transformers/lib/python3.11/site-packages (from simpletransformers) (2.31.0)\n",
      "Requirement already satisfied: tqdm>=4.47.0 in /Users/linghuang/miniconda3/envs/transformers/lib/python3.11/site-packages (from simpletransformers) (4.66.2)\n",
      "Requirement already satisfied: regex in /Users/linghuang/miniconda3/envs/transformers/lib/python3.11/site-packages (from simpletransformers) (2023.12.25)\n",
      "Requirement already satisfied: transformers>=4.31.0 in /Users/linghuang/miniconda3/envs/transformers/lib/python3.11/site-packages (from simpletransformers) (4.39.3)\n",
      "Requirement already satisfied: datasets in /Users/linghuang/miniconda3/envs/transformers/lib/python3.11/site-packages (from simpletransformers) (2.18.0)\n",
      "Requirement already satisfied: scipy in /Users/linghuang/miniconda3/envs/transformers/lib/python3.11/site-packages (from simpletransformers) (1.13.0)\n",
      "Requirement already satisfied: scikit-learn in /Users/linghuang/miniconda3/envs/transformers/lib/python3.11/site-packages (from simpletransformers) (1.4.2)\n",
      "Collecting seqeval (from simpletransformers)\n",
      "  Downloading seqeval-1.2.2.tar.gz (43 kB)\n",
      "\u001b[2K     \u001b[38;2;114;156;31m━━━━━━━━━━━━━━━━━━━━━━━━━━━━━━━━━━━━━━━━\u001b[0m \u001b[32m43.6/43.6 kB\u001b[0m \u001b[31m6.3 MB/s\u001b[0m eta \u001b[36m0:00:00\u001b[0m\n",
      "\u001b[?25h  Preparing metadata (setup.py) ... \u001b[?25ldone\n",
      "\u001b[?25hRequirement already satisfied: tensorboard in /Users/linghuang/miniconda3/envs/transformers/lib/python3.11/site-packages (from simpletransformers) (2.17.0)\n",
      "Collecting tensorboardx (from simpletransformers)\n",
      "  Downloading tensorboardX-2.6.2.2-py2.py3-none-any.whl.metadata (5.8 kB)\n",
      "Requirement already satisfied: pandas in /Users/linghuang/miniconda3/envs/transformers/lib/python3.11/site-packages (from simpletransformers) (2.2.1)\n",
      "Requirement already satisfied: tokenizers in /Users/linghuang/miniconda3/envs/transformers/lib/python3.11/site-packages (from simpletransformers) (0.15.2)\n",
      "Collecting wandb>=0.10.32 (from simpletransformers)\n",
      "  Downloading wandb-0.17.4-py3-none-macosx_11_0_arm64.whl.metadata (10 kB)\n",
      "Collecting streamlit (from simpletransformers)\n",
      "  Downloading streamlit-1.36.0-py2.py3-none-any.whl.metadata (8.5 kB)\n",
      "Collecting sentencepiece (from simpletransformers)\n",
      "  Downloading sentencepiece-0.2.0-cp311-cp311-macosx_11_0_arm64.whl.metadata (7.7 kB)\n",
      "Requirement already satisfied: filelock in /Users/linghuang/miniconda3/envs/transformers/lib/python3.11/site-packages (from transformers>=4.31.0->simpletransformers) (3.13.1)\n",
      "Requirement already satisfied: huggingface-hub<1.0,>=0.19.3 in /Users/linghuang/miniconda3/envs/transformers/lib/python3.11/site-packages (from transformers>=4.31.0->simpletransformers) (0.22.2)\n",
      "Requirement already satisfied: packaging>=20.0 in /Users/linghuang/miniconda3/envs/transformers/lib/python3.11/site-packages (from transformers>=4.31.0->simpletransformers) (24.0)\n",
      "Requirement already satisfied: pyyaml>=5.1 in /Users/linghuang/miniconda3/envs/transformers/lib/python3.11/site-packages (from transformers>=4.31.0->simpletransformers) (6.0.1)\n",
      "Requirement already satisfied: safetensors>=0.4.1 in /Users/linghuang/miniconda3/envs/transformers/lib/python3.11/site-packages (from transformers>=4.31.0->simpletransformers) (0.4.2)\n",
      "Requirement already satisfied: click!=8.0.0,>=7.1 in /Users/linghuang/miniconda3/envs/transformers/lib/python3.11/site-packages (from wandb>=0.10.32->simpletransformers) (8.1.7)\n",
      "Collecting docker-pycreds>=0.4.0 (from wandb>=0.10.32->simpletransformers)\n",
      "  Downloading docker_pycreds-0.4.0-py2.py3-none-any.whl.metadata (1.8 kB)\n",
      "Collecting gitpython!=3.1.29,>=1.0.0 (from wandb>=0.10.32->simpletransformers)\n",
      "  Using cached GitPython-3.1.43-py3-none-any.whl.metadata (13 kB)\n",
      "Requirement already satisfied: platformdirs in /Users/linghuang/miniconda3/envs/transformers/lib/python3.11/site-packages (from wandb>=0.10.32->simpletransformers) (4.2.0)\n",
      "Requirement already satisfied: protobuf!=4.21.0,<6,>=3.19.0 in /Users/linghuang/miniconda3/envs/transformers/lib/python3.11/site-packages (from wandb>=0.10.32->simpletransformers) (4.25.3)\n",
      "Requirement already satisfied: psutil>=5.0.0 in /Users/linghuang/miniconda3/envs/transformers/lib/python3.11/site-packages (from wandb>=0.10.32->simpletransformers) (5.9.8)\n",
      "Collecting sentry-sdk>=1.0.0 (from wandb>=0.10.32->simpletransformers)\n",
      "  Downloading sentry_sdk-2.10.0-py2.py3-none-any.whl.metadata (14 kB)\n",
      "Collecting setproctitle (from wandb>=0.10.32->simpletransformers)\n",
      "  Downloading setproctitle-1.3.3-cp311-cp311-macosx_10_9_universal2.whl.metadata (9.9 kB)\n",
      "Requirement already satisfied: setuptools in /Users/linghuang/miniconda3/envs/transformers/lib/python3.11/site-packages (from wandb>=0.10.32->simpletransformers) (68.2.2)\n",
      "Requirement already satisfied: charset-normalizer<4,>=2 in /Users/linghuang/miniconda3/envs/transformers/lib/python3.11/site-packages (from requests->simpletransformers) (2.0.4)\n",
      "Requirement already satisfied: idna<4,>=2.5 in /Users/linghuang/miniconda3/envs/transformers/lib/python3.11/site-packages (from requests->simpletransformers) (3.7)\n",
      "Requirement already satisfied: urllib3<3,>=1.21.1 in /Users/linghuang/miniconda3/envs/transformers/lib/python3.11/site-packages (from requests->simpletransformers) (2.2.1)\n",
      "Requirement already satisfied: certifi>=2017.4.17 in /Users/linghuang/miniconda3/envs/transformers/lib/python3.11/site-packages (from requests->simpletransformers) (2024.2.2)\n",
      "Requirement already satisfied: pyarrow>=12.0.0 in /Users/linghuang/miniconda3/envs/transformers/lib/python3.11/site-packages (from datasets->simpletransformers) (15.0.2)\n",
      "Requirement already satisfied: pyarrow-hotfix in /Users/linghuang/miniconda3/envs/transformers/lib/python3.11/site-packages (from datasets->simpletransformers) (0.6)\n",
      "Requirement already satisfied: dill<0.3.9,>=0.3.0 in /Users/linghuang/miniconda3/envs/transformers/lib/python3.11/site-packages (from datasets->simpletransformers) (0.3.8)\n",
      "Requirement already satisfied: xxhash in /Users/linghuang/miniconda3/envs/transformers/lib/python3.11/site-packages (from datasets->simpletransformers) (3.4.1)\n",
      "Requirement already satisfied: multiprocess in /Users/linghuang/miniconda3/envs/transformers/lib/python3.11/site-packages (from datasets->simpletransformers) (0.70.16)\n",
      "Requirement already satisfied: fsspec<=2024.2.0,>=2023.1.0 in /Users/linghuang/miniconda3/envs/transformers/lib/python3.11/site-packages (from fsspec[http]<=2024.2.0,>=2023.1.0->datasets->simpletransformers) (2024.2.0)\n",
      "Requirement already satisfied: aiohttp in /Users/linghuang/miniconda3/envs/transformers/lib/python3.11/site-packages (from datasets->simpletransformers) (3.9.3)\n",
      "Requirement already satisfied: python-dateutil>=2.8.2 in /Users/linghuang/miniconda3/envs/transformers/lib/python3.11/site-packages (from pandas->simpletransformers) (2.9.0.post0)\n",
      "Requirement already satisfied: pytz>=2020.1 in /Users/linghuang/miniconda3/envs/transformers/lib/python3.11/site-packages (from pandas->simpletransformers) (2024.1)\n",
      "Requirement already satisfied: tzdata>=2022.7 in /Users/linghuang/miniconda3/envs/transformers/lib/python3.11/site-packages (from pandas->simpletransformers) (2024.1)\n",
      "Requirement already satisfied: joblib>=1.2.0 in /Users/linghuang/miniconda3/envs/transformers/lib/python3.11/site-packages (from scikit-learn->simpletransformers) (1.4.0)\n",
      "Requirement already satisfied: threadpoolctl>=2.0.0 in /Users/linghuang/miniconda3/envs/transformers/lib/python3.11/site-packages (from scikit-learn->simpletransformers) (3.4.0)\n",
      "Requirement already satisfied: altair<6,>=4.0 in /Users/linghuang/miniconda3/envs/transformers/lib/python3.11/site-packages (from streamlit->simpletransformers) (5.3.0)\n",
      "Collecting blinker<2,>=1.0.0 (from streamlit->simpletransformers)\n",
      "  Using cached blinker-1.8.2-py3-none-any.whl.metadata (1.6 kB)\n",
      "Collecting cachetools<6,>=4.0 (from streamlit->simpletransformers)\n",
      "  Downloading cachetools-5.4.0-py3-none-any.whl.metadata (5.3 kB)\n",
      "Requirement already satisfied: pillow<11,>=7.1.0 in /Users/linghuang/miniconda3/envs/transformers/lib/python3.11/site-packages (from streamlit->simpletransformers) (10.3.0)\n",
      "Requirement already satisfied: rich<14,>=10.14.0 in /Users/linghuang/miniconda3/envs/transformers/lib/python3.11/site-packages (from streamlit->simpletransformers) (13.7.1)\n",
      "Requirement already satisfied: tenacity<9,>=8.1.0 in /Users/linghuang/miniconda3/envs/transformers/lib/python3.11/site-packages (from streamlit->simpletransformers) (8.2.3)\n",
      "Collecting toml<2,>=0.10.1 (from streamlit->simpletransformers)\n",
      "  Using cached toml-0.10.2-py2.py3-none-any.whl.metadata (7.1 kB)\n",
      "Requirement already satisfied: typing-extensions<5,>=4.3.0 in /Users/linghuang/miniconda3/envs/transformers/lib/python3.11/site-packages (from streamlit->simpletransformers) (4.11.0)\n",
      "Collecting pydeck<1,>=0.8.0b4 (from streamlit->simpletransformers)\n",
      "  Using cached pydeck-0.9.1-py2.py3-none-any.whl.metadata (4.1 kB)\n",
      "Requirement already satisfied: tornado<7,>=6.0.3 in /Users/linghuang/miniconda3/envs/transformers/lib/python3.11/site-packages (from streamlit->simpletransformers) (6.4)\n",
      "Requirement already satisfied: absl-py>=0.4 in /Users/linghuang/miniconda3/envs/transformers/lib/python3.11/site-packages (from tensorboard->simpletransformers) (2.1.0)\n",
      "Requirement already satisfied: grpcio>=1.48.2 in /Users/linghuang/miniconda3/envs/transformers/lib/python3.11/site-packages (from tensorboard->simpletransformers) (1.62.1)\n",
      "Requirement already satisfied: markdown>=2.6.8 in /Users/linghuang/miniconda3/envs/transformers/lib/python3.11/site-packages (from tensorboard->simpletransformers) (3.6)\n",
      "Requirement already satisfied: six>1.9 in /Users/linghuang/miniconda3/envs/transformers/lib/python3.11/site-packages (from tensorboard->simpletransformers) (1.16.0)\n",
      "Requirement already satisfied: tensorboard-data-server<0.8.0,>=0.7.0 in /Users/linghuang/miniconda3/envs/transformers/lib/python3.11/site-packages (from tensorboard->simpletransformers) (0.7.0)\n",
      "Requirement already satisfied: werkzeug>=1.0.1 in /Users/linghuang/miniconda3/envs/transformers/lib/python3.11/site-packages (from tensorboard->simpletransformers) (3.0.3)\n",
      "Requirement already satisfied: jinja2 in /Users/linghuang/miniconda3/envs/transformers/lib/python3.11/site-packages (from altair<6,>=4.0->streamlit->simpletransformers) (3.1.3)\n",
      "Requirement already satisfied: jsonschema>=3.0 in /Users/linghuang/miniconda3/envs/transformers/lib/python3.11/site-packages (from altair<6,>=4.0->streamlit->simpletransformers) (4.21.1)\n",
      "Requirement already satisfied: toolz in /Users/linghuang/miniconda3/envs/transformers/lib/python3.11/site-packages (from altair<6,>=4.0->streamlit->simpletransformers) (0.12.1)\n",
      "Requirement already satisfied: aiosignal>=1.1.2 in /Users/linghuang/miniconda3/envs/transformers/lib/python3.11/site-packages (from aiohttp->datasets->simpletransformers) (1.3.1)\n",
      "Requirement already satisfied: attrs>=17.3.0 in /Users/linghuang/miniconda3/envs/transformers/lib/python3.11/site-packages (from aiohttp->datasets->simpletransformers) (23.2.0)\n",
      "Requirement already satisfied: frozenlist>=1.1.1 in /Users/linghuang/miniconda3/envs/transformers/lib/python3.11/site-packages (from aiohttp->datasets->simpletransformers) (1.4.1)\n",
      "Requirement already satisfied: multidict<7.0,>=4.5 in /Users/linghuang/miniconda3/envs/transformers/lib/python3.11/site-packages (from aiohttp->datasets->simpletransformers) (6.0.5)\n",
      "Requirement already satisfied: yarl<2.0,>=1.0 in /Users/linghuang/miniconda3/envs/transformers/lib/python3.11/site-packages (from aiohttp->datasets->simpletransformers) (1.9.4)\n",
      "Collecting gitdb<5,>=4.0.1 (from gitpython!=3.1.29,>=1.0.0->wandb>=0.10.32->simpletransformers)\n",
      "  Using cached gitdb-4.0.11-py3-none-any.whl.metadata (1.2 kB)\n",
      "Requirement already satisfied: markdown-it-py>=2.2.0 in /Users/linghuang/miniconda3/envs/transformers/lib/python3.11/site-packages (from rich<14,>=10.14.0->streamlit->simpletransformers) (3.0.0)\n",
      "Requirement already satisfied: pygments<3.0.0,>=2.13.0 in /Users/linghuang/miniconda3/envs/transformers/lib/python3.11/site-packages (from rich<14,>=10.14.0->streamlit->simpletransformers) (2.17.2)\n",
      "Requirement already satisfied: MarkupSafe>=2.1.1 in /Users/linghuang/miniconda3/envs/transformers/lib/python3.11/site-packages (from werkzeug>=1.0.1->tensorboard->simpletransformers) (2.1.5)\n",
      "Collecting smmap<6,>=3.0.1 (from gitdb<5,>=4.0.1->gitpython!=3.1.29,>=1.0.0->wandb>=0.10.32->simpletransformers)\n",
      "  Using cached smmap-5.0.1-py3-none-any.whl.metadata (4.3 kB)\n",
      "Requirement already satisfied: jsonschema-specifications>=2023.03.6 in /Users/linghuang/miniconda3/envs/transformers/lib/python3.11/site-packages (from jsonschema>=3.0->altair<6,>=4.0->streamlit->simpletransformers) (2023.12.1)\n",
      "Requirement already satisfied: referencing>=0.28.4 in /Users/linghuang/miniconda3/envs/transformers/lib/python3.11/site-packages (from jsonschema>=3.0->altair<6,>=4.0->streamlit->simpletransformers) (0.31.1)\n",
      "Requirement already satisfied: rpds-py>=0.7.1 in /Users/linghuang/miniconda3/envs/transformers/lib/python3.11/site-packages (from jsonschema>=3.0->altair<6,>=4.0->streamlit->simpletransformers) (0.18.0)\n",
      "Requirement already satisfied: mdurl~=0.1 in /Users/linghuang/miniconda3/envs/transformers/lib/python3.11/site-packages (from markdown-it-py>=2.2.0->rich<14,>=10.14.0->streamlit->simpletransformers) (0.1.2)\n",
      "Downloading simpletransformers-0.70.1-py3-none-any.whl (316 kB)\n",
      "\u001b[2K   \u001b[38;2;114;156;31m━━━━━━━━━━━━━━━━━━━━━━━━━━━━━━━━━━━━━━━━\u001b[0m \u001b[32m316.3/316.3 kB\u001b[0m \u001b[31m14.4 MB/s\u001b[0m eta \u001b[36m0:00:00\u001b[0m\n",
      "\u001b[?25hDownloading wandb-0.17.4-py3-none-macosx_11_0_arm64.whl (6.8 MB)\n",
      "\u001b[2K   \u001b[38;2;114;156;31m━━━━━━━━━━━━━━━━━━━━━━━━━━━━━━━━━━━━━━━━\u001b[0m \u001b[32m6.8/6.8 MB\u001b[0m \u001b[31m44.1 MB/s\u001b[0m eta \u001b[36m0:00:00\u001b[0mm eta \u001b[36m0:00:01\u001b[0m0:01\u001b[0m:01\u001b[0m\n",
      "\u001b[?25hDownloading sentencepiece-0.2.0-cp311-cp311-macosx_11_0_arm64.whl (1.2 MB)\n",
      "\u001b[2K   \u001b[38;2;114;156;31m━━━━━━━━━━━━━━━━━━━━━━━━━━━━━━━━━━━━━━━━\u001b[0m \u001b[32m1.2/1.2 MB\u001b[0m \u001b[31m44.0 MB/s\u001b[0m eta \u001b[36m0:00:00\u001b[0m\n",
      "\u001b[?25hDownloading streamlit-1.36.0-py2.py3-none-any.whl (8.6 MB)\n",
      "\u001b[2K   \u001b[38;2;114;156;31m━━━━━━━━━━━━━━━━━━━━━━━━━━━━━━━━━━━━━━━━\u001b[0m \u001b[32m8.6/8.6 MB\u001b[0m \u001b[31m43.9 MB/s\u001b[0m eta \u001b[36m0:00:00\u001b[0mm eta \u001b[36m0:00:01\u001b[0m[36m0:00:01\u001b[0m\n",
      "\u001b[?25hDownloading tensorboardX-2.6.2.2-py2.py3-none-any.whl (101 kB)\n",
      "\u001b[2K   \u001b[38;2;114;156;31m━━━━━━━━━━━━━━━━━━━━━━━━━━━━━━━━━━━━━━━━\u001b[0m \u001b[32m101.7/101.7 kB\u001b[0m \u001b[31m16.1 MB/s\u001b[0m eta \u001b[36m0:00:00\u001b[0m\n",
      "\u001b[?25hUsing cached blinker-1.8.2-py3-none-any.whl (9.5 kB)\n",
      "Downloading cachetools-5.4.0-py3-none-any.whl (9.5 kB)\n",
      "Downloading docker_pycreds-0.4.0-py2.py3-none-any.whl (9.0 kB)\n",
      "Using cached GitPython-3.1.43-py3-none-any.whl (207 kB)\n",
      "Using cached pydeck-0.9.1-py2.py3-none-any.whl (6.9 MB)\n",
      "Downloading sentry_sdk-2.10.0-py2.py3-none-any.whl (302 kB)\n",
      "\u001b[2K   \u001b[38;2;114;156;31m━━━━━━━━━━━━━━━━━━━━━━━━━━━━━━━━━━━━━━━━\u001b[0m \u001b[32m302.1/302.1 kB\u001b[0m \u001b[31m27.8 MB/s\u001b[0m eta \u001b[36m0:00:00\u001b[0m\n",
      "\u001b[?25hUsing cached toml-0.10.2-py2.py3-none-any.whl (16 kB)\n",
      "Downloading setproctitle-1.3.3-cp311-cp311-macosx_10_9_universal2.whl (16 kB)\n",
      "Using cached gitdb-4.0.11-py3-none-any.whl (62 kB)\n",
      "Using cached smmap-5.0.1-py3-none-any.whl (24 kB)\n",
      "Building wheels for collected packages: seqeval\n",
      "  Building wheel for seqeval (setup.py) ... \u001b[?25ldone\n",
      "\u001b[?25h  Created wheel for seqeval: filename=seqeval-1.2.2-py3-none-any.whl size=16162 sha256=e0eb2c98d71b2aaa5edccf45116a68a4970fa26f61607058737fc2846220192f\n",
      "  Stored in directory: /Users/linghuang/Library/Caches/pip/wheels/bc/92/f0/243288f899c2eacdfa8c5f9aede4c71a9bad0ee26a01dc5ead\n",
      "Successfully built seqeval\n",
      "Installing collected packages: sentencepiece, toml, tensorboardx, smmap, setproctitle, sentry-sdk, docker-pycreds, cachetools, blinker, pydeck, gitdb, seqeval, gitpython, wandb, streamlit, simpletransformers\n",
      "Successfully installed blinker-1.8.2 cachetools-5.4.0 docker-pycreds-0.4.0 gitdb-4.0.11 gitpython-3.1.43 pydeck-0.9.1 sentencepiece-0.2.0 sentry-sdk-2.10.0 seqeval-1.2.2 setproctitle-1.3.3 simpletransformers-0.70.1 smmap-5.0.1 streamlit-1.36.0 tensorboardx-2.6.2.2 toml-0.10.2 wandb-0.17.4\n"
     ]
    }
   ],
   "source": [
    "!pip install simpletransformers"
   ]
  },
  {
   "cell_type": "markdown",
   "id": "09667b95-077f-43da-ba1e-9e3f7b9455ed",
   "metadata": {},
   "source": [
    "## Categorizing Text"
   ]
  },
  {
   "cell_type": "code",
   "execution_count": 4,
   "id": "f1550a5f-9515-461c-812f-24652e427859",
   "metadata": {},
   "outputs": [
    {
     "ename": "ValueError",
     "evalue": "'use_cuda' set to True when cuda is unavailable. Make sure CUDA is available or set use_cuda=False.",
     "output_type": "error",
     "traceback": [
      "\u001b[0;31m---------------------------------------------------------------------------\u001b[0m",
      "\u001b[0;31mValueError\u001b[0m                                Traceback (most recent call last)",
      "Cell \u001b[0;32mIn[4], line 19\u001b[0m\n\u001b[1;32m      6\u001b[0m model_args\u001b[38;5;241m.\u001b[39mcustom_parameter_groups \u001b[38;5;241m=\u001b[39m [\n\u001b[1;32m      7\u001b[0m     {\n\u001b[1;32m      8\u001b[0m         \u001b[38;5;124m\"\u001b[39m\u001b[38;5;124mparams\u001b[39m\u001b[38;5;124m\"\u001b[39m: [\u001b[38;5;124m\"\u001b[39m\u001b[38;5;124mclassifier.weight\u001b[39m\u001b[38;5;124m\"\u001b[39m],\n\u001b[0;32m   (...)\u001b[0m\n\u001b[1;32m     15\u001b[0m     },\n\u001b[1;32m     16\u001b[0m ]\n\u001b[1;32m     18\u001b[0m \u001b[38;5;66;03m# Initializing pre-trained BERT model\u001b[39;00m\n\u001b[0;32m---> 19\u001b[0m model \u001b[38;5;241m=\u001b[39m \u001b[43mClassificationModel\u001b[49m\u001b[43m(\u001b[49m\u001b[38;5;124;43m\"\u001b[39;49m\u001b[38;5;124;43mbert\u001b[39;49m\u001b[38;5;124;43m\"\u001b[39;49m\u001b[43m,\u001b[49m\u001b[43m \u001b[49m\u001b[38;5;124;43m\"\u001b[39;49m\u001b[38;5;124;43mbert-base-cased\u001b[39;49m\u001b[38;5;124;43m\"\u001b[39;49m\u001b[43m,\u001b[49m\u001b[43m \u001b[49m\u001b[43margs\u001b[49m\u001b[38;5;241;43m=\u001b[39;49m\u001b[43mmodel_args\u001b[49m\u001b[43m)\u001b[49m\n",
      "File \u001b[0;32m~/miniconda3/envs/transformers/lib/python3.11/site-packages/simpletransformers/classification/classification_model.py:389\u001b[0m, in \u001b[0;36mClassificationModel.__init__\u001b[0;34m(self, model_type, model_name, tokenizer_type, tokenizer_name, num_labels, weight, args, use_cuda, cuda_device, onnx_execution_provider, **kwargs)\u001b[0m\n\u001b[1;32m    387\u001b[0m             \u001b[38;5;28mself\u001b[39m\u001b[38;5;241m.\u001b[39mdevice \u001b[38;5;241m=\u001b[39m torch\u001b[38;5;241m.\u001b[39mdevice(\u001b[38;5;124mf\u001b[39m\u001b[38;5;124m\"\u001b[39m\u001b[38;5;124mcuda:\u001b[39m\u001b[38;5;132;01m{\u001b[39;00mcuda_device\u001b[38;5;132;01m}\u001b[39;00m\u001b[38;5;124m\"\u001b[39m)\n\u001b[1;32m    388\u001b[0m     \u001b[38;5;28;01melse\u001b[39;00m:\n\u001b[0;32m--> 389\u001b[0m         \u001b[38;5;28;01mraise\u001b[39;00m \u001b[38;5;167;01mValueError\u001b[39;00m(\n\u001b[1;32m    390\u001b[0m             \u001b[38;5;124m\"\u001b[39m\u001b[38;5;124m'\u001b[39m\u001b[38;5;124muse_cuda\u001b[39m\u001b[38;5;124m'\u001b[39m\u001b[38;5;124m set to True when cuda is unavailable.\u001b[39m\u001b[38;5;124m\"\u001b[39m\n\u001b[1;32m    391\u001b[0m             \u001b[38;5;124m\"\u001b[39m\u001b[38;5;124m Make sure CUDA is available or set use_cuda=False.\u001b[39m\u001b[38;5;124m\"\u001b[39m\n\u001b[1;32m    392\u001b[0m         )\n\u001b[1;32m    393\u001b[0m \u001b[38;5;28;01melse\u001b[39;00m:\n\u001b[1;32m    394\u001b[0m     \u001b[38;5;28mself\u001b[39m\u001b[38;5;241m.\u001b[39mdevice \u001b[38;5;241m=\u001b[39m \u001b[38;5;124m\"\u001b[39m\u001b[38;5;124mcpu\u001b[39m\u001b[38;5;124m\"\u001b[39m\n",
      "\u001b[0;31mValueError\u001b[0m: 'use_cuda' set to True when cuda is unavailable. Make sure CUDA is available or set use_cuda=False."
     ]
    }
   ],
   "source": [
    "from simpletransformers.classification import ClassificationModel, ClassificationArgs\n",
    " \n",
    "# Train only the classifier layers\n",
    "model_args = ClassificationArgs()\n",
    "model_args.train_custom_parameters_only = True\n",
    "model_args.custom_parameter_groups = [\n",
    "    {\n",
    "        \"params\": [\"classifier.weight\"],\n",
    "        \"lr\": 1e-3,\n",
    "    },\n",
    "    {\n",
    "        \"params\": [\"classifier.bias\"],\n",
    "        \"lr\": 1e-3,\n",
    "        \"weight_decay\": 0.0,\n",
    "    },\n",
    "]\n",
    " \n",
    "# Initializing pre-trained BERT model\n",
    "model = ClassificationModel(\"bert\", \"bert-base-cased\", args=model_args)"
   ]
  },
  {
   "cell_type": "code",
   "execution_count": 1,
   "id": "4d084a33-8e7c-4f71-a4d9-6cd04b250286",
   "metadata": {},
   "outputs": [],
   "source": [
    "import re\n",
    "\n",
    "def clean_text(text):\n",
    "    # Remove special characters, punctuation, and numbers\n",
    "    text = re.sub(r'[^a-zA-Z\\s]', '', text)\n",
    "    # Remove extra whitespaces\n",
    "    text = ' '.join(text.split())\n",
    "    return text\n"
   ]
  },
  {
   "cell_type": "markdown",
   "id": "2974d82f-3d49-4630-8465-ffc9972c0a58",
   "metadata": {},
   "source": [
    "### Preparing Data for Text Generation"
   ]
  },
  {
   "cell_type": "code",
   "execution_count": null,
   "id": "cb65dc95-5861-4091-9dbe-8dfbee516496",
   "metadata": {},
   "outputs": [],
   "source": [
    "import pandas as pd\n",
    "\n",
    "# Randomly sample 20% of the data\n",
    "sampled_df = original_df.sample(frac=0.2, random_state=42)"
   ]
  },
  {
   "cell_type": "markdown",
   "id": "307a244e-8e5c-47b7-b287-8990cae61b70",
   "metadata": {},
   "source": [
    "# from transformers import GPT2Tokenizer\n",
    "\n",
    "# Load the GPT-2 tokenizer\n",
    "tokenizer = GPT2Tokenizer.from_pretrained(\"gpt2\")\n",
    "\n",
    "# Assuming your data is stored in a list of sentences called 'data'\n",
    "encoded_data = tokenizer.batch_encode_plus(\n",
    "    data,\n",
    "    padding=True,\n",
    "    truncation=True,\n",
    "    return_tensors=\"pt\",\n",
    "    max_length=512  # Adjust the max length based on your model\n",
    ")\n",
    "\n",
    "# Extract the input_ids and attention_mask\n",
    "input_ids = encoded_data[\"input_ids\"]\n",
    "attention_mask = encoded_data[\"attention_mask\"]"
   ]
  }
 ],
 "metadata": {
  "kernelspec": {
   "display_name": "Python 3 (ipykernel)",
   "language": "python",
   "name": "python3"
  },
  "language_info": {
   "codemirror_mode": {
    "name": "ipython",
    "version": 3
   },
   "file_extension": ".py",
   "mimetype": "text/x-python",
   "name": "python",
   "nbconvert_exporter": "python",
   "pygments_lexer": "ipython3",
   "version": "3.11.8"
  }
 },
 "nbformat": 4,
 "nbformat_minor": 5
}
