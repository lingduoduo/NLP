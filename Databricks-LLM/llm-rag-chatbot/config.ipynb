{
 "cells": [
  {
   "cell_type": "markdown",
   "metadata": {
    "application/vnd.databricks.v1+cell": {
     "cellMetadata": {},
     "inputWidgets": {},
     "nuid": "d1e6fea2-91ae-4e8e-8285-4dc1567c9e78",
     "showTitle": false,
     "title": ""
    }
   },
   "source": [
    "## Configuration file\n",
    "\n",
    "Please change your catalog and schema here to run the demo on a different catalog.\n",
    "\n",
    "<!-- Collect usage data (view). Remove it to disable collection or disable tracker during installation. View README for more details.  -->\n",
    "<img width=\"1px\" src=\"https://ppxrzfxige.execute-api.us-west-2.amazonaws.com/v1/analytics?category=data-science&org_id=local&notebook=%2Fconfig&demo_name=llm-rag-chatbot&event=VIEW&path=%2F_dbdemos%2Fdata-science%2Fllm-rag-chatbot%2Fconfig&version=1\">"
   ]
  },
  {
   "cell_type": "code",
   "execution_count": 0,
   "metadata": {
    "application/vnd.databricks.v1+cell": {
     "cellMetadata": {},
     "inputWidgets": {},
     "nuid": "eaadb1eb-46a0-460b-b8bf-653866751fd2",
     "showTitle": false,
     "title": ""
    }
   },
   "outputs": [],
   "source": [
    "VECTOR_SEARCH_ENDPOINT_NAME=\"vector-search-endpoint\"\n",
    "\n",
    "DATABRICKS_SITEMAP_URL = \"https://docs.databricks.com/en/doc-sitemap.xml\"\n",
    "\n",
    "catalog = \"ling_test_demo\"\n",
    "\n",
    "#email = spark.sql('select current_user() as user').collect()[0]['user']\n",
    "#username = email.split('@')[0].replace('.', '_')\n",
    "#dbName = db = f\"rag_chatbot_{username}\"\n",
    "dbName = db = \"default\""
   ]
  }
 ],
 "metadata": {
  "application/vnd.databricks.v1+notebook": {
   "dashboards": [],
   "language": "python",
   "notebookMetadata": {
    "pythonIndentUnit": 2
   },
   "notebookName": "config",
   "widgets": {}
  }
 },
 "nbformat": 4,
 "nbformat_minor": 0
}
